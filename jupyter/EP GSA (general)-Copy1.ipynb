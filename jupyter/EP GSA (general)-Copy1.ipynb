{
 "cells": [
  {
   "cell_type": "code",
   "execution_count": 3,
   "id": "5ba866e8",
   "metadata": {},
   "outputs": [],
   "source": [
    "import math\n",
    "import torch\n",
    "import gpytorch\n",
    "import pandas as pd\n",
    "import numpy as np\n",
    "from matplotlib import pyplot as plt\n",
    "\n",
    "\n",
    "import GPE_ensemble as GPE\n",
    "\n",
    "import os\n",
    "from sklearn.linear_model import LinearRegression\n",
    "from sklearn.metrics import mean_squared_error, r2_score\n",
    "from sklearn.model_selection import train_test_split\n",
    "#from GPErks.gp.data.dataset import Dataset\n",
    "from gpytorch.likelihoods import GaussianLikelihood\n",
    "from gpytorch.means import LinearMean\n",
    "from gpytorch.kernels import RBFKernel, ScaleKernel\n",
    "from torchmetrics import MeanSquaredError, R2Score\n",
    "#from GPErks.gp.experiment import GPExperiment\n",
    "#from GPErks.train.emulator import GPEmulator\n",
    "#from GPErks.perks.inference import Inference\n",
    "#from GPErks.train.early_stop import NoEarlyStoppingCriterion\n",
    "#from GPErks.train.early_stop import (\n",
    "#    GLEarlyStoppingCriterion,\n",
    "#    PQEarlyStoppingCriterion,\n",
    "#    UPEarlyStoppingCriterion,\n",
    "#)\n",
    "#from GPErks.train.early_stop import PkEarlyStoppingCriterion\n",
    "\n",
    "\n",
    "\n",
    "%matplotlib inline\n",
    "%load_ext autoreload\n",
    "%autoreload 2\n",
    "\n",
    "# set logger and enforce reproducibility\n",
    "#from GPErks.log.logger import get_logger\n",
    "#from GPErks.utils.random import set_seed\n",
    "#log = get_logger()\n",
    "seed = 7\n",
    "#set_seed(seed)"
   ]
  },
  {
   "cell_type": "code",
   "execution_count": 4,
   "id": "7c20f924",
   "metadata": {},
   "outputs": [],
   "source": [
    "mesh=41"
   ]
  },
  {
   "cell_type": "code",
   "execution_count": 5,
   "id": "b81ecd1f",
   "metadata": {},
   "outputs": [
    {
     "ename": "FileNotFoundError",
     "evalue": "[Errno 2] No such file or directory: '/Users/pmzcwl/Library/CloudStorage/OneDrive-TheUniversityofNottingham/shared_simulations/EP/scenario_41/X.txt'",
     "output_type": "error",
     "traceback": [
      "\u001b[0;31m---------------------------------------------------------------------------\u001b[0m",
      "\u001b[0;31mFileNotFoundError\u001b[0m                         Traceback (most recent call last)",
      "Cell \u001b[0;32mIn[5], line 4\u001b[0m\n\u001b[1;32m      1\u001b[0m x_labels\u001b[38;5;241m=\u001b[39mpd\u001b[38;5;241m.\u001b[39mread_csv(\u001b[38;5;124mr\u001b[39m\u001b[38;5;124m'\u001b[39m\u001b[38;5;124m/Users/pmzcwl/Library/CloudStorage/OneDrive-TheUniversityofNottingham/shared_simulations/EP/scenario_13/xlabels.txt\u001b[39m\u001b[38;5;124m'\u001b[39m,delim_whitespace\u001b[38;5;241m=\u001b[39m\u001b[38;5;28;01mTrue\u001b[39;00m,header\u001b[38;5;241m=\u001b[39m\u001b[38;5;28;01mNone\u001b[39;00m)\n\u001b[0;32m----> 4\u001b[0m X_all \u001b[38;5;241m=\u001b[39m pd\u001b[38;5;241m.\u001b[39mread_csv(\u001b[38;5;124mr\u001b[39m\u001b[38;5;124m'\u001b[39m\u001b[38;5;124m/Users/pmzcwl/Library/CloudStorage/OneDrive-TheUniversityofNottingham/shared_simulations/EP/scenario_\u001b[39m\u001b[38;5;124m'\u001b[39m\u001b[38;5;241m+\u001b[39m\u001b[38;5;28mstr\u001b[39m(mesh)\u001b[38;5;241m+\u001b[39m\u001b[38;5;124m'\u001b[39m\u001b[38;5;124m/X.txt\u001b[39m\u001b[38;5;124m'\u001b[39m,index_col\u001b[38;5;241m=\u001b[39m\u001b[38;5;28;01mNone\u001b[39;00m,delim_whitespace\u001b[38;5;241m=\u001b[39m\u001b[38;5;28;01mTrue\u001b[39;00m,header\u001b[38;5;241m=\u001b[39m\u001b[38;5;28;01mNone\u001b[39;00m)\n\u001b[1;32m      5\u001b[0m X_all\u001b[38;5;241m.\u001b[39mcolumns\u001b[38;5;241m=\u001b[39mx_labels\u001b[38;5;241m.\u001b[39mvalues\u001b[38;5;241m.\u001b[39msqueeze()\u001b[38;5;241m.\u001b[39mtolist()\n\u001b[1;32m      6\u001b[0m \u001b[38;5;28mprint\u001b[39m(X_all)\n",
      "File \u001b[0;32m~/anaconda3/lib/python3.11/site-packages/pandas/io/parsers/readers.py:912\u001b[0m, in \u001b[0;36mread_csv\u001b[0;34m(filepath_or_buffer, sep, delimiter, header, names, index_col, usecols, dtype, engine, converters, true_values, false_values, skipinitialspace, skiprows, skipfooter, nrows, na_values, keep_default_na, na_filter, verbose, skip_blank_lines, parse_dates, infer_datetime_format, keep_date_col, date_parser, date_format, dayfirst, cache_dates, iterator, chunksize, compression, thousands, decimal, lineterminator, quotechar, quoting, doublequote, escapechar, comment, encoding, encoding_errors, dialect, on_bad_lines, delim_whitespace, low_memory, memory_map, float_precision, storage_options, dtype_backend)\u001b[0m\n\u001b[1;32m    899\u001b[0m kwds_defaults \u001b[38;5;241m=\u001b[39m _refine_defaults_read(\n\u001b[1;32m    900\u001b[0m     dialect,\n\u001b[1;32m    901\u001b[0m     delimiter,\n\u001b[0;32m   (...)\u001b[0m\n\u001b[1;32m    908\u001b[0m     dtype_backend\u001b[38;5;241m=\u001b[39mdtype_backend,\n\u001b[1;32m    909\u001b[0m )\n\u001b[1;32m    910\u001b[0m kwds\u001b[38;5;241m.\u001b[39mupdate(kwds_defaults)\n\u001b[0;32m--> 912\u001b[0m \u001b[38;5;28;01mreturn\u001b[39;00m _read(filepath_or_buffer, kwds)\n",
      "File \u001b[0;32m~/anaconda3/lib/python3.11/site-packages/pandas/io/parsers/readers.py:577\u001b[0m, in \u001b[0;36m_read\u001b[0;34m(filepath_or_buffer, kwds)\u001b[0m\n\u001b[1;32m    574\u001b[0m _validate_names(kwds\u001b[38;5;241m.\u001b[39mget(\u001b[38;5;124m\"\u001b[39m\u001b[38;5;124mnames\u001b[39m\u001b[38;5;124m\"\u001b[39m, \u001b[38;5;28;01mNone\u001b[39;00m))\n\u001b[1;32m    576\u001b[0m \u001b[38;5;66;03m# Create the parser.\u001b[39;00m\n\u001b[0;32m--> 577\u001b[0m parser \u001b[38;5;241m=\u001b[39m TextFileReader(filepath_or_buffer, \u001b[38;5;241m*\u001b[39m\u001b[38;5;241m*\u001b[39mkwds)\n\u001b[1;32m    579\u001b[0m \u001b[38;5;28;01mif\u001b[39;00m chunksize \u001b[38;5;129;01mor\u001b[39;00m iterator:\n\u001b[1;32m    580\u001b[0m     \u001b[38;5;28;01mreturn\u001b[39;00m parser\n",
      "File \u001b[0;32m~/anaconda3/lib/python3.11/site-packages/pandas/io/parsers/readers.py:1407\u001b[0m, in \u001b[0;36mTextFileReader.__init__\u001b[0;34m(self, f, engine, **kwds)\u001b[0m\n\u001b[1;32m   1404\u001b[0m     \u001b[38;5;28mself\u001b[39m\u001b[38;5;241m.\u001b[39moptions[\u001b[38;5;124m\"\u001b[39m\u001b[38;5;124mhas_index_names\u001b[39m\u001b[38;5;124m\"\u001b[39m] \u001b[38;5;241m=\u001b[39m kwds[\u001b[38;5;124m\"\u001b[39m\u001b[38;5;124mhas_index_names\u001b[39m\u001b[38;5;124m\"\u001b[39m]\n\u001b[1;32m   1406\u001b[0m \u001b[38;5;28mself\u001b[39m\u001b[38;5;241m.\u001b[39mhandles: IOHandles \u001b[38;5;241m|\u001b[39m \u001b[38;5;28;01mNone\u001b[39;00m \u001b[38;5;241m=\u001b[39m \u001b[38;5;28;01mNone\u001b[39;00m\n\u001b[0;32m-> 1407\u001b[0m \u001b[38;5;28mself\u001b[39m\u001b[38;5;241m.\u001b[39m_engine \u001b[38;5;241m=\u001b[39m \u001b[38;5;28mself\u001b[39m\u001b[38;5;241m.\u001b[39m_make_engine(f, \u001b[38;5;28mself\u001b[39m\u001b[38;5;241m.\u001b[39mengine)\n",
      "File \u001b[0;32m~/anaconda3/lib/python3.11/site-packages/pandas/io/parsers/readers.py:1661\u001b[0m, in \u001b[0;36mTextFileReader._make_engine\u001b[0;34m(self, f, engine)\u001b[0m\n\u001b[1;32m   1659\u001b[0m     \u001b[38;5;28;01mif\u001b[39;00m \u001b[38;5;124m\"\u001b[39m\u001b[38;5;124mb\u001b[39m\u001b[38;5;124m\"\u001b[39m \u001b[38;5;129;01mnot\u001b[39;00m \u001b[38;5;129;01min\u001b[39;00m mode:\n\u001b[1;32m   1660\u001b[0m         mode \u001b[38;5;241m+\u001b[39m\u001b[38;5;241m=\u001b[39m \u001b[38;5;124m\"\u001b[39m\u001b[38;5;124mb\u001b[39m\u001b[38;5;124m\"\u001b[39m\n\u001b[0;32m-> 1661\u001b[0m \u001b[38;5;28mself\u001b[39m\u001b[38;5;241m.\u001b[39mhandles \u001b[38;5;241m=\u001b[39m get_handle(\n\u001b[1;32m   1662\u001b[0m     f,\n\u001b[1;32m   1663\u001b[0m     mode,\n\u001b[1;32m   1664\u001b[0m     encoding\u001b[38;5;241m=\u001b[39m\u001b[38;5;28mself\u001b[39m\u001b[38;5;241m.\u001b[39moptions\u001b[38;5;241m.\u001b[39mget(\u001b[38;5;124m\"\u001b[39m\u001b[38;5;124mencoding\u001b[39m\u001b[38;5;124m\"\u001b[39m, \u001b[38;5;28;01mNone\u001b[39;00m),\n\u001b[1;32m   1665\u001b[0m     compression\u001b[38;5;241m=\u001b[39m\u001b[38;5;28mself\u001b[39m\u001b[38;5;241m.\u001b[39moptions\u001b[38;5;241m.\u001b[39mget(\u001b[38;5;124m\"\u001b[39m\u001b[38;5;124mcompression\u001b[39m\u001b[38;5;124m\"\u001b[39m, \u001b[38;5;28;01mNone\u001b[39;00m),\n\u001b[1;32m   1666\u001b[0m     memory_map\u001b[38;5;241m=\u001b[39m\u001b[38;5;28mself\u001b[39m\u001b[38;5;241m.\u001b[39moptions\u001b[38;5;241m.\u001b[39mget(\u001b[38;5;124m\"\u001b[39m\u001b[38;5;124mmemory_map\u001b[39m\u001b[38;5;124m\"\u001b[39m, \u001b[38;5;28;01mFalse\u001b[39;00m),\n\u001b[1;32m   1667\u001b[0m     is_text\u001b[38;5;241m=\u001b[39mis_text,\n\u001b[1;32m   1668\u001b[0m     errors\u001b[38;5;241m=\u001b[39m\u001b[38;5;28mself\u001b[39m\u001b[38;5;241m.\u001b[39moptions\u001b[38;5;241m.\u001b[39mget(\u001b[38;5;124m\"\u001b[39m\u001b[38;5;124mencoding_errors\u001b[39m\u001b[38;5;124m\"\u001b[39m, \u001b[38;5;124m\"\u001b[39m\u001b[38;5;124mstrict\u001b[39m\u001b[38;5;124m\"\u001b[39m),\n\u001b[1;32m   1669\u001b[0m     storage_options\u001b[38;5;241m=\u001b[39m\u001b[38;5;28mself\u001b[39m\u001b[38;5;241m.\u001b[39moptions\u001b[38;5;241m.\u001b[39mget(\u001b[38;5;124m\"\u001b[39m\u001b[38;5;124mstorage_options\u001b[39m\u001b[38;5;124m\"\u001b[39m, \u001b[38;5;28;01mNone\u001b[39;00m),\n\u001b[1;32m   1670\u001b[0m )\n\u001b[1;32m   1671\u001b[0m \u001b[38;5;28;01massert\u001b[39;00m \u001b[38;5;28mself\u001b[39m\u001b[38;5;241m.\u001b[39mhandles \u001b[38;5;129;01mis\u001b[39;00m \u001b[38;5;129;01mnot\u001b[39;00m \u001b[38;5;28;01mNone\u001b[39;00m\n\u001b[1;32m   1672\u001b[0m f \u001b[38;5;241m=\u001b[39m \u001b[38;5;28mself\u001b[39m\u001b[38;5;241m.\u001b[39mhandles\u001b[38;5;241m.\u001b[39mhandle\n",
      "File \u001b[0;32m~/anaconda3/lib/python3.11/site-packages/pandas/io/common.py:859\u001b[0m, in \u001b[0;36mget_handle\u001b[0;34m(path_or_buf, mode, encoding, compression, memory_map, is_text, errors, storage_options)\u001b[0m\n\u001b[1;32m    854\u001b[0m \u001b[38;5;28;01melif\u001b[39;00m \u001b[38;5;28misinstance\u001b[39m(handle, \u001b[38;5;28mstr\u001b[39m):\n\u001b[1;32m    855\u001b[0m     \u001b[38;5;66;03m# Check whether the filename is to be opened in binary mode.\u001b[39;00m\n\u001b[1;32m    856\u001b[0m     \u001b[38;5;66;03m# Binary mode does not support 'encoding' and 'newline'.\u001b[39;00m\n\u001b[1;32m    857\u001b[0m     \u001b[38;5;28;01mif\u001b[39;00m ioargs\u001b[38;5;241m.\u001b[39mencoding \u001b[38;5;129;01mand\u001b[39;00m \u001b[38;5;124m\"\u001b[39m\u001b[38;5;124mb\u001b[39m\u001b[38;5;124m\"\u001b[39m \u001b[38;5;129;01mnot\u001b[39;00m \u001b[38;5;129;01min\u001b[39;00m ioargs\u001b[38;5;241m.\u001b[39mmode:\n\u001b[1;32m    858\u001b[0m         \u001b[38;5;66;03m# Encoding\u001b[39;00m\n\u001b[0;32m--> 859\u001b[0m         handle \u001b[38;5;241m=\u001b[39m \u001b[38;5;28mopen\u001b[39m(\n\u001b[1;32m    860\u001b[0m             handle,\n\u001b[1;32m    861\u001b[0m             ioargs\u001b[38;5;241m.\u001b[39mmode,\n\u001b[1;32m    862\u001b[0m             encoding\u001b[38;5;241m=\u001b[39mioargs\u001b[38;5;241m.\u001b[39mencoding,\n\u001b[1;32m    863\u001b[0m             errors\u001b[38;5;241m=\u001b[39merrors,\n\u001b[1;32m    864\u001b[0m             newline\u001b[38;5;241m=\u001b[39m\u001b[38;5;124m\"\u001b[39m\u001b[38;5;124m\"\u001b[39m,\n\u001b[1;32m    865\u001b[0m         )\n\u001b[1;32m    866\u001b[0m     \u001b[38;5;28;01melse\u001b[39;00m:\n\u001b[1;32m    867\u001b[0m         \u001b[38;5;66;03m# Binary mode\u001b[39;00m\n\u001b[1;32m    868\u001b[0m         handle \u001b[38;5;241m=\u001b[39m \u001b[38;5;28mopen\u001b[39m(handle, ioargs\u001b[38;5;241m.\u001b[39mmode)\n",
      "\u001b[0;31mFileNotFoundError\u001b[0m: [Errno 2] No such file or directory: '/Users/pmzcwl/Library/CloudStorage/OneDrive-TheUniversityofNottingham/shared_simulations/EP/scenario_41/X.txt'"
     ]
    }
   ],
   "source": [
    "x_labels=pd.read_csv(r'/Users/pmzcwl/Library/CloudStorage/OneDrive-TheUniversityofNottingham/shared_simulations/EP/scenario_13/xlabels.txt',delim_whitespace=True,header=None)\n",
    "\n",
    "\n",
    "X_all = pd.read_csv(r'/Users/pmzcwl/Library/CloudStorage/OneDrive-TheUniversityofNottingham/shared_simulations/EP/scenario_'+str(mesh)+'/X.txt',index_col=None,delim_whitespace=True,header=None)\n",
    "X_all.columns=x_labels.values.squeeze().tolist()\n",
    "print(X_all)"
   ]
  },
  {
   "cell_type": "code",
   "execution_count": 4,
   "id": "121230ab",
   "metadata": {},
   "outputs": [
    {
     "name": "stdout",
     "output_type": "stream",
     "text": [
      "        A_TAT     V_TAT\n",
      "0    326.3430  100.5180\n",
      "1    183.9530  130.7160\n",
      "2     78.6365  115.3240\n",
      "3    174.7200   86.9669\n",
      "4    159.2430   95.3313\n",
      "..        ...       ...\n",
      "115  107.5570  140.7120\n",
      "116  284.2610  182.8520\n",
      "117  205.9150   73.8898\n",
      "118  239.8420   80.7692\n",
      "119  125.1910   97.1398\n",
      "\n",
      "[120 rows x 2 columns]\n"
     ]
    }
   ],
   "source": [
    "y_labels=pd.read_csv(r'/Users/pmzcwl/Library/CloudStorage/OneDrive-TheUniversityofNottingham/shared_simulations/EP/scenario_13/ylabels.txt',delim_whitespace=True,header=None)\n",
    "\n",
    "\n",
    "y_all = pd.read_csv(r'/Users/pmzcwl/Library/CloudStorage/OneDrive-TheUniversityofNottingham/shared_simulations/EP/scenario_'+str(mesh)+'/Y.txt',index_col=None,delim_whitespace=True,header=None)\n",
    "y_all.columns=y_labels.values.squeeze().tolist()\n",
    "print(y_all)"
   ]
  },
  {
   "cell_type": "markdown",
   "id": "f1349dc8",
   "metadata": {},
   "source": [
    "# Emulator"
   ]
  },
  {
   "cell_type": "code",
   "execution_count": 5,
   "id": "110b9938",
   "metadata": {},
   "outputs": [],
   "source": [
    "input_masked = X_all.copy()"
   ]
  },
  {
   "cell_type": "code",
   "execution_count": 6,
   "id": "7226a5aa",
   "metadata": {},
   "outputs": [
    {
     "data": {
      "text/html": [
       "<div>\n",
       "<style scoped>\n",
       "    .dataframe tbody tr th:only-of-type {\n",
       "        vertical-align: middle;\n",
       "    }\n",
       "\n",
       "    .dataframe tbody tr th {\n",
       "        vertical-align: top;\n",
       "    }\n",
       "\n",
       "    .dataframe thead th {\n",
       "        text-align: right;\n",
       "    }\n",
       "</style>\n",
       "<table border=\"1\" class=\"dataframe\">\n",
       "  <thead>\n",
       "    <tr style=\"text-align: right;\">\n",
       "      <th></th>\n",
       "      <th>A_TAT</th>\n",
       "      <th>V_TAT</th>\n",
       "    </tr>\n",
       "  </thead>\n",
       "  <tbody>\n",
       "    <tr>\n",
       "      <th>0</th>\n",
       "      <td>326.3430</td>\n",
       "      <td>100.5180</td>\n",
       "    </tr>\n",
       "    <tr>\n",
       "      <th>1</th>\n",
       "      <td>183.9530</td>\n",
       "      <td>130.7160</td>\n",
       "    </tr>\n",
       "    <tr>\n",
       "      <th>2</th>\n",
       "      <td>78.6365</td>\n",
       "      <td>115.3240</td>\n",
       "    </tr>\n",
       "    <tr>\n",
       "      <th>3</th>\n",
       "      <td>174.7200</td>\n",
       "      <td>86.9669</td>\n",
       "    </tr>\n",
       "    <tr>\n",
       "      <th>4</th>\n",
       "      <td>159.2430</td>\n",
       "      <td>95.3313</td>\n",
       "    </tr>\n",
       "    <tr>\n",
       "      <th>...</th>\n",
       "      <td>...</td>\n",
       "      <td>...</td>\n",
       "    </tr>\n",
       "    <tr>\n",
       "      <th>115</th>\n",
       "      <td>107.5570</td>\n",
       "      <td>140.7120</td>\n",
       "    </tr>\n",
       "    <tr>\n",
       "      <th>116</th>\n",
       "      <td>284.2610</td>\n",
       "      <td>182.8520</td>\n",
       "    </tr>\n",
       "    <tr>\n",
       "      <th>117</th>\n",
       "      <td>205.9150</td>\n",
       "      <td>73.8898</td>\n",
       "    </tr>\n",
       "    <tr>\n",
       "      <th>118</th>\n",
       "      <td>239.8420</td>\n",
       "      <td>80.7692</td>\n",
       "    </tr>\n",
       "    <tr>\n",
       "      <th>119</th>\n",
       "      <td>125.1910</td>\n",
       "      <td>97.1398</td>\n",
       "    </tr>\n",
       "  </tbody>\n",
       "</table>\n",
       "<p>120 rows × 2 columns</p>\n",
       "</div>"
      ],
      "text/plain": [
       "        A_TAT     V_TAT\n",
       "0    326.3430  100.5180\n",
       "1    183.9530  130.7160\n",
       "2     78.6365  115.3240\n",
       "3    174.7200   86.9669\n",
       "4    159.2430   95.3313\n",
       "..        ...       ...\n",
       "115  107.5570  140.7120\n",
       "116  284.2610  182.8520\n",
       "117  205.9150   73.8898\n",
       "118  239.8420   80.7692\n",
       "119  125.1910   97.1398\n",
       "\n",
       "[120 rows x 2 columns]"
      ]
     },
     "execution_count": 6,
     "metadata": {},
     "output_type": "execute_result"
    }
   ],
   "source": [
    "y_all"
   ]
  },
  {
   "cell_type": "code",
   "execution_count": 7,
   "id": "50a91180",
   "metadata": {},
   "outputs": [],
   "source": [
    "y_train = torch.tensor(y_all.values)\n",
    "x_train = torch.tensor(X_all[0:y_all.shape[0]].values)"
   ]
  },
  {
   "cell_type": "code",
   "execution_count": 8,
   "id": "5b7a1c9d",
   "metadata": {},
   "outputs": [
    {
     "data": {
      "text/plain": [
       "tensor([[326.3430, 100.5180],\n",
       "        [183.9530, 130.7160],\n",
       "        [ 78.6365, 115.3240],\n",
       "        [174.7200,  86.9669],\n",
       "        [159.2430,  95.3313],\n",
       "        [159.4960,  85.7816],\n",
       "        [111.5320, 160.8760],\n",
       "        [128.2950, 126.4680],\n",
       "        [ 85.2694,  95.2810],\n",
       "        [ 96.5890, 133.9790],\n",
       "        [122.4770, 101.4700],\n",
       "        [209.7640, 123.8980],\n",
       "        [ 96.7988, 122.7850],\n",
       "        [119.8950, 164.1450],\n",
       "        [116.8980, 114.6310],\n",
       "        [192.3800,  90.0702],\n",
       "        [164.9690,  84.7386],\n",
       "        [126.4440, 105.3290],\n",
       "        [208.7870, 200.8810],\n",
       "        [110.6070,  84.1817],\n",
       "        [ 85.8296,  94.4645],\n",
       "        [ 94.2734, 133.3010],\n",
       "        [308.7260, 152.8160],\n",
       "        [185.4290, 141.9500],\n",
       "        [ 87.5541, 118.7400],\n",
       "        [292.7550, 122.8820],\n",
       "        [111.8240, 163.7690],\n",
       "        [ 79.7282, 104.8940],\n",
       "        [118.5210,  93.8477],\n",
       "        [135.1400, 150.6880],\n",
       "        [133.8990, 105.4380],\n",
       "        [213.3040, 112.7240],\n",
       "        [105.2660,  88.9114],\n",
       "        [144.9400, 118.1730],\n",
       "        [ 88.7469,  85.4569],\n",
       "        [234.9510, 109.9640],\n",
       "        [210.0670, 139.8770],\n",
       "        [154.6920, 151.1510],\n",
       "        [213.8100, 148.5080],\n",
       "        [212.0060, 144.7380],\n",
       "        [140.6160, 146.4220],\n",
       "        [178.7030, 105.9290],\n",
       "        [100.9650,  96.6333],\n",
       "        [105.9980,  93.7329],\n",
       "        [255.9120, 107.4170],\n",
       "        [155.9080, 154.9930],\n",
       "        [167.4480, 111.2210],\n",
       "        [126.5980, 150.7230],\n",
       "        [140.2750, 126.3440],\n",
       "        [ 84.9499, 120.5170],\n",
       "        [250.8060, 110.5260],\n",
       "        [136.2710, 116.0700],\n",
       "        [148.0770,  84.7427],\n",
       "        [138.0720, 133.1870],\n",
       "        [280.5290,  94.5532],\n",
       "        [256.1370, 155.4590],\n",
       "        [215.0970, 127.0170],\n",
       "        [131.8230, 174.9490],\n",
       "        [213.9740,  94.5235],\n",
       "        [157.8880, 138.7920],\n",
       "        [109.9250, 171.6110],\n",
       "        [ 98.0260, 155.7360],\n",
       "        [ 85.7153,  75.2065],\n",
       "        [113.3310,  95.9941],\n",
       "        [110.5080, 114.7180],\n",
       "        [230.9390,  83.0684],\n",
       "        [148.5140, 157.6410],\n",
       "        [116.4840, 124.7290],\n",
       "        [104.2670, 129.9960],\n",
       "        [ 95.7242, 126.4630],\n",
       "        [ 99.4381,  98.8020],\n",
       "        [ 95.8414, 112.5000],\n",
       "        [174.0590, 124.9550],\n",
       "        [187.1410, 127.0520],\n",
       "        [115.9240,  88.8389],\n",
       "        [146.2790, 190.9260],\n",
       "        [125.6380, 119.3550],\n",
       "        [113.1410,  96.3727],\n",
       "        [178.5230, 127.1050],\n",
       "        [116.2900, 130.8890],\n",
       "        [157.8190,  88.0617],\n",
       "        [262.0690,  86.2222],\n",
       "        [302.1250,  84.2213],\n",
       "        [122.3030, 135.4850],\n",
       "        [120.1040, 152.2800],\n",
       "        [274.6940,  87.2672],\n",
       "        [112.4730, 130.7550],\n",
       "        [352.7230,  99.3953],\n",
       "        [137.3270, 150.8300],\n",
       "        [199.1000, 151.0940],\n",
       "        [157.6460, 121.3450],\n",
       "        [178.2130, 109.4280],\n",
       "        [128.5020, 139.6180],\n",
       "        [113.6650, 153.4910],\n",
       "        [116.4440, 116.3340],\n",
       "        [164.5600, 128.2830],\n",
       "        [ 91.7448,  77.2508],\n",
       "        [166.3410, 120.4840],\n",
       "        [209.0770,  95.4052],\n",
       "        [127.9250,  78.5215],\n",
       "        [111.8990, 138.8330],\n",
       "        [138.8730,  91.6633],\n",
       "        [ 91.3419, 133.1940],\n",
       "        [ 92.4707, 105.0540],\n",
       "        [ 84.4095,  96.5043],\n",
       "        [146.5720, 122.8590],\n",
       "        [202.4160, 105.6560],\n",
       "        [106.1720,  92.0199],\n",
       "        [287.4240, 114.3660],\n",
       "        [215.8940, 167.7440],\n",
       "        [226.6200, 101.1260],\n",
       "        [117.6710, 133.3810],\n",
       "        [162.6550,  94.2497],\n",
       "        [178.8880, 115.2730],\n",
       "        [136.9860, 105.5230],\n",
       "        [107.5570, 140.7120],\n",
       "        [284.2610, 182.8520],\n",
       "        [205.9150,  73.8898],\n",
       "        [239.8420,  80.7692],\n",
       "        [125.1910,  97.1398]], dtype=torch.float64)"
      ]
     },
     "execution_count": 8,
     "metadata": {},
     "output_type": "execute_result"
    }
   ],
   "source": [
    "y_train"
   ]
  },
  {
   "cell_type": "code",
   "execution_count": 9,
   "id": "b1e17ce0",
   "metadata": {},
   "outputs": [
    {
     "data": {
      "text/plain": [
       "torch.Size([120, 6])"
      ]
     },
     "execution_count": 9,
     "metadata": {},
     "output_type": "execute_result"
    }
   ],
   "source": [
    "x_train.shape"
   ]
  },
  {
   "cell_type": "code",
   "execution_count": 10,
   "id": "670120df",
   "metadata": {},
   "outputs": [
    {
     "name": "stdout",
     "output_type": "stream",
     "text": [
      "0\n",
      "1\n"
     ]
    }
   ],
   "source": [
    "emulator = GPE.ensemble(x_train,y_train,mean_func=\"linear\",training_iter=500)"
   ]
  },
  {
   "cell_type": "code",
   "execution_count": 11,
   "id": "0a066022",
   "metadata": {},
   "outputs": [
    {
     "name": "stdout",
     "output_type": "stream",
     "text": [
      "[0.382351, 0.799717]\n",
      "[0.201679, 0.499831]\n",
      "[1.24091, 8.38479]\n",
      "[0.300623, 1.02851]\n",
      "[0.200837, 0.497599]\n",
      "[1.01838, 5.67135]\n"
     ]
    }
   ],
   "source": [
    "nDim = input_masked.shape[1]\n",
    "boundsMaxMin = []\n",
    "for i in range(nDim):\n",
    "    boundsMaxMin.append([np.min(input_masked.iloc[:,i]),np.max(input_masked.iloc[:,i])])\n",
    "    print(boundsMaxMin[i])"
   ]
  },
  {
   "cell_type": "code",
   "execution_count": 12,
   "id": "5b05f92a",
   "metadata": {},
   "outputs": [
    {
     "name": "stderr",
     "output_type": "stream",
     "text": [
      "/var/folders/_j/ptyc01811q5b1dg30hshtfzh0000gr/T/ipykernel_5114/2553582652.py:24: DeprecationWarning: `salib.sample.saltelli` will be removed in SALib 1.5. Please use `salib.sample.sobol`\n",
      "  param_values = saltelli.sample(problem, 1024)\n"
     ]
    }
   ],
   "source": [
    "##### from SALib.sample import saltelli\n",
    "from SALib.sample import saltelli\n",
    "from SALib.analyze import sobol\n",
    "from SALib.test_functions import Ishigami\n",
    "import numpy as np\n",
    "\n",
    "# Define the model inputs\n",
    "problem = {\n",
    "    'num_vars': nDim,\n",
    "    'names': x_labels,\n",
    "    'bounds': boundsMaxMin\n",
    "    #'bounds': [[-1, 1],\n",
    "     #          [-1, 1],\n",
    "      #         [-1, 1],\n",
    "       #        [-1, 1],\n",
    "        #       [-1, 1],\n",
    "         #      [-1, 1],\n",
    "          #     [-1, 1],\n",
    "           #    [-1, 1],\n",
    "            #   [-1,1]]\n",
    "}\n",
    "\n",
    "# Generate samples\n",
    "param_values = saltelli.sample(problem, 1024)\n",
    "\n",
    "data1 = torch.tensor(param_values)\n",
    "#data1.columns = X_train.columns\n",
    "\n",
    "Ymean=emulator.predict(data1)"
   ]
  },
  {
   "cell_type": "code",
   "execution_count": 13,
   "id": "280aaa98",
   "metadata": {},
   "outputs": [
    {
     "data": {
      "text/plain": [
       "torch.Size([14336, 6])"
      ]
     },
     "execution_count": 13,
     "metadata": {},
     "output_type": "execute_result"
    }
   ],
   "source": [
    "data1.shape"
   ]
  },
  {
   "cell_type": "code",
   "execution_count": 14,
   "id": "79378723",
   "metadata": {},
   "outputs": [
    {
     "name": "stdout",
     "output_type": "stream",
     "text": [
      "                        ST   ST_conf\n",
      "(CV_ventricles,)  0.000049  0.000008\n",
      "(k_ventricles,)   0.000053  0.000010\n",
      "(k_FEC,)          0.000222  0.000051\n",
      "(CV_atria,)       0.936626  0.063274\n",
      "(k_atria,)        0.026851  0.002912\n",
      "(k_BB,)           0.040335  0.004415\n",
      "                        S1   S1_conf\n",
      "(CV_ventricles,)  0.000027  0.000565\n",
      "(k_ventricles,)   0.000034  0.000667\n",
      "(k_FEC,)          0.000037  0.001073\n",
      "(CV_atria,)       0.930758  0.078838\n",
      "(k_atria,)        0.022876  0.014430\n",
      "(k_BB,)           0.035381  0.020392\n",
      "Empty DataFrame\n",
      "Columns: [S2, S2_conf]\n",
      "Index: []\n",
      "                        ST   ST_conf\n",
      "(CV_ventricles,)  0.857304  0.058848\n",
      "(k_ventricles,)   0.133861  0.014303\n",
      "(k_FEC,)          0.015686  0.002082\n",
      "(CV_atria,)       0.000117  0.000032\n",
      "(k_atria,)        0.000565  0.000172\n",
      "(k_BB,)           0.000040  0.000007\n",
      "                        S1   S1_conf\n",
      "(CV_ventricles,)  0.850844  0.069675\n",
      "(k_ventricles,)   0.127834  0.028737\n",
      "(k_FEC,)          0.013190  0.009847\n",
      "(CV_atria,)      -0.000107  0.001046\n",
      "(k_atria,)        0.000898  0.002106\n",
      "(k_BB,)          -0.000136  0.000534\n",
      "Empty DataFrame\n",
      "Columns: [S2, S2_conf]\n",
      "Index: []\n"
     ]
    }
   ],
   "source": [
    "Si = []\n",
    "nMod = y_all.shape[1]\n",
    "nDim = input_masked.shape[1]\n",
    "for i in range(nMod):\n",
    "    Si.append(sobol.analyze(problem, Ymean[:,i].detach().numpy(), print_to_console=True,calc_second_order=True))"
   ]
  },
  {
   "cell_type": "code",
   "execution_count": 15,
   "id": "be973aac",
   "metadata": {},
   "outputs": [],
   "source": [
    "Si_first=np.zeros((nDim,nMod))\n",
    "Si_total=np.zeros((nDim,nMod))\n",
    "for i in range(nMod):\n",
    "    total_Si, first_Si, second_Si = Si[i].to_df()\n",
    "    Si_first[:,i] =  first_Si.iloc[:,0]\n",
    "    Si_total[:,i] =  total_Si.iloc[:,0]\n"
   ]
  },
  {
   "cell_type": "code",
   "execution_count": 16,
   "id": "dce4441b",
   "metadata": {},
   "outputs": [
    {
     "data": {
      "text/plain": [
       "['CV_ventricles', 'k_ventricles', 'k_FEC', 'CV_atria', 'k_atria', 'k_BB']"
      ]
     },
     "execution_count": 16,
     "metadata": {},
     "output_type": "execute_result"
    }
   ],
   "source": [
    "x_labels.values.squeeze().tolist()"
   ]
  },
  {
   "cell_type": "code",
   "execution_count": 17,
   "id": "e263f1fa",
   "metadata": {},
   "outputs": [
    {
     "data": {
      "text/plain": [
       "['A_TAT', 'V_TAT']"
      ]
     },
     "execution_count": 17,
     "metadata": {},
     "output_type": "execute_result"
    }
   ],
   "source": [
    "y_all.columns.tolist()"
   ]
  },
  {
   "cell_type": "code",
   "execution_count": 18,
   "id": "47ad6507",
   "metadata": {},
   "outputs": [
    {
     "data": {
      "text/plain": [
       "['PCa_b',\n",
       " 'Tref',\n",
       " 'perm50',\n",
       " 'CV_ventricles',\n",
       " 'a_ventricles',\n",
       " 'EDP_lv',\n",
       " 'EDP_rv',\n",
       " 'Rsys',\n",
       " 'Rpulm']"
      ]
     },
     "execution_count": 18,
     "metadata": {},
     "output_type": "execute_result"
    }
   ],
   "source": [
    "['PCa_b',\n",
    " 'Tref',\n",
    " 'perm50',\n",
    " 'CV_ventricles',\n",
    " 'a_ventricles',\n",
    " 'EDP_lv',\n",
    " 'EDP_rv',\n",
    " 'Rsys',\n",
    " 'Rpulm']"
   ]
  },
  {
   "cell_type": "code",
   "execution_count": 19,
   "id": "b6b05bcd",
   "metadata": {},
   "outputs": [
    {
     "data": {
      "text/plain": [
       "<matplotlib.colorbar.Colorbar at 0x2b508e250>"
      ]
     },
     "execution_count": 19,
     "metadata": {},
     "output_type": "execute_result"
    },
    {
     "data": {
      "image/png": "[encoded data removed]",
      "text/plain": [
       "<Figure size 640x480 with 2 Axes>"
      ]
     },
     "metadata": {},
     "output_type": "display_data"
    }
   ],
   "source": [
    "inputs = X_all.columns.tolist()\n",
    "outputs = y_all.columns.tolist()\n",
    "fig, ax = plt.subplots()\n",
    "im = ax.imshow(Si_first[0:28],cmap='magma_r',vmin=0,vmax=1)\n",
    "\n",
    "ax.set_xticks(np.arange(len(outputs)),labels=outputs)\n",
    "ax.set_yticks(np.arange(len(inputs)), labels=inputs)\n",
    "plt.setp(ax.get_xticklabels(), rotation=60, ha=\"right\",\n",
    "         rotation_mode=\"anchor\");\n",
    "\n",
    "plt.colorbar(im,fraction=0.015, pad=0.04)"
   ]
  },
  {
   "cell_type": "code",
   "execution_count": 20,
   "id": "1bae98e0",
   "metadata": {
    "scrolled": false
   },
   "outputs": [
    {
     "data": {
      "text/plain": [
       "<matplotlib.colorbar.Colorbar at 0x2b529e390>"
      ]
     },
     "execution_count": 20,
     "metadata": {},
     "output_type": "execute_result"
    },
    {
     "data": {
      "image/png": "[encoded data removed]",
      "text/plain": [
       "<Figure size 640x480 with 2 Axes>"
      ]
     },
     "metadata": {},
     "output_type": "display_data"
    }
   ],
   "source": [
    "inputs = X_all.columns.tolist()\n",
    "outputs = y_all.columns.tolist()\n",
    "fig, ax = plt.subplots()\n",
    "im = ax.imshow(Si_total.T[0:28],cmap='magma_r',vmin=0,vmax=1)\n",
    "\n",
    "ax.set_yticks(np.arange(len(outputs)),labels=outputs)\n",
    "ax.set_xticks(np.arange(len(inputs)), labels=inputs)\n",
    "plt.setp(ax.get_xticklabels(), rotation=65, ha=\"right\",\n",
    "         rotation_mode=\"anchor\");\n",
    "\n",
    "plt.colorbar(im,fraction=0.015, pad=0.04)"
   ]
  },
  {
   "cell_type": "code",
   "execution_count": 21,
   "id": "15305bfc",
   "metadata": {},
   "outputs": [],
   "source": [
    "np.savetxt(\"Si_total_EP_\"+str(mesh)+\".csv\", Si_total, delimiter=\",\")\n",
    "np.savetxt(\"Si_first_EP_\"+str(mesh)+\".csv\", Si_first, delimiter=\",\")"
   ]
  },
  {
   "cell_type": "code",
   "execution_count": null,
   "id": "5f939c54",
   "metadata": {},
   "outputs": [],
   "source": []
  }
 ],
 "metadata": {
  "kernelspec": {
   "display_name": "Python 3 (ipykernel)",
   "language": "python",
   "name": "python3"
  },
  "language_info": {
   "codemirror_mode": {
    "name": "ipython",
    "version": 3
   },
   "file_extension": ".py",
   "mimetype": "text/x-python",
   "name": "python",
   "nbconvert_exporter": "python",
   "pygments_lexer": "ipython3",
   "version": "3.11.5"
  }
 },
 "nbformat": 4,
 "nbformat_minor": 5
}
