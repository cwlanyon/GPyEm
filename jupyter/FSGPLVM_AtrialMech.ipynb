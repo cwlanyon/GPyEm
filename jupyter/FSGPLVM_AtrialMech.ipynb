{
 "cells": [
  {
   "cell_type": "code",
   "execution_count": 1,
   "id": "c2fd0118-1953-4901-9e7b-403d2b56e2c3",
   "metadata": {},
   "outputs": [],
   "source": [
    "import math\n",
    "import torch\n",
    "import gpytorch\n",
    "import pandas as pd \n",
    "import numpy as np\n",
    "from matplotlib import pyplot as plt\n",
    "\n",
    "from GPyEm import GPE_ensemble as GPE\n",
    "from FSGPLVM import FSGPLVM as LVM\n",
    "\n",
    "import os\n",
    "from sklearn.linear_model import LinearRegression\n",
    "from sklearn.metrics import mean_squared_error, r2_score\n",
    "from sklearn.model_selection import train_test_split\n",
    "#from GPErks.gp.data.dataset import Dataset\n",
    "from gpytorch.likelihoods import GaussianLikelihood\n",
    "from gpytorch.means import LinearMean\n",
    "from gpytorch.kernels import RBFKernel, ScaleKernel\n",
    "\n",
    "\n",
    "\n",
    "%matplotlib inline\n",
    "%load_ext autoreload\n",
    "%autoreload 2\n",
    "\n",
    "# set logger and enforce reproducibility\n",
    "#from GPErks.log.logger import get_logger\n",
    "#from GPErks.utils.random import set_seed\n",
    "#log = get_logger()\n",
    "seed = 7\n",
    "#set_seed(seed)\n",
    "from time import process_time \n",
    "import scipy\n",
    "from scipy.optimize import minimize"
   ]
  },
  {
   "cell_type": "code",
   "execution_count": 2,
   "id": "c4288df3-5ba1-4845-9c47-402156e8971a",
   "metadata": {},
   "outputs": [],
   "source": [
    "import sklearn.metrics as sk"
   ]
  },
  {
   "cell_type": "code",
   "execution_count": 3,
   "id": "5eaab5bb-07f4-4dc8-ac7c-afd356ce8326",
   "metadata": {},
   "outputs": [],
   "source": [
    "mode_weights = pd.read_csv(r'/Users/pmzcwl/Library/CloudStorage/OneDrive-TheUniversityofNottingham/shared_simulations/modes_weights.csv',index_col=0,delim_whitespace=False,header=0)\n",
    "\n",
    "mode_weights\n",
    "\n",
    "#mode_weights=mode_weights.drop(15,axis=0)\n",
    "#mode_weights=mode_weights.drop(14,axis=0)\n",
    "\n",
    "meshes=['01','02','03','04','05','06','07','08','09','10','11','12','13','14','16','17','18','19']\n",
    "\n",
    "x_labels=pd.read_csv(r'/Users/pmzcwl/Library/CloudStorage/OneDrive-TheUniversityofNottingham/shared_simulations/EP_healthy/input/xlabels_EP.txt',delim_whitespace=True,header=None)\n",
    "x_labels=x_labels.values.flatten().tolist()+mode_weights.columns.tolist()\n",
    "\n",
    "y_labels=pd.read_csv(r'/Users/pmzcwl/Library/CloudStorage/OneDrive-TheUniversityofNottingham/shared_simulations/EP_healthy/output/ylabels.txt',delim_whitespace=True,header=None)\n",
    "\n",
    "\n",
    "same_input=[]\n",
    "same_output=[]\n",
    "\n",
    "dif_input = []\n",
    "dif_output=[]\n",
    "dif_modes=[]\n",
    "\n",
    "all_input_dif = []\n",
    "all_output_dif=[]\n",
    "all_x_dif=[]\n",
    "for i in range(len(meshes)):\n",
    "    val=meshes[i]\n",
    "    \n",
    "    same_in = pd.read_csv(\"/Users/pmzcwl/Library/CloudStorage/OneDrive-TheUniversityofNottingham/shared_simulations/EP_healthy/same_X/X_EP.txt\",index_col=None,delim_whitespace=True,header=None).values\n",
    "    same_out = pd.read_csv(\"/Users/pmzcwl/Library/CloudStorage/OneDrive-TheUniversityofNottingham/shared_simulations/EP_healthy/same_X/\"+val+\"/Y.txt\",index_col=None,delim_whitespace=True,header=None).values\n",
    "    \n",
    "    dif_in = pd.read_csv(\"/Users/pmzcwl/Library/CloudStorage/OneDrive-TheUniversityofNottingham/shared_simulations/EP_healthy/\"+val+\"/X_EP.txt\",index_col=None,delim_whitespace=True,header=None).values\n",
    "    dif_out = pd.read_csv(\"/Users/pmzcwl/Library/CloudStorage/OneDrive-TheUniversityofNottingham/shared_simulations/EP_healthy/\"+val+\"/Y.txt\",index_col=None,delim_whitespace=True,header=None).values\n",
    "    \n",
    "    modeweights = np.tile(mode_weights.iloc[i,:].values, (dif_in.shape[0],1))\n",
    "    input_modes = np.concatenate((dif_in,modeweights),axis=1)\n",
    "    same_input.append(torch.tensor(same_in))\n",
    "    same_output.append(torch.tensor(same_out))\n",
    "    dif_input.append(torch.tensor(dif_in))\n",
    "    dif_output.append(torch.tensor(dif_out))\n",
    "    dif_modes.append(torch.tensor(input_modes))\n",
    "\n",
    "#all_input=pd.concat(all_input)\n",
    "#all_output=pd.concat(all_output\n",
    "#all_input.columns=x_labels\n",
    "#all_output.columns=y_labels"
   ]
  },
  {
   "cell_type": "code",
   "execution_count": 4,
   "id": "cf2b672a-b2a7-4f05-a3d1-0ed390e866d5",
   "metadata": {},
   "outputs": [],
   "source": [
    "train_input=[]\n",
    "test_input = []\n",
    "train_output=[]\n",
    "test_output = []\n",
    "\n",
    "train_input_modes=[]\n",
    "test_input_modes = []\n",
    "train_output_modes=[]\n",
    "test_output_modes = []\n",
    "\n",
    "for i in range(len(meshes)):\n",
    "\n",
    "    X=dif_input[i]\n",
    "    y=dif_output[i]\n",
    "    X_train, X_test, y_train, y_test = train_test_split(\n",
    "        X,\n",
    "        y,\n",
    "        test_size=0.2,\n",
    "        random_state=seed+i\n",
    "    )\n",
    "    train_input.append(X_train)\n",
    "    test_input.append(X_test)\n",
    "    train_output.append(y_train)\n",
    "    test_output.append(y_test)\n",
    "    \n",
    "    X=dif_modes[i]\n",
    "    y=dif_output[i]\n",
    "    X_train, X_test, y_train, y_test = train_test_split(\n",
    "        X,\n",
    "        y,\n",
    "        test_size=0.2,\n",
    "        random_state=seed+i\n",
    "    )\n",
    "    train_input_modes.append(X_train)\n",
    "    test_input_modes.append(X_test)\n",
    "    train_output_modes.append(y_train)\n",
    "    test_output_modes.append(y_test)\n"
   ]
  },
  {
   "cell_type": "code",
   "execution_count": null,
   "id": "99f03703-83f3-48ee-87b7-115b8656f9ed",
   "metadata": {},
   "outputs": [],
   "source": []
  },
  {
   "cell_type": "markdown",
   "id": "4d022407-8ab7-4f98-93a5-de2e66818084",
   "metadata": {},
   "source": [
    "### Fully supervised GPLVM (we should come up with a better acronym/name)\n",
    "\n",
    "Observations:\n",
    "$$Y = [y_1,...,y_N], \\ y_n \\in R^{p}$$\n",
    "Model parameters\n",
    "$$X = [x_1,...,x_N], \\ x_n \\in R^{p\\times q}$$\n",
    "Latent parameters/features\n",
    "$$L = [l_1,...,l_N], \\ l_n \\in R^{d }$$\n",
    "With $d<q$ and $L\\sim N(0,I)$.\n",
    "\n",
    "We want to find a function $f_\\theta$ such that:\n",
    "$$ Y = f_\\theta(X,L)+\\epsilon $$\n",
    "Let's make $f$ a GP, as we like to, with mean $m_\\theta(X,L)$ and covariance $K_\\theta((X,L),(X',L'))$\n",
    "We would like to learn $L$ and $\\theta$ (the hyper-parameters). \n",
    "\n",
    "As a cost function we use the likelihood\n",
    "$$p(Y,L|X) = p(Y|L,X)p(L) $$\n",
    "and as $f$ is a GP,\n",
    "$$p(Y|L,X) \\sim N(m_\\theta(X,L), K_\\theta((X,L),(X,L)))$$\n",
    "\n",
    "Taking the log we have\n",
    "$$\\log p(Y,L|X) = \\log p(Y|L,X)+\\log p(L) $$\n",
    "$$ = -\\frac{NP}{2}\\log(2\\pi)-\\frac{1}{2}\\log|K_\\theta|-\\frac{1}{2}(Y-m_\\theta(X,L))^\\top\\ K_\\theta^{-1}(Y-m_\\theta(X,L))-\\frac{N}{2}\\log(2\\pi)-\\frac{1}{2}\\log|I|-\\frac{1}{2}(L)^\\top I^{-1}(L)) $$\n"
   ]
  },
  {
   "cell_type": "markdown",
   "id": "7db27991-412e-4b67-9a76-0db0382473b9",
   "metadata": {},
   "source": [
    "to calculate $\\log |K|$ we use the fact that $\\log |K| = 2\\Sigma (\\log\\mathrm{diag}(L)_i)$, where $L$ is the cholesky decomposition of $K$."
   ]
  },
  {
   "cell_type": "code",
   "execution_count": 5,
   "id": "da94728c-7c86-4299-9974-f1e06dd32908",
   "metadata": {},
   "outputs": [],
   "source": [
    "def linear_mean(beta,X):\n",
    "    b_0 = beta[0]\n",
    "    b = beta[1:end]\n",
    "    mean = b_0 + b*X"
   ]
  },
  {
   "cell_type": "code",
   "execution_count": 6,
   "id": "b94a1925-a4bf-442f-84b3-7d91b3219f2b",
   "metadata": {},
   "outputs": [],
   "source": [
    "N = 18 #number of systems\n",
    "p = 40 #observations per system\n",
    "L_size = 2"
   ]
  },
  {
   "cell_type": "code",
   "execution_count": null,
   "id": "ab35d13c-8ff0-47ea-bff2-ba16d06496d2",
   "metadata": {},
   "outputs": [],
   "source": []
  },
  {
   "cell_type": "code",
   "execution_count": 7,
   "id": "70954c7b-b792-4a56-8bb0-f44dcd9a0157",
   "metadata": {},
   "outputs": [],
   "source": [
    "c=np.random.choice(range(144),p,replace=False).tolist()\n",
    "A_TAT_all = train_output[0][c,[0]][:,None]\n",
    "A_TAT_in = train_input[0][c,:]\n",
    "for i in range(len(same_output)-1):\n",
    "    A_TAT_all=torch.cat((A_TAT_all,train_output[i+1][c,[0]][:,None]),axis=0)\n",
    "    A_TAT_in=torch.cat((A_TAT_in,train_input[i+1][c,:]),axis=0)\n",
    "\n",
    "\n",
    "V_TAT_all = train_output[0][c,[1]][:,None]\n",
    "\n",
    "for i in range(len(train_output)-1):\n",
    "    V_TAT_all=torch.cat((V_TAT_all,train_output[i+1][c,[1]][:,None]),axis=0\n",
    "                       )"
   ]
  },
  {
   "cell_type": "code",
   "execution_count": 8,
   "id": "f910672b-2a05-4820-9717-250b2a03ebc3",
   "metadata": {},
   "outputs": [],
   "source": [
    "c=np.random.choice(range(144),p,replace=False).tolist()\n",
    "A_TAT_test = test_output[0][:,0][:,None]\n",
    "A_TAT_in_test = test_input[0]\n",
    "for i in range(len(same_output)-1):\n",
    "    A_TAT_test=torch.cat((A_TAT_test,test_output[i+1][:,0][:,None]),axis=0)\n",
    "    A_TAT_in_test=torch.cat((A_TAT_in_test,test_input[i+1][:,:]),axis=0)\n",
    "\n",
    "\n",
    "V_TAT_test = test_output[0][:,1][:,None]\n",
    "\n",
    "for i in range(len(same_output)-1):\n",
    "    V_TAT_test=torch.cat((V_TAT_test,test_output[i+1][:,1][:,None]),axis=0\n",
    "                       )"
   ]
  },
  {
   "cell_type": "code",
   "execution_count": 9,
   "id": "47123962-af92-4743-ba9c-66bbc3435e09",
   "metadata": {},
   "outputs": [],
   "source": [
    "y_test=torch.cat([A_TAT_test,V_TAT_test],axis=1)\n",
    "X_test = A_TAT_in_test"
   ]
  },
  {
   "cell_type": "code",
   "execution_count": 10,
   "id": "97ce923e-c701-4fc9-a59d-3fc3cc26c63d",
   "metadata": {},
   "outputs": [],
   "source": [
    "y=torch.cat([A_TAT_all,V_TAT_all],axis=1)\n",
    "X = A_TAT_in"
   ]
  },
  {
   "cell_type": "code",
   "execution_count": 11,
   "id": "3900d516-e37b-4905-9ebb-49b9bed89e9d",
   "metadata": {},
   "outputs": [
    {
     "data": {
      "text/plain": [
       "torch.Size([720, 2])"
      ]
     },
     "execution_count": 11,
     "metadata": {},
     "output_type": "execute_result"
    }
   ],
   "source": [
    "y.shape"
   ]
  },
  {
   "cell_type": "code",
   "execution_count": 12,
   "id": "1c17e93d-a268-47b5-ab33-5ad89a5d3048",
   "metadata": {},
   "outputs": [
    {
     "data": {
      "text/plain": [
       "torch.Size([648, 2])"
      ]
     },
     "execution_count": 12,
     "metadata": {},
     "output_type": "execute_result"
    }
   ],
   "source": [
    "y_test.shape"
   ]
  },
  {
   "cell_type": "code",
   "execution_count": 13,
   "id": "52babe36-0822-4ed8-a2cf-f7f8ea2e4077",
   "metadata": {},
   "outputs": [
    {
     "data": {
      "text/plain": [
       "torch.Size([720, 6])"
      ]
     },
     "execution_count": 13,
     "metadata": {},
     "output_type": "execute_result"
    }
   ],
   "source": [
    "X.shape"
   ]
  },
  {
   "cell_type": "code",
   "execution_count": 14,
   "id": "2f674a06-5dd7-4684-9df8-c87ba4097f90",
   "metadata": {},
   "outputs": [],
   "source": [
    "Y=y"
   ]
  },
  {
   "cell_type": "code",
   "execution_count": 15,
   "id": "b3ebefda-fc2a-4e5a-a138-da885024e4ec",
   "metadata": {},
   "outputs": [],
   "source": [
    "X=X"
   ]
  },
  {
   "cell_type": "code",
   "execution_count": 16,
   "id": "8643012d-53fc-4238-a122-8314accb64a7",
   "metadata": {},
   "outputs": [
    {
     "data": {
      "text/plain": [
       "torch.Size([720, 6])"
      ]
     },
     "execution_count": 16,
     "metadata": {},
     "output_type": "execute_result"
    }
   ],
   "source": [
    "X.shape"
   ]
  },
  {
   "cell_type": "code",
   "execution_count": 17,
   "id": "115e21d6-b33b-4fd6-ab25-4f661b56037b",
   "metadata": {},
   "outputs": [
    {
     "data": {
      "text/plain": [
       "torch.Size([720, 2])"
      ]
     },
     "execution_count": 17,
     "metadata": {},
     "output_type": "execute_result"
    }
   ],
   "source": [
    "Y.shape"
   ]
  },
  {
   "cell_type": "code",
   "execution_count": 18,
   "id": "3226c206-d056-49e7-88dc-a8a77e384bb6",
   "metadata": {},
   "outputs": [],
   "source": [
    "Y_mean = Y.mean()\n",
    "Y_std = Y.std()\n",
    "\n",
    "X_mean = X.mean()\n",
    "X_std =X.std()"
   ]
  },
  {
   "cell_type": "code",
   "execution_count": 19,
   "id": "49ce4f0b-e89c-4ef7-8604-0fa8841cc9aa",
   "metadata": {},
   "outputs": [],
   "source": [
    "L = torch.rand(p,L_size).clone().detach().requires_grad_(True)"
   ]
  },
  {
   "cell_type": "code",
   "execution_count": 20,
   "id": "5e5c6148-0f64-4df1-bd50-609a94ee3402",
   "metadata": {},
   "outputs": [],
   "source": [
    "L =torch.normal(0,torch.ones(N,L_size)).clone().detach().requires_grad_(True)\n",
    "#L =L_true.clone().detach().requires_grad_(True)\n",
    "scaling = torch.rand(1).clone().detach().requires_grad_(True)\n",
    "lengthscale = torch.rand(X.shape[1]+L_size).clone().detach().requires_grad_(True)\n",
    "sigma2 = torch.tensor([0.01]).clone().detach().requires_grad_(True)\n",
    "mean = torch.rand(1).clone().detach().requires_grad_(True)"
   ]
  },
  {
   "cell_type": "code",
   "execution_count": 21,
   "id": "908b3cd1-d360-4b60-aaa8-a26e2e5ee940",
   "metadata": {},
   "outputs": [],
   "source": [
    "XL_train = torch.cat((X,torch.repeat_interleave(L,p,dim=0)),axis=1)"
   ]
  },
  {
   "cell_type": "code",
   "execution_count": 22,
   "id": "c63b8525-6950-4f3f-9e22-7b984336544e",
   "metadata": {},
   "outputs": [
    {
     "data": {
      "text/plain": [
       "torch.Size([720, 8])"
      ]
     },
     "execution_count": 22,
     "metadata": {},
     "output_type": "execute_result"
    }
   ],
   "source": [
    "XL_train.shape"
   ]
  },
  {
   "cell_type": "code",
   "execution_count": 23,
   "id": "a37c1001-4948-4100-a131-63dc30e159a4",
   "metadata": {
    "scrolled": true
   },
   "outputs": [
    {
     "name": "stdout",
     "output_type": "stream",
     "text": [
      "tensor(4204.3135, grad_fn=<NegBackward0>) tensor([[0.0499, 0.6059, 0.4663, 0.7850, 0.2978, 0.6917],\n",
      "        [0.2871, 0.1991, 0.7324, 0.8716, 0.2282, 0.3770]], requires_grad=True)\n",
      "tensor(2113.7693, grad_fn=<NegBackward0>) tensor([[0.8423, 1.6074, 1.4144, 1.2128, 1.2441, 1.6973],\n",
      "        [0.9868, 0.9493, 1.5272, 1.7735, 1.0110, 1.2199]], requires_grad=True)\n",
      "tensor(1063.1685, grad_fn=<NegBackward0>) tensor([[1.5344, 2.5502, 2.3849, 1.1418, 2.0862, 2.3674],\n",
      "        [1.5504, 1.5985, 1.6789, 2.7108, 1.7875, 2.0111]], requires_grad=True)\n",
      "tensor(849.5123, grad_fn=<NegBackward0>) tensor([[1.9286, 3.0830, 2.8988, 0.9225, 2.5898, 2.1033],\n",
      "        [1.7374, 1.9407, 1.4293, 3.3299, 2.3333, 2.5558]], requires_grad=True)\n",
      "tensor(760.0114, grad_fn=<NegBackward0>) tensor([[2.2978, 3.5489, 3.2108, 0.8725, 3.0415, 1.7180],\n",
      "        [1.8094, 2.0981, 1.3520, 3.8031, 2.7221, 2.9752]], requires_grad=True)\n",
      "tensor(703.2937, grad_fn=<NegBackward0>) tensor([[2.7076, 3.9880, 3.5390, 0.9935, 3.4619, 1.1285],\n",
      "        [1.8397, 2.1717, 1.3115, 4.2329, 3.0290, 3.3659]], requires_grad=True)\n",
      "tensor(657.4073, grad_fn=<NegBackward0>) tensor([[3.2630, 4.4841, 4.1364, 0.9049, 3.9122, 0.9741],\n",
      "        [1.8599, 2.1761, 1.2787, 4.6512, 3.2786, 3.7434]], requires_grad=True)\n",
      "tensor(626.1454, grad_fn=<NegBackward0>) tensor([[3.7951, 4.9991, 4.7644, 0.8786, 4.3308, 0.8784],\n",
      "        [1.9249, 2.1559, 1.2143, 5.1039, 3.4928, 4.1269]], requires_grad=True)\n",
      "tensor(606.5949, grad_fn=<NegBackward0>) tensor([[4.2492, 5.4588, 5.3343, 0.8593, 4.6632, 0.8424],\n",
      "        [2.0270, 2.2356, 1.0619, 5.5703, 3.8019, 4.6186]], requires_grad=True)\n",
      "tensor(595.6501, grad_fn=<NegBackward0>) tensor([[4.6247, 5.8184, 5.8323, 0.8435, 4.8281, 0.8266],\n",
      "        [2.0651, 2.2351, 1.0039, 5.9571, 4.0797, 5.1741]], requires_grad=True)\n",
      "tensor(589.1913, grad_fn=<NegBackward0>) tensor([[4.9430, 6.0772, 6.2617, 0.8330, 4.7898, 0.8200],\n",
      "        [2.1048, 2.2361, 0.9699, 6.3099, 4.2667, 5.7544]], requires_grad=True)\n",
      "tensor(585.5289, grad_fn=<NegBackward0>) tensor([[5.2326, 6.2692, 6.6149, 0.8327, 4.5652, 0.8183],\n",
      "        [2.1257, 2.2562, 0.9579, 6.6360, 4.3341, 6.3082]], requires_grad=True)\n",
      "tensor(582.2090, grad_fn=<NegBackward0>) tensor([[5.5365, 6.5125, 6.8578, 0.8423, 4.2292, 0.8181],\n",
      "        [2.1393, 2.2951, 0.9523, 6.9345, 4.3357, 6.8284]], requires_grad=True)\n",
      "tensor(580.6095, grad_fn=<NegBackward0>) tensor([[5.9595, 7.0467, 6.9052, 0.8739, 3.7765, 0.8119],\n",
      "        [2.1524, 2.3310, 0.9510, 7.2066, 4.3314, 7.3182]], requires_grad=True)\n",
      "tensor(578.5691, grad_fn=<NegBackward0>) tensor([[6.6653, 7.9730, 6.6077, 0.9179, 3.3381, 0.8083],\n",
      "        [2.1675, 2.3523, 0.9490, 7.4610, 4.3484, 7.7505]], requires_grad=True)\n",
      "tensor(576.2540, grad_fn=<NegBackward0>) tensor([[7.4366, 8.7598, 6.1427, 0.9456, 3.1426, 0.8118],\n",
      "        [2.1873, 2.3612, 0.9488, 7.6677, 4.3828, 8.0694]], requires_grad=True)\n",
      "tensor(575.2994, grad_fn=<NegBackward0>) tensor([[8.1072, 9.3062, 5.8619, 0.9631, 3.0551, 0.8154],\n",
      "        [2.2050, 2.3690, 0.9502, 7.8307, 4.4225, 8.2761]], requires_grad=True)\n",
      "tensor(575.9586, grad_fn=<NegBackward0>) tensor([[8.6429, 9.6482, 5.7060, 0.9747, 3.0109, 0.8169],\n",
      "        [2.2169, 2.3712, 0.9528, 7.9505, 4.4586, 8.3983]], requires_grad=True)\n",
      "tensor(575.2368, grad_fn=<NegBackward0>) tensor([[9.0364, 9.8276, 5.6120, 0.9815, 2.9877, 0.8178],\n",
      "        [2.2283, 2.3764, 0.9539, 8.0292, 4.4798, 8.4683]], requires_grad=True)\n",
      "tensor(575.0653, grad_fn=<NegBackward0>) tensor([[9.2748, 9.9056, 5.5603, 0.9857, 2.9753, 0.8182],\n",
      "        [2.2332, 2.3752, 0.9538, 8.0704, 4.4978, 8.5039]], requires_grad=True)\n",
      "tensor(575.0016, grad_fn=<NegBackward0>) tensor([[9.3750, 9.9372, 5.5433, 0.9881, 2.9726, 0.8188],\n",
      "        [2.2350, 2.3717, 0.9539, 8.0849, 4.5020, 8.5068]], requires_grad=True)\n",
      "tensor(575.0385, grad_fn=<NegBackward0>) tensor([[9.3938, 9.9406, 5.5393, 0.9884, 2.9727, 0.8185],\n",
      "        [2.2343, 2.3738, 0.9557, 8.0882, 4.4990, 8.5165]], requires_grad=True)\n",
      "tensor(574.8614, grad_fn=<NegBackward0>) tensor([[9.3940, 9.9404, 5.5351, 0.9876, 2.9701, 0.8189],\n",
      "        [2.2346, 2.3700, 0.9556, 8.0815, 4.5018, 8.5031]], requires_grad=True)\n",
      "tensor(574.9411, grad_fn=<NegBackward0>) tensor([[9.3957, 9.9422, 5.5356, 0.9889, 2.9713, 0.8186],\n",
      "        [2.2332, 2.3712, 0.9554, 8.0843, 4.5016, 8.5029]], requires_grad=True)\n",
      "tensor(575.3256, grad_fn=<NegBackward0>) tensor([[9.3968, 9.9424, 5.5348, 0.9889, 2.9707, 0.8181],\n",
      "        [2.2364, 2.3731, 0.9538, 8.0776, 4.4982, 8.5054]], requires_grad=True)\n",
      "tensor(575.0983, grad_fn=<NegBackward0>) tensor([[9.3996, 9.9422, 5.5361, 0.9888, 2.9708, 0.8192],\n",
      "        [2.2343, 2.3719, 0.9535, 8.0839, 4.4979, 8.5087]], requires_grad=True)\n",
      "tensor(574.6910, grad_fn=<NegBackward0>) tensor([[9.3978, 9.9445, 5.5362, 0.9880, 2.9714, 0.8185],\n",
      "        [2.2338, 2.3721, 0.9553, 8.0768, 4.4994, 8.5007]], requires_grad=True)\n",
      "tensor(575.3088, grad_fn=<NegBackward0>) tensor([[9.3964, 9.9427, 5.5341, 0.9881, 2.9693, 0.8188],\n",
      "        [2.2316, 2.3723, 0.9545, 8.0818, 4.4992, 8.5065]], requires_grad=True)\n",
      "tensor(575.0220, grad_fn=<NegBackward0>) tensor([[9.3987, 9.9421, 5.5351, 0.9883, 2.9702, 0.8188],\n",
      "        [2.2340, 2.3718, 0.9545, 8.0864, 4.5028, 8.5130]], requires_grad=True)\n",
      "tensor(575.3577, grad_fn=<NegBackward0>) tensor([[9.3979, 9.9429, 5.5378, 0.9885, 2.9710, 0.8191],\n",
      "        [2.2329, 2.3721, 0.9535, 8.0775, 4.4965, 8.5060]], requires_grad=True)\n",
      "tensor(574.6641, grad_fn=<NegBackward0>) tensor([[9.3988, 9.9419, 5.5334, 0.9884, 2.9699, 0.8190],\n",
      "        [2.2348, 2.3718, 0.9551, 8.0838, 4.4993, 8.5079]], requires_grad=True)\n",
      "tensor(574.3046, grad_fn=<NegBackward0>) tensor([[9.3956, 9.9437, 5.5346, 0.9884, 2.9710, 0.8189],\n",
      "        [2.2335, 2.3711, 0.9543, 8.0838, 4.4982, 8.5105]], requires_grad=True)\n",
      "tensor(574.6508, grad_fn=<NegBackward0>) tensor([[9.3925, 9.9450, 5.5356, 0.9884, 2.9714, 0.8183],\n",
      "        [2.2355, 2.3728, 0.9544, 8.0783, 4.5013, 8.5069]], requires_grad=True)\n",
      "tensor(575.1085, grad_fn=<NegBackward0>) tensor([[9.3962, 9.9430, 5.5362, 0.9887, 2.9723, 0.8189],\n",
      "        [2.2336, 2.3711, 0.9552, 8.0812, 4.4981, 8.5081]], requires_grad=True)\n",
      "tensor(574.5330, grad_fn=<NegBackward0>) tensor([[9.3918, 9.9389, 5.5358, 0.9881, 2.9718, 0.8186],\n",
      "        [2.2327, 2.3729, 0.9541, 8.0881, 4.4969, 8.5109]], requires_grad=True)\n",
      "tensor(575.4060, grad_fn=<NegBackward0>) tensor([[9.3967, 9.9391, 5.5362, 0.9884, 2.9714, 0.8187],\n",
      "        [2.2352, 2.3739, 0.9547, 8.0864, 4.5019, 8.5139]], requires_grad=True)\n",
      "tensor(575.1486, grad_fn=<NegBackward0>) tensor([[9.3985, 9.9420, 5.5350, 0.9884, 2.9705, 0.8175],\n",
      "        [2.2322, 2.3739, 0.9544, 8.0858, 4.4994, 8.5066]], requires_grad=True)\n",
      "tensor(574.7423, grad_fn=<NegBackward0>) tensor([[9.3961, 9.9428, 5.5355, 0.9880, 2.9708, 0.8186],\n",
      "        [2.2346, 2.3710, 0.9553, 8.0818, 4.4994, 8.5045]], requires_grad=True)\n",
      "tensor(575.3986, grad_fn=<NegBackward0>) tensor([[9.3967, 9.9381, 5.5353, 0.9879, 2.9717, 0.8186],\n",
      "        [2.2354, 2.3721, 0.9545, 8.0859, 4.5005, 8.5160]], requires_grad=True)\n",
      "tensor(575.1320, grad_fn=<NegBackward0>) tensor([[9.4016, 9.9471, 5.5344, 0.9882, 2.9707, 0.8187],\n",
      "        [2.2348, 2.3711, 0.9561, 8.0861, 4.4991, 8.5088]], requires_grad=True)\n",
      "tensor(575.4771, grad_fn=<NegBackward0>) tensor([[9.3991, 9.9397, 5.5374, 0.9886, 2.9710, 0.8193],\n",
      "        [2.2348, 2.3720, 0.9540, 8.0882, 4.5033, 8.5098]], requires_grad=True)\n",
      "tensor(574.7523, grad_fn=<NegBackward0>) tensor([[9.3934, 9.9409, 5.5367, 0.9882, 2.9704, 0.8189],\n",
      "        [2.2345, 2.3716, 0.9554, 8.0825, 4.4955, 8.5093]], requires_grad=True)\n",
      "tensor(575.2361, grad_fn=<NegBackward0>) tensor([[9.3915, 9.9398, 5.5367, 0.9880, 2.9707, 0.8183],\n",
      "        [2.2349, 2.3714, 0.9555, 8.0881, 4.5039, 8.5204]], requires_grad=True)\n",
      "tensor(575.4207, grad_fn=<NegBackward0>) tensor([[9.3943, 9.9406, 5.5360, 0.9877, 2.9716, 0.8183],\n",
      "        [2.2360, 2.3711, 0.9558, 8.0846, 4.4991, 8.5140]], requires_grad=True)\n",
      "tensor(575.5836, grad_fn=<NegBackward0>) tensor([[9.3977, 9.9437, 5.5355, 0.9876, 2.9706, 0.8187],\n",
      "        [2.2343, 2.3732, 0.9551, 8.0862, 4.4987, 8.5111]], requires_grad=True)\n",
      "tensor(574.6578, grad_fn=<NegBackward0>) tensor([[9.3993, 9.9441, 5.5354, 0.9884, 2.9705, 0.8187],\n",
      "        [2.2344, 2.3727, 0.9541, 8.0864, 4.4999, 8.5104]], requires_grad=True)\n",
      "tensor(575.6158, grad_fn=<NegBackward0>) tensor([[9.3891, 9.9394, 5.5387, 0.9882, 2.9716, 0.8188],\n",
      "        [2.2331, 2.3732, 0.9537, 8.0860, 4.4969, 8.5116]], requires_grad=True)\n",
      "tensor(574.9601, grad_fn=<NegBackward0>) tensor([[9.3931, 9.9392, 5.5338, 0.9875, 2.9695, 0.8191],\n",
      "        [2.2354, 2.3736, 0.9549, 8.0879, 4.5024, 8.5077]], requires_grad=True)\n",
      "tensor(575.0090, grad_fn=<NegBackward0>) tensor([[9.3938, 9.9431, 5.5345, 0.9876, 2.9716, 0.8192],\n",
      "        [2.2344, 2.3738, 0.9546, 8.0856, 4.5032, 8.5167]], requires_grad=True)\n",
      "tensor(575.2477, grad_fn=<NegBackward0>) tensor([[9.3929, 9.9426, 5.5384, 0.9885, 2.9708, 0.8183],\n",
      "        [2.2340, 2.3731, 0.9543, 8.0833, 4.4982, 8.5113]], requires_grad=True)\n",
      "tensor(575.4907, grad_fn=<NegBackward0>) tensor([[9.3969, 9.9421, 5.5362, 0.9887, 2.9695, 0.8186],\n",
      "        [2.2348, 2.3712, 0.9538, 8.0853, 4.4992, 8.5110]], requires_grad=True)\n",
      "tensor(575.3765, grad_fn=<NegBackward0>) tensor([[9.3891, 9.9396, 5.5380, 0.9877, 2.9709, 0.8191],\n",
      "        [2.2353, 2.3729, 0.9542, 8.0851, 4.4975, 8.5092]], requires_grad=True)\n",
      "tensor(575.4622, grad_fn=<NegBackward0>) tensor([[9.3938, 9.9421, 5.5350, 0.9895, 2.9710, 0.8180],\n",
      "        [2.2372, 2.3725, 0.9552, 8.0887, 4.5036, 8.5135]], requires_grad=True)\n",
      "tensor(574.8143, grad_fn=<NegBackward0>) tensor([[9.3999, 9.9457, 5.5350, 0.9890, 2.9711, 0.8186],\n",
      "        [2.2369, 2.3711, 0.9538, 8.0882, 4.5012, 8.5129]], requires_grad=True)\n",
      "tensor(575.5340, grad_fn=<NegBackward0>) tensor([[9.3989, 9.9444, 5.5354, 0.9884, 2.9708, 0.8184],\n",
      "        [2.2345, 2.3735, 0.9550, 8.0813, 4.5027, 8.5073]], requires_grad=True)\n",
      "tensor(575.3879, grad_fn=<NegBackward0>) tensor([[9.4000, 9.9427, 5.5370, 0.9885, 2.9718, 0.8188],\n",
      "        [2.2332, 2.3720, 0.9543, 8.0886, 4.4979, 8.5116]], requires_grad=True)\n",
      "tensor(574.6476, grad_fn=<NegBackward0>) tensor([[9.3996, 9.9427, 5.5336, 0.9889, 2.9700, 0.8190],\n",
      "        [2.2332, 2.3714, 0.9554, 8.0856, 4.4995, 8.5144]], requires_grad=True)\n",
      "tensor(575.5376, grad_fn=<NegBackward0>) tensor([[9.3993, 9.9437, 5.5361, 0.9881, 2.9708, 0.8183],\n",
      "        [2.2352, 2.3725, 0.9546, 8.0868, 4.5039, 8.5133]], requires_grad=True)\n",
      "tensor(575.1839, grad_fn=<NegBackward0>) tensor([[9.3914, 9.9375, 5.5346, 0.9880, 2.9690, 0.8189],\n",
      "        [2.2356, 2.3737, 0.9552, 8.0877, 4.5014, 8.5152]], requires_grad=True)\n",
      "tensor(574.6942, grad_fn=<NegBackward0>) tensor([[9.3971, 9.9449, 5.5379, 0.9886, 2.9704, 0.8186],\n",
      "        [2.2361, 2.3736, 0.9549, 8.0854, 4.5021, 8.5098]], requires_grad=True)\n",
      "tensor(575.2297, grad_fn=<NegBackward0>) tensor([[9.3962, 9.9390, 5.5358, 0.9879, 2.9706, 0.8188],\n",
      "        [2.2334, 2.3725, 0.9547, 8.0878, 4.4989, 8.5126]], requires_grad=True)\n",
      "tensor(575.1841, grad_fn=<NegBackward0>) tensor([[9.3983, 9.9423, 5.5345, 0.9880, 2.9716, 0.8188],\n",
      "        [2.2327, 2.3716, 0.9562, 8.0855, 4.5018, 8.5107]], requires_grad=True)\n",
      "tensor(574.6426, grad_fn=<NegBackward0>) tensor([[9.3945, 9.9458, 5.5370, 0.9882, 2.9716, 0.8178],\n",
      "        [2.2355, 2.3741, 0.9551, 8.0864, 4.5012, 8.5111]], requires_grad=True)\n",
      "tensor(575.5194, grad_fn=<NegBackward0>) tensor([[9.3900, 9.9365, 5.5367, 0.9885, 2.9707, 0.8178],\n",
      "        [2.2332, 2.3725, 0.9544, 8.0802, 4.4993, 8.5121]], requires_grad=True)\n",
      "tensor(575.3715, grad_fn=<NegBackward0>) tensor([[9.3928, 9.9413, 5.5370, 0.9880, 2.9703, 0.8188],\n",
      "        [2.2337, 2.3723, 0.9543, 8.0884, 4.5012, 8.5072]], requires_grad=True)\n",
      "tensor(575.6565, grad_fn=<NegBackward0>) tensor([[9.3912, 9.9425, 5.5363, 0.9877, 2.9708, 0.8183],\n",
      "        [2.2341, 2.3726, 0.9548, 8.0838, 4.4989, 8.5106]], requires_grad=True)\n",
      "tensor(575.5341, grad_fn=<NegBackward0>) tensor([[9.4006, 9.9472, 5.5354, 0.9880, 2.9712, 0.8188],\n",
      "        [2.2319, 2.3732, 0.9537, 8.0863, 4.4984, 8.5077]], requires_grad=True)\n",
      "tensor(575.2559, grad_fn=<NegBackward0>) tensor([[9.3948, 9.9415, 5.5348, 0.9881, 2.9713, 0.8187],\n",
      "        [2.2352, 2.3709, 0.9540, 8.0865, 4.5006, 8.5078]], requires_grad=True)\n",
      "tensor(575.0716, grad_fn=<NegBackward0>) tensor([[9.3939, 9.9397, 5.5334, 0.9881, 2.9689, 0.8186],\n",
      "        [2.2335, 2.3723, 0.9545, 8.0873, 4.5012, 8.5143]], requires_grad=True)\n",
      "tensor(574.7617, grad_fn=<NegBackward0>) tensor([[9.3933, 9.9397, 5.5334, 0.9884, 2.9702, 0.8188],\n",
      "        [2.2352, 2.3742, 0.9545, 8.0809, 4.4994, 8.5094]], requires_grad=True)\n",
      "tensor(575.2855, grad_fn=<NegBackward0>) tensor([[9.3964, 9.9420, 5.5372, 0.9889, 2.9720, 0.8187],\n",
      "        [2.2347, 2.3720, 0.9547, 8.0865, 4.4985, 8.5185]], requires_grad=True)\n",
      "tensor(575.1187, grad_fn=<NegBackward0>) tensor([[9.3934, 9.9457, 5.5368, 0.9882, 2.9711, 0.8181],\n",
      "        [2.2348, 2.3739, 0.9557, 8.0874, 4.5019, 8.5131]], requires_grad=True)\n",
      "tensor(575.4440, grad_fn=<NegBackward0>) tensor([[9.3920, 9.9434, 5.5383, 0.9884, 2.9713, 0.8180],\n",
      "        [2.2334, 2.3723, 0.9550, 8.0812, 4.5008, 8.5056]], requires_grad=True)\n",
      "tensor(575.2288, grad_fn=<NegBackward0>) tensor([[9.3947, 9.9396, 5.5330, 0.9881, 2.9694, 0.8185],\n",
      "        [2.2341, 2.3713, 0.9565, 8.0828, 4.4995, 8.5069]], requires_grad=True)\n",
      "tensor(575.3271, grad_fn=<NegBackward0>) tensor([[9.3968, 9.9414, 5.5332, 0.9878, 2.9710, 0.8192],\n",
      "        [2.2356, 2.3708, 0.9547, 8.0865, 4.5020, 8.5122]], requires_grad=True)\n",
      "tensor(575.4824, grad_fn=<NegBackward0>) tensor([[9.3964, 9.9442, 5.5377, 0.9879, 2.9716, 0.8188],\n",
      "        [2.2340, 2.3730, 0.9561, 8.0930, 4.5028, 8.5138]], requires_grad=True)\n",
      "tensor(574.9456, grad_fn=<NegBackward0>) tensor([[9.3959, 9.9454, 5.5344, 0.9890, 2.9712, 0.8191],\n",
      "        [2.2357, 2.3720, 0.9547, 8.0819, 4.5034, 8.5081]], requires_grad=True)\n",
      "tensor(574.7988, grad_fn=<NegBackward0>) tensor([[9.3929, 9.9424, 5.5369, 0.9890, 2.9714, 0.8187],\n",
      "        [2.2359, 2.3731, 0.9549, 8.0880, 4.4999, 8.5088]], requires_grad=True)\n",
      "tensor(575.6400, grad_fn=<NegBackward0>) tensor([[9.3926, 9.9393, 5.5345, 0.9880, 2.9712, 0.8186],\n",
      "        [2.2332, 2.3721, 0.9547, 8.0844, 4.4999, 8.5110]], requires_grad=True)\n",
      "tensor(575.1777, grad_fn=<NegBackward0>) tensor([[9.3941, 9.9410, 5.5365, 0.9885, 2.9703, 0.8187],\n",
      "        [2.2352, 2.3740, 0.9549, 8.0826, 4.5012, 8.5058]], requires_grad=True)\n",
      "tensor(575.1166, grad_fn=<NegBackward0>) tensor([[9.3936, 9.9431, 5.5368, 0.9881, 2.9715, 0.8178],\n",
      "        [2.2353, 2.3717, 0.9542, 8.0847, 4.5014, 8.5126]], requires_grad=True)\n",
      "tensor(574.9278, grad_fn=<NegBackward0>) tensor([[9.3947, 9.9409, 5.5340, 0.9875, 2.9703, 0.8186],\n",
      "        [2.2344, 2.3731, 0.9546, 8.0843, 4.5001, 8.5087]], requires_grad=True)\n",
      "tensor(575.2175, grad_fn=<NegBackward0>) tensor([[9.3951, 9.9409, 5.5349, 0.9886, 2.9717, 0.8186],\n",
      "        [2.2358, 2.3732, 0.9537, 8.0840, 4.5032, 8.5153]], requires_grad=True)\n",
      "tensor(575.1199, grad_fn=<NegBackward0>) tensor([[9.3936, 9.9442, 5.5367, 0.9887, 2.9715, 0.8188],\n",
      "        [2.2359, 2.3716, 0.9550, 8.0868, 4.4992, 8.5113]], requires_grad=True)\n",
      "tensor(575.1133, grad_fn=<NegBackward0>) tensor([[9.3933, 9.9457, 5.5374, 0.9890, 2.9717, 0.8181],\n",
      "        [2.2347, 2.3718, 0.9544, 8.0861, 4.5013, 8.5118]], requires_grad=True)\n",
      "tensor(575.6534, grad_fn=<NegBackward0>) tensor([[9.3959, 9.9434, 5.5366, 0.9891, 2.9704, 0.8183],\n",
      "        [2.2358, 2.3698, 0.9556, 8.0795, 4.5008, 8.5003]], requires_grad=True)\n",
      "tensor(574.7136, grad_fn=<NegBackward0>) tensor([[9.3926, 9.9408, 5.5366, 0.9874, 2.9700, 0.8187],\n",
      "        [2.2341, 2.3728, 0.9545, 8.0784, 4.4972, 8.5070]], requires_grad=True)\n",
      "tensor(575.3850, grad_fn=<NegBackward0>) tensor([[9.3922, 9.9396, 5.5361, 0.9880, 2.9726, 0.8183],\n",
      "        [2.2338, 2.3713, 0.9553, 8.0801, 4.4949, 8.5078]], requires_grad=True)\n",
      "tensor(574.9406, grad_fn=<NegBackward0>) tensor([[9.3971, 9.9411, 5.5376, 0.9883, 2.9707, 0.8185],\n",
      "        [2.2342, 2.3736, 0.9538, 8.0823, 4.5008, 8.5078]], requires_grad=True)\n",
      "tensor(575.0259, grad_fn=<NegBackward0>) tensor([[9.3964, 9.9452, 5.5347, 0.9885, 2.9712, 0.8187],\n",
      "        [2.2337, 2.3725, 0.9531, 8.0858, 4.4980, 8.5077]], requires_grad=True)\n",
      "tensor(575.3534, grad_fn=<NegBackward0>) tensor([[9.3895, 9.9414, 5.5364, 0.9875, 2.9717, 0.8179],\n",
      "        [2.2321, 2.3720, 0.9544, 8.0813, 4.4966, 8.5059]], requires_grad=True)\n",
      "tensor(575.3928, grad_fn=<NegBackward0>) tensor([[9.3987, 9.9440, 5.5352, 0.9883, 2.9705, 0.8187],\n",
      "        [2.2343, 2.3720, 0.9544, 8.0813, 4.5038, 8.5063]], requires_grad=True)\n",
      "tensor(575.3237, grad_fn=<NegBackward0>) tensor([[9.3953, 9.9411, 5.5372, 0.9882, 2.9714, 0.8182],\n",
      "        [2.2343, 2.3716, 0.9543, 8.0832, 4.5003, 8.5092]], requires_grad=True)\n",
      "tensor(575.7073, grad_fn=<NegBackward0>) tensor([[9.3956, 9.9399, 5.5339, 0.9890, 2.9699, 0.8185],\n",
      "        [2.2345, 2.3730, 0.9542, 8.0871, 4.5029, 8.5135]], requires_grad=True)\n",
      "tensor(575.0547, grad_fn=<NegBackward0>) tensor([[9.3909, 9.9392, 5.5379, 0.9878, 2.9719, 0.8181],\n",
      "        [2.2357, 2.3743, 0.9551, 8.0839, 4.5007, 8.5111]], requires_grad=True)\n",
      "tensor(574.8724, grad_fn=<NegBackward0>) tensor([[9.3957, 9.9431, 5.5350, 0.9884, 2.9705, 0.8187],\n",
      "        [2.2361, 2.3745, 0.9553, 8.0877, 4.4979, 8.5126]], requires_grad=True)\n",
      "tensor(574.9354, grad_fn=<NegBackward0>) tensor([[9.3977, 9.9407, 5.5367, 0.9891, 2.9704, 0.8182],\n",
      "        [2.2351, 2.3721, 0.9553, 8.0909, 4.5018, 8.5134]], requires_grad=True)\n",
      "tensor(575.0814, grad_fn=<NegBackward0>) tensor([[9.3928, 9.9444, 5.5358, 0.9882, 2.9708, 0.8181],\n",
      "        [2.2353, 2.3722, 0.9555, 8.0852, 4.5008, 8.5101]], requires_grad=True)\n",
      "tensor(575.0029, grad_fn=<NegBackward0>) tensor([[9.3953, 9.9437, 5.5373, 0.9886, 2.9718, 0.8191],\n",
      "        [2.2347, 2.3721, 0.9551, 8.0886, 4.5040, 8.5129]], requires_grad=True)\n",
      "tensor(575.3139, grad_fn=<NegBackward0>) tensor([[9.3946, 9.9451, 5.5368, 0.9883, 2.9714, 0.8190],\n",
      "        [2.2343, 2.3746, 0.9545, 8.0837, 4.4997, 8.5075]], requires_grad=True)\n"
     ]
    }
   ],
   "source": [
    "LVemulator = LVM.LVE(XL_train,y,0.0001,p,N,6,training_iter=100000,lr=1e-3)"
   ]
  },
  {
   "cell_type": "code",
   "execution_count": 24,
   "id": "fa3aa2ce-f373-42c6-90ff-d1b4fb666de0",
   "metadata": {},
   "outputs": [
    {
     "name": "stdout",
     "output_type": "stream",
     "text": [
      "tensor(575.2260, grad_fn=<NegBackward0>)\n",
      "tensor(575.5316, grad_fn=<NegBackward0>)\n",
      "tensor(575.4363, grad_fn=<NegBackward0>)\n",
      "tensor(574.7618, grad_fn=<NegBackward0>)\n",
      "tensor(575.4049, grad_fn=<NegBackward0>)\n",
      "tensor(575.0430, grad_fn=<NegBackward0>)\n",
      "tensor(575.7368, grad_fn=<NegBackward0>)\n",
      "tensor(574.5511, grad_fn=<NegBackward0>)\n",
      "tensor(575.1968, grad_fn=<NegBackward0>)\n",
      "tensor(575.2346, grad_fn=<NegBackward0>)\n",
      "tensor(575.7642, grad_fn=<NegBackward0>)\n",
      "tensor(574.4977, grad_fn=<NegBackward0>)\n",
      "tensor(575.3196, grad_fn=<NegBackward0>)\n",
      "tensor(575.3531, grad_fn=<NegBackward0>)\n",
      "tensor(574.7856, grad_fn=<NegBackward0>)\n",
      "tensor(574.6909, grad_fn=<NegBackward0>)\n",
      "tensor(574.5582, grad_fn=<NegBackward0>)\n",
      "tensor(575.2258, grad_fn=<NegBackward0>)\n",
      "tensor(574.9087, grad_fn=<NegBackward0>)\n",
      "tensor(574.4176, grad_fn=<NegBackward0>)\n",
      "tensor(575.2403, grad_fn=<NegBackward0>)\n",
      "tensor(575.7535, grad_fn=<NegBackward0>)\n",
      "tensor(574.9421, grad_fn=<NegBackward0>)\n",
      "tensor(575.4314, grad_fn=<NegBackward0>)\n",
      "tensor(575.5766, grad_fn=<NegBackward0>)\n",
      "tensor(575.1454, grad_fn=<NegBackward0>)\n",
      "tensor(575.2843, grad_fn=<NegBackward0>)\n",
      "tensor(574.9359, grad_fn=<NegBackward0>)\n",
      "tensor(574.7090, grad_fn=<NegBackward0>)\n",
      "tensor(575.0219, grad_fn=<NegBackward0>)\n",
      "tensor(575.0647, grad_fn=<NegBackward0>)\n",
      "tensor(574.7481, grad_fn=<NegBackward0>)\n",
      "tensor(575.3733, grad_fn=<NegBackward0>)\n",
      "tensor(575.6511, grad_fn=<NegBackward0>)\n",
      "tensor(574.9338, grad_fn=<NegBackward0>)\n",
      "tensor(575.2667, grad_fn=<NegBackward0>)\n",
      "tensor(575.0562, grad_fn=<NegBackward0>)\n",
      "tensor(575.3862, grad_fn=<NegBackward0>)\n",
      "tensor(575.1313, grad_fn=<NegBackward0>)\n",
      "tensor(575.3323, grad_fn=<NegBackward0>)\n",
      "tensor(574.3818, grad_fn=<NegBackward0>)\n",
      "tensor(575.3383, grad_fn=<NegBackward0>)\n",
      "tensor(574.9698, grad_fn=<NegBackward0>)\n",
      "tensor(575.0483, grad_fn=<NegBackward0>)\n",
      "tensor(575.3242, grad_fn=<NegBackward0>)\n",
      "tensor(575.9011, grad_fn=<NegBackward0>)\n",
      "tensor(575.0355, grad_fn=<NegBackward0>)\n",
      "tensor(575.4965, grad_fn=<NegBackward0>)\n",
      "tensor(574.3459, grad_fn=<NegBackward0>)\n",
      "tensor(574.8224, grad_fn=<NegBackward0>)\n",
      "tensor(575.3953, grad_fn=<NegBackward0>)\n",
      "tensor(575.7261, grad_fn=<NegBackward0>)\n",
      "tensor(575.0581, grad_fn=<NegBackward0>)\n",
      "tensor(575.1438, grad_fn=<NegBackward0>)\n",
      "tensor(574.7786, grad_fn=<NegBackward0>)\n",
      "tensor(575.6250, grad_fn=<NegBackward0>)\n",
      "tensor(574.9150, grad_fn=<NegBackward0>)\n",
      "tensor(574.4684, grad_fn=<NegBackward0>)\n",
      "tensor(575.3724, grad_fn=<NegBackward0>)\n",
      "tensor(575.1769, grad_fn=<NegBackward0>)\n",
      "tensor(575.3043, grad_fn=<NegBackward0>)\n",
      "tensor(575.0728, grad_fn=<NegBackward0>)\n",
      "tensor(575.4822, grad_fn=<NegBackward0>)\n",
      "tensor(575.1740, grad_fn=<NegBackward0>)\n",
      "tensor(575.0559, grad_fn=<NegBackward0>)\n",
      "tensor(575.1661, grad_fn=<NegBackward0>)\n",
      "tensor(574.7842, grad_fn=<NegBackward0>)\n",
      "tensor(575.4310, grad_fn=<NegBackward0>)\n",
      "tensor(575.4830, grad_fn=<NegBackward0>)\n",
      "tensor(574.7484, grad_fn=<NegBackward0>)\n",
      "tensor(574.8268, grad_fn=<NegBackward0>)\n",
      "tensor(574.8131, grad_fn=<NegBackward0>)\n",
      "tensor(575.7203, grad_fn=<NegBackward0>)\n",
      "tensor(575.3719, grad_fn=<NegBackward0>)\n",
      "tensor(574.9319, grad_fn=<NegBackward0>)\n",
      "tensor(575.3094, grad_fn=<NegBackward0>)\n",
      "tensor(574.8996, grad_fn=<NegBackward0>)\n",
      "tensor(575.4028, grad_fn=<NegBackward0>)\n",
      "tensor(575.0007, grad_fn=<NegBackward0>)\n",
      "tensor(575.3574, grad_fn=<NegBackward0>)\n",
      "tensor(575.2654, grad_fn=<NegBackward0>)\n",
      "tensor(575.6642, grad_fn=<NegBackward0>)\n",
      "tensor(575.4053, grad_fn=<NegBackward0>)\n",
      "tensor(575.3562, grad_fn=<NegBackward0>)\n",
      "tensor(575.6959, grad_fn=<NegBackward0>)\n",
      "tensor(575.0372, grad_fn=<NegBackward0>)\n",
      "tensor(574.5938, grad_fn=<NegBackward0>)\n",
      "tensor(574.7731, grad_fn=<NegBackward0>)\n",
      "tensor(575.2536, grad_fn=<NegBackward0>)\n",
      "tensor(574.5070, grad_fn=<NegBackward0>)\n",
      "tensor(575.1312, grad_fn=<NegBackward0>)\n",
      "tensor(574.7960, grad_fn=<NegBackward0>)\n",
      "tensor(574.9041, grad_fn=<NegBackward0>)\n",
      "tensor(574.8639, grad_fn=<NegBackward0>)\n",
      "tensor(574.7571, grad_fn=<NegBackward0>)\n",
      "tensor(575.3387, grad_fn=<NegBackward0>)\n",
      "tensor(574.7827, grad_fn=<NegBackward0>)\n",
      "tensor(575.0335, grad_fn=<NegBackward0>)\n",
      "tensor(574.8245, grad_fn=<NegBackward0>)\n",
      "tensor(575.2457, grad_fn=<NegBackward0>)\n"
     ]
    }
   ],
   "source": [
    "LVemulator.optimise(100000,lr=1e-4)"
   ]
  },
  {
   "cell_type": "code",
   "execution_count": null,
   "id": "f67a6d9a-5a40-462b-812f-a85c46ac9471",
   "metadata": {},
   "outputs": [],
   "source": []
  },
  {
   "cell_type": "code",
   "execution_count": 25,
   "id": "5406763e-76d3-4e42-9a7b-c15b46d8c519",
   "metadata": {},
   "outputs": [],
   "source": [
    "XL_test = torch.cat((X_test,torch.repeat_interleave(LVemulator.L,36,dim=0)),axis=1)"
   ]
  },
  {
   "cell_type": "code",
   "execution_count": 26,
   "id": "0ff727ca-dd71-4acc-b546-16d12f668620",
   "metadata": {},
   "outputs": [
    {
     "data": {
      "text/plain": [
       "tensor([0.9893, 0.9814], grad_fn=<RsubBackward1>)"
      ]
     },
     "execution_count": 26,
     "metadata": {},
     "output_type": "execute_result"
    }
   ],
   "source": [
    "LVemulator.R2(XL_test.float(),y_test.float())"
   ]
  },
  {
   "cell_type": "code",
   "execution_count": 27,
   "id": "251792df-a3b2-40ef-a4b4-e452d58707ee",
   "metadata": {},
   "outputs": [
    {
     "data": {
      "text/plain": [
       "[<matplotlib.lines.Line2D at 0x2adc06490>,\n",
       " <matplotlib.lines.Line2D at 0x2ac164b90>,\n",
       " <matplotlib.lines.Line2D at 0x2adc06990>,\n",
       " <matplotlib.lines.Line2D at 0x2adcc3890>,\n",
       " <matplotlib.lines.Line2D at 0x2adcc3fd0>,\n",
       " <matplotlib.lines.Line2D at 0x2b7cd0290>]"
      ]
     },
     "execution_count": 27,
     "metadata": {},
     "output_type": "execute_result"
    },
    {
     "data": {
      "image/png": "[encoded data removed]",
      "text/plain": [
       "<Figure size 640x480 with 1 Axes>"
      ]
     },
     "metadata": {},
     "output_type": "display_data"
    }
   ],
   "source": [
    "plt.plot(torch.cat(LVemulator.lengths)[::1000],'o')"
   ]
  },
  {
   "cell_type": "code",
   "execution_count": 28,
   "id": "131efe75-d7e1-485c-a5a6-5f1667d37026",
   "metadata": {},
   "outputs": [
    {
     "data": {
      "text/plain": [
       "[<matplotlib.lines.Line2D at 0x2b867f150>,\n",
       " <matplotlib.lines.Line2D at 0x2b8635bd0>,\n",
       " <matplotlib.lines.Line2D at 0x2b7cedb10>,\n",
       " <matplotlib.lines.Line2D at 0x2b86a0810>,\n",
       " <matplotlib.lines.Line2D at 0x2b86a11d0>,\n",
       " <matplotlib.lines.Line2D at 0x2b86a1390>,\n",
       " <matplotlib.lines.Line2D at 0x2b86a19d0>,\n",
       " <matplotlib.lines.Line2D at 0x2b86a1c50>,\n",
       " <matplotlib.lines.Line2D at 0x2b86a0a50>,\n",
       " <matplotlib.lines.Line2D at 0x2b86a1490>,\n",
       " <matplotlib.lines.Line2D at 0x2b86a2dd0>,\n",
       " <matplotlib.lines.Line2D at 0x2b86a3250>,\n",
       " <matplotlib.lines.Line2D at 0x2b86a3710>,\n",
       " <matplotlib.lines.Line2D at 0x2b8663fd0>,\n",
       " <matplotlib.lines.Line2D at 0x2b86a3bd0>,\n",
       " <matplotlib.lines.Line2D at 0x2b86a22d0>,\n",
       " <matplotlib.lines.Line2D at 0x2b8635950>,\n",
       " <matplotlib.lines.Line2D at 0x2adcc2d10>]"
      ]
     },
     "execution_count": 28,
     "metadata": {},
     "output_type": "execute_result"
    },
    {
     "data": {
      "image/png": "[encoded data removed]",
      "text/plain": [
       "<Figure size 640x480 with 1 Axes>"
      ]
     },
     "metadata": {},
     "output_type": "display_data"
    }
   ],
   "source": [
    "plt.plot(torch.cat(LVemulator.Ls,axis=1).T[::1000],'o')"
   ]
  },
  {
   "cell_type": "code",
   "execution_count": 29,
   "id": "d42def50-ee08-4421-b31b-072bd12058af",
   "metadata": {},
   "outputs": [
    {
     "data": {
      "text/plain": [
       "[<matplotlib.lines.Line2D at 0x2ade19890>]"
      ]
     },
     "execution_count": 29,
     "metadata": {},
     "output_type": "execute_result"
    },
    {
     "data": {
      "image/png": "[encoded data removed]",
      "text/plain": [
       "<Figure size 640x480 with 1 Axes>"
      ]
     },
     "metadata": {},
     "output_type": "display_data"
    }
   ],
   "source": [
    "plt.plot(torch.cat(LVemulator.scales)[::1000],'o')"
   ]
  },
  {
   "cell_type": "code",
   "execution_count": 30,
   "id": "22fb044f-a8b0-4155-a159-39699d9358b7",
   "metadata": {},
   "outputs": [
    {
     "ename": "NameError",
     "evalue": "name 'cost' is not defined",
     "output_type": "error",
     "traceback": [
      "\u001b[0;31m---------------------------------------------------------------------------\u001b[0m",
      "\u001b[0;31mNameError\u001b[0m                                 Traceback (most recent call last)",
      "Cell \u001b[0;32mIn[30], line 1\u001b[0m\n\u001b[0;32m----> 1\u001b[0m cost(Y,X,L,scaling,lengthscale,sigma2,p)\n",
      "\u001b[0;31mNameError\u001b[0m: name 'cost' is not defined"
     ]
    }
   ],
   "source": [
    "cost(Y,X,L,scaling,lengthscale,sigma2,p)"
   ]
  },
  {
   "cell_type": "code",
   "execution_count": null,
   "id": "5fcc0bf7-9b50-4f2d-a6bb-1f928f7ace6e",
   "metadata": {},
   "outputs": [],
   "source": [
    "#plt.imshow(rbf(X,L,X,L,scaling,lengthscale,p,p).detach().numpy())"
   ]
  },
  {
   "cell_type": "code",
   "execution_count": null,
   "id": "eaefeb2b-5a62-4c73-8afe-44eeeab38986",
   "metadata": {},
   "outputs": [],
   "source": [
    "plt.imshow(rbf2(X,L,X,L,scaling,lengthscale,p,p).detach().numpy())"
   ]
  },
  {
   "cell_type": "code",
   "execution_count": null,
   "id": "31e6a353-865d-465f-afab-87b6a75ba5b1",
   "metadata": {},
   "outputs": [],
   "source": [
    "for i in range(N):\n",
    "    plt.plot(X[i*p:(i+1)*p,0],Y[i*p:(i+1)*p],'o')"
   ]
  },
  {
   "cell_type": "code",
   "execution_count": null,
   "id": "471060c4-7b3e-40bb-9c99-b8e924242b15",
   "metadata": {
    "scrolled": true
   },
   "outputs": [],
   "source": [
    "cost(Y,X,L,scaling,lengthscale,sigma2,p)"
   ]
  },
  {
   "cell_type": "code",
   "execution_count": null,
   "id": "9e03c375-80a3-4620-b137-52be08faec15",
   "metadata": {},
   "outputs": [],
   "source": [
    "gd = torch.optim.SGD([L,scaling,lengthscale,mean], lr=1e-5)\n",
    "history_gd = []\n",
    "\n",
    "for i in range(500000):\n",
    "    gd.zero_grad()\n",
    "    objective = cost(Y,X,L,scaling,lengthscale,sigma2,p,mean)\n",
    "    objective.backward()\n",
    "    gd.step()\n",
    "    history_gd.append(objective.item())\n",
    "    if i%1000 ==0:\n",
    "        print(objective)\n",
    "    if (i>1) and (np.abs(history_gd[-1] - history_gd[-2]) < .000001):\n",
    "        print(\"Convergence achieved in \", i+1, \" iterations\")\n",
    "        print(\"-LogL Value: \", objective.item())\n",
    "        break\n"
   ]
  },
  {
   "cell_type": "code",
   "execution_count": null,
   "id": "45b4a22a-f021-4c11-9402-ed173d993ca4",
   "metadata": {},
   "outputs": [],
   "source": [
    "mean"
   ]
  },
  {
   "cell_type": "code",
   "execution_count": null,
   "id": "5fe6d91f-e3fb-48d5-8697-59899013cc53",
   "metadata": {},
   "outputs": [],
   "source": [
    "L"
   ]
  },
  {
   "cell_type": "code",
   "execution_count": null,
   "id": "331748cb-f04b-439e-ac1c-9e25cb560a62",
   "metadata": {},
   "outputs": [],
   "source": [
    "lengthscale\n"
   ]
  },
  {
   "cell_type": "code",
   "execution_count": null,
   "id": "86f0b25f-f59f-424e-839a-db316d13a718",
   "metadata": {},
   "outputs": [],
   "source": [
    "cost(Y,X,L_true,scaling,lengthscale,sigma2,p,mean)"
   ]
  },
  {
   "cell_type": "code",
   "execution_count": null,
   "id": "69f488ef-aa51-498d-a306-7e78f137de75",
   "metadata": {},
   "outputs": [],
   "source": [
    "cost(Y,X,L,scaling,lengthscale,sigma2,p,mean)"
   ]
  },
  {
   "cell_type": "code",
   "execution_count": null,
   "id": "87a58e62-d4cb-4008-8393-f670dfba6b7e",
   "metadata": {},
   "outputs": [],
   "source": [
    "mean"
   ]
  },
  {
   "cell_type": "markdown",
   "id": "268f53cf-f0ea-4107-9e06-7afe9b82f1e7",
   "metadata": {},
   "source": [
    "Posterior mean: $$m(X^*,X)+K((X^*,L^*),(X,L))^\\top(K((X,L),(X,L))+\\sigma^2I)^{-1}(Y-m(X,X))$$"
   ]
  },
  {
   "cell_type": "code",
   "execution_count": null,
   "id": "f685137a-1d54-4318-8857-95ffebe356e6",
   "metadata": {},
   "outputs": [],
   "source": [
    "ref=0\n",
    "l_ref = 0\n",
    "dif = 0.01"
   ]
  },
  {
   "cell_type": "code",
   "execution_count": null,
   "id": "5e7adf72-4840-4750-8aaa-eb9582e63f0c",
   "metadata": {},
   "outputs": [],
   "source": [
    "K=rbf2(X,L,X,L,scaling,lengthscale,p,p)+sigma2*torch.eye(X.shape[0])"
   ]
  },
  {
   "cell_type": "code",
   "execution_count": null,
   "id": "71eef972-0e1a-49d5-8ec5-69a367bae204",
   "metadata": {},
   "outputs": [],
   "source": [
    "L[l_ref]"
   ]
  },
  {
   "cell_type": "code",
   "execution_count": null,
   "id": "128696b6-99ee-435a-b551-83f3711c07a0",
   "metadata": {},
   "outputs": [],
   "source": [
    "X[0:10]"
   ]
  },
  {
   "cell_type": "code",
   "execution_count": null,
   "id": "31616f4e-b2f3-48de-957e-d4b78309a652",
   "metadata": {},
   "outputs": [],
   "source": [
    "test_input[i][:,3:6].shape"
   ]
  },
  {
   "cell_type": "code",
   "execution_count": null,
   "id": "53fe1a97-9200-4c11-b944-1dff54642e8e",
   "metadata": {},
   "outputs": [],
   "source": [
    "real"
   ]
  },
  {
   "cell_type": "code",
   "execution_count": null,
   "id": "9f140194-78ca-43f0-a9a2-1b50fe0af3be",
   "metadata": {},
   "outputs": [],
   "source": [
    "((pred-real[:,None])**2).mean()"
   ]
  },
  {
   "cell_type": "code",
   "execution_count": null,
   "id": "6edd0e12-b1fb-4543-af3b-a750ceff828e",
   "metadata": {},
   "outputs": [],
   "source": [
    "R2=0\n",
    "for i in range(L.shape[0]):\n",
    "    K_s = rbf2(X,L,test_input[i][:,:],L[[i]],scaling,lengthscale,p,test_input[i].shape[0])\n",
    "    pred=mean*Y_std +torch.matmul(K_s.T,torch.linalg.solve(K,Y-mean))*Y_std + Y_mean\n",
    "    real=test_output[i][:,0]\n",
    "\n",
    "    R2 += 1-((pred-real[:,None])**2).mean()/(real.std()**2)\n",
    "    print(1-((pred-real[:,None])**2).mean()/(real.std()**2))\n",
    "R2=R2/L.shape[0]\n",
    "\n",
    "print(R2)"
   ]
  },
  {
   "cell_type": "code",
   "execution_count": null,
   "id": "bd659098-ac61-4847-8dda-a0e9a7ac2bcc",
   "metadata": {},
   "outputs": [],
   "source": [
    "def posterior_theta(X_test,L_test,p_test,X_train,L_train,p_train,scaling,lengthscale,sigma2,mean):\n",
    "    K = rbf2(X_train,L_train,X_train,L_train,scaling,lengthscale,p_train,p_train)+sigma2*torch.eye(X_train.shape[0])\n",
    "    K_s = rbf2(X_train,L_train,X_test,L_test,scaling,lengthscale,p_train,p_test)\n",
    "    K_ss = rbf2(X_test,L_test,X_test,L_test,scaling,lengthscale,p_test,p_test)\n",
    "\n",
    "    mean_p = mean+torch.matmul(K_s.T,torch.linalg.solve(K,Y-mean))\n",
    "    K_p = K_ss-torch.matmul(K_s.T,torch.linalg.solve(K,K_s))+sigma2\n",
    "    return mean_p, K_p"
   ]
  },
  {
   "cell_type": "code",
   "execution_count": null,
   "id": "1c7be443-d254-4740-a21f-0d1f80969319",
   "metadata": {},
   "outputs": [],
   "source": [
    "test_output[i].std(axis=0)"
   ]
  },
  {
   "cell_type": "code",
   "execution_count": null,
   "id": "78d7d553-1e50-4da2-9e1f-44a5e6b50f3a",
   "metadata": {},
   "outputs": [],
   "source": [
    "R2=0\n",
    "for i in range(L.shape[0]):\n",
    "    m_p,K_p = posterior_theta(test_input[i][:,3:6],L[[i]],test_input[i].shape[0],X,L,p,scaling,lengthscale,sigma2,mean)\n",
    "    R2+=1-((m_p*Y_std+Y_mean-(test_output[i]))**2).mean(axis=0)/test_output[i].std(axis=0)**2\n",
    "    print(1-((m_p*Y_std+Y_mean-(test_output[i]))**2).mean(axis=0)/test_output[i].std(axis=0)**2)\n",
    "R2=R2/L.shape[0]\n",
    "\n",
    "print(R2)"
   ]
  },
  {
   "cell_type": "code",
   "execution_count": null,
   "id": "f0bfd681-48c8-48d0-9fed-a257dfef7c96",
   "metadata": {},
   "outputs": [],
   "source": [
    "test_output[i]"
   ]
  },
  {
   "cell_type": "code",
   "execution_count": null,
   "id": "f323cf61-9022-419d-8810-af9278b0049c",
   "metadata": {},
   "outputs": [],
   "source": [
    "Y_std"
   ]
  },
  {
   "cell_type": "code",
   "execution_count": null,
   "id": "5ce20a6e-a6ce-4ffe-a5ad-7b0d38fa77e2",
   "metadata": {},
   "outputs": [],
   "source": [
    "test_output[i].std(axis=0)"
   ]
  },
  {
   "cell_type": "code",
   "execution_count": null,
   "id": "9badb48f-a985-446b-a1fd-25b614b1bda0",
   "metadata": {},
   "outputs": [],
   "source": [
    "1-((m_p*Y_std+Y_mean-(test_output[i]))**2).mean(axis=0)/56"
   ]
  },
  {
   "cell_type": "code",
   "execution_count": null,
   "id": "040d64c1-d2d7-4593-a77c-f06aece04ea2",
   "metadata": {},
   "outputs": [],
   "source": [
    "Y[0:10]"
   ]
  },
  {
   "cell_type": "code",
   "execution_count": null,
   "id": "be4ca08a-0d37-423d-b321-bfda462e8cf2",
   "metadata": {},
   "outputs": [],
   "source": [
    "plt.imshow(K_p.detach().numpy())"
   ]
  },
  {
   "cell_type": "code",
   "execution_count": null,
   "id": "dda9aa59-cd9d-4140-8b83-fbcf4220b273",
   "metadata": {},
   "outputs": [],
   "source": [
    "p_new = 180\n",
    "X_new=torch.torch.FloatTensor(p_new, 3).uniform_(-1, 1)\n",
    "L_new =torch.normal(0,torch.ones(1,L_true.shape[1]))\n",
    "L_new=L_true[[1]]\n",
    "Y_new=true_func(X_new,L_new,alpha,beta,zeta)\n",
    "\n",
    "Y_new_mean = Y_new.mean()\n",
    "Y_new_std = Y_new.std()\n",
    "\n",
    "Y_new = (Y_new-Y_mean)/Y_std"
   ]
  },
  {
   "cell_type": "code",
   "execution_count": null,
   "id": "335c87b9-fb75-4328-bd8a-a76a92206f6b",
   "metadata": {},
   "outputs": [],
   "source": [
    "plt.plot(X_new[:,0].detach().numpy(),Y_new.detach().numpy(),'o')"
   ]
  },
  {
   "cell_type": "code",
   "execution_count": null,
   "id": "bdd7927a-c4a3-4aad-b2de-3c867eb3cd17",
   "metadata": {},
   "outputs": [],
   "source": [
    "def cf_cost(Y_new,X_new,L_new,X_train,L_train,scaling,lengthscale,sigma2,p_train,p_new,mean):\n",
    "    \n",
    "    \n",
    "    mean_p,K_p = posterior_theta(X_new,L_new,p_new,X_train,L_train,p_train,scaling,lengthscale,sigma2,mean)\n",
    "    \n",
    "    #K_inv=torch.kron(torch.linalg.inv(K_x),torch.linalg.inv(K_L))\n",
    "    #K_inv=torch.kron(torch.linalg.inv(K_L),torch.linalg.inv(K_x))\n",
    "    #print(torch.linalg.det(K))\n",
    "    c = multivariate_ll(Y_new,mean_p,K_p) + multivariate_ll(L_new,0,torch.eye(L_new.shape[0])) # multivariate_ll(torch.repeat_interleave(L,x.shape[0])[:,None],0,torch.eye(inp.shape[0]))\n",
    "    #print(multivariate_ll(Y_new,mean_p,K_p))\n",
    "    #print(multivariate_ll(L_new,0,torch.eye(L_new.shape[0])))\n",
    "    return -c"
   ]
  },
  {
   "cell_type": "code",
   "execution_count": null,
   "id": "92f30625-fd97-4f2b-b359-45d8c600c086",
   "metadata": {},
   "outputs": [],
   "source": [
    "cf_cost(Y_new,X_new,L_new,X,L,scaling,lengthscale,sigma2,p,p_new,mean)"
   ]
  },
  {
   "cell_type": "code",
   "execution_count": null,
   "id": "072c96f6-845a-48dc-a6e7-1763e839c592",
   "metadata": {},
   "outputs": [],
   "source": [
    "mean_p,K_p = posterior_theta(X_new,L_cf,p_new,X,L,p,scaling,lengthscale,sigma2,mean)"
   ]
  },
  {
   "cell_type": "code",
   "execution_count": null,
   "id": "91c8b6df-e0cb-48be-8af6-0c181b38cfda",
   "metadata": {},
   "outputs": [],
   "source": [
    "plt.imshow(K_p.detach().numpy())"
   ]
  },
  {
   "cell_type": "code",
   "execution_count": null,
   "id": "a204212f-fc35-4215-8b6d-5478e33b6a61",
   "metadata": {},
   "outputs": [],
   "source": [
    "mean_p"
   ]
  },
  {
   "cell_type": "code",
   "execution_count": null,
   "id": "57f5bed7-2a08-43c1-88b4-5ab9c35bd2de",
   "metadata": {},
   "outputs": [],
   "source": [
    "Y_new"
   ]
  },
  {
   "cell_type": "code",
   "execution_count": null,
   "id": "79f839cb-4b6c-47ca-84de-54f9ab8215b2",
   "metadata": {},
   "outputs": [],
   "source": [
    "L_cf =torch.normal(0,torch.ones(1,L_true.shape[1])).clone().detach().requires_grad_(True)\n",
    "#L_cf = (L[[1]]).clone().detach().requires_grad_(True)"
   ]
  },
  {
   "cell_type": "code",
   "execution_count": null,
   "id": "5e49230b-339c-41b1-b11c-76e37bd4b229",
   "metadata": {},
   "outputs": [],
   "source": [
    "cf_cost(Y_new,X_new,L_cf,X,L,scaling,lengthscale,sigma2,p,p_new,mean)"
   ]
  },
  {
   "cell_type": "code",
   "execution_count": null,
   "id": "46e8457b-ddb1-41ae-a3cd-ac2085b3220d",
   "metadata": {},
   "outputs": [],
   "source": [
    "\n",
    "cf = torch.optim.SGD([L_cf], lr=1e-4)\n",
    "history_cf = []\n",
    "\n",
    "for i in range(100000):\n",
    "    cf.zero_grad()\n",
    "    objective = cf_cost(Y_new,X_new,L_cf,X,L,scaling,lengthscale,sigma2,p,p_new,mean)\n",
    "    objective.backward()\n",
    "    cf.step()\n",
    "    history_cf.append(objective.item())\n",
    "    if i%1000 ==0:\n",
    "        m_new, K_new = posterior_theta(X_new,L_cf,p_new,X,L,p,scaling,lengthscale,sigma2,mean)\n",
    "        print(1-(((m_new-Y_new)**2).mean())/Y_new.std())\n",
    "    if (i>1) and (np.abs(history_cf[-1] - history_cf[-2]) < .00000000001):\n",
    "        print(\"Convergence achieved in \", i+1, \" iterations\")\n",
    "        print(\"-LogL Value: \", objective.item())\n",
    "        break\n"
   ]
  },
  {
   "cell_type": "code",
   "execution_count": null,
   "id": "f63fb05d-0d56-40b6-a6d9-0ee2a1198636",
   "metadata": {},
   "outputs": [],
   "source": [
    "L_cf"
   ]
  },
  {
   "cell_type": "code",
   "execution_count": null,
   "id": "96e49cd6-c5ca-42aa-ac75-8c6fe99ab35c",
   "metadata": {},
   "outputs": [],
   "source": [
    "L[[1]]"
   ]
  },
  {
   "cell_type": "code",
   "execution_count": null,
   "id": "e4403cfa-d220-4635-9dd6-5944728314b7",
   "metadata": {},
   "outputs": [],
   "source": [
    "m_new, K_new = posterior_theta(X_new,L_cf,p_new,X,L,p,scaling,lengthscale,sigma2,mean)"
   ]
  },
  {
   "cell_type": "code",
   "execution_count": null,
   "id": "3ec908a8-1203-43c5-9143-d5e64f469c86",
   "metadata": {},
   "outputs": [],
   "source": [
    "K_new.detach().numpy()"
   ]
  },
  {
   "cell_type": "code",
   "execution_count": null,
   "id": "7f4fd206-01a2-4097-9fc1-fc299774578e",
   "metadata": {},
   "outputs": [],
   "source": [
    "multivariate_ll(Y_new,m_new, K_new) + multivariate_ll(L_cf,0,torch.eye(L_new.shape[0]))"
   ]
  },
  {
   "cell_type": "code",
   "execution_count": null,
   "id": "8f11d985-b21a-436b-8e91-fdf55357b4d7",
   "metadata": {},
   "outputs": [],
   "source": [
    "multivariate_ll(Y_new,m_new, K_new) "
   ]
  },
  {
   "cell_type": "code",
   "execution_count": null,
   "id": "e792805f-4345-41bb-948e-480cc4336f9c",
   "metadata": {},
   "outputs": [],
   "source": [
    "multivariate_ll(L_cf,0,torch.eye(L_new.shape[0]))"
   ]
  },
  {
   "cell_type": "code",
   "execution_count": null,
   "id": "2e7341e1-e4c8-452a-a55e-5db9562f519c",
   "metadata": {},
   "outputs": [],
   "source": [
    "1-(((m_new-Y_new)**2).mean())/Y_new.std()"
   ]
  },
  {
   "cell_type": "code",
   "execution_count": null,
   "id": "c7272047-9b14-4c5b-8411-0a3cadcf1cad",
   "metadata": {},
   "outputs": [],
   "source": [
    "m_new"
   ]
  },
  {
   "cell_type": "code",
   "execution_count": null,
   "id": "e281a7e2-d74e-4b9a-a3a6-81565d4da552",
   "metadata": {},
   "outputs": [],
   "source": [
    "Y_new"
   ]
  },
  {
   "cell_type": "code",
   "execution_count": null,
   "id": "d0f50893-300c-4bd4-be4e-ebbe2839e663",
   "metadata": {},
   "outputs": [],
   "source": [
    "mean"
   ]
  },
  {
   "cell_type": "code",
   "execution_count": null,
   "id": "c2976d2b-64c3-4cac-9e43-035c58985678",
   "metadata": {},
   "outputs": [],
   "source": []
  },
  {
   "cell_type": "code",
   "execution_count": null,
   "id": "e55cf4a2-1a28-4b79-958e-84cee0c589b1",
   "metadata": {},
   "outputs": [],
   "source": []
  },
  {
   "cell_type": "code",
   "execution_count": null,
   "id": "92f6df8d-fb9f-4dd4-b13b-4c17db810984",
   "metadata": {},
   "outputs": [],
   "source": []
  }
 ],
 "metadata": {
  "kernelspec": {
   "display_name": "Python 3 (ipykernel)",
   "language": "python",
   "name": "python3"
  },
  "language_info": {
   "codemirror_mode": {
    "name": "ipython",
    "version": 3
   },
   "file_extension": ".py",
   "mimetype": "text/x-python",
   "name": "python",
   "nbconvert_exporter": "python",
   "pygments_lexer": "ipython3",
   "version": "3.11.5"
  }
 },
 "nbformat": 4,
 "nbformat_minor": 5
}
