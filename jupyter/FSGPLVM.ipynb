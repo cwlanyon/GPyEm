{
 "cells": [
  {
   "cell_type": "code",
   "execution_count": 1,
   "id": "c2fd0118-1953-4901-9e7b-403d2b56e2c3",
   "metadata": {},
   "outputs": [],
   "source": [
    "import math\n",
    "import torch\n",
    "import gpytorch\n",
    "import pandas as pd \n",
    "import numpy as np\n",
    "from matplotlib import pyplot as plt"
   ]
  },
  {
   "cell_type": "code",
   "execution_count": 2,
   "id": "c4288df3-5ba1-4845-9c47-402156e8971a",
   "metadata": {},
   "outputs": [],
   "source": [
    "import sklearn.metrics as sk"
   ]
  },
  {
   "cell_type": "markdown",
   "id": "4d022407-8ab7-4f98-93a5-de2e66818084",
   "metadata": {},
   "source": [
    "### Fully supervised GPLVM (we should come up with a better acronym/name)\n",
    "\n",
    "Observations:\n",
    "$$Y = [y_1,...,y_N], \\ y_n \\in R^{p}$$\n",
    "Model parameters\n",
    "$$X = [x_1,...,x_N], \\ x_n \\in R^{p\\times q}$$\n",
    "Latent parameters/features\n",
    "$$L = [l_1,...,l_N], \\ l_n \\in R^{d }$$\n",
    "With $d<q$ and $L\\sim N(0,I)$.\n",
    "\n",
    "We want to find a function $f_\\theta$ such that:\n",
    "$$ Y = f_\\theta(X,L)+\\epsilon $$\n",
    "Let's make $f$ a GP, as we like to, with mean $m_\\theta(X,L)$ and covariance $K_\\theta((X,L),(X',L'))$\n",
    "We would like to learn $L$ and $\\theta$ (the hyper-parameters). \n",
    "\n",
    "As a cost function we use the likelihood\n",
    "$$p(Y,L|X) = p(Y|L,X)p(L) $$\n",
    "and as $f$ is a GP,\n",
    "$$p(Y|L,X) \\sim N(m_\\theta(X,L), K_\\theta((X,L),(X,L)))$$\n",
    "\n",
    "Taking the log we have\n",
    "$$\\log p(Y,L|X) = \\log p(Y|L,X)+\\log p(L) $$\n",
    "$$ = -\\frac{NP}{2}\\log(2\\pi)-\\frac{1}{2}\\log|K_\\theta|-\\frac{1}{2}(Y-m_\\theta(X,L))^\\top\\ K_\\theta^{-1}(Y-m_\\theta(X,L))-\\frac{N}{2}\\log(2\\pi)-\\frac{1}{2}\\log|I|-\\frac{1}{2}(L)^\\top I^{-1}(L)) $$\n"
   ]
  },
  {
   "cell_type": "markdown",
   "id": "7db27991-412e-4b67-9a76-0db0382473b9",
   "metadata": {},
   "source": [
    "to calculate $\\log |K|$ we use the fact that $\\log |K| = 2\\log\\Sigma (\\mathrm{diag}(L)_i)$, where $L$ is the cholesky decomposition of $K$."
   ]
  },
  {
   "cell_type": "code",
   "execution_count": 63,
   "id": "005cc30b-0fce-43f1-960d-a68e1f041408",
   "metadata": {},
   "outputs": [],
   "source": [
    "def multivariate_ll(y,mu,K,K_inv=None):\n",
    "    det = 2*torch.sum(torch.log(torch.diag(torch.linalg.cholesky(K))))\n",
    "    if K_inv==None:\n",
    "        ll = -(y.shape[0]/2)*torch.log(2*torch.tensor(torch.pi))-0.5*det-0.5*torch.matmul((y-mu).T,torch.linalg.solve(K,y-mu))\n",
    "    return ll"
   ]
  },
  {
   "cell_type": "code",
   "execution_count": 64,
   "id": "8c1c66f6-3513-4a65-b94a-0dc67fe6fce6",
   "metadata": {},
   "outputs": [],
   "source": [
    "def rbf(X,scaling,lengthscale):\n",
    "    X_=X/lengthscale\n",
    "    X_norm = torch.sum(X_ ** 2, axis = -1)\n",
    "    rbf = scaling * torch.exp(-0.5 * (X_norm + X_norm - 2 * torch.matmul(X_,X_.T)))\n",
    "    return rbf"
   ]
  },
  {
   "cell_type": "markdown",
   "id": "3994c62a-ec5e-4ff2-90f1-0902de215863",
   "metadata": {},
   "source": [
    "For the linear kernel we don't really have any separation possibilities that are useful to us from an inverting persepctive, as far as I can tell? \n",
    "$$K_{ij}=x_i^\\top x_j + l_i^\\top l_j$$\n",
    "\n",
    "So we don't get much in the way of help here."
   ]
  },
  {
   "cell_type": "code",
   "execution_count": 65,
   "id": "182f217c-b642-438e-bfa2-d292c99b9850",
   "metadata": {},
   "outputs": [],
   "source": [
    "def linear(X1,L1,X2,L2,X_length,L_length,p1,p2):\n",
    "    \n",
    "    L1=L1/torch.sqrt(L_scale)\n",
    "    X1=X1/torch.sqrt(X_scale)\n",
    "    X_1 = torch.cat((X1,torch.repeat_interleave(L1,p1)[:,None]),axis=1)\n",
    "\n",
    "    L2=L2/torch.sqrt(L_scale)\n",
    "    X2=X2/torch.sqrt(X_scale)\n",
    "    X_2 = torch.cat((X2,torch.repeat_interleave(L2,p2)[:,None]),axis=1)\n",
    "    \n",
    "    rbf =  torch.matmul(X_1, X_2.T) \n",
    "    return rbf"
   ]
  },
  {
   "cell_type": "markdown",
   "id": "9561338a-cf45-4358-97bb-d1460f6c7c62",
   "metadata": {},
   "source": [
    "sample $L$ and $X$ from $U[-1,1]$\n",
    "\n",
    "Here we do $x_i \\neq x_j$, just for the sake of it"
   ]
  },
  {
   "cell_type": "code",
   "execution_count": 66,
   "id": "52babe36-0822-4ed8-a2cf-f7f8ea2e4077",
   "metadata": {},
   "outputs": [],
   "source": [
    "N = 10 #number of systems\n",
    "p = 40 #observations per system\n",
    "alpha=10\n",
    "beta=-70\n",
    "zeta=500"
   ]
  },
  {
   "cell_type": "code",
   "execution_count": 67,
   "id": "434fff99-4185-40a6-8ec0-11180da77f95",
   "metadata": {},
   "outputs": [],
   "source": [
    "L_true=torch.FloatTensor(N, 1).uniform_(-1, 1)"
   ]
  },
  {
   "cell_type": "code",
   "execution_count": 68,
   "id": "9e40232a-a9f1-46d2-b4af-f4a7a0c74d01",
   "metadata": {},
   "outputs": [],
   "source": [
    "X=torch.torch.FloatTensor(N*p, 1).uniform_(-1, 1)"
   ]
  },
  {
   "cell_type": "code",
   "execution_count": 69,
   "id": "bd5cbaea-cc79-484c-80a9-c5e9da7f998d",
   "metadata": {},
   "outputs": [],
   "source": [
    "def true_func(X,L,alpha,beta,zeta):\n",
    "    tf = alpha*X+beta*L+zeta\n",
    "    return tf"
   ]
  },
  {
   "cell_type": "code",
   "execution_count": 70,
   "id": "1c8c58cd-68f3-4009-8045-ceb52ece710f",
   "metadata": {},
   "outputs": [],
   "source": [
    "y=[]\n",
    "for i in range(N):\n",
    "    y.append(true_func(X[i*p:(i+1)*p],L_true[i],alpha,beta,zeta))"
   ]
  },
  {
   "cell_type": "code",
   "execution_count": 71,
   "id": "17b6ccee-493f-4e52-b3a6-5888101788c9",
   "metadata": {},
   "outputs": [],
   "source": [
    "Y=torch.cat(y)"
   ]
  },
  {
   "cell_type": "code",
   "execution_count": 72,
   "id": "2f674a06-5dd7-4684-9df8-c87ba4097f90",
   "metadata": {},
   "outputs": [
    {
     "data": {
      "text/plain": [
       "torch.Size([400, 1])"
      ]
     },
     "execution_count": 72,
     "metadata": {},
     "output_type": "execute_result"
    }
   ],
   "source": [
    "Y.shape"
   ]
  },
  {
   "cell_type": "code",
   "execution_count": 73,
   "id": "3226c206-d056-49e7-88dc-a8a77e384bb6",
   "metadata": {},
   "outputs": [],
   "source": [
    "Y_mean = Y.mean()\n",
    "Y_std = Y.std()"
   ]
  },
  {
   "cell_type": "code",
   "execution_count": 74,
   "id": "6f5f88b5-9022-47d2-9b10-e7e2de262998",
   "metadata": {},
   "outputs": [],
   "source": [
    "Y=(Y-Y_mean)/Y_std"
   ]
  },
  {
   "cell_type": "code",
   "execution_count": 75,
   "id": "b68b121b-f2e7-4c05-bf6c-24f14b4b1436",
   "metadata": {},
   "outputs": [],
   "source": [
    "def cost(y,X,L,X_scale,L_scale,sigma2,p,mean=0):\n",
    "    \n",
    "\n",
    "    K=linear(X,L,X,L,X_scale,L_scale,p,p)+sigma2*torch.eye(X.shape[0])\n",
    "    \n",
    "    #K_inv=torch.kron(torch.linalg.inv(K_x),torch.linalg.inv(K_L))\n",
    "    #K_inv=torch.kron(torch.linalg.inv(K_L),torch.linalg.inv(K_x))\n",
    "    #print(torch.linalg.det(K))\n",
    "    c = multivariate_ll(y,mean,K) + multivariate_ll(L,0,torch.eye(L.shape[0])) # multivariate_ll(torch.repeat_interleave(L,x.shape[0])[:,None],0,torch.eye(inp.shape[0]))\n",
    "    return -c"
   ]
  },
  {
   "cell_type": "code",
   "execution_count": 76,
   "id": "49ce4f0b-e89c-4ef7-8604-0fa8841cc9aa",
   "metadata": {},
   "outputs": [],
   "source": [
    "L = torch.rand(L_true.shape[0],1).clone().detach().requires_grad_(True)"
   ]
  },
  {
   "cell_type": "code",
   "execution_count": 77,
   "id": "5e5c6148-0f64-4df1-bd50-609a94ee3402",
   "metadata": {},
   "outputs": [],
   "source": [
    "L =torch.normal(0,torch.ones(L_true.shape[0],1)).clone().detach().requires_grad_(True)\n",
    "X_scale = torch.rand(1).clone().detach().requires_grad_(True)\n",
    "L_scale = torch.rand(1).clone().detach().requires_grad_(True)\n",
    "sigma2 = torch.tensor([0.00001]).clone().detach().requires_grad_(True)\n",
    "mean = torch.rand(1).clone().detach().requires_grad_(True)"
   ]
  },
  {
   "cell_type": "code",
   "execution_count": 78,
   "id": "471060c4-7b3e-40bb-9c99-b8e924242b15",
   "metadata": {
    "scrolled": true
   },
   "outputs": [
    {
     "data": {
      "text/plain": [
       "tensor([[1901562.8750]], grad_fn=<NegBackward0>)"
      ]
     },
     "execution_count": 78,
     "metadata": {},
     "output_type": "execute_result"
    }
   ],
   "source": [
    "cost(Y,X,L,X_scale,L_scale,sigma2,p)"
   ]
  },
  {
   "cell_type": "code",
   "execution_count": 97,
   "id": "9e03c375-80a3-4620-b137-52be08faec15",
   "metadata": {},
   "outputs": [
    {
     "name": "stdout",
     "output_type": "stream",
     "text": [
      "tensor([[-1442.7107]], grad_fn=<NegBackward0>)\n",
      "Convergence achieved in  766  iterations\n",
      "-LogL Value:  -1444.8563232421875\n"
     ]
    }
   ],
   "source": [
    "gd = torch.optim.Adam([L,X_scale,L_scale,mean], lr=1e-3)\n",
    "history_gd = []\n",
    "\n",
    "for i in range(100000):\n",
    "    gd.zero_grad()\n",
    "    objective = cost(Y,X,L,X_scale,L_scale,sigma2,p,mean)\n",
    "    objective.backward()\n",
    "    gd.step()\n",
    "    history_gd.append(objective.item())\n",
    "    if i%1000 ==0:\n",
    "        print(objective)\n",
    "    if (i>1) and (np.abs(history_gd[-1] - history_gd[-2]) < .0000001):\n",
    "        print(\"Convergence achieved in \", i+1, \" iterations\")\n",
    "        print(\"-LogL Value: \", objective.item())\n",
    "        break\n"
   ]
  },
  {
   "cell_type": "code",
   "execution_count": 98,
   "id": "6f0833a9-d84b-406e-a34f-a3b686ffc202",
   "metadata": {},
   "outputs": [
    {
     "data": {
      "text/plain": [
       "tensor([[ 0.9738],\n",
       "        [ 0.1013],\n",
       "        [ 0.5664],\n",
       "        [-0.1560],\n",
       "        [-0.3757],\n",
       "        [-0.9250],\n",
       "        [-0.7929],\n",
       "        [-0.5063],\n",
       "        [ 0.2551],\n",
       "        [-0.3836]])"
      ]
     },
     "execution_count": 98,
     "metadata": {},
     "output_type": "execute_result"
    }
   ],
   "source": [
    "L_true"
   ]
  },
  {
   "cell_type": "code",
   "execution_count": 99,
   "id": "5fe6d91f-e3fb-48d5-8697-59899013cc53",
   "metadata": {},
   "outputs": [
    {
     "data": {
      "text/plain": [
       "tensor([[-1.5983],\n",
       "        [-0.2337],\n",
       "        [-0.9611],\n",
       "        [ 0.1687],\n",
       "        [ 0.5123],\n",
       "        [ 1.3713],\n",
       "        [ 1.1646],\n",
       "        [ 0.7165],\n",
       "        [-0.4742],\n",
       "        [ 0.5247]], requires_grad=True)"
      ]
     },
     "execution_count": 99,
     "metadata": {},
     "output_type": "execute_result"
    }
   ],
   "source": [
    "L"
   ]
  },
  {
   "cell_type": "code",
   "execution_count": 100,
   "id": "86f0b25f-f59f-424e-839a-db316d13a718",
   "metadata": {},
   "outputs": [
    {
     "data": {
      "text/plain": [
       "tensor([[33516.0586]], grad_fn=<NegBackward0>)"
      ]
     },
     "execution_count": 100,
     "metadata": {},
     "output_type": "execute_result"
    }
   ],
   "source": [
    "cost(Y,X,L,X_scale,L_scale,sigma2,p)"
   ]
  },
  {
   "cell_type": "code",
   "execution_count": 101,
   "id": "69f488ef-aa51-498d-a306-7e78f137de75",
   "metadata": {},
   "outputs": [
    {
     "data": {
      "text/plain": [
       "tensor([[88186.8672]], grad_fn=<NegBackward0>)"
      ]
     },
     "execution_count": 101,
     "metadata": {},
     "output_type": "execute_result"
    }
   ],
   "source": [
    "cost(Y,X,L_true,X_scale,L_scale,sigma2,p)"
   ]
  },
  {
   "cell_type": "code",
   "execution_count": 102,
   "id": "29b1a613-a92f-40dc-92a4-234d1a30117b",
   "metadata": {},
   "outputs": [
    {
     "data": {
      "text/plain": [
       "tensor([1.2776], requires_grad=True)"
      ]
     },
     "execution_count": 102,
     "metadata": {},
     "output_type": "execute_result"
    }
   ],
   "source": [
    "X_scale"
   ]
  },
  {
   "cell_type": "code",
   "execution_count": 103,
   "id": "1e0f4928-52ac-4521-b750-19bb3fce9f87",
   "metadata": {},
   "outputs": [
    {
     "data": {
      "text/plain": [
       "tensor([0.8284], requires_grad=True)"
      ]
     },
     "execution_count": 103,
     "metadata": {},
     "output_type": "execute_result"
    }
   ],
   "source": [
    "L_scale"
   ]
  },
  {
   "cell_type": "code",
   "execution_count": 104,
   "id": "87a58e62-d4cb-4008-8393-f670dfba6b7e",
   "metadata": {},
   "outputs": [
    {
     "data": {
      "text/plain": [
       "tensor([-0.1336], requires_grad=True)"
      ]
     },
     "execution_count": 104,
     "metadata": {},
     "output_type": "execute_result"
    }
   ],
   "source": [
    "mean"
   ]
  },
  {
   "cell_type": "markdown",
   "id": "268f53cf-f0ea-4107-9e06-7afe9b82f1e7",
   "metadata": {},
   "source": [
    "Posterior mean: $$m(X^*,X)+K((X^*,L^*),(X,L))^\\top(K((X,L),(X,L))+\\sigma^2I)^{-1}(Y-m(X,X))$$"
   ]
  },
  {
   "cell_type": "code",
   "execution_count": 105,
   "id": "f685137a-1d54-4318-8857-95ffebe356e6",
   "metadata": {},
   "outputs": [],
   "source": [
    "ref=6\n",
    "l_ref = 0\n",
    "dif = 0.1"
   ]
  },
  {
   "cell_type": "code",
   "execution_count": 106,
   "id": "5e7adf72-4840-4750-8aaa-eb9582e63f0c",
   "metadata": {},
   "outputs": [],
   "source": [
    "K=linear(X,L,X,L,X_scale,L_scale,p,p)+sigma2*torch.eye(X.shape[0])"
   ]
  },
  {
   "cell_type": "code",
   "execution_count": 107,
   "id": "a38a2bfb-937e-4a8b-8d28-fc454113619c",
   "metadata": {},
   "outputs": [],
   "source": [
    "K_s = linear(X,L,X[0:10]+dif,L[[l_ref]],X_scale,L_scale,p,10)"
   ]
  },
  {
   "cell_type": "code",
   "execution_count": 108,
   "id": "64a1ab38-3b5f-4c73-971d-0e5f59973f23",
   "metadata": {},
   "outputs": [
    {
     "data": {
      "text/plain": [
       "tensor([[422.9970],\n",
       "        [430.5042],\n",
       "        [438.8089],\n",
       "        [437.0302],\n",
       "        [438.5528],\n",
       "        [439.8081],\n",
       "        [426.0893],\n",
       "        [442.2871],\n",
       "        [435.7614],\n",
       "        [425.7455]], grad_fn=<AddBackward0>)"
      ]
     },
     "execution_count": 108,
     "metadata": {},
     "output_type": "execute_result"
    }
   ],
   "source": [
    "mean*Y_std +torch.matmul(K_s.T,torch.linalg.solve(K,Y-mean))*Y_std + Y_mean"
   ]
  },
  {
   "cell_type": "code",
   "execution_count": 109,
   "id": "7d5b4c8c-a0c6-4b8d-bb50-e85c437a4efb",
   "metadata": {},
   "outputs": [
    {
     "data": {
      "text/plain": [
       "tensor([[422.9973],\n",
       "        [430.5046],\n",
       "        [438.8094],\n",
       "        [437.0305],\n",
       "        [438.5530],\n",
       "        [439.8083],\n",
       "        [426.0897],\n",
       "        [442.2878],\n",
       "        [435.7616],\n",
       "        [425.7458]])"
      ]
     },
     "execution_count": 109,
     "metadata": {},
     "output_type": "execute_result"
    }
   ],
   "source": [
    "true_func(X[0:10]+dif,L_true[l_ref],alpha,beta,zeta)"
   ]
  },
  {
   "cell_type": "code",
   "execution_count": null,
   "id": "6e936c38-c726-4d3c-aabf-d5646372622c",
   "metadata": {},
   "outputs": [],
   "source": []
  },
  {
   "cell_type": "code",
   "execution_count": null,
   "id": "6edd0e12-b1fb-4543-af3b-a750ceff828e",
   "metadata": {},
   "outputs": [],
   "source": []
  },
  {
   "cell_type": "code",
   "execution_count": null,
   "id": "a5179eb9-86b3-400e-9949-e31d7b91c701",
   "metadata": {},
   "outputs": [],
   "source": []
  },
  {
   "cell_type": "code",
   "execution_count": null,
   "id": "2c49cfae-f966-4da2-8a3b-8a5576b5852a",
   "metadata": {},
   "outputs": [],
   "source": []
  }
 ],
 "metadata": {
  "kernelspec": {
   "display_name": "Python 3 (ipykernel)",
   "language": "python",
   "name": "python3"
  },
  "language_info": {
   "codemirror_mode": {
    "name": "ipython",
    "version": 3
   },
   "file_extension": ".py",
   "mimetype": "text/x-python",
   "name": "python",
   "nbconvert_exporter": "python",
   "pygments_lexer": "ipython3",
   "version": "3.11.5"
  }
 },
 "nbformat": 4,
 "nbformat_minor": 5
}
