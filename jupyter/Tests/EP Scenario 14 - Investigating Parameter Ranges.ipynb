{
 "cells": [
  {
   "cell_type": "code",
   "execution_count": 1,
   "id": "5ba866e8",
   "metadata": {},
   "outputs": [],
   "source": [
    "import math\n",
    "import torch\n",
    "import gpytorch\n",
    "import pandas as pd\n",
    "import numpy as np\n",
    "from matplotlib import pyplot as plt\n",
    "\n",
    "\n",
    "import GPE_ensemble as GPE\n",
    "\n",
    "import os\n",
    "from sklearn.linear_model import LinearRegression\n",
    "from sklearn.metrics import mean_squared_error, r2_score\n",
    "from sklearn.model_selection import train_test_split\n",
    "#from GPErks.gp.data.dataset import Dataset\n",
    "from gpytorch.likelihoods import GaussianLikelihood\n",
    "from gpytorch.means import LinearMean\n",
    "from gpytorch.kernels import RBFKernel, ScaleKernel\n",
    "from torchmetrics import MeanSquaredError, R2Score\n",
    "#from GPErks.gp.experiment import GPExperiment\n",
    "#from GPErks.train.emulator import GPEmulator\n",
    "#from GPErks.perks.inference import Inference\n",
    "#from GPErks.train.early_stop import NoEarlyStoppingCriterion\n",
    "#from GPErks.train.early_stop import (\n",
    "#    GLEarlyStoppingCriterion,\n",
    "#    PQEarlyStoppingCriterion,\n",
    "#    UPEarlyStoppingCriterion,\n",
    "#)\n",
    "#from GPErks.train.early_stop import PkEarlyStoppingCriterion\n",
    "\n",
    "\n",
    "\n",
    "%matplotlib inline\n",
    "%load_ext autoreload\n",
    "%autoreload 2\n",
    "\n",
    "# set logger and enforce reproducibility\n",
    "#from GPErks.log.logger import get_logger\n",
    "#from GPErks.utils.random import set_seed\n",
    "#log = get_logger()\n",
    "seed = 7\n",
    "#set_seed(seed)"
   ]
  },
  {
   "cell_type": "code",
   "execution_count": 2,
   "id": "b81ecd1f",
   "metadata": {},
   "outputs": [
    {
     "name": "stdout",
     "output_type": "stream",
     "text": [
      "     CV_ventricles  k_ventricles    k_FEC  CV_atria   k_atria     k_BB\n",
      "0         0.433132      0.407269  5.30658  0.874693  0.417683  2.21463\n",
      "1         0.385589      0.322151  5.90476  0.557781  0.471259  2.80104\n",
      "2         0.510789      0.285116  6.01804  0.566984  0.258843  3.35054\n",
      "3         0.750440      0.442017  7.78668  0.493838  0.306995  4.20922\n",
      "4         0.513239      0.464951  2.20701  0.580031  0.202515  2.59128\n",
      "..             ...           ...      ...       ...       ...      ...\n",
      "995       0.706865      0.224623  2.81208  0.428414  0.448418  3.62264\n",
      "996       0.448939      0.353016  7.53745  0.777970  0.239075  5.37790\n",
      "997       0.572657      0.276867  4.39446  0.800731  0.420263  4.99002\n",
      "998       0.726343      0.204043  7.27496  0.545125  0.457704  4.26422\n",
      "999       0.417243      0.391288  2.46087  0.938040  0.393245  4.85888\n",
      "\n",
      "[1000 rows x 6 columns]\n"
     ]
    }
   ],
   "source": [
    "x_labels=pd.read_csv(r'/Users/pmzcwl/Library/CloudStorage/OneDrive-TheUniversityofNottingham/shared_simulations/EP/scenario_14/xlabels.txt',delim_whitespace=True,header=None)\n",
    "\n",
    "\n",
    "X_all = pd.read_csv(r'/Users/pmzcwl/Library/CloudStorage/OneDrive-TheUniversityofNottingham/shared_simulations/EP/scenario_14/X.txt',index_col=None,delim_whitespace=True,header=None)\n",
    "X_all.columns=x_labels.values.squeeze().tolist()\n",
    "print(X_all)"
   ]
  },
  {
   "cell_type": "code",
   "execution_count": 3,
   "id": "121230ab",
   "metadata": {},
   "outputs": [
    {
     "name": "stdout",
     "output_type": "stream",
     "text": [
      "       A_TAT     V_TAT\n",
      "0    114.805  144.4370\n",
      "1    168.557  172.9010\n",
      "2    188.868  135.9760\n",
      "3    205.098   78.8044\n",
      "4    200.110  119.3600\n",
      "..       ...       ...\n",
      "175  126.217  105.1530\n",
      "176  215.036  109.0000\n",
      "177  216.901  147.4320\n",
      "178  119.897  175.9870\n",
      "179  122.702  177.5180\n",
      "\n",
      "[180 rows x 2 columns]\n"
     ]
    }
   ],
   "source": [
    "y_labels=pd.read_csv(r'/Users/pmzcwl/Library/CloudStorage/OneDrive-TheUniversityofNottingham/shared_simulations/EP/scenario_14/ylabels.txt',delim_whitespace=True,header=None)\n",
    "\n",
    "\n",
    "y_all = pd.read_csv(r'/Users/pmzcwl/Library/CloudStorage/OneDrive-TheUniversityofNottingham/shared_simulations/EP/scenario_14/Y.txt',index_col=None,delim_whitespace=True,header=None)\n",
    "y_all.columns=y_labels.values.squeeze().tolist()\n",
    "print(y_all)"
   ]
  },
  {
   "cell_type": "markdown",
   "id": "f1349dc8",
   "metadata": {},
   "source": [
    "# Emulator"
   ]
  },
  {
   "cell_type": "code",
   "execution_count": 4,
   "id": "110b9938",
   "metadata": {},
   "outputs": [],
   "source": [
    "input_masked = X_all.copy()"
   ]
  },
  {
   "cell_type": "code",
   "execution_count": 5,
   "id": "7226a5aa",
   "metadata": {},
   "outputs": [
    {
     "data": {
      "text/html": [
       "<div>\n",
       "<style scoped>\n",
       "    .dataframe tbody tr th:only-of-type {\n",
       "        vertical-align: middle;\n",
       "    }\n",
       "\n",
       "    .dataframe tbody tr th {\n",
       "        vertical-align: top;\n",
       "    }\n",
       "\n",
       "    .dataframe thead th {\n",
       "        text-align: right;\n",
       "    }\n",
       "</style>\n",
       "<table border=\"1\" class=\"dataframe\">\n",
       "  <thead>\n",
       "    <tr style=\"text-align: right;\">\n",
       "      <th></th>\n",
       "      <th>A_TAT</th>\n",
       "      <th>V_TAT</th>\n",
       "    </tr>\n",
       "  </thead>\n",
       "  <tbody>\n",
       "    <tr>\n",
       "      <th>0</th>\n",
       "      <td>114.805</td>\n",
       "      <td>144.4370</td>\n",
       "    </tr>\n",
       "    <tr>\n",
       "      <th>1</th>\n",
       "      <td>168.557</td>\n",
       "      <td>172.9010</td>\n",
       "    </tr>\n",
       "    <tr>\n",
       "      <th>2</th>\n",
       "      <td>188.868</td>\n",
       "      <td>135.9760</td>\n",
       "    </tr>\n",
       "    <tr>\n",
       "      <th>3</th>\n",
       "      <td>205.098</td>\n",
       "      <td>78.8044</td>\n",
       "    </tr>\n",
       "    <tr>\n",
       "      <th>4</th>\n",
       "      <td>200.110</td>\n",
       "      <td>119.3600</td>\n",
       "    </tr>\n",
       "    <tr>\n",
       "      <th>...</th>\n",
       "      <td>...</td>\n",
       "      <td>...</td>\n",
       "    </tr>\n",
       "    <tr>\n",
       "      <th>175</th>\n",
       "      <td>126.217</td>\n",
       "      <td>105.1530</td>\n",
       "    </tr>\n",
       "    <tr>\n",
       "      <th>176</th>\n",
       "      <td>215.036</td>\n",
       "      <td>109.0000</td>\n",
       "    </tr>\n",
       "    <tr>\n",
       "      <th>177</th>\n",
       "      <td>216.901</td>\n",
       "      <td>147.4320</td>\n",
       "    </tr>\n",
       "    <tr>\n",
       "      <th>178</th>\n",
       "      <td>119.897</td>\n",
       "      <td>175.9870</td>\n",
       "    </tr>\n",
       "    <tr>\n",
       "      <th>179</th>\n",
       "      <td>122.702</td>\n",
       "      <td>177.5180</td>\n",
       "    </tr>\n",
       "  </tbody>\n",
       "</table>\n",
       "<p>180 rows × 2 columns</p>\n",
       "</div>"
      ],
      "text/plain": [
       "       A_TAT     V_TAT\n",
       "0    114.805  144.4370\n",
       "1    168.557  172.9010\n",
       "2    188.868  135.9760\n",
       "3    205.098   78.8044\n",
       "4    200.110  119.3600\n",
       "..       ...       ...\n",
       "175  126.217  105.1530\n",
       "176  215.036  109.0000\n",
       "177  216.901  147.4320\n",
       "178  119.897  175.9870\n",
       "179  122.702  177.5180\n",
       "\n",
       "[180 rows x 2 columns]"
      ]
     },
     "execution_count": 5,
     "metadata": {},
     "output_type": "execute_result"
    }
   ],
   "source": [
    "y_all"
   ]
  },
  {
   "cell_type": "code",
   "execution_count": 6,
   "id": "50a91180",
   "metadata": {},
   "outputs": [],
   "source": [
    "y_train = torch.tensor(y_all.values)\n",
    "x_train = torch.tensor(X_all[0:y_all.shape[0]].values)"
   ]
  },
  {
   "cell_type": "code",
   "execution_count": 7,
   "id": "5b7a1c9d",
   "metadata": {},
   "outputs": [
    {
     "data": {
      "text/plain": [
       "tensor([[114.8050, 144.4370],\n",
       "        [168.5570, 172.9010],\n",
       "        [188.8680, 135.9760],\n",
       "        [205.0980,  78.8044],\n",
       "        [200.1100, 119.3600],\n",
       "        [317.5220,  78.0952],\n",
       "        [282.8110, 104.8010],\n",
       "        [244.6940,  79.6752],\n",
       "        [177.4440,  96.5702],\n",
       "        [126.2400,  93.1405],\n",
       "        [108.6450, 104.8510],\n",
       "        [106.3660, 144.9700],\n",
       "        [ 99.9593,  92.3293],\n",
       "        [116.9570, 121.3820],\n",
       "        [373.0250, 133.0680],\n",
       "        [256.6200, 121.7220],\n",
       "        [149.2220,  92.9771],\n",
       "        [280.7320, 111.9890],\n",
       "        [210.3140, 136.1300],\n",
       "        [240.7020, 105.9900],\n",
       "        [129.8700,  96.6670],\n",
       "        [211.4030, 136.6590],\n",
       "        [120.4590, 110.2640],\n",
       "        [355.0550, 110.1740],\n",
       "        [250.8870, 140.8250],\n",
       "        [168.1890, 102.0250],\n",
       "        [257.2570, 133.0430],\n",
       "        [189.8900, 152.3820],\n",
       "        [281.7940,  97.7368],\n",
       "        [111.3430, 115.1150],\n",
       "        [278.4520, 146.9990],\n",
       "        [121.4380, 124.9140],\n",
       "        [198.8310, 158.8920],\n",
       "        [ 93.2395,  88.9594],\n",
       "        [124.9210,  97.6713],\n",
       "        [113.6910,  76.0171],\n",
       "        [116.1630, 109.0760],\n",
       "        [133.0500, 111.4420],\n",
       "        [185.4070, 128.9020],\n",
       "        [248.5430, 118.3750],\n",
       "        [162.1190,  94.8596],\n",
       "        [159.5180, 104.8790],\n",
       "        [106.9900, 156.7670],\n",
       "        [205.2970, 103.8040],\n",
       "        [104.6810, 112.3220],\n",
       "        [123.9030, 107.8100],\n",
       "        [104.7770, 136.3440],\n",
       "        [121.1090, 116.4260],\n",
       "        [128.6640,  95.6950],\n",
       "        [215.7110,  80.9383],\n",
       "        [104.4660, 103.4300],\n",
       "        [267.0580,  84.5613],\n",
       "        [286.0160,  84.0814],\n",
       "        [102.8490,  95.1473],\n",
       "        [321.1870,  83.4358],\n",
       "        [210.8470, 110.9270],\n",
       "        [150.1450, 143.6720],\n",
       "        [156.3650, 104.9650],\n",
       "        [277.4400, 117.7840],\n",
       "        [106.8870, 153.0740],\n",
       "        [189.0590, 135.0710],\n",
       "        [234.1410,  91.8432],\n",
       "        [ 87.6937, 152.7230],\n",
       "        [253.0210, 162.2280],\n",
       "        [174.3210,  86.6464],\n",
       "        [168.3350,  85.0695],\n",
       "        [190.1080,  79.9526],\n",
       "        [225.9840, 113.0120],\n",
       "        [136.7270, 168.3980],\n",
       "        [227.8660,  97.8978],\n",
       "        [145.4700, 119.8140],\n",
       "        [108.7210,  96.3754],\n",
       "        [138.1850, 111.8190],\n",
       "        [166.3570, 139.0030],\n",
       "        [329.0470, 100.4190],\n",
       "        [113.7030, 163.4160],\n",
       "        [147.1870,  94.1748],\n",
       "        [160.0280, 117.7860],\n",
       "        [112.0400, 141.4060],\n",
       "        [132.0840, 130.9570],\n",
       "        [179.0880, 120.6910],\n",
       "        [163.3130,  97.3625],\n",
       "        [128.0510, 114.4880],\n",
       "        [110.5110, 118.6150],\n",
       "        [105.2770, 115.2960],\n",
       "        [351.9940, 117.6160],\n",
       "        [150.5180, 186.1280],\n",
       "        [121.4940, 106.4830],\n",
       "        [173.2370, 158.1190],\n",
       "        [134.2390,  81.7597],\n",
       "        [195.7820, 116.0230],\n",
       "        [111.9910, 112.0140],\n",
       "        [148.3860, 110.5770],\n",
       "        [129.0450,  89.8337],\n",
       "        [232.0850,  98.1782],\n",
       "        [298.2510, 102.2630],\n",
       "        [126.9300, 110.1840],\n",
       "        [119.4390,  95.6173],\n",
       "        [175.2040, 142.8830],\n",
       "        [239.9960, 118.7790],\n",
       "        [152.2350, 121.0320],\n",
       "        [258.1680,  81.1020],\n",
       "        [138.8430, 181.2030],\n",
       "        [267.3810,  78.4514],\n",
       "        [188.1520, 100.0760],\n",
       "        [266.5290, 111.0780],\n",
       "        [286.9480, 108.8510],\n",
       "        [108.2760,  98.6300],\n",
       "        [257.1870, 142.4710],\n",
       "        [279.5940, 137.5290],\n",
       "        [140.9950,  80.4682],\n",
       "        [185.4180, 102.2280],\n",
       "        [355.4050,  99.0817],\n",
       "        [116.3540,  97.6592],\n",
       "        [137.3530, 133.8580],\n",
       "        [139.8580,  83.5659],\n",
       "        [141.4470, 185.1970],\n",
       "        [236.5530, 124.3640],\n",
       "        [102.5050, 107.5220],\n",
       "        [131.9830, 101.3340],\n",
       "        [106.3640, 118.6760],\n",
       "        [227.6040, 175.0460],\n",
       "        [ 94.1547, 156.8780],\n",
       "        [102.2770, 120.2270],\n",
       "        [106.4820, 137.4590],\n",
       "        [148.5360,  98.9952],\n",
       "        [337.1290, 143.0240],\n",
       "        [265.0180,  88.1411],\n",
       "        [165.9130, 110.3250],\n",
       "        [115.6410, 111.4000],\n",
       "        [159.9620,  92.4805],\n",
       "        [181.5600,  94.1838],\n",
       "        [152.0760, 113.9140],\n",
       "        [173.1600, 137.6400],\n",
       "        [218.9550, 134.1560],\n",
       "        [139.5980,  83.6989],\n",
       "        [121.5220, 125.8330],\n",
       "        [100.1540,  93.1791],\n",
       "        [183.5760, 114.5380],\n",
       "        [228.7670,  95.5026],\n",
       "        [234.8230, 111.9860],\n",
       "        [133.0940,  86.5194],\n",
       "        [244.5620,  95.2656],\n",
       "        [160.0300,  81.8768],\n",
       "        [ 96.3419, 139.3160],\n",
       "        [205.7590, 105.0880],\n",
       "        [295.2130, 151.9240],\n",
       "        [136.2080, 113.2260],\n",
       "        [163.3250, 109.3470],\n",
       "        [248.3500, 136.5120],\n",
       "        [105.8160, 112.9900],\n",
       "        [120.8990,  98.8992],\n",
       "        [268.8540, 159.3650],\n",
       "        [205.1260, 118.5700],\n",
       "        [128.3990, 109.6470],\n",
       "        [136.3130, 152.0280],\n",
       "        [ 93.4483, 129.4460],\n",
       "        [219.6830,  92.5901],\n",
       "        [154.4680, 133.3360],\n",
       "        [266.4140, 127.2900],\n",
       "        [111.4590, 153.7360],\n",
       "        [195.3810,  95.6968],\n",
       "        [186.6510,  92.3439],\n",
       "        [305.1290,  80.4238],\n",
       "        [105.2820, 109.2760],\n",
       "        [214.5570, 151.0190],\n",
       "        [215.0620, 102.9750],\n",
       "        [286.5870, 103.6970],\n",
       "        [152.5210,  82.2014],\n",
       "        [117.6760, 117.6900],\n",
       "        [122.3920, 165.2360],\n",
       "        [338.5980, 138.9860],\n",
       "        [164.1670, 123.4570],\n",
       "        [130.2470, 106.8420],\n",
       "        [154.7390, 130.4440],\n",
       "        [126.2170, 105.1530],\n",
       "        [215.0360, 109.0000],\n",
       "        [216.9010, 147.4320],\n",
       "        [119.8970, 175.9870],\n",
       "        [122.7020, 177.5180]], dtype=torch.float64)"
      ]
     },
     "execution_count": 7,
     "metadata": {},
     "output_type": "execute_result"
    }
   ],
   "source": [
    "y_train"
   ]
  },
  {
   "cell_type": "code",
   "execution_count": 8,
   "id": "b1e17ce0",
   "metadata": {},
   "outputs": [
    {
     "data": {
      "text/plain": [
       "torch.Size([180, 6])"
      ]
     },
     "execution_count": 8,
     "metadata": {},
     "output_type": "execute_result"
    }
   ],
   "source": [
    "x_train.shape"
   ]
  },
  {
   "cell_type": "code",
   "execution_count": 9,
   "id": "670120df",
   "metadata": {},
   "outputs": [
    {
     "name": "stdout",
     "output_type": "stream",
     "text": [
      "0\n",
      "1\n"
     ]
    }
   ],
   "source": [
    "emulator = GPE.ensemble(x_train,y_train,mean_func=\"linear\",training_iter=500)"
   ]
  },
  {
   "cell_type": "code",
   "execution_count": 10,
   "id": "0a066022",
   "metadata": {},
   "outputs": [
    {
     "name": "stdout",
     "output_type": "stream",
     "text": [
      "[0.38003, 0.799985]\n",
      "[0.200076, 0.499873]\n",
      "[1.20156, 8.39701]\n",
      "[0.300689, 1.02961]\n",
      "[0.200188, 0.499864]\n",
      "[1.00318, 5.69613]\n"
     ]
    }
   ],
   "source": [
    "nDim = input_masked.shape[1]\n",
    "boundsMaxMin = []\n",
    "for i in range(nDim):\n",
    "    boundsMaxMin.append([np.min(input_masked.iloc[:,i]),np.max(input_masked.iloc[:,i])])\n",
    "    print(boundsMaxMin[i])"
   ]
  },
  {
   "cell_type": "code",
   "execution_count": 11,
   "id": "5b05f92a",
   "metadata": {},
   "outputs": [
    {
     "name": "stderr",
     "output_type": "stream",
     "text": [
      "/var/folders/_j/ptyc01811q5b1dg30hshtfzh0000gr/T/ipykernel_19893/2553582652.py:24: DeprecationWarning: `salib.sample.saltelli` will be removed in SALib 1.5. Please use `salib.sample.sobol`\n",
      "  param_values = saltelli.sample(problem, 1024)\n"
     ]
    }
   ],
   "source": [
    "##### from SALib.sample import saltelli\n",
    "from SALib.sample import saltelli\n",
    "from SALib.analyze import sobol\n",
    "from SALib.test_functions import Ishigami\n",
    "import numpy as np\n",
    "\n",
    "# Define the model inputs\n",
    "problem = {\n",
    "    'num_vars': nDim,\n",
    "    'names': x_labels,\n",
    "    'bounds': boundsMaxMin\n",
    "    #'bounds': [[-1, 1],\n",
    "     #          [-1, 1],\n",
    "      #         [-1, 1],\n",
    "       #        [-1, 1],\n",
    "        #       [-1, 1],\n",
    "         #      [-1, 1],\n",
    "          #     [-1, 1],\n",
    "           #    [-1, 1],\n",
    "            #   [-1,1]]\n",
    "}\n",
    "\n",
    "# Generate samples\n",
    "param_values = saltelli.sample(problem, 1024)\n",
    "\n",
    "data1 = torch.tensor(param_values)\n",
    "#data1.columns = X_train.columns\n",
    "\n",
    "Ymean=emulator.predict(data1)"
   ]
  },
  {
   "cell_type": "code",
   "execution_count": 12,
   "id": "79378723",
   "metadata": {},
   "outputs": [
    {
     "name": "stdout",
     "output_type": "stream",
     "text": [
      "                        ST   ST_conf\n",
      "(CV_ventricles,)  0.000043  0.000011\n",
      "(k_ventricles,)   0.000019  0.000003\n",
      "(k_FEC,)          0.000019  0.000003\n",
      "(CV_atria,)       0.941960  0.061481\n",
      "(k_atria,)        0.030353  0.003185\n",
      "(k_BB,)           0.032885  0.003220\n",
      "                        S1   S1_conf\n",
      "(CV_ventricles,)  0.000081  0.000536\n",
      "(k_ventricles,)  -0.000001  0.000362\n",
      "(k_FEC,)         -0.000015  0.000300\n",
      "(CV_atria,)       0.934706  0.087001\n",
      "(k_atria,)        0.027177  0.015351\n",
      "(k_BB,)           0.029949  0.015563\n",
      "Empty DataFrame\n",
      "Columns: [S2, S2_conf]\n",
      "Index: []\n",
      "                        ST       ST_conf\n",
      "(CV_ventricles,)  0.858610  5.917392e-02\n",
      "(k_ventricles,)   0.132217  1.106553e-02\n",
      "(k_FEC,)          0.014214  1.306034e-03\n",
      "(CV_atria,)       0.000033  4.417282e-06\n",
      "(k_atria,)        0.000098  1.719557e-05\n",
      "(k_BB,)           0.000006  9.330137e-07\n",
      "                        S1   S1_conf\n",
      "(CV_ventricles,)  0.853153  0.073088\n",
      "(k_ventricles,)   0.126582  0.033070\n",
      "(k_FEC,)          0.013866  0.011695\n",
      "(CV_atria,)       0.000044  0.000470\n",
      "(k_atria,)       -0.000118  0.000768\n",
      "(k_BB,)           0.000106  0.000235\n",
      "Empty DataFrame\n",
      "Columns: [S2, S2_conf]\n",
      "Index: []\n"
     ]
    }
   ],
   "source": [
    "Si = []\n",
    "nMod = y_all.shape[1]\n",
    "nDim = input_masked.shape[1]\n",
    "for i in range(nMod):\n",
    "    Si.append(sobol.analyze(problem, Ymean[:,i].detach().numpy(), print_to_console=True,calc_second_order=True))"
   ]
  },
  {
   "cell_type": "code",
   "execution_count": 13,
   "id": "be973aac",
   "metadata": {},
   "outputs": [],
   "source": [
    "Si_first=np.zeros((nDim,nMod))\n",
    "Si_total=np.zeros((nDim,nMod))\n",
    "for i in range(nMod):\n",
    "    total_Si, first_Si, second_Si = Si[i].to_df()\n",
    "    Si_first[:,i] =  first_Si.iloc[:,0]\n",
    "    Si_total[:,i] =  total_Si.iloc[:,0]\n"
   ]
  },
  {
   "cell_type": "code",
   "execution_count": 14,
   "id": "dce4441b",
   "metadata": {},
   "outputs": [
    {
     "data": {
      "text/plain": [
       "['CV_ventricles', 'k_ventricles', 'k_FEC', 'CV_atria', 'k_atria', 'k_BB']"
      ]
     },
     "execution_count": 14,
     "metadata": {},
     "output_type": "execute_result"
    }
   ],
   "source": [
    "x_labels.values.squeeze().tolist()"
   ]
  },
  {
   "cell_type": "code",
   "execution_count": 15,
   "id": "e263f1fa",
   "metadata": {},
   "outputs": [
    {
     "data": {
      "text/plain": [
       "['A_TAT', 'V_TAT']"
      ]
     },
     "execution_count": 15,
     "metadata": {},
     "output_type": "execute_result"
    }
   ],
   "source": [
    "y_all.columns.tolist()"
   ]
  },
  {
   "cell_type": "code",
   "execution_count": 16,
   "id": "47ad6507",
   "metadata": {},
   "outputs": [
    {
     "data": {
      "text/plain": [
       "['PCa_b',\n",
       " 'Tref',\n",
       " 'perm50',\n",
       " 'CV_ventricles',\n",
       " 'a_ventricles',\n",
       " 'EDP_lv',\n",
       " 'EDP_rv',\n",
       " 'Rsys',\n",
       " 'Rpulm']"
      ]
     },
     "execution_count": 16,
     "metadata": {},
     "output_type": "execute_result"
    }
   ],
   "source": [
    "['PCa_b',\n",
    " 'Tref',\n",
    " 'perm50',\n",
    " 'CV_ventricles',\n",
    " 'a_ventricles',\n",
    " 'EDP_lv',\n",
    " 'EDP_rv',\n",
    " 'Rsys',\n",
    " 'Rpulm']"
   ]
  },
  {
   "cell_type": "code",
   "execution_count": 17,
   "id": "b6b05bcd",
   "metadata": {},
   "outputs": [
    {
     "data": {
      "text/plain": [
       "<matplotlib.colorbar.Colorbar at 0x2b2741690>"
      ]
     },
     "execution_count": 17,
     "metadata": {},
     "output_type": "execute_result"
    },
    {
     "data": {
      "image/png": "[encoded data removed]",
      "text/plain": [
       "<Figure size 640x480 with 2 Axes>"
      ]
     },
     "metadata": {},
     "output_type": "display_data"
    }
   ],
   "source": [
    "inputs = X_all.columns.tolist()\n",
    "outputs = y_all.columns.tolist()\n",
    "fig, ax = plt.subplots()\n",
    "im = ax.imshow(Si_first[0:28],cmap='magma_r',vmin=0,vmax=1)\n",
    "\n",
    "ax.set_xticks(np.arange(len(outputs)),labels=outputs)\n",
    "ax.set_yticks(np.arange(len(inputs)), labels=inputs)\n",
    "plt.setp(ax.get_xticklabels(), rotation=60, ha=\"right\",\n",
    "         rotation_mode=\"anchor\");\n",
    "\n",
    "plt.colorbar(im,fraction=0.015, pad=0.04)"
   ]
  },
  {
   "cell_type": "code",
   "execution_count": 18,
   "id": "1bae98e0",
   "metadata": {
    "scrolled": false
   },
   "outputs": [
    {
     "data": {
      "text/plain": [
       "<matplotlib.colorbar.Colorbar at 0x2b7773f90>"
      ]
     },
     "execution_count": 18,
     "metadata": {},
     "output_type": "execute_result"
    },
    {
     "data": {
      "image/png": "[encoded data removed]",
      "text/plain": [
       "<Figure size 640x480 with 2 Axes>"
      ]
     },
     "metadata": {},
     "output_type": "display_data"
    }
   ],
   "source": [
    "inputs = X_all.columns.tolist()\n",
    "outputs = y_all.columns.tolist()\n",
    "fig, ax = plt.subplots()\n",
    "im = ax.imshow(Si_total.T[0:28],cmap='magma_r',vmin=0,vmax=1)\n",
    "\n",
    "ax.set_yticks(np.arange(len(outputs)),labels=outputs)\n",
    "ax.set_xticks(np.arange(len(inputs)), labels=inputs)\n",
    "plt.setp(ax.get_xticklabels(), rotation=65, ha=\"right\",\n",
    "         rotation_mode=\"anchor\");\n",
    "\n",
    "plt.colorbar(im,fraction=0.015, pad=0.04)"
   ]
  },
  {
   "cell_type": "code",
   "execution_count": 20,
   "id": "f23bdd40",
   "metadata": {},
   "outputs": [],
   "source": [
    "np.savetxt(\"Si_total_EP_14.csv\", Si_total, delimiter=\",\")\n",
    "np.savetxt(\"Si_first_EP_14.csv\", Si_first, delimiter=\",\")"
   ]
  },
  {
   "cell_type": "code",
   "execution_count": 40,
   "id": "03017a14",
   "metadata": {},
   "outputs": [
    {
     "data": {
      "text/html": [
       "<div>\n",
       "<style scoped>\n",
       "    .dataframe tbody tr th:only-of-type {\n",
       "        vertical-align: middle;\n",
       "    }\n",
       "\n",
       "    .dataframe tbody tr th {\n",
       "        vertical-align: top;\n",
       "    }\n",
       "\n",
       "    .dataframe thead th {\n",
       "        text-align: right;\n",
       "    }\n",
       "</style>\n",
       "<table border=\"1\" class=\"dataframe\">\n",
       "  <thead>\n",
       "    <tr style=\"text-align: right;\">\n",
       "      <th></th>\n",
       "      <th>A_TAT</th>\n",
       "      <th>V_TAT</th>\n",
       "    </tr>\n",
       "  </thead>\n",
       "  <tbody>\n",
       "    <tr>\n",
       "      <th>0</th>\n",
       "      <td>315.4700</td>\n",
       "      <td>97.6231</td>\n",
       "    </tr>\n",
       "    <tr>\n",
       "      <th>1</th>\n",
       "      <td>119.7940</td>\n",
       "      <td>100.6130</td>\n",
       "    </tr>\n",
       "    <tr>\n",
       "      <th>2</th>\n",
       "      <td>112.3490</td>\n",
       "      <td>183.1760</td>\n",
       "    </tr>\n",
       "    <tr>\n",
       "      <th>3</th>\n",
       "      <td>187.0580</td>\n",
       "      <td>86.8046</td>\n",
       "    </tr>\n",
       "    <tr>\n",
       "      <th>4</th>\n",
       "      <td>90.6858</td>\n",
       "      <td>78.7504</td>\n",
       "    </tr>\n",
       "    <tr>\n",
       "      <th>...</th>\n",
       "      <td>...</td>\n",
       "      <td>...</td>\n",
       "    </tr>\n",
       "    <tr>\n",
       "      <th>175</th>\n",
       "      <td>90.0410</td>\n",
       "      <td>92.6852</td>\n",
       "    </tr>\n",
       "    <tr>\n",
       "      <th>176</th>\n",
       "      <td>147.1390</td>\n",
       "      <td>99.3163</td>\n",
       "    </tr>\n",
       "    <tr>\n",
       "      <th>177</th>\n",
       "      <td>143.7290</td>\n",
       "      <td>119.9870</td>\n",
       "    </tr>\n",
       "    <tr>\n",
       "      <th>178</th>\n",
       "      <td>144.0190</td>\n",
       "      <td>111.9080</td>\n",
       "    </tr>\n",
       "    <tr>\n",
       "      <th>179</th>\n",
       "      <td>166.9070</td>\n",
       "      <td>193.3910</td>\n",
       "    </tr>\n",
       "  </tbody>\n",
       "</table>\n",
       "<p>180 rows × 2 columns</p>\n",
       "</div>"
      ],
      "text/plain": [
       "        A_TAT     V_TAT\n",
       "0    315.4700   97.6231\n",
       "1    119.7940  100.6130\n",
       "2    112.3490  183.1760\n",
       "3    187.0580   86.8046\n",
       "4     90.6858   78.7504\n",
       "..        ...       ...\n",
       "175   90.0410   92.6852\n",
       "176  147.1390   99.3163\n",
       "177  143.7290  119.9870\n",
       "178  144.0190  111.9080\n",
       "179  166.9070  193.3910\n",
       "\n",
       "[180 rows x 2 columns]"
      ]
     },
     "execution_count": 40,
     "metadata": {},
     "output_type": "execute_result"
    }
   ],
   "source": [
    "y_all"
   ]
  },
  {
   "cell_type": "code",
   "execution_count": 41,
   "id": "7079420f",
   "metadata": {},
   "outputs": [
    {
     "data": {
      "text/plain": [
       "tensor([[315.4700,  97.6231],\n",
       "        [119.7940, 100.6130],\n",
       "        [112.3490, 183.1760],\n",
       "        [187.0580,  86.8046],\n",
       "        [ 90.6858,  78.7504],\n",
       "        [128.7110,  81.3305],\n",
       "        [ 91.2266, 107.0270],\n",
       "        [217.1570, 133.9420],\n",
       "        [345.6780,  95.6268],\n",
       "        [190.3400, 169.0470],\n",
       "        [100.9040, 159.6070],\n",
       "        [187.5820, 130.6680],\n",
       "        [209.2220,  99.9675],\n",
       "        [132.5320, 130.0060],\n",
       "        [134.7740, 116.3020],\n",
       "        [129.1430, 113.0810],\n",
       "        [219.8920, 105.3620],\n",
       "        [179.1050,  81.1545],\n",
       "        [129.2600, 158.2780],\n",
       "        [183.3650, 163.8170],\n",
       "        [146.7630, 132.7050],\n",
       "        [129.4070, 145.1490],\n",
       "        [ 89.8129, 131.0260],\n",
       "        [101.7090,  88.5885],\n",
       "        [160.7560, 121.6790],\n",
       "        [196.4600, 119.5220],\n",
       "        [130.9080, 146.3930],\n",
       "        [205.4800, 142.0810],\n",
       "        [ 97.6107, 102.5550],\n",
       "        [125.8490,  96.9932],\n",
       "        [106.0140, 104.9890],\n",
       "        [157.0580, 102.1780],\n",
       "        [ 97.3853, 141.1870],\n",
       "        [134.4130, 102.4140],\n",
       "        [234.7070, 192.8460],\n",
       "        [117.9900, 155.9110],\n",
       "        [135.6900,  89.4749],\n",
       "        [ 83.3867, 126.8880],\n",
       "        [102.5330, 119.3340],\n",
       "        [131.3610, 148.0810],\n",
       "        [117.7870, 132.0030],\n",
       "        [128.1440,  82.6567],\n",
       "        [185.5910,  95.1228],\n",
       "        [146.3360, 113.8770],\n",
       "        [ 98.6655, 100.6390],\n",
       "        [335.6920,  95.3862],\n",
       "        [ 99.6424, 115.4680],\n",
       "        [277.5310, 105.6020],\n",
       "        [320.6760,  78.4278],\n",
       "        [163.1030,  97.8411],\n",
       "        [137.1850,  98.2991],\n",
       "        [141.9570, 205.2970],\n",
       "        [235.8360, 141.4580],\n",
       "        [167.6850,  79.5100],\n",
       "        [123.4940, 156.5620],\n",
       "        [ 95.6235,  82.5976],\n",
       "        [114.3440,  97.8298],\n",
       "        [291.6980, 117.6560],\n",
       "        [161.6740,  90.7686],\n",
       "        [160.0190, 196.2420],\n",
       "        [108.0730, 113.2260],\n",
       "        [264.7140, 135.8220],\n",
       "        [155.5860, 150.9630],\n",
       "        [ 93.1726,  95.1772],\n",
       "        [ 94.9934,  92.8069],\n",
       "        [235.7270, 116.0570],\n",
       "        [ 92.3475, 101.7120],\n",
       "        [153.8400,  97.6651],\n",
       "        [128.7110, 100.7160],\n",
       "        [119.2330, 141.0800],\n",
       "        [132.5520, 127.2600],\n",
       "        [139.5760,  79.2755],\n",
       "        [299.4070, 136.7310],\n",
       "        [257.2680, 107.6230],\n",
       "        [207.5470, 113.5530],\n",
       "        [121.3990,  85.5811],\n",
       "        [128.5790, 139.6570],\n",
       "        [290.8620, 125.8180],\n",
       "        [ 86.1079,  85.2225],\n",
       "        [101.2290, 132.5430],\n",
       "        [169.0400,  90.9736],\n",
       "        [123.7940,  89.1346],\n",
       "        [207.6970, 131.8680],\n",
       "        [131.0170, 156.1430],\n",
       "        [114.7320, 150.5050],\n",
       "        [110.9740, 186.1230],\n",
       "        [162.0600, 105.6020],\n",
       "        [204.3190, 125.5480],\n",
       "        [178.8050, 141.3970],\n",
       "        [123.8760, 133.2110],\n",
       "        [114.6660, 139.9330],\n",
       "        [ 97.1949, 198.9670],\n",
       "        [169.8140,  86.9293],\n",
       "        [156.6150, 100.0020],\n",
       "        [132.4020, 120.7400],\n",
       "        [201.4800,  87.0837],\n",
       "        [237.7810, 116.6840],\n",
       "        [123.3300, 118.8840],\n",
       "        [135.7620,  92.7000],\n",
       "        [126.1010, 158.1400],\n",
       "        [129.7560, 143.1020],\n",
       "        [277.5850, 121.5010],\n",
       "        [ 91.6688,  99.2449],\n",
       "        [117.7990, 176.4090],\n",
       "        [385.7270, 119.1360],\n",
       "        [255.0240, 112.7710],\n",
       "        [226.0910,  88.9218],\n",
       "        [115.0570, 180.4700],\n",
       "        [169.9100, 152.7240],\n",
       "        [132.5090,  94.3995],\n",
       "        [131.6500, 173.5350],\n",
       "        [103.5040,  90.2524],\n",
       "        [100.2010,  99.7473],\n",
       "        [111.3510, 113.8370],\n",
       "        [137.7360, 168.4810],\n",
       "        [313.7870, 110.4690],\n",
       "        [172.5900, 112.5810],\n",
       "        [143.6340, 112.7650],\n",
       "        [164.6120,  77.0339],\n",
       "        [164.5380, 106.2760],\n",
       "        [148.4890,  92.7196],\n",
       "        [110.1060, 186.0080],\n",
       "        [220.9420, 153.7550],\n",
       "        [106.8320,  87.6156],\n",
       "        [152.8070,  87.1550],\n",
       "        [208.4040,  77.5018],\n",
       "        [118.5760, 147.6350],\n",
       "        [ 95.9836, 142.3110],\n",
       "        [223.5880, 174.4470],\n",
       "        [190.8130, 129.7600],\n",
       "        [166.5990, 103.9030],\n",
       "        [225.7220,  93.6639],\n",
       "        [120.6130,  90.6836],\n",
       "        [209.7420, 100.2400],\n",
       "        [133.1860,  89.5017],\n",
       "        [183.4930,  95.4460],\n",
       "        [ 87.1845,  92.8317],\n",
       "        [ 88.5874, 155.0580],\n",
       "        [150.4170, 130.5800],\n",
       "        [192.6790, 115.6450],\n",
       "        [123.7230, 152.0710],\n",
       "        [177.8260, 138.8530],\n",
       "        [229.0250, 105.1150],\n",
       "        [107.9040,  78.6730],\n",
       "        [183.8650,  86.3479],\n",
       "        [176.1380,  76.4930],\n",
       "        [ 93.0935, 116.7500],\n",
       "        [105.2360, 110.5380],\n",
       "        [156.8000, 103.4550],\n",
       "        [ 94.4447,  98.5315],\n",
       "        [220.3290, 108.9910],\n",
       "        [195.4860, 103.5960],\n",
       "        [150.6260, 123.3320],\n",
       "        [ 95.6898, 148.8110],\n",
       "        [ 92.9161, 141.1500],\n",
       "        [185.2950, 118.9100],\n",
       "        [183.2600, 191.9540],\n",
       "        [121.2890, 174.6150],\n",
       "        [118.1490,  92.7103],\n",
       "        [236.2500, 124.0280],\n",
       "        [123.2090, 108.0300],\n",
       "        [120.9670, 120.2700],\n",
       "        [170.8850,  96.6028],\n",
       "        [197.6980,  87.1352],\n",
       "        [124.7980,  90.9296],\n",
       "        [148.8040,  77.1404],\n",
       "        [303.6310, 131.1830],\n",
       "        [154.0450, 158.0590],\n",
       "        [155.3000, 145.4660],\n",
       "        [104.6470,  75.1770],\n",
       "        [135.4300, 148.7780],\n",
       "        [142.5950, 117.1380],\n",
       "        [118.1910,  92.3253],\n",
       "        [223.3810,  88.7114],\n",
       "        [272.0020, 114.0840],\n",
       "        [ 90.0410,  92.6852],\n",
       "        [147.1390,  99.3163],\n",
       "        [143.7290, 119.9870],\n",
       "        [144.0190, 111.9080],\n",
       "        [166.9070, 193.3910]], dtype=torch.float64)"
      ]
     },
     "execution_count": 41,
     "metadata": {},
     "output_type": "execute_result"
    }
   ],
   "source": [
    "y_train"
   ]
  },
  {
   "cell_type": "code",
   "execution_count": 42,
   "id": "9e0f952d",
   "metadata": {},
   "outputs": [
    {
     "data": {
      "text/plain": [
       "array([[315.47  ,  97.6231],\n",
       "       [112.349 , 183.176 ],\n",
       "       [187.058 ,  86.8046],\n",
       "       [ 90.6858,  78.7504],\n",
       "       [128.711 ,  81.3305],\n",
       "       [ 91.2266, 107.027 ],\n",
       "       [217.157 , 133.942 ],\n",
       "       [345.678 ,  95.6268],\n",
       "       [190.34  , 169.047 ],\n",
       "       [100.904 , 159.607 ],\n",
       "       [187.582 , 130.668 ],\n",
       "       [209.222 ,  99.9675],\n",
       "       [132.532 , 130.006 ],\n",
       "       [134.774 , 116.302 ],\n",
       "       [129.143 , 113.081 ],\n",
       "       [219.892 , 105.362 ],\n",
       "       [179.105 ,  81.1545],\n",
       "       [129.26  , 158.278 ],\n",
       "       [183.365 , 163.817 ],\n",
       "       [146.763 , 132.705 ],\n",
       "       [129.407 , 145.149 ],\n",
       "       [ 89.8129, 131.026 ],\n",
       "       [101.709 ,  88.5885],\n",
       "       [160.756 , 121.679 ],\n",
       "       [196.46  , 119.522 ],\n",
       "       [130.908 , 146.393 ],\n",
       "       [205.48  , 142.081 ],\n",
       "       [ 97.6107, 102.555 ],\n",
       "       [125.849 ,  96.9932],\n",
       "       [106.014 , 104.989 ],\n",
       "       [157.058 , 102.178 ],\n",
       "       [ 97.3853, 141.187 ],\n",
       "       [134.413 , 102.414 ],\n",
       "       [234.707 , 192.846 ],\n",
       "       [117.99  , 155.911 ],\n",
       "       [135.69  ,  89.4749],\n",
       "       [ 83.3867, 126.888 ],\n",
       "       [102.533 , 119.334 ],\n",
       "       [131.361 , 148.081 ],\n",
       "       [117.787 , 132.003 ],\n",
       "       [128.144 ,  82.6567],\n",
       "       [185.591 ,  95.1228],\n",
       "       [146.336 , 113.877 ],\n",
       "       [ 98.6655, 100.639 ],\n",
       "       [335.692 ,  95.3862],\n",
       "       [ 99.6424, 115.468 ],\n",
       "       [277.531 , 105.602 ],\n",
       "       [320.676 ,  78.4278],\n",
       "       [163.103 ,  97.8411],\n",
       "       [137.185 ,  98.2991],\n",
       "       [141.957 , 205.297 ],\n",
       "       [235.836 , 141.458 ],\n",
       "       [167.685 ,  79.51  ],\n",
       "       [123.494 , 156.562 ],\n",
       "       [ 95.6235,  82.5976],\n",
       "       [114.344 ,  97.8298],\n",
       "       [291.698 , 117.656 ],\n",
       "       [161.674 ,  90.7686],\n",
       "       [160.019 , 196.242 ],\n",
       "       [108.073 , 113.226 ],\n",
       "       [264.714 , 135.822 ],\n",
       "       [155.586 , 150.963 ],\n",
       "       [ 93.1726,  95.1772],\n",
       "       [ 94.9934,  92.8069],\n",
       "       [235.727 , 116.057 ],\n",
       "       [ 92.3475, 101.712 ],\n",
       "       [153.84  ,  97.6651],\n",
       "       [128.711 , 100.716 ],\n",
       "       [119.233 , 141.08  ],\n",
       "       [132.552 , 127.26  ],\n",
       "       [139.576 ,  79.2755],\n",
       "       [299.407 , 136.731 ],\n",
       "       [257.268 , 107.623 ],\n",
       "       [207.547 , 113.553 ],\n",
       "       [121.399 ,  85.5811],\n",
       "       [128.579 , 139.657 ],\n",
       "       [290.862 , 125.818 ],\n",
       "       [ 86.1079,  85.2225],\n",
       "       [101.229 , 132.543 ],\n",
       "       [169.04  ,  90.9736],\n",
       "       [123.794 ,  89.1346],\n",
       "       [207.697 , 131.868 ],\n",
       "       [131.017 , 156.143 ],\n",
       "       [114.732 , 150.505 ],\n",
       "       [110.974 , 186.123 ],\n",
       "       [162.06  , 105.602 ],\n",
       "       [204.319 , 125.548 ],\n",
       "       [178.805 , 141.397 ],\n",
       "       [123.876 , 133.211 ],\n",
       "       [114.666 , 139.933 ],\n",
       "       [ 97.1949, 198.967 ],\n",
       "       [169.814 ,  86.9293],\n",
       "       [156.615 , 100.002 ],\n",
       "       [132.402 , 120.74  ],\n",
       "       [201.48  ,  87.0837],\n",
       "       [237.781 , 116.684 ],\n",
       "       [123.33  , 118.884 ],\n",
       "       [135.762 ,  92.7   ],\n",
       "       [126.101 , 158.14  ],\n",
       "       [129.756 , 143.102 ],\n",
       "       [277.585 , 121.501 ],\n",
       "       [ 91.6688,  99.2449],\n",
       "       [117.799 , 176.409 ],\n",
       "       [385.727 , 119.136 ],\n",
       "       [255.024 , 112.771 ],\n",
       "       [226.091 ,  88.9218],\n",
       "       [115.057 , 180.47  ],\n",
       "       [169.91  , 152.724 ],\n",
       "       [132.509 ,  94.3995],\n",
       "       [131.65  , 173.535 ],\n",
       "       [103.504 ,  90.2524],\n",
       "       [100.201 ,  99.7473],\n",
       "       [111.351 , 113.837 ],\n",
       "       [137.736 , 168.481 ],\n",
       "       [313.787 , 110.469 ],\n",
       "       [172.59  , 112.581 ],\n",
       "       [143.634 , 112.765 ],\n",
       "       [164.612 ,  77.0339],\n",
       "       [164.538 , 106.276 ],\n",
       "       [148.489 ,  92.7196],\n",
       "       [110.106 , 186.008 ],\n",
       "       [220.942 , 153.755 ],\n",
       "       [106.832 ,  87.6156],\n",
       "       [152.807 ,  87.155 ],\n",
       "       [208.404 ,  77.5018],\n",
       "       [118.576 , 147.635 ],\n",
       "       [ 95.9836, 142.311 ],\n",
       "       [223.588 , 174.447 ],\n",
       "       [190.813 , 129.76  ],\n",
       "       [166.599 , 103.903 ],\n",
       "       [225.722 ,  93.6639],\n",
       "       [120.613 ,  90.6836],\n",
       "       [209.742 , 100.24  ],\n",
       "       [133.186 ,  89.5017],\n",
       "       [183.493 ,  95.446 ],\n",
       "       [ 87.1845,  92.8317],\n",
       "       [ 88.5874, 155.058 ],\n",
       "       [150.417 , 130.58  ],\n",
       "       [192.679 , 115.645 ],\n",
       "       [123.723 , 152.071 ],\n",
       "       [177.826 , 138.853 ],\n",
       "       [229.025 , 105.115 ],\n",
       "       [107.904 ,  78.673 ],\n",
       "       [183.865 ,  86.3479],\n",
       "       [176.138 ,  76.493 ],\n",
       "       [ 93.0935, 116.75  ],\n",
       "       [105.236 , 110.538 ],\n",
       "       [156.8   , 103.455 ],\n",
       "       [ 94.4447,  98.5315],\n",
       "       [220.329 , 108.991 ],\n",
       "       [195.486 , 103.596 ],\n",
       "       [150.626 , 123.332 ],\n",
       "       [ 95.6898, 148.811 ],\n",
       "       [ 92.9161, 141.15  ],\n",
       "       [185.295 , 118.91  ],\n",
       "       [183.26  , 191.954 ],\n",
       "       [121.289 , 174.615 ],\n",
       "       [118.149 ,  92.7103],\n",
       "       [236.25  , 124.028 ],\n",
       "       [123.209 , 108.03  ],\n",
       "       [120.967 , 120.27  ],\n",
       "       [170.885 ,  96.6028],\n",
       "       [197.698 ,  87.1352],\n",
       "       [124.798 ,  90.9296],\n",
       "       [148.804 ,  77.1404],\n",
       "       [303.631 , 131.183 ],\n",
       "       [154.045 , 158.059 ],\n",
       "       [155.3   , 145.466 ],\n",
       "       [104.647 ,  75.177 ],\n",
       "       [135.43  , 148.778 ],\n",
       "       [142.595 , 117.138 ],\n",
       "       [118.191 ,  92.3253],\n",
       "       [223.381 ,  88.7114],\n",
       "       [272.002 , 114.084 ],\n",
       "       [ 90.041 ,  92.6852],\n",
       "       [147.139 ,  99.3163],\n",
       "       [143.729 , 119.987 ],\n",
       "       [144.019 , 111.908 ],\n",
       "       [166.907 , 193.391 ]])"
      ]
     },
     "execution_count": 42,
     "metadata": {},
     "output_type": "execute_result"
    }
   ],
   "source": [
    "y_all.copy().drop(y_all.index[i]).values"
   ]
  },
  {
   "cell_type": "code",
   "execution_count": 43,
   "id": "5f1e2e19",
   "metadata": {},
   "outputs": [
    {
     "name": "stdout",
     "output_type": "stream",
     "text": [
      "0\n"
     ]
    },
    {
     "ename": "RuntimeError",
     "evalue": "The size of tensor a (179) must match the size of tensor b (999) at non-singleton dimension 0",
     "output_type": "error",
     "traceback": [
      "\u001b[0;31m---------------------------------------------------------------------------\u001b[0m",
      "\u001b[0;31mRuntimeError\u001b[0m                              Traceback (most recent call last)",
      "Cell \u001b[0;32mIn[43], line 13\u001b[0m\n\u001b[1;32m      8\u001b[0m y_test \u001b[38;5;241m=\u001b[39m torch\u001b[38;5;241m.\u001b[39mtensor(y_all\u001b[38;5;241m.\u001b[39mloc[[y_all\u001b[38;5;241m.\u001b[39mindex[i]]]\u001b[38;5;241m.\u001b[39mvalues)\n\u001b[1;32m      9\u001b[0m X_test \u001b[38;5;241m=\u001b[39m torch\u001b[38;5;241m.\u001b[39mtensor(input_masked\u001b[38;5;241m.\u001b[39mloc[[y_all\u001b[38;5;241m.\u001b[39mindex[i]]]\u001b[38;5;241m.\u001b[39mvalues)\n\u001b[0;32m---> 13\u001b[0m emulator \u001b[38;5;241m=\u001b[39m GPE\u001b[38;5;241m.\u001b[39mensemble(X_train,y_train,mean_func\u001b[38;5;241m=\u001b[39m\u001b[38;5;124m\"\u001b[39m\u001b[38;5;124mlinear\u001b[39m\u001b[38;5;124m\"\u001b[39m,training_iter\u001b[38;5;241m=\u001b[39m\u001b[38;5;241m500\u001b[39m)\n\u001b[1;32m     14\u001b[0m MSE[i,:] \u001b[38;5;241m=\u001b[39m emulator\u001b[38;5;241m.\u001b[39mMSE(X_test,y_test)\u001b[38;5;241m.\u001b[39mdetach()\u001b[38;5;241m.\u001b[39mnumpy()\n",
      "File \u001b[0;32m~/Documents/GitHub/Calibration/GPE_ensemble.py:20\u001b[0m, in \u001b[0;36mensemble.__init__\u001b[0;34m(self, X_train, y_train, mean_func, training_iter, ref_emulator, a, restarts)\u001b[0m\n\u001b[1;32m     18\u001b[0m \u001b[38;5;28mself\u001b[39m\u001b[38;5;241m.\u001b[39ma\u001b[38;5;241m=\u001b[39ma\n\u001b[1;32m     19\u001b[0m \u001b[38;5;28;01mif\u001b[39;00m restarts \u001b[38;5;241m==\u001b[39m \u001b[38;5;241m0\u001b[39m:\n\u001b[0;32m---> 20\u001b[0m     \u001b[38;5;28mself\u001b[39m\u001b[38;5;241m.\u001b[39mmodels, \u001b[38;5;28mself\u001b[39m\u001b[38;5;241m.\u001b[39mlikelihoods \u001b[38;5;241m=\u001b[39m \u001b[38;5;28mself\u001b[39m\u001b[38;5;241m.\u001b[39mcreate_ensemble()\n\u001b[1;32m     21\u001b[0m \u001b[38;5;28;01melif\u001b[39;00m restarts \u001b[38;5;241m>\u001b[39m\u001b[38;5;241m0\u001b[39m:\n\u001b[1;32m     22\u001b[0m     \u001b[38;5;28mself\u001b[39m\u001b[38;5;241m.\u001b[39mmodels,\u001b[38;5;28mself\u001b[39m\u001b[38;5;241m.\u001b[39mlikelihoods\u001b[38;5;241m=\u001b[39m\u001b[38;5;28mself\u001b[39m\u001b[38;5;241m.\u001b[39mcreate_ensemble_restart()\n",
      "File \u001b[0;32m~/Documents/GitHub/Calibration/GPE_ensemble.py:83\u001b[0m, in \u001b[0;36mensemble.create_ensemble\u001b[0;34m(self)\u001b[0m\n\u001b[1;32m     81\u001b[0m output \u001b[38;5;241m=\u001b[39m models[i](X)\n\u001b[1;32m     82\u001b[0m \u001b[38;5;66;03m# Calc loss and backprop gradients\u001b[39;00m\n\u001b[0;32m---> 83\u001b[0m loss \u001b[38;5;241m=\u001b[39m \u001b[38;5;241m-\u001b[39mmll(output, Y)\n\u001b[1;32m     84\u001b[0m loss\u001b[38;5;241m.\u001b[39mbackward()\n\u001b[1;32m     85\u001b[0m \u001b[38;5;66;03m#print('Iter %d/%d - Loss: %.3f   lengthscale: %.3f   noise: %.3f' % (\u001b[39;00m\n\u001b[1;32m     86\u001b[0m \u001b[38;5;66;03m#    j + 1, training_iter, loss.item(),\u001b[39;00m\n\u001b[1;32m     87\u001b[0m \u001b[38;5;66;03m#    models[i].covar_module.base_kernel.lengthscale.item(),\u001b[39;00m\n\u001b[1;32m     88\u001b[0m \u001b[38;5;66;03m#    models[i].likelihood.noise.item()\u001b[39;00m\n\u001b[1;32m     89\u001b[0m \u001b[38;5;66;03m#))\u001b[39;00m\n",
      "File \u001b[0;32m~/anaconda3/lib/python3.11/site-packages/gpytorch/module.py:31\u001b[0m, in \u001b[0;36mModule.__call__\u001b[0;34m(self, *inputs, **kwargs)\u001b[0m\n\u001b[1;32m     30\u001b[0m \u001b[38;5;28;01mdef\u001b[39;00m \u001b[38;5;21m__call__\u001b[39m(\u001b[38;5;28mself\u001b[39m, \u001b[38;5;241m*\u001b[39minputs, \u001b[38;5;241m*\u001b[39m\u001b[38;5;241m*\u001b[39mkwargs) \u001b[38;5;241m-\u001b[39m\u001b[38;5;241m>\u001b[39m Union[Tensor, Distribution, LinearOperator]:\n\u001b[0;32m---> 31\u001b[0m     outputs \u001b[38;5;241m=\u001b[39m \u001b[38;5;28mself\u001b[39m\u001b[38;5;241m.\u001b[39mforward(\u001b[38;5;241m*\u001b[39minputs, \u001b[38;5;241m*\u001b[39m\u001b[38;5;241m*\u001b[39mkwargs)\n\u001b[1;32m     32\u001b[0m     \u001b[38;5;28;01mif\u001b[39;00m \u001b[38;5;28misinstance\u001b[39m(outputs, \u001b[38;5;28mlist\u001b[39m):\n\u001b[1;32m     33\u001b[0m         \u001b[38;5;28;01mreturn\u001b[39;00m [_validate_module_outputs(output) \u001b[38;5;28;01mfor\u001b[39;00m output \u001b[38;5;129;01min\u001b[39;00m outputs]\n",
      "File \u001b[0;32m~/anaconda3/lib/python3.11/site-packages/gpytorch/mlls/exact_marginal_log_likelihood.py:64\u001b[0m, in \u001b[0;36mExactMarginalLogLikelihood.forward\u001b[0;34m(self, function_dist, target, *params)\u001b[0m\n\u001b[1;32m     62\u001b[0m \u001b[38;5;66;03m# Get the log prob of the marginal distribution\u001b[39;00m\n\u001b[1;32m     63\u001b[0m output \u001b[38;5;241m=\u001b[39m \u001b[38;5;28mself\u001b[39m\u001b[38;5;241m.\u001b[39mlikelihood(function_dist, \u001b[38;5;241m*\u001b[39mparams)\n\u001b[0;32m---> 64\u001b[0m res \u001b[38;5;241m=\u001b[39m output\u001b[38;5;241m.\u001b[39mlog_prob(target)\n\u001b[1;32m     65\u001b[0m res \u001b[38;5;241m=\u001b[39m \u001b[38;5;28mself\u001b[39m\u001b[38;5;241m.\u001b[39m_add_other_terms(res, params)\n\u001b[1;32m     67\u001b[0m \u001b[38;5;66;03m# Scale by the amount of data we have\u001b[39;00m\n",
      "File \u001b[0;32m~/anaconda3/lib/python3.11/site-packages/gpytorch/distributions/multivariate_normal.py:177\u001b[0m, in \u001b[0;36mMultivariateNormal.log_prob\u001b[0;34m(self, value)\u001b[0m\n\u001b[1;32m    174\u001b[0m     \u001b[38;5;28mself\u001b[39m\u001b[38;5;241m.\u001b[39m_validate_sample(value)\n\u001b[1;32m    176\u001b[0m mean, covar \u001b[38;5;241m=\u001b[39m \u001b[38;5;28mself\u001b[39m\u001b[38;5;241m.\u001b[39mloc, \u001b[38;5;28mself\u001b[39m\u001b[38;5;241m.\u001b[39mlazy_covariance_matrix\n\u001b[0;32m--> 177\u001b[0m diff \u001b[38;5;241m=\u001b[39m value \u001b[38;5;241m-\u001b[39m mean\n\u001b[1;32m    179\u001b[0m \u001b[38;5;66;03m# Repeat the covar to match the batch shape of diff\u001b[39;00m\n\u001b[1;32m    180\u001b[0m \u001b[38;5;28;01mif\u001b[39;00m diff\u001b[38;5;241m.\u001b[39mshape[:\u001b[38;5;241m-\u001b[39m\u001b[38;5;241m1\u001b[39m] \u001b[38;5;241m!=\u001b[39m covar\u001b[38;5;241m.\u001b[39mbatch_shape:\n",
      "\u001b[0;31mRuntimeError\u001b[0m: The size of tensor a (179) must match the size of tensor b (999) at non-singleton dimension 0"
     ]
    }
   ],
   "source": [
    "nsamp=100\n",
    "MSE = np.zeros((y_all.shape[0],y_all.shape[1]))\n",
    "\n",
    "for i in range(y_all.shape[0]):\n",
    "    y_train = torch.tensor(y_all.copy().drop(y_all.index[i]).values)\n",
    "    X_train = torch.tensor(input_masked.copy().drop(y_all.index[i]).values)\n",
    "    \n",
    "    y_test = torch.tensor(y_all.loc[[y_all.index[i]]].values)\n",
    "    X_test = torch.tensor(input_masked.loc[[y_all.index[i]]].values)\n",
    "    \n",
    "    \n",
    "    \n",
    "    emulator = GPE.ensemble(X_train,y_train,mean_func=\"linear\",training_iter=500)\n",
    "    MSE[i,:] = emulator.MSE(X_test,y_test).detach().numpy()"
   ]
  },
  {
   "cell_type": "code",
   "execution_count": null,
   "id": "51a628d1",
   "metadata": {},
   "outputs": [],
   "source": [
    "1-MSE.mean(axis=0)/np.var(y_all,axis=0)"
   ]
  },
  {
   "cell_type": "code",
   "execution_count": null,
   "id": "60959a49",
   "metadata": {},
   "outputs": [],
   "source": [
    "MSE.shape"
   ]
  },
  {
   "cell_type": "code",
   "execution_count": null,
   "id": "cf401aa1",
   "metadata": {
    "scrolled": true
   },
   "outputs": [],
   "source": [
    "MSE[0].shape"
   ]
  },
  {
   "cell_type": "code",
   "execution_count": null,
   "id": "2ff2721d",
   "metadata": {},
   "outputs": [],
   "source": [
    "np.var(y_all,axis=0).shape"
   ]
  },
  {
   "cell_type": "code",
   "execution_count": null,
   "id": "2c14921b",
   "metadata": {},
   "outputs": [],
   "source": [
    "R2=np.zeros((18,28))\n",
    "for i in range(18):\n",
    "    R2[i]=(1-MSE[i]/np.var(y_all,axis=0))"
   ]
  },
  {
   "cell_type": "code",
   "execution_count": null,
   "id": "c42462df",
   "metadata": {},
   "outputs": [],
   "source": [
    "fig, ax = plt.subplots()\n",
    "\n",
    "\n",
    "ax.scatter(y_labels.values.squeeze(),np.array(1-MSE.mean(axis=0)/np.var(y_all,axis=0)))\n",
    "plt.errorbar(y_labels.values.squeeze(),np.array(1-MSE.mean(axis=0)/np.var(y_all,axis=0)),fmt='o',yerr=R2.std(axis=0))\n",
    "plt.setp(ax.get_xticklabels(), rotation=60, ha=\"right\",\n",
    "         rotation_mode=\"anchor\");"
   ]
  },
  {
   "cell_type": "code",
   "execution_count": null,
   "id": "b5e35242",
   "metadata": {
    "scrolled": true
   },
   "outputs": [],
   "source": [
    "y_calibration = y_all.loc[:,['V_TAT','A_TAT','LVpMax','LVedv','LVesv']]"
   ]
  },
  {
   "cell_type": "code",
   "execution_count": null,
   "id": "9cb72087",
   "metadata": {},
   "outputs": [],
   "source": [
    "y_calibration2 = pd.DataFrame({'LV_EF':(y_all.loc[:,'LVedv']-y_all.loc[:,'LVesv'])/y_all.loc[:,'LVedv']})"
   ]
  },
  {
   "cell_type": "code",
   "execution_count": null,
   "id": "c3b7dc7e",
   "metadata": {},
   "outputs": [],
   "source": [
    "y_calibration2=y_calibration.join(y_calibration2)"
   ]
  },
  {
   "cell_type": "code",
   "execution_count": null,
   "id": "24c1e05f",
   "metadata": {},
   "outputs": [],
   "source": [
    "MSE = np.zeros((y_calibration.shape[0],y_calibration.shape[1]))\n",
    "\n",
    "for i in range(y_calibration.shape[0]):\n",
    "    y_train = torch.tensor(y_calibration.copy().drop(y_calibration.index[i]).values)\n",
    "    X_train = torch.tensor(input_masked.copy().drop(y_calibration.index[i]).values)\n",
    "    \n",
    "    y_test = torch.tensor(y_calibration.loc[[y_calibration.index[i]]].values)\n",
    "    X_test = torch.tensor(input_masked.loc[[y_calibration.index[i]]].values)\n",
    "    print(y_test)\n",
    "    emulator = GPE.ensemble(X_train,y_train,mean_func=\"linear\",training_iter=500)\n",
    "    MSE[i,:] = emulator.MSE(X_test,y_test).detach().numpy()"
   ]
  },
  {
   "cell_type": "code",
   "execution_count": null,
   "id": "b841c6c7",
   "metadata": {},
   "outputs": [],
   "source": [
    "R2=np.zeros((18,5))\n",
    "for i in range(18):\n",
    "    R2[i]=(1-MSE[i]/np.var(y_calibration,axis=0))"
   ]
  },
  {
   "cell_type": "code",
   "execution_count": null,
   "id": "5a346a1f",
   "metadata": {},
   "outputs": [],
   "source": [
    "R2.std(axis=0)"
   ]
  },
  {
   "cell_type": "code",
   "execution_count": null,
   "id": "b7bb44f8",
   "metadata": {},
   "outputs": [],
   "source": [
    "plt.plot(np.array(1-MSE.mean(axis=0)/np.var(y_calibration,axis=0)),'o')"
   ]
  },
  {
   "cell_type": "code",
   "execution_count": null,
   "id": "280bbf44",
   "metadata": {},
   "outputs": [],
   "source": [
    "y_calibration.columns.values.tolist()"
   ]
  },
  {
   "cell_type": "code",
   "execution_count": null,
   "id": "00186509",
   "metadata": {},
   "outputs": [],
   "source": [
    "fig, ax = plt.subplots()\n",
    "\n",
    "\n",
    "ax.scatter(y_calibration.columns.values.tolist(),np.array(1-MSE.mean(axis=0)/np.var(y_calibration,axis=0)))\n",
    "plt.errorbar(y_calibration.columns.values.tolist(),np.array(1-MSE.mean(axis=0)/np.var(y_calibration,axis=0)),fmt='o',yerr=R2.std(axis=0))\n",
    "plt.setp(ax.get_xticklabels(), rotation=60, ha=\"right\",\n",
    "         rotation_mode=\"anchor\");"
   ]
  },
  {
   "cell_type": "code",
   "execution_count": null,
   "id": "ce2266d1",
   "metadata": {},
   "outputs": [],
   "source": [
    "X_train = torch.tensor(input_masked.values)"
   ]
  },
  {
   "cell_type": "code",
   "execution_count": null,
   "id": "deac7219",
   "metadata": {},
   "outputs": [],
   "source": [
    "y_train=torch.tensor(y_calibration.values)"
   ]
  },
  {
   "cell_type": "code",
   "execution_count": null,
   "id": "139f41d2",
   "metadata": {},
   "outputs": [],
   "source": []
  },
  {
   "cell_type": "code",
   "execution_count": null,
   "id": "8da4dbb2",
   "metadata": {},
   "outputs": [],
   "source": [
    "X_train"
   ]
  },
  {
   "cell_type": "code",
   "execution_count": null,
   "id": "267def64",
   "metadata": {
    "scrolled": false
   },
   "outputs": [],
   "source": [
    "emulator=GPE.ensemble(X_train,y_train,mean_func=\"linear\",training_iter=500)"
   ]
  },
  {
   "cell_type": "code",
   "execution_count": null,
   "id": "2be4d35d",
   "metadata": {},
   "outputs": [],
   "source": [
    "nDim = X_train.shape[1]\n",
    "boundsMaxMin = []\n",
    "for i in range(nDim):\n",
    "    boundsMaxMin.append([torch.min(X_train[:,i]).detach().numpy(),torch.max(X_train[:,i]).detach().numpy()])\n",
    "    print(boundsMaxMin[i])"
   ]
  },
  {
   "cell_type": "code",
   "execution_count": null,
   "id": "0aa882dd",
   "metadata": {},
   "outputs": [],
   "source": [
    "##### from SALib.sample import saltelli\n",
    "from SALib.sample import saltelli\n",
    "from SALib.analyze import sobol\n",
    "from SALib.test_functions import Ishigami\n",
    "import numpy as np\n",
    "\n",
    "# Define the model inputs\n",
    "problem = {\n",
    "    'num_vars': nDim,\n",
    "    'names': x_labels,\n",
    "    'bounds': boundsMaxMin\n",
    "    #'bounds': [[-1, 1],\n",
    "     #          [-1, 1],\n",
    "      #         [-1, 1],\n",
    "       #        [-1, 1],\n",
    "        #       [-1, 1],\n",
    "         #      [-1, 1],\n",
    "          #     [-1, 1],\n",
    "           #    [-1, 1],\n",
    "            #   [-1,1]]\n",
    "}\n",
    "\n",
    "# Generate samples\n",
    "param_values = saltelli.sample(problem, 1024)\n",
    "\n",
    "data1 = torch.tensor(param_values)\n",
    "#data1.columns = X_train.columns\n",
    "\n",
    "Ymean=emulator.predict(data1)"
   ]
  },
  {
   "cell_type": "code",
   "execution_count": null,
   "id": "8fdb2346",
   "metadata": {},
   "outputs": [],
   "source": [
    "Si = []\n",
    "nMod = y_train.shape[1]\n",
    "nDim = X_train.shape[1]\n",
    "for i in range(nMod):\n",
    "    Si.append(sobol.analyze(problem, Ymean[:,i].detach().numpy(), print_to_console=True,calc_second_order=True))"
   ]
  },
  {
   "cell_type": "code",
   "execution_count": null,
   "id": "c143468a",
   "metadata": {},
   "outputs": [],
   "source": [
    "Si_first=np.zeros((nDim,nMod))\n",
    "Si_total=np.zeros((nDim,nMod))\n",
    "for i in range(nMod):\n",
    "    total_Si, first_Si, second_Si = Si[i].to_df()\n",
    "    Si_first[:,i] =  first_Si.iloc[:,0]\n",
    "    Si_total[:,i] =  total_Si.iloc[:,0]\n"
   ]
  },
  {
   "cell_type": "code",
   "execution_count": null,
   "id": "29d9d146",
   "metadata": {},
   "outputs": [],
   "source": [
    "inputs = x_labels.values.tolist()\n",
    "outputs = y_calibration.columns.tolist()\n",
    "fig, ax = plt.subplots()\n",
    "im = ax.imshow(Si_first.T[0:10],cmap='magma_r',vmin=0,vmax=1)\n",
    "\n",
    "ax.set_yticks(np.arange(len(outputs)),labels=outputs)\n",
    "ax.set_xticks(np.arange(len(inputs)), labels=inputs)\n",
    "plt.setp(ax.get_xticklabels(), rotation=60, ha=\"right\",\n",
    "         rotation_mode=\"anchor\");\n",
    "\n",
    "plt.colorbar(im,fraction=0.015, pad=0.04)"
   ]
  },
  {
   "cell_type": "code",
   "execution_count": null,
   "id": "6f9a7ac3",
   "metadata": {
    "scrolled": true
   },
   "outputs": [],
   "source": [
    "inputs = x_labels.values.tolist()\n",
    "outputs = y_calibration.columns.tolist()\n",
    "fig, ax = plt.subplots()\n",
    "im = ax.imshow(Si_total.T,cmap='magma_r',vmin=0,vmax=1)\n",
    "\n",
    "ax.set_yticks(np.arange(len(outputs)),labels=outputs)\n",
    "ax.set_xticks(np.arange(len(inputs)), labels=inputs)\n",
    "plt.setp(ax.get_xticklabels(), rotation=60, ha=\"right\",\n",
    "         rotation_mode=\"anchor\");\n",
    "\n",
    "plt.colorbar(im,fraction=0.015, pad=0.04)"
   ]
  },
  {
   "cell_type": "code",
   "execution_count": null,
   "id": "41bc8277",
   "metadata": {},
   "outputs": [],
   "source": [
    "emulator.predict(data1).detach().numpy()[:,4]"
   ]
  },
  {
   "cell_type": "code",
   "execution_count": null,
   "id": "a5b24540",
   "metadata": {},
   "outputs": [],
   "source": [
    "fig = plt.figure()\n",
    "ax=fig.add_subplot(projection='3d')\n",
    "ax.scatter(data1[:,4],data1[:,6],emulator.predict(data1).detach().numpy()[:,3])\n",
    "plt.ylabel('a_ventricles')\n",
    "plt.xlabel('EDP_lv')"
   ]
  },
  {
   "cell_type": "code",
   "execution_count": null,
   "id": "2d3d1b54",
   "metadata": {},
   "outputs": [],
   "source": [
    "Si[i].to_df()"
   ]
  },
  {
   "cell_type": "code",
   "execution_count": null,
   "id": "d1509836",
   "metadata": {},
   "outputs": [],
   "source": [
    "y_calibration"
   ]
  },
  {
   "cell_type": "code",
   "execution_count": null,
   "id": "01288064",
   "metadata": {},
   "outputs": [],
   "source": []
  },
  {
   "cell_type": "code",
   "execution_count": null,
   "id": "cd876b88",
   "metadata": {
    "scrolled": true
   },
   "outputs": [],
   "source": [
    "y_calibration = y_all.loc[:,['V_TAT','LVpMax']]"
   ]
  },
  {
   "cell_type": "code",
   "execution_count": null,
   "id": "838579cf",
   "metadata": {},
   "outputs": [],
   "source": [
    "y_calibration2 = pd.DataFrame({'LV_EF':(y_all.loc[:,'LVedv']-y_all.loc[:,'LVesv'])/y_all.loc[:,'LVedv']})"
   ]
  },
  {
   "cell_type": "code",
   "execution_count": null,
   "id": "b7957c14",
   "metadata": {},
   "outputs": [],
   "source": [
    "y_calibration=torch.tensor(y_calibration.join(y_calibration2).values)"
   ]
  },
  {
   "cell_type": "code",
   "execution_count": null,
   "id": "4203ae08",
   "metadata": {},
   "outputs": [],
   "source": []
  },
  {
   "cell_type": "code",
   "execution_count": null,
   "id": "2565f0f9",
   "metadata": {},
   "outputs": [],
   "source": [
    "emulator=GPE.ensemble(torch.tensor(input_masked.values),y_calibration,mean_func=\"linear\",training_iter=500)"
   ]
  },
  {
   "cell_type": "code",
   "execution_count": null,
   "id": "9ff6afd7",
   "metadata": {},
   "outputs": [],
   "source": [
    "input_masked"
   ]
  },
  {
   "cell_type": "code",
   "execution_count": null,
   "id": "27837b98",
   "metadata": {},
   "outputs": [],
   "source": [
    "boundsMaxMin"
   ]
  },
  {
   "cell_type": "code",
   "execution_count": null,
   "id": "58c61de8",
   "metadata": {},
   "outputs": [],
   "source": [
    "boundsMaxMin"
   ]
  },
  {
   "cell_type": "code",
   "execution_count": null,
   "id": "203a62a8",
   "metadata": {},
   "outputs": [],
   "source": [
    "centre = (np.array(boundsMaxMin)[:,1]+np.array(boundsMaxMin)[:,0])/2"
   ]
  },
  {
   "cell_type": "code",
   "execution_count": null,
   "id": "aaeb2312",
   "metadata": {},
   "outputs": [],
   "source": [
    "import emcee\n",
    "ndim = nDim\n",
    "nwalkers = 18\n",
    "p0 = np.random.multivariate_normal(centre, 0.000000001*np.identity(ndim), size=(nwalkers))\n",
    "y_val = torch.tensor([100,157,0.8])"
   ]
  },
  {
   "cell_type": "code",
   "execution_count": null,
   "id": "fc8ee18b",
   "metadata": {},
   "outputs": [],
   "source": [
    "boundsMaxMin"
   ]
  },
  {
   "cell_type": "code",
   "execution_count": null,
   "id": "259b3699",
   "metadata": {},
   "outputs": [],
   "source": [
    "np.array(boundsMaxMin)[:,0]*2"
   ]
  },
  {
   "cell_type": "code",
   "execution_count": null,
   "id": "c573d998",
   "metadata": {},
   "outputs": [],
   "source": [
    "p0[0]"
   ]
  },
  {
   "cell_type": "code",
   "execution_count": null,
   "id": "fc9489ab",
   "metadata": {},
   "outputs": [],
   "source": [
    "def log_prior(theta):\n",
    "    \n",
    "    #if (np.array(boundsMaxMin)[:,0]<theta).all() and (theta<np.array(boundsMaxMin)[:,1]).all():\n",
    "        \n",
    "    if (np.array(boundsMaxMin)[:,0]*0.5<theta).all() and (theta<np.array(boundsMaxMin)[:,1]*2).all():\n",
    "        return 0.0\n",
    "    return -np.inf"
   ]
  },
  {
   "cell_type": "code",
   "execution_count": null,
   "id": "3903a146",
   "metadata": {},
   "outputs": [],
   "source": [
    "def log_likelihood(x,emulator,y_val):\n",
    "    x=torch.tensor(x)[None]\n",
    "    ll =np.sum((emulator.ensemble_log_likelihood_obs_error(x,y_val[None,:],0)).detach().numpy())\n",
    "    return ll"
   ]
  },
  {
   "cell_type": "code",
   "execution_count": null,
   "id": "8e2d1b03",
   "metadata": {},
   "outputs": [],
   "source": [
    "def log_prob(theta, emulator,y_val):\n",
    "    \n",
    "    lp = log_prior(theta)\n",
    "    if not np.isfinite(lp):\n",
    "        return -np.inf\n",
    "    \n",
    "    return lp + log_likelihood(theta,emulator, y_val)"
   ]
  },
  {
   "cell_type": "code",
   "execution_count": null,
   "id": "90a07cc3",
   "metadata": {},
   "outputs": [],
   "source": [
    "sampler = emcee.EnsembleSampler(nwalkers, ndim, log_prob, args=[emulator,y_val])"
   ]
  },
  {
   "cell_type": "code",
   "execution_count": null,
   "id": "a8004877",
   "metadata": {},
   "outputs": [],
   "source": [
    "p0[i].shape"
   ]
  },
  {
   "cell_type": "code",
   "execution_count": null,
   "id": "80e70bb3",
   "metadata": {},
   "outputs": [],
   "source": [
    "torch.tensor(p0[0]).shape"
   ]
  },
  {
   "cell_type": "code",
   "execution_count": null,
   "id": "0ed05061",
   "metadata": {},
   "outputs": [],
   "source": [
    "emulator.predict(torch.tensor(p0)).shape"
   ]
  },
  {
   "cell_type": "code",
   "execution_count": null,
   "id": "550560d8",
   "metadata": {},
   "outputs": [],
   "source": [
    "for i in range(16):\n",
    "    print(log_prob(p0[i],emulator,y_val))"
   ]
  },
  {
   "cell_type": "code",
   "execution_count": null,
   "id": "3dd50fa3",
   "metadata": {},
   "outputs": [],
   "source": []
  },
  {
   "cell_type": "code",
   "execution_count": null,
   "id": "502a53b9",
   "metadata": {},
   "outputs": [],
   "source": [
    "sampler.run_mcmc(p0, 40000)"
   ]
  },
  {
   "cell_type": "code",
   "execution_count": null,
   "id": "c5bf097d",
   "metadata": {},
   "outputs": [],
   "source": []
  },
  {
   "cell_type": "code",
   "execution_count": null,
   "id": "449b2dee",
   "metadata": {
    "scrolled": true
   },
   "outputs": [],
   "source": [
    "flat_samples = sampler.get_chain(discard=20000, thin=10, flat=True)\n",
    "print(flat_samples.shape)"
   ]
  },
  {
   "cell_type": "code",
   "execution_count": null,
   "id": "1c60ac74",
   "metadata": {},
   "outputs": [],
   "source": []
  },
  {
   "cell_type": "code",
   "execution_count": null,
   "id": "35be679a",
   "metadata": {
    "scrolled": false
   },
   "outputs": [],
   "source": [
    "import corner\n",
    "\n",
    "fig = corner.corner(\n",
    "    flat_samples, labels=x_labels.values, label_kwargs=dict(fontsize=18)\n",
    ");"
   ]
  },
  {
   "cell_type": "code",
   "execution_count": null,
   "id": "4c745968",
   "metadata": {},
   "outputs": [],
   "source": []
  },
  {
   "cell_type": "code",
   "execution_count": null,
   "id": "f41da0e5",
   "metadata": {},
   "outputs": [],
   "source": [
    "samp = pd.DataFrame(flat_samples).sample(50)"
   ]
  },
  {
   "cell_type": "code",
   "execution_count": null,
   "id": "21b15ecb",
   "metadata": {},
   "outputs": [],
   "source": [
    "samp.to_csv(\"MCMC_samples_scenario_6_80_2timesUpper.dat\", sep = \" \",index=False,header=None)"
   ]
  },
  {
   "cell_type": "code",
   "execution_count": null,
   "id": "f79c69e5",
   "metadata": {
    "scrolled": true
   },
   "outputs": [],
   "source": [
    "flat_samples.mean(axis=0)"
   ]
  },
  {
   "cell_type": "code",
   "execution_count": null,
   "id": "d1f1b334",
   "metadata": {
    "scrolled": false
   },
   "outputs": [],
   "source": [
    "fig, axes = plt.subplots(ndim, figsize=(10, 7), sharex=True)\n",
    "samples = sampler.get_chain()\n",
    "labels = x_labels.values\n",
    "for i in range(ndim):\n",
    "    ax = axes[i]\n",
    "    ax.plot(samples[:, :, i], \"k\", alpha=0.3)\n",
    "    ax.set_xlim(0, len(samples))\n",
    "    ax.set_ylabel(labels[i],rotation=0)\n",
    "    ax.yaxis.set_label_coords(-0.1, 0.5)\n",
    "\n",
    "\n",
    "axes[-1].set_xlabel(\"step number\");"
   ]
  },
  {
   "cell_type": "code",
   "execution_count": null,
   "id": "3175637a",
   "metadata": {},
   "outputs": [],
   "source": [
    "x_out = torch.tensor(flat_samples.mean(axis=0).T)\n"
   ]
  },
  {
   "cell_type": "code",
   "execution_count": null,
   "id": "5e25cdde",
   "metadata": {},
   "outputs": [],
   "source": [
    "y_calibration"
   ]
  },
  {
   "cell_type": "code",
   "execution_count": null,
   "id": "4af5b2d6",
   "metadata": {},
   "outputs": [],
   "source": [
    "x_out.shape"
   ]
  },
  {
   "cell_type": "code",
   "execution_count": null,
   "id": "42ec3c4f",
   "metadata": {},
   "outputs": [],
   "source": [
    "emulator.predict(x_out[None,:])"
   ]
  },
  {
   "cell_type": "code",
   "execution_count": null,
   "id": "d5dd0342",
   "metadata": {},
   "outputs": [],
   "source": [
    "torch.tensor(flat_samples.T).shape"
   ]
  },
  {
   "cell_type": "code",
   "execution_count": null,
   "id": "13d3d6a4",
   "metadata": {},
   "outputs": [],
   "source": [
    "plt.hist(emulator.predict(torch.tensor(flat_samples))[:,3].detach().numpy())"
   ]
  },
  {
   "cell_type": "code",
   "execution_count": null,
   "id": "e4650e01",
   "metadata": {},
   "outputs": [],
   "source": [
    "fig, axes = plt.subplots(ndim, figsize=(10, 7), sharex=True)\n",
    "samples = flat_samples\n",
    "labels = x_labels.values\n",
    "for i in range(ndim):\n",
    "    ax = axes[i]\n",
    "    ax.plot(samples[:, i], \"k\", alpha=0.3)\n",
    "    ax.set_xlim(0, len(samples))\n",
    "    ax.set_ylabel(labels[i],rotation=0)\n",
    "    ax.yaxis.set_label_coords(-0.1, 0.5)\n",
    "\n",
    "\n",
    "axes[-1].set_xlabel(\"step number\");"
   ]
  },
  {
   "cell_type": "code",
   "execution_count": null,
   "id": "1b7d9902",
   "metadata": {},
   "outputs": [],
   "source": [
    "working = model.predict(flat_samples)"
   ]
  },
  {
   "cell_type": "code",
   "execution_count": null,
   "id": "d41b325a",
   "metadata": {},
   "outputs": [],
   "source": [
    "plt.plot(working,'o')"
   ]
  },
  {
   "cell_type": "markdown",
   "id": "e2b1b403",
   "metadata": {},
   "source": [
    "# Calibration with fixed inputs"
   ]
  },
  {
   "cell_type": "code",
   "execution_count": null,
   "id": "7227555a",
   "metadata": {
    "scrolled": true
   },
   "outputs": [],
   "source": [
    "new_input=input_masked.copy()\n",
    "new_input=new_input.drop(['CV_atria','a_atria','a_ventricles'],axis=1)"
   ]
  },
  {
   "cell_type": "code",
   "execution_count": null,
   "id": "891a7fd3",
   "metadata": {},
   "outputs": [],
   "source": []
  },
  {
   "cell_type": "code",
   "execution_count": null,
   "id": "ee351c8c",
   "metadata": {},
   "outputs": [],
   "source": [
    "emulator = GPE.ensemble(new_input,y_calibration,mean_func=\"linear\",training_iter=500)"
   ]
  },
  {
   "cell_type": "code",
   "execution_count": null,
   "id": "6e5255a6",
   "metadata": {},
   "outputs": [],
   "source": [
    "nDim = new_input.shape[1]\n",
    "boundsMaxMin = []\n",
    "for i in range(nDim):\n",
    "    boundsMaxMin.append([np.min(new_input.iloc[:,i]),np.max(new_input.iloc[:,i])])\n",
    "    print(boundsMaxMin[i])"
   ]
  },
  {
   "cell_type": "code",
   "execution_count": null,
   "id": "e73abeed",
   "metadata": {},
   "outputs": [],
   "source": [
    "centre = (np.array(boundsMaxMin)[:,1]+np.array(boundsMaxMin)[:,0])/2"
   ]
  },
  {
   "cell_type": "code",
   "execution_count": null,
   "id": "5f590698",
   "metadata": {},
   "outputs": [],
   "source": [
    "nDim"
   ]
  },
  {
   "cell_type": "code",
   "execution_count": null,
   "id": "b2e8bc61",
   "metadata": {},
   "outputs": [],
   "source": [
    "import emcee\n",
    "ndim = nDim\n",
    "nwalkers = 16\n",
    "p0 = np.random.multivariate_normal(centre, 0.001*np.identity(ndim), size=(nwalkers))\n",
    "y_val = [100,157,111,0.5]"
   ]
  },
  {
   "cell_type": "code",
   "execution_count": null,
   "id": "35e43ad6",
   "metadata": {},
   "outputs": [],
   "source": [
    "x_labels.values.squeeze().tolist()"
   ]
  },
  {
   "cell_type": "code",
   "execution_count": null,
   "id": "d584ebd7",
   "metadata": {},
   "outputs": [],
   "source": [
    "new_input.columns"
   ]
  },
  {
   "cell_type": "code",
   "execution_count": null,
   "id": "56177e0d",
   "metadata": {},
   "outputs": [],
   "source": [
    "def log_likelihood(x,emulator,y_val):\n",
    "    x=pd.DataFrame(x).T\n",
    "    x.columns = new_input.columns.values.squeeze().tolist()\n",
    "    y_val = pd.DataFrame(y_val).T\n",
    "    y_val.columns = y_calibration.columns.values.squeeze().tolist()\n",
    "    ll =np.sum(emulator.ensemble_log_likelihood(x,y_val))\n",
    "    return ll"
   ]
  },
  {
   "cell_type": "code",
   "execution_count": null,
   "id": "9c13222c",
   "metadata": {},
   "outputs": [],
   "source": [
    "sampler = emcee.EnsembleSampler(nwalkers, ndim, log_prob, args=[emulator,y_val])"
   ]
  },
  {
   "cell_type": "code",
   "execution_count": null,
   "id": "f2d0fb94",
   "metadata": {},
   "outputs": [],
   "source": [
    "sampler.run_mcmc(p0, 30000)"
   ]
  },
  {
   "cell_type": "code",
   "execution_count": null,
   "id": "221362bb",
   "metadata": {
    "scrolled": true
   },
   "outputs": [],
   "source": [
    "flat_samples = sampler.get_chain(discard=6000, thin=10, flat=True)\n",
    "print(flat_samples.shape)"
   ]
  },
  {
   "cell_type": "code",
   "execution_count": null,
   "id": "cc8d70bb",
   "metadata": {},
   "outputs": [],
   "source": []
  },
  {
   "cell_type": "code",
   "execution_count": null,
   "id": "f5b53bb5",
   "metadata": {
    "scrolled": false
   },
   "outputs": [],
   "source": [
    "import corner\n",
    "\n",
    "fig = corner.corner(\n",
    "    flat_samples, labels=x_labels.values, label_kwargs=dict(fontsize=18)\n",
    ");"
   ]
  },
  {
   "cell_type": "code",
   "execution_count": null,
   "id": "a638efec",
   "metadata": {},
   "outputs": [],
   "source": [
    "samp = pd.DataFrame(flat_samples).sample(50)"
   ]
  },
  {
   "cell_type": "code",
   "execution_count": null,
   "id": "ea1f6cb9",
   "metadata": {},
   "outputs": [],
   "source": [
    "samp.to_csv(\"MCMC_samples_scenario_5_90.dat\", sep = \" \",index=False,header=None)"
   ]
  },
  {
   "cell_type": "code",
   "execution_count": null,
   "id": "112f9f47",
   "metadata": {
    "scrolled": true
   },
   "outputs": [],
   "source": [
    "flat_samples.mean(axis=0)"
   ]
  },
  {
   "cell_type": "code",
   "execution_count": null,
   "id": "c5ef4028",
   "metadata": {
    "scrolled": false
   },
   "outputs": [],
   "source": [
    "fig, axes = plt.subplots(ndim, figsize=(10, 7), sharex=True)\n",
    "samples = sampler.get_chain()\n",
    "labels = x_labels.values\n",
    "for i in range(ndim):\n",
    "    ax = axes[i]\n",
    "    ax.plot(samples[:, :, i], \"k\", alpha=0.3)\n",
    "    ax.set_xlim(0, len(samples))\n",
    "    ax.set_ylabel(labels[i],rotation=0)\n",
    "    ax.yaxis.set_label_coords(-0.1, 0.5)\n",
    "\n",
    "\n",
    "axes[-1].set_xlabel(\"step number\");"
   ]
  },
  {
   "cell_type": "code",
   "execution_count": null,
   "id": "8c028d2b",
   "metadata": {},
   "outputs": [],
   "source": [
    "x_out = pd.DataFrame(flat_samples.mean(axis=0)).T\n",
    "x_out.columns = new_input.columns.values.squeeze()"
   ]
  },
  {
   "cell_type": "code",
   "execution_count": null,
   "id": "fab2c736",
   "metadata": {},
   "outputs": [],
   "source": [
    "y_calibration.columns"
   ]
  },
  {
   "cell_type": "code",
   "execution_count": null,
   "id": "1df5c740",
   "metadata": {},
   "outputs": [],
   "source": [
    "emulator.predict(x_out)"
   ]
  },
  {
   "cell_type": "code",
   "execution_count": null,
   "id": "27e13454",
   "metadata": {},
   "outputs": [],
   "source": [
    "plt.hist(emulator.predict(pd.DataFrame(flat_samples,columns=input_masked.columns))[:,3].detach().numpy())"
   ]
  },
  {
   "cell_type": "code",
   "execution_count": null,
   "id": "1fe63d2b",
   "metadata": {},
   "outputs": [],
   "source": [
    "fig, axes = plt.subplots(ndim, figsize=(10, 7), sharex=True)\n",
    "samples = flat_samples\n",
    "labels = x_labels.values\n",
    "for i in range(ndim):\n",
    "    ax = axes[i]\n",
    "    ax.plot(samples[:, i], \"k\", alpha=0.3)\n",
    "    ax.set_xlim(0, len(samples))\n",
    "    ax.set_ylabel(labels[i],rotation=0)\n",
    "    ax.yaxis.set_label_coords(-0.1, 0.5)\n",
    "\n",
    "\n",
    "axes[-1].set_xlabel(\"step number\");"
   ]
  },
  {
   "cell_type": "markdown",
   "id": "2c0ac968",
   "metadata": {},
   "source": [
    "# Multi-Output GP"
   ]
  },
  {
   "cell_type": "code",
   "execution_count": null,
   "id": "adfb8cd5",
   "metadata": {},
   "outputs": [],
   "source": [
    "import mogptk"
   ]
  },
  {
   "cell_type": "code",
   "execution_count": null,
   "id": "34340fab",
   "metadata": {},
   "outputs": [],
   "source": [
    "y_calibration"
   ]
  },
  {
   "cell_type": "code",
   "execution_count": null,
   "id": "4e1780cb",
   "metadata": {},
   "outputs": [],
   "source": [
    "# split original dataset in training, validation and testing sets\n",
    "X=input_masked\n",
    "y=y_calibration\n",
    "X_train, X_test, y_train, y_test = train_test_split(\n",
    "    X,\n",
    "    y,\n",
    "    test_size=0.2,\n",
    "    random_state=seed\n",
    ")"
   ]
  },
  {
   "cell_type": "code",
   "execution_count": null,
   "id": "cfde4d1a",
   "metadata": {},
   "outputs": [],
   "source": [
    "MOData = pd.concat((X_train,y_train),axis=1)\n"
   ]
  },
  {
   "cell_type": "code",
   "execution_count": null,
   "id": "4fdc7875",
   "metadata": {},
   "outputs": [],
   "source": [
    "MOData"
   ]
  },
  {
   "cell_type": "code",
   "execution_count": null,
   "id": "8601b286",
   "metadata": {},
   "outputs": [],
   "source": [
    "y_calibration2.columns.values.tolist()"
   ]
  },
  {
   "cell_type": "code",
   "execution_count": null,
   "id": "3ef0305a",
   "metadata": {},
   "outputs": [],
   "source": [
    "dataset = mogptk.LoadDataFrame(MOData,x_col=input_masked.columns.values.tolist(),y_col=y_calibration2.columns.values.tolist())\n",
    "dataset.transform(mogptk.TransformNormalize)\n",
    "dataset"
   ]
  },
  {
   "cell_type": "code",
   "execution_count": null,
   "id": "f62155e4",
   "metadata": {},
   "outputs": [],
   "source": [
    "dataset.get_test_data()"
   ]
  },
  {
   "cell_type": "code",
   "execution_count": null,
   "id": "d4a39033",
   "metadata": {},
   "outputs": [],
   "source": [
    "# create model, uncomment for different kernels \n",
    "#model = mogptk.MOSM(dataset, Q=2)\n",
    "#model = mogptk.CSM(dataset, Q=4)\n",
    "#model = mogptk.SM_LMC(dataset, Q=4)\n",
    "model = mogptk.CONV(dataset, Q=4)\n",
    "\n",
    "# initialize parameters of kernel using LombScargle\n",
    "model.init_parameters(method='LS', iters=500)"
   ]
  },
  {
   "cell_type": "code",
   "execution_count": null,
   "id": "440d8cf7",
   "metadata": {},
   "outputs": [],
   "source": [
    "model.train(method='Adam', lr=0.1, iters=7000, plot=True, error='MSE', verbose=True);"
   ]
  },
  {
   "cell_type": "code",
   "execution_count": null,
   "id": "59173348",
   "metadata": {},
   "outputs": [],
   "source": [
    "model.predict(X_test.values)[1]"
   ]
  },
  {
   "cell_type": "code",
   "execution_count": null,
   "id": "6e490e8f",
   "metadata": {},
   "outputs": [],
   "source": [
    "np.mean((y_test.values.T-model.predict(X_test.values)[1])**2,axis=1)/X_test.shape[0]"
   ]
  },
  {
   "cell_type": "code",
   "execution_count": null,
   "id": "0673be71",
   "metadata": {},
   "outputs": [],
   "source": [
    "emulator = GPE.ensemble(X_train,y_train,mean_func=\"linear\",training_iter=1000)"
   ]
  },
  {
   "cell_type": "code",
   "execution_count": null,
   "id": "93c5e3fc",
   "metadata": {},
   "outputs": [],
   "source": [
    "emulator.MSE(X_test,y_test)"
   ]
  },
  {
   "cell_type": "code",
   "execution_count": null,
   "id": "b9854963",
   "metadata": {},
   "outputs": [],
   "source": [
    "model.plot_correlation()"
   ]
  },
  {
   "cell_type": "code",
   "execution_count": null,
   "id": "d383cd65",
   "metadata": {
    "scrolled": false
   },
   "outputs": [],
   "source": [
    "model.print_parameters()"
   ]
  },
  {
   "cell_type": "code",
   "execution_count": null,
   "id": "d8ac5497",
   "metadata": {},
   "outputs": [],
   "source": [
    "params?"
   ]
  },
  {
   "cell_type": "code",
   "execution_count": null,
   "id": "441b582d",
   "metadata": {},
   "outputs": [],
   "source": [
    "params = []\n",
    "\n",
    "for p in model.parameters():\n",
    "    params.append(p)"
   ]
  },
  {
   "cell_type": "code",
   "execution_count": null,
   "id": "118e221a",
   "metadata": {},
   "outputs": [],
   "source": [
    "params"
   ]
  },
  {
   "cell_type": "code",
   "execution_count": null,
   "id": "6b8539af",
   "metadata": {},
   "outputs": [],
   "source": [
    "plt.imshow([[0.0009756545815890106, 0.0, 0.0, 0.0, 27819.543719613113, 0.0, 0.0, 0.0], [1.7460115277182566, 0.0, 0.0, 119410.25481699423, 0.0, 0.0, 0.0, 0.0], [11.369120898808664, 115237.02973475368, 0.0, 0.0, 0.0, 0.0, 0.0, 0.0], [1.6990749064961943, 0.0, 0.0, 74757.56112865475, 0.0, 0.0, 0.0, 0.0]])"
   ]
  },
  {
   "cell_type": "code",
   "execution_count": null,
   "id": "492057c9",
   "metadata": {},
   "outputs": [],
   "source": [
    "plt.imshow([[10.162908005474888, 0.0, 0.0, 0.0, 0.0, 0.0, 0.0, 0.0], [37.97208882285453, 0.0, 0.0, 0.0, 0.0, 0.0, 0.0, 0.0], [35.583222651507306, 0.0, 0.0, 0.0, 0.0, 0.0, 0.0, 0.0], [7.01360765548753, 0.0, 0.0, 0.0, 0.0, 0.0, 0.0, 0.0]])"
   ]
  },
  {
   "cell_type": "code",
   "execution_count": null,
   "id": "3a9d0f77",
   "metadata": {},
   "outputs": [],
   "source": [
    "# split original dataset in training, validation and testing sets\n",
    "X=input_masked\n",
    "y=y_all\n",
    "X_train, X_test, y_train, y_test = train_test_split(\n",
    "    X,\n",
    "    y,\n",
    "    test_size=0.2,\n",
    "    random_state=seed\n",
    ")"
   ]
  },
  {
   "cell_type": "code",
   "execution_count": null,
   "id": "2b18753d",
   "metadata": {},
   "outputs": [],
   "source": [
    "MOData = pd.concat((X_train,y_train),axis=1)\n"
   ]
  },
  {
   "cell_type": "code",
   "execution_count": null,
   "id": "ab1aab15",
   "metadata": {},
   "outputs": [],
   "source": [
    "MOData"
   ]
  },
  {
   "cell_type": "code",
   "execution_count": null,
   "id": "21b08d30",
   "metadata": {},
   "outputs": [],
   "source": [
    "y_calibration.columns.values.tolist()"
   ]
  },
  {
   "cell_type": "code",
   "execution_count": null,
   "id": "d5069a2f",
   "metadata": {},
   "outputs": [],
   "source": [
    "dataset = mogptk.LoadDataFrame(MOData,x_col=input_masked.columns.values.tolist(),y_col=y_all.columns.values.tolist())\n",
    "dataset.transform(mogptk.TransformNormalize)\n",
    "dataset"
   ]
  },
  {
   "cell_type": "code",
   "execution_count": null,
   "id": "9419ae1a",
   "metadata": {},
   "outputs": [],
   "source": [
    "dataset.get_test_data()"
   ]
  },
  {
   "cell_type": "code",
   "execution_count": null,
   "id": "f6ddda17",
   "metadata": {},
   "outputs": [],
   "source": [
    "# create model, uncomment for different kernels \n",
    "#model = mogptk.MOSM(dataset, Q=2)\n",
    "#model = mogptk.CSM(dataset, Q=4)\n",
    "#model = mogptk.SM_LMC(dataset, Q=4)\n",
    "model = mogptk.CONV(dataset, Q=2)\n",
    "\n",
    "# initialize parameters of kernel using LombScargle\n",
    "model.init_parameters(method='LS', iters=500)"
   ]
  },
  {
   "cell_type": "code",
   "execution_count": null,
   "id": "a16f0b5b",
   "metadata": {},
   "outputs": [],
   "source": [
    "model.train(method='SGD', lr=0.01, iters=3500, plot=True, error='MSE', verbose=True);"
   ]
  },
  {
   "cell_type": "code",
   "execution_count": null,
   "id": "910fbd12",
   "metadata": {},
   "outputs": [],
   "source": [
    "model.train(method='SGD', lr=0.01, iters=500, plot=True, error='MSE', verbose=True);"
   ]
  },
  {
   "cell_type": "code",
   "execution_count": null,
   "id": "7d08af99",
   "metadata": {},
   "outputs": [],
   "source": [
    "model.predict(X_test.values)[1]"
   ]
  },
  {
   "cell_type": "code",
   "execution_count": null,
   "id": "cd236282",
   "metadata": {},
   "outputs": [],
   "source": [
    "np.mean((y_test.values.T-model.predict(X_test.values)[1])**2,axis=1)/X_test.shape[0]"
   ]
  },
  {
   "cell_type": "code",
   "execution_count": null,
   "id": "574010f7",
   "metadata": {
    "scrolled": false
   },
   "outputs": [],
   "source": [
    "model.plot_correlation()"
   ]
  },
  {
   "cell_type": "code",
   "execution_count": null,
   "id": "58e2c265",
   "metadata": {},
   "outputs": [],
   "source": [
    "fig, ax = model.plot_correlation(figsize=(25, 25))"
   ]
  },
  {
   "cell_type": "code",
   "execution_count": null,
   "id": "9abf25e7",
   "metadata": {},
   "outputs": [],
   "source": [
    "start=time.time()\n",
    "emulator = GPE.ensemble(X_train,y_train,mean_func=\"linear\",training_iter=500)\n",
    "\n",
    "end = time.time()\n",
    "print(end - start)"
   ]
  },
  {
   "cell_type": "code",
   "execution_count": null,
   "id": "5136c4c2",
   "metadata": {},
   "outputs": [],
   "source": [
    "from matplotlib import pyplot as plt"
   ]
  },
  {
   "cell_type": "code",
   "execution_count": null,
   "id": "1b22a444",
   "metadata": {},
   "outputs": [],
   "source": [
    "X_test"
   ]
  },
  {
   "cell_type": "code",
   "execution_count": null,
   "id": "52c8535b",
   "metadata": {},
   "outputs": [],
   "source": [
    "import cigp_v10 as cig"
   ]
  },
  {
   "cell_type": "code",
   "execution_count": null,
   "id": "9c6b8b02",
   "metadata": {},
   "outputs": [],
   "source": [
    "model = cig.cigp(torch.tensor(X_train.values),torch.tensor(y_train.values),normal_y_mode=1)"
   ]
  },
  {
   "cell_type": "code",
   "execution_count": null,
   "id": "0f8c34e6",
   "metadata": {},
   "outputs": [],
   "source": [
    "import time\n",
    "start = time.time()\n",
    "\n",
    "\n",
    "model.train_adam(niteration=500)\n",
    "\n"
   ]
  },
  {
   "cell_type": "code",
   "execution_count": null,
   "id": "ae398dc8",
   "metadata": {},
   "outputs": [],
   "source": [
    "(torch.sum((model.forward(torch.tensor(X_test.values))[0]-torch.tensor(y_test.values))**2,axis=0))/y_test.values.shape[0]"
   ]
  },
  {
   "cell_type": "code",
   "execution_count": null,
   "id": "8434b694",
   "metadata": {},
   "outputs": [],
   "source": []
  },
  {
   "cell_type": "code",
   "execution_count": null,
   "id": "a7d31b2c",
   "metadata": {},
   "outputs": [],
   "source": []
  },
  {
   "cell_type": "code",
   "execution_count": null,
   "id": "946048e9",
   "metadata": {},
   "outputs": [],
   "source": []
  },
  {
   "cell_type": "code",
   "execution_count": null,
   "id": "668fd2da",
   "metadata": {},
   "outputs": [],
   "source": [
    "mogptMSE = np.array([9.10333333e-01, 1.33455636e-02, 8.78157403e-01, 6.69582124e-01,\n",
    "       3.70024071e+02, 1.23460430e+02, 6.35753356e-01, 6.52791491e-04,\n",
    "       3.76409392e-01, 5.31805275e-01, 1.71110574e+02, 5.49810697e+00,\n",
    "       1.05649088e-01, 7.97417780e-02, 1.55348111e-01, 1.24083716e-02,\n",
    "       5.45010526e-02, 5.65038223e-02, 1.02820944e-01, 1.11955787e-03,\n",
    "       2.06413166e-02, 1.92173725e-02, 5.43121107e-02, 2.30204748e-02,\n",
    "       1.96869906e-02, 1.69456459e-02, 1.63021757e+01, 1.57392304e+00])"
   ]
  },
  {
   "cell_type": "code",
   "execution_count": null,
   "id": "aec72146",
   "metadata": {},
   "outputs": [],
   "source": [
    "GPMSE = emulator.MSE(X_test,y_test).detach().numpy()\n",
    "CIGMSE=((torch.sum((model.forward(torch.tensor(X_test.values))[0]-torch.tensor(y_test.values))**2,axis=0))/y_test.values.shape[0]).detach().numpy()"
   ]
  },
  {
   "cell_type": "code",
   "execution_count": null,
   "id": "ded22143",
   "metadata": {},
   "outputs": [],
   "source": [
    "fig, ax = plt.subplots()\n",
    "\n",
    "\n",
    "\n",
    "im=plt.plot(1-GPMSE/np.var(y_test,axis=0),'o')\n",
    "plt.plot(1-mogptMSE/np.var(y_test,axis=0),'o')\n",
    "plt.plot(1-CIGMSE/np.var(y_test,axis=0),'o')\n",
    "plt.legend(('GP','MOGPT','CIGP'))\n",
    "\n",
    "\n",
    "plt.setp(ax.get_xticklabels(), rotation=60, ha=\"right\",\n",
    "         rotation_mode=\"anchor\");"
   ]
  },
  {
   "cell_type": "code",
   "execution_count": null,
   "id": "c5a4db8b",
   "metadata": {},
   "outputs": [],
   "source": [
    "np.mean((y_test.values.T-model.predict(X_test.values)[1])**2,axis=1)/X_test.shape[0]"
   ]
  },
  {
   "cell_type": "code",
   "execution_count": null,
   "id": "d2202568",
   "metadata": {},
   "outputs": [],
   "source": [
    "np.var(y_test,axis=0)"
   ]
  },
  {
   "cell_type": "code",
   "execution_count": null,
   "id": "c2c9f633",
   "metadata": {},
   "outputs": [],
   "source": [
    "y_all.iloc[:,[4]].max()"
   ]
  },
  {
   "cell_type": "code",
   "execution_count": null,
   "id": "e826904c",
   "metadata": {},
   "outputs": [],
   "source": [
    "y_all.iloc[:,[4]].min()"
   ]
  },
  {
   "cell_type": "code",
   "execution_count": null,
   "id": "c5f9179b",
   "metadata": {},
   "outputs": [],
   "source": [
    "y_all.iloc[:,[4]].std()"
   ]
  },
  {
   "cell_type": "code",
   "execution_count": null,
   "id": "5f939c54",
   "metadata": {},
   "outputs": [],
   "source": []
  }
 ],
 "metadata": {
  "kernelspec": {
   "display_name": "Python 3 (ipykernel)",
   "language": "python",
   "name": "python3"
  },
  "language_info": {
   "codemirror_mode": {
    "name": "ipython",
    "version": 3
   },
   "file_extension": ".py",
   "mimetype": "text/x-python",
   "name": "python",
   "nbconvert_exporter": "python",
   "pygments_lexer": "ipython3",
   "version": "3.11.5"
  }
 },
 "nbformat": 4,
 "nbformat_minor": 5
}
