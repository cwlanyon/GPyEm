{
 "cells": [
  {
   "cell_type": "code",
   "execution_count": 1,
   "id": "04a57851",
   "metadata": {},
   "outputs": [],
   "source": [
    "import math\n",
    "import torch\n",
    "import gpytorch\n",
    "import pandas as pd\n",
    "import numpy as np\n",
    "from matplotlib import pyplot as plt\n",
    "import os\n",
    "import GPE_ensemble as GPE\n",
    "\n",
    "from GPErks.gp.experiment import GPExperiment\n",
    "from GPErks.train.emulator import GPEmulator\n",
    "from GPErks.perks.inference import Inference\n",
    "from GPErks.train.early_stop import NoEarlyStoppingCriterion\n",
    "from GPErks.train.early_stop import (\n",
    "    GLEarlyStoppingCriterion,\n",
    "    PQEarlyStoppingCriterion,\n",
    "    UPEarlyStoppingCriterion, \n",
    ")\n",
    "from GPErks.train.early_stop import PkEarlyStoppingCriterion\n",
    "\n",
    "import scipy\n",
    "\n",
    "%matplotlib inline\n",
    "%load_ext autoreload\n",
    "%autoreload 2\n",
    "\n",
    "from sklearn.model_selection import train_test_split\n",
    "\n",
    "# set logger and enforce reproducibility\n",
    "from GPErks.log.logger import get_logger\n",
    "from GPErks.utils.random import set_seed\n",
    "log = get_logger()\n",
    "seed = 8\n",
    "set_seed(seed)"
   ]
  },
  {
   "cell_type": "code",
   "execution_count": 1,
   "id": "5ae29362",
   "metadata": {},
   "outputs": [
    {
     "ename": "NameError",
     "evalue": "name 'pd' is not defined",
     "output_type": "error",
     "traceback": [
      "\u001b[0;31m---------------------------------------------------------------------------\u001b[0m",
      "\u001b[0;31mNameError\u001b[0m                                 Traceback (most recent call last)",
      "Cell \u001b[0;32mIn[1], line 1\u001b[0m\n\u001b[0;32m----> 1\u001b[0m x_labels\u001b[38;5;241m=\u001b[39mpd\u001b[38;5;241m.\u001b[39mread_csv(\u001b[38;5;124mr\u001b[39m\u001b[38;5;124m'\u001b[39m\u001b[38;5;124mC:/Users/pmzcwl/Library/CloudStorage/OneDrive-TheUniversityofNottingham/shared_simulations\u001b[39m\u001b[38;5;124m\\\u001b[39m\u001b[38;5;124mEP_healthy\u001b[39m\u001b[38;5;124m\\\u001b[39m\u001b[38;5;124minput\u001b[39m\u001b[38;5;124m\\\u001b[39m\u001b[38;5;124mxlabels_EP.txt\u001b[39m\u001b[38;5;124m'\u001b[39m,delim_whitespace\u001b[38;5;241m=\u001b[39m\u001b[38;5;28;01mTrue\u001b[39;00m,header\u001b[38;5;241m=\u001b[39m\u001b[38;5;28;01mNone\u001b[39;00m)\n\u001b[1;32m      2\u001b[0m inputOrig \u001b[38;5;241m=\u001b[39m pd\u001b[38;5;241m.\u001b[39mread_csv(\u001b[38;5;124mr\u001b[39m\u001b[38;5;124m'\u001b[39m\u001b[38;5;124mC:\u001b[39m\u001b[38;5;124m\\\u001b[39m\u001b[38;5;124mUsers\u001b[39m\u001b[38;5;124m\\\u001b[39m\u001b[38;5;124mpmzcwl\u001b[39m\u001b[38;5;124m\\\u001b[39m\u001b[38;5;124mDocuments\u001b[39m\u001b[38;5;124m\\\u001b[39m\u001b[38;5;124mGitHub\u001b[39m\u001b[38;5;124m\\\u001b[39m\u001b[38;5;124mCalibration\u001b[39m\u001b[38;5;124m\\\u001b[39m\u001b[38;5;124mshared_simulations\u001b[39m\u001b[38;5;124m\\\u001b[39m\u001b[38;5;124mEP_healthy\u001b[39m\u001b[38;5;124m\\\u001b[39m\u001b[38;5;124minput\u001b[39m\u001b[38;5;124m\\\u001b[39m\u001b[38;5;124mX_EP.txt\u001b[39m\u001b[38;5;124m'\u001b[39m,index_col\u001b[38;5;241m=\u001b[39m\u001b[38;5;28;01mNone\u001b[39;00m,delim_whitespace\u001b[38;5;241m=\u001b[39m\u001b[38;5;28;01mTrue\u001b[39;00m,header\u001b[38;5;241m=\u001b[39m\u001b[38;5;28;01mNone\u001b[39;00m)\n\u001b[1;32m      3\u001b[0m inputOrig\u001b[38;5;241m.\u001b[39mcolumns\u001b[38;5;241m=\u001b[39mx_labels\n",
      "\u001b[0;31mNameError\u001b[0m: name 'pd' is not defined"
     ]
    }
   ],
   "source": [
    "x_labels=pd.read_csv(r'C:\\Users\\pmzcwl\\Documents\\GitHub\\Calibration\\shared_simulations\\EP_healthy\\input\\xlabels_EP.txt',delim_whitespace=True,header=None)\n",
    "inputOrig = pd.read_csv(r'C:\\Users\\pmzcwl\\Documents\\GitHub\\Calibration\\shared_simulations\\EP_healthy\\input\\X_EP.txt',index_col=None,delim_whitespace=True,header=None)\n",
    "inputOrig.columns=x_labels\n",
    "print(inputOrig)"
   ]
  },
  {
   "cell_type": "code",
   "execution_count": 3,
   "id": "8e60f281",
   "metadata": {},
   "outputs": [
    {
     "name": "stdout",
     "output_type": "stream",
     "text": [
      "     (A_TAT,)  (V_TAT,)\n",
      "0     127.156  227.8230\n",
      "1     251.071  188.8540\n",
      "2     163.448  164.8120\n",
      "3     110.207  110.6940\n",
      "4     140.815  136.1450\n",
      "..        ...       ...\n",
      "175   321.082   94.4139\n",
      "176   141.936  190.0140\n",
      "177   236.662  224.8330\n",
      "178   248.667  167.9450\n",
      "179   118.693  115.3070\n",
      "\n",
      "[180 rows x 2 columns]\n"
     ]
    }
   ],
   "source": [
    "y_labels=pd.read_csv(r'C:\\Users\\pmzcwl\\Documents\\GitHub\\Calibration\\shared_simulations\\EP_healthy\\output\\ylabels.txt',delim_whitespace=True,header=None)\n",
    "outputOrig = pd.read_csv(r'C:\\Users\\pmzcwl\\Documents\\GitHub\\Calibration\\shared_simulations\\EP_healthy\\output\\Y.txt',index_col=None,delim_whitespace=True,header=None)\n",
    "outputOrig.columns=y_labels\n",
    "print(outputOrig)"
   ]
  },
  {
   "cell_type": "code",
   "execution_count": 4,
   "id": "08b75d82",
   "metadata": {},
   "outputs": [],
   "source": [
    "# split original dataset in training, validation and testing sets\n",
    "X=inputOrig\n",
    "y=outputOrig\n",
    "X_train, X_test, y_train, y_test = train_test_split(\n",
    "    X,\n",
    "    y,\n",
    "    test_size=1,\n",
    "    random_state=seed\n",
    ")"
   ]
  },
  {
   "cell_type": "code",
   "execution_count": 5,
   "id": "afb27e0c",
   "metadata": {},
   "outputs": [
    {
     "name": "stdout",
     "output_type": "stream",
     "text": [
      "0\n",
      "1\n"
     ]
    }
   ],
   "source": [
    "emulator = GPE.ensemble(X_train.iloc[:,0:1],y_train,mean_func=\"linear\",training_iter=500)"
   ]
  },
  {
   "cell_type": "code",
   "execution_count": 6,
   "id": "537b0a8a",
   "metadata": {},
   "outputs": [
    {
     "data": {
      "text/html": [
       "<div>\n",
       "<style scoped>\n",
       "    .dataframe tbody tr th:only-of-type {\n",
       "        vertical-align: middle;\n",
       "    }\n",
       "\n",
       "    .dataframe tbody tr th {\n",
       "        vertical-align: top;\n",
       "    }\n",
       "\n",
       "    .dataframe thead th {\n",
       "        text-align: right;\n",
       "    }\n",
       "</style>\n",
       "<table border=\"1\" class=\"dataframe\">\n",
       "  <thead>\n",
       "    <tr style=\"text-align: right;\">\n",
       "      <th></th>\n",
       "      <th>(A_TAT,)</th>\n",
       "      <th>(V_TAT,)</th>\n",
       "    </tr>\n",
       "  </thead>\n",
       "  <tbody>\n",
       "    <tr>\n",
       "      <th>26</th>\n",
       "      <td>232.374</td>\n",
       "      <td>161.202</td>\n",
       "    </tr>\n",
       "  </tbody>\n",
       "</table>\n",
       "</div>"
      ],
      "text/plain": [
       "    (A_TAT,)  (V_TAT,)\n",
       "26   232.374   161.202"
      ]
     },
     "execution_count": 6,
     "metadata": {},
     "output_type": "execute_result"
    }
   ],
   "source": [
    "y_test"
   ]
  },
  {
   "cell_type": "code",
   "execution_count": 7,
   "id": "afcb2017",
   "metadata": {},
   "outputs": [
    {
     "data": {
      "text/html": [
       "<div>\n",
       "<style scoped>\n",
       "    .dataframe tbody tr th:only-of-type {\n",
       "        vertical-align: middle;\n",
       "    }\n",
       "\n",
       "    .dataframe tbody tr th {\n",
       "        vertical-align: top;\n",
       "    }\n",
       "\n",
       "    .dataframe thead th {\n",
       "        text-align: right;\n",
       "    }\n",
       "</style>\n",
       "<table border=\"1\" class=\"dataframe\">\n",
       "  <thead>\n",
       "    <tr style=\"text-align: right;\">\n",
       "      <th></th>\n",
       "      <th>(CV_ventricles,)</th>\n",
       "      <th>(k_ventricles,)</th>\n",
       "      <th>(k_FEC,)</th>\n",
       "      <th>(CV_atria,)</th>\n",
       "      <th>(k_atria,)</th>\n",
       "      <th>(k_BB,)</th>\n",
       "    </tr>\n",
       "  </thead>\n",
       "  <tbody>\n",
       "    <tr>\n",
       "      <th>26</th>\n",
       "      <td>0.556019</td>\n",
       "      <td>0.336764</td>\n",
       "      <td>2.42194</td>\n",
       "      <td>0.552269</td>\n",
       "      <td>0.215546</td>\n",
       "      <td>2.00919</td>\n",
       "    </tr>\n",
       "  </tbody>\n",
       "</table>\n",
       "</div>"
      ],
      "text/plain": [
       "    (CV_ventricles,)  (k_ventricles,)  (k_FEC,)  (CV_atria,)  (k_atria,)  \\\n",
       "26          0.556019         0.336764   2.42194     0.552269    0.215546   \n",
       "\n",
       "    (k_BB,)  \n",
       "26  2.00919  "
      ]
     },
     "execution_count": 7,
     "metadata": {},
     "output_type": "execute_result"
    }
   ],
   "source": [
    "X_test"
   ]
  },
  {
   "cell_type": "code",
   "execution_count": 8,
   "id": "865e34d7",
   "metadata": {},
   "outputs": [
    {
     "data": {
      "text/plain": [
       "array([[ 9.12047166e-02,  1.09128273e+00, -1.94697031e+00,\n",
       "        -1.38634953e+00, -2.29649157e+00,  2.40983430e+00],\n",
       "       [ 1.72783617e+00,  2.20455628e+00,  7.94827639e-01,\n",
       "         9.76421096e-01, -1.18342715e+00,  1.91636361e+00],\n",
       "       [-1.12332680e+00, -6.64035470e-01, -3.78358570e-01,\n",
       "        -7.91615271e-01,  8.59548109e-01, -2.30788995e-01],\n",
       "       [-6.56610281e-02, -2.08636235e-01,  1.34686857e+00,\n",
       "        -6.06952797e-01, -1.74248214e-01,  4.24051421e-01],\n",
       "       [-1.64599010e+00, -4.83540950e-01,  5.35468250e-01,\n",
       "         1.16614049e+00,  1.61683109e-01, -6.72833927e-01],\n",
       "       [ 1.44252413e+00, -2.21480611e-01,  3.12643137e-02,\n",
       "         1.81929588e-01, -6.29287299e-02, -5.41568460e-01],\n",
       "       [ 4.74518418e-01, -1.16459117e+00, -5.00909391e-01,\n",
       "        -4.08560959e-01, -9.34348357e-01,  8.45101540e-02],\n",
       "       [ 1.43691018e-01,  7.55494413e-02, -1.55645096e-01,\n",
       "         5.50850056e-01,  1.70202996e+00,  1.00609370e+00],\n",
       "       [-3.13491977e+00,  1.13953350e+00, -1.86979936e+00,\n",
       "        -1.77911304e+00,  1.27762897e-01, -1.35101776e+00],\n",
       "       [ 1.55396720e+00,  6.96965751e-01, -8.11461153e-01,\n",
       "        -1.64325093e+00,  3.30658868e-01,  1.22495627e+00],\n",
       "       [ 9.61715686e-02,  1.87681542e+00,  5.33780584e-01,\n",
       "         7.98360041e-01, -3.06074500e-01,  3.77973887e-01],\n",
       "       [-2.26478047e-01, -1.88574454e+00,  2.47251097e+00,\n",
       "        -1.46856587e-01,  1.15649198e-01,  1.33043062e+00],\n",
       "       [ 1.09594712e-01,  2.15479072e-01,  4.29070088e-01,\n",
       "        -1.15126562e+00,  1.52475348e+00,  3.60535849e-01],\n",
       "       [-6.10893022e-01,  9.30246033e-01,  3.56513015e-01,\n",
       "        -9.52160595e-01,  1.51927786e-01,  6.34885971e-04],\n",
       "       [ 3.35023228e-01,  3.74799388e-01,  7.13816158e-01,\n",
       "        -1.20081348e+00,  1.38116116e-03, -9.21460027e-01],\n",
       "       [ 4.96227866e-01, -1.33166667e+00, -2.19057049e+00,\n",
       "        -4.36072065e-01,  2.54508722e+00,  1.15008128e+00],\n",
       "       [ 8.44454668e-02,  2.48624780e+00, -1.94355403e-01,\n",
       "        -1.86213348e-01,  8.53862857e-01,  3.07378702e-01],\n",
       "       [-7.22421188e-02, -4.68847667e-01, -6.54389058e-02,\n",
       "         1.05261111e+00, -1.30963322e+00, -6.68726402e-01],\n",
       "       [ 1.34137407e+00,  2.53135684e+00, -1.84054854e+00,\n",
       "         4.05041173e-01,  1.63230053e+00, -2.22739144e-01],\n",
       "       [-5.77799163e-01,  1.24217576e+00, -5.53471099e-01,\n",
       "        -7.22689421e-01, -5.71549645e-01, -1.39000317e+00],\n",
       "       [-2.39521314e+00,  1.15401648e+00,  1.68809504e+00,\n",
       "         2.23785619e-01, -2.01615511e-01,  4.99645107e-01],\n",
       "       [-1.81338100e-01, -1.74981526e+00, -1.21041723e+00,\n",
       "         4.24241516e-01, -3.88801614e-01, -1.55653579e+00],\n",
       "       [-1.43920908e+00,  9.48927311e-01, -1.52653220e+00,\n",
       "         1.13687007e+00,  4.84525664e-01, -1.00183661e+00],\n",
       "       [-3.18454848e-01,  1.58126098e-01,  3.60860109e-01,\n",
       "         2.55458326e-01,  1.42605800e+00,  9.27250714e-01],\n",
       "       [-5.10563464e-01, -1.71567143e-01, -9.10395997e-01,\n",
       "        -5.22880869e-01,  7.39901330e-02, -2.34678306e+00],\n",
       "       [ 9.97457993e-02, -4.63801663e-02, -2.47636139e-01,\n",
       "        -1.30536912e+00, -5.76299002e-01, -7.64470326e-01],\n",
       "       [-6.07493492e-02, -2.43448243e+00, -3.30986730e-01,\n",
       "         4.72641379e-01, -8.85168410e-01, -9.44026462e-01],\n",
       "       [ 7.34573539e-01,  2.64294292e+00,  6.11757992e-01,\n",
       "         6.57660516e-01,  4.60459806e-02,  7.70262626e-01],\n",
       "       [ 5.93052726e-01, -9.33443579e-01,  3.75433247e-01,\n",
       "         9.19790770e-01, -7.14137518e-01,  3.74506075e-01],\n",
       "       [ 1.25719891e+00,  9.76103527e-01, -2.22182077e-02,\n",
       "         2.06593628e+00,  1.03190655e+00, -2.49334704e-01],\n",
       "       [-1.96905592e+00, -3.26968319e-01,  1.33939146e-01,\n",
       "        -3.81189391e-01,  2.48250432e-02,  1.63811030e+00],\n",
       "       [ 8.19682895e-01,  1.34649478e+00, -1.37476524e+00,\n",
       "         9.63121646e-03,  1.33143337e+00, -8.27578047e-01],\n",
       "       [ 1.93494274e+00, -1.27489227e+00, -6.56887560e-01,\n",
       "         1.51322805e+00, -2.18423032e+00,  7.98910597e-01],\n",
       "       [-1.27458842e+00, -1.17294371e+00,  2.95556782e-02,\n",
       "        -7.40430633e-02,  5.42831142e-01, -1.68883319e-01],\n",
       "       [-3.20259011e-01, -1.19455274e+00,  2.61457819e-01,\n",
       "        -2.50817148e+00,  6.22154099e-01,  1.92223747e-01],\n",
       "       [ 1.35358594e+00,  1.39150836e+00, -1.44491520e+00,\n",
       "         5.75035730e-01, -8.15090307e-01, -5.21884853e-01],\n",
       "       [ 7.59410636e-01,  4.42504460e-01,  4.37931352e-01,\n",
       "        -9.07829581e-02,  1.77040345e-01, -1.13414072e+00],\n",
       "       [-6.52720494e-01,  5.91754551e-01, -1.18981569e+00,\n",
       "        -6.48949440e-01,  7.35618869e-01, -5.59088994e-02],\n",
       "       [-8.39245718e-01,  2.82759680e-01,  1.29036187e+00,\n",
       "        -9.95716568e-01, -1.53423630e+00,  1.05304083e-01],\n",
       "       [-8.84567258e-01, -3.67556615e-01, -5.78630542e-01,\n",
       "        -9.08043028e-01, -6.27683647e-02,  1.67990394e-01],\n",
       "       [-1.12177333e+00,  9.59943167e-01,  1.29113312e+00,\n",
       "        -2.41501774e-01,  1.28499652e-01,  1.44885659e+00],\n",
       "       [-1.36012739e+00, -1.13737330e+00, -4.48209173e-01,\n",
       "        -1.14372622e-01,  5.37407046e-01,  1.63070637e-01],\n",
       "       [-1.94290072e+00,  9.78741795e-01,  1.13340921e+00,\n",
       "        -1.04422436e+00,  4.55508010e-01, -7.26174864e-01],\n",
       "       [-5.09170770e-01, -7.77813318e-01,  1.47443609e+00,\n",
       "        -9.63596364e-01, -1.43445047e-01,  4.54602403e-01],\n",
       "       [-9.63398844e-01, -3.50276715e-01, -1.99118508e-01,\n",
       "         1.61239043e+00, -1.36787450e+00, -8.07362179e-02],\n",
       "       [ 1.43441240e-01, -3.42644033e-01,  1.29784313e+00,\n",
       "        -6.73100457e-02, -5.00820007e-01,  7.63341279e-01],\n",
       "       [ 1.20869111e+00, -9.07339897e-01,  8.19412371e-01,\n",
       "         6.62177276e-01, -8.84083689e-02, -8.40045023e-01],\n",
       "       [ 8.44824247e-01,  6.13032731e-01, -9.81196083e-01,\n",
       "        -5.32160151e-01,  1.72383907e+00, -6.86484242e-01],\n",
       "       [-2.07860947e+00, -3.22703094e-01,  1.33299026e-01,\n",
       "         6.98210178e-01, -4.10672764e-01,  1.95916716e+00],\n",
       "       [-4.94359837e-01,  1.88154905e-01,  1.09622618e+00,\n",
       "         7.41074324e-02, -2.41450346e+00,  7.08196644e-01],\n",
       "       [ 2.55014557e-01, -6.84428761e-01,  1.14789767e+00,\n",
       "         1.06593639e+00, -5.37271042e-01, -1.47656592e+00],\n",
       "       [-1.80838486e+00, -1.89662727e-01, -5.92323721e-01,\n",
       "        -1.44803567e-01, -2.68612078e+00, -2.02406568e-02],\n",
       "       [-1.26427063e+00, -4.01835777e-01,  2.20627948e+00,\n",
       "        -3.26942781e-02,  9.87645956e-01,  3.70991131e-01],\n",
       "       [ 7.16556685e-01,  1.42564472e-01, -1.46066800e-01,\n",
       "         1.08580491e+00, -1.29501440e+00, -6.33247047e-01],\n",
       "       [ 5.01901956e-01,  1.70316217e-01,  2.04652928e+00,\n",
       "         7.01514961e-02, -5.31221020e-02,  3.53945115e-01],\n",
       "       [-1.49394832e+00,  1.50269297e+00, -3.11564672e-01,\n",
       "         6.48216784e-01, -8.12696692e-01, -1.35988742e+00],\n",
       "       [-7.33493602e-02, -2.26085168e-01,  5.40409460e-01,\n",
       "        -5.12602625e-01,  2.48547171e+00,  1.46909640e-01],\n",
       "       [-1.14381329e+00, -5.86358415e-02,  1.38799428e+00,\n",
       "         1.51227173e-01, -9.75252185e-01, -5.22776791e-01],\n",
       "       [ 7.63259517e-01,  1.47687993e+00, -7.61315496e-01,\n",
       "         1.42711683e+00, -7.52787610e-01,  2.03596714e+00],\n",
       "       [-2.48489700e-01, -1.25662650e+00, -2.84262731e-01,\n",
       "        -5.15933354e-02,  7.41304144e-01,  1.05448095e+00],\n",
       "       [ 5.65817003e-01, -9.90520281e-01,  7.24851333e-02,\n",
       "        -3.72707494e-01,  1.02762976e-01, -4.03659296e-01],\n",
       "       [-7.77839502e-01,  2.58088512e+00, -3.66417933e-01,\n",
       "        -1.83728181e+00, -4.48482988e-01,  1.12556928e+00],\n",
       "       [ 4.63360776e-01, -8.75198459e-01,  1.01411068e+00,\n",
       "         2.22260127e+00, -1.44032517e+00, -7.86723567e-03],\n",
       "       [ 7.20458903e-01,  1.21947910e+00,  2.99848182e-01,\n",
       "         9.46155672e-01, -1.11411887e+00,  1.49322011e+00],\n",
       "       [-8.65121861e-01, -1.98593098e+00,  1.17371778e-01,\n",
       "         8.05617538e-03, -9.83930815e-01, -5.41313791e-01],\n",
       "       [ 3.60993722e-01, -4.73022049e-01, -6.70002759e-01,\n",
       "         7.70305017e-01,  5.62686800e-01, -9.93338037e-01],\n",
       "       [-4.47642473e-02, -6.92453044e-01,  2.11384095e-01,\n",
       "         7.10281606e-01,  9.69231115e-01, -4.13856687e-01],\n",
       "       [ 2.74787883e-01, -7.87225026e-01,  8.32671404e-01,\n",
       "         2.93127969e-01, -2.70898467e-01,  3.87550146e-01],\n",
       "       [-1.79378094e+00, -1.00480188e+00, -2.35616940e-03,\n",
       "         1.26810527e+00, -5.92725200e-01,  3.26217856e-01],\n",
       "       [ 1.16705434e+00, -6.96255984e-01,  3.93352577e-01,\n",
       "        -5.74304697e-01,  2.09474843e+00,  1.45109765e-01],\n",
       "       [ 8.25055582e-01, -6.81871716e-01,  2.63859937e-01,\n",
       "        -5.06673729e-01,  1.26776949e+00, -1.24789300e+00],\n",
       "       [ 1.93314172e+00,  1.83410403e-01,  5.93572582e-01,\n",
       "        -6.56969517e-01,  2.69721747e-01,  1.91555268e-01],\n",
       "       [-7.84007890e-03,  3.94565248e-01, -1.37265901e+00,\n",
       "        -2.85152409e+00,  7.41837080e-01, -1.51874363e+00],\n",
       "       [ 5.70763020e-01, -1.44325907e+00, -5.32314188e-01,\n",
       "         2.30643463e+00,  1.65636818e+00,  1.89275270e-02],\n",
       "       [-5.32399942e-01,  9.50878928e-01, -2.21645024e+00,\n",
       "         1.48488023e+00, -5.92540675e-01, -8.65429694e-01],\n",
       "       [ 8.54230243e-02, -6.32566548e-01, -7.31335813e-01,\n",
       "         8.87942787e-01, -4.96095132e-02, -7.81201782e-01],\n",
       "       [ 3.81267369e-01,  5.89692359e-01,  7.90912211e-01,\n",
       "        -2.91996763e-01, -7.70393436e-01,  1.13018968e+00],\n",
       "       [-1.37154125e-01,  8.72602649e-01, -1.44313573e+00,\n",
       "        -1.06457403e+00,  1.97814536e-01,  3.17513500e-01],\n",
       "       [ 6.10664664e-01,  1.21738780e+00,  1.41502278e+00,\n",
       "        -3.54914516e-01,  4.53377757e-02,  8.42677172e-01],\n",
       "       [ 2.66344228e-01,  1.11130320e-01,  2.09240867e+00,\n",
       "         1.29209490e+00, -1.75153512e+00, -5.63091254e-01],\n",
       "       [-3.23977518e-01,  1.88381863e+00, -1.66146044e+00,\n",
       "         5.88872253e-01,  2.36174596e-01, -6.13362969e-01],\n",
       "       [ 8.13168594e-01, -3.47002699e-01, -1.60108999e+00,\n",
       "        -1.19366138e+00,  1.36194436e+00, -6.15171910e-01],\n",
       "       [ 1.34421617e+00,  1.37802287e-01, -1.77859642e+00,\n",
       "        -1.65434332e+00,  4.14983372e-01,  1.56888189e+00],\n",
       "       [-1.03682960e-01, -3.72216684e-01, -2.68655070e-01,\n",
       "        -1.47445699e-01, -2.91090845e-02, -5.28687009e-01],\n",
       "       [-4.18137464e-01, -6.31999240e-01, -2.20467872e-01,\n",
       "        -1.35544467e+00, -1.71333322e-01,  6.22906991e-01],\n",
       "       [ 2.18208512e-01, -1.11640629e+00,  1.06132989e+00,\n",
       "         1.64656935e+00, -1.65376291e+00,  1.21170714e+00],\n",
       "       [ 9.17968349e-01, -5.45033640e-01, -1.95899683e+00,\n",
       "         7.78838492e-01,  1.20321150e+00,  1.04457509e+00],\n",
       "       [ 1.18863760e+00,  1.19653910e+00,  9.04237650e-02,\n",
       "         1.17005615e+00,  1.41856889e+00,  3.20516486e-01],\n",
       "       [-1.04962909e+00,  2.08053686e+00,  3.88466695e-02,\n",
       "        -1.24597441e+00,  1.10178651e+00,  1.47286315e+00],\n",
       "       [ 5.84335296e-01,  5.47266912e-01,  1.33716457e+00,\n",
       "        -9.60876548e-01,  1.44836129e-01, -5.85345077e-01],\n",
       "       [ 9.36061835e-01, -2.61176253e-02,  2.55757778e+00,\n",
       "         5.33047998e-01, -8.71767417e-01, -1.35074387e+00],\n",
       "       [ 1.92530775e+00,  1.84634363e+00,  4.23083952e-01,\n",
       "        -1.12874448e-02,  8.88301272e-01, -3.26833135e-01],\n",
       "       [-3.55945966e+00, -1.27071928e+00, -1.17778441e-01,\n",
       "         4.66826974e-01,  4.90735101e-01,  8.94984878e-01],\n",
       "       [-1.02230095e+00, -6.33526154e-01, -3.71583725e-01,\n",
       "         7.74104663e-01, -1.62297051e+00, -9.62014011e-01],\n",
       "       [ 8.93277927e-01, -2.81232126e-01,  3.59741304e-01,\n",
       "        -1.60216443e+00,  5.84742729e-01,  1.48326782e+00],\n",
       "       [ 9.11985789e-01,  6.26908178e-01,  3.77691204e-01,\n",
       "         5.16093306e-01,  6.08219577e-01,  2.37498283e+00],\n",
       "       [ 1.68363059e+00,  7.36366659e-02,  2.75452156e-01,\n",
       "         1.73826936e-02, -9.56665289e-01,  4.42615764e-01],\n",
       "       [-2.43503778e-01,  1.07804868e+00, -1.33683527e-01,\n",
       "         2.68610692e-01,  7.60844987e-01, -6.07468954e-01],\n",
       "       [ 7.79820361e-01, -1.08790056e+00,  3.15715088e-01,\n",
       "        -9.40012178e-01, -1.30331278e+00,  1.52321122e-01],\n",
       "       [-9.33060569e-01, -1.66387185e+00, -1.33123060e+00,\n",
       "        -1.08324374e+00,  5.55246243e-02, -1.61095325e+00]])"
      ]
     },
     "execution_count": 8,
     "metadata": {},
     "output_type": "execute_result"
    }
   ],
   "source": [
    "np.random.multivariate_normal(mean=np.zeros(6), cov=np.identity(6), size=100)"
   ]
  },
  {
   "cell_type": "code",
   "execution_count": 9,
   "id": "3c630c54",
   "metadata": {
    "scrolled": true
   },
   "outputs": [
    {
     "name": "stdout",
     "output_type": "stream",
     "text": [
      "    (CV_ventricles,)  (k_ventricles,)  (k_FEC,)  (CV_atria,)  (k_atria,)  \\\n",
      "0           0.556019         0.336764   2.42194     0.552269    0.215546   \n",
      "1           0.556019         0.336764   2.42194     0.552269    0.215546   \n",
      "2           0.556019         0.336764   2.42194     0.552269    0.215546   \n",
      "3           0.556019         0.336764   2.42194     0.552269    0.215546   \n",
      "4           0.556019         0.336764   2.42194     0.552269    0.215546   \n",
      "..               ...              ...       ...          ...         ...   \n",
      "95          0.556019         0.336764   2.42194     0.552269    0.215546   \n",
      "96          0.556019         0.336764   2.42194     0.552269    0.215546   \n",
      "97          0.556019         0.336764   2.42194     0.552269    0.215546   \n",
      "98          0.556019         0.336764   2.42194     0.552269    0.215546   \n",
      "99          0.556019         0.336764   2.42194     0.552269    0.215546   \n",
      "\n",
      "    (k_BB,)  \n",
      "0   2.00919  \n",
      "1   2.00919  \n",
      "2   2.00919  \n",
      "3   2.00919  \n",
      "4   2.00919  \n",
      "..      ...  \n",
      "95  2.00919  \n",
      "96  2.00919  \n",
      "97  2.00919  \n",
      "98  2.00919  \n",
      "99  2.00919  \n",
      "\n",
      "[100 rows x 6 columns]\n"
     ]
    }
   ],
   "source": [
    "newdf = pd.DataFrame(np.repeat(X_test.values, 100, axis=0))#+np.random.multivariate_normal(mean=np.zeros(6), cov=0.01*np.identity(6), size=100)\n",
    "newdf.columns = X_test.columns\n",
    "print(newdf)"
   ]
  },
  {
   "cell_type": "code",
   "execution_count": 10,
   "id": "09120397",
   "metadata": {},
   "outputs": [],
   "source": [
    "CV_V = np.linspace(0.4,0.8,100)"
   ]
  },
  {
   "cell_type": "code",
   "execution_count": 11,
   "id": "a60b398f",
   "metadata": {},
   "outputs": [],
   "source": [
    "newdf.iloc[:,0] = CV_V"
   ]
  },
  {
   "cell_type": "code",
   "execution_count": 12,
   "id": "09c7bc13",
   "metadata": {},
   "outputs": [
    {
     "data": {
      "text/html": [
       "<div>\n",
       "<style scoped>\n",
       "    .dataframe tbody tr th:only-of-type {\n",
       "        vertical-align: middle;\n",
       "    }\n",
       "\n",
       "    .dataframe tbody tr th {\n",
       "        vertical-align: top;\n",
       "    }\n",
       "\n",
       "    .dataframe thead th {\n",
       "        text-align: right;\n",
       "    }\n",
       "</style>\n",
       "<table border=\"1\" class=\"dataframe\">\n",
       "  <thead>\n",
       "    <tr style=\"text-align: right;\">\n",
       "      <th></th>\n",
       "      <th>(CV_ventricles,)</th>\n",
       "      <th>(k_ventricles,)</th>\n",
       "      <th>(k_FEC,)</th>\n",
       "      <th>(CV_atria,)</th>\n",
       "      <th>(k_atria,)</th>\n",
       "      <th>(k_BB,)</th>\n",
       "    </tr>\n",
       "  </thead>\n",
       "  <tbody>\n",
       "    <tr>\n",
       "      <th>0</th>\n",
       "      <td>0.400000</td>\n",
       "      <td>0.336764</td>\n",
       "      <td>2.42194</td>\n",
       "      <td>0.552269</td>\n",
       "      <td>0.215546</td>\n",
       "      <td>2.00919</td>\n",
       "    </tr>\n",
       "    <tr>\n",
       "      <th>1</th>\n",
       "      <td>0.404040</td>\n",
       "      <td>0.336764</td>\n",
       "      <td>2.42194</td>\n",
       "      <td>0.552269</td>\n",
       "      <td>0.215546</td>\n",
       "      <td>2.00919</td>\n",
       "    </tr>\n",
       "    <tr>\n",
       "      <th>2</th>\n",
       "      <td>0.408081</td>\n",
       "      <td>0.336764</td>\n",
       "      <td>2.42194</td>\n",
       "      <td>0.552269</td>\n",
       "      <td>0.215546</td>\n",
       "      <td>2.00919</td>\n",
       "    </tr>\n",
       "    <tr>\n",
       "      <th>3</th>\n",
       "      <td>0.412121</td>\n",
       "      <td>0.336764</td>\n",
       "      <td>2.42194</td>\n",
       "      <td>0.552269</td>\n",
       "      <td>0.215546</td>\n",
       "      <td>2.00919</td>\n",
       "    </tr>\n",
       "    <tr>\n",
       "      <th>4</th>\n",
       "      <td>0.416162</td>\n",
       "      <td>0.336764</td>\n",
       "      <td>2.42194</td>\n",
       "      <td>0.552269</td>\n",
       "      <td>0.215546</td>\n",
       "      <td>2.00919</td>\n",
       "    </tr>\n",
       "    <tr>\n",
       "      <th>...</th>\n",
       "      <td>...</td>\n",
       "      <td>...</td>\n",
       "      <td>...</td>\n",
       "      <td>...</td>\n",
       "      <td>...</td>\n",
       "      <td>...</td>\n",
       "    </tr>\n",
       "    <tr>\n",
       "      <th>95</th>\n",
       "      <td>0.783838</td>\n",
       "      <td>0.336764</td>\n",
       "      <td>2.42194</td>\n",
       "      <td>0.552269</td>\n",
       "      <td>0.215546</td>\n",
       "      <td>2.00919</td>\n",
       "    </tr>\n",
       "    <tr>\n",
       "      <th>96</th>\n",
       "      <td>0.787879</td>\n",
       "      <td>0.336764</td>\n",
       "      <td>2.42194</td>\n",
       "      <td>0.552269</td>\n",
       "      <td>0.215546</td>\n",
       "      <td>2.00919</td>\n",
       "    </tr>\n",
       "    <tr>\n",
       "      <th>97</th>\n",
       "      <td>0.791919</td>\n",
       "      <td>0.336764</td>\n",
       "      <td>2.42194</td>\n",
       "      <td>0.552269</td>\n",
       "      <td>0.215546</td>\n",
       "      <td>2.00919</td>\n",
       "    </tr>\n",
       "    <tr>\n",
       "      <th>98</th>\n",
       "      <td>0.795960</td>\n",
       "      <td>0.336764</td>\n",
       "      <td>2.42194</td>\n",
       "      <td>0.552269</td>\n",
       "      <td>0.215546</td>\n",
       "      <td>2.00919</td>\n",
       "    </tr>\n",
       "    <tr>\n",
       "      <th>99</th>\n",
       "      <td>0.800000</td>\n",
       "      <td>0.336764</td>\n",
       "      <td>2.42194</td>\n",
       "      <td>0.552269</td>\n",
       "      <td>0.215546</td>\n",
       "      <td>2.00919</td>\n",
       "    </tr>\n",
       "  </tbody>\n",
       "</table>\n",
       "<p>100 rows × 6 columns</p>\n",
       "</div>"
      ],
      "text/plain": [
       "    (CV_ventricles,)  (k_ventricles,)  (k_FEC,)  (CV_atria,)  (k_atria,)  \\\n",
       "0           0.400000         0.336764   2.42194     0.552269    0.215546   \n",
       "1           0.404040         0.336764   2.42194     0.552269    0.215546   \n",
       "2           0.408081         0.336764   2.42194     0.552269    0.215546   \n",
       "3           0.412121         0.336764   2.42194     0.552269    0.215546   \n",
       "4           0.416162         0.336764   2.42194     0.552269    0.215546   \n",
       "..               ...              ...       ...          ...         ...   \n",
       "95          0.783838         0.336764   2.42194     0.552269    0.215546   \n",
       "96          0.787879         0.336764   2.42194     0.552269    0.215546   \n",
       "97          0.791919         0.336764   2.42194     0.552269    0.215546   \n",
       "98          0.795960         0.336764   2.42194     0.552269    0.215546   \n",
       "99          0.800000         0.336764   2.42194     0.552269    0.215546   \n",
       "\n",
       "    (k_BB,)  \n",
       "0   2.00919  \n",
       "1   2.00919  \n",
       "2   2.00919  \n",
       "3   2.00919  \n",
       "4   2.00919  \n",
       "..      ...  \n",
       "95  2.00919  \n",
       "96  2.00919  \n",
       "97  2.00919  \n",
       "98  2.00919  \n",
       "99  2.00919  \n",
       "\n",
       "[100 rows x 6 columns]"
      ]
     },
     "execution_count": 12,
     "metadata": {},
     "output_type": "execute_result"
    }
   ],
   "source": [
    "newdf"
   ]
  },
  {
   "cell_type": "code",
   "execution_count": 13,
   "id": "d4c23af4",
   "metadata": {},
   "outputs": [],
   "source": [
    "pred = emulator.predict(newdf.iloc[:,0:1])"
   ]
  },
  {
   "cell_type": "code",
   "execution_count": 14,
   "id": "62acd8fb",
   "metadata": {},
   "outputs": [
    {
     "data": {
      "text/plain": [
       "tensor([194.7956, 193.6949, 192.5706, 191.4227, 190.2518, 189.0584, 187.8433,\n",
       "        186.6075, 185.3521, 184.0784, 182.7877, 181.4815, 180.1614, 178.8288,\n",
       "        177.4854, 176.1328, 174.7723, 173.4056, 172.0339, 170.6587, 169.2810,\n",
       "        167.9021, 166.5230, 165.1446, 163.7677, 162.3931, 161.0217, 159.6539,\n",
       "        158.2906, 156.9324, 155.5800, 154.2341, 152.8957, 151.5657, 150.2451,\n",
       "        148.9352, 147.6372, 146.3527, 145.0832, 143.8306, 142.5968, 141.3836,\n",
       "        140.1933, 139.0279, 137.8896, 136.7805, 135.7026, 134.6578, 133.6479,\n",
       "        132.6744, 131.7385, 130.8412, 129.9831, 129.1644, 128.3849, 127.6438,\n",
       "        126.9403, 126.2726, 125.6388, 125.0365, 124.4628, 123.9146, 123.3882,\n",
       "        122.8800, 122.3858, 121.9015, 121.4227, 120.9451, 120.4644, 119.9763,\n",
       "        119.4768, 118.9621, 118.4286, 117.8729, 117.2924, 116.6843, 116.0466,\n",
       "        115.3777, 114.6763, 113.9416, 113.1731, 112.3710, 111.5355, 110.6674,\n",
       "        109.7676, 108.8376, 107.8788, 106.8928, 105.8817, 104.8472, 103.7916,\n",
       "        102.7167, 101.6247, 100.5176,  99.3973,  98.2658,  97.1248,  95.9762,\n",
       "         94.8213,  93.6617], grad_fn=<SelectBackward0>)"
      ]
     },
     "execution_count": 14,
     "metadata": {},
     "output_type": "execute_result"
    }
   ],
   "source": [
    "pred[:,1]"
   ]
  },
  {
   "cell_type": "code",
   "execution_count": 15,
   "id": "2b718293",
   "metadata": {},
   "outputs": [
    {
     "data": {
      "text/plain": [
       "(0.4, 0.9)"
      ]
     },
     "execution_count": 15,
     "metadata": {},
     "output_type": "execute_result"
    },
    {
     "data": {
      "image/png": "[encoded data removed]",
      "text/plain": [
       "<Figure size 640x480 with 1 Axes>"
      ]
     },
     "metadata": {},
     "output_type": "display_data"
    }
   ],
   "source": [
    "plt.plot(CV_V,pred[:,1].detach().numpy())\n",
    "plt.hlines(161, 0.4, 0.556,'r')\n",
    "plt.vlines(0.556, 110, 161,'r')\n",
    "plt.ylim([110,225])\n",
    "plt.xlim([0.4,0.9])"
   ]
  },
  {
   "cell_type": "code",
   "execution_count": 16,
   "id": "928d3fe4",
   "metadata": {},
   "outputs": [
    {
     "data": {
      "text/plain": [
       "GaussianLikelihood(\n",
       "  (noise_covar): HomoskedasticNoise(\n",
       "    (raw_noise_constraint): GreaterThan(1.000E-04)\n",
       "  )\n",
       ")"
      ]
     },
     "execution_count": 16,
     "metadata": {},
     "output_type": "execute_result"
    }
   ],
   "source": [
    "emulator.likelihoods[1]"
   ]
  },
  {
   "cell_type": "code",
   "execution_count": 17,
   "id": "91f11c9c",
   "metadata": {},
   "outputs": [
    {
     "data": {
      "text/plain": [
       "ExactLRGPModel(\n",
       "  (likelihood): GaussianLikelihood(\n",
       "    (noise_covar): HomoskedasticNoise(\n",
       "      (raw_noise_constraint): GreaterThan(1.000E-04)\n",
       "    )\n",
       "  )\n",
       "  (mean_module): LinearMean()\n",
       "  (covar_module): ScaleKernel(\n",
       "    (base_kernel): RBFKernel(\n",
       "      (raw_lengthscale_constraint): Positive()\n",
       "    )\n",
       "    (raw_outputscale_constraint): Positive()\n",
       "  )\n",
       ")"
      ]
     },
     "execution_count": 17,
     "metadata": {},
     "output_type": "execute_result"
    }
   ],
   "source": [
    "emulator.models[1]"
   ]
  },
  {
   "cell_type": "code",
   "execution_count": 18,
   "id": "df7573dc",
   "metadata": {},
   "outputs": [
    {
     "data": {
      "text/plain": [
       "MultivariateNormal(loc: torch.Size([100]))"
      ]
     },
     "execution_count": 18,
     "metadata": {},
     "output_type": "execute_result"
    }
   ],
   "source": [
    "emulator.likelihoods[1].marginal(emulator.models[1](torch.tensor(newdf.iloc[:,0:1].values).float()))"
   ]
  },
  {
   "cell_type": "code",
   "execution_count": 19,
   "id": "cbb31057",
   "metadata": {},
   "outputs": [
    {
     "data": {
      "text/plain": [
       "MultivariateNormal(loc: torch.Size([100]))"
      ]
     },
     "execution_count": 19,
     "metadata": {},
     "output_type": "execute_result"
    }
   ],
   "source": [
    "emulator.models[1](torch.tensor(newdf.iloc[:,0:1].values).float())"
   ]
  },
  {
   "cell_type": "code",
   "execution_count": 20,
   "id": "9338494d",
   "metadata": {},
   "outputs": [],
   "source": [
    "mll = gpytorch.mlls.ExactMarginalLogLikelihood(emulator.likelihoods[1], emulator.models[1])"
   ]
  },
  {
   "cell_type": "code",
   "execution_count": 21,
   "id": "c139e176",
   "metadata": {
    "scrolled": true
   },
   "outputs": [
    {
     "name": "stdout",
     "output_type": "stream",
     "text": [
      "    (A_TAT,)  (V_TAT,)\n",
      "0    232.374   161.202\n",
      "1    232.374   161.202\n",
      "2    232.374   161.202\n",
      "3    232.374   161.202\n",
      "4    232.374   161.202\n",
      "..       ...       ...\n",
      "95   232.374   161.202\n",
      "96   232.374   161.202\n",
      "97   232.374   161.202\n",
      "98   232.374   161.202\n",
      "99   232.374   161.202\n",
      "\n",
      "[100 rows x 2 columns]\n"
     ]
    }
   ],
   "source": [
    "y_rep = pd.DataFrame(np.repeat(y_test.values, 100, axis=0))\n",
    "y_rep.columns = y_test.columns\n",
    "print(y_rep)"
   ]
  },
  {
   "cell_type": "code",
   "execution_count": 22,
   "id": "34eb984a",
   "metadata": {},
   "outputs": [
    {
     "data": {
      "text/plain": [
       "array(-1.2651792, dtype=float32)"
      ]
     },
     "execution_count": 22,
     "metadata": {},
     "output_type": "execute_result"
    }
   ],
   "source": [
    "mll(emulator.models[1]((torch.tensor(((newdf.iloc[:,0:1]-emulator.training_input_mean)/emulator.training_input_STD).values).float())),torch.tensor(((y_rep.iloc[:,1]-emulator.training_output_mean[1])/emulator.training_output_STD[1]).values).float()).detach().numpy()"
   ]
  },
  {
   "cell_type": "code",
   "execution_count": 23,
   "id": "370d383f",
   "metadata": {},
   "outputs": [
    {
     "data": {
      "text/plain": [
       "MultivariateNormal(loc: torch.Size([100]))"
      ]
     },
     "execution_count": 23,
     "metadata": {},
     "output_type": "execute_result"
    }
   ],
   "source": [
    "emulator.models[1](torch.tensor(newdf.iloc[:,0:1].values).float())"
   ]
  },
  {
   "cell_type": "code",
   "execution_count": 24,
   "id": "1dff3b31",
   "metadata": {},
   "outputs": [
    {
     "data": {
      "text/plain": [
       "(1, 6)"
      ]
     },
     "execution_count": 24,
     "metadata": {},
     "output_type": "execute_result"
    }
   ],
   "source": [
    "newdf.iloc[0:1,:].shape"
   ]
  },
  {
   "cell_type": "code",
   "execution_count": 25,
   "id": "8e3f9be2",
   "metadata": {},
   "outputs": [
    {
     "data": {
      "text/plain": [
       "161.202"
      ]
     },
     "execution_count": 25,
     "metadata": {},
     "output_type": "execute_result"
    }
   ],
   "source": [
    "y_rep.iloc[1,1]"
   ]
  },
  {
   "cell_type": "code",
   "execution_count": 26,
   "id": "d4116a0c",
   "metadata": {},
   "outputs": [],
   "source": [
    "? emulator.models[1].covar_module"
   ]
  },
  {
   "cell_type": "code",
   "execution_count": 27,
   "id": "fc57745e",
   "metadata": {},
   "outputs": [],
   "source": [
    "varvar = emulator.models[1].covar_module(torch.tensor([1]))"
   ]
  },
  {
   "cell_type": "code",
   "execution_count": 28,
   "id": "01b04a55",
   "metadata": {},
   "outputs": [
    {
     "data": {
      "text/plain": [
       "tensor([[0.0239]], grad_fn=<MulBackward0>)"
      ]
     },
     "execution_count": 28,
     "metadata": {},
     "output_type": "execute_result"
    }
   ],
   "source": [
    "varvar.evaluate()"
   ]
  },
  {
   "cell_type": "code",
   "execution_count": 29,
   "id": "78fb28bc",
   "metadata": {
    "scrolled": true
   },
   "outputs": [
    {
     "name": "stdout",
     "output_type": "stream",
     "text": [
      "Parameter name: likelihood.noise_covar.raw_noise           value = -0.8058335781097412\n",
      "Parameter name: mean_module.weights                        value = -0.7942273020744324\n",
      "Parameter name: mean_module.bias                           value = 0.020796196535229683\n",
      "Parameter name: covar_module.raw_outputscale               value = -3.7226145267486572\n",
      "Parameter name: covar_module.base_kernel.raw_lengthscale   value = -0.29812124371528625\n"
     ]
    }
   ],
   "source": [
    "\n",
    "for param_name, param in emulator.models[1].named_parameters():\n",
    "    print(f'Parameter name: {param_name:42} value = {param.item()}')"
   ]
  },
  {
   "cell_type": "code",
   "execution_count": 29,
   "id": "a97bafdf",
   "metadata": {},
   "outputs": [
    {
     "name": "stdout",
     "output_type": "stream",
     "text": [
      "[[0.02379162]]\n",
      "[[0.02379162]]\n",
      "[[0.02379162]]\n",
      "[[0.02379162]]\n",
      "[[0.02379162]]\n",
      "[[0.02379162]]\n",
      "[[0.02379162]]\n",
      "[[0.02379162]]\n",
      "[[0.02379162]]\n",
      "[[0.02379162]]\n",
      "[[0.02379162]]\n",
      "[[0.02379162]]\n",
      "[[0.02379162]]\n",
      "[[0.02379162]]\n",
      "[[0.02379162]]\n",
      "[[0.02379162]]\n",
      "[[0.02379162]]\n",
      "[[0.02379162]]\n",
      "[[0.02379162]]\n",
      "[[0.02379162]]\n",
      "[[0.02379162]]\n",
      "[[0.02379162]]\n",
      "[[0.02379162]]\n",
      "[[0.02379162]]\n",
      "[[0.02379162]]\n",
      "[[0.02379162]]\n",
      "[[0.02379162]]\n",
      "[[0.02379162]]\n",
      "[[0.02379162]]\n",
      "[[0.02379162]]\n",
      "[[0.02379162]]\n",
      "[[0.02379162]]\n",
      "[[0.02379162]]\n",
      "[[0.02379162]]\n",
      "[[0.02379162]]\n",
      "[[0.02379162]]\n",
      "[[0.02379162]]\n",
      "[[0.02379162]]\n",
      "[[0.02379162]]\n",
      "[[0.02379162]]\n",
      "[[0.02379162]]\n",
      "[[0.02379162]]\n",
      "[[0.02379162]]\n",
      "[[0.02379162]]\n",
      "[[0.02379162]]\n",
      "[[0.02379162]]\n",
      "[[0.02379162]]\n",
      "[[0.02379162]]\n",
      "[[0.02379162]]\n",
      "[[0.02379162]]\n",
      "[[0.02379162]]\n",
      "[[0.02379162]]\n",
      "[[0.02379162]]\n",
      "[[0.02379162]]\n",
      "[[0.02379162]]\n",
      "[[0.02379162]]\n",
      "[[0.02379162]]\n",
      "[[0.02379162]]\n",
      "[[0.02379162]]\n",
      "[[0.02379162]]\n",
      "[[0.02379162]]\n",
      "[[0.02379162]]\n",
      "[[0.02379162]]\n",
      "[[0.02379162]]\n",
      "[[0.02379162]]\n",
      "[[0.02379162]]\n",
      "[[0.02379162]]\n",
      "[[0.02379162]]\n",
      "[[0.02379162]]\n",
      "[[0.02379162]]\n",
      "[[0.02379162]]\n",
      "[[0.02379162]]\n",
      "[[0.02379162]]\n",
      "[[0.02379162]]\n",
      "[[0.02379162]]\n",
      "[[0.02379162]]\n",
      "[[0.02379162]]\n",
      "[[0.02379162]]\n",
      "[[0.02379162]]\n",
      "[[0.02379162]]\n",
      "[[0.02379162]]\n",
      "[[0.02379162]]\n",
      "[[0.02379162]]\n",
      "[[0.02379162]]\n",
      "[[0.02379162]]\n",
      "[[0.02379162]]\n",
      "[[0.02379162]]\n",
      "[[0.02379162]]\n",
      "[[0.02379162]]\n",
      "[[0.02379162]]\n",
      "[[0.02379162]]\n",
      "[[0.02379162]]\n",
      "[[0.02379162]]\n",
      "[[0.02379162]]\n",
      "[[0.02379162]]\n",
      "[[0.02379162]]\n",
      "[[0.02379162]]\n",
      "[[0.02379162]]\n",
      "[[0.02379162]]\n",
      "[[0.02379162]]\n"
     ]
    }
   ],
   "source": [
    "likelihood_manual = np.zeros(100)\n",
    "emulator.models[1].eval()\n",
    "for i in range(100):\n",
    "    y = (y_rep.iloc[i,1]-emulator.training_output_mean[1])/emulator.training_output_STD[1]\n",
    "    m = emulator.models[1].mean_module(torch.tensor(((newdf.iloc[i:i+1,0:1]-emulator.training_input_mean)/emulator.training_input_STD).values).float()).detach().numpy()\n",
    "    k = emulator.models[1].covar_module(torch.tensor(((newdf.iloc[i:i+1,0:1]-emulator.training_input_mean)/emulator.training_input_STD).values).float()).evaluate().detach().numpy()\n",
    "    likelihood_manual[i]=np.exp(-0.5* (y-m)**2/(k)) * 1/np.sqrt(2*np.pi *k)\n",
    "    print(k)\n",
    "    #np.exp(-0.5* (y-m)**2/(k+n^2+s^2)) * 1/sqrt(2pi *k(x,x)+n^2+s^2)\n",
    "    #likelihood_manual[i]=np.exp(mll(emulator.models[1]((torch.tensor(((newdf.iloc[i:i+1,0:1]-emulator.training_input_mean)/emulator.training_input_STD).values).float())),torch.tensor(((y_rep.iloc[i,1]-emulator.training_output_mean[1])/emulator.training_output_STD[1])).float()).detach().numpy())"
   ]
  },
  {
   "cell_type": "code",
   "execution_count": 30,
   "id": "43662d26",
   "metadata": {},
   "outputs": [
    {
     "data": {
      "text/plain": [
       "[<matplotlib.lines.Line2D at 0x1baa8f5ea10>]"
      ]
     },
     "execution_count": 30,
     "metadata": {},
     "output_type": "execute_result"
    },
    {
     "data": {
      "image/png": "[encoded data removed]",
      "text/plain": [
       "<Figure size 640x480 with 1 Axes>"
      ]
     },
     "metadata": {},
     "output_type": "display_data"
    }
   ],
   "source": [
    "plt.plot(CV_V,likelihood_manual)"
   ]
  },
  {
   "cell_type": "code",
   "execution_count": 31,
   "id": "5a733774",
   "metadata": {},
   "outputs": [],
   "source": [
    "likelihood = np.zeros(100)\n",
    "for i in range(100):\n",
    "    likelihood[i]=np.exp(mll(emulator.models[1]((torch.tensor(((newdf.iloc[i:i+1,0:1]-emulator.training_input_mean)/emulator.training_input_STD).values).float())),torch.tensor(((y_rep.iloc[i,1]-emulator.training_output_mean[1])/emulator.training_output_STD[1])).float()).detach().numpy())"
   ]
  },
  {
   "cell_type": "code",
   "execution_count": 32,
   "id": "0779a65d",
   "metadata": {},
   "outputs": [
    {
     "data": {
      "text/plain": [
       "[<matplotlib.lines.Line2D at 0x1baa8fe1cc0>]"
      ]
     },
     "execution_count": 32,
     "metadata": {},
     "output_type": "execute_result"
    },
    {
     "data": {
      "image/png": "[encoded data removed]",
      "text/plain": [
       "<Figure size 640x480 with 1 Axes>"
      ]
     },
     "metadata": {},
     "output_type": "display_data"
    }
   ],
   "source": [
    "plt.plot(CV_V,likelihood)"
   ]
  },
  {
   "cell_type": "code",
   "execution_count": 77,
   "id": "44b376c0",
   "metadata": {
    "scrolled": true
   },
   "outputs": [
    {
     "data": {
      "text/html": [
       "<div>\n",
       "<style scoped>\n",
       "    .dataframe tbody tr th:only-of-type {\n",
       "        vertical-align: middle;\n",
       "    }\n",
       "\n",
       "    .dataframe tbody tr th {\n",
       "        vertical-align: top;\n",
       "    }\n",
       "\n",
       "    .dataframe thead th {\n",
       "        text-align: right;\n",
       "    }\n",
       "</style>\n",
       "<table border=\"1\" class=\"dataframe\">\n",
       "  <thead>\n",
       "    <tr style=\"text-align: right;\">\n",
       "      <th></th>\n",
       "      <th>(CV_ventricles,)</th>\n",
       "    </tr>\n",
       "  </thead>\n",
       "  <tbody>\n",
       "    <tr>\n",
       "      <th>26</th>\n",
       "      <td>0.556019</td>\n",
       "    </tr>\n",
       "  </tbody>\n",
       "</table>\n",
       "</div>"
      ],
      "text/plain": [
       "    (CV_ventricles,)\n",
       "26          0.556019"
      ]
     },
     "execution_count": 77,
     "metadata": {},
     "output_type": "execute_result"
    }
   ],
   "source": [
    "X_test.iloc[:,0:1]"
   ]
  },
  {
   "cell_type": "code",
   "execution_count": 122,
   "id": "d20a9f54",
   "metadata": {},
   "outputs": [
    {
     "data": {
      "text/plain": [
       "(CV_ventricles,)    0.590164\n",
       "dtype: float64"
      ]
     },
     "execution_count": 122,
     "metadata": {},
     "output_type": "execute_result"
    }
   ],
   "source": [
    "emulator.training_input_mean"
   ]
  },
  {
   "cell_type": "code",
   "execution_count": 123,
   "id": "e7d78fdf",
   "metadata": {
    "scrolled": true
   },
   "outputs": [
    {
     "data": {
      "text/html": [
       "<div>\n",
       "<style scoped>\n",
       "    .dataframe tbody tr th:only-of-type {\n",
       "        vertical-align: middle;\n",
       "    }\n",
       "\n",
       "    .dataframe tbody tr th {\n",
       "        vertical-align: top;\n",
       "    }\n",
       "\n",
       "    .dataframe thead th {\n",
       "        text-align: right;\n",
       "    }\n",
       "</style>\n",
       "<table border=\"1\" class=\"dataframe\">\n",
       "  <thead>\n",
       "    <tr style=\"text-align: right;\">\n",
       "      <th></th>\n",
       "      <th>(CV_ventricles,)</th>\n",
       "    </tr>\n",
       "  </thead>\n",
       "  <tbody>\n",
       "    <tr>\n",
       "      <th>26</th>\n",
       "      <td>0.556019</td>\n",
       "    </tr>\n",
       "  </tbody>\n",
       "</table>\n",
       "</div>"
      ],
      "text/plain": [
       "    (CV_ventricles,)\n",
       "26          0.556019"
      ]
     },
     "execution_count": 123,
     "metadata": {},
     "output_type": "execute_result"
    }
   ],
   "source": [
    "X_test.iloc[:,0:1]"
   ]
  },
  {
   "cell_type": "code",
   "execution_count": 124,
   "id": "fa24e5d7",
   "metadata": {
    "scrolled": false
   },
   "outputs": [
    {
     "data": {
      "text/html": [
       "<div>\n",
       "<style scoped>\n",
       "    .dataframe tbody tr th:only-of-type {\n",
       "        vertical-align: middle;\n",
       "    }\n",
       "\n",
       "    .dataframe tbody tr th {\n",
       "        vertical-align: top;\n",
       "    }\n",
       "\n",
       "    .dataframe thead th {\n",
       "        text-align: right;\n",
       "    }\n",
       "</style>\n",
       "<table border=\"1\" class=\"dataframe\">\n",
       "  <thead>\n",
       "    <tr style=\"text-align: right;\">\n",
       "      <th></th>\n",
       "      <th>(CV_ventricles,)</th>\n",
       "    </tr>\n",
       "  </thead>\n",
       "  <tbody>\n",
       "    <tr>\n",
       "      <th>26</th>\n",
       "      <td>-0.280816</td>\n",
       "    </tr>\n",
       "  </tbody>\n",
       "</table>\n",
       "</div>"
      ],
      "text/plain": [
       "    (CV_ventricles,)\n",
       "26         -0.280816"
      ]
     },
     "execution_count": 124,
     "metadata": {},
     "output_type": "execute_result"
    }
   ],
   "source": [
    "(X_test.iloc[:,0:1]-emulator.training_input_mean)/emulator.training_input_STD"
   ]
  },
  {
   "cell_type": "code",
   "execution_count": null,
   "id": "32167f65",
   "metadata": {},
   "outputs": [],
   "source": [
    "emulator."
   ]
  },
  {
   "cell_type": "code",
   "execution_count": 106,
   "id": "beac4547",
   "metadata": {},
   "outputs": [
    {
     "data": {
      "text/plain": [
       "tensor([[-5.1345]])"
      ]
     },
     "execution_count": 106,
     "metadata": {},
     "output_type": "execute_result"
    }
   ],
   "source": [
    "torch.tensor(((X_test.iloc[:,0:1]-emulator.training_input_mean)/emulator.training_input_STD-emulator.training_input_mean/emulator.training_input_STD).values).float()"
   ]
  },
  {
   "cell_type": "code",
   "execution_count": 118,
   "id": "62fbbfa4",
   "metadata": {},
   "outputs": [],
   "source": [
    "var = emulator.models[1].covar_module(torch.tensor(((X_test.iloc[:,0:1]-emulator.training_input_mean)/emulator.training_input_STD).values).float())[0].detach().numpy()"
   ]
  },
  {
   "cell_type": "code",
   "execution_count": 145,
   "id": "9d253ed2",
   "metadata": {},
   "outputs": [],
   "source": [
    "mean = emulator.models[1].mean_module(torch.tensor(((X_test.iloc[:,0:1]-emulator.training_input_mean)/emulator.training_input_STD).values).float()).detach().numpy()"
   ]
  },
  {
   "cell_type": "code",
   "execution_count": 157,
   "id": "e6990319",
   "metadata": {},
   "outputs": [
    {
     "data": {
      "text/plain": [
       "(CV_ventricles,)    0.540433\n",
       "dtype: float64"
      ]
     },
     "execution_count": 157,
     "metadata": {},
     "output_type": "execute_result"
    }
   ],
   "source": [
    "emulator.models[1].mean_module(torch.tensor(X_test.iloc[:,0:1].values).float()).detach().numpy()*emulator.training_input_STD+emulator.training_input_mean"
   ]
  },
  {
   "cell_type": "code",
   "execution_count": 150,
   "id": "f6445af2",
   "metadata": {},
   "outputs": [
    {
     "data": {
      "text/plain": [
       "(CV_ventricles,)    0.121591\n",
       "dtype: float64"
      ]
     },
     "execution_count": 150,
     "metadata": {},
     "output_type": "execute_result"
    }
   ],
   "source": [
    "emulator.training_input_STD"
   ]
  },
  {
   "cell_type": "code",
   "execution_count": 158,
   "id": "96da953f",
   "metadata": {},
   "outputs": [],
   "source": [
    "mean=emulator.models[1].mean_module(torch.tensor(X_test.iloc[:,0:1].values).float()).detach().numpy()*emulator.training_input_STD+emulator.training_input_mean"
   ]
  },
  {
   "cell_type": "code",
   "execution_count": 159,
   "id": "5cc53e4e",
   "metadata": {},
   "outputs": [
    {
     "data": {
      "image/png": "[encoded data removed]",
      "text/plain": [
       "<Figure size 640x480 with 1 Axes>"
      ]
     },
     "metadata": {},
     "output_type": "display_data"
    }
   ],
   "source": [
    "from scipy.stats import norm\n",
    "import statistics\n",
    "\n",
    "  \n",
    "plt.plot(CV_V, norm.pdf(CV_V, mean, np.sqrt(var)))\n",
    "plt.show()"
   ]
  },
  {
   "cell_type": "code",
   "execution_count": 932,
   "id": "7586c2c3",
   "metadata": {
    "scrolled": true
   },
   "outputs": [],
   "source": [
    "prior = scipy.stats.norm.pdf(CV_V,0.6,1)"
   ]
  },
  {
   "cell_type": "code",
   "execution_count": 933,
   "id": "b7a59954",
   "metadata": {
    "scrolled": false
   },
   "outputs": [
    {
     "data": {
      "text/plain": [
       "[<matplotlib.lines.Line2D at 0x203374b7a30>]"
      ]
     },
     "execution_count": 933,
     "metadata": {},
     "output_type": "execute_result"
    },
    {
     "data": {
      "image/png": "[encoded data removed]",
      "text/plain": [
       "<Figure size 640x480 with 1 Axes>"
      ]
     },
     "metadata": {},
     "output_type": "display_data"
    }
   ],
   "source": [
    "plt.plot(CV_V,prior)"
   ]
  },
  {
   "cell_type": "code",
   "execution_count": 934,
   "id": "c780a29a",
   "metadata": {},
   "outputs": [],
   "source": [
    "posterior = likelihood*prior / (np.sum(likelihood*prior)*0.004)"
   ]
  },
  {
   "cell_type": "code",
   "execution_count": 935,
   "id": "a88d6382",
   "metadata": {
    "scrolled": false
   },
   "outputs": [
    {
     "data": {
      "text/plain": [
       "[<matplotlib.lines.Line2D at 0x20335982410>]"
      ]
     },
     "execution_count": 935,
     "metadata": {},
     "output_type": "execute_result"
    },
    {
     "data": {
      "image/png": "[encoded data removed]",
      "text/plain": [
       "<Figure size 640x480 with 1 Axes>"
      ]
     },
     "metadata": {},
     "output_type": "display_data"
    }
   ],
   "source": [
    "plt.plot(CV_V,posterior)"
   ]
  },
  {
   "cell_type": "code",
   "execution_count": 936,
   "id": "04605f05",
   "metadata": {},
   "outputs": [
    {
     "data": {
      "text/plain": [
       "1.0"
      ]
     },
     "execution_count": 936,
     "metadata": {},
     "output_type": "execute_result"
    }
   ],
   "source": [
    "np.sum(posterior)*0.004"
   ]
  },
  {
   "cell_type": "markdown",
   "id": "ca8a4208",
   "metadata": {},
   "source": [
    "# True value is 0.556\n"
   ]
  },
  {
   "cell_type": "code",
   "execution_count": 959,
   "id": "01521a76",
   "metadata": {},
   "outputs": [
    {
     "name": "stdout",
     "output_type": "stream",
     "text": [
      "0\n",
      "1\n"
     ]
    }
   ],
   "source": [
    "emulator = GPE.ensemble(X_train.iloc[:,0:3],y_train,mean_func=\"linear\",training_iter=500)"
   ]
  },
  {
   "cell_type": "code",
   "execution_count": 960,
   "id": "fe496397",
   "metadata": {},
   "outputs": [],
   "source": [
    "k_v = np.linspace(0.2,0.5,100)"
   ]
  },
  {
   "cell_type": "code",
   "execution_count": 961,
   "id": "b028b165",
   "metadata": {},
   "outputs": [],
   "source": [
    "k_v2, CV_V2 = np.meshgrid(k_v,CV_V)"
   ]
  },
  {
   "cell_type": "code",
   "execution_count": 962,
   "id": "221fb7ab",
   "metadata": {},
   "outputs": [
    {
     "data": {
      "text/plain": [
       "array([0.2       , 0.2030303 , 0.20606061, ..., 0.49393939, 0.4969697 ,\n",
       "       0.5       ])"
      ]
     },
     "execution_count": 962,
     "metadata": {},
     "output_type": "execute_result"
    }
   ],
   "source": [
    "k_v2.reshape(10000)"
   ]
  },
  {
   "cell_type": "code",
   "execution_count": 963,
   "id": "7d4052b1",
   "metadata": {},
   "outputs": [
    {
     "data": {
      "text/plain": [
       "array([0.4, 0.4, 0.4, ..., 0.8, 0.8, 0.8])"
      ]
     },
     "execution_count": 963,
     "metadata": {},
     "output_type": "execute_result"
    }
   ],
   "source": [
    "CV_V2.reshape(10000)"
   ]
  },
  {
   "cell_type": "code",
   "execution_count": 964,
   "id": "c7ab2e4e",
   "metadata": {},
   "outputs": [
    {
     "name": "stdout",
     "output_type": "stream",
     "text": [
      "      (CV_ventricles,)  (k_ventricles,)  (k_FEC,)  (CV_atria,)  (k_atria,)  \\\n",
      "0             0.556019         0.336764   2.42194     0.552269    0.215546   \n",
      "1             0.556019         0.336764   2.42194     0.552269    0.215546   \n",
      "2             0.556019         0.336764   2.42194     0.552269    0.215546   \n",
      "3             0.556019         0.336764   2.42194     0.552269    0.215546   \n",
      "4             0.556019         0.336764   2.42194     0.552269    0.215546   \n",
      "...                ...              ...       ...          ...         ...   \n",
      "9995          0.556019         0.336764   2.42194     0.552269    0.215546   \n",
      "9996          0.556019         0.336764   2.42194     0.552269    0.215546   \n",
      "9997          0.556019         0.336764   2.42194     0.552269    0.215546   \n",
      "9998          0.556019         0.336764   2.42194     0.552269    0.215546   \n",
      "9999          0.556019         0.336764   2.42194     0.552269    0.215546   \n",
      "\n",
      "      (k_BB,)  \n",
      "0     2.00919  \n",
      "1     2.00919  \n",
      "2     2.00919  \n",
      "3     2.00919  \n",
      "4     2.00919  \n",
      "...       ...  \n",
      "9995  2.00919  \n",
      "9996  2.00919  \n",
      "9997  2.00919  \n",
      "9998  2.00919  \n",
      "9999  2.00919  \n",
      "\n",
      "[10000 rows x 6 columns]\n"
     ]
    }
   ],
   "source": [
    "newdf = pd.DataFrame(np.repeat(X_test.values, 10000, axis=0))#+np.random.multivariate_normal(mean=np.zeros(6), cov=0.01*np.identity(6), size=100)\n",
    "newdf.columns = X_test.columns\n",
    "print(newdf)"
   ]
  },
  {
   "cell_type": "code",
   "execution_count": 965,
   "id": "2dbf9461",
   "metadata": {},
   "outputs": [],
   "source": [
    "newdf.iloc[:,0] = CV_V2.reshape(10000)\n",
    "newdf.iloc[:,1] = k_v2.reshape(10000)"
   ]
  },
  {
   "cell_type": "code",
   "execution_count": 966,
   "id": "0a407cfd",
   "metadata": {},
   "outputs": [],
   "source": [
    "pred = emulator.predict(newdf.iloc[:,0:3])"
   ]
  },
  {
   "cell_type": "code",
   "execution_count": 967,
   "id": "70217135",
   "metadata": {},
   "outputs": [
    {
     "data": {
      "text/plain": [
       "tensor([[188.2672, 263.6223],\n",
       "        [188.1066, 262.1801],\n",
       "        [187.9464, 260.6815],\n",
       "        ...,\n",
       "        [204.5457, 103.1894],\n",
       "        [204.4133, 103.0325],\n",
       "        [204.2810, 102.9411]], grad_fn=<PermuteBackward0>)"
      ]
     },
     "execution_count": 967,
     "metadata": {},
     "output_type": "execute_result"
    }
   ],
   "source": [
    "pred"
   ]
  },
  {
   "cell_type": "code",
   "execution_count": 968,
   "id": "130befc4",
   "metadata": {},
   "outputs": [
    {
     "data": {
      "image/png": "[encoded data removed]",
      "text/plain": [
       "<Figure size 640x480 with 2 Axes>"
      ]
     },
     "metadata": {},
     "output_type": "display_data"
    }
   ],
   "source": [
    "plt.contourf(CV_V2,k_v2, pred[:,1].detach().numpy().reshape(100,100),levels=1000, cmap = 'jet')\n",
    " \n",
    "plt.colorbar()\n",
    "plt.show()"
   ]
  },
  {
   "cell_type": "code",
   "execution_count": 969,
   "id": "ac9d6862",
   "metadata": {},
   "outputs": [
    {
     "data": {
      "text/html": [
       "<div>\n",
       "<style scoped>\n",
       "    .dataframe tbody tr th:only-of-type {\n",
       "        vertical-align: middle;\n",
       "    }\n",
       "\n",
       "    .dataframe tbody tr th {\n",
       "        vertical-align: top;\n",
       "    }\n",
       "\n",
       "    .dataframe thead th {\n",
       "        text-align: right;\n",
       "    }\n",
       "</style>\n",
       "<table border=\"1\" class=\"dataframe\">\n",
       "  <thead>\n",
       "    <tr style=\"text-align: right;\">\n",
       "      <th></th>\n",
       "      <th>(CV_ventricles,)</th>\n",
       "      <th>(k_ventricles,)</th>\n",
       "      <th>(k_FEC,)</th>\n",
       "      <th>(CV_atria,)</th>\n",
       "      <th>(k_atria,)</th>\n",
       "      <th>(k_BB,)</th>\n",
       "    </tr>\n",
       "  </thead>\n",
       "  <tbody>\n",
       "    <tr>\n",
       "      <th>26</th>\n",
       "      <td>0.556019</td>\n",
       "      <td>0.336764</td>\n",
       "      <td>2.42194</td>\n",
       "      <td>0.552269</td>\n",
       "      <td>0.215546</td>\n",
       "      <td>2.00919</td>\n",
       "    </tr>\n",
       "  </tbody>\n",
       "</table>\n",
       "</div>"
      ],
      "text/plain": [
       "    (CV_ventricles,)  (k_ventricles,)  (k_FEC,)  (CV_atria,)  (k_atria,)  \\\n",
       "26          0.556019         0.336764   2.42194     0.552269    0.215546   \n",
       "\n",
       "    (k_BB,)  \n",
       "26  2.00919  "
      ]
     },
     "execution_count": 969,
     "metadata": {},
     "output_type": "execute_result"
    }
   ],
   "source": [
    "X_test"
   ]
  },
  {
   "cell_type": "code",
   "execution_count": 970,
   "id": "ca683f6f",
   "metadata": {},
   "outputs": [
    {
     "data": {
      "text/html": [
       "<div>\n",
       "<style scoped>\n",
       "    .dataframe tbody tr th:only-of-type {\n",
       "        vertical-align: middle;\n",
       "    }\n",
       "\n",
       "    .dataframe tbody tr th {\n",
       "        vertical-align: top;\n",
       "    }\n",
       "\n",
       "    .dataframe thead th {\n",
       "        text-align: right;\n",
       "    }\n",
       "</style>\n",
       "<table border=\"1\" class=\"dataframe\">\n",
       "  <thead>\n",
       "    <tr style=\"text-align: right;\">\n",
       "      <th></th>\n",
       "      <th>(A_TAT,)</th>\n",
       "      <th>(V_TAT,)</th>\n",
       "    </tr>\n",
       "  </thead>\n",
       "  <tbody>\n",
       "    <tr>\n",
       "      <th>26</th>\n",
       "      <td>232.374</td>\n",
       "      <td>161.202</td>\n",
       "    </tr>\n",
       "  </tbody>\n",
       "</table>\n",
       "</div>"
      ],
      "text/plain": [
       "    (A_TAT,)  (V_TAT,)\n",
       "26   232.374   161.202"
      ]
     },
     "execution_count": 970,
     "metadata": {},
     "output_type": "execute_result"
    }
   ],
   "source": [
    "y_test"
   ]
  },
  {
   "cell_type": "code",
   "execution_count": 971,
   "id": "558145a5",
   "metadata": {},
   "outputs": [
    {
     "name": "stdout",
     "output_type": "stream",
     "text": [
      "      (A_TAT,)  (V_TAT,)\n",
      "0      232.374   161.202\n",
      "1      232.374   161.202\n",
      "2      232.374   161.202\n",
      "3      232.374   161.202\n",
      "4      232.374   161.202\n",
      "...        ...       ...\n",
      "9995   232.374   161.202\n",
      "9996   232.374   161.202\n",
      "9997   232.374   161.202\n",
      "9998   232.374   161.202\n",
      "9999   232.374   161.202\n",
      "\n",
      "[10000 rows x 2 columns]\n"
     ]
    }
   ],
   "source": [
    "y_rep = pd.DataFrame(np.repeat(y_test.values, 10000, axis=0))\n",
    "y_rep.columns = y_test.columns\n",
    "print(y_rep)"
   ]
  },
  {
   "cell_type": "code",
   "execution_count": 972,
   "id": "220b5ef2",
   "metadata": {},
   "outputs": [],
   "source": [
    "likelihood = np.zeros(10000)\n",
    "for i in range(10000):\n",
    "    likelihood[i]=np.exp(mll(emulator.models[1]((torch.tensor(((newdf.iloc[i:i+1,0:3]-emulator.training_input_mean)/emulator.training_input_STD).values).float())),torch.tensor(((y_rep.iloc[i,1]-emulator.training_output_mean[1])/emulator.training_output_STD[1])).float()).detach().numpy())"
   ]
  },
  {
   "cell_type": "code",
   "execution_count": 973,
   "id": "b80b87d1",
   "metadata": {},
   "outputs": [
    {
     "data": {
      "image/png": "[encoded data removed]",
      "text/plain": [
       "<Figure size 640x480 with 2 Axes>"
      ]
     },
     "metadata": {},
     "output_type": "display_data"
    }
   ],
   "source": [
    "plt.contourf(CV_V2,k_v2, likelihood.reshape(100,100),levels=100, cmap = 'jet')\n",
    "plt.colorbar()\n",
    "plt.ylabel('k_v')\n",
    "plt.xlabel('CV_v')\n",
    "plt.show()\n"
   ]
  },
  {
   "cell_type": "code",
   "execution_count": 974,
   "id": "903bab04",
   "metadata": {},
   "outputs": [],
   "source": [
    "k_prior = scipy.stats.norm.pdf(k_v2,0.3,1)"
   ]
  },
  {
   "cell_type": "code",
   "execution_count": 975,
   "id": "d230f2b5",
   "metadata": {},
   "outputs": [],
   "source": [
    "posterior = likelihood.reshape(100,100)*k_prior / (np.sum(likelihood.reshape(100,100)*k_prior)*(0.004*0.003))"
   ]
  },
  {
   "cell_type": "code",
   "execution_count": 976,
   "id": "f639d799",
   "metadata": {},
   "outputs": [
    {
     "data": {
      "image/png": "[encoded data removed]",
      "text/plain": [
       "<Figure size 640x480 with 2 Axes>"
      ]
     },
     "metadata": {},
     "output_type": "display_data"
    }
   ],
   "source": [
    "plt.contourf(CV_V2,k_v2, posterior,levels=100, cmap = 'jet')\n",
    "plt.colorbar()\n",
    "plt.ylabel('k_v')\n",
    "plt.xlabel('CV_v')\n",
    "plt.show()\n"
   ]
  },
  {
   "cell_type": "code",
   "execution_count": 956,
   "id": "61c1dc11",
   "metadata": {},
   "outputs": [],
   "source": [
    "c_prior = scipy.stats.norm.pdf(CV_V2,0.6,0.1)"
   ]
  },
  {
   "cell_type": "code",
   "execution_count": 957,
   "id": "68c46257",
   "metadata": {},
   "outputs": [],
   "source": [
    "posterior = likelihood.reshape(100,100)*c_prior / (np.sum(likelihood.reshape(100,100)*c_prior)*(0.004*0.003))"
   ]
  },
  {
   "cell_type": "code",
   "execution_count": 958,
   "id": "9e052368",
   "metadata": {},
   "outputs": [
    {
     "data": {
      "image/png": "[encoded data removed]",
      "text/plain": [
       "<Figure size 640x480 with 2 Axes>"
      ]
     },
     "metadata": {},
     "output_type": "display_data"
    }
   ],
   "source": [
    "plt.contourf(CV_V2,k_v2, posterior,levels=100, cmap = 'jet')\n",
    "plt.ylabel('k_v')\n",
    "plt.xlabel('CV_v')\n",
    "plt.colorbar()\n",
    "plt.show()"
   ]
  },
  {
   "cell_type": "markdown",
   "id": "c276263d",
   "metadata": {},
   "source": [
    "# 3 params"
   ]
  },
  {
   "cell_type": "code",
   "execution_count": 706,
   "id": "ef98d5bb",
   "metadata": {},
   "outputs": [
    {
     "data": {
      "text/plain": [
       "(CV_ventricles,)    0.798883\n",
       "(k_ventricles,)     0.499215\n",
       "(k_FEC,)            8.396810\n",
       "(CV_atria,)         1.029280\n",
       "(k_atria,)          0.499887\n",
       "(k_BB,)             5.675750\n",
       "dtype: float64"
      ]
     },
     "execution_count": 706,
     "metadata": {},
     "output_type": "execute_result"
    }
   ],
   "source": [
    "inputOrig.max()"
   ]
  },
  {
   "cell_type": "code",
   "execution_count": 707,
   "id": "8b85bb6c",
   "metadata": {},
   "outputs": [
    {
     "data": {
      "text/plain": [
       "(A_TAT,)    411.974\n",
       "(V_TAT,)    251.164\n",
       "dtype: float64"
      ]
     },
     "execution_count": 707,
     "metadata": {},
     "output_type": "execute_result"
    }
   ],
   "source": [
    "outputOrig.max()"
   ]
  },
  {
   "cell_type": "code",
   "execution_count": 708,
   "id": "3023417a",
   "metadata": {
    "scrolled": true
   },
   "outputs": [
    {
     "name": "stdout",
     "output_type": "stream",
     "text": [
      "0\n",
      "1\n"
     ]
    }
   ],
   "source": [
    "emulator = GPE.ensemble(X_train.iloc[:,0:3],y_train,mean_func=\"linear\",training_iter=500)"
   ]
  },
  {
   "cell_type": "code",
   "execution_count": 709,
   "id": "f7ead8fa",
   "metadata": {},
   "outputs": [
    {
     "data": {
      "text/plain": [
       "10000"
      ]
     },
     "execution_count": 709,
     "metadata": {},
     "output_type": "execute_result"
    }
   ],
   "source": [
    "100**2"
   ]
  },
  {
   "cell_type": "code",
   "execution_count": 710,
   "id": "81f9a893",
   "metadata": {},
   "outputs": [
    {
     "data": {
      "text/plain": [
       "125000"
      ]
     },
     "execution_count": 710,
     "metadata": {},
     "output_type": "execute_result"
    }
   ],
   "source": [
    "50**3"
   ]
  },
  {
   "cell_type": "code",
   "execution_count": 711,
   "id": "6177583d",
   "metadata": {},
   "outputs": [],
   "source": [
    "CV_V = np.linspace(0.4,0.8,50)\n",
    "k_v = np.linspace(0.2,0.5,50)\n",
    "k_fec = np.linspace(1.2,8.4,50)\n"
   ]
  },
  {
   "cell_type": "code",
   "execution_count": 722,
   "id": "2e6d9d05",
   "metadata": {},
   "outputs": [],
   "source": [
    "CV_V3,k_v3,k_fec3 = np.meshgrid(CV_V,k_v,k_fec)\n",
    "X,Y,Z =  np.meshgrid(CV_V,k_v,k_fec)"
   ]
  },
  {
   "cell_type": "code",
   "execution_count": 723,
   "id": "2390bd56",
   "metadata": {},
   "outputs": [
    {
     "name": "stdout",
     "output_type": "stream",
     "text": [
      "        (CV_ventricles,)  (k_ventricles,)  (k_FEC,)  (CV_atria,)  (k_atria,)  \\\n",
      "0               0.556019         0.336764   2.42194     0.552269    0.215546   \n",
      "1               0.556019         0.336764   2.42194     0.552269    0.215546   \n",
      "2               0.556019         0.336764   2.42194     0.552269    0.215546   \n",
      "3               0.556019         0.336764   2.42194     0.552269    0.215546   \n",
      "4               0.556019         0.336764   2.42194     0.552269    0.215546   \n",
      "...                  ...              ...       ...          ...         ...   \n",
      "124995          0.556019         0.336764   2.42194     0.552269    0.215546   \n",
      "124996          0.556019         0.336764   2.42194     0.552269    0.215546   \n",
      "124997          0.556019         0.336764   2.42194     0.552269    0.215546   \n",
      "124998          0.556019         0.336764   2.42194     0.552269    0.215546   \n",
      "124999          0.556019         0.336764   2.42194     0.552269    0.215546   \n",
      "\n",
      "        (k_BB,)  \n",
      "0       2.00919  \n",
      "1       2.00919  \n",
      "2       2.00919  \n",
      "3       2.00919  \n",
      "4       2.00919  \n",
      "...         ...  \n",
      "124995  2.00919  \n",
      "124996  2.00919  \n",
      "124997  2.00919  \n",
      "124998  2.00919  \n",
      "124999  2.00919  \n",
      "\n",
      "[125000 rows x 6 columns]\n"
     ]
    }
   ],
   "source": [
    "newdf = pd.DataFrame(np.repeat(X_test.values, 125000, axis=0))#+np.random.multivariate_normal(mean=np.zeros(6), cov=0.01*np.identity(6), size=100)\n",
    "newdf.columns = X_test.columns\n",
    "print(newdf)"
   ]
  },
  {
   "cell_type": "code",
   "execution_count": 724,
   "id": "5c8dd8fe",
   "metadata": {},
   "outputs": [],
   "source": [
    "newdf.iloc[:,0] = X.reshape(125000)\n",
    "newdf.iloc[:,1] = Y.reshape(125000)\n",
    "newdf.iloc[:,2] = Z.reshape(125000)"
   ]
  },
  {
   "cell_type": "code",
   "execution_count": 725,
   "id": "8810d650",
   "metadata": {},
   "outputs": [
    {
     "data": {
      "text/html": [
       "<div>\n",
       "<style scoped>\n",
       "    .dataframe tbody tr th:only-of-type {\n",
       "        vertical-align: middle;\n",
       "    }\n",
       "\n",
       "    .dataframe tbody tr th {\n",
       "        vertical-align: top;\n",
       "    }\n",
       "\n",
       "    .dataframe thead th {\n",
       "        text-align: right;\n",
       "    }\n",
       "</style>\n",
       "<table border=\"1\" class=\"dataframe\">\n",
       "  <thead>\n",
       "    <tr style=\"text-align: right;\">\n",
       "      <th></th>\n",
       "      <th>(CV_ventricles,)</th>\n",
       "      <th>(k_ventricles,)</th>\n",
       "      <th>(k_FEC,)</th>\n",
       "    </tr>\n",
       "  </thead>\n",
       "  <tbody>\n",
       "    <tr>\n",
       "      <th>0</th>\n",
       "      <td>0.4</td>\n",
       "      <td>0.2</td>\n",
       "      <td>1.200000</td>\n",
       "    </tr>\n",
       "    <tr>\n",
       "      <th>1</th>\n",
       "      <td>0.4</td>\n",
       "      <td>0.2</td>\n",
       "      <td>1.346939</td>\n",
       "    </tr>\n",
       "    <tr>\n",
       "      <th>2</th>\n",
       "      <td>0.4</td>\n",
       "      <td>0.2</td>\n",
       "      <td>1.493878</td>\n",
       "    </tr>\n",
       "    <tr>\n",
       "      <th>3</th>\n",
       "      <td>0.4</td>\n",
       "      <td>0.2</td>\n",
       "      <td>1.640816</td>\n",
       "    </tr>\n",
       "    <tr>\n",
       "      <th>4</th>\n",
       "      <td>0.4</td>\n",
       "      <td>0.2</td>\n",
       "      <td>1.787755</td>\n",
       "    </tr>\n",
       "    <tr>\n",
       "      <th>...</th>\n",
       "      <td>...</td>\n",
       "      <td>...</td>\n",
       "      <td>...</td>\n",
       "    </tr>\n",
       "    <tr>\n",
       "      <th>124995</th>\n",
       "      <td>0.8</td>\n",
       "      <td>0.5</td>\n",
       "      <td>7.812245</td>\n",
       "    </tr>\n",
       "    <tr>\n",
       "      <th>124996</th>\n",
       "      <td>0.8</td>\n",
       "      <td>0.5</td>\n",
       "      <td>7.959184</td>\n",
       "    </tr>\n",
       "    <tr>\n",
       "      <th>124997</th>\n",
       "      <td>0.8</td>\n",
       "      <td>0.5</td>\n",
       "      <td>8.106122</td>\n",
       "    </tr>\n",
       "    <tr>\n",
       "      <th>124998</th>\n",
       "      <td>0.8</td>\n",
       "      <td>0.5</td>\n",
       "      <td>8.253061</td>\n",
       "    </tr>\n",
       "    <tr>\n",
       "      <th>124999</th>\n",
       "      <td>0.8</td>\n",
       "      <td>0.5</td>\n",
       "      <td>8.400000</td>\n",
       "    </tr>\n",
       "  </tbody>\n",
       "</table>\n",
       "<p>125000 rows × 3 columns</p>\n",
       "</div>"
      ],
      "text/plain": [
       "        (CV_ventricles,)  (k_ventricles,)  (k_FEC,)\n",
       "0                    0.4              0.2  1.200000\n",
       "1                    0.4              0.2  1.346939\n",
       "2                    0.4              0.2  1.493878\n",
       "3                    0.4              0.2  1.640816\n",
       "4                    0.4              0.2  1.787755\n",
       "...                  ...              ...       ...\n",
       "124995               0.8              0.5  7.812245\n",
       "124996               0.8              0.5  7.959184\n",
       "124997               0.8              0.5  8.106122\n",
       "124998               0.8              0.5  8.253061\n",
       "124999               0.8              0.5  8.400000\n",
       "\n",
       "[125000 rows x 3 columns]"
      ]
     },
     "execution_count": 725,
     "metadata": {},
     "output_type": "execute_result"
    }
   ],
   "source": [
    "newdf.iloc[:,0:3]"
   ]
  },
  {
   "cell_type": "code",
   "execution_count": 726,
   "id": "33d70a96",
   "metadata": {},
   "outputs": [
    {
     "data": {
      "text/plain": [
       "torch.return_types.max(\n",
       "values=tensor([221.9327, 351.9814], grad_fn=<MaxBackward0>),\n",
       "indices=tensor([2450,    0]))"
      ]
     },
     "execution_count": 726,
     "metadata": {},
     "output_type": "execute_result"
    }
   ],
   "source": [
    "emulator.predict(newdf.iloc[:,0:3]).max(axis=0)"
   ]
  },
  {
   "cell_type": "code",
   "execution_count": 727,
   "id": "edbcb4c8",
   "metadata": {},
   "outputs": [],
   "source": [
    "data = emulator.predict(newdf.iloc[:,0:3]).detach().numpy()[:,1].reshape(50,50,50)"
   ]
  },
  {
   "cell_type": "code",
   "execution_count": 728,
   "id": "346e02b3",
   "metadata": {},
   "outputs": [],
   "source": [
    "X2, Y2= np.meshgrid(CV_V,k_v)"
   ]
  },
  {
   "cell_type": "code",
   "execution_count": 730,
   "id": "69bceb79",
   "metadata": {
    "scrolled": false
   },
   "outputs": [
    {
     "data": {
      "image/png": "[encoded data removed]",
      "text/plain": [
       "<Figure size 640x480 with 2 Axes>"
      ]
     },
     "metadata": {},
     "output_type": "display_data"
    }
   ],
   "source": [
    "plt.contourf(X2,Y2, data[:,:,9],levels=100, cmap = 'jet')\n",
    "plt.colorbar()\n",
    "plt.show()"
   ]
  },
  {
   "cell_type": "code",
   "execution_count": 731,
   "id": "067536dc",
   "metadata": {},
   "outputs": [
    {
     "data": {
      "text/plain": [
       "array([[0.546105, 0.302767, 1.2811  , 0.849472, 0.314406, 3.58887 ],\n",
       "       [0.739425, 0.429136, 1.21197 , 0.370859, 0.24245 , 5.53377 ],\n",
       "       [0.696926, 0.240736, 1.27473 , 0.867213, 0.465109, 3.83914 ]])"
      ]
     },
     "execution_count": 731,
     "metadata": {},
     "output_type": "execute_result"
    }
   ],
   "source": [
    "inputOrig.values[inputOrig.values[:,2]<1.3]"
   ]
  },
  {
   "cell_type": "code",
   "execution_count": 732,
   "id": "367bc5c9",
   "metadata": {},
   "outputs": [
    {
     "data": {
      "text/plain": [
       "array([False, False, False, False, False, False, False, False, False,\n",
       "       False, False, False, False, False, False, False, False, False,\n",
       "       False, False, False, False, False, False, False, False, False,\n",
       "       False, False, False, False, False, False, False, False, False,\n",
       "       False, False, False, False, False, False, False, False, False,\n",
       "       False, False, False, False, False, False, False, False, False,\n",
       "       False, False, False, False, False, False, False, False, False,\n",
       "       False, False, False, False, False, False, False, False, False,\n",
       "       False, False, False, False, False, False, False, False, False,\n",
       "       False, False, False, False, False, False, False, False, False,\n",
       "       False, False, False, False, False, False, False, False, False,\n",
       "       False, False, False, False, False, False, False, False, False,\n",
       "       False, False, False,  True, False, False, False, False, False,\n",
       "       False, False, False, False, False, False, False, False, False,\n",
       "       False,  True, False, False, False, False, False, False, False,\n",
       "        True, False, False, False, False, False, False, False, False,\n",
       "       False, False, False, False, False, False, False, False, False,\n",
       "       False, False, False, False, False, False, False, False, False,\n",
       "       False, False, False, False, False, False, False, False, False,\n",
       "       False, False, False, False, False, False, False, False, False])"
      ]
     },
     "execution_count": 732,
     "metadata": {},
     "output_type": "execute_result"
    }
   ],
   "source": [
    "inputOrig.values[:,2]<1.3"
   ]
  },
  {
   "cell_type": "code",
   "execution_count": 733,
   "id": "5fcab0e7",
   "metadata": {},
   "outputs": [
    {
     "name": "stdout",
     "output_type": "stream",
     "text": [
      "        (A_TAT,)  (V_TAT,)\n",
      "0        232.374   161.202\n",
      "1        232.374   161.202\n",
      "2        232.374   161.202\n",
      "3        232.374   161.202\n",
      "4        232.374   161.202\n",
      "...          ...       ...\n",
      "124995   232.374   161.202\n",
      "124996   232.374   161.202\n",
      "124997   232.374   161.202\n",
      "124998   232.374   161.202\n",
      "124999   232.374   161.202\n",
      "\n",
      "[125000 rows x 2 columns]\n"
     ]
    }
   ],
   "source": [
    "y_rep = pd.DataFrame(np.repeat(y_test.values, 125000, axis=0))\n",
    "y_rep.columns = y_test.columns\n",
    "print(y_rep)"
   ]
  },
  {
   "cell_type": "code",
   "execution_count": 734,
   "id": "98b87e74",
   "metadata": {},
   "outputs": [],
   "source": [
    "likelihood = np.zeros(125000)\n",
    "for i in range(125000):\n",
    "    likelihood[i]=np.exp(mll(emulator.models[1]((torch.tensor(((newdf.iloc[i:i+1,0:3]-emulator.training_input_mean)/emulator.training_input_STD).values).float())),torch.tensor(((y_rep.iloc[i,1]-emulator.training_output_mean[1])/emulator.training_output_STD[1])).float()).detach().numpy())"
   ]
  },
  {
   "cell_type": "code",
   "execution_count": 735,
   "id": "22fa02c6",
   "metadata": {},
   "outputs": [],
   "source": [
    "kfec_prior =scipy.stats.norm.pdf(k_fec3,4,2)\n",
    "kv_prior = scipy.stats.norm.pdf(k_v3,0.4,2)\n",
    "CV_prior = scipy.stats.norm.pdf(CV_V3,0.6,2)"
   ]
  },
  {
   "cell_type": "code",
   "execution_count": null,
   "id": "ac2b6a22",
   "metadata": {},
   "outputs": [],
   "source": []
  },
  {
   "cell_type": "code",
   "execution_count": 736,
   "id": "fa37be1d",
   "metadata": {},
   "outputs": [],
   "source": [
    "CV_posterior = likelihood.reshape(50,50,50)*CV_prior / (np.sum(likelihood.reshape(50,50,50)*CV_prior)*(0.008*0.006*0.144))\n",
    "kv_posterior = likelihood.reshape(50,50,50)*kv_prior / (np.sum(likelihood.reshape(50,50,50)*kv_prior)*(0.008*0.006*0.144))\n",
    "kfec_posterior = likelihood.reshape(50,50,50)*kfec_prior / (np.sum(likelihood.reshape(50,50,50)*kfec_prior)*(0.008*0.006*0.144))"
   ]
  },
  {
   "cell_type": "code",
   "execution_count": 749,
   "id": "23486248",
   "metadata": {},
   "outputs": [],
   "source": [
    "CV, kv = np.meshgrid(CV_V,k_v)"
   ]
  },
  {
   "cell_type": "code",
   "execution_count": 764,
   "id": "85c6798e",
   "metadata": {},
   "outputs": [
    {
     "data": {
      "text/plain": [
       "2.3755102040816327"
      ]
     },
     "execution_count": 764,
     "metadata": {},
     "output_type": "execute_result"
    }
   ],
   "source": [
    "k_fec[8]"
   ]
  },
  {
   "cell_type": "code",
   "execution_count": 763,
   "id": "0375c961",
   "metadata": {
    "scrolled": false
   },
   "outputs": [
    {
     "data": {
      "image/png": "[encoded data removed]",
      "text/plain": [
       "<Figure size 640x480 with 2 Axes>"
      ]
     },
     "metadata": {},
     "output_type": "display_data"
    }
   ],
   "source": [
    "plt.contourf(CV,kv, CV_posterior[:,:,8],levels=100, cmap = 'jet')\n",
    "plt.ylabel('k_v')\n",
    "plt.xlabel('CV_v')\n",
    "plt.colorbar()\n",
    "plt.show()"
   ]
  },
  {
   "cell_type": "code",
   "execution_count": 765,
   "id": "1ed99bc9",
   "metadata": {},
   "outputs": [
    {
     "data": {
      "text/plain": [
       "array([1.2       , 1.34693878, 1.49387755, 1.64081633, 1.7877551 ,\n",
       "       1.93469388, 2.08163265, 2.22857143, 2.3755102 , 2.52244898,\n",
       "       2.66938776, 2.81632653, 2.96326531, 3.11020408, 3.25714286,\n",
       "       3.40408163, 3.55102041, 3.69795918, 3.84489796, 3.99183673,\n",
       "       4.13877551, 4.28571429, 4.43265306, 4.57959184, 4.72653061,\n",
       "       4.87346939, 5.02040816, 5.16734694, 5.31428571, 5.46122449,\n",
       "       5.60816327, 5.75510204, 5.90204082, 6.04897959, 6.19591837,\n",
       "       6.34285714, 6.48979592, 6.63673469, 6.78367347, 6.93061224,\n",
       "       7.07755102, 7.2244898 , 7.37142857, 7.51836735, 7.66530612,\n",
       "       7.8122449 , 7.95918367, 8.10612245, 8.25306122, 8.4       ])"
      ]
     },
     "execution_count": 765,
     "metadata": {},
     "output_type": "execute_result"
    }
   ],
   "source": [
    "k_fec"
   ]
  },
  {
   "cell_type": "code",
   "execution_count": 766,
   "id": "55a9ce0a",
   "metadata": {},
   "outputs": [
    {
     "data": {
      "text/html": [
       "<div>\n",
       "<style scoped>\n",
       "    .dataframe tbody tr th:only-of-type {\n",
       "        vertical-align: middle;\n",
       "    }\n",
       "\n",
       "    .dataframe tbody tr th {\n",
       "        vertical-align: top;\n",
       "    }\n",
       "\n",
       "    .dataframe thead th {\n",
       "        text-align: right;\n",
       "    }\n",
       "</style>\n",
       "<table border=\"1\" class=\"dataframe\">\n",
       "  <thead>\n",
       "    <tr style=\"text-align: right;\">\n",
       "      <th></th>\n",
       "      <th>(CV_ventricles,)</th>\n",
       "      <th>(k_ventricles,)</th>\n",
       "      <th>(k_FEC,)</th>\n",
       "      <th>(CV_atria,)</th>\n",
       "      <th>(k_atria,)</th>\n",
       "      <th>(k_BB,)</th>\n",
       "    </tr>\n",
       "  </thead>\n",
       "  <tbody>\n",
       "    <tr>\n",
       "      <th>26</th>\n",
       "      <td>0.556019</td>\n",
       "      <td>0.336764</td>\n",
       "      <td>2.42194</td>\n",
       "      <td>0.552269</td>\n",
       "      <td>0.215546</td>\n",
       "      <td>2.00919</td>\n",
       "    </tr>\n",
       "  </tbody>\n",
       "</table>\n",
       "</div>"
      ],
      "text/plain": [
       "    (CV_ventricles,)  (k_ventricles,)  (k_FEC,)  (CV_atria,)  (k_atria,)  \\\n",
       "26          0.556019         0.336764   2.42194     0.552269    0.215546   \n",
       "\n",
       "    (k_BB,)  \n",
       "26  2.00919  "
      ]
     },
     "execution_count": 766,
     "metadata": {},
     "output_type": "execute_result"
    }
   ],
   "source": [
    "X_test"
   ]
  },
  {
   "cell_type": "code",
   "execution_count": 767,
   "id": "0e84949d",
   "metadata": {},
   "outputs": [
    {
     "data": {
      "text/plain": [
       "48706"
      ]
     },
     "execution_count": 767,
     "metadata": {},
     "output_type": "execute_result"
    }
   ],
   "source": [
    "np.argmax(CV_posterior)"
   ]
  },
  {
   "cell_type": "code",
   "execution_count": 768,
   "id": "86f6efb5",
   "metadata": {},
   "outputs": [
    {
     "data": {
      "text/plain": [
       "(50, 50, 50)"
      ]
     },
     "execution_count": 768,
     "metadata": {},
     "output_type": "execute_result"
    }
   ],
   "source": [
    "CV_posterior.shape"
   ]
  },
  {
   "cell_type": "code",
   "execution_count": 772,
   "id": "c287329d",
   "metadata": {},
   "outputs": [
    {
     "data": {
      "text/plain": [
       "0.47346938775510206"
      ]
     },
     "execution_count": 772,
     "metadata": {},
     "output_type": "execute_result"
    }
   ],
   "source": [
    "CV_V3.reshape(125000)[np.argmax(likelihood)]"
   ]
  },
  {
   "cell_type": "code",
   "execution_count": 773,
   "id": "8123747f",
   "metadata": {},
   "outputs": [
    {
     "data": {
      "text/plain": [
       "4.1387755102040815"
      ]
     },
     "execution_count": 773,
     "metadata": {},
     "output_type": "execute_result"
    }
   ],
   "source": [
    "k_fec3.reshape(125000)[np.argmax(likelihood)]"
   ]
  },
  {
   "cell_type": "code",
   "execution_count": 774,
   "id": "fd933c87",
   "metadata": {
    "scrolled": true
   },
   "outputs": [
    {
     "data": {
      "text/plain": [
       "0.35918367346938773"
      ]
     },
     "execution_count": 774,
     "metadata": {},
     "output_type": "execute_result"
    }
   ],
   "source": [
    "k_v3.reshape(125000)[np.argmax(likelihood)]"
   ]
  },
  {
   "cell_type": "markdown",
   "id": "aff469cc",
   "metadata": {},
   "source": [
    "# Multiple Patients"
   ]
  },
  {
   "cell_type": "code",
   "execution_count": 30,
   "id": "5510dd15",
   "metadata": {},
   "outputs": [],
   "source": [
    "mode_weights = pd.read_csv(r'C:\\Users\\pmzcwl\\Documents\\GitHub\\Calibration\\modes_weights.csv',index_col=0,delim_whitespace=False,header=0)"
   ]
  },
  {
   "cell_type": "code",
   "execution_count": 31,
   "id": "b9eaf5d0",
   "metadata": {},
   "outputs": [],
   "source": [
    "mode_weights=mode_weights.drop(15,axis=0)"
   ]
  },
  {
   "cell_type": "code",
   "execution_count": 32,
   "id": "f32cfc99",
   "metadata": {},
   "outputs": [],
   "source": [
    "meshes=['01','02','03','04','05','06','07','08','09','10','11','12','13','14','16','17','18','19']"
   ]
  },
  {
   "cell_type": "code",
   "execution_count": 33,
   "id": "11dd3cf7",
   "metadata": {},
   "outputs": [],
   "source": [
    "x_labels=pd.read_csv(r'C:\\Users\\pmzcwl\\Documents\\GitHub\\Calibration\\shared_simulations\\EP_healthy\\input\\xlabels_EP.txt',delim_whitespace=True,header=None)\n",
    "x_labels=x_labels.values.flatten().tolist()+mode_weights.columns.tolist()"
   ]
  },
  {
   "cell_type": "code",
   "execution_count": 34,
   "id": "301c2c9c",
   "metadata": {},
   "outputs": [],
   "source": [
    "y_labels=pd.read_csv(r'C:\\Users\\pmzcwl\\Documents\\GitHub\\Calibration\\shared_simulations\\EP_healthy\\output\\ylabels.txt',delim_whitespace=True,header=None)"
   ]
  },
  {
   "cell_type": "code",
   "execution_count": 35,
   "id": "387d430d",
   "metadata": {},
   "outputs": [],
   "source": [
    "val=meshes[len(meshes)-1]\n",
    "inputData = pd.read_csv(\"/Users/pmzcwl/Documents/GitHub/Calibration/shared_simulations/EP_healthy/\"+val+\"/X_EP.txt\",index_col=None,delim_whitespace=True,header=None).values\n",
    "outputData_left_out = pd.read_csv(\"/Users/pmzcwl/Documents/GitHub/Calibration/shared_simulations/EP_healthy/\"+val+\"/Y.txt\",index_col=None,delim_whitespace=True,header=None).values\n",
    "modeweights = np.tile(mode_weights.iloc[len(meshes)-1,:].values, (inputData.shape[0],1))\n",
    "input_modes_left_out = np.concatenate((inputData,modeweights),axis=1)\n",
    "\n",
    "outputData_left_out =pd.DataFrame(outputData_left_out)\n",
    "input_modes_left_out = pd.DataFrame(input_modes_left_out)\n",
    "input_modes_left_out.columns=x_labels\n",
    "outputData_left_out.columns=y_labels"
   ]
  },
  {
   "cell_type": "code",
   "execution_count": 36,
   "id": "27ea10c0",
   "metadata": {},
   "outputs": [
    {
     "name": "stdout",
     "output_type": "stream",
     "text": [
      "01\n",
      "406.703\n",
      "02\n",
      "317.407\n",
      "03\n",
      "332.914\n",
      "04\n",
      "309.14\n",
      "05\n",
      "277.849\n",
      "06\n",
      "296.377\n",
      "07\n",
      "355.546\n",
      "08\n",
      "283.103\n",
      "09\n",
      "391.145\n",
      "10\n",
      "439.316\n",
      "11\n",
      "348.01\n",
      "12\n",
      "292.465\n",
      "13\n",
      "301.222\n",
      "14\n",
      "325.678\n",
      "16\n",
      "297.968\n",
      "17\n",
      "317.709\n",
      "18\n",
      "297.346\n"
     ]
    }
   ],
   "source": [
    "all_input = []\n",
    "all_output=[]\n",
    "for i in range(len(meshes)-1):\n",
    "    val=meshes[i]\n",
    "    \n",
    "    inputData = pd.read_csv(\"/Users/pmzcwl/Documents/GitHub/Calibration/shared_simulations/EP_healthy/\"+val+\"/X_EP.txt\",index_col=None,delim_whitespace=True,header=None).values\n",
    "    outputData = pd.read_csv(\"/Users/pmzcwl/Documents/GitHub/Calibration/shared_simulations/EP_healthy/\"+val+\"/Y.txt\",index_col=None,delim_whitespace=True,header=None).values\n",
    "    modeweights = np.tile(mode_weights.iloc[i,:].values, (inputData.shape[0],1))\n",
    "    input_modes = np.concatenate((inputData,modeweights),axis=1)\n",
    "    all_input.append(pd.DataFrame(input_modes))\n",
    "    all_output.append(pd.DataFrame(outputData))\n",
    "    print(val)\n",
    "    print(np.max(outputData))\n",
    "all_input=pd.concat(all_input)\n",
    "all_output=pd.concat(all_output)\n",
    "all_input.columns=x_labels\n",
    "all_output.columns=y_labels"
   ]
  },
  {
   "cell_type": "code",
   "execution_count": 37,
   "id": "f17043c6",
   "metadata": {},
   "outputs": [],
   "source": [
    "all_input=all_input.drop(labels=[\"CV_atria\",\"k_atria\", \"k_BB\"],axis=1)"
   ]
  },
  {
   "cell_type": "code",
   "execution_count": 38,
   "id": "9e6ed9ab",
   "metadata": {},
   "outputs": [
    {
     "data": {
      "text/html": [
       "<div>\n",
       "<style scoped>\n",
       "    .dataframe tbody tr th:only-of-type {\n",
       "        vertical-align: middle;\n",
       "    }\n",
       "\n",
       "    .dataframe tbody tr th {\n",
       "        vertical-align: top;\n",
       "    }\n",
       "\n",
       "    .dataframe thead th {\n",
       "        text-align: right;\n",
       "    }\n",
       "</style>\n",
       "<table border=\"1\" class=\"dataframe\">\n",
       "  <thead>\n",
       "    <tr style=\"text-align: right;\">\n",
       "      <th></th>\n",
       "      <th>CV_ventricles</th>\n",
       "      <th>k_ventricles</th>\n",
       "      <th>k_FEC</th>\n",
       "      <th>Mode1</th>\n",
       "      <th>Mode2</th>\n",
       "      <th>Mode3</th>\n",
       "      <th>Mode4</th>\n",
       "      <th>Mode5</th>\n",
       "      <th>Mode6</th>\n",
       "      <th>Mode7</th>\n",
       "      <th>...</th>\n",
       "      <th>Mode9</th>\n",
       "      <th>Mode10</th>\n",
       "      <th>Mode11</th>\n",
       "      <th>Mode12</th>\n",
       "      <th>Mode13</th>\n",
       "      <th>Mode14</th>\n",
       "      <th>Mode15</th>\n",
       "      <th>Mode16</th>\n",
       "      <th>Mode17</th>\n",
       "      <th>Mode18</th>\n",
       "    </tr>\n",
       "  </thead>\n",
       "  <tbody>\n",
       "    <tr>\n",
       "      <th>0</th>\n",
       "      <td>0.487005</td>\n",
       "      <td>0.321104</td>\n",
       "      <td>6.56834</td>\n",
       "      <td>-26.526282</td>\n",
       "      <td>-21.987510</td>\n",
       "      <td>45.298672</td>\n",
       "      <td>6.964297</td>\n",
       "      <td>1.264487</td>\n",
       "      <td>-14.710058</td>\n",
       "      <td>2.926209</td>\n",
       "      <td>...</td>\n",
       "      <td>23.694737</td>\n",
       "      <td>3.505879</td>\n",
       "      <td>0.634389</td>\n",
       "      <td>5.188583</td>\n",
       "      <td>0.952835</td>\n",
       "      <td>-1.595273</td>\n",
       "      <td>1.443640</td>\n",
       "      <td>-0.904097</td>\n",
       "      <td>-1.312873</td>\n",
       "      <td>-0.395244</td>\n",
       "    </tr>\n",
       "    <tr>\n",
       "      <th>1</th>\n",
       "      <td>0.649337</td>\n",
       "      <td>0.345380</td>\n",
       "      <td>4.40605</td>\n",
       "      <td>-26.526282</td>\n",
       "      <td>-21.987510</td>\n",
       "      <td>45.298672</td>\n",
       "      <td>6.964297</td>\n",
       "      <td>1.264487</td>\n",
       "      <td>-14.710058</td>\n",
       "      <td>2.926209</td>\n",
       "      <td>...</td>\n",
       "      <td>23.694737</td>\n",
       "      <td>3.505879</td>\n",
       "      <td>0.634389</td>\n",
       "      <td>5.188583</td>\n",
       "      <td>0.952835</td>\n",
       "      <td>-1.595273</td>\n",
       "      <td>1.443640</td>\n",
       "      <td>-0.904097</td>\n",
       "      <td>-1.312873</td>\n",
       "      <td>-0.395244</td>\n",
       "    </tr>\n",
       "    <tr>\n",
       "      <th>2</th>\n",
       "      <td>0.666146</td>\n",
       "      <td>0.431970</td>\n",
       "      <td>7.48917</td>\n",
       "      <td>-26.526282</td>\n",
       "      <td>-21.987510</td>\n",
       "      <td>45.298672</td>\n",
       "      <td>6.964297</td>\n",
       "      <td>1.264487</td>\n",
       "      <td>-14.710058</td>\n",
       "      <td>2.926209</td>\n",
       "      <td>...</td>\n",
       "      <td>23.694737</td>\n",
       "      <td>3.505879</td>\n",
       "      <td>0.634389</td>\n",
       "      <td>5.188583</td>\n",
       "      <td>0.952835</td>\n",
       "      <td>-1.595273</td>\n",
       "      <td>1.443640</td>\n",
       "      <td>-0.904097</td>\n",
       "      <td>-1.312873</td>\n",
       "      <td>-0.395244</td>\n",
       "    </tr>\n",
       "    <tr>\n",
       "      <th>3</th>\n",
       "      <td>0.564330</td>\n",
       "      <td>0.319989</td>\n",
       "      <td>4.09474</td>\n",
       "      <td>-26.526282</td>\n",
       "      <td>-21.987510</td>\n",
       "      <td>45.298672</td>\n",
       "      <td>6.964297</td>\n",
       "      <td>1.264487</td>\n",
       "      <td>-14.710058</td>\n",
       "      <td>2.926209</td>\n",
       "      <td>...</td>\n",
       "      <td>23.694737</td>\n",
       "      <td>3.505879</td>\n",
       "      <td>0.634389</td>\n",
       "      <td>5.188583</td>\n",
       "      <td>0.952835</td>\n",
       "      <td>-1.595273</td>\n",
       "      <td>1.443640</td>\n",
       "      <td>-0.904097</td>\n",
       "      <td>-1.312873</td>\n",
       "      <td>-0.395244</td>\n",
       "    </tr>\n",
       "    <tr>\n",
       "      <th>4</th>\n",
       "      <td>0.519419</td>\n",
       "      <td>0.363704</td>\n",
       "      <td>6.37449</td>\n",
       "      <td>-26.526282</td>\n",
       "      <td>-21.987510</td>\n",
       "      <td>45.298672</td>\n",
       "      <td>6.964297</td>\n",
       "      <td>1.264487</td>\n",
       "      <td>-14.710058</td>\n",
       "      <td>2.926209</td>\n",
       "      <td>...</td>\n",
       "      <td>23.694737</td>\n",
       "      <td>3.505879</td>\n",
       "      <td>0.634389</td>\n",
       "      <td>5.188583</td>\n",
       "      <td>0.952835</td>\n",
       "      <td>-1.595273</td>\n",
       "      <td>1.443640</td>\n",
       "      <td>-0.904097</td>\n",
       "      <td>-1.312873</td>\n",
       "      <td>-0.395244</td>\n",
       "    </tr>\n",
       "    <tr>\n",
       "      <th>...</th>\n",
       "      <td>...</td>\n",
       "      <td>...</td>\n",
       "      <td>...</td>\n",
       "      <td>...</td>\n",
       "      <td>...</td>\n",
       "      <td>...</td>\n",
       "      <td>...</td>\n",
       "      <td>...</td>\n",
       "      <td>...</td>\n",
       "      <td>...</td>\n",
       "      <td>...</td>\n",
       "      <td>...</td>\n",
       "      <td>...</td>\n",
       "      <td>...</td>\n",
       "      <td>...</td>\n",
       "      <td>...</td>\n",
       "      <td>...</td>\n",
       "      <td>...</td>\n",
       "      <td>...</td>\n",
       "      <td>...</td>\n",
       "      <td>...</td>\n",
       "    </tr>\n",
       "    <tr>\n",
       "      <th>175</th>\n",
       "      <td>0.450695</td>\n",
       "      <td>0.376123</td>\n",
       "      <td>4.74960</td>\n",
       "      <td>-23.204781</td>\n",
       "      <td>-27.182479</td>\n",
       "      <td>-35.870687</td>\n",
       "      <td>7.551222</td>\n",
       "      <td>3.960247</td>\n",
       "      <td>6.445815</td>\n",
       "      <td>12.219776</td>\n",
       "      <td>...</td>\n",
       "      <td>6.663375</td>\n",
       "      <td>9.520599</td>\n",
       "      <td>-1.242942</td>\n",
       "      <td>-5.988096</td>\n",
       "      <td>-3.404571</td>\n",
       "      <td>3.616827</td>\n",
       "      <td>-4.258405</td>\n",
       "      <td>-4.047239</td>\n",
       "      <td>2.077171</td>\n",
       "      <td>10.044157</td>\n",
       "    </tr>\n",
       "    <tr>\n",
       "      <th>176</th>\n",
       "      <td>0.532560</td>\n",
       "      <td>0.218931</td>\n",
       "      <td>3.25166</td>\n",
       "      <td>-23.204781</td>\n",
       "      <td>-27.182479</td>\n",
       "      <td>-35.870687</td>\n",
       "      <td>7.551222</td>\n",
       "      <td>3.960247</td>\n",
       "      <td>6.445815</td>\n",
       "      <td>12.219776</td>\n",
       "      <td>...</td>\n",
       "      <td>6.663375</td>\n",
       "      <td>9.520599</td>\n",
       "      <td>-1.242942</td>\n",
       "      <td>-5.988096</td>\n",
       "      <td>-3.404571</td>\n",
       "      <td>3.616827</td>\n",
       "      <td>-4.258405</td>\n",
       "      <td>-4.047239</td>\n",
       "      <td>2.077171</td>\n",
       "      <td>10.044157</td>\n",
       "    </tr>\n",
       "    <tr>\n",
       "      <th>177</th>\n",
       "      <td>0.529807</td>\n",
       "      <td>0.316814</td>\n",
       "      <td>3.79157</td>\n",
       "      <td>-23.204781</td>\n",
       "      <td>-27.182479</td>\n",
       "      <td>-35.870687</td>\n",
       "      <td>7.551222</td>\n",
       "      <td>3.960247</td>\n",
       "      <td>6.445815</td>\n",
       "      <td>12.219776</td>\n",
       "      <td>...</td>\n",
       "      <td>6.663375</td>\n",
       "      <td>9.520599</td>\n",
       "      <td>-1.242942</td>\n",
       "      <td>-5.988096</td>\n",
       "      <td>-3.404571</td>\n",
       "      <td>3.616827</td>\n",
       "      <td>-4.258405</td>\n",
       "      <td>-4.047239</td>\n",
       "      <td>2.077171</td>\n",
       "      <td>10.044157</td>\n",
       "    </tr>\n",
       "    <tr>\n",
       "      <th>178</th>\n",
       "      <td>0.536693</td>\n",
       "      <td>0.346377</td>\n",
       "      <td>4.10958</td>\n",
       "      <td>-23.204781</td>\n",
       "      <td>-27.182479</td>\n",
       "      <td>-35.870687</td>\n",
       "      <td>7.551222</td>\n",
       "      <td>3.960247</td>\n",
       "      <td>6.445815</td>\n",
       "      <td>12.219776</td>\n",
       "      <td>...</td>\n",
       "      <td>6.663375</td>\n",
       "      <td>9.520599</td>\n",
       "      <td>-1.242942</td>\n",
       "      <td>-5.988096</td>\n",
       "      <td>-3.404571</td>\n",
       "      <td>3.616827</td>\n",
       "      <td>-4.258405</td>\n",
       "      <td>-4.047239</td>\n",
       "      <td>2.077171</td>\n",
       "      <td>10.044157</td>\n",
       "    </tr>\n",
       "    <tr>\n",
       "      <th>179</th>\n",
       "      <td>0.665600</td>\n",
       "      <td>0.236143</td>\n",
       "      <td>1.48702</td>\n",
       "      <td>-23.204781</td>\n",
       "      <td>-27.182479</td>\n",
       "      <td>-35.870687</td>\n",
       "      <td>7.551222</td>\n",
       "      <td>3.960247</td>\n",
       "      <td>6.445815</td>\n",
       "      <td>12.219776</td>\n",
       "      <td>...</td>\n",
       "      <td>6.663375</td>\n",
       "      <td>9.520599</td>\n",
       "      <td>-1.242942</td>\n",
       "      <td>-5.988096</td>\n",
       "      <td>-3.404571</td>\n",
       "      <td>3.616827</td>\n",
       "      <td>-4.258405</td>\n",
       "      <td>-4.047239</td>\n",
       "      <td>2.077171</td>\n",
       "      <td>10.044157</td>\n",
       "    </tr>\n",
       "  </tbody>\n",
       "</table>\n",
       "<p>3060 rows × 21 columns</p>\n",
       "</div>"
      ],
      "text/plain": [
       "     CV_ventricles  k_ventricles    k_FEC      Mode1      Mode2      Mode3  \\\n",
       "0         0.487005      0.321104  6.56834 -26.526282 -21.987510  45.298672   \n",
       "1         0.649337      0.345380  4.40605 -26.526282 -21.987510  45.298672   \n",
       "2         0.666146      0.431970  7.48917 -26.526282 -21.987510  45.298672   \n",
       "3         0.564330      0.319989  4.09474 -26.526282 -21.987510  45.298672   \n",
       "4         0.519419      0.363704  6.37449 -26.526282 -21.987510  45.298672   \n",
       "..             ...           ...      ...        ...        ...        ...   \n",
       "175       0.450695      0.376123  4.74960 -23.204781 -27.182479 -35.870687   \n",
       "176       0.532560      0.218931  3.25166 -23.204781 -27.182479 -35.870687   \n",
       "177       0.529807      0.316814  3.79157 -23.204781 -27.182479 -35.870687   \n",
       "178       0.536693      0.346377  4.10958 -23.204781 -27.182479 -35.870687   \n",
       "179       0.665600      0.236143  1.48702 -23.204781 -27.182479 -35.870687   \n",
       "\n",
       "        Mode4     Mode5      Mode6      Mode7  ...      Mode9    Mode10  \\\n",
       "0    6.964297  1.264487 -14.710058   2.926209  ...  23.694737  3.505879   \n",
       "1    6.964297  1.264487 -14.710058   2.926209  ...  23.694737  3.505879   \n",
       "2    6.964297  1.264487 -14.710058   2.926209  ...  23.694737  3.505879   \n",
       "3    6.964297  1.264487 -14.710058   2.926209  ...  23.694737  3.505879   \n",
       "4    6.964297  1.264487 -14.710058   2.926209  ...  23.694737  3.505879   \n",
       "..        ...       ...        ...        ...  ...        ...       ...   \n",
       "175  7.551222  3.960247   6.445815  12.219776  ...   6.663375  9.520599   \n",
       "176  7.551222  3.960247   6.445815  12.219776  ...   6.663375  9.520599   \n",
       "177  7.551222  3.960247   6.445815  12.219776  ...   6.663375  9.520599   \n",
       "178  7.551222  3.960247   6.445815  12.219776  ...   6.663375  9.520599   \n",
       "179  7.551222  3.960247   6.445815  12.219776  ...   6.663375  9.520599   \n",
       "\n",
       "       Mode11    Mode12    Mode13    Mode14    Mode15    Mode16    Mode17  \\\n",
       "0    0.634389  5.188583  0.952835 -1.595273  1.443640 -0.904097 -1.312873   \n",
       "1    0.634389  5.188583  0.952835 -1.595273  1.443640 -0.904097 -1.312873   \n",
       "2    0.634389  5.188583  0.952835 -1.595273  1.443640 -0.904097 -1.312873   \n",
       "3    0.634389  5.188583  0.952835 -1.595273  1.443640 -0.904097 -1.312873   \n",
       "4    0.634389  5.188583  0.952835 -1.595273  1.443640 -0.904097 -1.312873   \n",
       "..        ...       ...       ...       ...       ...       ...       ...   \n",
       "175 -1.242942 -5.988096 -3.404571  3.616827 -4.258405 -4.047239  2.077171   \n",
       "176 -1.242942 -5.988096 -3.404571  3.616827 -4.258405 -4.047239  2.077171   \n",
       "177 -1.242942 -5.988096 -3.404571  3.616827 -4.258405 -4.047239  2.077171   \n",
       "178 -1.242942 -5.988096 -3.404571  3.616827 -4.258405 -4.047239  2.077171   \n",
       "179 -1.242942 -5.988096 -3.404571  3.616827 -4.258405 -4.047239  2.077171   \n",
       "\n",
       "        Mode18  \n",
       "0    -0.395244  \n",
       "1    -0.395244  \n",
       "2    -0.395244  \n",
       "3    -0.395244  \n",
       "4    -0.395244  \n",
       "..         ...  \n",
       "175  10.044157  \n",
       "176  10.044157  \n",
       "177  10.044157  \n",
       "178  10.044157  \n",
       "179  10.044157  \n",
       "\n",
       "[3060 rows x 21 columns]"
      ]
     },
     "execution_count": 38,
     "metadata": {},
     "output_type": "execute_result"
    }
   ],
   "source": [
    "all_input"
   ]
  },
  {
   "cell_type": "code",
   "execution_count": 39,
   "id": "a7effdb9",
   "metadata": {},
   "outputs": [],
   "source": [
    "# split original dataset in training, validation and testing sets\n",
    "X=all_input.iloc[:,0:12]\n",
    "y=all_output\n",
    "\n",
    "X_train, X_test, y_train, y_test = train_test_split(\n",
    "    X,\n",
    "    y,\n",
    "    test_size=0.2,\n",
    "    random_state=seed\n",
    ")"
   ]
  },
  {
   "cell_type": "code",
   "execution_count": 40,
   "id": "980ab6d0",
   "metadata": {},
   "outputs": [
    {
     "name": "stdout",
     "output_type": "stream",
     "text": [
      "0\n"
     ]
    },
    {
     "ename": "KeyboardInterrupt",
     "evalue": "",
     "output_type": "error",
     "traceback": [
      "\u001b[1;31m---------------------------------------------------------------------------\u001b[0m",
      "\u001b[1;31mKeyboardInterrupt\u001b[0m                         Traceback (most recent call last)",
      "Cell \u001b[1;32mIn[40], line 1\u001b[0m\n\u001b[1;32m----> 1\u001b[0m emulator \u001b[38;5;241m=\u001b[39m GPE\u001b[38;5;241m.\u001b[39mensemble(X_train,y_train,mean_func\u001b[38;5;241m=\u001b[39m\u001b[38;5;124m\"\u001b[39m\u001b[38;5;124mlinear\u001b[39m\u001b[38;5;124m\"\u001b[39m,training_iter\u001b[38;5;241m=\u001b[39m\u001b[38;5;241m500\u001b[39m)\n",
      "File \u001b[1;32m~\\Documents\\GitHub\\Calibration\\GPE_ensemble.py:18\u001b[0m, in \u001b[0;36mensemble.__init__\u001b[1;34m(self, X_train, y_train, mean_func, training_iter)\u001b[0m\n\u001b[0;32m     16\u001b[0m \u001b[38;5;28mself\u001b[39m\u001b[38;5;241m.\u001b[39mtraining_output_normalised, \u001b[38;5;28mself\u001b[39m\u001b[38;5;241m.\u001b[39mtraining_output_mean, \u001b[38;5;28mself\u001b[39m\u001b[38;5;241m.\u001b[39mtraining_output_STD \u001b[38;5;241m=\u001b[39m \u001b[38;5;28mself\u001b[39m\u001b[38;5;241m.\u001b[39mnormalise(y_train)\n\u001b[0;32m     17\u001b[0m \u001b[38;5;28mself\u001b[39m\u001b[38;5;241m.\u001b[39mtraining_iter\u001b[38;5;241m=\u001b[39mtraining_iter\n\u001b[1;32m---> 18\u001b[0m \u001b[38;5;28mself\u001b[39m\u001b[38;5;241m.\u001b[39mmodels, \u001b[38;5;28mself\u001b[39m\u001b[38;5;241m.\u001b[39mlikelihoods \u001b[38;5;241m=\u001b[39m \u001b[38;5;28mself\u001b[39m\u001b[38;5;241m.\u001b[39mcreate_ensemble()\n",
      "File \u001b[1;32m~\\Documents\\GitHub\\Calibration\\GPE_ensemble.py:75\u001b[0m, in \u001b[0;36mensemble.create_ensemble\u001b[1;34m(self)\u001b[0m\n\u001b[0;32m     73\u001b[0m \u001b[38;5;66;03m# Calc loss and backprop gradients\u001b[39;00m\n\u001b[0;32m     74\u001b[0m loss \u001b[38;5;241m=\u001b[39m \u001b[38;5;241m-\u001b[39mmll(output, Y)\n\u001b[1;32m---> 75\u001b[0m loss\u001b[38;5;241m.\u001b[39mbackward()\n\u001b[0;32m     76\u001b[0m \u001b[38;5;66;03m#print('Iter %d/%d - Loss: %.3f   lengthscale: %.3f   noise: %.3f' % (\u001b[39;00m\n\u001b[0;32m     77\u001b[0m \u001b[38;5;66;03m#    j + 1, training_iter, loss.item(),\u001b[39;00m\n\u001b[0;32m     78\u001b[0m \u001b[38;5;66;03m#    models[i].covar_module.base_kernel.lengthscale.item(),\u001b[39;00m\n\u001b[0;32m     79\u001b[0m \u001b[38;5;66;03m#    models[i].likelihood.noise.item()\u001b[39;00m\n\u001b[0;32m     80\u001b[0m \u001b[38;5;66;03m#))\u001b[39;00m\n\u001b[0;32m     81\u001b[0m optimizer\u001b[38;5;241m.\u001b[39mstep()\n",
      "File \u001b[1;32m~\\AppData\\Local\\anaconda3\\Lib\\site-packages\\torch\\_tensor.py:492\u001b[0m, in \u001b[0;36mTensor.backward\u001b[1;34m(self, gradient, retain_graph, create_graph, inputs)\u001b[0m\n\u001b[0;32m    482\u001b[0m \u001b[38;5;28;01mif\u001b[39;00m has_torch_function_unary(\u001b[38;5;28mself\u001b[39m):\n\u001b[0;32m    483\u001b[0m     \u001b[38;5;28;01mreturn\u001b[39;00m handle_torch_function(\n\u001b[0;32m    484\u001b[0m         Tensor\u001b[38;5;241m.\u001b[39mbackward,\n\u001b[0;32m    485\u001b[0m         (\u001b[38;5;28mself\u001b[39m,),\n\u001b[1;32m   (...)\u001b[0m\n\u001b[0;32m    490\u001b[0m         inputs\u001b[38;5;241m=\u001b[39minputs,\n\u001b[0;32m    491\u001b[0m     )\n\u001b[1;32m--> 492\u001b[0m torch\u001b[38;5;241m.\u001b[39mautograd\u001b[38;5;241m.\u001b[39mbackward(\n\u001b[0;32m    493\u001b[0m     \u001b[38;5;28mself\u001b[39m, gradient, retain_graph, create_graph, inputs\u001b[38;5;241m=\u001b[39minputs\n\u001b[0;32m    494\u001b[0m )\n",
      "File \u001b[1;32m~\\AppData\\Local\\anaconda3\\Lib\\site-packages\\torch\\autograd\\__init__.py:251\u001b[0m, in \u001b[0;36mbackward\u001b[1;34m(tensors, grad_tensors, retain_graph, create_graph, grad_variables, inputs)\u001b[0m\n\u001b[0;32m    246\u001b[0m     retain_graph \u001b[38;5;241m=\u001b[39m create_graph\n\u001b[0;32m    248\u001b[0m \u001b[38;5;66;03m# The reason we repeat the same comment below is that\u001b[39;00m\n\u001b[0;32m    249\u001b[0m \u001b[38;5;66;03m# some Python versions print out the first line of a multi-line function\u001b[39;00m\n\u001b[0;32m    250\u001b[0m \u001b[38;5;66;03m# calls in the traceback and some print out the last line\u001b[39;00m\n\u001b[1;32m--> 251\u001b[0m Variable\u001b[38;5;241m.\u001b[39m_execution_engine\u001b[38;5;241m.\u001b[39mrun_backward(  \u001b[38;5;66;03m# Calls into the C++ engine to run the backward pass\u001b[39;00m\n\u001b[0;32m    252\u001b[0m     tensors,\n\u001b[0;32m    253\u001b[0m     grad_tensors_,\n\u001b[0;32m    254\u001b[0m     retain_graph,\n\u001b[0;32m    255\u001b[0m     create_graph,\n\u001b[0;32m    256\u001b[0m     inputs,\n\u001b[0;32m    257\u001b[0m     allow_unreachable\u001b[38;5;241m=\u001b[39m\u001b[38;5;28;01mTrue\u001b[39;00m,\n\u001b[0;32m    258\u001b[0m     accumulate_grad\u001b[38;5;241m=\u001b[39m\u001b[38;5;28;01mTrue\u001b[39;00m,\n\u001b[0;32m    259\u001b[0m )\n",
      "\u001b[1;31mKeyboardInterrupt\u001b[0m: "
     ]
    }
   ],
   "source": [
    "emulator = GPE.ensemble(X_train,y_train,mean_func=\"linear\",training_iter=500)"
   ]
  },
  {
   "cell_type": "code",
   "execution_count": null,
   "id": "4c87432a",
   "metadata": {},
   "outputs": [],
   "source": []
  },
  {
   "cell_type": "code",
   "execution_count": null,
   "id": "3d307f98",
   "metadata": {},
   "outputs": [],
   "source": []
  },
  {
   "cell_type": "code",
   "execution_count": null,
   "id": "3ac6d4cb",
   "metadata": {},
   "outputs": [],
   "source": []
  },
  {
   "cell_type": "code",
   "execution_count": null,
   "id": "49a20e0e",
   "metadata": {},
   "outputs": [],
   "source": []
  },
  {
   "cell_type": "code",
   "execution_count": null,
   "id": "197b12e5",
   "metadata": {
    "scrolled": true
   },
   "outputs": [],
   "source": [
    "X_test_split = X_test.iloc[10].to_frame().T\n",
    "y_test_split = y_test.iloc[10].to_frame().T"
   ]
  },
  {
   "cell_type": "code",
   "execution_count": null,
   "id": "e7c49039",
   "metadata": {},
   "outputs": [],
   "source": [
    "X_test_left_out = input_modes_left_out.iloc[10,0:15].drop(labels=[\"CV_atria\",\"k_atria\", \"k_BB\"]).to_frame().T\n",
    "y_test_left_out = outputData_left_out.iloc[10].to_frame().T"
   ]
  },
  {
   "cell_type": "code",
   "execution_count": null,
   "id": "969e4127",
   "metadata": {
    "scrolled": true
   },
   "outputs": [],
   "source": [
    "X_test_split"
   ]
  },
  {
   "cell_type": "code",
   "execution_count": null,
   "id": "18ad619e",
   "metadata": {},
   "outputs": [],
   "source": [
    "y_test_split"
   ]
  },
  {
   "cell_type": "code",
   "execution_count": null,
   "id": "89791a90",
   "metadata": {
    "scrolled": true
   },
   "outputs": [],
   "source": [
    "X_test_left_out"
   ]
  },
  {
   "cell_type": "code",
   "execution_count": null,
   "id": "af329cac",
   "metadata": {},
   "outputs": [],
   "source": [
    "y_test_left_out"
   ]
  },
  {
   "cell_type": "code",
   "execution_count": null,
   "id": "61b82004",
   "metadata": {},
   "outputs": [],
   "source": [
    "Nx = 20"
   ]
  },
  {
   "cell_type": "code",
   "execution_count": null,
   "id": "4a5f5ac0",
   "metadata": {},
   "outputs": [],
   "source": [
    "CV_V = np.linspace(0.4,0.8,Nx)\n",
    "k_v = np.linspace(0.2,0.5,Nx)\n",
    "k_fec = np.linspace(1.2,8.4,Nx)"
   ]
  },
  {
   "cell_type": "code",
   "execution_count": null,
   "id": "7b8c83a9",
   "metadata": {},
   "outputs": [],
   "source": [
    "CV_V3,k_v3,k_fec3 = np.meshgrid(CV_V,k_v,k_fec)"
   ]
  },
  {
   "cell_type": "code",
   "execution_count": null,
   "id": "ecb24fe8",
   "metadata": {},
   "outputs": [],
   "source": [
    "newdf = pd.DataFrame(np.repeat(X_test_left_out.values, Nx**3, axis=0))#+np.random.multivariate_normal(mean=np.zeros(6), cov=0.01*np.identity(6), size=100)\n",
    "newdf.columns = X_test_left_out.columns\n",
    "#print(newdf)"
   ]
  },
  {
   "cell_type": "code",
   "execution_count": null,
   "id": "2f15749f",
   "metadata": {},
   "outputs": [],
   "source": [
    "newdf.iloc[:,0] = CV_V3.reshape(Nx**3)\n",
    "newdf.iloc[:,1] = k_v3.reshape(Nx**3)\n",
    "newdf.iloc[:,2] = k_fec3.reshape(Nx**3)"
   ]
  },
  {
   "cell_type": "code",
   "execution_count": null,
   "id": "23ef4029",
   "metadata": {},
   "outputs": [],
   "source": [
    "data = emulator.predict(newdf).detach().numpy()[:,1].reshape(Nx,Nx,Nx)"
   ]
  },
  {
   "cell_type": "code",
   "execution_count": null,
   "id": "fa667021",
   "metadata": {},
   "outputs": [],
   "source": [
    "y_rep = pd.DataFrame(np.repeat(y_test_left_out.values, Nx**3, axis=0))\n",
    "y_rep.columns = y_test.columns\n",
    "print(y_rep)"
   ]
  },
  {
   "cell_type": "code",
   "execution_count": null,
   "id": "fa3fab80",
   "metadata": {
    "scrolled": true
   },
   "outputs": [],
   "source": [
    "t1_start = process_time() \n",
    "likelihood = np.zeros(Nx**3)\n",
    "for i in range(Nx**3):\n",
    "    likelihood[i]=np.exp(mll(emulator.models[1]((torch.tensor(((newdf.iloc[i:i+1]-emulator.training_input_mean)/emulator.training_input_STD).values).float())),torch.tensor(((y_rep.iloc[i,1]-emulator.training_output_mean[1])/emulator.training_output_STD[1])).float()).detach().numpy())\n",
    "    print(i)\n",
    "    \n",
    "t1_stop = process_time() \n",
    "   \n",
    "print(\"Elapsed time:\", t1_stop, t1_start)  \n",
    "   \n",
    "print(\"Elapsed time during the whole program in seconds:\", \n",
    "                                         t1_stop-t1_start)     "
   ]
  },
  {
   "cell_type": "code",
   "execution_count": null,
   "id": "b4d5a37f",
   "metadata": {},
   "outputs": [],
   "source": [
    "kfec_prior =scipy.stats.norm.pdf(k_fec3,4,2)\n",
    "kv_prior = scipy.stats.norm.pdf(k_v3,0.4,2)\n",
    "CV_prior = scipy.stats.norm.pdf(CV_V3,0.6,2)"
   ]
  },
  {
   "cell_type": "code",
   "execution_count": null,
   "id": "19672b8a",
   "metadata": {},
   "outputs": [],
   "source": [
    "dCV = (np.max(CV_V)-np.min(CV_V))/Nx\n",
    "dkv = (np.max(k_v)-np.min(k_v))/Nx\n",
    "dkfec = (np.max(k_fec)-np.min(k_fec))/Nx"
   ]
  },
  {
   "cell_type": "code",
   "execution_count": null,
   "id": "bcc9c342",
   "metadata": {},
   "outputs": [],
   "source": [
    "CV_posterior = likelihood.reshape(Nx,Nx,Nx)*CV_prior / (np.sum(likelihood.reshape(Nx,Nx,Nx)*CV_prior)*(dCV*dkv*dkfec))\n",
    "kv_posterior = likelihood.reshape(Nx,Nx,Nx)*kv_prior / (np.sum(likelihood.reshape(Nx,Nx,Nx)*kv_prior)*(dCV*dkv*dkfec))\n",
    "kfec_posterior = likelihood.reshape(Nx,Nx,Nx)*kfec_prior / (np.sum(likelihood.reshape(Nx,Nx,Nx)*kfec_prior)*(dCV*dkv*dkfec))"
   ]
  },
  {
   "cell_type": "code",
   "execution_count": null,
   "id": "59f2c040",
   "metadata": {},
   "outputs": [],
   "source": [
    "CV, kv = np.meshgrid(CV_V,k_v)"
   ]
  },
  {
   "cell_type": "code",
   "execution_count": null,
   "id": "7f024120",
   "metadata": {},
   "outputs": [],
   "source": [
    "k_fec[9]"
   ]
  },
  {
   "cell_type": "code",
   "execution_count": null,
   "id": "7b9ff7a5",
   "metadata": {
    "scrolled": true
   },
   "outputs": [],
   "source": [
    "plt.contourf(CV,kv, CV_posterior[:,:,9],levels=100, cmap = 'jet')\n",
    "plt.colorbar()\n",
    "plt.show()"
   ]
  },
  {
   "cell_type": "code",
   "execution_count": null,
   "id": "911f0ce6",
   "metadata": {},
   "outputs": [],
   "source": [
    "kv.shape"
   ]
  },
  {
   "cell_type": "code",
   "execution_count": null,
   "id": "35f6bbc8",
   "metadata": {},
   "outputs": [],
   "source": [
    "CV_V3.reshape(Nx**3)[np.argmax(likelihood)]"
   ]
  },
  {
   "cell_type": "code",
   "execution_count": null,
   "id": "354375cb",
   "metadata": {},
   "outputs": [],
   "source": [
    "k_fec3.reshape(Nx**3)[np.argmax(likelihood)]"
   ]
  },
  {
   "cell_type": "code",
   "execution_count": null,
   "id": "9f096685",
   "metadata": {
    "scrolled": true
   },
   "outputs": [],
   "source": [
    "k_v3.reshape(Nx**3)[np.argmax(likelihood)]"
   ]
  },
  {
   "cell_type": "code",
   "execution_count": null,
   "id": "cec6b395",
   "metadata": {},
   "outputs": [],
   "source": [
    "CV_V3.reshape(Nx**3)[np.argmax(CV_posterior)]\n",
    "\n",
    "k_fec3.reshape(Nx**3)[np.argmax(CV_posterior)]\n",
    "\n",
    "k_v3.reshape(Nx**3)[np.argmax(CV_posterior)]"
   ]
  },
  {
   "cell_type": "code",
   "execution_count": null,
   "id": "c0b7d3a7",
   "metadata": {},
   "outputs": [],
   "source": [
    "x2 = X_test_left_out.copy()\n",
    "x2.iloc[0,0:3] = p0[0]"
   ]
  },
  {
   "cell_type": "code",
   "execution_count": null,
   "id": "611e8ec3",
   "metadata": {},
   "outputs": [],
   "source": [
    "X_test_left_out.copy()"
   ]
  },
  {
   "cell_type": "code",
   "execution_count": null,
   "id": "53c35480",
   "metadata": {
    "scrolled": true
   },
   "outputs": [],
   "source": [
    "x2"
   ]
  },
  {
   "cell_type": "code",
   "execution_count": null,
   "id": "658e12d8",
   "metadata": {},
   "outputs": [],
   "source": [
    "def log_prob(x,emulator,y_val):\n",
    "    x2 = X_test_left_out.copy()\n",
    "    x2.iloc[0,0:3] = p0[0]\n",
    "    return mll(emulator.models[1]((torch.tensor(((x2-emulator.training_input_mean)/emulator.training_input_STD).values).float())),torch.tensor(((y_val-emulator.training_output_mean[1])/emulator.training_output_STD[1])).float()).detach().numpy()"
   ]
  },
  {
   "cell_type": "code",
   "execution_count": null,
   "id": "fa339271",
   "metadata": {},
   "outputs": [],
   "source": [
    "p0[0]"
   ]
  },
  {
   "cell_type": "code",
   "execution_count": null,
   "id": "5f3e04dd",
   "metadata": {},
   "outputs": [],
   "source": [
    "emulator.training_input_mean"
   ]
  },
  {
   "cell_type": "code",
   "execution_count": null,
   "id": "beb7b8d2",
   "metadata": {
    "scrolled": true
   },
   "outputs": [],
   "source": [
    "emulator.models[1].eval()\n",
    "log_prob(p0[0],emulator,y_val)"
   ]
  },
  {
   "cell_type": "code",
   "execution_count": null,
   "id": "2f0a5bd3",
   "metadata": {},
   "outputs": [],
   "source": [
    "import emcee\n",
    "ndim = 3\n",
    "nwalkers = 10\n",
    "p0 = np.random.randn(nwalkers, ndim)\n",
    "y_val = y_test_left_out.iloc[0,1]"
   ]
  },
  {
   "cell_type": "code",
   "execution_count": null,
   "id": "166798cd",
   "metadata": {},
   "outputs": [],
   "source": [
    "sampler = emcee.EnsembleSampler(nwalkers, ndim, log_prob, args=[emulator,y_val])"
   ]
  },
  {
   "cell_type": "code",
   "execution_count": null,
   "id": "475e866d",
   "metadata": {},
   "outputs": [],
   "source": [
    "sampler"
   ]
  },
  {
   "cell_type": "code",
   "execution_count": null,
   "id": "db753c2b",
   "metadata": {},
   "outputs": [],
   "source": [
    "state = sampler.run_mcmc(p0, 10)\n",
    "sampler.reset()"
   ]
  },
  {
   "cell_type": "code",
   "execution_count": null,
   "id": "efc96010",
   "metadata": {},
   "outputs": [],
   "source": [
    "t1_start = process_time() \n",
    "sampler.run_mcmc(state, 10000);\n",
    "t1_stop = process_time() \n",
    "   \n",
    "print(\"Elapsed time:\", t1_stop, t1_start)  \n",
    "   \n",
    "print(\"Elapsed time during the whole program in seconds:\", \n",
    "                                         t1_stop-t1_start)   "
   ]
  },
  {
   "cell_type": "code",
   "execution_count": null,
   "id": "ef73f81d",
   "metadata": {},
   "outputs": [],
   "source": [
    "import matplotlib.pyplot as plt\n",
    "\n",
    "samples = sampler.get_chain(flat=True)\n",
    "plt.hist(samples[:, 0], 100, color=\"k\", histtype=\"step\")\n",
    "plt.xlabel(r\"$\\theta_1$\")\n",
    "plt.ylabel(r\"$p(\\theta_1)$\")\n",
    "plt.gca().set_yticks([]);"
   ]
  },
  {
   "cell_type": "code",
   "execution_count": null,
   "id": "27c76bbb",
   "metadata": {},
   "outputs": [],
   "source": []
  }
 ],
 "metadata": {
  "kernelspec": {
   "display_name": "Python 3 (ipykernel)",
   "language": "python",
   "name": "python3"
  },
  "language_info": {
   "codemirror_mode": {
    "name": "ipython",
    "version": 3
   },
   "file_extension": ".py",
   "mimetype": "text/x-python",
   "name": "python",
   "nbconvert_exporter": "python",
   "pygments_lexer": "ipython3",
   "version": "3.11.5"
  }
 },
 "nbformat": 4,
 "nbformat_minor": 5
}
