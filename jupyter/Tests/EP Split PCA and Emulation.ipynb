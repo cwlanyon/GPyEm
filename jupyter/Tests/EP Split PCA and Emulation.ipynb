{
 "cells": [
  {
   "cell_type": "code",
   "execution_count": 1,
   "id": "fec2e9e6",
   "metadata": {},
   "outputs": [],
   "source": [
    "import math\n",
    "import torch\n",
    "import gpytorch\n",
    "import pandas as pd\n",
    "import numpy as np\n",
    "from matplotlib import pyplot as plts\n",
    "import os\n",
    "import GPE_ensemble as GPE\n",
    "\n",
    "from GPErks.gp.experiment import GPExperiment\n",
    "from GPErks.train.emulator import GPEmulator\n",
    "from GPErks.perks.inference import Inference\n",
    "from GPErks.train.early_stop import NoEarlyStoppingCriterion\n",
    "from GPErks.train.early_stop import (\n",
    "    GLEarlyStoppingCriterion,\n",
    "    PQEarlyStoppingCriterion,\n",
    "    UPEarlyStoppingCriterion, \n",
    ")\n",
    "from GPErks.train.early_stop import PkEarlyStoppingCriterion\n",
    "\n",
    "%matplotlib inline\n",
    "%load_ext autoreload\n",
    "%autoreload 2\n",
    "\n",
    "from sklearn.model_selection import train_test_split\n",
    "\n",
    "# set logger and enforce reproducibility\n",
    "from GPErks.log.logger import get_logger\n",
    "from GPErks.utils.random import set_seed\n",
    "log = get_logger()\n",
    "seed = 8\n",
    "set_seed(seed)"
   ]
  },
  {
   "cell_type": "code",
   "execution_count": 2,
   "id": "eaf7ddc9",
   "metadata": {},
   "outputs": [
    {
     "name": "stdout",
     "output_type": "stream",
     "text": [
      "0\n",
      "1\n",
      "2\n",
      "3\n",
      "4\n",
      "5\n",
      "6\n",
      "7\n",
      "8\n",
      "9\n",
      "10\n",
      "11\n",
      "12\n",
      "13\n",
      "14\n",
      "15\n",
      "16\n"
     ]
    }
   ],
   "source": [
    "for i in range(17):\n",
    "    print(i)"
   ]
  },
  {
   "cell_type": "code",
   "execution_count": null,
   "id": "cde14980",
   "metadata": {},
   "outputs": [],
   "source": []
  },
  {
   "cell_type": "code",
   "execution_count": 3,
   "id": "34bf6f6a",
   "metadata": {},
   "outputs": [],
   "source": [
    "allSimulationsOutput_ventricles = pd.read_csv(r'C:\\Users\\pmzcwl\\Documents\\GitHub\\Calibration\\shared_simulations\\EP_healthy\\output\\YV.txt',index_col=None,delim_whitespace=True,header=None)\n",
    "allSimulationsOutput_atria = pd.read_csv(r'C:\\Users\\pmzcwl\\Documents\\GitHub\\Calibration\\shared_simulations\\EP_healthy\\output\\YA.txt',index_col=None,delim_whitespace=True,header=None)\n",
    "allSimulationsOutput = pd.read_csv(r'C:\\Users\\pmzcwl\\Documents\\GitHub\\Calibration\\shared_simulations\\EP_healthy\\output\\simulations\\all_simulations.csv',index_col=None,delim_whitespace=False,header=None)"
   ]
  },
  {
   "cell_type": "code",
   "execution_count": 4,
   "id": "f4f2251e",
   "metadata": {},
   "outputs": [],
   "source": [
    "#allSimulationsOutput_ventricles = pd.read_csv(r'C:\\Users\\pmzcwl\\Documents\\GitHub\\Calibration\\shared_simulations\\EP_healthy\\01\\YV.txt',index_col=None,delim_whitespace=True,header=None)\n",
    "#allSimulationsOutput_atria = pd.read_csv(r'C:\\Users\\pmzcwl\\Documents\\GitHub\\Calibration\\shared_simulations\\EP_healthy\\01\\YA.txt',index_col=None,delim_whitespace=True,header=None)\n",
    "#allSimulationsOutput = pd.read_csv(r'C:\\Users\\pmzcwl\\Documents\\GitHub\\Calibration\\shared_simulations\\EP_healthy\\01\\simulations\\all_simulations.csv',index_col=None,delim_whitespace=False,header=None)"
   ]
  },
  {
   "cell_type": "code",
   "execution_count": 5,
   "id": "17777d1f",
   "metadata": {},
   "outputs": [
    {
     "data": {
      "text/plain": [
       "209.087061"
      ]
     },
     "execution_count": 5,
     "metadata": {},
     "output_type": "execute_result"
    }
   ],
   "source": [
    "np.max(allSimulationsOutput.iloc[:,25])"
   ]
  },
  {
   "cell_type": "code",
   "execution_count": 6,
   "id": "f2e2cb6d",
   "metadata": {},
   "outputs": [],
   "source": [
    "allSimulationsOutput_combined = pd.concat([allSimulationsOutput_atria,allSimulationsOutput_ventricles],axis=0)"
   ]
  },
  {
   "cell_type": "code",
   "execution_count": 7,
   "id": "a5cb165c",
   "metadata": {},
   "outputs": [
    {
     "data": {
      "text/plain": [
       "(434591, 180)"
      ]
     },
     "execution_count": 7,
     "metadata": {},
     "output_type": "execute_result"
    }
   ],
   "source": [
    "allSimulationsOutput_combined.shape"
   ]
  },
  {
   "cell_type": "code",
   "execution_count": 8,
   "id": "52434146",
   "metadata": {},
   "outputs": [],
   "source": [
    "x_labels=pd.read_csv(r'C:\\Users\\pmzcwl\\Documents\\GitHub\\Calibration\\shared_simulations\\EP_healthy\\input\\xlabels_EP.txt',delim_whitespace=True,header=None)\n",
    "inputOrig = pd.read_csv(r'C:\\Users\\pmzcwl\\Documents\\GitHub\\Calibration\\shared_simulations\\EP_healthy\\input\\X_EP.txt',index_col=None,delim_whitespace=True,header=None)\n",
    "inputOrig.columns=x_labels\n"
   ]
  },
  {
   "cell_type": "code",
   "execution_count": 9,
   "id": "b21d7173",
   "metadata": {},
   "outputs": [],
   "source": [
    "\n",
    "\n",
    "# split original dataset in training, validation and testing sets\n",
    "X=inputOrig\n",
    "y=allSimulationsOutput_ventricles.T\n",
    "\n",
    "X_train, X_test, PCA_train_ventricles, PCA_test_ventricles = train_test_split(\n",
    "    X,\n",
    "    y,\n",
    "    test_size=0.2,\n",
    "    random_state=seed\n",
    ")\n"
   ]
  },
  {
   "cell_type": "code",
   "execution_count": 10,
   "id": "d3fd4b29",
   "metadata": {},
   "outputs": [],
   "source": [
    "X=inputOrig\n",
    "y=allSimulationsOutput_atria.T\n",
    "\n",
    "X_train2, X_test2, PCA_train_atria, PCA_test_atria = train_test_split(\n",
    "    X,\n",
    "    y,\n",
    "    test_size=0.2,\n",
    "    random_state=seed\n",
    ")"
   ]
  },
  {
   "cell_type": "code",
   "execution_count": 11,
   "id": "6740e62b",
   "metadata": {},
   "outputs": [],
   "source": [
    "X=inputOrig\n",
    "y=allSimulationsOutput.T\n",
    "\n",
    "X_train2, X_test2, PCA_train_all, PCA_test_all = train_test_split(\n",
    "    X,\n",
    "    y,\n",
    "    test_size=0.2,\n",
    "    random_state=seed\n",
    ")"
   ]
  },
  {
   "cell_type": "code",
   "execution_count": 12,
   "id": "0895766b",
   "metadata": {},
   "outputs": [],
   "source": [
    "X=inputOrig\n",
    "y=allSimulationsOutput_combined.T\n",
    "\n",
    "X_train2, X_test2, PCA_train_c, PCA_test_c = train_test_split(\n",
    "    X,\n",
    "    y,\n",
    "    test_size=0.2,\n",
    "    random_state=seed\n",
    ")"
   ]
  },
  {
   "cell_type": "code",
   "execution_count": 13,
   "id": "076178f5",
   "metadata": {},
   "outputs": [],
   "source": [
    "from sklearn.decomposition import PCA\n",
    "pca_EP_V = PCA()\n",
    "principalComponents_EP_V = pca_EP_V.fit_transform(PCA_train_ventricles)\n",
    "\n",
    "pca_EP_A = PCA()\n",
    "principalComponents_EP_A = pca_EP_A.fit_transform(PCA_train_atria)\n",
    "\n",
    "pca_EP_All = PCA()\n",
    "principalComponents_EP_All = pca_EP_All.fit_transform(PCA_train_all)\n",
    "\n",
    "pca_EP_c = PCA()\n",
    "principalComponents_EP_c = pca_EP_c.fit_transform(PCA_train_c)"
   ]
  },
  {
   "cell_type": "code",
   "execution_count": 17,
   "id": "d7a6598c",
   "metadata": {},
   "outputs": [
    {
     "data": {
      "text/plain": [
       "array([5.57050736e-01, 3.97066781e-01, 2.50137391e-02, 1.56935684e-02,\n",
       "       3.23108995e-03, 1.32624440e-03, 1.88458875e-04, 1.30128200e-04,\n",
       "       9.14888435e-05, 5.15017984e-05, 2.93727713e-05, 2.44839291e-05,\n",
       "       2.26820943e-05, 1.40547430e-05, 9.64929481e-06, 7.75915658e-06,\n",
       "       6.93801561e-06, 4.30370819e-06, 4.19322491e-06, 3.43642464e-06,\n",
       "       2.78293221e-06, 2.52005963e-06, 2.33116734e-06, 1.83354011e-06,\n",
       "       1.36611993e-06, 1.28843554e-06, 1.14826028e-06, 1.10745666e-06,\n",
       "       9.63330714e-07, 8.90097386e-07, 8.09011788e-07, 7.27316269e-07,\n",
       "       6.36632894e-07, 5.74697593e-07, 4.95286857e-07, 4.84230148e-07,\n",
       "       4.35505666e-07, 4.15064354e-07, 3.79240344e-07, 3.33160598e-07,\n",
       "       3.14509937e-07, 2.94703401e-07, 2.75973759e-07, 2.58902300e-07,\n",
       "       2.48282302e-07, 2.30922905e-07, 2.21931030e-07, 1.97989418e-07,\n",
       "       1.95791701e-07, 1.88483530e-07, 1.81466371e-07, 1.70944583e-07,\n",
       "       1.52903791e-07, 1.49421430e-07, 1.45425094e-07, 1.37418036e-07,\n",
       "       1.33886545e-07, 1.27939081e-07, 1.27069649e-07, 1.21479723e-07,\n",
       "       1.15716178e-07, 1.13096986e-07, 1.05620577e-07, 1.03288511e-07,\n",
       "       9.82800650e-08, 9.74331700e-08, 9.22403686e-08, 9.01136655e-08,\n",
       "       8.90703916e-08, 8.50894137e-08, 8.26121325e-08, 8.11357898e-08,\n",
       "       7.75220156e-08, 7.62040811e-08, 7.47097729e-08, 7.32589983e-08,\n",
       "       6.99532547e-08, 6.90290171e-08, 6.73599479e-08, 6.49651602e-08,\n",
       "       6.32399353e-08, 6.24998229e-08, 6.01353219e-08, 5.91872144e-08,\n",
       "       5.87566555e-08, 5.77774775e-08, 5.72656570e-08, 5.55188091e-08,\n",
       "       5.41078077e-08, 5.20780740e-08, 5.15334459e-08, 5.10654926e-08,\n",
       "       4.95650058e-08, 4.83433622e-08, 4.74254408e-08, 4.69008655e-08,\n",
       "       4.57932597e-08, 4.48540391e-08, 4.31551196e-08, 4.26461761e-08,\n",
       "       4.20336050e-08, 4.15882000e-08, 4.04499683e-08, 3.96785737e-08,\n",
       "       3.88719805e-08, 3.84701689e-08, 3.80108822e-08, 3.65006571e-08,\n",
       "       3.59795103e-08, 3.56004925e-08, 3.46142433e-08, 3.37302560e-08,\n",
       "       3.27742085e-08, 3.22374128e-08, 3.20663722e-08, 3.10790190e-08,\n",
       "       3.07661263e-08, 3.01805683e-08, 2.96946201e-08, 2.87129758e-08,\n",
       "       2.81804141e-08, 2.77761890e-08, 2.75197815e-08, 2.71351389e-08,\n",
       "       2.61087545e-08, 2.54255345e-08, 2.52660661e-08, 2.46243256e-08,\n",
       "       2.41531127e-08, 2.29971994e-08, 2.25261352e-08, 2.23837346e-08,\n",
       "       2.21939137e-08, 2.09574613e-08, 2.02735084e-08, 1.96421461e-08,\n",
       "       1.93446848e-08, 1.91126239e-08, 1.87055599e-08, 1.84431931e-08,\n",
       "       1.76114767e-08, 1.68680610e-08, 1.46865854e-08, 3.21039406e-30])"
      ]
     },
     "execution_count": 17,
     "metadata": {},
     "output_type": "execute_result"
    }
   ],
   "source": [
    "pca_EP_All.explained_variance_ratio_"
   ]
  },
  {
   "cell_type": "code",
   "execution_count": 18,
   "id": "84d09acb",
   "metadata": {},
   "outputs": [
    {
     "data": {
      "text/plain": [
       "(144, 144)"
      ]
     },
     "execution_count": 18,
     "metadata": {},
     "output_type": "execute_result"
    }
   ],
   "source": [
    "principalComponents_EP_c.shape"
   ]
  },
  {
   "cell_type": "code",
   "execution_count": 19,
   "id": "4c7ccfe1",
   "metadata": {},
   "outputs": [],
   "source": [
    "from matplotlib import pyplot as plt"
   ]
  },
  {
   "cell_type": "code",
   "execution_count": 20,
   "id": "a312ae7b",
   "metadata": {},
   "outputs": [
    {
     "data": {
      "text/plain": [
       "(array([21., 38., 29., 22., 10.,  8.,  3.,  8.,  4.,  1.]),\n",
       " array([-19176.63188088, -12700.35143827,  -6224.07099565,    252.20944696,\n",
       "          6728.48988957,  13204.77033218,  19681.05077479,  26157.3312174 ,\n",
       "         32633.61166001,  39109.89210262,  45586.17254523]),\n",
       " <BarContainer object of 10 artists>)"
      ]
     },
     "execution_count": 20,
     "metadata": {},
     "output_type": "execute_result"
    },
    {
     "data": {
      "image/png": "[encoded data removed]",
      "text/plain": [
       "<Figure size 640x480 with 1 Axes>"
      ]
     },
     "metadata": {},
     "output_type": "display_data"
    }
   ],
   "source": [
    "plt.hist(principalComponents_EP_V[:,0])"
   ]
  },
  {
   "cell_type": "code",
   "execution_count": 21,
   "id": "4c7a19d4",
   "metadata": {
    "scrolled": false
   },
   "outputs": [
    {
     "name": "stdout",
     "output_type": "stream",
     "text": [
      "Explained variation per principal component (All): [5.57050736e-01 3.97066781e-01 2.50137391e-02 1.56935684e-02\n",
      " 3.23108995e-03 1.32624440e-03 1.88458875e-04 1.30128200e-04\n",
      " 9.14888435e-05 5.15017984e-05 2.93727713e-05 2.44839291e-05\n",
      " 2.26820943e-05 1.40547430e-05 9.64929481e-06 7.75915658e-06\n",
      " 6.93801561e-06 4.30370819e-06 4.19322491e-06 3.43642464e-06\n",
      " 2.78293221e-06 2.52005963e-06 2.33116734e-06 1.83354011e-06\n",
      " 1.36611993e-06 1.28843554e-06 1.14826028e-06 1.10745666e-06\n",
      " 9.63330714e-07 8.90097386e-07 8.09011788e-07 7.27316269e-07\n",
      " 6.36632894e-07 5.74697593e-07 4.95286857e-07 4.84230148e-07\n",
      " 4.35505666e-07 4.15064354e-07 3.79240344e-07 3.33160598e-07\n",
      " 3.14509937e-07 2.94703401e-07 2.75973759e-07 2.58902300e-07\n",
      " 2.48282302e-07 2.30922905e-07 2.21931030e-07 1.97989418e-07\n",
      " 1.95791701e-07 1.88483530e-07 1.81466371e-07 1.70944583e-07\n",
      " 1.52903791e-07 1.49421430e-07 1.45425094e-07 1.37418036e-07\n",
      " 1.33886545e-07 1.27939081e-07 1.27069649e-07 1.21479723e-07\n",
      " 1.15716178e-07 1.13096986e-07 1.05620577e-07 1.03288511e-07\n",
      " 9.82800650e-08 9.74331700e-08 9.22403686e-08 9.01136655e-08\n",
      " 8.90703916e-08 8.50894137e-08 8.26121325e-08 8.11357898e-08\n",
      " 7.75220156e-08 7.62040811e-08 7.47097729e-08 7.32589983e-08\n",
      " 6.99532547e-08 6.90290171e-08 6.73599479e-08 6.49651602e-08\n",
      " 6.32399353e-08 6.24998229e-08 6.01353219e-08 5.91872144e-08\n",
      " 5.87566555e-08 5.77774775e-08 5.72656570e-08 5.55188091e-08\n",
      " 5.41078077e-08 5.20780740e-08 5.15334459e-08 5.10654926e-08\n",
      " 4.95650058e-08 4.83433622e-08 4.74254408e-08 4.69008655e-08\n",
      " 4.57932597e-08 4.48540391e-08 4.31551196e-08 4.26461761e-08\n",
      " 4.20336050e-08 4.15882000e-08 4.04499683e-08 3.96785737e-08\n",
      " 3.88719805e-08 3.84701689e-08 3.80108822e-08 3.65006571e-08\n",
      " 3.59795103e-08 3.56004925e-08 3.46142433e-08 3.37302560e-08\n",
      " 3.27742085e-08 3.22374128e-08 3.20663722e-08 3.10790190e-08\n",
      " 3.07661263e-08 3.01805683e-08 2.96946201e-08 2.87129758e-08\n",
      " 2.81804141e-08 2.77761890e-08 2.75197815e-08 2.71351389e-08\n",
      " 2.61087545e-08 2.54255345e-08 2.52660661e-08 2.46243256e-08\n",
      " 2.41531127e-08 2.29971994e-08 2.25261352e-08 2.23837346e-08\n",
      " 2.21939137e-08 2.09574613e-08 2.02735084e-08 1.96421461e-08\n",
      " 1.93446848e-08 1.91126239e-08 1.87055599e-08 1.84431931e-08\n",
      " 1.76114767e-08 1.68680610e-08 1.46865854e-08 3.21039406e-30]\n"
     ]
    }
   ],
   "source": [
    "print('Explained variation per principal component (All): {}'.format(pca_EP_All.explained_variance_ratio_))"
   ]
  },
  {
   "cell_type": "code",
   "execution_count": 22,
   "id": "ca7767e0",
   "metadata": {
    "scrolled": true
   },
   "outputs": [
    {
     "name": "stdout",
     "output_type": "stream",
     "text": [
      "Explained variation per principal component (Atria): [9.60782861e-01 3.60826564e-02 2.42775475e-03 4.14716589e-04\n",
      " 9.04511791e-05 6.66609496e-05 5.18302047e-05 1.77656981e-05\n",
      " 1.47239490e-05 9.65536600e-06 5.97501269e-06 5.40388155e-06\n",
      " 4.33657117e-06 2.70530446e-06 2.48453084e-06 1.96427514e-06\n",
      " 1.80805991e-06 1.42592954e-06 1.16115462e-06 1.01145467e-06\n",
      " 9.27565928e-07 7.43671512e-07 7.18731035e-07 5.93431298e-07\n",
      " 5.20460442e-07 4.81018868e-07 4.22920938e-07 3.99614571e-07\n",
      " 3.65629029e-07 3.23976052e-07 3.22565909e-07 2.86581689e-07\n",
      " 2.63963735e-07 2.56185373e-07 2.40738491e-07 2.36149763e-07\n",
      " 2.14982321e-07 1.94904258e-07 1.85891174e-07 1.76917103e-07\n",
      " 1.70284295e-07 1.61523552e-07 1.55988318e-07 1.38588832e-07\n",
      " 1.32695812e-07 1.29317651e-07 1.27227999e-07 1.16809881e-07\n",
      " 1.12475375e-07 1.10540395e-07 1.08350985e-07 1.04515888e-07\n",
      " 1.01968910e-07 9.37638087e-08 9.20739118e-08 8.89818564e-08\n",
      " 8.67794093e-08 8.61957138e-08 8.25231559e-08 7.86723672e-08\n",
      " 7.74758176e-08 7.35216257e-08 7.18517318e-08 7.00457272e-08\n",
      " 6.95600298e-08 6.71099542e-08 6.49974060e-08 6.02496748e-08\n",
      " 5.95872596e-08 5.71021492e-08 5.51227577e-08 5.39635301e-08\n",
      " 5.23656926e-08 5.11940467e-08 5.06866638e-08 4.77137365e-08\n",
      " 4.66288714e-08 4.55814756e-08 4.31834879e-08 4.28093893e-08\n",
      " 4.10245235e-08 4.09277267e-08 3.94843505e-08 3.83798776e-08\n",
      " 3.65560140e-08 3.64387886e-08 3.59297023e-08 3.44027264e-08\n",
      " 3.37643508e-08 3.31337605e-08 3.24700165e-08 3.12800382e-08\n",
      " 3.05490022e-08 2.98515090e-08 2.92761100e-08 2.83669514e-08\n",
      " 2.75116220e-08 2.69266755e-08 2.58875794e-08 2.56029429e-08\n",
      " 2.52207482e-08 2.44260700e-08 2.41347325e-08 2.36193189e-08\n",
      " 2.31588146e-08 2.23363425e-08 2.20936729e-08 2.13488193e-08\n",
      " 2.05782151e-08 2.01534672e-08 1.97816742e-08 1.92543896e-08\n",
      " 1.87765414e-08 1.81670805e-08 1.79603699e-08 1.76936964e-08\n",
      " 1.73908317e-08 1.68222207e-08 1.66914467e-08 1.60038965e-08\n",
      " 1.58524338e-08 1.52641243e-08 1.50407159e-08 1.48698138e-08\n",
      " 1.43220690e-08 1.38123851e-08 1.35410867e-08 1.30725630e-08\n",
      " 1.28135389e-08 1.26212395e-08 1.20923881e-08 1.16245878e-08\n",
      " 1.13796111e-08 1.09970057e-08 1.07908723e-08 1.00802006e-08\n",
      " 9.58230311e-09 9.49767164e-09 9.24808186e-09 8.61262712e-09\n",
      " 8.51743556e-09 7.99373634e-09 6.77321250e-09 9.69429585e-31]\n"
     ]
    }
   ],
   "source": [
    "print('Explained variation per principal component (Atria): {}'.format(pca_EP_A.explained_variance_ratio_))"
   ]
  },
  {
   "cell_type": "code",
   "execution_count": 23,
   "id": "8466e965",
   "metadata": {
    "scrolled": false
   },
   "outputs": [
    {
     "name": "stdout",
     "output_type": "stream",
     "text": [
      "Explained variation per principal component (Ventricles): [9.56961670e-01 3.76737338e-02 4.95795092e-03 1.98476898e-04\n",
      " 1.07767048e-04 3.52588343e-05 2.38226237e-05 1.10271445e-05\n",
      " 5.90453242e-06 4.93795154e-06 3.74969897e-06 2.30657945e-06\n",
      " 1.71080301e-06 1.60845014e-06 1.11949208e-06 7.65076042e-07\n",
      " 6.82723430e-07 6.17078341e-07 5.09674119e-07 3.56771116e-07\n",
      " 3.23010497e-07 2.82123430e-07 2.34914401e-07 2.03375273e-07\n",
      " 1.93783613e-07 1.86026103e-07 1.61991984e-07 1.57392240e-07\n",
      " 1.49331245e-07 1.36124593e-07 1.33775461e-07 1.23467224e-07\n",
      " 1.18837704e-07 1.09682897e-07 1.06269580e-07 1.02865340e-07\n",
      " 9.79779527e-08 9.63531096e-08 9.13943897e-08 8.58354785e-08\n",
      " 7.90565594e-08 7.77278209e-08 7.52696150e-08 7.28180422e-08\n",
      " 7.02522535e-08 6.60441411e-08 6.52432398e-08 6.38244016e-08\n",
      " 5.95773090e-08 5.85370347e-08 5.71574834e-08 5.61348110e-08\n",
      " 5.47172243e-08 5.36174424e-08 5.14083107e-08 4.96756405e-08\n",
      " 4.76642267e-08 4.67101685e-08 4.56520835e-08 4.50652534e-08\n",
      " 4.30696703e-08 4.20421814e-08 4.14930454e-08 3.96274424e-08\n",
      " 3.92532014e-08 3.87343728e-08 3.81480866e-08 3.71622915e-08\n",
      " 3.63106532e-08 3.48757198e-08 3.42304118e-08 3.35609650e-08\n",
      " 3.31061397e-08 3.26692370e-08 3.23753887e-08 3.18263901e-08\n",
      " 3.12551910e-08 3.00876876e-08 2.89091244e-08 2.85313180e-08\n",
      " 2.77352211e-08 2.73601487e-08 2.70438190e-08 2.69080929e-08\n",
      " 2.62551861e-08 2.56574232e-08 2.53066121e-08 2.48977513e-08\n",
      " 2.45764996e-08 2.40139551e-08 2.36640505e-08 2.29228192e-08\n",
      " 2.26706879e-08 2.19276757e-08 2.15800601e-08 2.13184231e-08\n",
      " 2.10196466e-08 2.05637246e-08 2.01835205e-08 1.98136853e-08\n",
      " 1.95346085e-08 1.92349648e-08 1.90836970e-08 1.84786359e-08\n",
      " 1.77844026e-08 1.75065638e-08 1.70619025e-08 1.68954847e-08\n",
      " 1.64617261e-08 1.59807171e-08 1.59281830e-08 1.55329019e-08\n",
      " 1.49181418e-08 1.45883126e-08 1.45611533e-08 1.43893300e-08\n",
      " 1.42149174e-08 1.39201080e-08 1.35216635e-08 1.32475770e-08\n",
      " 1.30841931e-08 1.27115931e-08 1.25129961e-08 1.22878203e-08\n",
      " 1.20667455e-08 1.14305250e-08 1.12576288e-08 1.06929189e-08\n",
      " 1.05343068e-08 1.02851418e-08 1.00220801e-08 9.92849641e-09\n",
      " 9.50345894e-09 9.30638734e-09 9.25147637e-09 8.87733972e-09\n",
      " 8.61747603e-09 8.44807617e-09 8.39964559e-09 7.58040202e-09\n",
      " 7.27694503e-09 7.15830553e-09 6.80913031e-09 4.46273702e-30]\n"
     ]
    }
   ],
   "source": [
    "print('Explained variation per principal component (Ventricles): {}'.format(pca_EP_V.explained_variance_ratio_))"
   ]
  },
  {
   "cell_type": "code",
   "execution_count": 24,
   "id": "e94be518",
   "metadata": {},
   "outputs": [
    {
     "name": "stdout",
     "output_type": "stream",
     "text": [
      "Explained variation per principal component (combined): [5.66075683e-01 3.92873281e-01 2.19851320e-02 1.48491270e-02\n",
      " 2.76673334e-03 9.33245085e-04 1.71157409e-04 1.08316087e-04\n",
      " 6.39135588e-05 3.55241311e-05 2.79928135e-05 2.04994837e-05\n",
      " 1.97813133e-05 1.36765948e-05 7.16771160e-06 6.50233830e-06\n",
      " 6.14843564e-06 4.11529157e-06 3.31608112e-06 2.76537617e-06\n",
      " 2.41467205e-06 2.17465329e-06 2.08703197e-06 1.60524492e-06\n",
      " 1.29212634e-06 1.18276969e-06 1.07430434e-06 8.96546693e-07\n",
      " 8.27368791e-07 7.59112012e-07 6.54830515e-07 6.02676402e-07\n",
      " 5.73212519e-07 4.75529661e-07 4.32455909e-07 4.22447707e-07\n",
      " 3.58551646e-07 3.41977993e-07 3.22867503e-07 3.11047862e-07\n",
      " 3.02886187e-07 2.82088602e-07 2.37109841e-07 2.25733178e-07\n",
      " 2.11606858e-07 1.96045366e-07 1.88275165e-07 1.77033596e-07\n",
      " 1.74567676e-07 1.70142010e-07 1.60777610e-07 1.46512344e-07\n",
      " 1.45493531e-07 1.35737056e-07 1.30981989e-07 1.25904160e-07\n",
      " 1.16632856e-07 1.12767121e-07 1.10290553e-07 1.08800973e-07\n",
      " 1.05968396e-07 1.00932684e-07 9.80485639e-08 9.42665266e-08\n",
      " 9.09686172e-08 8.71250454e-08 8.58145697e-08 8.43447543e-08\n",
      " 8.05279616e-08 7.86934219e-08 7.46723864e-08 7.18199731e-08\n",
      " 7.07533118e-08 6.91987913e-08 6.80849566e-08 6.65826006e-08\n",
      " 6.58545937e-08 6.44136092e-08 6.25863325e-08 6.11159812e-08\n",
      " 6.03071424e-08 5.78093279e-08 5.45949035e-08 5.38663202e-08\n",
      " 5.32606045e-08 5.24201410e-08 5.18192879e-08 5.11826743e-08\n",
      " 4.93534365e-08 4.90161040e-08 4.68954748e-08 4.61487475e-08\n",
      " 4.48561333e-08 4.43740842e-08 4.29189227e-08 4.28368236e-08\n",
      " 4.09285681e-08 4.06008068e-08 3.97785288e-08 3.91556709e-08\n",
      " 3.86472290e-08 3.84334480e-08 3.66832409e-08 3.64116631e-08\n",
      " 3.61320040e-08 3.52673159e-08 3.47794085e-08 3.33865160e-08\n",
      " 3.27771619e-08 3.23597549e-08 3.17167751e-08 3.09974919e-08\n",
      " 3.03703218e-08 2.98950404e-08 2.94590734e-08 2.88989116e-08\n",
      " 2.78477015e-08 2.73735053e-08 2.68565009e-08 2.66396944e-08\n",
      " 2.58802956e-08 2.56813628e-08 2.46204385e-08 2.43649979e-08\n",
      " 2.37859114e-08 2.35747000e-08 2.31146266e-08 2.28605100e-08\n",
      " 2.22461168e-08 2.20594785e-08 2.14246578e-08 2.06908652e-08\n",
      " 1.96241202e-08 1.90170440e-08 1.82659718e-08 1.77716386e-08\n",
      " 1.73701375e-08 1.71175329e-08 1.63015617e-08 1.61252128e-08\n",
      " 1.51803589e-08 1.44367939e-08 1.26951877e-08 1.22163636e-30]\n"
     ]
    }
   ],
   "source": [
    "print('Explained variation per principal component (combined): {}'.format(pca_EP_c.explained_variance_ratio_))"
   ]
  },
  {
   "cell_type": "code",
   "execution_count": 25,
   "id": "bafaad0e",
   "metadata": {
    "scrolled": true
   },
   "outputs": [
    {
     "data": {
      "text/plain": [
       "array([[ 49.3671,  45.8879,  48.4414, ..., 113.747 , 221.139 ,  91.5276],\n",
       "       [ 21.1713,  19.7853,  21.0176, ...,  42.3486,  75.4846,  42.8967],\n",
       "       [ 31.6   ,  29.3683,  31.0048, ...,  85.8132, 167.358 ,  58.2388],\n",
       "       ...,\n",
       "       [ 40.1352,  37.5985,  39.8369, ...,  85.4165, 153.086 ,  78.4516],\n",
       "       [ 33.9072,  32.1175,  33.6374, ...,  72.7998, 125.928 ,  59.1373],\n",
       "       [ 60.6745,  56.6062,  60.2707, ..., 134.786 , 258.444 , 125.33  ]])"
      ]
     },
     "execution_count": 25,
     "metadata": {},
     "output_type": "execute_result"
    }
   ],
   "source": [
    "np.matmul(principalComponents_EP_A,pca_EP_A.components_)+pca_EP_A.mean_"
   ]
  },
  {
   "cell_type": "code",
   "execution_count": 26,
   "id": "57836a1c",
   "metadata": {},
   "outputs": [
    {
     "data": {
      "text/html": [
       "<div>\n",
       "<style scoped>\n",
       "    .dataframe tbody tr th:only-of-type {\n",
       "        vertical-align: middle;\n",
       "    }\n",
       "\n",
       "    .dataframe tbody tr th {\n",
       "        vertical-align: top;\n",
       "    }\n",
       "\n",
       "    .dataframe thead th {\n",
       "        text-align: right;\n",
       "    }\n",
       "</style>\n",
       "<table border=\"1\" class=\"dataframe\">\n",
       "  <thead>\n",
       "    <tr style=\"text-align: right;\">\n",
       "      <th></th>\n",
       "      <th>0</th>\n",
       "      <th>1</th>\n",
       "      <th>2</th>\n",
       "      <th>3</th>\n",
       "      <th>4</th>\n",
       "      <th>5</th>\n",
       "      <th>6</th>\n",
       "      <th>7</th>\n",
       "      <th>8</th>\n",
       "      <th>9</th>\n",
       "      <th>...</th>\n",
       "      <th>97975</th>\n",
       "      <th>97976</th>\n",
       "      <th>97977</th>\n",
       "      <th>97978</th>\n",
       "      <th>97979</th>\n",
       "      <th>97980</th>\n",
       "      <th>97981</th>\n",
       "      <th>97982</th>\n",
       "      <th>97983</th>\n",
       "      <th>97984</th>\n",
       "    </tr>\n",
       "  </thead>\n",
       "  <tbody>\n",
       "    <tr>\n",
       "      <th>67</th>\n",
       "      <td>49.3671</td>\n",
       "      <td>45.8879</td>\n",
       "      <td>48.4414</td>\n",
       "      <td>48.3523</td>\n",
       "      <td>171.3610</td>\n",
       "      <td>172.8810</td>\n",
       "      <td>170.3960</td>\n",
       "      <td>170.8880</td>\n",
       "      <td>197.9260</td>\n",
       "      <td>198.0460</td>\n",
       "      <td>...</td>\n",
       "      <td>78.9507</td>\n",
       "      <td>193.3260</td>\n",
       "      <td>238.3320</td>\n",
       "      <td>97.8385</td>\n",
       "      <td>208.9960</td>\n",
       "      <td>165.1300</td>\n",
       "      <td>99.4013</td>\n",
       "      <td>113.7470</td>\n",
       "      <td>221.1390</td>\n",
       "      <td>91.5276</td>\n",
       "    </tr>\n",
       "    <tr>\n",
       "      <th>141</th>\n",
       "      <td>21.1713</td>\n",
       "      <td>19.7853</td>\n",
       "      <td>21.0176</td>\n",
       "      <td>20.7047</td>\n",
       "      <td>63.2437</td>\n",
       "      <td>63.9691</td>\n",
       "      <td>62.7852</td>\n",
       "      <td>63.0014</td>\n",
       "      <td>94.9813</td>\n",
       "      <td>95.0346</td>\n",
       "      <td>...</td>\n",
       "      <td>25.4017</td>\n",
       "      <td>69.2927</td>\n",
       "      <td>84.0495</td>\n",
       "      <td>34.1315</td>\n",
       "      <td>69.4425</td>\n",
       "      <td>50.2801</td>\n",
       "      <td>45.8746</td>\n",
       "      <td>42.3486</td>\n",
       "      <td>75.4846</td>\n",
       "      <td>42.8967</td>\n",
       "    </tr>\n",
       "    <tr>\n",
       "      <th>88</th>\n",
       "      <td>31.6000</td>\n",
       "      <td>29.3683</td>\n",
       "      <td>31.0048</td>\n",
       "      <td>30.9396</td>\n",
       "      <td>134.0960</td>\n",
       "      <td>134.7480</td>\n",
       "      <td>133.4920</td>\n",
       "      <td>133.6370</td>\n",
       "      <td>125.5600</td>\n",
       "      <td>125.6180</td>\n",
       "      <td>...</td>\n",
       "      <td>66.8803</td>\n",
       "      <td>154.0180</td>\n",
       "      <td>182.4130</td>\n",
       "      <td>78.8293</td>\n",
       "      <td>175.3800</td>\n",
       "      <td>147.4420</td>\n",
       "      <td>63.2386</td>\n",
       "      <td>85.8132</td>\n",
       "      <td>167.3580</td>\n",
       "      <td>58.2388</td>\n",
       "    </tr>\n",
       "    <tr>\n",
       "      <th>30</th>\n",
       "      <td>61.0945</td>\n",
       "      <td>56.8715</td>\n",
       "      <td>60.1547</td>\n",
       "      <td>59.5473</td>\n",
       "      <td>176.1190</td>\n",
       "      <td>178.3260</td>\n",
       "      <td>175.1700</td>\n",
       "      <td>175.8780</td>\n",
       "      <td>238.5820</td>\n",
       "      <td>238.7530</td>\n",
       "      <td>...</td>\n",
       "      <td>75.9980</td>\n",
       "      <td>187.5140</td>\n",
       "      <td>230.5820</td>\n",
       "      <td>95.7249</td>\n",
       "      <td>195.1300</td>\n",
       "      <td>143.2800</td>\n",
       "      <td>122.3980</td>\n",
       "      <td>124.2440</td>\n",
       "      <td>209.0880</td>\n",
       "      <td>111.9460</td>\n",
       "    </tr>\n",
       "    <tr>\n",
       "      <th>57</th>\n",
       "      <td>34.5462</td>\n",
       "      <td>32.1278</td>\n",
       "      <td>34.1178</td>\n",
       "      <td>33.9520</td>\n",
       "      <td>124.5430</td>\n",
       "      <td>125.6940</td>\n",
       "      <td>123.8090</td>\n",
       "      <td>124.1790</td>\n",
       "      <td>150.9700</td>\n",
       "      <td>151.0640</td>\n",
       "      <td>...</td>\n",
       "      <td>56.0025</td>\n",
       "      <td>141.8790</td>\n",
       "      <td>173.7540</td>\n",
       "      <td>70.7405</td>\n",
       "      <td>150.6400</td>\n",
       "      <td>117.8280</td>\n",
       "      <td>74.0423</td>\n",
       "      <td>81.4512</td>\n",
       "      <td>160.2360</td>\n",
       "      <td>68.7602</td>\n",
       "    </tr>\n",
       "    <tr>\n",
       "      <th>...</th>\n",
       "      <td>...</td>\n",
       "      <td>...</td>\n",
       "      <td>...</td>\n",
       "      <td>...</td>\n",
       "      <td>...</td>\n",
       "      <td>...</td>\n",
       "      <td>...</td>\n",
       "      <td>...</td>\n",
       "      <td>...</td>\n",
       "      <td>...</td>\n",
       "      <td>...</td>\n",
       "      <td>...</td>\n",
       "      <td>...</td>\n",
       "      <td>...</td>\n",
       "      <td>...</td>\n",
       "      <td>...</td>\n",
       "      <td>...</td>\n",
       "      <td>...</td>\n",
       "      <td>...</td>\n",
       "      <td>...</td>\n",
       "      <td>...</td>\n",
       "    </tr>\n",
       "    <tr>\n",
       "      <th>83</th>\n",
       "      <td>28.2901</td>\n",
       "      <td>26.4755</td>\n",
       "      <td>28.0795</td>\n",
       "      <td>27.6775</td>\n",
       "      <td>86.3512</td>\n",
       "      <td>87.2897</td>\n",
       "      <td>85.7549</td>\n",
       "      <td>86.0333</td>\n",
       "      <td>125.0140</td>\n",
       "      <td>125.0740</td>\n",
       "      <td>...</td>\n",
       "      <td>35.4409</td>\n",
       "      <td>95.2542</td>\n",
       "      <td>115.2750</td>\n",
       "      <td>46.9026</td>\n",
       "      <td>96.2961</td>\n",
       "      <td>69.8867</td>\n",
       "      <td>60.7221</td>\n",
       "      <td>57.8468</td>\n",
       "      <td>104.1450</td>\n",
       "      <td>56.5849</td>\n",
       "    </tr>\n",
       "    <tr>\n",
       "      <th>136</th>\n",
       "      <td>41.5858</td>\n",
       "      <td>38.9214</td>\n",
       "      <td>41.2680</td>\n",
       "      <td>40.6924</td>\n",
       "      <td>130.9670</td>\n",
       "      <td>132.3970</td>\n",
       "      <td>130.0540</td>\n",
       "      <td>130.5350</td>\n",
       "      <td>182.7630</td>\n",
       "      <td>182.8590</td>\n",
       "      <td>...</td>\n",
       "      <td>54.7921</td>\n",
       "      <td>146.2410</td>\n",
       "      <td>176.6680</td>\n",
       "      <td>71.8011</td>\n",
       "      <td>148.6650</td>\n",
       "      <td>109.7470</td>\n",
       "      <td>88.8918</td>\n",
       "      <td>87.2602</td>\n",
       "      <td>160.1870</td>\n",
       "      <td>82.9604</td>\n",
       "    </tr>\n",
       "    <tr>\n",
       "      <th>133</th>\n",
       "      <td>40.1352</td>\n",
       "      <td>37.5985</td>\n",
       "      <td>39.8369</td>\n",
       "      <td>39.6990</td>\n",
       "      <td>126.0110</td>\n",
       "      <td>127.4390</td>\n",
       "      <td>125.2630</td>\n",
       "      <td>125.7160</td>\n",
       "      <td>171.2610</td>\n",
       "      <td>171.3780</td>\n",
       "      <td>...</td>\n",
       "      <td>53.6398</td>\n",
       "      <td>139.1510</td>\n",
       "      <td>167.9300</td>\n",
       "      <td>69.0357</td>\n",
       "      <td>142.6190</td>\n",
       "      <td>105.9960</td>\n",
       "      <td>85.1483</td>\n",
       "      <td>85.4165</td>\n",
       "      <td>153.0860</td>\n",
       "      <td>78.4516</td>\n",
       "    </tr>\n",
       "    <tr>\n",
       "      <th>105</th>\n",
       "      <td>33.9072</td>\n",
       "      <td>32.1175</td>\n",
       "      <td>33.6374</td>\n",
       "      <td>33.2803</td>\n",
       "      <td>102.3320</td>\n",
       "      <td>103.4930</td>\n",
       "      <td>102.1110</td>\n",
       "      <td>102.1340</td>\n",
       "      <td>123.5850</td>\n",
       "      <td>123.8100</td>\n",
       "      <td>...</td>\n",
       "      <td>47.3340</td>\n",
       "      <td>110.3550</td>\n",
       "      <td>136.8820</td>\n",
       "      <td>57.3952</td>\n",
       "      <td>118.9390</td>\n",
       "      <td>91.9076</td>\n",
       "      <td>65.3763</td>\n",
       "      <td>72.7998</td>\n",
       "      <td>125.9280</td>\n",
       "      <td>59.1373</td>\n",
       "    </tr>\n",
       "    <tr>\n",
       "      <th>84</th>\n",
       "      <td>60.6745</td>\n",
       "      <td>56.6062</td>\n",
       "      <td>60.2707</td>\n",
       "      <td>59.7681</td>\n",
       "      <td>206.1770</td>\n",
       "      <td>208.1960</td>\n",
       "      <td>204.7240</td>\n",
       "      <td>205.4560</td>\n",
       "      <td>278.2570</td>\n",
       "      <td>278.3600</td>\n",
       "      <td>...</td>\n",
       "      <td>87.8440</td>\n",
       "      <td>234.4030</td>\n",
       "      <td>282.9690</td>\n",
       "      <td>114.8880</td>\n",
       "      <td>240.5070</td>\n",
       "      <td>181.0390</td>\n",
       "      <td>133.9290</td>\n",
       "      <td>134.7860</td>\n",
       "      <td>258.4440</td>\n",
       "      <td>125.3300</td>\n",
       "    </tr>\n",
       "  </tbody>\n",
       "</table>\n",
       "<p>144 rows × 97985 columns</p>\n",
       "</div>"
      ],
      "text/plain": [
       "       0        1        2        3         4         5         6      \\\n",
       "67   49.3671  45.8879  48.4414  48.3523  171.3610  172.8810  170.3960   \n",
       "141  21.1713  19.7853  21.0176  20.7047   63.2437   63.9691   62.7852   \n",
       "88   31.6000  29.3683  31.0048  30.9396  134.0960  134.7480  133.4920   \n",
       "30   61.0945  56.8715  60.1547  59.5473  176.1190  178.3260  175.1700   \n",
       "57   34.5462  32.1278  34.1178  33.9520  124.5430  125.6940  123.8090   \n",
       "..       ...      ...      ...      ...       ...       ...       ...   \n",
       "83   28.2901  26.4755  28.0795  27.6775   86.3512   87.2897   85.7549   \n",
       "136  41.5858  38.9214  41.2680  40.6924  130.9670  132.3970  130.0540   \n",
       "133  40.1352  37.5985  39.8369  39.6990  126.0110  127.4390  125.2630   \n",
       "105  33.9072  32.1175  33.6374  33.2803  102.3320  103.4930  102.1110   \n",
       "84   60.6745  56.6062  60.2707  59.7681  206.1770  208.1960  204.7240   \n",
       "\n",
       "        7         8         9      ...    97975     97976     97977     97978  \\\n",
       "67   170.8880  197.9260  198.0460  ...  78.9507  193.3260  238.3320   97.8385   \n",
       "141   63.0014   94.9813   95.0346  ...  25.4017   69.2927   84.0495   34.1315   \n",
       "88   133.6370  125.5600  125.6180  ...  66.8803  154.0180  182.4130   78.8293   \n",
       "30   175.8780  238.5820  238.7530  ...  75.9980  187.5140  230.5820   95.7249   \n",
       "57   124.1790  150.9700  151.0640  ...  56.0025  141.8790  173.7540   70.7405   \n",
       "..        ...       ...       ...  ...      ...       ...       ...       ...   \n",
       "83    86.0333  125.0140  125.0740  ...  35.4409   95.2542  115.2750   46.9026   \n",
       "136  130.5350  182.7630  182.8590  ...  54.7921  146.2410  176.6680   71.8011   \n",
       "133  125.7160  171.2610  171.3780  ...  53.6398  139.1510  167.9300   69.0357   \n",
       "105  102.1340  123.5850  123.8100  ...  47.3340  110.3550  136.8820   57.3952   \n",
       "84   205.4560  278.2570  278.3600  ...  87.8440  234.4030  282.9690  114.8880   \n",
       "\n",
       "        97979     97980     97981     97982     97983     97984  \n",
       "67   208.9960  165.1300   99.4013  113.7470  221.1390   91.5276  \n",
       "141   69.4425   50.2801   45.8746   42.3486   75.4846   42.8967  \n",
       "88   175.3800  147.4420   63.2386   85.8132  167.3580   58.2388  \n",
       "30   195.1300  143.2800  122.3980  124.2440  209.0880  111.9460  \n",
       "57   150.6400  117.8280   74.0423   81.4512  160.2360   68.7602  \n",
       "..        ...       ...       ...       ...       ...       ...  \n",
       "83    96.2961   69.8867   60.7221   57.8468  104.1450   56.5849  \n",
       "136  148.6650  109.7470   88.8918   87.2602  160.1870   82.9604  \n",
       "133  142.6190  105.9960   85.1483   85.4165  153.0860   78.4516  \n",
       "105  118.9390   91.9076   65.3763   72.7998  125.9280   59.1373  \n",
       "84   240.5070  181.0390  133.9290  134.7860  258.4440  125.3300  \n",
       "\n",
       "[144 rows x 97985 columns]"
      ]
     },
     "execution_count": 26,
     "metadata": {},
     "output_type": "execute_result"
    }
   ],
   "source": [
    "PCA_train_atria"
   ]
  },
  {
   "cell_type": "code",
   "execution_count": 27,
   "id": "2d04c694",
   "metadata": {},
   "outputs": [],
   "source": [
    "testOutPCA_A = pca_EP_A.transform(PCA_test_atria)\n",
    "testOutPCA_V = pca_EP_V.transform(PCA_test_ventricles)\n",
    "testOutPCA_All = pca_EP_All.transform(PCA_test_all)\n",
    "testOutPCA_c = pca_EP_c.transform(PCA_test_c)"
   ]
  },
  {
   "cell_type": "code",
   "execution_count": 28,
   "id": "6594662d",
   "metadata": {
    "scrolled": false
   },
   "outputs": [
    {
     "name": "stdout",
     "output_type": "stream",
     "text": [
      "TestExperiment dataset loaded.\n",
      "Notes from the author:\n",
      "\"An example dataset to test GPErks' power!\"\n",
      "Dataset properties:\n",
      "-Input size: 6\n",
      "-Input parameters: ['CV_ventricles', 'k_ventricles', 'k_FEC', 'CV_atria', 'k_atria', 'k_BB']\n",
      "-Output size: 1\n",
      "-Output feature: ['y']\n",
      "-Sample size: 144\n",
      "-Discrepancy: 0.0081\n",
      "-Validation data available: No\n",
      "-Testing data available: Yes (size = 36)\n"
     ]
    },
    {
     "data": {
      "image/png": "[encoded data removed]",
      "text/plain": [
       "<Figure size 1183.33x374.444 with 6 Axes>"
      ]
     },
     "metadata": {},
     "output_type": "display_data"
    }
   ],
   "source": [
    "from GPErks.gp.data.dataset import Dataset\n",
    "dataset = Dataset(\n",
    "        X_train.values,\n",
    "        principalComponents_EP_All[:,0],\n",
    "        X_test=X_test.values,\n",
    "        y_test=testOutPCA_All,\n",
    "        x_labels=x_labels.values.squeeze().tolist(),\n",
    "    \n",
    "        )\n",
    "dataset.plot()\n",
    "#dataset.plot_pairwise()"
   ]
  },
  {
   "cell_type": "code",
   "execution_count": 29,
   "id": "c35052d7",
   "metadata": {
    "scrolled": false
   },
   "outputs": [
    {
     "name": "stdout",
     "output_type": "stream",
     "text": [
      "TestExperiment dataset loaded.\n",
      "Notes from the author:\n",
      "\"An example dataset to test GPErks' power!\"\n",
      "Dataset properties:\n",
      "-Input size: 6\n",
      "-Input parameters: ['CV_ventricles', 'k_ventricles', 'k_FEC', 'CV_atria', 'k_atria', 'k_BB']\n",
      "-Output size: 1\n",
      "-Output feature: ['y']\n",
      "-Sample size: 144\n",
      "-Discrepancy: 0.0081\n",
      "-Validation data available: No\n",
      "-Testing data available: Yes (size = 36)\n"
     ]
    },
    {
     "data": {
      "image/png": "[encoded data removed]",
      "text/plain": [
       "<Figure size 1183.33x374.444 with 6 Axes>"
      ]
     },
     "metadata": {},
     "output_type": "display_data"
    }
   ],
   "source": [
    "from GPErks.gp.data.dataset import Dataset\n",
    "dataset = Dataset(\n",
    "        X_train.values,\n",
    "        principalComponents_EP_A[:,0],\n",
    "        X_test=X_test.values,\n",
    "        y_test=testOutPCA_A,\n",
    "        x_labels=x_labels.values.squeeze().tolist(),\n",
    "    \n",
    "        )\n",
    "dataset.plot()\n",
    "#dataset.plot_pairwise()"
   ]
  },
  {
   "cell_type": "code",
   "execution_count": 30,
   "id": "2b34be62",
   "metadata": {
    "scrolled": true
   },
   "outputs": [
    {
     "name": "stdout",
     "output_type": "stream",
     "text": [
      "TestExperiment dataset loaded.\n",
      "Notes from the author:\n",
      "\"An example dataset to test GPErks' power!\"\n",
      "Dataset properties:\n",
      "-Input size: 6\n",
      "-Input parameters: ['CV_ventricles', 'k_ventricles', 'k_FEC', 'CV_atria', 'k_atria', 'k_BB']\n",
      "-Output size: 1\n",
      "-Output feature: ['y']\n",
      "-Sample size: 144\n",
      "-Discrepancy: 0.0081\n",
      "-Validation data available: No\n",
      "-Testing data available: Yes (size = 36)\n"
     ]
    },
    {
     "data": {
      "image/png": "[encoded data removed]",
      "text/plain": [
       "<Figure size 1183.33x374.444 with 6 Axes>"
      ]
     },
     "metadata": {},
     "output_type": "display_data"
    }
   ],
   "source": [
    "from GPErks.gp.data.dataset import Dataset\n",
    "dataset = Dataset(\n",
    "        X_train.values,\n",
    "        principalComponents_EP_V[:,0],\n",
    "        X_test=X_test.values,\n",
    "        y_test=testOutPCA_V,\n",
    "        x_labels=x_labels.values.squeeze().tolist(),\n",
    "    \n",
    "        )\n",
    "dataset.plot()"
   ]
  },
  {
   "cell_type": "code",
   "execution_count": 31,
   "id": "b8a092c1",
   "metadata": {},
   "outputs": [
    {
     "name": "stdout",
     "output_type": "stream",
     "text": [
      "TestExperiment dataset loaded.\n",
      "Notes from the author:\n",
      "\"An example dataset to test GPErks' power!\"\n",
      "Dataset properties:\n",
      "-Input size: 6\n",
      "-Input parameters: ['CV_ventricles', 'k_ventricles', 'k_FEC', 'CV_atria', 'k_atria', 'k_BB']\n",
      "-Output size: 1\n",
      "-Output feature: ['y']\n",
      "-Sample size: 144\n",
      "-Discrepancy: 0.0081\n",
      "-Validation data available: No\n",
      "-Testing data available: Yes (size = 36)\n"
     ]
    },
    {
     "data": {
      "image/png": "[encoded data removed]",
      "text/plain": [
       "<Figure size 1183.33x374.444 with 6 Axes>"
      ]
     },
     "metadata": {},
     "output_type": "display_data"
    }
   ],
   "source": [
    "from GPErks.gp.data.dataset import Dataset\n",
    "dataset = Dataset(\n",
    "        X_train.values,\n",
    "        principalComponents_EP_c[:,1],\n",
    "        X_test=X_test.values,\n",
    "        y_test=testOutPCA_c,\n",
    "        x_labels=x_labels.values.squeeze().tolist(),\n",
    "    \n",
    "        )\n",
    "dataset.plot()"
   ]
  },
  {
   "cell_type": "code",
   "execution_count": 64,
   "id": "6de82cb0",
   "metadata": {},
   "outputs": [],
   "source": [
    "end=50"
   ]
  },
  {
   "cell_type": "code",
   "execution_count": 65,
   "id": "bfc89423",
   "metadata": {},
   "outputs": [],
   "source": [
    "GPE_output_A = pd.DataFrame(principalComponents_EP_A[:,0:end])\n",
    "GPE_output_V = pd.DataFrame(principalComponents_EP_V[:,0:end])\n",
    "GPE_output_All = pd.DataFrame(principalComponents_EP_All[:,0:end])\n",
    "GPE_output_c = pd.DataFrame(principalComponents_EP_c[:,0:end])"
   ]
  },
  {
   "cell_type": "code",
   "execution_count": 66,
   "id": "25c5d481",
   "metadata": {},
   "outputs": [
    {
     "name": "stdout",
     "output_type": "stream",
     "text": [
      "0\n",
      "1\n",
      "2\n",
      "3\n",
      "4\n",
      "5\n",
      "6\n",
      "7\n",
      "8\n",
      "9\n",
      "10\n",
      "11\n",
      "12\n",
      "13\n",
      "14\n",
      "15\n",
      "16\n",
      "17\n",
      "18\n",
      "19\n",
      "20\n",
      "21\n",
      "22\n",
      "23\n",
      "24\n",
      "25\n",
      "26\n",
      "27\n",
      "28\n",
      "29\n",
      "30\n",
      "31\n",
      "32\n",
      "33\n",
      "34\n",
      "35\n",
      "36\n",
      "37\n",
      "38\n",
      "39\n",
      "40\n",
      "41\n",
      "42\n",
      "43\n",
      "44\n",
      "45\n",
      "46\n",
      "47\n",
      "48\n",
      "49\n"
     ]
    }
   ],
   "source": [
    "GPE_All = GPE.ensemble(X_train,GPE_output_All,mean_func='linear')"
   ]
  },
  {
   "cell_type": "code",
   "execution_count": 67,
   "id": "0b8bfbef",
   "metadata": {
    "scrolled": true
   },
   "outputs": [
    {
     "name": "stdout",
     "output_type": "stream",
     "text": [
      "0\n",
      "1\n",
      "2\n",
      "3\n",
      "4\n",
      "5\n",
      "6\n",
      "7\n",
      "8\n",
      "9\n",
      "10\n",
      "11\n",
      "12\n",
      "13\n",
      "14\n",
      "15\n",
      "16\n",
      "17\n",
      "18\n",
      "19\n",
      "20\n",
      "21\n",
      "22\n",
      "23\n",
      "24\n",
      "25\n",
      "26\n",
      "27\n",
      "28\n",
      "29\n",
      "30\n",
      "31\n",
      "32\n",
      "33\n",
      "34\n",
      "35\n",
      "36\n",
      "37\n",
      "38\n",
      "39\n",
      "40\n",
      "41\n",
      "42\n",
      "43\n",
      "44\n",
      "45\n",
      "46\n",
      "47\n",
      "48\n",
      "49\n"
     ]
    }
   ],
   "source": [
    "GPE_A = GPE.ensemble(X_train,GPE_output_A,mean_func='linear')"
   ]
  },
  {
   "cell_type": "code",
   "execution_count": 68,
   "id": "5dcfc198",
   "metadata": {
    "scrolled": true
   },
   "outputs": [
    {
     "name": "stdout",
     "output_type": "stream",
     "text": [
      "0\n",
      "1\n",
      "2\n",
      "3\n",
      "4\n",
      "5\n",
      "6\n",
      "7\n",
      "8\n",
      "9\n",
      "10\n",
      "11\n",
      "12\n",
      "13\n",
      "14\n",
      "15\n",
      "16\n",
      "17\n",
      "18\n",
      "19\n",
      "20\n",
      "21\n",
      "22\n",
      "23\n",
      "24\n",
      "25\n",
      "26\n",
      "27\n",
      "28\n",
      "29\n",
      "30\n",
      "31\n",
      "32\n",
      "33\n",
      "34\n",
      "35\n",
      "36\n",
      "37\n",
      "38\n",
      "39\n",
      "40\n",
      "41\n",
      "42\n",
      "43\n",
      "44\n",
      "45\n",
      "46\n",
      "47\n",
      "48\n",
      "49\n"
     ]
    }
   ],
   "source": [
    "GPE_V = GPE.ensemble(X_train,GPE_output_V,mean_func='linear')"
   ]
  },
  {
   "cell_type": "code",
   "execution_count": 69,
   "id": "7e4e1d65",
   "metadata": {},
   "outputs": [
    {
     "name": "stdout",
     "output_type": "stream",
     "text": [
      "0\n",
      "1\n",
      "2\n",
      "3\n",
      "4\n",
      "5\n",
      "6\n",
      "7\n",
      "8\n",
      "9\n",
      "10\n",
      "11\n",
      "12\n",
      "13\n",
      "14\n",
      "15\n",
      "16\n",
      "17\n",
      "18\n",
      "19\n",
      "20\n",
      "21\n",
      "22\n",
      "23\n",
      "24\n",
      "25\n",
      "26\n",
      "27\n",
      "28\n",
      "29\n",
      "30\n",
      "31\n",
      "32\n",
      "33\n",
      "34\n",
      "35\n",
      "36\n",
      "37\n",
      "38\n",
      "39\n",
      "40\n",
      "41\n",
      "42\n",
      "43\n",
      "44\n",
      "45\n",
      "46\n",
      "47\n",
      "48\n",
      "49\n"
     ]
    }
   ],
   "source": [
    "GPE_C = GPE.ensemble(X_train,GPE_output_c,mean_func='linear')"
   ]
  },
  {
   "cell_type": "code",
   "execution_count": 70,
   "id": "ba421c91",
   "metadata": {
    "scrolled": true
   },
   "outputs": [
    {
     "data": {
      "text/plain": [
       "tensor([2.3757e+08, 1.6162e+08, 8.2852e+06, 6.3659e+06, 1.0180e+06, 2.6485e+05,\n",
       "        7.0275e+04, 3.2161e+04, 1.8793e+04, 6.8291e+03, 9.8051e+03, 7.4537e+03,\n",
       "        7.8368e+03, 7.2259e+03, 2.6468e+03, 4.7331e+03, 2.1807e+03, 1.3532e+03,\n",
       "        1.3502e+03, 1.2437e+03, 8.5328e+02, 1.2640e+03, 1.0233e+03, 6.1515e+02,\n",
       "        5.1159e+02, 4.1460e+02, 3.4379e+02, 5.3467e+02, 5.4184e+02, 3.7229e+02,\n",
       "        2.4388e+02, 3.3577e+02, 2.9646e+02, 3.2226e+02, 2.7929e+02, 1.0390e+02,\n",
       "        1.3584e+02, 7.0270e+01, 1.3315e+02, 1.0921e+02, 5.7126e+01, 1.6833e+02,\n",
       "        1.3289e+02, 8.7006e+01, 7.7809e+01, 4.8537e+01, 1.2359e+02, 4.7882e+01,\n",
       "        4.1163e+01, 9.6880e+01], dtype=torch.float64, grad_fn=<MeanBackward1>)"
      ]
     },
     "execution_count": 70,
     "metadata": {},
     "output_type": "execute_result"
    }
   ],
   "source": [
    "GPE_All.MSE(X_test,pd.DataFrame(testOutPCA_All[:,0:end]))"
   ]
  },
  {
   "cell_type": "code",
   "execution_count": null,
   "id": "e0f9278f",
   "metadata": {},
   "outputs": [],
   "source": []
  },
  {
   "cell_type": "code",
   "execution_count": 81,
   "id": "6b37def4",
   "metadata": {
    "scrolled": false
   },
   "outputs": [
    {
     "data": {
      "text/plain": [
       "Text(0.5, 0, 'component')"
      ]
     },
     "execution_count": 81,
     "metadata": {},
     "output_type": "execute_result"
    },
    {
     "data": {
      "image/png": "[encoded data removed]",
      "text/plain": [
       "<Figure size 640x480 with 1 Axes>"
      ]
     },
     "metadata": {},
     "output_type": "display_data"
    }
   ],
   "source": [
    "plt.plot(GPE_All.R2(X_test,pd.DataFrame(testOutPCA_All[:,0:end])).detach().numpy(),'o')\n",
    "plt.ylabel('$R^2$')\n",
    "plt.xlabel('component')"
   ]
  },
  {
   "cell_type": "code",
   "execution_count": 82,
   "id": "56db020b",
   "metadata": {},
   "outputs": [
    {
     "data": {
      "text/plain": [
       "Text(0.5, 0, 'component')"
      ]
     },
     "execution_count": 82,
     "metadata": {},
     "output_type": "execute_result"
    },
    {
     "data": {
      "image/png": "[encoded data removed]",
      "text/plain": [
       "<Figure size 640x480 with 1 Axes>"
      ]
     },
     "metadata": {},
     "output_type": "display_data"
    }
   ],
   "source": [
    "plt.plot(GPE_All.ISE(X_test,pd.DataFrame(testOutPCA_All[:,0:end])).detach().numpy(),'o')\n",
    "plt.ylabel('$ISE^2$')\n",
    "plt.xlabel('component')"
   ]
  },
  {
   "cell_type": "code",
   "execution_count": 83,
   "id": "50067d4c",
   "metadata": {
    "scrolled": true
   },
   "outputs": [
    {
     "data": {
      "text/plain": [
       "Text(0.5, 0, 'component')"
      ]
     },
     "execution_count": 83,
     "metadata": {},
     "output_type": "execute_result"
    },
    {
     "data": {
      "image/png": "[encoded data removed]",
      "text/plain": [
       "<Figure size 640x480 with 1 Axes>"
      ]
     },
     "metadata": {},
     "output_type": "display_data"
    }
   ],
   "source": [
    "plt.plot(GPE_A.MSE(X_test,pd.DataFrame(testOutPCA_A[:,0:end])).detach().numpy(),'o')\n",
    "plt.ylabel('$R^2$')\n",
    "plt.xlabel('component')"
   ]
  },
  {
   "cell_type": "code",
   "execution_count": 84,
   "id": "684575cf",
   "metadata": {},
   "outputs": [
    {
     "data": {
      "text/plain": [
       "Text(0.5, 0, 'component')"
      ]
     },
     "execution_count": 84,
     "metadata": {},
     "output_type": "execute_result"
    },
    {
     "data": {
      "image/png": "[encoded data removed]",
      "text/plain": [
       "<Figure size 640x480 with 1 Axes>"
      ]
     },
     "metadata": {},
     "output_type": "display_data"
    }
   ],
   "source": [
    "plt.plot(GPE_A.R2(X_test,pd.DataFrame(testOutPCA_A[:,0:end])).detach().numpy(),'o')\n",
    "plt.ylabel('$R^2$')\n",
    "plt.xlabel('component')"
   ]
  },
  {
   "cell_type": "code",
   "execution_count": 85,
   "id": "c02e4f2f",
   "metadata": {},
   "outputs": [
    {
     "data": {
      "text/plain": [
       "Text(0.5, 0, 'component')"
      ]
     },
     "execution_count": 85,
     "metadata": {},
     "output_type": "execute_result"
    },
    {
     "data": {
      "image/png": "[encoded data removed]",
      "text/plain": [
       "<Figure size 640x480 with 1 Axes>"
      ]
     },
     "metadata": {},
     "output_type": "display_data"
    }
   ],
   "source": [
    "plt.plot(GPE_A.ISE(X_test,pd.DataFrame(testOutPCA_A[:,0:end])).detach().numpy(),'o')\n",
    "plt.ylabel('$ISE^2$')\n",
    "plt.xlabel('component')"
   ]
  },
  {
   "cell_type": "code",
   "execution_count": 86,
   "id": "ac039f25",
   "metadata": {},
   "outputs": [
    {
     "data": {
      "text/plain": [
       "(36,)"
      ]
     },
     "execution_count": 86,
     "metadata": {},
     "output_type": "execute_result"
    }
   ],
   "source": [
    "np.var(testOutPCA_V[:,0:end],axis=1).shape"
   ]
  },
  {
   "cell_type": "code",
   "execution_count": 87,
   "id": "d02dcf14",
   "metadata": {
    "scrolled": false
   },
   "outputs": [
    {
     "data": {
      "text/plain": [
       "tensor([3.0366e+04, 9.5092e+03, 4.2017e+02, 3.9115e+02, 5.4727e+01, 1.0930e+02,\n",
       "        7.4961e+01, 7.9458e+01, 1.0108e+02, 7.0216e+01, 8.1760e+01, 4.5351e+01,\n",
       "        5.3240e+01, 7.5407e+01, 5.5216e+01, 1.7030e+02, 1.9398e+02, 3.2051e+01,\n",
       "        5.7139e+01, 6.1103e+01, 6.4442e+01, 4.5491e+01, 4.2298e+01, 1.2353e+02,\n",
       "        4.5603e+01, 3.7710e+01, 3.3439e+01, 3.3256e+01, 2.0771e+01, 2.7871e+01,\n",
       "        3.5142e+01, 4.2814e+01, 1.4823e+01, 4.9607e+01, 1.0041e+01, 2.1705e+01,\n",
       "        1.6911e+01, 1.1273e+01, 1.0437e+01, 5.1932e+00, 1.3316e+01, 1.3561e+01,\n",
       "        1.0708e+01, 1.1211e+01, 7.2497e+00, 9.6598e+00, 5.9302e+00, 6.6089e+00,\n",
       "        7.4935e+00, 5.0316e+00], dtype=torch.float64, grad_fn=<MeanBackward1>)"
      ]
     },
     "execution_count": 87,
     "metadata": {},
     "output_type": "execute_result"
    }
   ],
   "source": [
    "GPE_V.MSE(X_test,pd.DataFrame(testOutPCA_V[:,0:end]))"
   ]
  },
  {
   "cell_type": "code",
   "execution_count": 88,
   "id": "1d18db6d",
   "metadata": {
    "scrolled": true
   },
   "outputs": [
    {
     "data": {
      "text/plain": [
       "Text(0, 0.5, '$R^2$')"
      ]
     },
     "execution_count": 88,
     "metadata": {},
     "output_type": "execute_result"
    },
    {
     "data": {
      "image/png": "[encoded data removed]",
      "text/plain": [
       "<Figure size 640x480 with 1 Axes>"
      ]
     },
     "metadata": {},
     "output_type": "display_data"
    }
   ],
   "source": [
    "plt.plot(GPE_V.R2(X_test,pd.DataFrame(testOutPCA_V[:,0:end])).detach().numpy(),'o')\n",
    "plt.ylabel('$R^2$')"
   ]
  },
  {
   "cell_type": "code",
   "execution_count": 89,
   "id": "edcdde49",
   "metadata": {},
   "outputs": [
    {
     "data": {
      "text/plain": [
       "Text(0.5, 0, 'component')"
      ]
     },
     "execution_count": 89,
     "metadata": {},
     "output_type": "execute_result"
    },
    {
     "data": {
      "image/png": "[encoded data removed]",
      "text/plain": [
       "<Figure size 640x480 with 1 Axes>"
      ]
     },
     "metadata": {},
     "output_type": "display_data"
    }
   ],
   "source": [
    "plt.plot(GPE_V.ISE(X_test,pd.DataFrame(testOutPCA_V[:,0:end])).detach().numpy(),'o')\n",
    "plt.ylabel('ISE')\n",
    "plt.xlabel('component')"
   ]
  },
  {
   "cell_type": "code",
   "execution_count": 90,
   "id": "1a261754",
   "metadata": {
    "scrolled": true
   },
   "outputs": [
    {
     "data": {
      "text/plain": [
       "Text(0, 0.5, '$R^2$')"
      ]
     },
     "execution_count": 90,
     "metadata": {},
     "output_type": "execute_result"
    },
    {
     "data": {
      "image/png": "[encoded data removed]",
      "text/plain": [
       "<Figure size 640x480 with 1 Axes>"
      ]
     },
     "metadata": {},
     "output_type": "display_data"
    }
   ],
   "source": [
    "plt.plot(GPE_C.R2(X_test,pd.DataFrame(testOutPCA_c[:,0:end])).detach().numpy(),'o')\n",
    "plt.ylabel('$R^2$')"
   ]
  },
  {
   "cell_type": "code",
   "execution_count": 92,
   "id": "742ed154",
   "metadata": {},
   "outputs": [
    {
     "data": {
      "text/plain": [
       "Text(0, 0.5, '$R^2$')"
      ]
     },
     "execution_count": 92,
     "metadata": {},
     "output_type": "execute_result"
    },
    {
     "data": {
      "image/png": "[encoded data removed]",
      "text/plain": [
       "<Figure size 640x480 with 1 Axes>"
      ]
     },
     "metadata": {},
     "output_type": "display_data"
    }
   ],
   "source": [
    "plt.plot(GPE_C.ISE(X_test,pd.DataFrame(testOutPCA_c[:,0:end])).detach().numpy(),'o')\n",
    "plt.ylabel('$R^2$')"
   ]
  },
  {
   "cell_type": "code",
   "execution_count": 91,
   "id": "5277a6b7",
   "metadata": {},
   "outputs": [],
   "source": [
    "compPred_All = GPE_All.predict(X_test)\n",
    "compPred_A = GPE_A.predict(X_test)\n",
    "compPred_V = GPE_V.predict(X_test)\n",
    "compPred_C = GPE_C.predict(X_test)"
   ]
  },
  {
   "cell_type": "code",
   "execution_count": 50,
   "id": "8f5775ab",
   "metadata": {},
   "outputs": [
    {
     "data": {
      "text/plain": [
       "(36, 10)"
      ]
     },
     "execution_count": 50,
     "metadata": {},
     "output_type": "execute_result"
    }
   ],
   "source": [
    "compPred_A.detach().numpy().shape"
   ]
  },
  {
   "cell_type": "code",
   "execution_count": 51,
   "id": "bce4e52f",
   "metadata": {},
   "outputs": [
    {
     "data": {
      "text/plain": [
       "(97985,)"
      ]
     },
     "execution_count": 51,
     "metadata": {},
     "output_type": "execute_result"
    }
   ],
   "source": [
    "pca_EP_A.mean_.shape"
   ]
  },
  {
   "cell_type": "code",
   "execution_count": 52,
   "id": "c1154d56",
   "metadata": {
    "scrolled": true
   },
   "outputs": [
    {
     "data": {
      "text/plain": [
       "(144, 97985)"
      ]
     },
     "execution_count": 52,
     "metadata": {},
     "output_type": "execute_result"
    }
   ],
   "source": [
    "pca_EP_A.components_.shape"
   ]
  },
  {
   "cell_type": "code",
   "execution_count": 53,
   "id": "3c58e9c8",
   "metadata": {
    "scrolled": true
   },
   "outputs": [
    {
     "data": {
      "text/plain": [
       "(97985,)"
      ]
     },
     "execution_count": 53,
     "metadata": {},
     "output_type": "execute_result"
    }
   ],
   "source": [
    "np.matmul(compPred_A.detach().numpy(),pca_EP_A.components_[0:end])[0].shape"
   ]
  },
  {
   "cell_type": "code",
   "execution_count": 54,
   "id": "3183695b",
   "metadata": {},
   "outputs": [
    {
     "data": {
      "text/plain": [
       "26     1796.297472\n",
       "56      597.860914\n",
       "50      388.327592\n",
       "103    1069.781998\n",
       "25      722.597980\n",
       "65     2308.750988\n",
       "1      2155.532325\n",
       "23     2351.181653\n",
       "170     597.288938\n",
       "27     2090.425839\n",
       "40     1932.826772\n",
       "122    2376.727401\n",
       "130     364.592920\n",
       "126    2132.366691\n",
       "89     1974.026105\n",
       "121    2900.562404\n",
       "52     1336.500558\n",
       "80     1282.716429\n",
       "127    3066.051018\n",
       "4       683.194528\n",
       "139     655.453169\n",
       "134     663.287295\n",
       "131     657.073382\n",
       "153    1960.985778\n",
       "156    1122.610161\n",
       "17     2774.663027\n",
       "172    1257.392945\n",
       "135     466.075295\n",
       "159    2446.200053\n",
       "3       440.631534\n",
       "152     482.606355\n",
       "90     2481.606835\n",
       "146    2226.468896\n",
       "132    3774.631446\n",
       "117    1407.082932\n",
       "69     1046.370579\n",
       "dtype: float64"
      ]
     },
     "execution_count": 54,
     "metadata": {},
     "output_type": "execute_result"
    }
   ],
   "source": [
    "np.var(PCA_test_atria,axis=1)"
   ]
  },
  {
   "cell_type": "code",
   "execution_count": 56,
   "id": "5577ef35",
   "metadata": {},
   "outputs": [],
   "source": [
    "r2_atria = np.zeros(end)\n",
    "r2_ventricle = np.zeros(end)\n",
    "r2_all = np.zeros(end)\n",
    "r2_c = np.zeros(end)\n",
    "for i in range(end):\n",
    "    j=i+1\n",
    "    r2_atria[i] =(1-((np.matmul(compPred_A.detach().numpy()[:,0:j],pca_EP_A.components_[0:j])+pca_EP_A.mean_-PCA_test_atria)**2).mean(axis=1)/np.var(PCA_test_atria,axis=1)).mean()\n",
    "    r2_ventricle[i]=(1-((np.matmul(compPred_V.detach().numpy()[:,0:j],pca_EP_V.components_[0:j])+pca_EP_V.mean_-PCA_test_ventricles)**2).mean(axis=1)/np.var(PCA_test_ventricles,axis=1)).mean()\n",
    "    r2_all[i]=(1-((np.matmul(compPred_All.detach().numpy()[:,0:j],pca_EP_All.components_[0:j])+pca_EP_All.mean_-PCA_test_all)**2).mean(axis=1)/np.var(PCA_test_all,axis=1)).mean()\n",
    "    r2_c[i]=(1-((np.matmul(compPred_C.detach().numpy()[:,0:j],pca_EP_c.components_[0:j])+pca_EP_c.mean_-PCA_test_c)**2).mean(axis=1)/np.var(PCA_test_c,axis=1)).mean()"
   ]
  },
  {
   "cell_type": "code",
   "execution_count": 63,
   "id": "5a4d8d31",
   "metadata": {},
   "outputs": [
    {
     "data": {
      "text/plain": [
       "Text(0.5, 0, 'Number of components')"
      ]
     },
     "execution_count": 63,
     "metadata": {},
     "output_type": "execute_result"
    },
    {
     "data": {
      "image/png": "[encoded data removed]",
      "text/plain": [
       "<Figure size 640x480 with 1 Axes>"
      ]
     },
     "metadata": {},
     "output_type": "display_data"
    }
   ],
   "source": [
    "plt.plot(np.linspace(1,end,end),r2_c)\n",
    "plt.ylabel('$R^2$')\n",
    "plt.xlabel('Number of components')"
   ]
  },
  {
   "cell_type": "code",
   "execution_count": 53,
   "id": "58b3d428",
   "metadata": {},
   "outputs": [
    {
     "name": "stdout",
     "output_type": "stream",
     "text": [
      "[0.380173, 0.798883]\n",
      "[0.200114, 0.499215]\n",
      "[1.2811, 8.39681]\n",
      "[0.300285, 1.02928]\n",
      "[0.201206, 0.499887]\n",
      "[1.02207, 5.67575]\n"
     ]
    }
   ],
   "source": [
    "nDim = X_train.shape[1]\n",
    "boundsMaxMin = []\n",
    "for i in range(nDim):\n",
    "    boundsMaxMin.append([np.min(X_train.iloc[:,i]),np.max(X_train.iloc[:,i])])\n",
    "    print(boundsMaxMin[i])"
   ]
  },
  {
   "cell_type": "code",
   "execution_count": 130,
   "id": "06ad1c48",
   "metadata": {
    "scrolled": true
   },
   "outputs": [
    {
     "name": "stderr",
     "output_type": "stream",
     "text": [
      "C:\\Users\\pmzcwl\\AppData\\Local\\Temp\\ipykernel_18564\\2691961068.py:24: DeprecationWarning: `salib.sample.saltelli` will be removed in SALib 1.5. Please use `salib.sample.sobol`\n",
      "  param_values = saltelli.sample(problem, 1024)\n"
     ]
    }
   ],
   "source": [
    "##### from SALib.sample import saltelli\n",
    "from SALib.sample import saltelli\n",
    "from SALib.analyze import sobol\n",
    "from SALib.test_functions import Ishigami\n",
    "import numpy as np\n",
    "\n",
    "# Define the model inputs\n",
    "problem = {\n",
    "    'num_vars': nDim,\n",
    "    'names': x_labels,\n",
    "    'bounds': boundsMaxMin\n",
    "    #'bounds': [[-1, 1],\n",
    "     #          [-1, 1],\n",
    "      #         [-1, 1],\n",
    "       #        [-1, 1],\n",
    "        #       [-1, 1],\n",
    "         #      [-1, 1],\n",
    "          #     [-1, 1],\n",
    "           #    [-1, 1],\n",
    "            #   [-1,1]]\n",
    "}\n",
    "\n",
    "# Generate samples\n",
    "param_values = saltelli.sample(problem, 1024)\n",
    "\n",
    "data1 = pd.DataFrame(param_values,columns=x_labels)\n",
    "\n",
    "\n",
    "Ymean_V=GPE_V.predict(data1)\n",
    "Ymean_C = GPE_C.predict(data1)"
   ]
  },
  {
   "cell_type": "code",
   "execution_count": 55,
   "id": "7b6eb186",
   "metadata": {},
   "outputs": [],
   "source": [
    "nMod = len(GPE_V.models)"
   ]
  },
  {
   "cell_type": "code",
   "execution_count": 56,
   "id": "21e3a6a8",
   "metadata": {},
   "outputs": [
    {
     "name": "stdout",
     "output_type": "stream",
     "text": [
      "                        ST   ST_conf\n",
      "(CV_ventricles,)  0.000016  0.000004\n",
      "(k_ventricles,)   0.000011  0.000003\n",
      "(k_FEC,)          0.000009  0.000002\n",
      "(CV_atria,)       0.893112  0.066353\n",
      "(k_atria,)        0.021808  0.002357\n",
      "(k_BB,)           0.099770  0.011284\n",
      "                        S1   S1_conf\n",
      "(CV_ventricles,)  0.000053  0.000337\n",
      "(k_ventricles,)  -0.000027  0.000311\n",
      "(k_FEC,)         -0.000057  0.000234\n",
      "(CV_atria,)       0.876985  0.093402\n",
      "(k_atria,)        0.018966  0.013179\n",
      "(k_BB,)           0.090605  0.032185\n",
      "Empty DataFrame\n",
      "Columns: [S2, S2_conf]\n",
      "Index: []\n",
      "                        ST   ST_conf\n",
      "(CV_ventricles,)  0.000086  0.000028\n",
      "(k_ventricles,)   0.000117  0.000043\n",
      "(k_FEC,)          0.000121  0.000029\n",
      "(CV_atria,)       0.121404  0.015184\n",
      "(k_atria,)        0.006379  0.000784\n",
      "(k_BB,)           0.978462  0.086557\n",
      "                        S1   S1_conf\n",
      "(CV_ventricles,) -0.000295  0.000743\n",
      "(k_ventricles,)   0.000159  0.000885\n",
      "(k_FEC,)          0.000105  0.000967\n",
      "(CV_atria,)       0.012755  0.032237\n",
      "(k_atria,)        0.005351  0.006745\n",
      "(k_BB,)           0.885754  0.094588\n",
      "Empty DataFrame\n",
      "Columns: [S2, S2_conf]\n",
      "Index: []\n",
      "                        ST   ST_conf\n",
      "(CV_ventricles,)  0.000088  0.000016\n",
      "(k_ventricles,)   0.000099  0.000016\n",
      "(k_FEC,)          0.000218  0.000041\n",
      "(CV_atria,)       0.138971  0.015474\n",
      "(k_atria,)        0.943335  0.086548\n",
      "(k_BB,)           0.048618  0.005801\n",
      "                        S1   S1_conf\n",
      "(CV_ventricles,)  0.000429  0.000824\n",
      "(k_ventricles,)   0.000034  0.000801\n",
      "(k_FEC,)          0.000076  0.001156\n",
      "(CV_atria,)       0.026556  0.034325\n",
      "(k_atria,)        0.823216  0.070492\n",
      "(k_BB,)           0.032033  0.017576\n",
      "Empty DataFrame\n",
      "Columns: [S2, S2_conf]\n",
      "Index: []\n",
      "                        ST   ST_conf\n",
      "(CV_ventricles,)  0.000205  0.000038\n",
      "(k_ventricles,)   0.000275  0.000076\n",
      "(k_FEC,)          0.000132  0.000019\n",
      "(CV_atria,)       0.096231  0.012856\n",
      "(k_atria,)        0.026104  0.004746\n",
      "(k_BB,)           0.979996  0.083979\n",
      "                        S1   S1_conf\n",
      "(CV_ventricles,) -0.000613  0.001359\n",
      "(k_ventricles,)  -0.000018  0.001110\n",
      "(k_FEC,)          0.000587  0.001000\n",
      "(CV_atria,)      -0.010169  0.028340\n",
      "(k_atria,)       -0.002419  0.013640\n",
      "(k_BB,)           0.871264  0.096722\n",
      "Empty DataFrame\n",
      "Columns: [S2, S2_conf]\n",
      "Index: []\n",
      "                        ST   ST_conf\n",
      "(CV_ventricles,)  0.000233  0.000045\n",
      "(k_ventricles,)   0.000357  0.000092\n",
      "(k_FEC,)          0.000162  0.000029\n",
      "(CV_atria,)       0.105450  0.016972\n",
      "(k_atria,)        0.982289  0.146968\n",
      "(k_BB,)           0.929795  0.118562\n",
      "                        S1   S1_conf\n",
      "(CV_ventricles,)  0.000177  0.001523\n",
      "(k_ventricles,)   0.000725  0.001330\n",
      "(k_FEC,)         -0.000108  0.001077\n",
      "(CV_atria,)       0.012862  0.028199\n",
      "(k_atria,)        0.079880  0.087882\n",
      "(k_BB,)           0.054319  0.098496\n",
      "Empty DataFrame\n",
      "Columns: [S2, S2_conf]\n",
      "Index: []\n",
      "                        ST   ST_conf\n",
      "(CV_ventricles,)  0.000850  0.000134\n",
      "(k_ventricles,)   0.001248  0.000198\n",
      "(k_FEC,)          0.000405  0.000077\n",
      "(CV_atria,)       0.116363  0.013339\n",
      "(k_atria,)        0.840823  0.084264\n",
      "(k_BB,)           0.202792  0.027105\n",
      "                        S1   S1_conf\n",
      "(CV_ventricles,) -0.001460  0.002593\n",
      "(k_ventricles,)  -0.004469  0.002735\n",
      "(k_FEC,)          0.000001  0.001791\n",
      "(CV_atria,)       0.017194  0.028523\n",
      "(k_atria,)        0.710602  0.074532\n",
      "(k_BB,)           0.129611  0.037210\n",
      "Empty DataFrame\n",
      "Columns: [S2, S2_conf]\n",
      "Index: []\n",
      "                        ST   ST_conf\n",
      "(CV_ventricles,)  0.000343  0.000063\n",
      "(k_ventricles,)   0.000692  0.000105\n",
      "(k_FEC,)          0.000597  0.000098\n",
      "(CV_atria,)       0.139231  0.018299\n",
      "(k_atria,)        0.259830  0.032933\n",
      "(k_BB,)           0.905033  0.097859\n",
      "                        S1   S1_conf\n",
      "(CV_ventricles,)  0.000126  0.001545\n",
      "(k_ventricles,)   0.000678  0.002132\n",
      "(k_FEC,)         -0.000811  0.002197\n",
      "(CV_atria,)       0.073152  0.037663\n",
      "(k_atria,)        0.031223  0.041853\n",
      "(k_BB,)           0.637817  0.087368\n",
      "Empty DataFrame\n",
      "Columns: [S2, S2_conf]\n",
      "Index: []\n",
      "                        ST   ST_conf\n",
      "(CV_ventricles,)  0.001313  0.000183\n",
      "(k_ventricles,)   0.000145  0.000021\n",
      "(k_FEC,)          0.000266  0.000062\n",
      "(CV_atria,)       0.090761  0.013433\n",
      "(k_atria,)        0.824173  0.120614\n",
      "(k_BB,)           0.922675  0.096989\n",
      "                        S1   S1_conf\n",
      "(CV_ventricles,) -0.000395  0.003231\n",
      "(k_ventricles,)  -0.000860  0.000931\n",
      "(k_FEC,)         -0.001167  0.001652\n",
      "(CV_atria,)       0.008674  0.023046\n",
      "(k_atria,)        0.023686  0.087982\n",
      "(k_BB,)           0.142994  0.107003\n",
      "Empty DataFrame\n",
      "Columns: [S2, S2_conf]\n",
      "Index: []\n",
      "                        ST   ST_conf\n",
      "(CV_ventricles,)  0.000855  0.000129\n",
      "(k_ventricles,)   0.001545  0.000228\n",
      "(k_FEC,)          0.000656  0.000095\n",
      "(CV_atria,)       0.070333  0.011704\n",
      "(k_atria,)        0.310141  0.048424\n",
      "(k_BB,)           0.968103  0.092590\n",
      "                        S1   S1_conf\n",
      "(CV_ventricles,)  0.000122  0.002807\n",
      "(k_ventricles,)   0.000085  0.003368\n",
      "(k_FEC,)          0.001585  0.002075\n",
      "(CV_atria,)       0.011338  0.024484\n",
      "(k_atria,)        0.032929  0.049506\n",
      "(k_BB,)           0.635926  0.105521\n",
      "Empty DataFrame\n",
      "Columns: [S2, S2_conf]\n",
      "Index: []\n",
      "                        ST   ST_conf\n",
      "(CV_ventricles,)  0.000765  0.000104\n",
      "(k_ventricles,)   0.001144  0.000170\n",
      "(k_FEC,)          0.000678  0.000110\n",
      "(CV_atria,)       0.101255  0.014786\n",
      "(k_atria,)        0.916613  0.093283\n",
      "(k_BB,)           0.540988  0.059512\n",
      "                        S1   S1_conf\n",
      "(CV_ventricles,)  0.000249  0.002480\n",
      "(k_ventricles,)   0.000469  0.002511\n",
      "(k_FEC,)          0.000180  0.002005\n",
      "(CV_atria,)      -0.009384  0.030166\n",
      "(k_atria,)        0.397006  0.094033\n",
      "(k_BB,)           0.059628  0.072329\n",
      "Empty DataFrame\n",
      "Columns: [S2, S2_conf]\n",
      "Index: []\n"
     ]
    }
   ],
   "source": [
    "Si_A = []\n",
    "for i in range(nMod):\n",
    "    Si_A.append(sobol.analyze(problem, Ymean_A[:,i].detach().numpy(), print_to_console=True))"
   ]
  },
  {
   "cell_type": "code",
   "execution_count": 57,
   "id": "59e862f8",
   "metadata": {},
   "outputs": [
    {
     "name": "stdout",
     "output_type": "stream",
     "text": [
      "                        ST   ST_conf\n",
      "(CV_ventricles,)  0.365358  0.043005\n",
      "(k_ventricles,)   0.050443  0.005555\n",
      "(k_FEC,)          0.608867  0.054658\n",
      "(CV_atria,)       0.000016  0.000004\n",
      "(k_atria,)        0.000025  0.000006\n",
      "(k_BB,)           0.000021  0.000005\n",
      "                        S1   S1_conf\n",
      "(CV_ventricles,)  0.339874  0.040725\n",
      "(k_ventricles,)   0.047538  0.023302\n",
      "(k_FEC,)          0.583266  0.073894\n",
      "(CV_atria,)      -0.000013  0.000301\n",
      "(k_atria,)        0.000073  0.000375\n",
      "(k_BB,)           0.000367  0.000381\n",
      "Empty DataFrame\n",
      "Columns: [S2, S2_conf]\n",
      "Index: []\n",
      "                        ST   ST_conf\n",
      "(CV_ventricles,)  0.322905  0.031031\n",
      "(k_ventricles,)   0.508241  0.039198\n",
      "(k_FEC,)          0.201440  0.026474\n",
      "(CV_atria,)       0.000048  0.000008\n",
      "(k_atria,)        0.000122  0.000030\n",
      "(k_BB,)           0.000076  0.000012\n",
      "                        S1   S1_conf\n",
      "(CV_ventricles,)  0.293798  0.043547\n",
      "(k_ventricles,)   0.486260  0.059991\n",
      "(k_FEC,)          0.189686  0.044087\n",
      "(CV_atria,)      -0.000299  0.000628\n",
      "(k_atria,)        0.000146  0.000817\n",
      "(k_BB,)          -0.000316  0.000744\n",
      "Empty DataFrame\n",
      "Columns: [S2, S2_conf]\n",
      "Index: []\n",
      "                        ST   ST_conf\n",
      "(CV_ventricles,)  0.347631  0.033846\n",
      "(k_ventricles,)   0.517952  0.044060\n",
      "(k_FEC,)          0.161388  0.016367\n",
      "(CV_atria,)       0.000023  0.000004\n",
      "(k_atria,)        0.000032  0.000006\n",
      "(k_BB,)           0.000032  0.000005\n",
      "                        S1   S1_conf\n",
      "(CV_ventricles,)  0.316843  0.050921\n",
      "(k_ventricles,)   0.495851  0.056821\n",
      "(k_FEC,)          0.156353  0.033096\n",
      "(CV_atria,)      -0.000197  0.000416\n",
      "(k_atria,)       -0.000327  0.000570\n",
      "(k_BB,)          -0.000172  0.000447\n",
      "Empty DataFrame\n",
      "Columns: [S2, S2_conf]\n",
      "Index: []\n",
      "                        ST   ST_conf\n",
      "(CV_ventricles,)  0.084150  0.012688\n",
      "(k_ventricles,)   0.957391  0.074788\n",
      "(k_FEC,)          0.061204  0.011540\n",
      "(CV_atria,)       0.000349  0.000071\n",
      "(k_atria,)        0.000459  0.000126\n",
      "(k_BB,)           0.000425  0.000078\n",
      "                        S1   S1_conf\n",
      "(CV_ventricles,)  0.042378  0.028434\n",
      "(k_ventricles,)   0.874996  0.078783\n",
      "(k_FEC,)          0.021170  0.018568\n",
      "(CV_atria,)      -0.000271  0.001582\n",
      "(k_atria,)        0.000334  0.001858\n",
      "(k_BB,)           0.000579  0.001726\n",
      "Empty DataFrame\n",
      "Columns: [S2, S2_conf]\n",
      "Index: []\n",
      "                        ST   ST_conf\n",
      "(CV_ventricles,)  0.036848  0.007211\n",
      "(k_ventricles,)   0.915320  0.201864\n",
      "(k_FEC,)          0.981904  0.141706\n",
      "(CV_atria,)       0.000116  0.000024\n",
      "(k_atria,)        0.000260  0.000097\n",
      "(k_BB,)           0.000243  0.000047\n",
      "                        S1   S1_conf\n",
      "(CV_ventricles,)  0.001035  0.017708\n",
      "(k_ventricles,)   0.019442  0.097966\n",
      "(k_FEC,)          0.072494  0.135004\n",
      "(CV_atria,)       0.000355  0.000794\n",
      "(k_atria,)       -0.000136  0.001039\n",
      "(k_BB,)           0.000652  0.001195\n",
      "Empty DataFrame\n",
      "Columns: [S2, S2_conf]\n",
      "Index: []\n",
      "                        ST   ST_conf\n",
      "(CV_ventricles,)  0.041460  0.005302\n",
      "(k_ventricles,)   0.327357  0.041756\n",
      "(k_FEC,)          0.832538  0.082898\n",
      "(CV_atria,)       0.000335  0.000061\n",
      "(k_atria,)        0.002736  0.000789\n",
      "(k_BB,)           0.000454  0.000079\n",
      "                        S1   S1_conf\n",
      "(CV_ventricles,) -0.001775  0.019438\n",
      "(k_ventricles,)   0.184083  0.048378\n",
      "(k_FEC,)          0.650647  0.091887\n",
      "(CV_atria,)      -0.000251  0.001501\n",
      "(k_atria,)        0.000506  0.005110\n",
      "(k_BB,)           0.000359  0.001776\n",
      "Empty DataFrame\n",
      "Columns: [S2, S2_conf]\n",
      "Index: []\n",
      "                        ST   ST_conf\n",
      "(CV_ventricles,)  0.045811  0.008197\n",
      "(k_ventricles,)   0.754785  0.063359\n",
      "(k_FEC,)          0.363439  0.056653\n",
      "(CV_atria,)       0.000607  0.000145\n",
      "(k_atria,)        0.002171  0.000433\n",
      "(k_BB,)           0.000574  0.000092\n",
      "                        S1   S1_conf\n",
      "(CV_ventricles,)  0.003562  0.019939\n",
      "(k_ventricles,)   0.605813  0.068008\n",
      "(k_FEC,)          0.238175  0.053560\n",
      "(CV_atria,)      -0.000320  0.002299\n",
      "(k_atria,)        0.000309  0.004093\n",
      "(k_BB,)           0.000579  0.002057\n",
      "Empty DataFrame\n",
      "Columns: [S2, S2_conf]\n",
      "Index: []\n",
      "                        ST   ST_conf\n",
      "(CV_ventricles,)  0.055468  0.009630\n",
      "(k_ventricles,)   0.853725  0.147475\n",
      "(k_FEC,)          0.916640  0.143557\n",
      "(CV_atria,)       0.000324  0.000066\n",
      "(k_atria,)        0.000881  0.000229\n",
      "(k_BB,)           0.000255  0.000079\n",
      "                        S1   S1_conf\n",
      "(CV_ventricles,)  0.015211  0.020521\n",
      "(k_ventricles,)   0.053840  0.092490\n",
      "(k_FEC,)          0.175335  0.117449\n",
      "(CV_atria,)       0.000119  0.001398\n",
      "(k_atria,)       -0.000733  0.001829\n",
      "(k_BB,)          -0.001355  0.001488\n",
      "Empty DataFrame\n",
      "Columns: [S2, S2_conf]\n",
      "Index: []\n",
      "                        ST   ST_conf\n",
      "(CV_ventricles,)  0.030738  0.004616\n",
      "(k_ventricles,)   0.709804  0.115509\n",
      "(k_FEC,)          0.922605  0.094249\n",
      "(CV_atria,)       0.000334  0.000093\n",
      "(k_atria,)        0.004970  0.001216\n",
      "(k_BB,)           0.001429  0.000289\n",
      "                        S1   S1_conf\n",
      "(CV_ventricles,)  0.002744  0.014061\n",
      "(k_ventricles,)   0.079435  0.085112\n",
      "(k_FEC,)          0.329022  0.126728\n",
      "(CV_atria,)       0.000069  0.001257\n",
      "(k_atria,)        0.000105  0.005440\n",
      "(k_BB,)          -0.000234  0.003329\n",
      "Empty DataFrame\n",
      "Columns: [S2, S2_conf]\n",
      "Index: []\n",
      "                        ST   ST_conf\n",
      "(CV_ventricles,)  0.062558  0.008345\n",
      "(k_ventricles,)   0.984308  0.080797\n",
      "(k_FEC,)          0.235175  0.037373\n",
      "(CV_atria,)       0.001935  0.000560\n",
      "(k_atria,)        0.001926  0.000344\n",
      "(k_BB,)           0.002251  0.000581\n",
      "                        S1   S1_conf\n",
      "(CV_ventricles,)  0.043122  0.019927\n",
      "(k_ventricles,)   0.714908  0.086497\n",
      "(k_FEC,)          0.026771  0.039828\n",
      "(CV_atria,)       0.002378  0.004005\n",
      "(k_atria,)        0.001781  0.004007\n",
      "(k_BB,)           0.002634  0.003553\n",
      "Empty DataFrame\n",
      "Columns: [S2, S2_conf]\n",
      "Index: []\n"
     ]
    }
   ],
   "source": [
    "Si_V = []\n",
    "for i in range(nMod):\n",
    "    Si_V.append(sobol.analyze(problem, Ymean_V[:,i].detach().numpy(), print_to_console=True))"
   ]
  },
  {
   "cell_type": "code",
   "execution_count": 131,
   "id": "4c1c58fd",
   "metadata": {},
   "outputs": [
    {
     "name": "stdout",
     "output_type": "stream",
     "text": [
      "                        ST   ST_conf\n",
      "(CV_ventricles,)  0.356286  0.038308\n",
      "(k_ventricles,)   0.047680  0.005751\n",
      "(k_FEC,)          0.596813  0.056211\n",
      "(CV_atria,)       0.021531  0.002426\n",
      "(k_atria,)        0.000527  0.000074\n",
      "(k_BB,)           0.002185  0.000287\n",
      "                        S1   S1_conf\n",
      "(CV_ventricles,)  0.332629  0.045714\n",
      "(k_ventricles,)   0.044134  0.022295\n",
      "(k_FEC,)          0.571321  0.078914\n",
      "(CV_atria,)       0.020453  0.012950\n",
      "(k_atria,)        0.000582  0.002027\n",
      "(k_BB,)           0.002514  0.003849\n",
      "Empty DataFrame\n",
      "Columns: [S2, S2_conf]\n",
      "Index: []\n",
      "                        ST   ST_conf\n",
      "(CV_ventricles,)  0.012332  0.001262\n",
      "(k_ventricles,)   0.001568  0.000164\n",
      "(k_FEC,)          0.018228  0.002277\n",
      "(CV_atria,)       0.865716  0.062102\n",
      "(k_atria,)        0.021184  0.002288\n",
      "(k_BB,)           0.096146  0.011723\n",
      "                        S1   S1_conf\n",
      "(CV_ventricles,)  0.011737  0.008461\n",
      "(k_ventricles,)   0.001181  0.003440\n",
      "(k_FEC,)          0.016159  0.010738\n",
      "(CV_atria,)       0.848040  0.082113\n",
      "(k_atria,)        0.018851  0.011802\n",
      "(k_BB,)           0.088589  0.029317\n",
      "Empty DataFrame\n",
      "Columns: [S2, S2_conf]\n",
      "Index: []\n",
      "                        ST   ST_conf\n",
      "(CV_ventricles,)  0.321621  0.032117\n",
      "(k_ventricles,)   0.498520  0.043845\n",
      "(k_FEC,)          0.203636  0.028408\n",
      "(CV_atria,)       0.007160  0.000852\n",
      "(k_atria,)        0.000589  0.000086\n",
      "(k_BB,)           0.001467  0.000223\n",
      "                        S1   S1_conf\n",
      "(CV_ventricles,)  0.293169  0.050404\n",
      "(k_ventricles,)   0.477324  0.055284\n",
      "(k_FEC,)          0.191274  0.042287\n",
      "(CV_atria,)       0.006277  0.009171\n",
      "(k_atria,)        0.000977  0.002177\n",
      "(k_BB,)           0.000762  0.003058\n",
      "Empty DataFrame\n",
      "Columns: [S2, S2_conf]\n",
      "Index: []\n",
      "                        ST   ST_conf\n",
      "(CV_ventricles,)  0.000709  0.000112\n",
      "(k_ventricles,)   0.004165  0.000536\n",
      "(k_FEC,)          0.008842  0.001146\n",
      "(CV_atria,)       0.112885  0.011609\n",
      "(k_atria,)        0.006904  0.000812\n",
      "(k_BB,)           0.968604  0.080992\n",
      "                        S1   S1_conf\n",
      "(CV_ventricles,) -0.000572  0.002017\n",
      "(k_ventricles,)   0.003703  0.004543\n",
      "(k_FEC,)          0.009543  0.007638\n",
      "(CV_atria,)       0.010728  0.031812\n",
      "(k_atria,)        0.005744  0.007371\n",
      "(k_BB,)           0.882351  0.094076\n",
      "Empty DataFrame\n",
      "Columns: [S2, S2_conf]\n",
      "Index: []\n",
      "                        ST   ST_conf\n",
      "(CV_ventricles,)  0.326993  0.033377\n",
      "(k_ventricles,)   0.491990  0.047283\n",
      "(k_FEC,)          0.139223  0.014699\n",
      "(CV_atria,)       0.049305  0.005535\n",
      "(k_atria,)        0.015347  0.001720\n",
      "(k_BB,)           0.000238  0.000035\n",
      "                        S1   S1_conf\n",
      "(CV_ventricles,)  0.304642  0.047159\n",
      "(k_ventricles,)   0.474231  0.059467\n",
      "(k_FEC,)          0.136097  0.031066\n",
      "(CV_atria,)       0.045611  0.017109\n",
      "(k_atria,)        0.013616  0.011345\n",
      "(k_BB,)          -0.000389  0.001216\n",
      "Empty DataFrame\n",
      "Columns: [S2, S2_conf]\n",
      "Index: []\n",
      "                        ST   ST_conf\n",
      "(CV_ventricles,)  0.006669  0.001005\n",
      "(k_ventricles,)   0.058736  0.005845\n",
      "(k_FEC,)          0.036999  0.004309\n",
      "(CV_atria,)       0.141329  0.017580\n",
      "(k_atria,)        0.830832  0.080554\n",
      "(k_BB,)           0.045757  0.005673\n",
      "                        S1   S1_conf\n",
      "(CV_ventricles,)  0.002083  0.006246\n",
      "(k_ventricles,)   0.055680  0.021321\n",
      "(k_FEC,)          0.034512  0.017247\n",
      "(CV_atria,)       0.036354  0.040233\n",
      "(k_atria,)        0.727525  0.074720\n",
      "(k_BB,)           0.033414  0.016604\n",
      "Empty DataFrame\n",
      "Columns: [S2, S2_conf]\n",
      "Index: []\n",
      "                        ST   ST_conf\n",
      "(CV_ventricles,)  0.004982  0.000540\n",
      "(k_ventricles,)   0.021354  0.003251\n",
      "(k_FEC,)          0.007941  0.000830\n",
      "(CV_atria,)       0.081601  0.011527\n",
      "(k_atria,)        0.016288  0.002669\n",
      "(k_BB,)           0.956505  0.075555\n",
      "                        S1   S1_conf\n",
      "(CV_ventricles,)  0.001926  0.006065\n",
      "(k_ventricles,)   0.008097  0.010909\n",
      "(k_FEC,)          0.008236  0.007988\n",
      "(CV_atria,)      -0.004065  0.028793\n",
      "(k_atria,)       -0.000882  0.012007\n",
      "(k_BB,)           0.863913  0.081313\n",
      "Empty DataFrame\n",
      "Columns: [S2, S2_conf]\n",
      "Index: []\n",
      "                        ST   ST_conf\n",
      "(CV_ventricles,)  0.068320  0.009682\n",
      "(k_ventricles,)   0.893762  0.064105\n",
      "(k_FEC,)          0.058397  0.008629\n",
      "(CV_atria,)       0.015649  0.001760\n",
      "(k_atria,)        0.003518  0.000593\n",
      "(k_BB,)           0.056935  0.007940\n",
      "                        S1   S1_conf\n",
      "(CV_ventricles,)  0.035083  0.024288\n",
      "(k_ventricles,)   0.839314  0.070729\n",
      "(k_FEC,)          0.021569  0.019846\n",
      "(CV_atria,)       0.012906  0.010956\n",
      "(k_atria,)        0.000076  0.004816\n",
      "(k_BB,)           0.047033  0.022377\n",
      "Empty DataFrame\n",
      "Columns: [S2, S2_conf]\n",
      "Index: []\n",
      "                        ST   ST_conf\n",
      "(CV_ventricles,)  0.028069  0.003819\n",
      "(k_ventricles,)   0.914477  0.174708\n",
      "(k_FEC,)          0.964906  0.131733\n",
      "(CV_atria,)       0.001063  0.000206\n",
      "(k_atria,)        0.004129  0.000960\n",
      "(k_BB,)           0.002484  0.000447\n",
      "                        S1   S1_conf\n",
      "(CV_ventricles,)  0.007583  0.016191\n",
      "(k_ventricles,)   0.031342  0.085260\n",
      "(k_FEC,)          0.077748  0.136844\n",
      "(CV_atria,)      -0.000806  0.003001\n",
      "(k_atria,)        0.001474  0.004663\n",
      "(k_BB,)           0.001299  0.004267\n",
      "Empty DataFrame\n",
      "Columns: [S2, S2_conf]\n",
      "Index: []\n",
      "                        ST   ST_conf\n",
      "(CV_ventricles,)  0.025509  0.002884\n",
      "(k_ventricles,)   0.022799  0.003275\n",
      "(k_FEC,)          0.002574  0.000379\n",
      "(CV_atria,)       0.115259  0.016324\n",
      "(k_atria,)        0.950359  0.131457\n",
      "(k_BB,)           0.889205  0.121087\n",
      "                        S1   S1_conf\n",
      "(CV_ventricles,)  0.026037  0.012923\n",
      "(k_ventricles,)   0.009706  0.011422\n",
      "(k_FEC,)         -0.000292  0.004139\n",
      "(CV_atria,)       0.013479  0.029674\n",
      "(k_atria,)        0.075894  0.085726\n",
      "(k_BB,)           0.054482  0.094301\n",
      "Empty DataFrame\n",
      "Columns: [S2, S2_conf]\n",
      "Index: []\n"
     ]
    }
   ],
   "source": [
    "Si_C = []\n",
    "for i in range(nMod):\n",
    "    Si_C.append(sobol.analyze(problem, Ymean_C[:,i].detach().numpy(), print_to_console=True))"
   ]
  },
  {
   "cell_type": "code",
   "execution_count": 132,
   "id": "a2f9ff39",
   "metadata": {},
   "outputs": [],
   "source": [
    "SiA_first=np.zeros((nDim,nMod))\n",
    "SiA_total=np.zeros((nDim,nMod))\n",
    "SiV_first=np.zeros((nDim,nMod))\n",
    "SiV_total=np.zeros((nDim,nMod))\n",
    "SiC_first=np.zeros((nDim,nMod))\n",
    "SiC_total=np.zeros((nDim,nMod))\n",
    "for i in range(nMod):\n",
    "    total_Si, first_Si, second_Si = Si_A[i].to_df()\n",
    "    SiA_first[:,i] =  first_Si.iloc[:,0]\n",
    "    SiA_total[:,i] =  total_Si.iloc[:,0]\n",
    "    \n",
    "    total_Si, first_Si, second_Si = Si_V[i].to_df()\n",
    "    SiV_first[:,i] =  first_Si.iloc[:,0]\n",
    "    SiV_total[:,i] =  total_Si.iloc[:,0]\n",
    "    \n",
    "    total_Si, first_Si, second_Si = Si_C[i].to_df()\n",
    "    SiC_first[:,i] =  first_Si.iloc[:,0]\n",
    "    SiC_total[:,i] =  total_Si.iloc[:,0]\n"
   ]
  },
  {
   "cell_type": "code",
   "execution_count": 59,
   "id": "d8e58b3c",
   "metadata": {
    "scrolled": true
   },
   "outputs": [
    {
     "data": {
      "text/plain": [
       "<matplotlib.colorbar.Colorbar at 0x202cec26560>"
      ]
     },
     "execution_count": 59,
     "metadata": {},
     "output_type": "execute_result"
    },
    {
     "data": {
      "image/png": "[encoded data removed]",
      "text/plain": [
       "<Figure size 640x480 with 2 Axes>"
      ]
     },
     "metadata": {},
     "output_type": "display_data"
    }
   ],
   "source": [
    "inputs = x_labels.values.tolist()\n",
    "outputs = np.linspace(1,10,10)\n",
    "fig, ax = plt.subplots()\n",
    "im = ax.imshow(SiA_first.T[0:10],cmap='magma_r',vmin=0,vmax=1)\n",
    "\n",
    "ax.set_yticks(np.arange(len(outputs)),labels=outputs)\n",
    "ax.set_xticks(np.arange(len(inputs)), labels=inputs)\n",
    "plt.setp(ax.get_xticklabels(), rotation=60, ha=\"right\",\n",
    "         rotation_mode=\"anchor\");\n",
    "\n",
    "plt.colorbar(im,fraction=0.015, pad=0.04)"
   ]
  },
  {
   "cell_type": "code",
   "execution_count": 60,
   "id": "1537afd8",
   "metadata": {},
   "outputs": [
    {
     "data": {
      "text/plain": [
       "<matplotlib.colorbar.Colorbar at 0x202cecb5900>"
      ]
     },
     "execution_count": 60,
     "metadata": {},
     "output_type": "execute_result"
    },
    {
     "data": {
      "image/png": "[encoded data removed]",
      "text/plain": [
       "<Figure size 640x480 with 2 Axes>"
      ]
     },
     "metadata": {},
     "output_type": "display_data"
    }
   ],
   "source": [
    "inputs = x_labels.values.tolist()\n",
    "outputs = np.linspace(1,10,10)\n",
    "fig, ax = plt.subplots()\n",
    "im = ax.imshow(SiA_total.T[0:10],cmap='magma_r',vmin=0,vmax=1)\n",
    "\n",
    "ax.set_yticks(np.arange(len(outputs)),labels=outputs)\n",
    "ax.set_xticks(np.arange(len(inputs)), labels=inputs)\n",
    "plt.setp(ax.get_xticklabels(), rotation=60, ha=\"right\",\n",
    "         rotation_mode=\"anchor\");\n",
    "\n",
    "plt.colorbar(im,fraction=0.015, pad=0.04)"
   ]
  },
  {
   "cell_type": "code",
   "execution_count": 61,
   "id": "e12d285a",
   "metadata": {},
   "outputs": [
    {
     "data": {
      "text/plain": [
       "<matplotlib.colorbar.Colorbar at 0x203be51b820>"
      ]
     },
     "execution_count": 61,
     "metadata": {},
     "output_type": "execute_result"
    },
    {
     "data": {
      "image/png": "[encoded data removed]",
      "text/plain": [
       "<Figure size 640x480 with 2 Axes>"
      ]
     },
     "metadata": {},
     "output_type": "display_data"
    }
   ],
   "source": [
    "inputs = x_labels.values.tolist()\n",
    "outputs = np.linspace(1,10,10)\n",
    "fig, ax = plt.subplots()\n",
    "im = ax.imshow(SiV_first.T[0:10],cmap='magma_r',vmin=0,vmax=1)\n",
    "\n",
    "ax.set_yticks(np.arange(len(outputs)),labels=outputs)\n",
    "ax.set_xticks(np.arange(len(inputs)), labels=inputs)\n",
    "plt.setp(ax.get_xticklabels(), rotation=60, ha=\"right\",\n",
    "         rotation_mode=\"anchor\");\n",
    "\n",
    "plt.colorbar(im,fraction=0.015, pad=0.04)"
   ]
  },
  {
   "cell_type": "code",
   "execution_count": 62,
   "id": "0d1f74a9",
   "metadata": {
    "scrolled": true
   },
   "outputs": [
    {
     "data": {
      "text/plain": [
       "<matplotlib.colorbar.Colorbar at 0x203be59ea70>"
      ]
     },
     "execution_count": 62,
     "metadata": {},
     "output_type": "execute_result"
    },
    {
     "data": {
      "image/png": "[encoded data removed]",
      "text/plain": [
       "<Figure size 640x480 with 2 Axes>"
      ]
     },
     "metadata": {},
     "output_type": "display_data"
    }
   ],
   "source": [
    "inputs = x_labels.values.tolist()\n",
    "outputs = np.linspace(1,10,10)\n",
    "fig, ax = plt.subplots()\n",
    "im = ax.imshow(SiV_total.T,cmap='magma_r',vmin=0,vmax=1)\n",
    "\n",
    "ax.set_yticks(np.arange(len(outputs)),labels=outputs)\n",
    "ax.set_xticks(np.arange(len(inputs)), labels=inputs)\n",
    "plt.setp(ax.get_xticklabels(), rotation=60, ha=\"right\",\n",
    "         rotation_mode=\"anchor\");\n",
    "\n",
    "plt.colorbar(im,fraction=0.015, pad=0.04)"
   ]
  },
  {
   "cell_type": "code",
   "execution_count": 133,
   "id": "54c25a39",
   "metadata": {},
   "outputs": [
    {
     "data": {
      "text/plain": [
       "<matplotlib.colorbar.Colorbar at 0x2038de44dc0>"
      ]
     },
     "execution_count": 133,
     "metadata": {},
     "output_type": "execute_result"
    },
    {
     "data": {
      "image/png": "[encoded data removed]",
      "text/plain": [
       "<Figure size 640x480 with 2 Axes>"
      ]
     },
     "metadata": {},
     "output_type": "display_data"
    }
   ],
   "source": [
    "inputs = x_labels.values.tolist()\n",
    "outputs = np.linspace(1,10,10)\n",
    "fig, ax = plt.subplots()\n",
    "im = ax.imshow(SiC_first.T,cmap='magma_r',vmin=0,vmax=1)\n",
    "\n",
    "ax.set_yticks(np.arange(len(outputs)),labels=outputs)\n",
    "ax.set_xticks(np.arange(len(inputs)), labels=inputs)\n",
    "plt.setp(ax.get_xticklabels(), rotation=60, ha=\"right\",\n",
    "         rotation_mode=\"anchor\");\n",
    "\n",
    "plt.colorbar(im,fraction=0.015, pad=0.04)"
   ]
  },
  {
   "cell_type": "code",
   "execution_count": 63,
   "id": "8d716bcd",
   "metadata": {},
   "outputs": [
    {
     "data": {
      "text/plain": [
       "26     232.374\n",
       "56     146.857\n",
       "50     237.832\n",
       "103    174.198\n",
       "25     145.946\n",
       "65     257.471\n",
       "1      251.071\n",
       "23     263.611\n",
       "170    148.134\n",
       "27     253.479\n",
       "40     238.058\n",
       "122    269.679\n",
       "130    123.167\n",
       "126    251.182\n",
       "89     243.399\n",
       "121    293.923\n",
       "52     200.845\n",
       "80     200.132\n",
       "127    307.759\n",
       "4      140.815\n",
       "139    162.071\n",
       "134    141.697\n",
       "131    185.618\n",
       "153    236.319\n",
       "156    181.940\n",
       "17     284.215\n",
       "172    194.967\n",
       "135    189.753\n",
       "159    275.184\n",
       "3      110.694\n",
       "152    120.467\n",
       "90     262.326\n",
       "146    256.638\n",
       "132    328.284\n",
       "117    200.136\n",
       "69     172.419\n",
       "dtype: float64"
      ]
     },
     "execution_count": 63,
     "metadata": {},
     "output_type": "execute_result"
    }
   ],
   "source": [
    "np.max(PCA_test_c,axis=1)"
   ]
  },
  {
   "cell_type": "code",
   "execution_count": 95,
   "id": "9c3c77d8",
   "metadata": {},
   "outputs": [],
   "source": [
    "X=inputOrig\n",
    "y=allSimulationsOutput_combined.T\n",
    "\n",
    "X_train2, X_test2, PCA_train_c, PCA_test_c = train_test_split(\n",
    "    X,\n",
    "    y,\n",
    "    test_size=0.2,\n",
    "    random_state=seed\n",
    ")"
   ]
  },
  {
   "cell_type": "code",
   "execution_count": 96,
   "id": "09c11ec6",
   "metadata": {},
   "outputs": [
    {
     "data": {
      "text/plain": [
       "26     232.374\n",
       "56     146.857\n",
       "50     237.832\n",
       "103    174.198\n",
       "25     145.946\n",
       "65     257.471\n",
       "1      251.071\n",
       "23     263.611\n",
       "170    148.134\n",
       "27     253.479\n",
       "40     238.058\n",
       "122    269.679\n",
       "130    123.167\n",
       "126    251.182\n",
       "89     243.399\n",
       "121    293.923\n",
       "52     200.845\n",
       "80     200.132\n",
       "127    307.759\n",
       "4      140.815\n",
       "139    162.071\n",
       "134    141.697\n",
       "131    185.618\n",
       "153    236.319\n",
       "156    181.940\n",
       "17     284.215\n",
       "172    194.967\n",
       "135    189.753\n",
       "159    275.184\n",
       "3      110.694\n",
       "152    120.467\n",
       "90     262.326\n",
       "146    256.638\n",
       "132    328.284\n",
       "117    200.136\n",
       "69     172.419\n",
       "dtype: float64"
      ]
     },
     "execution_count": 96,
     "metadata": {},
     "output_type": "execute_result"
    }
   ],
   "source": [
    "np.max(PCA_test_c,axis=1)"
   ]
  },
  {
   "cell_type": "code",
   "execution_count": 97,
   "id": "5a3e1eab",
   "metadata": {
    "scrolled": false
   },
   "outputs": [
    {
     "data": {
      "text/html": [
       "<div>\n",
       "<style scoped>\n",
       "    .dataframe tbody tr th:only-of-type {\n",
       "        vertical-align: middle;\n",
       "    }\n",
       "\n",
       "    .dataframe tbody tr th {\n",
       "        vertical-align: top;\n",
       "    }\n",
       "\n",
       "    .dataframe thead th {\n",
       "        text-align: right;\n",
       "    }\n",
       "</style>\n",
       "<table border=\"1\" class=\"dataframe\">\n",
       "  <thead>\n",
       "    <tr style=\"text-align: right;\">\n",
       "      <th></th>\n",
       "      <th>(CV_ventricles,)</th>\n",
       "      <th>(k_ventricles,)</th>\n",
       "      <th>(k_FEC,)</th>\n",
       "      <th>(CV_atria,)</th>\n",
       "      <th>(k_atria,)</th>\n",
       "      <th>(k_BB,)</th>\n",
       "    </tr>\n",
       "  </thead>\n",
       "  <tbody>\n",
       "    <tr>\n",
       "      <th>26</th>\n",
       "      <td>0.556019</td>\n",
       "      <td>0.336764</td>\n",
       "      <td>2.42194</td>\n",
       "      <td>0.552269</td>\n",
       "      <td>0.215546</td>\n",
       "      <td>2.00919</td>\n",
       "    </tr>\n",
       "    <tr>\n",
       "      <th>56</th>\n",
       "      <td>0.476766</td>\n",
       "      <td>0.383700</td>\n",
       "      <td>5.84953</td>\n",
       "      <td>0.910181</td>\n",
       "      <td>0.211079</td>\n",
       "      <td>2.80336</td>\n",
       "    </tr>\n",
       "    <tr>\n",
       "      <th>50</th>\n",
       "      <td>0.471244</td>\n",
       "      <td>0.320540</td>\n",
       "      <td>1.49320</td>\n",
       "      <td>1.019540</td>\n",
       "      <td>0.288555</td>\n",
       "      <td>4.60673</td>\n",
       "    </tr>\n",
       "    <tr>\n",
       "      <th>103</th>\n",
       "      <td>0.731321</td>\n",
       "      <td>0.260462</td>\n",
       "      <td>4.32422</td>\n",
       "      <td>0.633458</td>\n",
       "      <td>0.415970</td>\n",
       "      <td>2.31854</td>\n",
       "    </tr>\n",
       "    <tr>\n",
       "      <th>25</th>\n",
       "      <td>0.712580</td>\n",
       "      <td>0.481613</td>\n",
       "      <td>7.29542</td>\n",
       "      <td>0.685247</td>\n",
       "      <td>0.424855</td>\n",
       "      <td>5.57871</td>\n",
       "    </tr>\n",
       "    <tr>\n",
       "      <th>65</th>\n",
       "      <td>0.737321</td>\n",
       "      <td>0.359975</td>\n",
       "      <td>1.84114</td>\n",
       "      <td>0.403365</td>\n",
       "      <td>0.462289</td>\n",
       "      <td>3.01100</td>\n",
       "    </tr>\n",
       "    <tr>\n",
       "      <th>1</th>\n",
       "      <td>0.411078</td>\n",
       "      <td>0.484808</td>\n",
       "      <td>2.97470</td>\n",
       "      <td>0.436497</td>\n",
       "      <td>0.392057</td>\n",
       "      <td>2.72577</td>\n",
       "    </tr>\n",
       "    <tr>\n",
       "      <th>23</th>\n",
       "      <td>0.578632</td>\n",
       "      <td>0.350655</td>\n",
       "      <td>6.38964</td>\n",
       "      <td>0.380593</td>\n",
       "      <td>0.425437</td>\n",
       "      <td>5.41200</td>\n",
       "    </tr>\n",
       "    <tr>\n",
       "      <th>170</th>\n",
       "      <td>0.529865</td>\n",
       "      <td>0.223555</td>\n",
       "      <td>7.78364</td>\n",
       "      <td>0.858425</td>\n",
       "      <td>0.320887</td>\n",
       "      <td>2.64242</td>\n",
       "    </tr>\n",
       "    <tr>\n",
       "      <th>27</th>\n",
       "      <td>0.715493</td>\n",
       "      <td>0.405499</td>\n",
       "      <td>2.19868</td>\n",
       "      <td>0.457758</td>\n",
       "      <td>0.263826</td>\n",
       "      <td>3.41692</td>\n",
       "    </tr>\n",
       "    <tr>\n",
       "      <th>40</th>\n",
       "      <td>0.636966</td>\n",
       "      <td>0.447364</td>\n",
       "      <td>5.31164</td>\n",
       "      <td>0.417144</td>\n",
       "      <td>0.448371</td>\n",
       "      <td>5.11925</td>\n",
       "    </tr>\n",
       "    <tr>\n",
       "      <th>122</th>\n",
       "      <td>0.451401</td>\n",
       "      <td>0.231767</td>\n",
       "      <td>7.19600</td>\n",
       "      <td>0.406347</td>\n",
       "      <td>0.294691</td>\n",
       "      <td>5.35670</td>\n",
       "    </tr>\n",
       "    <tr>\n",
       "      <th>130</th>\n",
       "      <td>0.623991</td>\n",
       "      <td>0.313061</td>\n",
       "      <td>4.69104</td>\n",
       "      <td>0.961929</td>\n",
       "      <td>0.497393</td>\n",
       "      <td>4.02419</td>\n",
       "    </tr>\n",
       "    <tr>\n",
       "      <th>126</th>\n",
       "      <td>0.683639</td>\n",
       "      <td>0.209383</td>\n",
       "      <td>1.77443</td>\n",
       "      <td>0.520212</td>\n",
       "      <td>0.240666</td>\n",
       "      <td>1.68549</td>\n",
       "    </tr>\n",
       "    <tr>\n",
       "      <th>89</th>\n",
       "      <td>0.630951</td>\n",
       "      <td>0.290723</td>\n",
       "      <td>5.88499</td>\n",
       "      <td>0.576450</td>\n",
       "      <td>0.205682</td>\n",
       "      <td>1.42525</td>\n",
       "    </tr>\n",
       "    <tr>\n",
       "      <th>121</th>\n",
       "      <td>0.770960</td>\n",
       "      <td>0.495777</td>\n",
       "      <td>2.66635</td>\n",
       "      <td>0.351504</td>\n",
       "      <td>0.410130</td>\n",
       "      <td>4.32322</td>\n",
       "    </tr>\n",
       "    <tr>\n",
       "      <th>52</th>\n",
       "      <td>0.649870</td>\n",
       "      <td>0.379460</td>\n",
       "      <td>7.26253</td>\n",
       "      <td>0.591505</td>\n",
       "      <td>0.260311</td>\n",
       "      <td>2.67384</td>\n",
       "    </tr>\n",
       "    <tr>\n",
       "      <th>80</th>\n",
       "      <td>0.721485</td>\n",
       "      <td>0.334122</td>\n",
       "      <td>5.50004</td>\n",
       "      <td>0.608024</td>\n",
       "      <td>0.212149</td>\n",
       "      <td>3.36790</td>\n",
       "    </tr>\n",
       "    <tr>\n",
       "      <th>127</th>\n",
       "      <td>0.739425</td>\n",
       "      <td>0.429136</td>\n",
       "      <td>1.21197</td>\n",
       "      <td>0.370859</td>\n",
       "      <td>0.242450</td>\n",
       "      <td>5.53377</td>\n",
       "    </tr>\n",
       "    <tr>\n",
       "      <th>4</th>\n",
       "      <td>0.613551</td>\n",
       "      <td>0.212641</td>\n",
       "      <td>6.01868</td>\n",
       "      <td>0.914252</td>\n",
       "      <td>0.278204</td>\n",
       "      <td>1.60980</td>\n",
       "    </tr>\n",
       "    <tr>\n",
       "      <th>139</th>\n",
       "      <td>0.611520</td>\n",
       "      <td>0.319854</td>\n",
       "      <td>1.91073</td>\n",
       "      <td>0.830687</td>\n",
       "      <td>0.208201</td>\n",
       "      <td>4.95787</td>\n",
       "    </tr>\n",
       "    <tr>\n",
       "      <th>134</th>\n",
       "      <td>0.744614</td>\n",
       "      <td>0.229224</td>\n",
       "      <td>8.15458</td>\n",
       "      <td>0.742678</td>\n",
       "      <td>0.365892</td>\n",
       "      <td>4.89367</td>\n",
       "    </tr>\n",
       "    <tr>\n",
       "      <th>131</th>\n",
       "      <td>0.388075</td>\n",
       "      <td>0.301358</td>\n",
       "      <td>7.44673</td>\n",
       "      <td>1.023930</td>\n",
       "      <td>0.421925</td>\n",
       "      <td>1.11669</td>\n",
       "    </tr>\n",
       "    <tr>\n",
       "      <th>153</th>\n",
       "      <td>0.782307</td>\n",
       "      <td>0.244323</td>\n",
       "      <td>3.39714</td>\n",
       "      <td>0.597170</td>\n",
       "      <td>0.274775</td>\n",
       "      <td>1.19261</td>\n",
       "    </tr>\n",
       "    <tr>\n",
       "      <th>156</th>\n",
       "      <td>0.597679</td>\n",
       "      <td>0.299943</td>\n",
       "      <td>5.20854</td>\n",
       "      <td>0.662349</td>\n",
       "      <td>0.254661</td>\n",
       "      <td>2.33317</td>\n",
       "    </tr>\n",
       "    <tr>\n",
       "      <th>17</th>\n",
       "      <td>0.615856</td>\n",
       "      <td>0.357133</td>\n",
       "      <td>3.59747</td>\n",
       "      <td>0.343337</td>\n",
       "      <td>0.467971</td>\n",
       "      <td>5.43955</td>\n",
       "    </tr>\n",
       "    <tr>\n",
       "      <th>172</th>\n",
       "      <td>0.764269</td>\n",
       "      <td>0.328694</td>\n",
       "      <td>6.89599</td>\n",
       "      <td>0.593863</td>\n",
       "      <td>0.283674</td>\n",
       "      <td>2.91808</td>\n",
       "    </tr>\n",
       "    <tr>\n",
       "      <th>135</th>\n",
       "      <td>0.696926</td>\n",
       "      <td>0.240736</td>\n",
       "      <td>1.27473</td>\n",
       "      <td>0.867213</td>\n",
       "      <td>0.465109</td>\n",
       "      <td>3.83914</td>\n",
       "    </tr>\n",
       "    <tr>\n",
       "      <th>159</th>\n",
       "      <td>0.633293</td>\n",
       "      <td>0.471086</td>\n",
       "      <td>3.15342</td>\n",
       "      <td>0.424705</td>\n",
       "      <td>0.246275</td>\n",
       "      <td>3.77141</td>\n",
       "    </tr>\n",
       "    <tr>\n",
       "      <th>3</th>\n",
       "      <td>0.723138</td>\n",
       "      <td>0.219679</td>\n",
       "      <td>7.08363</td>\n",
       "      <td>1.011880</td>\n",
       "      <td>0.440564</td>\n",
       "      <td>2.02218</td>\n",
       "    </tr>\n",
       "    <tr>\n",
       "      <th>152</th>\n",
       "      <td>0.760948</td>\n",
       "      <td>0.478685</td>\n",
       "      <td>7.84329</td>\n",
       "      <td>0.877151</td>\n",
       "      <td>0.359510</td>\n",
       "      <td>4.66259</td>\n",
       "    </tr>\n",
       "    <tr>\n",
       "      <th>90</th>\n",
       "      <td>0.511623</td>\n",
       "      <td>0.494795</td>\n",
       "      <td>4.89375</td>\n",
       "      <td>0.534970</td>\n",
       "      <td>0.322814</td>\n",
       "      <td>1.13275</td>\n",
       "    </tr>\n",
       "    <tr>\n",
       "      <th>146</th>\n",
       "      <td>0.575890</td>\n",
       "      <td>0.207479</td>\n",
       "      <td>2.69551</td>\n",
       "      <td>0.478696</td>\n",
       "      <td>0.231234</td>\n",
       "      <td>2.30324</td>\n",
       "    </tr>\n",
       "    <tr>\n",
       "      <th>132</th>\n",
       "      <td>0.426520</td>\n",
       "      <td>0.437410</td>\n",
       "      <td>4.46699</td>\n",
       "      <td>0.307544</td>\n",
       "      <td>0.491937</td>\n",
       "      <td>3.29829</td>\n",
       "    </tr>\n",
       "    <tr>\n",
       "      <th>117</th>\n",
       "      <td>0.542626</td>\n",
       "      <td>0.365296</td>\n",
       "      <td>3.40437</td>\n",
       "      <td>0.526253</td>\n",
       "      <td>0.484674</td>\n",
       "      <td>2.60751</td>\n",
       "    </tr>\n",
       "    <tr>\n",
       "      <th>69</th>\n",
       "      <td>0.610656</td>\n",
       "      <td>0.423450</td>\n",
       "      <td>7.65467</td>\n",
       "      <td>0.713533</td>\n",
       "      <td>0.311994</td>\n",
       "      <td>1.74693</td>\n",
       "    </tr>\n",
       "  </tbody>\n",
       "</table>\n",
       "</div>"
      ],
      "text/plain": [
       "     (CV_ventricles,)  (k_ventricles,)  (k_FEC,)  (CV_atria,)  (k_atria,)  \\\n",
       "26           0.556019         0.336764   2.42194     0.552269    0.215546   \n",
       "56           0.476766         0.383700   5.84953     0.910181    0.211079   \n",
       "50           0.471244         0.320540   1.49320     1.019540    0.288555   \n",
       "103          0.731321         0.260462   4.32422     0.633458    0.415970   \n",
       "25           0.712580         0.481613   7.29542     0.685247    0.424855   \n",
       "65           0.737321         0.359975   1.84114     0.403365    0.462289   \n",
       "1            0.411078         0.484808   2.97470     0.436497    0.392057   \n",
       "23           0.578632         0.350655   6.38964     0.380593    0.425437   \n",
       "170          0.529865         0.223555   7.78364     0.858425    0.320887   \n",
       "27           0.715493         0.405499   2.19868     0.457758    0.263826   \n",
       "40           0.636966         0.447364   5.31164     0.417144    0.448371   \n",
       "122          0.451401         0.231767   7.19600     0.406347    0.294691   \n",
       "130          0.623991         0.313061   4.69104     0.961929    0.497393   \n",
       "126          0.683639         0.209383   1.77443     0.520212    0.240666   \n",
       "89           0.630951         0.290723   5.88499     0.576450    0.205682   \n",
       "121          0.770960         0.495777   2.66635     0.351504    0.410130   \n",
       "52           0.649870         0.379460   7.26253     0.591505    0.260311   \n",
       "80           0.721485         0.334122   5.50004     0.608024    0.212149   \n",
       "127          0.739425         0.429136   1.21197     0.370859    0.242450   \n",
       "4            0.613551         0.212641   6.01868     0.914252    0.278204   \n",
       "139          0.611520         0.319854   1.91073     0.830687    0.208201   \n",
       "134          0.744614         0.229224   8.15458     0.742678    0.365892   \n",
       "131          0.388075         0.301358   7.44673     1.023930    0.421925   \n",
       "153          0.782307         0.244323   3.39714     0.597170    0.274775   \n",
       "156          0.597679         0.299943   5.20854     0.662349    0.254661   \n",
       "17           0.615856         0.357133   3.59747     0.343337    0.467971   \n",
       "172          0.764269         0.328694   6.89599     0.593863    0.283674   \n",
       "135          0.696926         0.240736   1.27473     0.867213    0.465109   \n",
       "159          0.633293         0.471086   3.15342     0.424705    0.246275   \n",
       "3            0.723138         0.219679   7.08363     1.011880    0.440564   \n",
       "152          0.760948         0.478685   7.84329     0.877151    0.359510   \n",
       "90           0.511623         0.494795   4.89375     0.534970    0.322814   \n",
       "146          0.575890         0.207479   2.69551     0.478696    0.231234   \n",
       "132          0.426520         0.437410   4.46699     0.307544    0.491937   \n",
       "117          0.542626         0.365296   3.40437     0.526253    0.484674   \n",
       "69           0.610656         0.423450   7.65467     0.713533    0.311994   \n",
       "\n",
       "     (k_BB,)  \n",
       "26   2.00919  \n",
       "56   2.80336  \n",
       "50   4.60673  \n",
       "103  2.31854  \n",
       "25   5.57871  \n",
       "65   3.01100  \n",
       "1    2.72577  \n",
       "23   5.41200  \n",
       "170  2.64242  \n",
       "27   3.41692  \n",
       "40   5.11925  \n",
       "122  5.35670  \n",
       "130  4.02419  \n",
       "126  1.68549  \n",
       "89   1.42525  \n",
       "121  4.32322  \n",
       "52   2.67384  \n",
       "80   3.36790  \n",
       "127  5.53377  \n",
       "4    1.60980  \n",
       "139  4.95787  \n",
       "134  4.89367  \n",
       "131  1.11669  \n",
       "153  1.19261  \n",
       "156  2.33317  \n",
       "17   5.43955  \n",
       "172  2.91808  \n",
       "135  3.83914  \n",
       "159  3.77141  \n",
       "3    2.02218  \n",
       "152  4.66259  \n",
       "90   1.13275  \n",
       "146  2.30324  \n",
       "132  3.29829  \n",
       "117  2.60751  \n",
       "69   1.74693  "
      ]
     },
     "execution_count": 97,
     "metadata": {},
     "output_type": "execute_result"
    }
   ],
   "source": [
    "X_test2"
   ]
  },
  {
   "cell_type": "code",
   "execution_count": 98,
   "id": "ba0f339d",
   "metadata": {},
   "outputs": [],
   "source": [
    "end=10\n",
    "GPE_output_c = pd.DataFrame(principalComponents_EP_c[:,0:end])"
   ]
  },
  {
   "cell_type": "code",
   "execution_count": 99,
   "id": "041eeafd",
   "metadata": {},
   "outputs": [],
   "source": [
    "testOutPCA_c = pca_EP_c.transform(PCA_test_c)"
   ]
  },
  {
   "cell_type": "code",
   "execution_count": 100,
   "id": "15ac3b47",
   "metadata": {},
   "outputs": [
    {
     "name": "stdout",
     "output_type": "stream",
     "text": [
      "0\n",
      "1\n",
      "2\n",
      "3\n",
      "4\n",
      "5\n",
      "6\n",
      "7\n",
      "8\n",
      "9\n"
     ]
    }
   ],
   "source": [
    "GPE_C = GPE.ensemble(X_train,GPE_output_c,mean_func='linear')"
   ]
  },
  {
   "cell_type": "code",
   "execution_count": 103,
   "id": "53234f91",
   "metadata": {},
   "outputs": [
    {
     "data": {
      "text/plain": [
       "array([0.99914895, 0.99912272, 0.99846101, 0.9982181 , 0.99824011,\n",
       "       0.9932407 , 0.9687988 , 0.96340849, 0.974066  , 0.94864414])"
      ]
     },
     "execution_count": 103,
     "metadata": {},
     "output_type": "execute_result"
    }
   ],
   "source": [
    "GPE_C.MSE(X_test2,pd.DataFrame(testOutPCA_c[:,0:end])).detach().numpy()"
   ]
  },
  {
   "cell_type": "code",
   "execution_count": 104,
   "id": "89abd4cc",
   "metadata": {},
   "outputs": [],
   "source": [
    "compPred_C = GPE_C.predict(X_test2)"
   ]
  },
  {
   "cell_type": "code",
   "execution_count": 129,
   "id": "e39347d6",
   "metadata": {},
   "outputs": [
    {
     "data": {
      "text/plain": [
       "26     0.340890\n",
       "56     0.124634\n",
       "50     1.638376\n",
       "103    0.122581\n",
       "25     1.200548\n",
       "65     0.231405\n",
       "1      0.958919\n",
       "23     0.640137\n",
       "170    0.190082\n",
       "27     0.193962\n",
       "40     0.179969\n",
       "122    1.502205\n",
       "130    0.491350\n",
       "126    1.532292\n",
       "89     0.558847\n",
       "121    0.329578\n",
       "52     0.653121\n",
       "80     0.097603\n",
       "127    2.340758\n",
       "4      0.116765\n",
       "139    0.592353\n",
       "134    0.251223\n",
       "131    1.442439\n",
       "153    0.339600\n",
       "156    0.142105\n",
       "17     0.954337\n",
       "172    0.113632\n",
       "135    2.371562\n",
       "159    0.107564\n",
       "3      0.825758\n",
       "152    0.855342\n",
       "90     0.820712\n",
       "146    2.481270\n",
       "132    2.221153\n",
       "117    0.539123\n",
       "69     0.380934\n",
       "dtype: float64"
      ]
     },
     "execution_count": 129,
     "metadata": {},
     "output_type": "execute_result"
    }
   ],
   "source": [
    "((np.matmul(compPred_C.detach().numpy()[:,0:end],pca_EP_c.components_[0:j])+pca_EP_c.mean_-PCA_test_c)**2).mean(axis=1)"
   ]
  },
  {
   "cell_type": "code",
   "execution_count": 106,
   "id": "b2a78bcc",
   "metadata": {},
   "outputs": [
    {
     "data": {
      "text/plain": [
       "26     232.374\n",
       "56     146.857\n",
       "50     237.832\n",
       "103    174.198\n",
       "25     145.946\n",
       "65     257.471\n",
       "1      251.071\n",
       "23     263.611\n",
       "170    148.134\n",
       "27     253.479\n",
       "40     238.058\n",
       "122    269.679\n",
       "130    123.167\n",
       "126    251.182\n",
       "89     243.399\n",
       "121    293.923\n",
       "52     200.845\n",
       "80     200.132\n",
       "127    307.759\n",
       "4      140.815\n",
       "139    162.071\n",
       "134    141.697\n",
       "131    185.618\n",
       "153    236.319\n",
       "156    181.940\n",
       "17     284.215\n",
       "172    194.967\n",
       "135    189.753\n",
       "159    275.184\n",
       "3      110.694\n",
       "152    120.467\n",
       "90     262.326\n",
       "146    256.638\n",
       "132    328.284\n",
       "117    200.136\n",
       "69     172.419\n",
       "dtype: float64"
      ]
     },
     "execution_count": 106,
     "metadata": {},
     "output_type": "execute_result"
    }
   ],
   "source": [
    "PCA_test_c.max(axis=1)"
   ]
  },
  {
   "cell_type": "code",
   "execution_count": 109,
   "id": "09105544",
   "metadata": {},
   "outputs": [],
   "source": [
    "sim_recon = np.matmul(compPred_C.detach().numpy()[:,0:end],pca_EP_c.components_[0:j])+pca_EP_c.mean_"
   ]
  },
  {
   "cell_type": "code",
   "execution_count": 110,
   "id": "aa1e7b61",
   "metadata": {},
   "outputs": [
    {
     "data": {
      "text/plain": [
       "array([[ 51.42485105,  48.746662  ,  51.05572393, ..., 139.69707209,\n",
       "          8.53482749, 114.60600862],\n",
       "       [ 31.45492942,  29.7699043 ,  31.1489619 , ..., 108.99658183,\n",
       "          4.17036711,  84.47981268],\n",
       "       [ 23.74034408,  22.30394748,  23.37363961, ..., 211.79450119,\n",
       "         16.51405964, 186.11203538],\n",
       "       ...,\n",
       "       [ 64.13648895,  59.75110828,  63.62645558, ..., 125.82290133,\n",
       "          6.33377704, 104.90136314],\n",
       "       [ 37.7563997 ,  35.15375749,  37.40387165, ..., 117.9858241 ,\n",
       "          6.19752757,  95.79799748],\n",
       "       [ 34.00300176,  31.97882526,  33.71889204, ...,  73.17269892,\n",
       "          2.39091056,  57.28614223]])"
      ]
     },
     "execution_count": 110,
     "metadata": {},
     "output_type": "execute_result"
    }
   ],
   "source": [
    "sim_recon"
   ]
  },
  {
   "cell_type": "code",
   "execution_count": 111,
   "id": "23f0252c",
   "metadata": {
    "scrolled": true
   },
   "outputs": [
    {
     "data": {
      "text/plain": [
       "(336606, 180)"
      ]
     },
     "execution_count": 111,
     "metadata": {},
     "output_type": "execute_result"
    }
   ],
   "source": [
    "allSimulationsOutput_ventricles.shape"
   ]
  },
  {
   "cell_type": "code",
   "execution_count": 112,
   "id": "f1942e5b",
   "metadata": {},
   "outputs": [
    {
     "data": {
      "text/plain": [
       "(97985, 180)"
      ]
     },
     "execution_count": 112,
     "metadata": {},
     "output_type": "execute_result"
    }
   ],
   "source": [
    "allSimulationsOutput_atria.shape"
   ]
  },
  {
   "cell_type": "code",
   "execution_count": 82,
   "id": "2fe3604c",
   "metadata": {},
   "outputs": [
    {
     "data": {
      "text/plain": [
       "434591"
      ]
     },
     "execution_count": 82,
     "metadata": {},
     "output_type": "execute_result"
    }
   ],
   "source": [
    "336606+97985"
   ]
  },
  {
   "cell_type": "code",
   "execution_count": 113,
   "id": "20aece4d",
   "metadata": {},
   "outputs": [],
   "source": [
    "sim_atria = sim_recon[:,0:97985]"
   ]
  },
  {
   "cell_type": "code",
   "execution_count": 114,
   "id": "dc70a032",
   "metadata": {},
   "outputs": [],
   "source": [
    "sim_ventricle = sim_recon[:,97985:434591]"
   ]
  },
  {
   "cell_type": "code",
   "execution_count": 116,
   "id": "653b78f0",
   "metadata": {},
   "outputs": [
    {
     "data": {
      "text/plain": [
       "Int64Index([ 26,  56,  50, 103,  25,  65,   1,  23, 170,  27,  40, 122, 130,\n",
       "            126,  89, 121,  52,  80, 127,   4, 139, 134, 131, 153, 156,  17,\n",
       "            172, 135, 159,   3, 152,  90, 146, 132, 117,  69],\n",
       "           dtype='int64')"
      ]
     },
     "execution_count": 116,
     "metadata": {},
     "output_type": "execute_result"
    }
   ],
   "source": [
    "X_test2.index"
   ]
  },
  {
   "cell_type": "code",
   "execution_count": 117,
   "id": "81b47aa8",
   "metadata": {},
   "outputs": [],
   "source": [
    "import json\n",
    "import numpy as np\n",
    "\n",
    "def json_to_init(stimuli, tag_file, json_param_file, init_file_name):\n",
    "\n",
    "    # Read tags\n",
    "    f_input = open(tag_file,\"r\")\n",
    "    tags = json.load(f_input)\n",
    "    f_input.close()\n",
    "\n",
    "    # Read CVs\n",
    "    f_input = open(json_param_file,\"r\")\n",
    "    params = json.load(f_input)\n",
    "    f_input.close()\n",
    "\n",
    "    tags_ventricles_names = [\"LV\", \"RV\"]\n",
    "    CV_ventricle_name = \"CV_ventricles\"\n",
    "    k_ventricles_name = \"k_ventricles\"\n",
    "\n",
    "    tags_FEC_names = [\"FEC_LV\", \"FEC_RV\", \"FEC_SV\"]\n",
    "    k_FEC_name = \"k_FEC\"\n",
    "\n",
    "    tags_atria_names = [\"LA\", \"RA\"]\n",
    "    CV_atria_name = \"CV_atria\"\n",
    "    k_atria_name = \"k_atria\"\n",
    "\n",
    "    tags_bachmann_names = [\"BB\"]\n",
    "    k_BB_name = \"k_BB\"\n",
    "\n",
    "    vtx = []\n",
    "    nVtx = 0\n",
    "\n",
    "    for vtxFile in stimuli:\n",
    "        temp = np.loadtxt(vtxFile, dtype=int, skiprows=2, ndmin=1)\n",
    "        vtx.append(temp)\n",
    "        nVtx += temp.shape[0]\n",
    "\n",
    "    # write .init file\n",
    "    f = open(init_file_name,'w')\n",
    "\n",
    "    # header\n",
    "    f.write('vf:0 vs:0 vn:0 vPS:0\\n') # Default properties for tags not specified\n",
    "    f.write('retro_delay:0 antero_delay:0\\n') # If there's no 1D purkinje system, it's ignored.\n",
    "    # number of stimuli and regions\n",
    "    f.write('%d %d\\n' % (int(nVtx), int(len(tags_ventricles_names)) + len(tags_FEC_names) + len(tags_atria_names) + len(tags_bachmann_names)))\n",
    "    # stimulus\n",
    "    for i in range(len(vtx)):\n",
    "        if len(vtx[i]) == 1:\n",
    "            f.write('%d %f\\n' % (vtx[i],0))\n",
    "        else:\n",
    "            for n in vtx[i]:\n",
    "                f.write('%d %f\\n' % (int(n),0))\n",
    "                \n",
    "    return_tags_str = ''\n",
    "    # ek regions\n",
    "    for i,tag_name in enumerate(tags_ventricles_names):\n",
    "        f.write('%d %f %f %f\\n' % (int(tags[tag_name]), \n",
    "                                   float(params[\"EP\"][CV_ventricle_name]), \n",
    "                                   float(params[\"EP\"][CV_ventricle_name])*float(params[\"EP\"][k_ventricles_name]), \n",
    "                                   float(params[\"EP\"][CV_ventricle_name])*float(params[\"EP\"][k_ventricles_name])))\n",
    "        return_tags_str += ',' + str(int(tags[tag_name]))\n",
    "\n",
    "    for i,tag_name in enumerate(tags_FEC_names):\n",
    "        f.write('%d %f %f %f\\n' % (int(tags[tag_name]), \n",
    "                                   float(params[\"EP\"][CV_ventricle_name])*float(params[\"EP\"][k_FEC_name]), \n",
    "                                   float(params[\"EP\"][CV_ventricle_name])*float(params[\"EP\"][k_FEC_name]), \n",
    "                                   float(params[\"EP\"][CV_ventricle_name])*float(params[\"EP\"][k_FEC_name])))\n",
    "        return_tags_str += ',' + str(int(tags[tag_name]))\n",
    "\n",
    "    for i,tag_name in enumerate(tags_atria_names):\n",
    "        f.write('%d %f %f %f\\n' % (int(tags[tag_name]), \n",
    "                                   float(params[\"EP\"][CV_atria_name]), \n",
    "                                   float(params[\"EP\"][CV_atria_name])*float(params[\"EP\"][k_atria_name]), \n",
    "                                   float(params[\"EP\"][CV_atria_name])*float(params[\"EP\"][k_atria_name])))\n",
    "        return_tags_str += ',' + str(int(tags[tag_name]))\n",
    "\n",
    "    for i,tag_name in enumerate(tags_bachmann_names):\n",
    "        f.write('%d %f %f %f\\n' % (int(tags[tag_name]), \n",
    "                                   float(params[\"EP\"][CV_atria_name])*float(params[\"EP\"][k_BB_name]), \n",
    "                                   float(params[\"EP\"][CV_atria_name])*float(params[\"EP\"][k_BB_name]), \n",
    "                                   float(params[\"EP\"][CV_atria_name])*float(params[\"EP\"][k_BB_name])))\n",
    "        return_tags_str += ',' + str(int(tags[tag_name]))\n",
    "\n",
    "    f.close()\n",
    "    \n",
    "    return return_tags_str[1:]"
   ]
  },
  {
   "cell_type": "code",
   "execution_count": 127,
   "id": "2195fd07",
   "metadata": {
    "scrolled": true
   },
   "outputs": [
    {
     "name": "stdout",
     "output_type": "stream",
     "text": [
      "Reading mesh elem file...\n",
      "Done.\n",
      "Computing output for 26.dat...\n",
      "Computing output for 56.dat...\n",
      "Computing output for 50.dat...\n",
      "Computing output for 103.dat...\n",
      "Computing output for 25.dat...\n",
      "Computing output for 65.dat...\n",
      "Computing output for 1.dat...\n",
      "Computing output for 23.dat...\n",
      "Computing output for 170.dat...\n",
      "Computing output for 27.dat...\n",
      "Computing output for 40.dat...\n",
      "Computing output for 122.dat...\n",
      "Computing output for 130.dat...\n",
      "Computing output for 126.dat...\n",
      "Computing output for 89.dat...\n",
      "Computing output for 121.dat...\n",
      "Computing output for 52.dat...\n",
      "Computing output for 80.dat...\n",
      "Computing output for 127.dat...\n",
      "Computing output for 4.dat...\n",
      "Computing output for 139.dat...\n",
      "Computing output for 134.dat...\n",
      "Computing output for 131.dat...\n",
      "Computing output for 153.dat...\n",
      "Computing output for 156.dat...\n",
      "Computing output for 17.dat...\n",
      "Computing output for 172.dat...\n",
      "Computing output for 135.dat...\n",
      "Computing output for 159.dat...\n",
      "Computing output for 3.dat...\n",
      "Computing output for 152.dat...\n",
      "Computing output for 90.dat...\n",
      "Computing output for 146.dat...\n",
      "Computing output for 132.dat...\n",
      "Computing output for 117.dat...\n",
      "Computing output for 69.dat...\n"
     ]
    }
   ],
   "source": [
    "\n",
    "\n",
    "basefolder = \"/Users/pmzcwl/Documents/GitHub/Calibration/shared_simulations/EP_healthy/output/simulations\"\n",
    "elem_file = \"/Users/pmzcwl/Documents/GitHub/Calibration/shared_simulations/mesh/myocardium_AV_FEC_BB_lvrv.elem\"\n",
    "tag_file = '/Users/pmzcwl/Documents/GitHub/Calibration/shared_simulations/mesh/tags_lvrv.json'\n",
    "\n",
    "f_input = open(tag_file,\"r\")\n",
    "tags = json.load(f_input)\n",
    "f_input.close()\n",
    "\n",
    "\n",
    "tags_modified = tags.copy()\n",
    "tags_modified[\"ventricles\"] = [tags_modified[\"LV\"], tags_modified[\"RV\"]]\n",
    "tags_modified[\"fast_endo\"] = [tags_modified[\"FEC_RV\"], tags_modified[\"FEC_SV\"]]\n",
    "tags_modified[\"atria\"] = [tags_modified[\"LA\"], tags_modified[\"RA\"]]\n",
    "tags_modified[\"bachmann_bundle\"] = [tags_modified[\"BB\"]]\n",
    "\n",
    "output_path = \"/Users/pmzcwl/Documents/GitHub/Calibration/shared_simulations/EP_healthy/output\"\n",
    "\n",
    "os.makedirs(output_path,exist_ok=True)\n",
    "\n",
    "print('Reading mesh elem file...')\n",
    "elem = np.loadtxt(elem_file,dtype=int,usecols=[1,2,3,4,5],skiprows=1)\n",
    "print('Done.')\n",
    "\n",
    "V_EIDX = np.where(np.isin(elem[:,-1],tags_modified[\"ventricles\"]+tags_modified[\"fast_endo\"])==1)[0]\n",
    "A_EIDX = np.where(np.isin(elem[:,-1],tags_modified[\"atria\"]+tags_modified[\"bachmann_bundle\"])==1)[0]\n",
    "\n",
    "V_VTX = np.unique(elem[V_EIDX,0:4].flatten())\n",
    "A_VTX = np.unique(elem[A_EIDX,0:4].flatten())\n",
    "\n",
    "for i, val in enumerate(X_test2.index):\n",
    "\n",
    "    print('Computing output for '+str(val)+'.dat...')\n",
    "    AT=np.loadtxt(os.path.join(basefolder,str(val)+\".dat\"),dtype=float)\n",
    "    AT[A_VTX]=sim_atria[i,:]\n",
    "\n",
    "    AT[V_VTX]=sim_ventricle[i,:]\n",
    "\n",
    "    mesh=pyvista.read('/Users/pmzcwl/Documents/GitHub/Calibration/shared_simulations/mesh/myocardium_AV_FEC_BB_lvrv.vtk')\n",
    "    scalars=AT\n",
    "    mesh.point_data['points']=scalars\n",
    "    mesh.save(str(val)+'_sim_recon.vtu')\n",
    "    \n",
    "    scalars=AT-np.loadtxt(os.path.join(basefolder,str(val)+\".dat\"),dtype=float)\n",
    "    mesh.point_data['points']=scalars\n",
    "    mesh.save(str(val)+'_sim_diff.vtu')\n",
    "    \n",
    "    scalars=np.loadtxt(os.path.join(basefolder,str(val)+\".dat\"),dtype=float)\n",
    "    mesh.point_data['points']=scalars\n",
    "    mesh.save(str(val)+'_sim.vtu')"
   ]
  },
  {
   "cell_type": "code",
   "execution_count": 121,
   "id": "2f8e218d",
   "metadata": {},
   "outputs": [
    {
     "data": {
      "text/plain": [
       "array([0.41820088, 0.43423453, 0.39597025, ..., 1.17550627, 0.67100177,\n",
       "       0.29078779])"
      ]
     },
     "execution_count": 121,
     "metadata": {},
     "output_type": "execute_result"
    }
   ],
   "source": [
    "np.abs(AT-np.loadtxt(os.path.join(basefolder,str(val)+\".dat\"),dtype=float))\n"
   ]
  },
  {
   "cell_type": "code",
   "execution_count": 87,
   "id": "08577f96",
   "metadata": {},
   "outputs": [
    {
     "name": "stdout",
     "output_type": "stream",
     "text": [
      "Reading mesh elem file...\n",
      "Done.\n",
      "Computing output for 26.dat...\n"
     ]
    }
   ],
   "source": [
    "print('Reading mesh elem file...')\n",
    "elem = np.loadtxt(elem_file,dtype=int,usecols=[1,2,3,4,5],skiprows=1)\n",
    "print('Done.')\n",
    "\n",
    "V_EIDX = np.where(np.isin(elem[:,-1],tags_modified[\"ventricles\"]+tags_modified[\"fast_endo\"])==1)[0]\n",
    "A_EIDX = np.where(np.isin(elem[:,-1],tags_modified[\"atria\"]+tags_modified[\"bachmann_bundle\"])==1)[0]\n",
    "\n",
    "V_VTX = np.unique(elem[V_EIDX,0:4].flatten())\n",
    "A_VTX = np.unique(elem[A_EIDX,0:4].flatten())\n",
    "\n",
    "\n",
    "print('Computing output for '+str(26)+'.dat...')\n",
    "AT=np.loadtxt(os.path.join(basefolder,str(26)+\".dat\"),dtype=float)\n",
    "AT[A_VTX]=sim26_atria\n",
    "\n",
    "AT[V_VTX]=sim26_ventricle"
   ]
  },
  {
   "cell_type": "code",
   "execution_count": 88,
   "id": "aaefe16a",
   "metadata": {},
   "outputs": [
    {
     "data": {
      "text/plain": [
       "233.45695253027972"
      ]
     },
     "execution_count": 88,
     "metadata": {},
     "output_type": "execute_result"
    }
   ],
   "source": [
    "AT.max()"
   ]
  },
  {
   "cell_type": "code",
   "execution_count": 89,
   "id": "731d9415",
   "metadata": {},
   "outputs": [],
   "source": [
    "np.savetxt(\"sim26_recon.dat\",AT,fmt=\"%g\")"
   ]
  },
  {
   "cell_type": "code",
   "execution_count": 90,
   "id": "afe0e346",
   "metadata": {},
   "outputs": [],
   "source": [
    "import pyvista"
   ]
  },
  {
   "cell_type": "code",
   "execution_count": 91,
   "id": "5e8ae80e",
   "metadata": {
    "scrolled": true
   },
   "outputs": [],
   "source": [
    "mesh=pyvista.read('/Users/pmzcwl/Documents/GitHub/Calibration/shared_simulations/mesh/myocardium_AV_FEC_BB_lvrv.vtk')"
   ]
  },
  {
   "cell_type": "code",
   "execution_count": 92,
   "id": "e2797b7c",
   "metadata": {},
   "outputs": [],
   "source": [
    "scalars=AT"
   ]
  },
  {
   "cell_type": "code",
   "execution_count": 93,
   "id": "64cdd326",
   "metadata": {},
   "outputs": [],
   "source": [
    "mesh.point_data['points']=scalars"
   ]
  },
  {
   "cell_type": "code",
   "execution_count": 94,
   "id": "bc7e4171",
   "metadata": {},
   "outputs": [],
   "source": [
    "mesh.save('26_sim_recon.vtu')"
   ]
  },
  {
   "cell_type": "code",
   "execution_count": null,
   "id": "dae0011f",
   "metadata": {},
   "outputs": [],
   "source": []
  }
 ],
 "metadata": {
  "kernelspec": {
   "display_name": "Python 3 (ipykernel)",
   "language": "python",
   "name": "python3"
  },
  "language_info": {
   "codemirror_mode": {
    "name": "ipython",
    "version": 3
   },
   "file_extension": ".py",
   "mimetype": "text/x-python",
   "name": "python",
   "nbconvert_exporter": "python",
   "pygments_lexer": "ipython3",
   "version": "3.11.5"
  }
 },
 "nbformat": 4,
 "nbformat_minor": 5
}
