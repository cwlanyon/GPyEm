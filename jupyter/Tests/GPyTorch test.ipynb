{
 "cells": [
  {
   "cell_type": "code",
   "execution_count": 1,
   "id": "b9b8b705",
   "metadata": {},
   "outputs": [],
   "source": [
    "import math\n",
    "import torch\n",
    "import gpytorch\n",
    "from matplotlib import pyplot as plt\n",
    "\n",
    "%matplotlib inline\n",
    "%load_ext autoreload\n",
    "%autoreload 2"
   ]
  },
  {
   "cell_type": "code",
   "execution_count": 7,
   "id": "0ea5f1b1",
   "metadata": {},
   "outputs": [],
   "source": [
    "# Training data is 100 points in [0,1] inclusive regularly spaced\n",
    "train_x = torch.linspace(0, 1, 100)\n",
    "# True function is sin(2*pi*x) with Gaussian noise\n",
    "train_y = torch.sin(train_x * (2 * math.pi)) + torch.randn(train_x.size()) * math.sqrt(0.04)"
   ]
  },
  {
   "cell_type": "code",
   "execution_count": 2,
   "id": "a75673af",
   "metadata": {},
   "outputs": [
    {
     "ename": "NameError",
     "evalue": "name 'train_x' is not defined",
     "output_type": "error",
     "traceback": [
      "\u001b[1;31m---------------------------------------------------------------------------\u001b[0m",
      "\u001b[1;31mNameError\u001b[0m                                 Traceback (most recent call last)",
      "Cell \u001b[1;32mIn[2], line 15\u001b[0m\n\u001b[0;32m     13\u001b[0m \u001b[38;5;66;03m# initialize likelihood and model\u001b[39;00m\n\u001b[0;32m     14\u001b[0m likelihood \u001b[38;5;241m=\u001b[39m gpytorch\u001b[38;5;241m.\u001b[39mlikelihoods\u001b[38;5;241m.\u001b[39mGaussianLikelihood()\n\u001b[1;32m---> 15\u001b[0m model \u001b[38;5;241m=\u001b[39m ExactGPModel(\u001b[43mtrain_x\u001b[49m, train_y, likelihood)\n",
      "\u001b[1;31mNameError\u001b[0m: name 'train_x' is not defined"
     ]
    }
   ],
   "source": [
    "# We will use the simplest form of GP model, exact inference\n",
    "class ExactGPModel(gpytorch.models.ExactGP):\n",
    "    def __init__(self, train_x, train_y, likelihood):\n",
    "        super(ExactGPModel, self).__init__(train_x, train_y, likelihood)\n",
    "        self.mean_module = gpytorch.means.ConstantMean()\n",
    "        self.covar_module = gpytorch.kernels.ScaleKernel(gpytorch.kernels.RBFKernel())\n",
    "\n",
    "    def forward(self, x):\n",
    "        mean_x = self.mean_module(x)\n",
    "        covar_x = self.covar_module(x)\n",
    "        return gpytorch.distributions.MultivariateNormal(mean_x, covar_x)\n",
    "\n",
    "# initialize likelihood and model\n",
    "likelihood = gpytorch.likelihoods.GaussianLikelihood()\n",
    "model = ExactGPModel(train_x, train_y, likelihood)"
   ]
  },
  {
   "cell_type": "code",
   "execution_count": 9,
   "id": "57f86f7c",
   "metadata": {},
   "outputs": [
    {
     "name": "stdout",
     "output_type": "stream",
     "text": [
      "Iter 1/50 - Loss: 0.932   lengthscale: 0.693   noise: 0.693\n",
      "Iter 2/50 - Loss: 0.901   lengthscale: 0.644   noise: 0.644\n",
      "Iter 3/50 - Loss: 0.866   lengthscale: 0.598   noise: 0.598\n",
      "Iter 4/50 - Loss: 0.828   lengthscale: 0.555   noise: 0.554\n",
      "Iter 5/50 - Loss: 0.785   lengthscale: 0.514   noise: 0.513\n",
      "Iter 6/50 - Loss: 0.737   lengthscale: 0.475   noise: 0.474\n",
      "Iter 7/50 - Loss: 0.685   lengthscale: 0.439   noise: 0.437\n",
      "Iter 8/50 - Loss: 0.633   lengthscale: 0.404   noise: 0.402\n",
      "Iter 9/50 - Loss: 0.583   lengthscale: 0.372   noise: 0.369\n",
      "Iter 10/50 - Loss: 0.537   lengthscale: 0.342   noise: 0.339\n",
      "Iter 11/50 - Loss: 0.495   lengthscale: 0.315   noise: 0.310\n",
      "Iter 12/50 - Loss: 0.456   lengthscale: 0.291   noise: 0.284\n",
      "Iter 13/50 - Loss: 0.419   lengthscale: 0.272   noise: 0.259\n",
      "Iter 14/50 - Loss: 0.384   lengthscale: 0.256   noise: 0.236\n",
      "Iter 15/50 - Loss: 0.349   lengthscale: 0.243   noise: 0.215\n",
      "Iter 16/50 - Loss: 0.315   lengthscale: 0.232   noise: 0.196\n",
      "Iter 17/50 - Loss: 0.280   lengthscale: 0.225   noise: 0.178\n",
      "Iter 18/50 - Loss: 0.246   lengthscale: 0.220   noise: 0.162\n",
      "Iter 19/50 - Loss: 0.211   lengthscale: 0.217   noise: 0.147\n",
      "Iter 20/50 - Loss: 0.177   lengthscale: 0.215   noise: 0.134\n",
      "Iter 21/50 - Loss: 0.144   lengthscale: 0.216   noise: 0.122\n",
      "Iter 22/50 - Loss: 0.111   lengthscale: 0.218   noise: 0.110\n",
      "Iter 23/50 - Loss: 0.078   lengthscale: 0.221   noise: 0.100\n",
      "Iter 24/50 - Loss: 0.047   lengthscale: 0.226   noise: 0.091\n",
      "Iter 25/50 - Loss: 0.017   lengthscale: 0.232   noise: 0.083\n",
      "Iter 26/50 - Loss: -0.011   lengthscale: 0.239   noise: 0.075\n",
      "Iter 27/50 - Loss: -0.037   lengthscale: 0.247   noise: 0.069\n",
      "Iter 28/50 - Loss: -0.060   lengthscale: 0.256   noise: 0.063\n",
      "Iter 29/50 - Loss: -0.081   lengthscale: 0.265   noise: 0.057\n",
      "Iter 30/50 - Loss: -0.098   lengthscale: 0.275   noise: 0.052\n",
      "Iter 31/50 - Loss: -0.113   lengthscale: 0.286   noise: 0.048\n",
      "Iter 32/50 - Loss: -0.124   lengthscale: 0.295   noise: 0.044\n",
      "Iter 33/50 - Loss: -0.131   lengthscale: 0.304   noise: 0.041\n",
      "Iter 34/50 - Loss: -0.136   lengthscale: 0.312   noise: 0.038\n",
      "Iter 35/50 - Loss: -0.137   lengthscale: 0.317   noise: 0.035\n",
      "Iter 36/50 - Loss: -0.137   lengthscale: 0.320   noise: 0.033\n",
      "Iter 37/50 - Loss: -0.136   lengthscale: 0.320   noise: 0.031\n",
      "Iter 38/50 - Loss: -0.135   lengthscale: 0.318   noise: 0.030\n",
      "Iter 39/50 - Loss: -0.132   lengthscale: 0.314   noise: 0.028\n",
      "Iter 40/50 - Loss: -0.130   lengthscale: 0.308   noise: 0.027\n",
      "Iter 41/50 - Loss: -0.127   lengthscale: 0.302   noise: 0.026\n",
      "Iter 42/50 - Loss: -0.124   lengthscale: 0.296   noise: 0.026\n",
      "Iter 43/50 - Loss: -0.122   lengthscale: 0.291   noise: 0.025\n",
      "Iter 44/50 - Loss: -0.120   lengthscale: 0.286   noise: 0.025\n",
      "Iter 45/50 - Loss: -0.119   lengthscale: 0.282   noise: 0.025\n",
      "Iter 46/50 - Loss: -0.119   lengthscale: 0.279   noise: 0.025\n",
      "Iter 47/50 - Loss: -0.121   lengthscale: 0.277   noise: 0.025\n",
      "Iter 48/50 - Loss: -0.123   lengthscale: 0.277   noise: 0.026\n",
      "Iter 49/50 - Loss: -0.125   lengthscale: 0.277   noise: 0.026\n",
      "Iter 50/50 - Loss: -0.128   lengthscale: 0.279   noise: 0.027\n"
     ]
    }
   ],
   "source": [
    "# this is for running the notebook in our testing framework\n",
    "import os\n",
    "smoke_test = ('CI' in os.environ)\n",
    "training_iter = 2 if smoke_test else 50\n",
    "\n",
    "\n",
    "# Find optimal model hyperparameters\n",
    "model.train()\n",
    "likelihood.train()\n",
    "\n",
    "# Use the adam optimizer\n",
    "optimizer = torch.optim.Adam(model.parameters(), lr=0.1)  # Includes GaussianLikelihood parameters\n",
    "\n",
    "# \"Loss\" for GPs - the marginal log likelihood\n",
    "mll = gpytorch.mlls.ExactMarginalLogLikelihood(likelihood, model)\n",
    "\n",
    "for i in range(training_iter):\n",
    "    # Zero gradients from previous iteration\n",
    "    optimizer.zero_grad()\n",
    "    # Output from model\n",
    "    output = model(train_x)\n",
    "    # Calc loss and backprop gradients\n",
    "    loss = -mll(output, train_y)\n",
    "    loss.backward()\n",
    "    print('Iter %d/%d - Loss: %.3f   lengthscale: %.3f   noise: %.3f' % (\n",
    "        i + 1, training_iter, loss.item(),\n",
    "        model.covar_module.base_kernel.lengthscale.item(),\n",
    "        model.likelihood.noise.item()\n",
    "    ))\n",
    "    optimizer.step()"
   ]
  },
  {
   "cell_type": "code",
   "execution_count": 12,
   "id": "fc18b62a",
   "metadata": {},
   "outputs": [
    {
     "ename": "RuntimeError",
     "evalue": "You must train on the training inputs!",
     "output_type": "error",
     "traceback": [
      "\u001b[1;31m---------------------------------------------------------------------------\u001b[0m",
      "\u001b[1;31mRuntimeError\u001b[0m                              Traceback (most recent call last)",
      "Cell \u001b[1;32mIn[12], line 2\u001b[0m\n\u001b[0;32m      1\u001b[0m test_x \u001b[38;5;241m=\u001b[39m torch\u001b[38;5;241m.\u001b[39mlinspace(\u001b[38;5;241m0\u001b[39m, \u001b[38;5;241m1\u001b[39m, \u001b[38;5;241m20\u001b[39m)\n\u001b[1;32m----> 2\u001b[0m f_preds \u001b[38;5;241m=\u001b[39m \u001b[43mmodel\u001b[49m\u001b[43m(\u001b[49m\u001b[43mtest_x\u001b[49m\u001b[43m)\u001b[49m\n\u001b[0;32m      3\u001b[0m y_preds \u001b[38;5;241m=\u001b[39m likelihood(model(test_x))\n\u001b[0;32m      5\u001b[0m f_mean \u001b[38;5;241m=\u001b[39m f_preds\u001b[38;5;241m.\u001b[39mmean\n",
      "File \u001b[1;32m~\\Anaconda3\\lib\\site-packages\\gpytorch\\models\\exact_gp.py:266\u001b[0m, in \u001b[0;36mExactGP.__call__\u001b[1;34m(self, *args, **kwargs)\u001b[0m\n\u001b[0;32m    262\u001b[0m \u001b[38;5;28;01mif\u001b[39;00m settings\u001b[38;5;241m.\u001b[39mdebug\u001b[38;5;241m.\u001b[39mon():\n\u001b[0;32m    263\u001b[0m     \u001b[38;5;28;01mif\u001b[39;00m \u001b[38;5;129;01mnot\u001b[39;00m \u001b[38;5;28mall\u001b[39m(\n\u001b[0;32m    264\u001b[0m         torch\u001b[38;5;241m.\u001b[39mequal(train_input, \u001b[38;5;28minput\u001b[39m) \u001b[38;5;28;01mfor\u001b[39;00m train_input, \u001b[38;5;28minput\u001b[39m \u001b[38;5;129;01min\u001b[39;00m length_safe_zip(train_inputs, inputs)\n\u001b[0;32m    265\u001b[0m     ):\n\u001b[1;32m--> 266\u001b[0m         \u001b[38;5;28;01mraise\u001b[39;00m \u001b[38;5;167;01mRuntimeError\u001b[39;00m(\u001b[38;5;124m\"\u001b[39m\u001b[38;5;124mYou must train on the training inputs!\u001b[39m\u001b[38;5;124m\"\u001b[39m)\n\u001b[0;32m    267\u001b[0m res \u001b[38;5;241m=\u001b[39m \u001b[38;5;28msuper\u001b[39m()\u001b[38;5;241m.\u001b[39m\u001b[38;5;21m__call__\u001b[39m(\u001b[38;5;241m*\u001b[39minputs, \u001b[38;5;241m*\u001b[39m\u001b[38;5;241m*\u001b[39mkwargs)\n\u001b[0;32m    268\u001b[0m \u001b[38;5;28;01mreturn\u001b[39;00m res\n",
      "\u001b[1;31mRuntimeError\u001b[0m: You must train on the training inputs!"
     ]
    }
   ],
   "source": [
    "test_x = torch.linspace(0, 1, 20)\n",
    "f_preds = model(test_x)\n",
    "y_preds = likelihood(model(test_x))\n",
    "\n",
    "f_mean = f_preds.mean\n",
    "f_var = f_preds.variance\n",
    "f_covar = f_preds.covariance_matrix\n",
    "f_samples = f_preds.sample(sample_shape=torch.Size(1000,))"
   ]
  },
  {
   "cell_type": "code",
   "execution_count": null,
   "id": "53b72ce4",
   "metadata": {},
   "outputs": [],
   "source": []
  }
 ],
 "metadata": {
  "kernelspec": {
   "display_name": "Python 3 (ipykernel)",
   "language": "python",
   "name": "python3"
  },
  "language_info": {
   "codemirror_mode": {
    "name": "ipython",
    "version": 3
   },
   "file_extension": ".py",
   "mimetype": "text/x-python",
   "name": "python",
   "nbconvert_exporter": "python",
   "pygments_lexer": "ipython3",
   "version": "3.8.8"
  }
 },
 "nbformat": 4,
 "nbformat_minor": 5
}
