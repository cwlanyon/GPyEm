{
 "cells": [
  {
   "cell_type": "code",
   "execution_count": 1,
   "id": "cac30279",
   "metadata": {},
   "outputs": [],
   "source": [
    "import math\n",
    "import torch\n",
    "import gpytorch\n",
    "import pandas as pd\n",
    "import numpy as np\n",
    "from matplotlib import pyplot as plt\n",
    "import emcee\n",
    "\n",
    "import GPE_ensemble as GPE\n",
    "\n",
    "import os\n",
    "from sklearn.linear_model import LinearRegression\n",
    "from sklearn.metrics import mean_squared_error, r2_score\n",
    "from sklearn.model_selection import train_test_split\n",
    "#from GPErks.gp.data.dataset import Dataset\n",
    "from gpytorch.likelihoods import GaussianLikelihood\n",
    "from gpytorch.means import LinearMean\n",
    "from gpytorch.kernels import RBFKernel, ScaleKernel\n",
    "from torchmetrics import MeanSquaredError, R2Score\n",
    "#from GPErks.gp.experiment import GPExperiment\n",
    "#from GPErks.train.emulator import GPEmulator\n",
    "#from GPErks.perks.inference import Inference\n",
    "#from GPErks.train.early_stop import NoEarlyStoppingCriterion\n",
    "#from GPErks.train.early_stop import (\n",
    "#    GLEarlyStoppingCriterion,\n",
    "#    PQEarlyStoppingCriterion,\n",
    "#    UPEarlyStoppingCriterion,\n",
    "#)\n",
    "#from GPErks.train.early_stop import PkEarlyStoppingCriterion\n",
    "\n",
    "\n",
    "\n",
    "%matplotlib inline\n",
    "%load_ext autoreload\n",
    "%autoreload 2\n",
    "\n",
    "# set logger and enforce reproducibility\n",
    "#from GPErks.log.logger import get_logger\n",
    "#from GPErks.utils.random import set_seed\n",
    "#log = get_logger()\n",
    "seed = 7\n",
    "#set_seed(seed)"
   ]
  },
  {
   "cell_type": "code",
   "execution_count": 2,
   "id": "6dd097da",
   "metadata": {},
   "outputs": [],
   "source": [
    "posterior=pd.read_csv(\"MCMC_samples_scenario_10_40_full_posterior.dat\",delim_whitespace=True,header=None)"
   ]
  },
  {
   "cell_type": "code",
   "execution_count": 3,
   "id": "6c23d00c",
   "metadata": {},
   "outputs": [],
   "source": [
    "y_val = torch.tensor([134,100,133,0.6])"
   ]
  },
  {
   "cell_type": "code",
   "execution_count": 4,
   "id": "1c843761",
   "metadata": {},
   "outputs": [
    {
     "data": {
      "text/plain": [
       "(54000, 7)"
      ]
     },
     "execution_count": 4,
     "metadata": {},
     "output_type": "execute_result"
    }
   ],
   "source": [
    "posterior.shape"
   ]
  },
  {
   "cell_type": "code",
   "execution_count": 5,
   "id": "05d74e2b",
   "metadata": {},
   "outputs": [
    {
     "name": "stdout",
     "output_type": "stream",
     "text": [
      "     CV_ventricles  CV_atria  a_atria   EDP_lv   EDP_rv     Rsys    Rpulm\n",
      "0         0.583426  0.559737  2.63999  3.00130  4.86389  2.62436  1.74940\n",
      "1         0.513584  0.679305  3.15695  5.65473  6.89338  2.07232  3.77998\n",
      "2         0.528843  0.596498  4.85812  5.02497  2.16558  1.34170  2.09279\n",
      "3         0.576382  0.320044  2.30249  3.45923  3.79267  1.44626  3.62270\n",
      "4         0.706760  0.986539  1.47919  2.71888  3.53382  3.55907  3.37904\n",
      "..             ...       ...      ...      ...      ...      ...      ...\n",
      "995       0.492465  0.433849  3.11757  1.13969  5.68550  2.69079  1.14159\n",
      "996       0.693082  0.775705  3.06761  3.16270  5.87700  2.03175  3.11116\n",
      "997       0.383862  0.422026  3.75881  2.76191  7.32266  2.90629  2.73541\n",
      "998       0.391658  0.580093  3.14632  7.38027  6.52224  3.83890  1.65956\n",
      "999       0.488805  0.328415  4.39081  5.60215  1.67397  1.75135  3.87967\n",
      "\n",
      "[1000 rows x 7 columns]\n",
      "     LVedv  LVedp   LVesv  LVpMax  LVdpdtMax  LVdpdtMin   RVedv  RVedp  \\\n",
      "0   167.78   5.84  118.11   93.76       1726       -709  133.88   2.44   \n",
      "1   141.10   4.37   96.59   75.32       1473       -564  131.79   3.18   \n",
      "2   142.30   4.95   79.35   76.89       1591       -626  179.98   2.76   \n",
      "3   143.07   3.12   89.46   71.14       1470       -560  160.68   2.88   \n",
      "4   163.04   4.87  118.61  104.88       1851       -801  150.54   2.19   \n",
      "..     ...    ...     ...     ...        ...        ...     ...    ...   \n",
      "71  131.58   4.84   76.58   81.69       1847       -666  165.19   3.00   \n",
      "72  157.00   5.91  107.64  107.75       1975       -844  153.31   1.93   \n",
      "73  139.09   4.27   97.86   88.56       1625       -686  138.71   2.24   \n",
      "74  157.62   7.52  108.61   98.41       1858       -738  122.12   2.90   \n",
      "75  156.26   4.12  108.01   87.15       1698       -682  150.00   2.69   \n",
      "\n",
      "     RVesv  RVpMax  ...  RAvMax  RApMax  LAsvA  LAinflV  LAsvV  RAsvA  \\\n",
      "0    87.71   23.96  ...   91.58    2.65  14.10    10.54  14.97   9.83   \n",
      "1    92.76   30.29  ...   89.30    3.47  10.53     7.69  12.09  10.91   \n",
      "2   118.56   28.13  ...  109.13    3.17   9.98    12.45  13.53  11.33   \n",
      "3   110.73   32.23  ...  101.59    3.11   8.04    10.91  15.60   9.95   \n",
      "4   107.03   29.76  ...   92.97    3.08  20.86     8.09  13.07  14.88   \n",
      "..     ...     ...  ...     ...     ...    ...      ...    ...    ...   \n",
      "71  112.36   30.16  ...  103.85    3.37  11.61    10.72  13.84  14.15   \n",
      "72  105.20   24.79  ...   99.45    2.19  12.47    10.33  13.74   9.55   \n",
      "73  101.77   28.95  ...   92.80    2.50   7.57     7.35  11.05   6.95   \n",
      "74   77.55   22.71  ...   83.99    3.44  16.57    10.03  14.04  10.02   \n",
      "75  105.02   31.64  ...   94.03    3.55  17.00     9.20  14.92  15.52   \n",
      "\n",
      "    RAinflV  RAsvV    A_TAT     V_TAT  \n",
      "0     11.04  13.15  155.850  105.7710  \n",
      "1      8.59   9.34  128.153  122.2630  \n",
      "2     13.15  13.70  145.158  114.4830  \n",
      "3     11.49  14.39  271.590  106.0450  \n",
      "4     11.28  14.38   88.644   86.2818  \n",
      "..      ...    ...      ...       ...  \n",
      "71    12.85  14.84  131.276   78.9207  \n",
      "72    11.72  13.43  165.760  132.4770  \n",
      "73     8.18   9.43  250.260  157.9110  \n",
      "74    10.12  11.55   93.644   84.0473  \n",
      "75    10.98  12.93   90.638   77.4899  \n",
      "\n",
      "[76 rows x 28 columns]\n"
     ]
    },
    {
     "data": {
      "image/png": "[encoded data removed]",
      "text/plain": [
       "<Figure size 640x480 with 1 Axes>"
      ]
     },
     "metadata": {},
     "output_type": "display_data"
    }
   ],
   "source": [
    "x_labels=pd.read_csv(r'/Users/pmzcwl/Library/CloudStorage/OneDrive-TheUniversityofNottingham/shared_simulations/mechanics/scenario_10/xlabels.txt',delim_whitespace=True,header=None)\n",
    "\n",
    "\n",
    "X_all = pd.read_csv(r'/Users/pmzcwl/Library/CloudStorage/OneDrive-TheUniversityofNottingham/shared_simulations/mechanics/scenario_10/X.txt',index_col=None,delim_whitespace=True,header=None)\n",
    "X_all.columns=x_labels.values.squeeze().tolist()\n",
    "print(X_all)\n",
    "\n",
    "mask = pd.read_csv(r'/Users/pmzcwl/Library/CloudStorage/OneDrive-TheUniversityofNottingham/shared_simulations/mechanics/scenario_10/output_mask_beat_5.txt',index_col=None,delim_whitespace=True,header=None)\n",
    "\n",
    "np.sum(mask)\n",
    "\n",
    "plt.plot(mask,'o')\n",
    "\n",
    "y_labels=pd.read_csv(r'/Users/pmzcwl/Library/CloudStorage/OneDrive-TheUniversityofNottingham/shared_simulations/mechanics/scenario_10/ylabels.txt',delim_whitespace=True,header=None)\n",
    "\n",
    "\n",
    "y_all = pd.read_csv(r'/Users/pmzcwl/Library/CloudStorage/OneDrive-TheUniversityofNottingham/shared_simulations/mechanics/scenario_10/Y.txt',index_col=None,delim_whitespace=True,header=None)\n",
    "y_all.columns=y_labels.values.squeeze().tolist()\n",
    "print(y_all)\n",
    "\n",
    "\n",
    "\n",
    "input_masked = X_all.copy().iloc[0:mask.shape[0]]\n",
    "input_complete=input_masked.copy().iloc[np.array(mask==1),]\n",
    "input_failed=input_masked.copy().iloc[np.array(mask==0),]"
   ]
  },
  {
   "cell_type": "code",
   "execution_count": 6,
   "id": "950f3eba",
   "metadata": {},
   "outputs": [
    {
     "name": "stdout",
     "output_type": "stream",
     "text": [
      "[0.386498, 0.799253]\n",
      "[0.305504, 1.02567]\n",
      "[1.47919, 4.96054]\n",
      "[1.05607, 7.27469]\n",
      "[1.06364, 7.4999]\n",
      "[1.02992, 3.98405]\n",
      "[1.03672, 3.85692]\n",
      "0\n",
      "1\n",
      "2\n",
      "3\n"
     ]
    }
   ],
   "source": [
    "input_masked = X_all.copy().iloc[0:mask.shape[0]]\n",
    "\n",
    "input_masked=input_masked.iloc[np.array(mask==1),]\n",
    "\n",
    "nDim = input_masked.shape[1]\n",
    "boundsMaxMin = []\n",
    "for i in range(nDim):\n",
    "    boundsMaxMin.append([np.min(input_masked.iloc[:,i]),np.max(input_masked.iloc[:,i])])\n",
    "    print(boundsMaxMin[i])\n",
    "\n",
    "x_all = torch.tensor(input_masked.values)\n",
    "\n",
    "y_calibration = y_all.loc[:,['A_TAT','V_TAT','LVpMax']]\n",
    "\n",
    "y_calibration2 = pd.DataFrame({'LV_EF':(y_all.loc[:,'LVedv']-y_all.loc[:,'LVesv'])/y_all.loc[:,'LVedv']})\n",
    "\n",
    "y_calibration=torch.tensor(y_calibration.join(y_calibration2).values)\n",
    "\n",
    "\n",
    "\n",
    "\n",
    "\n",
    "y_max=y_calibration.max(axis=0)\n",
    "\n",
    "y_max\n",
    "\n",
    "y_test = y_calibration[y_max[1][3],:]\n",
    "x_test = x_all[y_max[1][3],:]\n",
    "\n",
    "y_train = y_calibration[~torch.all(y_calibration == y_test, dim=1)]\n",
    "x_train = x_all[~torch.all(x_all == x_test, dim=1)]\n",
    "\n",
    "\n",
    "emulator=GPE.ensemble(x_train,y_train,mean_func=\"linear\",training_iter=500)\n"
   ]
  },
  {
   "cell_type": "code",
   "execution_count": 7,
   "id": "6d4989ff",
   "metadata": {},
   "outputs": [],
   "source": [
    "posterior=torch.tensor(posterior.values)"
   ]
  },
  {
   "cell_type": "code",
   "execution_count": 8,
   "id": "39aa9a4e",
   "metadata": {},
   "outputs": [],
   "source": [
    "ll=torch.sum(emulator.ensemble_log_likelihood_obs_error(posterior[45000:45100],y_test[None],[0.1,0.1,0.1,0.001]),axis=0)"
   ]
  },
  {
   "cell_type": "code",
   "execution_count": 9,
   "id": "7804f433",
   "metadata": {},
   "outputs": [
    {
     "data": {
      "text/plain": [
       "[<matplotlib.lines.Line2D at 0x2b0d9cd50>]"
      ]
     },
     "execution_count": 9,
     "metadata": {},
     "output_type": "execute_result"
    },
    {
     "data": {
      "image/png": "[encoded data removed]",
      "text/plain": [
       "<Figure size 640x480 with 1 Axes>"
      ]
     },
     "metadata": {},
     "output_type": "display_data"
    }
   ],
   "source": [
    "plt.plot(ll.detach().numpy().T,'o')"
   ]
  },
  {
   "cell_type": "code",
   "execution_count": 10,
   "id": "bce2a234",
   "metadata": {},
   "outputs": [
    {
     "data": {
      "text/plain": [
       "torch.Size([99, 7])"
      ]
     },
     "execution_count": 10,
     "metadata": {},
     "output_type": "execute_result"
    }
   ],
   "source": [
    "posterior[1:100].shape"
   ]
  },
  {
   "cell_type": "code",
   "execution_count": 11,
   "id": "e772853e",
   "metadata": {},
   "outputs": [
    {
     "data": {
      "text/plain": [
       "tensor([144.1990,  89.5618,  73.9400,   0.4480], dtype=torch.float64)"
      ]
     },
     "execution_count": 11,
     "metadata": {},
     "output_type": "execute_result"
    }
   ],
   "source": [
    "y_test"
   ]
  },
  {
   "cell_type": "code",
   "execution_count": 12,
   "id": "396f03e8",
   "metadata": {},
   "outputs": [
    {
     "data": {
      "text/plain": [
       "tensor([[8.0570e-02, 1.5792e-01, 7.4134e-02, 8.5683e-04],\n",
       "        [1.9333e+04, 2.8898e+02, 1.8267e+01, 5.4548e-02],\n",
       "        [5.6541e-02, 8.2740e-05, 4.5419e-01, 2.0914e-03],\n",
       "        [2.8150e-01, 4.2924e-02, 3.2275e-01, 9.0637e-04],\n",
       "        [2.4589e-01, 1.5865e-02, 5.7827e-02, 2.6966e-03],\n",
       "        [7.9119e-03, 3.4471e-02, 4.1009e-01, 1.8257e-03],\n",
       "        [4.5145e-05, 4.4726e-02, 7.3638e-06, 5.5488e-04],\n",
       "        [1.9164e-02, 1.3193e-01, 7.9028e-04, 3.9411e-03],\n",
       "        [2.1381e-03, 9.6515e-03, 6.2213e-01, 2.3766e-03],\n",
       "        [4.4254e-04, 5.3778e-01, 7.3541e-02, 5.5252e-04],\n",
       "        [5.8475e-02, 2.7842e-02, 1.3779e-03, 7.0388e-04],\n",
       "        [2.4370e-02, 3.5912e-03, 2.1322e-01, 1.1896e-03],\n",
       "        [1.7303e-02, 1.1471e-03, 4.0163e-02, 2.1267e-04],\n",
       "        [1.0181e-02, 2.6864e-01, 1.5280e-01, 1.4489e-04],\n",
       "        [1.0120e-02, 6.6751e-01, 6.6429e-02, 8.4735e-04],\n",
       "        [2.3264e-01, 5.0687e-02, 4.6937e-04, 1.5967e-03],\n",
       "        [4.0068e-02, 1.1974e-04, 3.1621e-01, 6.3264e-04],\n",
       "        [4.8544e-02, 2.4870e-02, 4.2914e-02, 2.0758e-04],\n",
       "        [7.3939e-02, 1.8295e-01, 7.4196e-02, 7.1308e-04],\n",
       "        [1.9333e+04, 2.8898e+02, 1.8267e+01, 5.4548e-02],\n",
       "        [2.2914e-02, 1.1077e-02, 3.3333e-01, 1.5450e-03],\n",
       "        [4.7302e-01, 1.9949e-02, 6.5907e-02, 1.5236e-03],\n",
       "        [9.3446e-02, 5.3695e-02, 2.1153e-04, 1.7589e-03],\n",
       "        [1.9360e-02, 1.7085e-04, 2.4260e-01, 8.7344e-04],\n",
       "        [2.6354e-01, 2.1270e-02, 6.7912e-02, 4.1937e-04],\n",
       "        [2.6370e-02, 1.0826e-01, 5.7346e-03, 6.3628e-03],\n",
       "        [4.1851e-03, 1.2634e-02, 5.8548e-01, 6.6554e-04],\n",
       "        [7.7434e-04, 4.2237e-01, 1.4813e-01, 5.8597e-04],\n",
       "        [3.1582e-02, 7.0908e-04, 6.5936e-05, 7.1580e-04],\n",
       "        [1.1317e-03, 6.2961e-02, 7.5889e-02, 1.4588e-03],\n",
       "        [5.5963e-03, 7.4829e-03, 1.5147e-01, 3.2663e-04],\n",
       "        [2.5453e-02, 3.5775e-01, 6.9774e-02, 7.7259e-05],\n",
       "        [6.3167e-03, 3.5977e-01, 3.0494e-02, 6.9111e-04],\n",
       "        [1.1338e-01, 3.7887e-03, 4.1690e-02, 1.4094e-03],\n",
       "        [3.2504e-02, 6.7709e-02, 3.9009e-01, 9.3261e-04],\n",
       "        [4.3060e-02, 2.6260e-02, 1.6694e-02, 2.0441e-04],\n",
       "        [1.3517e-01, 4.5703e-01, 1.8325e-01, 9.9569e-04],\n",
       "        [1.9333e+04, 2.8898e+02, 1.8267e+01, 5.4548e-02],\n",
       "        [5.7410e-02, 5.8193e-02, 1.1790e-01, 5.5858e-04],\n",
       "        [1.8479e-01, 7.8270e-02, 3.5629e-03, 2.0909e-03],\n",
       "        [1.1327e-01, 1.0286e-01, 5.6364e-03, 2.2246e-03],\n",
       "        [1.0244e-01, 3.5859e-02, 2.1956e-01, 6.4934e-04],\n",
       "        [1.4003e-01, 3.1370e-02, 8.8822e-02, 4.8959e-04],\n",
       "        [1.3638e-04, 7.9103e-05, 1.1118e-01, 1.4351e-03],\n",
       "        [2.7977e-07, 2.9427e-03, 6.7302e-01, 7.3320e-04],\n",
       "        [4.2036e-04, 1.3141e-01, 3.0237e-01, 9.2451e-04],\n",
       "        [3.3815e-02, 2.3489e-02, 9.8901e-02, 7.5712e-04],\n",
       "        [4.6084e-02, 1.0323e-04, 8.4066e-04, 1.3169e-03],\n",
       "        [2.4637e-04, 1.1580e-03, 1.2357e-01, 3.8423e-04],\n",
       "        [2.9850e-02, 3.4618e-01, 1.1561e-02, 7.4666e-05],\n",
       "        [2.1877e-01, 1.4240e-01, 5.1285e-01, 2.0496e-03],\n",
       "        [2.0800e-02, 4.9113e-04, 8.5249e-02, 9.0106e-04],\n",
       "        [7.4088e-02, 4.5678e-02, 3.0924e-01, 1.1281e-03],\n",
       "        [5.2739e-02, 1.9253e-01, 1.7236e-03, 1.8507e-04],\n",
       "        [4.7701e-04, 1.9932e-01, 4.3905e-01, 9.0828e-04],\n",
       "        [1.9333e+04, 2.8898e+02, 1.8267e+01, 5.4548e-02],\n",
       "        [2.1995e-01, 1.1820e-01, 8.5234e-02, 1.2543e-04],\n",
       "        [1.0016e-01, 1.7192e-02, 1.5019e-02, 1.4808e-03],\n",
       "        [9.7377e-02, 8.8942e-03, 2.4376e-03, 1.8772e-03],\n",
       "        [1.6835e-01, 1.6799e-02, 3.9438e-01, 3.7083e-04],\n",
       "        [1.1684e-01, 3.1224e-02, 6.7992e-02, 5.1283e-04],\n",
       "        [2.5517e-01, 1.8768e-02, 8.9708e-02, 2.7561e-03],\n",
       "        [1.2586e-01, 1.1742e-02, 1.7985e-01, 1.7114e-04],\n",
       "        [8.8512e-03, 2.9284e-01, 3.9092e-01, 7.3127e-04],\n",
       "        [2.1090e-03, 2.0209e-03, 4.5628e-03, 1.6771e-05],\n",
       "        [9.9579e-02, 3.6111e-04, 2.7943e-01, 1.4015e-03],\n",
       "        [1.0507e-03, 4.8087e-04, 4.2574e-03, 8.4884e-06],\n",
       "        [3.4751e-03, 1.3480e-01, 1.3828e-01, 1.1556e-05],\n",
       "        [1.0491e-01, 3.2021e-01, 3.3702e-01, 3.7957e-03],\n",
       "        [2.7321e-01, 3.6949e-02, 5.9037e-01, 1.3575e-03],\n",
       "        [6.4494e-02, 2.9529e-02, 2.7256e-01, 9.2274e-04],\n",
       "        [2.9048e-01, 1.5608e-01, 6.4864e-03, 9.9363e-05],\n",
       "        [8.9858e-02, 1.2537e-01, 2.0424e-06, 3.4527e-04],\n",
       "        [1.9333e+04, 2.8898e+02, 1.8267e+01, 5.4548e-02],\n",
       "        [1.0334e-01, 1.0197e-01, 4.8736e-02, 3.0297e-08],\n",
       "        [1.6982e-03, 2.3064e-03, 2.0479e-01, 8.1240e-04],\n",
       "        [1.3165e-01, 1.7896e-03, 2.6692e-03, 1.3377e-03],\n",
       "        [3.2185e-01, 7.2913e-04, 7.6870e-02, 1.1629e-04],\n",
       "        [5.9417e-03, 5.2767e-02, 5.1956e-02, 8.2093e-04],\n",
       "        [2.1800e-01, 1.6271e-02, 4.7924e-02, 2.7060e-03],\n",
       "        [2.5587e-01, 1.8696e-01, 1.2638e-01, 9.1725e-04],\n",
       "        [4.8706e-04, 9.5653e-02, 1.3790e-01, 5.1588e-04],\n",
       "        [4.2103e-02, 1.9712e-02, 1.3199e-02, 8.4299e-04],\n",
       "        [1.4441e-01, 2.8552e-01, 3.2630e-02, 4.8227e-03],\n",
       "        [1.0651e-02, 8.7188e-04, 1.1176e-01, 1.3565e-04],\n",
       "        [1.0551e-02, 9.0386e-02, 8.0641e-03, 1.9877e-05],\n",
       "        [1.1105e-02, 1.0407e-01, 1.9164e-01, 3.3319e-03],\n",
       "        [3.0655e-02, 2.3131e-02, 3.3394e-01, 1.3354e-03],\n",
       "        [2.4537e-01, 8.6782e-02, 2.0862e-02, 1.7377e-04],\n",
       "        [1.6212e-02, 1.6571e-04, 2.8089e-01, 3.1111e-04],\n",
       "        [4.9917e-01, 2.2144e-02, 1.2268e-01, 6.0551e-04],\n",
       "        [1.9333e+04, 2.8898e+02, 1.8267e+01, 5.4548e-02],\n",
       "        [6.3724e-01, 1.6524e-01, 1.6138e-01, 3.0765e-06],\n",
       "        [9.6373e-03, 2.0263e-02, 1.6543e-01, 9.8752e-06],\n",
       "        [1.2599e-01, 3.5606e-02, 1.9595e-01, 2.7376e-03],\n",
       "        [3.3083e-01, 1.5572e-02, 8.0772e-02, 2.3395e-04],\n",
       "        [2.6469e-01, 5.3766e-01, 3.3079e-01, 1.5949e-03],\n",
       "        [6.9856e-02, 3.0710e-02, 2.4801e-02, 5.4182e-03],\n",
       "        [2.5587e-01, 1.8696e-01, 1.2638e-01, 9.1725e-04],\n",
       "        [3.3662e-03, 1.7759e-01, 1.7334e-01, 9.0989e-04]], dtype=torch.float64,\n",
       "       grad_fn=<PowBackward0>)"
      ]
     },
     "execution_count": 12,
     "metadata": {},
     "output_type": "execute_result"
    }
   ],
   "source": [
    "(emulator.predict(posterior[45000:45100])-y_test)**2"
   ]
  },
  {
   "cell_type": "code",
   "execution_count": 13,
   "id": "b5ea3617",
   "metadata": {},
   "outputs": [],
   "source": [
    "ll=(emulator.ensemble_log_likelihood_obs_error(posterior[45000:45100],y_test[None],[0.1,0.1,0.1,0.1]))"
   ]
  },
  {
   "cell_type": "code",
   "execution_count": 14,
   "id": "a1820e29",
   "metadata": {},
   "outputs": [
    {
     "data": {
      "text/plain": [
       "<matplotlib.legend.Legend at 0x2b1134850>"
      ]
     },
     "execution_count": 14,
     "metadata": {},
     "output_type": "execute_result"
    },
    {
     "data": {
      "image/png": "[encoded data removed]",
      "text/plain": [
       "<Figure size 640x480 with 1 Axes>"
      ]
     },
     "metadata": {},
     "output_type": "display_data"
    }
   ],
   "source": [
    "plt.plot(ll.detach().numpy().T,'o')\n",
    "plt.legend(['A_TAT','V_TAT','LVpMax','EF'])"
   ]
  },
  {
   "cell_type": "code",
   "execution_count": 15,
   "id": "116200ea",
   "metadata": {},
   "outputs": [
    {
     "data": {
      "text/plain": [
       "tensor([[  28.9211,   62.5062,   66.1173,   86.3420],\n",
       "        [-246.1133, -101.9733,  -46.8965,   86.0638],\n",
       "        [  29.2441,   63.1491,   50.5313,   86.3354],\n",
       "        [  24.9830,   62.3826,   56.1497,   86.3417],\n",
       "        [  21.0694,   59.6233,   60.2080,   86.3326],\n",
       "        [  19.7795,   58.1524,   48.9385,   86.3364],\n",
       "        [  27.7380,   62.3810,   61.3484,   86.3433],\n",
       "        [  25.0680,   61.9457,   64.4095,   86.3265],\n",
       "        [  28.2041,   62.3872,   56.4499,   86.3341],\n",
       "        [  24.5642,   56.9750,   43.1132,   86.3429],\n",
       "        [  23.9190,   58.4984,   50.9026,   86.3423],\n",
       "        [  30.6095,   62.6182,   57.5524,   86.3400],\n",
       "        [  24.0615,   60.9660,   57.1519,   86.3448],\n",
       "        [  30.0424,   61.2571,   58.8300,   86.3454],\n",
       "        [  30.0612,   60.6722,   61.6212,   86.3419],\n",
       "        [  25.4071,   60.8011,   55.2923,   86.3381],\n",
       "        [  29.3034,   62.2059,   58.7904,   86.3428],\n",
       "        [  27.0020,   60.0390,   62.4305,   86.3451],\n",
       "        [  29.9386,   62.5387,   61.0241,   86.3426],\n",
       "        [-246.1133, -101.9733,  -46.8965,   86.0638],\n",
       "        [  29.8294,   63.2154,   53.3857,   86.3382],\n",
       "        [  26.5384,   63.1339,   50.3356,   86.3384],\n",
       "        [  23.0073,   59.8490,   60.1001,   86.3372],\n",
       "        [  28.3584,   61.7016,   59.8651,   86.3417],\n",
       "        [  22.3820,   60.0322,   49.2698,   86.3437],\n",
       "        [  25.5763,   62.5930,   56.8376,   86.3142],\n",
       "        [  28.7065,   61.9797,   53.8170,   86.3425],\n",
       "        [  26.9300,   58.5634,   50.3741,   86.3430],\n",
       "        [  26.2385,   60.4842,   60.1873,   86.3425],\n",
       "        [  30.7082,   62.8038,   58.3700,   86.3387],\n",
       "        [  27.8230,   61.9878,   58.3323,   86.3443],\n",
       "        [  29.6726,   60.4251,   59.8039,   86.3457],\n",
       "        [  29.9495,   61.4525,   62.0821,   86.3426],\n",
       "        [  28.3974,   62.7087,   67.5507,   86.3393],\n",
       "        [  29.8675,   62.5727,   58.8339,   86.3414],\n",
       "        [  27.3932,   60.2713,   62.4380,   86.3451],\n",
       "        [  29.1107,   61.8211,   60.9138,   86.3412],\n",
       "        [-246.1133, -101.9733,  -46.8965,   86.0638],\n",
       "        [  29.9483,   62.7019,   52.5817,   86.3431],\n",
       "        [  28.4103,   63.0657,   54.5405,   86.3355],\n",
       "        [  20.3859,   58.9458,   58.4701,   86.3349],\n",
       "        [  26.7558,   60.5944,   63.4069,   86.3429],\n",
       "        [  24.6246,   61.0684,   57.0398,   86.3435],\n",
       "        [  30.4267,   63.2782,   59.3922,   86.3390],\n",
       "        [  28.6180,   61.9301,   52.0768,   86.3421],\n",
       "        [  29.5676,   61.3870,   53.4945,   86.3413],\n",
       "        [  19.6641,   56.6801,   53.6607,   86.3419],\n",
       "        [  30.0644,   62.9202,   59.9416,   86.3395],\n",
       "        [  28.1756,   62.2131,   59.7331,   86.3441],\n",
       "        [  28.5967,   59.7197,   63.8417,   86.3458],\n",
       "        [  27.4190,   62.6687,   63.9034,   86.3360],\n",
       "        [  29.0615,   62.7377,   64.6852,   86.3417],\n",
       "        [  29.8551,   62.7483,   59.2626,   86.3404],\n",
       "        [  27.0075,   59.8140,   61.9445,   86.3452],\n",
       "        [  29.9847,   62.6036,   62.0119,   86.3417],\n",
       "        [-246.1133, -101.9733,  -46.8965,   86.0638],\n",
       "        [  28.8564,   61.1868,   57.6693,   86.3454],\n",
       "        [  29.4318,   63.2435,   53.1914,   86.3385],\n",
       "        [  20.9450,   59.1415,   61.4950,   86.3367],\n",
       "        [  26.0929,   59.8265,   63.3481,   86.3443],\n",
       "        [  24.5765,   61.0792,   57.2332,   86.3434],\n",
       "        [  29.3876,   62.9520,   57.3009,   86.3322],\n",
       "        [  28.8883,   62.1081,   63.8908,   86.3453],\n",
       "        [  25.4909,   58.3606,   50.1526,   86.3422],\n",
       "        [  28.0004,   60.2107,   62.0551,   86.3460],\n",
       "        [  27.9651,   62.7480,   63.6965,   86.3393],\n",
       "        [  27.0297,   61.4857,   57.8590,   86.3459],\n",
       "        [  25.9220,   57.9332,   59.6658,   86.3459],\n",
       "        [  26.1289,   62.0811,   64.5849,   86.3273],\n",
       "        [  22.2946,   60.8134,   56.3790,   86.3392],\n",
       "        [  29.9311,   62.8147,   59.7135,   86.3414],\n",
       "        [  28.1519,   60.0865,   57.1900,   86.3454],\n",
       "        [  23.6638,   60.6761,   58.8775,   86.3442],\n",
       "        [-246.1133, -101.9733,  -46.8965,   86.0638],\n",
       "        [  20.9883,   56.0860,   52.7580,   86.3457],\n",
       "        [  27.2828,   61.2075,   54.0908,   86.3419],\n",
       "        [  26.7696,   61.4429,   65.1991,   86.3395],\n",
       "        [  21.4225,   56.4756,   54.3072,   86.3453],\n",
       "        [  24.3387,   61.5364,   63.1989,   86.3421],\n",
       "        [  28.8365,   62.6151,   56.6810,   86.3324],\n",
       "        [  27.9909,   61.7947,   66.0037,   86.3417],\n",
       "        [  27.5328,   59.7828,   48.7523,   86.3432],\n",
       "        [  27.9793,   62.2677,   60.8717,   86.3419],\n",
       "        [  21.7451,   59.8036,   41.0982,   86.3212],\n",
       "        [  26.4098,   61.9606,   62.3530,   86.3455],\n",
       "        [  25.1262,   57.7258,   57.2557,   86.3457],\n",
       "        [  26.6610,   62.9699,   66.0161,   86.3297],\n",
       "        [  26.2385,   62.0368,   60.7461,   86.3394],\n",
       "        [  29.7720,   61.5901,   50.5845,   86.3448],\n",
       "        [  29.8082,   62.7408,   63.9085,   86.3447],\n",
       "        [  27.2418,   62.2849,   57.7702,   86.3430],\n",
       "        [-246.1133, -101.9733,  -46.8965,   86.0638],\n",
       "        [  24.5620,   58.0947,   53.5735,   86.3458],\n",
       "        [  29.7976,   61.9355,   57.9362,   86.3460],\n",
       "        [  28.9663,   63.2500,   63.7849,   86.3325],\n",
       "        [  24.9666,   58.7795,   56.5590,   86.3449],\n",
       "        [  27.7076,   60.8648,   59.5192,   86.3381],\n",
       "        [  26.9601,   62.9865,   59.5207,   86.3190],\n",
       "        [  27.9960,   61.7928,   66.0034,   86.3417],\n",
       "        [  14.2283,   53.7358,   42.9207,   86.3408]],\n",
       "       grad_fn=<PermuteBackward0>)"
      ]
     },
     "execution_count": 15,
     "metadata": {},
     "output_type": "execute_result"
    }
   ],
   "source": [
    "ll.T"
   ]
  },
  {
   "cell_type": "code",
   "execution_count": 16,
   "id": "0f8c2240",
   "metadata": {},
   "outputs": [],
   "source": [
    "\n",
    "    \n",
    "inputNorm,outputNorm = emulator.normalise_test_data(posterior,y_test)\n",
    "inputNorm=inputNorm.float()\n",
    "outputNorm=outputNorm.float()\n",
    "sigma = 0.1\n",
    "i=3\n",
    "emulator.models[i].eval()\n",
    "emulator.likelihoods[i].eval()\n",
    "posterior=posterior.float()\n",
    "m = emulator.likelihoods[i](emulator.models[i](inputNorm[45000:45010])).mean\n",
    "k = emulator.likelihoods[i](emulator.models[i](inputNorm[45000:45010])).covariance_matrix.diag()\n",
    "\n",
    "likelihood_manual=-0.5*((y_test[i]-(emulator.training_output_STD[i]*m+emulator.training_output_mean[i]))**2)/(emulator.training_output_STD[i]*k+sigma) -0.5*nDim*torch.log(emulator.training_output_STD[i]*k+sigma)"
   ]
  },
  {
   "cell_type": "code",
   "execution_count": 17,
   "id": "95f15a7b",
   "metadata": {},
   "outputs": [
    {
     "data": {
      "text/plain": [
       "tensor(-25860.0938)"
      ]
     },
     "execution_count": 17,
     "metadata": {},
     "output_type": "execute_result"
    }
   ],
   "source": [
    "torch.sum(inputNorm)"
   ]
  },
  {
   "cell_type": "code",
   "execution_count": 18,
   "id": "4ce8ba6e",
   "metadata": {},
   "outputs": [
    {
     "data": {
      "text/plain": [
       "tensor([ 0.0628, -0.6205, -1.0796,  1.9936])"
      ]
     },
     "execution_count": 18,
     "metadata": {},
     "output_type": "execute_result"
    }
   ],
   "source": [
    "outputNorm"
   ]
  },
  {
   "cell_type": "code",
   "execution_count": 19,
   "id": "cec3b57b",
   "metadata": {},
   "outputs": [
    {
     "data": {
      "text/plain": [
       "tensor([8.0537, 7.7712, 8.0469, 8.0533, 8.0443, 8.0477, 8.0550, 8.0382, 8.0457,\n",
       "        8.0544], grad_fn=<SubBackward0>)"
      ]
     },
     "execution_count": 19,
     "metadata": {},
     "output_type": "execute_result"
    }
   ],
   "source": [
    "likelihood_manual"
   ]
  },
  {
   "cell_type": "code",
   "execution_count": 20,
   "id": "a8650354",
   "metadata": {},
   "outputs": [],
   "source": [
    "nMod = emulator.training_output_normalised.shape[1]\n",
    "nDim = emulator.training_output_normalised.shape[0]\n",
    "#nP = posterior[45000:45010].shape[0]\n",
    "#likelihood_eval = torch.zeros((nMod,nP))\n",
    "\n",
    "#inputNorm,outputNorm = emulator.normalise_test_data(posterior,y_test)\n",
    "#inputNorm=inputNorm.float()\n",
    "#outputNorm=outputNorm.float()\n",
    "#sigma = 0.1\n",
    "#posterior=posterior.float()\n",
    "#for i in range(4):\n",
    "#    emulator.models[i].eval()\n",
    "#    emulator.likelihoods[i].eval()\n",
    "#    \n",
    "#    m = emulator.likelihoods[i](emulator.models[i](inputNorm[45000:45010])).mean\n",
    "#    k = emulator.likelihoods[i](emulator.models[i](inputNorm[45000:45010])).covariance_matrix.diag()\n",
    "#\n",
    "#    likelihood_manual=-0.5*((y_test[i]-(emulator.training_output_STD[i]*m+emulator.training_output_mean[i]))**2)/(emulator.training_output_STD[i]*k+sigma) -0.5*nDim*torch.log(emulator.training_output_STD[i]*k+sigma)\n",
    "#    likelihood_eval[i,:] = likelihood_manual"
   ]
  },
  {
   "cell_type": "code",
   "execution_count": 21,
   "id": "aa405f12",
   "metadata": {},
   "outputs": [
    {
     "data": {
      "text/plain": [
       "tensor([8.0537, 7.7712, 8.0469, 8.0533, 8.0443, 8.0477, 8.0550, 8.0382, 8.0457,\n",
       "        8.0544], grad_fn=<SubBackward0>)"
      ]
     },
     "execution_count": 21,
     "metadata": {},
     "output_type": "execute_result"
    }
   ],
   "source": [
    "likelihood_manual"
   ]
  },
  {
   "cell_type": "code",
   "execution_count": 22,
   "id": "81b009f0",
   "metadata": {
    "scrolled": false
   },
   "outputs": [
    {
     "ename": "NameError",
     "evalue": "name 'likelihood_eval' is not defined",
     "output_type": "error",
     "traceback": [
      "\u001b[0;31m---------------------------------------------------------------------------\u001b[0m",
      "\u001b[0;31mNameError\u001b[0m                                 Traceback (most recent call last)",
      "Cell \u001b[0;32mIn[22], line 1\u001b[0m\n\u001b[0;32m----> 1\u001b[0m likelihood_eval[\u001b[38;5;241m3\u001b[39m]\n",
      "\u001b[0;31mNameError\u001b[0m: name 'likelihood_eval' is not defined"
     ]
    }
   ],
   "source": [
    "likelihood_eval[3]"
   ]
  },
  {
   "cell_type": "code",
   "execution_count": null,
   "id": "b1ee30a7",
   "metadata": {},
   "outputs": [],
   "source": [
    "(emulator.ensemble_log_likelihood_obs_error(posterior[45000:45010],y_test[None],[0.1,0.1,0.1,0.1]))[3]"
   ]
  },
  {
   "cell_type": "code",
   "execution_count": 24,
   "id": "bc97a13e",
   "metadata": {},
   "outputs": [
    {
     "data": {
      "text/plain": [
       "tensor([[ 0.2982,  0.0195,  0.2952, -0.5431],\n",
       "        [-0.2614,  0.6707, -0.9839, -0.2191],\n",
       "        [ 0.0821,  0.3635, -0.8750,  1.9002],\n",
       "        [ 2.6367,  0.0303, -1.2738,  0.7704],\n",
       "        [-1.0597, -0.7500,  1.0666, -0.9360],\n",
       "        [-0.9415,  1.3520,  0.1052, -0.1515],\n",
       "        [-0.5637,  0.1331, -1.5138, -0.2205],\n",
       "        [-1.0853,  0.8964,  1.0458,  1.0480],\n",
       "        [ 0.0054, -0.5829,  0.9951,  0.4152],\n",
       "        [-0.1504,  1.5830,  1.0173, -0.0582],\n",
       "        [-0.3025,  1.5241, -1.7615, -0.1849],\n",
       "        [-0.2907,  2.1961, -1.6970,  1.4965],\n",
       "        [-0.2371, -1.1328,  0.1967,  1.1830],\n",
       "        [-0.7372, -0.5667,  0.8335, -0.5867],\n",
       "        [-0.1098, -0.1969,  0.8953,  0.7179],\n",
       "        [-0.0077,  0.7387, -1.2350,  1.7837],\n",
       "        [-1.1469, -0.8347, -0.0821,  0.5316],\n",
       "        [ 1.2460, -0.0645,  0.4714, -1.7176],\n",
       "        [-0.9551,  0.2303,  1.7700, -1.2399],\n",
       "        [-0.0343,  0.3187, -0.5344, -0.2763],\n",
       "        [ 2.9286,  1.8705, -0.0648, -1.9023],\n",
       "        [ 0.4600, -0.8735,  1.2525, -1.4383],\n",
       "        [-0.2724, -0.8232, -0.0634,  0.7008],\n",
       "        [-0.3793,  1.5041,  0.0649,  0.5932],\n",
       "        [ 1.3040, -0.9885,  0.3022, -0.2374],\n",
       "        [ 1.0579, -0.5397,  0.1981,  0.0922],\n",
       "        [ 0.7437,  0.2460, -0.7862,  1.4613],\n",
       "        [ 0.2471, -0.1963,  0.3077, -0.3959],\n",
       "        [-0.9195,  1.1442, -1.3321, -1.2071],\n",
       "        [-0.8517, -1.0515, -1.6054,  0.0856],\n",
       "        [ 1.0775,  0.2950, -0.3263, -0.5861],\n",
       "        [-0.7333,  1.7572,  0.0282,  0.3369],\n",
       "        [-0.6152, -1.0048, -0.4220,  0.0478],\n",
       "        [-0.7233,  0.3516,  0.7864, -0.6304],\n",
       "        [-0.5931, -0.8393, -0.0890,  0.9009],\n",
       "        [ 1.8584, -0.2970,  1.3101, -1.0839],\n",
       "        [-0.7850,  0.0921, -0.0523,  1.9443],\n",
       "        [-0.7363, -0.3333, -1.8447, -0.3298],\n",
       "        [ 1.2541,  0.1730,  1.0284, -1.0363],\n",
       "        [-1.0150, -1.0380, -1.2433,  0.2589],\n",
       "        [-0.6355, -0.8314,  0.5810, -1.9593],\n",
       "        [-0.8111,  2.2181, -0.5247, -1.7312],\n",
       "        [-0.4845, -0.6759, -1.5097,  1.2562],\n",
       "        [-0.8257, -0.9588, -0.4685,  1.7920],\n",
       "        [-0.8605, -0.8719,  0.3070, -0.6319],\n",
       "        [-0.7908, -0.2300, -0.4289,  0.8881],\n",
       "        [ 2.2279, -0.8250,  0.2606, -1.9615],\n",
       "        [-0.6154, -0.7375,  0.7905, -1.5320],\n",
       "        [ 0.5536,  2.0778, -1.3786, -1.0689],\n",
       "        [-0.7960, -1.0232, -0.8465,  0.8728],\n",
       "        [ 1.6887, -0.5615, -1.7649,  0.1200],\n",
       "        [ 0.0696, -0.9293, -0.7085,  0.9927],\n",
       "        [-0.9939, -1.0200,  1.5903, -0.5585],\n",
       "        [ 1.3040, -1.0516,  1.5251, -1.1743],\n",
       "        [-0.6608, -1.0126,  0.9258, -0.0647],\n",
       "        [-0.2232, -0.1687,  1.0201, -0.2448],\n",
       "        [ 1.3862,  1.5683, -0.0100,  0.2744],\n",
       "        [-0.5994, -0.8541,  1.9475,  0.0290],\n",
       "        [ 0.8187, -0.9157, -0.2500,  1.5942],\n",
       "        [ 0.5043, -0.6597,  0.1114, -0.4837],\n",
       "        [-0.9369,  0.7228,  1.0978, -0.0142],\n",
       "        [ 0.5372, -0.6022,  0.5089,  0.9995],\n",
       "        [-0.8464, -0.4268,  0.0622, -0.2388],\n",
       "        [ 0.7194,  1.5386, -1.4535,  1.1416],\n",
       "        [-0.7323, -0.2026,  0.3937, -0.7055],\n",
       "        [-0.0369,  1.5421, -1.8891,  0.4287],\n",
       "        [-0.7225, -0.4317,  0.8516, -0.7954],\n",
       "        [ 2.1728,  0.9484, -0.7439,  1.7970],\n",
       "        [-0.6723, -0.0740,  1.8033, -0.4957],\n",
       "        [ 0.0422, -1.1048,  0.9022,  0.0925],\n",
       "        [-0.1983, -1.0406, -0.5420,  1.4932],\n",
       "        [ 0.4984,  1.0740,  1.2657, -0.2367],\n",
       "        [ 2.2057,  2.0782, -0.0655, -0.5367],\n",
       "        [-0.9587, -0.8382,  0.6178, -0.2944],\n",
       "        [-1.0194, -1.0971, -0.1633, -0.3304]], dtype=torch.float64)"
      ]
     },
     "execution_count": 24,
     "metadata": {},
     "output_type": "execute_result"
    }
   ],
   "source": [
    "emulator.training_output_normalised"
   ]
  },
  {
   "cell_type": "code",
   "execution_count": 25,
   "id": "8bcd4f53",
   "metadata": {},
   "outputs": [
    {
     "data": {
      "text/plain": [
       "torch.Size([10])"
      ]
     },
     "execution_count": 25,
     "metadata": {},
     "output_type": "execute_result"
    }
   ],
   "source": [
    "m.shape"
   ]
  },
  {
   "cell_type": "code",
   "execution_count": null,
   "id": "7056c7c5",
   "metadata": {},
   "outputs": [],
   "source": []
  }
 ],
 "metadata": {
  "kernelspec": {
   "display_name": "Python 3 (ipykernel)",
   "language": "python",
   "name": "python3"
  },
  "language_info": {
   "codemirror_mode": {
    "name": "ipython",
    "version": 3
   },
   "file_extension": ".py",
   "mimetype": "text/x-python",
   "name": "python",
   "nbconvert_exporter": "python",
   "pygments_lexer": "ipython3",
   "version": "3.11.5"
  }
 },
 "nbformat": 4,
 "nbformat_minor": 5
}
