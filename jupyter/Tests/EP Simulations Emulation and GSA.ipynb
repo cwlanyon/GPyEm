{
 "cells": [
  {
   "cell_type": "code",
   "execution_count": 1,
   "id": "f5455388",
   "metadata": {},
   "outputs": [
    {
     "ename": "ModuleNotFoundError",
     "evalue": "No module named 'GPErks'",
     "output_type": "error",
     "traceback": [
      "\u001b[0;31m---------------------------------------------------------------------------\u001b[0m",
      "\u001b[0;31mModuleNotFoundError\u001b[0m                       Traceback (most recent call last)",
      "Cell \u001b[0;32mIn[1], line 11\u001b[0m\n\u001b[1;32m      9\u001b[0m \u001b[38;5;28;01mfrom\u001b[39;00m \u001b[38;5;21;01msklearn\u001b[39;00m\u001b[38;5;21;01m.\u001b[39;00m\u001b[38;5;21;01mmetrics\u001b[39;00m \u001b[38;5;28;01mimport\u001b[39;00m mean_squared_error, r2_score\n\u001b[1;32m     10\u001b[0m \u001b[38;5;28;01mfrom\u001b[39;00m \u001b[38;5;21;01msklearn\u001b[39;00m\u001b[38;5;21;01m.\u001b[39;00m\u001b[38;5;21;01mmodel_selection\u001b[39;00m \u001b[38;5;28;01mimport\u001b[39;00m train_test_split\n\u001b[0;32m---> 11\u001b[0m \u001b[38;5;28;01mfrom\u001b[39;00m \u001b[38;5;21;01mGPErks\u001b[39;00m\u001b[38;5;21;01m.\u001b[39;00m\u001b[38;5;21;01mgp\u001b[39;00m\u001b[38;5;21;01m.\u001b[39;00m\u001b[38;5;21;01mdata\u001b[39;00m\u001b[38;5;21;01m.\u001b[39;00m\u001b[38;5;21;01mdataset\u001b[39;00m \u001b[38;5;28;01mimport\u001b[39;00m Dataset\n\u001b[1;32m     12\u001b[0m \u001b[38;5;28;01mfrom\u001b[39;00m \u001b[38;5;21;01mgpytorch\u001b[39;00m\u001b[38;5;21;01m.\u001b[39;00m\u001b[38;5;21;01mlikelihoods\u001b[39;00m \u001b[38;5;28;01mimport\u001b[39;00m GaussianLikelihood\n\u001b[1;32m     13\u001b[0m \u001b[38;5;28;01mfrom\u001b[39;00m \u001b[38;5;21;01mgpytorch\u001b[39;00m\u001b[38;5;21;01m.\u001b[39;00m\u001b[38;5;21;01mmeans\u001b[39;00m \u001b[38;5;28;01mimport\u001b[39;00m LinearMean\n",
      "\u001b[0;31mModuleNotFoundError\u001b[0m: No module named 'GPErks'"
     ]
    }
   ],
   "source": [
    "import math\n",
    "import torch\n",
    "import gpytorch\n",
    "import pandas as pd\n",
    "import numpy as np\n",
    "from matplotlib import pyplot as plt\n",
    "import os\n",
    "from sklearn.linear_model import LinearRegression\n",
    "from sklearn.metrics import mean_squared_error, r2_score\n",
    "from sklearn.model_selection import train_test_split\n",
    "from GPErks.gp.data.dataset import Dataset\n",
    "from gpytorch.likelihoods import GaussianLikelihood\n",
    "from gpytorch.means import LinearMean\n",
    "from gpytorch.kernels import RBFKernel, ScaleKernel\n",
    "from torchmetrics import MeanSquaredError, R2Score\n",
    "from GPErks.gp.experiment import GPExperiment\n",
    "from GPErks.train.emulator import GPEmulator\n",
    "from GPErks.perks.inference import Inference\n",
    "from GPErks.train.early_stop import NoEarlyStoppingCriterion\n",
    "from GPErks.train.early_stop import (\n",
    "    GLEarlyStoppingCriterion,\n",
    "    PQEarlyStoppingCriterion,\n",
    "    UPEarlyStoppingCriterion,\n",
    ")\n",
    "from GPErks.train.early_stop import PkEarlyStoppingCriterion\n",
    "\n",
    "\n",
    "\n",
    "%matplotlib inline\n",
    "%load_ext autoreload\n",
    "%autoreload 2\n",
    "\n",
    "# set logger and enforce reproducibility\n",
    "from GPErks.log.logger import get_logger\n",
    "from GPErks.utils.random import set_seed\n",
    "log = get_logger()\n",
    "seed = 7\n",
    "set_seed(seed)"
   ]
  },
  {
   "cell_type": "markdown",
   "id": "6ff51ae4",
   "metadata": {},
   "source": [
    "# Model 1: Basic GP"
   ]
  },
  {
   "cell_type": "code",
   "execution_count": 2,
   "id": "37a017c5",
   "metadata": {
    "scrolled": false
   },
   "outputs": [
    {
     "name": "stdout",
     "output_type": "stream",
     "text": [
      "     (CV_ventricles,)  (k_ventricles,)  (k_FEC,)  (CV_atria,)  (k_atria,)  \\\n",
      "0            0.399840         0.323390   2.38256     0.792266    0.418700   \n",
      "1            0.411078         0.484808   2.97470     0.436497    0.392057   \n",
      "2            0.480070         0.255120   5.45824     0.707493    0.233964   \n",
      "3            0.723138         0.219679   7.08363     1.011880    0.440564   \n",
      "4            0.613551         0.212641   6.01868     0.914252    0.278204   \n",
      "..                ...              ...       ...          ...         ...   \n",
      "175          0.787312         0.392919   4.22219     0.385685    0.226360   \n",
      "176          0.436460         0.348932   3.06019     0.699568    0.471580   \n",
      "177          0.484816         0.466268   1.34156     0.437907    0.377097   \n",
      "178          0.734602         0.210847   1.62463     0.444901    0.404824   \n",
      "179          0.692167         0.415612   3.02559     0.847270    0.442109   \n",
      "\n",
      "     (k_BB,)  \n",
      "0    5.13714  \n",
      "1    2.72577  \n",
      "2    5.18898  \n",
      "3    2.02218  \n",
      "4    1.60980  \n",
      "..       ...  \n",
      "175  2.26043  \n",
      "176  4.25267  \n",
      "177  5.09147  \n",
      "178  2.36554  \n",
      "179  4.50165  \n",
      "\n",
      "[180 rows x 6 columns]\n"
     ]
    }
   ],
   "source": [
    "x_labels=pd.read_csv(r'C:\\Users\\pmzcwl\\Documents\\GitHub\\Calibration\\shared_simulations\\input\\xlabels_EP.txt',delim_whitespace=True,header=None)\n",
    "inputOrig = pd.read_csv(r'C:\\Users\\pmzcwl\\Documents\\GitHub\\Calibration\\shared_simulations\\input\\X_EP.txt',index_col=None,delim_whitespace=True,header=None)\n",
    "inputOrig.columns=x_labels\n",
    "print(inputOrig)"
   ]
  },
  {
   "cell_type": "code",
   "execution_count": 3,
   "id": "8bb9f9c4",
   "metadata": {},
   "outputs": [
    {
     "name": "stdout",
     "output_type": "stream",
     "text": [
      "     (A_TAT,)  (V_TAT,)\n",
      "0     127.156  227.8230\n",
      "1     251.071  188.8540\n",
      "2     163.448  164.8120\n",
      "3     110.207  110.6940\n",
      "4     140.815  136.1450\n",
      "..        ...       ...\n",
      "175   321.082   94.4139\n",
      "176   141.936  190.0140\n",
      "177   236.662  224.8330\n",
      "178   248.667  167.9450\n",
      "179   118.693  115.3070\n",
      "\n",
      "[180 rows x 2 columns]\n"
     ]
    }
   ],
   "source": [
    "y_labels=pd.read_csv(r'C:\\Users\\pmzcwl\\Documents\\GitHub\\Calibration\\shared_simulations\\output\\ylabels.txt',delim_whitespace=True,header=None)\n",
    "outputOrig = pd.read_csv(r'C:\\Users\\pmzcwl\\Documents\\GitHub\\Calibration\\shared_simulations\\output\\Y.txt',index_col=None,delim_whitespace=True,header=None)\n",
    "outputOrig.columns=y_labels\n",
    "print(outputOrig)"
   ]
  },
  {
   "cell_type": "code",
   "execution_count": 4,
   "id": "c4064df5",
   "metadata": {},
   "outputs": [],
   "source": [
    "# split original dataset in training, validation and testing sets\n",
    "X=inputOrig\n",
    "y=outputOrig\n",
    "X_, X_test, y_, y_test = train_test_split(\n",
    "    X,\n",
    "    y,\n",
    "    test_size=0.2,\n",
    "    random_state=seed\n",
    ")\n",
    "X_train, X_val, y_train, y_val = train_test_split(\n",
    "    X_,\n",
    "    y_,\n",
    "    test_size=0.2,\n",
    "    random_state=seed\n",
    ")"
   ]
  },
  {
   "cell_type": "code",
   "execution_count": 5,
   "id": "0f6bd2c5",
   "metadata": {},
   "outputs": [
    {
     "name": "stdout",
     "output_type": "stream",
     "text": [
      "TestExperiment dataset loaded.\n",
      "Notes from the author:\n",
      "\"An example dataset to test GPErks' power!\"\n",
      "Dataset properties:\n",
      "-Input size: 6\n",
      "-Input parameters: ['CV_ventricles', 'k_ventricles', 'k_FEC', 'CV_atria', 'k_atria', 'k_BB']\n",
      "-Output size: 1\n",
      "-Output feature: [array(['A_TAT'], dtype=object)]\n",
      "-Sample size: 144\n",
      "-Discrepancy: 0.0086\n",
      "-Validation data available: No\n",
      "-Testing data available: Yes (size = 36)\n"
     ]
    },
    {
     "data": {
      "image/png": "[encoded data removed]",
      "text/plain": [
       "<Figure size 1183.33x374.444 with 6 Axes>"
      ]
     },
     "metadata": {},
     "output_type": "display_data"
    },
    {
     "data": {
      "image/png": "[encoded data removed]",
      "text/plain": [
       "<Figure size 1183.33x936.111 with 36 Axes>"
      ]
     },
     "metadata": {},
     "output_type": "display_data"
    }
   ],
   "source": [
    "\n",
    "dataset = Dataset(\n",
    "        X_.values,\n",
    "        y_.iloc[:,0].values,\n",
    "        X_test=X_test.values,\n",
    "        y_test=y_test.iloc[:,0].values,\n",
    "        x_labels=x_labels.values.squeeze().tolist(),\n",
    "        y_label=y_labels.values[0],\n",
    "    \n",
    "        )\n",
    "dataset.plot()\n",
    "dataset.plot_pairwise()"
   ]
  },
  {
   "cell_type": "code",
   "execution_count": 6,
   "id": "d6feabd0",
   "metadata": {},
   "outputs": [
    {
     "name": "stderr",
     "output_type": "stream",
     "text": [
      "C:\\Users\\pmzcwl\\AppData\\Local\\anaconda3\\lib\\site-packages\\numpy\\core\\fromnumeric.py:84: FutureWarning: In a future version, DataFrame.min(axis=None) will return a scalar min over the entire DataFrame. To retain the old behavior, use 'frame.min(axis=0)' or just 'frame.min()'\n",
      "  return reduction(axis=axis, out=out, **passkwargs)\n"
     ]
    },
    {
     "data": {
      "text/plain": [
       "(A_TAT,)    98.9795\n",
       "(V_TAT,)    82.2549\n",
       "dtype: float64"
      ]
     },
     "execution_count": 6,
     "metadata": {},
     "output_type": "execute_result"
    }
   ],
   "source": [
    "np.min(y_train)"
   ]
  },
  {
   "cell_type": "code",
   "execution_count": 7,
   "id": "018d46bb",
   "metadata": {},
   "outputs": [],
   "source": [
    "from GPErks.gp.data.dataset import Dataset"
   ]
  },
  {
   "cell_type": "code",
   "execution_count": 8,
   "id": "cfdfd301",
   "metadata": {},
   "outputs": [
    {
     "data": {
      "text/plain": [
       "['CV_ventricles', 'k_ventricles', 'k_FEC', 'CV_atria', 'k_atria', 'k_BB']"
      ]
     },
     "execution_count": 8,
     "metadata": {},
     "output_type": "execute_result"
    }
   ],
   "source": [
    "x_labels.values.squeeze().tolist()"
   ]
  },
  {
   "cell_type": "code",
   "execution_count": null,
   "id": "461ceff3",
   "metadata": {},
   "outputs": [],
   "source": []
  },
  {
   "cell_type": "code",
   "execution_count": 9,
   "id": "f75835ac",
   "metadata": {
    "scrolled": true
   },
   "outputs": [
    {
     "name": "stderr",
     "output_type": "stream",
     "text": [
      "INFO:2023-07-17 10:47:10,236:emulator:train:L84: Training emulator...\n",
      "INFO:2023-07-17 10:47:10,238:emulator:train:L100: Running restart 1...\n"
     ]
    },
    {
     "name": "stdout",
     "output_type": "stream",
     "text": [
      "TestExperiment dataset loaded.\n",
      "Notes from the author:\n",
      "\"An example dataset to test GPErks' power!\"\n",
      "Dataset properties:\n",
      "-Input size: 6\n",
      "-Input parameters: ['CV_ventricles', 'k_ventricles', 'k_FEC', 'CV_atria', 'k_atria', 'k_BB']\n",
      "-Output size: 1\n",
      "-Output feature: [array(['A_TAT'], dtype=object)]\n",
      "-Sample size: 115\n",
      "-Discrepancy: 0.0159\n",
      "-Validation data available: Yes (size = 29)\n",
      "-Testing data available: Yes (size = 36)\n"
     ]
    },
    {
     "name": "stderr",
     "output_type": "stream",
     "text": [
      "C:\\Users\\pmzcwl\\AppData\\Local\\anaconda3\\lib\\site-packages\\gpytorch\\models\\exact_gp.py:283: GPInputWarning: The input matches the stored training data. Did you forget to call model.train()?\n",
      "  warnings.warn(\n",
      "INFO:2023-07-17 10:47:10,674:emulator:_train_once:L316: [  1/100] Training Loss: 1.3130 - MeanSquaredError: 0.3438 - R2Score: 0.6562 | Validation Loss: 1.2321 - MeanSquaredError: 0.6122 - R2Score: 0.5976\n",
      "INFO:2023-07-17 10:47:10,692:emulator:_train_once:L316: [  2/100] Training Loss: 1.2454 - MeanSquaredError: 0.2691 - R2Score: 0.7309 | Validation Loss: 1.1720 - MeanSquaredError: 0.5157 - R2Score: 0.6610\n",
      "INFO:2023-07-17 10:47:10,711:emulator:_train_once:L316: [  3/100] Training Loss: 1.1883 - MeanSquaredError: 0.2094 - R2Score: 0.7906 | Validation Loss: 1.1120 - MeanSquaredError: 0.4288 - R2Score: 0.7181\n",
      "INFO:2023-07-17 10:47:10,729:emulator:_train_once:L316: [  4/100] Training Loss: 1.1333 - MeanSquaredError: 0.1635 - R2Score: 0.8365 | Validation Loss: 1.0545 - MeanSquaredError: 0.3553 - R2Score: 0.7665\n",
      "INFO:2023-07-17 10:47:10,752:emulator:_train_once:L316: [  5/100] Training Loss: 1.0792 - MeanSquaredError: 0.1299 - R2Score: 0.8701 | Validation Loss: 1.0006 - MeanSquaredError: 0.2970 - R2Score: 0.8048\n",
      "INFO:2023-07-17 10:47:10,769:emulator:_train_once:L316: [  6/100] Training Loss: 1.0272 - MeanSquaredError: 0.1058 - R2Score: 0.8942 | Validation Loss: 0.9496 - MeanSquaredError: 0.2514 - R2Score: 0.8347\n",
      "INFO:2023-07-17 10:47:10,788:emulator:_train_once:L316: [  7/100] Training Loss: 0.9785 - MeanSquaredError: 0.0877 - R2Score: 0.9123 | Validation Loss: 0.8998 - MeanSquaredError: 0.2147 - R2Score: 0.8589\n",
      "INFO:2023-07-17 10:47:10,808:emulator:_train_once:L316: [  8/100] Training Loss: 0.9327 - MeanSquaredError: 0.0735 - R2Score: 0.9265 | Validation Loss: 0.8501 - MeanSquaredError: 0.1838 - R2Score: 0.8792\n",
      "INFO:2023-07-17 10:47:10,828:emulator:_train_once:L316: [  9/100] Training Loss: 0.8890 - MeanSquaredError: 0.0619 - R2Score: 0.9381 | Validation Loss: 0.8005 - MeanSquaredError: 0.1574 - R2Score: 0.8965\n",
      "INFO:2023-07-17 10:47:10,848:emulator:_train_once:L316: [ 10/100] Training Loss: 0.8467 - MeanSquaredError: 0.0527 - R2Score: 0.9473 | Validation Loss: 0.7515 - MeanSquaredError: 0.1352 - R2Score: 0.9111\n",
      "INFO:2023-07-17 10:47:10,866:emulator:_train_once:L316: [ 11/100] Training Loss: 0.8051 - MeanSquaredError: 0.0455 - R2Score: 0.9545 | Validation Loss: 0.7035 - MeanSquaredError: 0.1173 - R2Score: 0.9229\n",
      "INFO:2023-07-17 10:47:10,888:emulator:_train_once:L316: [ 12/100] Training Loss: 0.7639 - MeanSquaredError: 0.0401 - R2Score: 0.9599 | Validation Loss: 0.6565 - MeanSquaredError: 0.1031 - R2Score: 0.9322\n",
      "INFO:2023-07-17 10:47:10,906:emulator:_train_once:L316: [ 13/100] Training Loss: 0.7229 - MeanSquaredError: 0.0360 - R2Score: 0.9640 | Validation Loss: 0.6104 - MeanSquaredError: 0.0920 - R2Score: 0.9395\n",
      "INFO:2023-07-17 10:47:10,925:emulator:_train_once:L316: [ 14/100] Training Loss: 0.6816 - MeanSquaredError: 0.0328 - R2Score: 0.9672 | Validation Loss: 0.5646 - MeanSquaredError: 0.0830 - R2Score: 0.9454\n",
      "INFO:2023-07-17 10:47:10,949:emulator:_train_once:L316: [ 15/100] Training Loss: 0.6397 - MeanSquaredError: 0.0301 - R2Score: 0.9699 | Validation Loss: 0.5187 - MeanSquaredError: 0.0756 - R2Score: 0.9503\n",
      "INFO:2023-07-17 10:47:10,975:emulator:_train_once:L316: [ 16/100] Training Loss: 0.5970 - MeanSquaredError: 0.0278 - R2Score: 0.9722 | Validation Loss: 0.4725 - MeanSquaredError: 0.0692 - R2Score: 0.9545\n",
      "INFO:2023-07-17 10:47:10,998:emulator:_train_once:L316: [ 17/100] Training Loss: 0.5532 - MeanSquaredError: 0.0260 - R2Score: 0.9740 | Validation Loss: 0.4261 - MeanSquaredError: 0.0638 - R2Score: 0.9580\n",
      "INFO:2023-07-17 10:47:11,019:emulator:_train_once:L316: [ 18/100] Training Loss: 0.5084 - MeanSquaredError: 0.0244 - R2Score: 0.9756 | Validation Loss: 0.3796 - MeanSquaredError: 0.0592 - R2Score: 0.9611\n",
      "INFO:2023-07-17 10:47:11,044:emulator:_train_once:L316: [ 19/100] Training Loss: 0.4628 - MeanSquaredError: 0.0232 - R2Score: 0.9768 | Validation Loss: 0.3329 - MeanSquaredError: 0.0552 - R2Score: 0.9637\n",
      "INFO:2023-07-17 10:47:11,071:emulator:_train_once:L316: [ 20/100] Training Loss: 0.4168 - MeanSquaredError: 0.0222 - R2Score: 0.9778 | Validation Loss: 0.2863 - MeanSquaredError: 0.0518 - R2Score: 0.9659\n",
      "INFO:2023-07-17 10:47:11,093:emulator:_train_once:L316: [ 21/100] Training Loss: 0.3708 - MeanSquaredError: 0.0215 - R2Score: 0.9785 | Validation Loss: 0.2398 - MeanSquaredError: 0.0489 - R2Score: 0.9678\n",
      "INFO:2023-07-17 10:47:11,117:emulator:_train_once:L316: [ 22/100] Training Loss: 0.3251 - MeanSquaredError: 0.0209 - R2Score: 0.9791 | Validation Loss: 0.1937 - MeanSquaredError: 0.0465 - R2Score: 0.9694\n",
      "INFO:2023-07-17 10:47:11,142:emulator:_train_once:L316: [ 23/100] Training Loss: 0.2800 - MeanSquaredError: 0.0205 - R2Score: 0.9795 | Validation Loss: 0.1479 - MeanSquaredError: 0.0444 - R2Score: 0.9708\n",
      "INFO:2023-07-17 10:47:11,166:emulator:_train_once:L316: [ 24/100] Training Loss: 0.2355 - MeanSquaredError: 0.0200 - R2Score: 0.9800 | Validation Loss: 0.1026 - MeanSquaredError: 0.0425 - R2Score: 0.9720\n",
      "INFO:2023-07-17 10:47:11,194:emulator:_train_once:L316: [ 25/100] Training Loss: 0.1917 - MeanSquaredError: 0.0195 - R2Score: 0.9805 | Validation Loss: 0.0576 - MeanSquaredError: 0.0409 - R2Score: 0.9731\n",
      "INFO:2023-07-17 10:47:11,218:emulator:_train_once:L316: [ 26/100] Training Loss: 0.1482 - MeanSquaredError: 0.0189 - R2Score: 0.9811 | Validation Loss: 0.0129 - MeanSquaredError: 0.0393 - R2Score: 0.9742\n",
      "INFO:2023-07-17 10:47:11,243:emulator:_train_once:L316: [ 27/100] Training Loss: 0.1048 - MeanSquaredError: 0.0183 - R2Score: 0.9817 | Validation Loss: -0.0316 - MeanSquaredError: 0.0377 - R2Score: 0.9752\n",
      "INFO:2023-07-17 10:47:11,266:emulator:_train_once:L316: [ 28/100] Training Loss: 0.0613 - MeanSquaredError: 0.0175 - R2Score: 0.9825 | Validation Loss: -0.0759 - MeanSquaredError: 0.0362 - R2Score: 0.9762\n",
      "INFO:2023-07-17 10:47:11,291:emulator:_train_once:L316: [ 29/100] Training Loss: 0.0177 - MeanSquaredError: 0.0167 - R2Score: 0.9833 | Validation Loss: -0.1202 - MeanSquaredError: 0.0347 - R2Score: 0.9772\n",
      "INFO:2023-07-17 10:47:11,313:emulator:_train_once:L316: [ 30/100] Training Loss: -0.0256 - MeanSquaredError: 0.0159 - R2Score: 0.9841 | Validation Loss: -0.1647 - MeanSquaredError: 0.0331 - R2Score: 0.9783\n",
      "INFO:2023-07-17 10:47:11,333:emulator:_train_once:L316: [ 31/100] Training Loss: -0.0682 - MeanSquaredError: 0.0151 - R2Score: 0.9849 | Validation Loss: -0.2098 - MeanSquaredError: 0.0313 - R2Score: 0.9794\n",
      "INFO:2023-07-17 10:47:11,356:emulator:_train_once:L316: [ 32/100] Training Loss: -0.1096 - MeanSquaredError: 0.0143 - R2Score: 0.9857 | Validation Loss: -0.2563 - MeanSquaredError: 0.0292 - R2Score: 0.9808\n",
      "INFO:2023-07-17 10:47:11,379:emulator:_train_once:L316: [ 33/100] Training Loss: -0.1497 - MeanSquaredError: 0.0135 - R2Score: 0.9865 | Validation Loss: -0.3046 - MeanSquaredError: 0.0267 - R2Score: 0.9824\n",
      "INFO:2023-07-17 10:47:11,399:emulator:_train_once:L316: [ 34/100] Training Loss: -0.1887 - MeanSquaredError: 0.0127 - R2Score: 0.9873 | Validation Loss: -0.3548 - MeanSquaredError: 0.0239 - R2Score: 0.9843\n",
      "INFO:2023-07-17 10:47:11,424:emulator:_train_once:L316: [ 35/100] Training Loss: -0.2269 - MeanSquaredError: 0.0119 - R2Score: 0.9881 | Validation Loss: -0.4062 - MeanSquaredError: 0.0211 - R2Score: 0.9862\n",
      "INFO:2023-07-17 10:47:11,449:emulator:_train_once:L316: [ 36/100] Training Loss: -0.2644 - MeanSquaredError: 0.0113 - R2Score: 0.9887 | Validation Loss: -0.4578 - MeanSquaredError: 0.0183 - R2Score: 0.9880\n",
      "INFO:2023-07-17 10:47:11,474:emulator:_train_once:L316: [ 37/100] Training Loss: -0.3005 - MeanSquaredError: 0.0107 - R2Score: 0.9893 | Validation Loss: -0.5084 - MeanSquaredError: 0.0158 - R2Score: 0.9896\n",
      "INFO:2023-07-17 10:47:11,494:emulator:_train_once:L316: [ 38/100] Training Loss: -0.3340 - MeanSquaredError: 0.0102 - R2Score: 0.9898 | Validation Loss: -0.5564 - MeanSquaredError: 0.0139 - R2Score: 0.9909\n",
      "INFO:2023-07-17 10:47:11,515:emulator:_train_once:L316: [ 39/100] Training Loss: -0.3643 - MeanSquaredError: 0.0096 - R2Score: 0.9904 | Validation Loss: -0.6008 - MeanSquaredError: 0.0125 - R2Score: 0.9918\n",
      "INFO:2023-07-17 10:47:11,538:emulator:_train_once:L316: [ 40/100] Training Loss: -0.3927 - MeanSquaredError: 0.0091 - R2Score: 0.9909 | Validation Loss: -0.6416 - MeanSquaredError: 0.0117 - R2Score: 0.9923\n"
     ]
    },
    {
     "name": "stderr",
     "output_type": "stream",
     "text": [
      "INFO:2023-07-17 10:47:11,557:emulator:_train_once:L316: [ 41/100] Training Loss: -0.4212 - MeanSquaredError: 0.0085 - R2Score: 0.9915 | Validation Loss: -0.6794 - MeanSquaredError: 0.0113 - R2Score: 0.9926\n",
      "INFO:2023-07-17 10:47:11,578:emulator:_train_once:L316: [ 42/100] Training Loss: -0.4504 - MeanSquaredError: 0.0078 - R2Score: 0.9922 | Validation Loss: -0.7158 - MeanSquaredError: 0.0110 - R2Score: 0.9928\n",
      "INFO:2023-07-17 10:47:11,597:emulator:_train_once:L316: [ 43/100] Training Loss: -0.4801 - MeanSquaredError: 0.0070 - R2Score: 0.9930 | Validation Loss: -0.7539 - MeanSquaredError: 0.0107 - R2Score: 0.9930\n",
      "INFO:2023-07-17 10:47:11,616:emulator:_train_once:L316: [ 44/100] Training Loss: -0.5114 - MeanSquaredError: 0.0061 - R2Score: 0.9939 | Validation Loss: -0.7974 - MeanSquaredError: 0.0100 - R2Score: 0.9934\n",
      "INFO:2023-07-17 10:47:11,638:emulator:_train_once:L316: [ 45/100] Training Loss: -0.5475 - MeanSquaredError: 0.0051 - R2Score: 0.9949 | Validation Loss: -0.8475 - MeanSquaredError: 0.0090 - R2Score: 0.9941\n",
      "INFO:2023-07-17 10:47:11,658:emulator:_train_once:L316: [ 46/100] Training Loss: -0.5898 - MeanSquaredError: 0.0042 - R2Score: 0.9958 | Validation Loss: -0.9007 - MeanSquaredError: 0.0078 - R2Score: 0.9949\n",
      "INFO:2023-07-17 10:47:11,677:emulator:_train_once:L316: [ 47/100] Training Loss: -0.6363 - MeanSquaredError: 0.0035 - R2Score: 0.9965 | Validation Loss: -0.9520 - MeanSquaredError: 0.0068 - R2Score: 0.9956\n",
      "INFO:2023-07-17 10:47:11,696:emulator:_train_once:L316: [ 48/100] Training Loss: -0.6836 - MeanSquaredError: 0.0030 - R2Score: 0.9970 | Validation Loss: -0.9977 - MeanSquaredError: 0.0061 - R2Score: 0.9960\n",
      "INFO:2023-07-17 10:47:11,715:emulator:_train_once:L316: [ 49/100] Training Loss: -0.7282 - MeanSquaredError: 0.0026 - R2Score: 0.9974 | Validation Loss: -1.0383 - MeanSquaredError: 0.0057 - R2Score: 0.9962\n",
      "INFO:2023-07-17 10:47:11,737:emulator:_train_once:L316: [ 50/100] Training Loss: -0.7676 - MeanSquaredError: 0.0022 - R2Score: 0.9978 | Validation Loss: -1.0767 - MeanSquaredError: 0.0055 - R2Score: 0.9964\n",
      "INFO:2023-07-17 10:47:11,757:emulator:_train_once:L316: [ 51/100] Training Loss: -0.8020 - MeanSquaredError: 0.0019 - R2Score: 0.9981 | Validation Loss: -1.1154 - MeanSquaredError: 0.0052 - R2Score: 0.9966\n",
      "INFO:2023-07-17 10:47:11,776:emulator:_train_once:L316: [ 52/100] Training Loss: -0.8333 - MeanSquaredError: 0.0016 - R2Score: 0.9984 | Validation Loss: -1.1542 - MeanSquaredError: 0.0048 - R2Score: 0.9968\n",
      "INFO:2023-07-17 10:47:11,796:emulator:_train_once:L316: [ 53/100] Training Loss: -0.8627 - MeanSquaredError: 0.0014 - R2Score: 0.9986 | Validation Loss: -1.1931 - MeanSquaredError: 0.0043 - R2Score: 0.9972\n",
      "INFO:2023-07-17 10:47:11,818:emulator:_train_once:L316: [ 54/100] Training Loss: -0.8899 - MeanSquaredError: 0.0011 - R2Score: 0.9989 | Validation Loss: -1.2326 - MeanSquaredError: 0.0038 - R2Score: 0.9975\n",
      "INFO:2023-07-17 10:47:11,842:emulator:_train_once:L316: [ 55/100] Training Loss: -0.9157 - MeanSquaredError: 0.0010 - R2Score: 0.9990 | Validation Loss: -1.2721 - MeanSquaredError: 0.0033 - R2Score: 0.9978\n",
      "INFO:2023-07-17 10:47:11,862:emulator:_train_once:L316: [ 56/100] Training Loss: -0.9417 - MeanSquaredError: 0.0008 - R2Score: 0.9992 | Validation Loss: -1.3109 - MeanSquaredError: 0.0029 - R2Score: 0.9981\n",
      "INFO:2023-07-17 10:47:11,883:emulator:_train_once:L316: [ 57/100] Training Loss: -0.9689 - MeanSquaredError: 0.0007 - R2Score: 0.9993 | Validation Loss: -1.3487 - MeanSquaredError: 0.0026 - R2Score: 0.9983\n",
      "INFO:2023-07-17 10:47:11,903:emulator:_train_once:L316: [ 58/100] Training Loss: -0.9969 - MeanSquaredError: 0.0007 - R2Score: 0.9993 | Validation Loss: -1.3864 - MeanSquaredError: 0.0024 - R2Score: 0.9984\n",
      "INFO:2023-07-17 10:47:11,922:emulator:_train_once:L316: [ 59/100] Training Loss: -1.0258 - MeanSquaredError: 0.0007 - R2Score: 0.9993 | Validation Loss: -1.4255 - MeanSquaredError: 0.0023 - R2Score: 0.9985\n",
      "INFO:2023-07-17 10:47:11,948:emulator:_train_once:L316: [ 60/100] Training Loss: -1.0557 - MeanSquaredError: 0.0006 - R2Score: 0.9994 | Validation Loss: -1.4656 - MeanSquaredError: 0.0021 - R2Score: 0.9986\n",
      "INFO:2023-07-17 10:47:11,968:emulator:_train_once:L316: [ 61/100] Training Loss: -1.0855 - MeanSquaredError: 0.0006 - R2Score: 0.9994 | Validation Loss: -1.5054 - MeanSquaredError: 0.0020 - R2Score: 0.9987\n",
      "INFO:2023-07-17 10:47:11,988:emulator:_train_once:L316: [ 62/100] Training Loss: -1.1138 - MeanSquaredError: 0.0007 - R2Score: 0.9993 | Validation Loss: -1.5438 - MeanSquaredError: 0.0019 - R2Score: 0.9987\n",
      "INFO:2023-07-17 10:47:12,007:emulator:_train_once:L316: [ 63/100] Training Loss: -1.1409 - MeanSquaredError: 0.0007 - R2Score: 0.9993 | Validation Loss: -1.5809 - MeanSquaredError: 0.0019 - R2Score: 0.9988\n",
      "INFO:2023-07-17 10:47:12,027:emulator:_train_once:L316: [ 64/100] Training Loss: -1.1652 - MeanSquaredError: 0.0007 - R2Score: 0.9993 | Validation Loss: -1.6189 - MeanSquaredError: 0.0017 - R2Score: 0.9989\n",
      "INFO:2023-07-17 10:47:12,063:emulator:_train_once:L316: [ 65/100] Training Loss: -1.1873 - MeanSquaredError: 0.0006 - R2Score: 0.9994 | Validation Loss: -1.6573 - MeanSquaredError: 0.0016 - R2Score: 0.9989\n",
      "INFO:2023-07-17 10:47:12,085:emulator:_train_once:L316: [ 66/100] Training Loss: -1.2079 - MeanSquaredError: 0.0006 - R2Score: 0.9994 | Validation Loss: -1.6922 - MeanSquaredError: 0.0015 - R2Score: 0.9990\n",
      "INFO:2023-07-17 10:47:12,108:emulator:_train_once:L316: [ 67/100] Training Loss: -1.2269 - MeanSquaredError: 0.0006 - R2Score: 0.9994 | Validation Loss: -1.7241 - MeanSquaredError: 0.0014 - R2Score: 0.9991\n",
      "INFO:2023-07-17 10:47:12,127:emulator:_train_once:L316: [ 68/100] Training Loss: -1.2457 - MeanSquaredError: 0.0006 - R2Score: 0.9994 | Validation Loss: -1.7570 - MeanSquaredError: 0.0013 - R2Score: 0.9991\n",
      "INFO:2023-07-17 10:47:12,146:emulator:_train_once:L316: [ 69/100] Training Loss: -1.2644 - MeanSquaredError: 0.0005 - R2Score: 0.9995 | Validation Loss: -1.7888 - MeanSquaredError: 0.0012 - R2Score: 0.9992\n",
      "INFO:2023-07-17 10:47:12,169:emulator:_train_once:L316: [ 70/100] Training Loss: -1.2842 - MeanSquaredError: 0.0005 - R2Score: 0.9995 | Validation Loss: -1.8131 - MeanSquaredError: 0.0012 - R2Score: 0.9992\n",
      "INFO:2023-07-17 10:47:12,191:emulator:_train_once:L316: [ 71/100] Training Loss: -1.3045 - MeanSquaredError: 0.0004 - R2Score: 0.9996 | Validation Loss: -1.8343 - MeanSquaredError: 0.0012 - R2Score: 0.9992\n",
      "INFO:2023-07-17 10:47:12,211:emulator:_train_once:L316: [ 72/100] Training Loss: -1.3253 - MeanSquaredError: 0.0004 - R2Score: 0.9996 | Validation Loss: -1.8592 - MeanSquaredError: 0.0011 - R2Score: 0.9992\n",
      "INFO:2023-07-17 10:47:12,229:emulator:_train_once:L316: [ 73/100] Training Loss: -1.3460 - MeanSquaredError: 0.0003 - R2Score: 0.9997 | Validation Loss: -1.8825 - MeanSquaredError: 0.0011 - R2Score: 0.9993\n",
      "INFO:2023-07-17 10:47:12,249:emulator:_train_once:L316: [ 74/100] Training Loss: -1.3659 - MeanSquaredError: 0.0003 - R2Score: 0.9997 | Validation Loss: -1.8985 - MeanSquaredError: 0.0011 - R2Score: 0.9993\n",
      "INFO:2023-07-17 10:47:12,270:emulator:_train_once:L316: [ 75/100] Training Loss: -1.3840 - MeanSquaredError: 0.0003 - R2Score: 0.9997 | Validation Loss: -1.9141 - MeanSquaredError: 0.0011 - R2Score: 0.9993\n",
      "INFO:2023-07-17 10:47:12,290:emulator:_train_once:L316: [ 76/100] Training Loss: -1.3991 - MeanSquaredError: 0.0002 - R2Score: 0.9998 | Validation Loss: -1.9366 - MeanSquaredError: 0.0011 - R2Score: 0.9993\n",
      "INFO:2023-07-17 10:47:12,310:emulator:_train_once:L316: [ 77/100] Training Loss: -1.4126 - MeanSquaredError: 0.0002 - R2Score: 0.9998 | Validation Loss: -1.9606 - MeanSquaredError: 0.0010 - R2Score: 0.9993\n",
      "INFO:2023-07-17 10:47:12,330:emulator:_train_once:L316: [ 78/100] Training Loss: -1.4257 - MeanSquaredError: 0.0002 - R2Score: 0.9998 | Validation Loss: -1.9811 - MeanSquaredError: 0.0010 - R2Score: 0.9993\n",
      "INFO:2023-07-17 10:47:12,349:emulator:_train_once:L316: [ 79/100] Training Loss: -1.4398 - MeanSquaredError: 0.0002 - R2Score: 0.9998 | Validation Loss: -2.0036 - MeanSquaredError: 0.0010 - R2Score: 0.9994\n",
      "INFO:2023-07-17 10:47:12,370:emulator:_train_once:L316: [ 80/100] Training Loss: -1.4544 - MeanSquaredError: 0.0002 - R2Score: 0.9998 | Validation Loss: -2.0319 - MeanSquaredError: 0.0009 - R2Score: 0.9994\n"
     ]
    },
    {
     "name": "stderr",
     "output_type": "stream",
     "text": [
      "INFO:2023-07-17 10:47:12,390:emulator:_train_once:L316: [ 81/100] Training Loss: -1.4689 - MeanSquaredError: 0.0002 - R2Score: 0.9998 | Validation Loss: -2.0592 - MeanSquaredError: 0.0008 - R2Score: 0.9995\n",
      "INFO:2023-07-17 10:47:12,409:emulator:_train_once:L316: [ 82/100] Training Loss: -1.4820 - MeanSquaredError: 0.0002 - R2Score: 0.9998 | Validation Loss: -2.0806 - MeanSquaredError: 0.0008 - R2Score: 0.9995\n",
      "INFO:2023-07-17 10:47:12,429:emulator:_train_once:L316: [ 83/100] Training Loss: -1.4936 - MeanSquaredError: 0.0002 - R2Score: 0.9998 | Validation Loss: -2.1022 - MeanSquaredError: 0.0008 - R2Score: 0.9995\n",
      "INFO:2023-07-17 10:47:12,449:emulator:_train_once:L316: [ 84/100] Training Loss: -1.5040 - MeanSquaredError: 0.0002 - R2Score: 0.9998 | Validation Loss: -2.1255 - MeanSquaredError: 0.0007 - R2Score: 0.9995\n",
      "INFO:2023-07-17 10:47:12,470:emulator:_train_once:L316: [ 85/100] Training Loss: -1.5145 - MeanSquaredError: 0.0002 - R2Score: 0.9998 | Validation Loss: -2.1427 - MeanSquaredError: 0.0007 - R2Score: 0.9995\n",
      "INFO:2023-07-17 10:47:12,490:emulator:_train_once:L316: [ 86/100] Training Loss: -1.5253 - MeanSquaredError: 0.0002 - R2Score: 0.9998 | Validation Loss: -2.1550 - MeanSquaredError: 0.0007 - R2Score: 0.9995\n",
      "INFO:2023-07-17 10:47:12,512:emulator:_train_once:L316: [ 87/100] Training Loss: -1.5362 - MeanSquaredError: 0.0002 - R2Score: 0.9998 | Validation Loss: -2.1680 - MeanSquaredError: 0.0007 - R2Score: 0.9995\n",
      "INFO:2023-07-17 10:47:12,533:emulator:_train_once:L316: [ 88/100] Training Loss: -1.5464 - MeanSquaredError: 0.0002 - R2Score: 0.9998 | Validation Loss: -2.1776 - MeanSquaredError: 0.0007 - R2Score: 0.9995\n",
      "INFO:2023-07-17 10:47:12,553:emulator:_train_once:L316: [ 89/100] Training Loss: -1.5558 - MeanSquaredError: 0.0001 - R2Score: 0.9999 | Validation Loss: -2.1847 - MeanSquaredError: 0.0007 - R2Score: 0.9995\n",
      "INFO:2023-07-17 10:47:12,576:emulator:_train_once:L316: [ 90/100] Training Loss: -1.5640 - MeanSquaredError: 0.0001 - R2Score: 0.9999 | Validation Loss: -2.1956 - MeanSquaredError: 0.0007 - R2Score: 0.9995\n",
      "INFO:2023-07-17 10:47:12,598:emulator:_train_once:L316: [ 91/100] Training Loss: -1.5716 - MeanSquaredError: 0.0001 - R2Score: 0.9999 | Validation Loss: -2.2064 - MeanSquaredError: 0.0007 - R2Score: 0.9995\n",
      "INFO:2023-07-17 10:47:12,617:emulator:_train_once:L316: [ 92/100] Training Loss: -1.5789 - MeanSquaredError: 0.0001 - R2Score: 0.9999 | Validation Loss: -2.2188 - MeanSquaredError: 0.0007 - R2Score: 0.9995\n",
      "INFO:2023-07-17 10:47:12,636:emulator:_train_once:L316: [ 93/100] Training Loss: -1.5861 - MeanSquaredError: 0.0001 - R2Score: 0.9999 | Validation Loss: -2.2349 - MeanSquaredError: 0.0007 - R2Score: 0.9995\n",
      "INFO:2023-07-17 10:47:12,656:emulator:_train_once:L316: [ 94/100] Training Loss: -1.5935 - MeanSquaredError: 0.0001 - R2Score: 0.9999 | Validation Loss: -2.2478 - MeanSquaredError: 0.0007 - R2Score: 0.9996\n",
      "INFO:2023-07-17 10:47:12,680:emulator:_train_once:L316: [ 95/100] Training Loss: -1.6005 - MeanSquaredError: 0.0001 - R2Score: 0.9999 | Validation Loss: -2.2615 - MeanSquaredError: 0.0006 - R2Score: 0.9996\n",
      "INFO:2023-07-17 10:47:12,699:emulator:_train_once:L316: [ 96/100] Training Loss: -1.6071 - MeanSquaredError: 0.0001 - R2Score: 0.9999 | Validation Loss: -2.2756 - MeanSquaredError: 0.0006 - R2Score: 0.9996\n",
      "INFO:2023-07-17 10:47:12,718:emulator:_train_once:L316: [ 97/100] Training Loss: -1.6131 - MeanSquaredError: 0.0001 - R2Score: 0.9999 | Validation Loss: -2.2841 - MeanSquaredError: 0.0006 - R2Score: 0.9996\n",
      "INFO:2023-07-17 10:47:12,741:emulator:_train_once:L316: [ 98/100] Training Loss: -1.6188 - MeanSquaredError: 0.0001 - R2Score: 0.9999 | Validation Loss: -2.2954 - MeanSquaredError: 0.0006 - R2Score: 0.9996\n",
      "INFO:2023-07-17 10:47:12,761:emulator:_train_once:L316: [ 99/100] Training Loss: -1.6243 - MeanSquaredError: 0.0001 - R2Score: 0.9999 | Validation Loss: -2.3060 - MeanSquaredError: 0.0006 - R2Score: 0.9996\n",
      "INFO:2023-07-17 10:47:12,783:emulator:_train_once:L316: [100/100] Training Loss: -1.6297 - MeanSquaredError: 0.0001 - R2Score: 0.9999 | Validation Loss: -2.3120 - MeanSquaredError: 0.0006 - R2Score: 0.9996\n",
      "INFO:2023-07-17 10:47:12,790:emulator:train:L113: Run restart 1.\n",
      "INFO:2023-07-17 10:47:12,791:emulator:train:L100: Running restart 2...\n",
      "INFO:2023-07-17 10:47:12,815:emulator:_train_once:L316: [  1/100] Training Loss: 1.0272 - MeanSquaredError: 0.1038 - R2Score: 0.8962 | Validation Loss: 0.8280 - MeanSquaredError: 0.2815 - R2Score: 0.8150\n",
      "INFO:2023-07-17 10:47:12,837:emulator:_train_once:L316: [  2/100] Training Loss: 0.9821 - MeanSquaredError: 0.0873 - R2Score: 0.9127 | Validation Loss: 0.7783 - MeanSquaredError: 0.2382 - R2Score: 0.8434\n",
      "INFO:2023-07-17 10:47:12,858:emulator:_train_once:L316: [  3/100] Training Loss: 0.9242 - MeanSquaredError: 0.0717 - R2Score: 0.9283 | Validation Loss: 0.7265 - MeanSquaredError: 0.1980 - R2Score: 0.8699\n",
      "INFO:2023-07-17 10:47:12,877:emulator:_train_once:L316: [  4/100] Training Loss: 0.8639 - MeanSquaredError: 0.0578 - R2Score: 0.9422 | Validation Loss: 0.6741 - MeanSquaredError: 0.1630 - R2Score: 0.8928\n",
      "INFO:2023-07-17 10:47:12,899:emulator:_train_once:L316: [  5/100] Training Loss: 0.8052 - MeanSquaredError: 0.0459 - R2Score: 0.9541 | Validation Loss: 0.6221 - MeanSquaredError: 0.1334 - R2Score: 0.9123\n",
      "INFO:2023-07-17 10:47:12,923:emulator:_train_once:L316: [  6/100] Training Loss: 0.7487 - MeanSquaredError: 0.0361 - R2Score: 0.9639 | Validation Loss: 0.5716 - MeanSquaredError: 0.1095 - R2Score: 0.9280\n",
      "INFO:2023-07-17 10:47:12,942:emulator:_train_once:L316: [  7/100] Training Loss: 0.6938 - MeanSquaredError: 0.0288 - R2Score: 0.9712 | Validation Loss: 0.5232 - MeanSquaredError: 0.0913 - R2Score: 0.9400\n",
      "INFO:2023-07-17 10:47:12,963:emulator:_train_once:L316: [  8/100] Training Loss: 0.6405 - MeanSquaredError: 0.0234 - R2Score: 0.9766 | Validation Loss: 0.4764 - MeanSquaredError: 0.0778 - R2Score: 0.9489\n",
      "INFO:2023-07-17 10:47:12,982:emulator:_train_once:L316: [  9/100] Training Loss: 0.5888 - MeanSquaredError: 0.0196 - R2Score: 0.9804 | Validation Loss: 0.4302 - MeanSquaredError: 0.0676 - R2Score: 0.9555\n",
      "INFO:2023-07-17 10:47:13,005:emulator:_train_once:L316: [ 10/100] Training Loss: 0.5389 - MeanSquaredError: 0.0170 - R2Score: 0.9830 | Validation Loss: 0.3841 - MeanSquaredError: 0.0600 - R2Score: 0.9606\n",
      "INFO:2023-07-17 10:47:13,025:emulator:_train_once:L316: [ 11/100] Training Loss: 0.4906 - MeanSquaredError: 0.0153 - R2Score: 0.9847 | Validation Loss: 0.3379 - MeanSquaredError: 0.0544 - R2Score: 0.9643\n",
      "INFO:2023-07-17 10:47:13,044:emulator:_train_once:L316: [ 12/100] Training Loss: 0.4436 - MeanSquaredError: 0.0142 - R2Score: 0.9858 | Validation Loss: 0.2916 - MeanSquaredError: 0.0503 - R2Score: 0.9669\n",
      "INFO:2023-07-17 10:47:13,065:emulator:_train_once:L316: [ 13/100] Training Loss: 0.3975 - MeanSquaredError: 0.0135 - R2Score: 0.9865 | Validation Loss: 0.2451 - MeanSquaredError: 0.0473 - R2Score: 0.9689\n",
      "INFO:2023-07-17 10:47:13,084:emulator:_train_once:L316: [ 14/100] Training Loss: 0.3517 - MeanSquaredError: 0.0130 - R2Score: 0.9870 | Validation Loss: 0.1981 - MeanSquaredError: 0.0451 - R2Score: 0.9703\n",
      "INFO:2023-07-17 10:47:13,111:emulator:_train_once:L316: [ 15/100] Training Loss: 0.3054 - MeanSquaredError: 0.0126 - R2Score: 0.9874 | Validation Loss: 0.1505 - MeanSquaredError: 0.0434 - R2Score: 0.9715\n",
      "INFO:2023-07-17 10:47:13,130:emulator:_train_once:L316: [ 16/100] Training Loss: 0.2579 - MeanSquaredError: 0.0122 - R2Score: 0.9878 | Validation Loss: 0.1023 - MeanSquaredError: 0.0418 - R2Score: 0.9725\n",
      "INFO:2023-07-17 10:47:13,151:emulator:_train_once:L316: [ 17/100] Training Loss: 0.2088 - MeanSquaredError: 0.0119 - R2Score: 0.9881 | Validation Loss: 0.0535 - MeanSquaredError: 0.0403 - R2Score: 0.9735\n",
      "INFO:2023-07-17 10:47:13,174:emulator:_train_once:L316: [ 18/100] Training Loss: 0.1580 - MeanSquaredError: 0.0116 - R2Score: 0.9884 | Validation Loss: 0.0042 - MeanSquaredError: 0.0389 - R2Score: 0.9744\n",
      "INFO:2023-07-17 10:47:13,196:emulator:_train_once:L316: [ 19/100] Training Loss: 0.1057 - MeanSquaredError: 0.0114 - R2Score: 0.9886 | Validation Loss: -0.0454 - MeanSquaredError: 0.0374 - R2Score: 0.9754\n",
      "INFO:2023-07-17 10:47:13,218:emulator:_train_once:L316: [ 20/100] Training Loss: 0.0532 - MeanSquaredError: 0.0112 - R2Score: 0.9888 | Validation Loss: -0.0953 - MeanSquaredError: 0.0360 - R2Score: 0.9764\n"
     ]
    },
    {
     "name": "stderr",
     "output_type": "stream",
     "text": [
      "INFO:2023-07-17 10:47:13,237:emulator:_train_once:L316: [ 21/100] Training Loss: 0.0017 - MeanSquaredError: 0.0110 - R2Score: 0.9890 | Validation Loss: -0.1455 - MeanSquaredError: 0.0344 - R2Score: 0.9774\n",
      "INFO:2023-07-17 10:47:13,258:emulator:_train_once:L316: [ 22/100] Training Loss: -0.0475 - MeanSquaredError: 0.0108 - R2Score: 0.9892 | Validation Loss: -0.1963 - MeanSquaredError: 0.0326 - R2Score: 0.9785\n",
      "INFO:2023-07-17 10:47:13,277:emulator:_train_once:L316: [ 23/100] Training Loss: -0.0939 - MeanSquaredError: 0.0105 - R2Score: 0.9895 | Validation Loss: -0.2483 - MeanSquaredError: 0.0306 - R2Score: 0.9799\n",
      "INFO:2023-07-17 10:47:13,298:emulator:_train_once:L316: [ 24/100] Training Loss: -0.1377 - MeanSquaredError: 0.0101 - R2Score: 0.9899 | Validation Loss: -0.3021 - MeanSquaredError: 0.0283 - R2Score: 0.9814\n",
      "INFO:2023-07-17 10:47:13,324:emulator:_train_once:L316: [ 25/100] Training Loss: -0.1801 - MeanSquaredError: 0.0095 - R2Score: 0.9905 | Validation Loss: -0.3581 - MeanSquaredError: 0.0258 - R2Score: 0.9831\n",
      "INFO:2023-07-17 10:47:13,343:emulator:_train_once:L316: [ 26/100] Training Loss: -0.2227 - MeanSquaredError: 0.0088 - R2Score: 0.9912 | Validation Loss: -0.4162 - MeanSquaredError: 0.0230 - R2Score: 0.9849\n",
      "INFO:2023-07-17 10:47:13,364:emulator:_train_once:L316: [ 27/100] Training Loss: -0.2672 - MeanSquaredError: 0.0079 - R2Score: 0.9921 | Validation Loss: -0.4762 - MeanSquaredError: 0.0203 - R2Score: 0.9867\n",
      "INFO:2023-07-17 10:47:13,385:emulator:_train_once:L316: [ 28/100] Training Loss: -0.3142 - MeanSquaredError: 0.0069 - R2Score: 0.9931 | Validation Loss: -0.5375 - MeanSquaredError: 0.0176 - R2Score: 0.9884\n",
      "INFO:2023-07-17 10:47:13,407:emulator:_train_once:L316: [ 29/100] Training Loss: -0.3631 - MeanSquaredError: 0.0060 - R2Score: 0.9940 | Validation Loss: -0.5989 - MeanSquaredError: 0.0151 - R2Score: 0.9901\n",
      "INFO:2023-07-17 10:47:13,431:emulator:_train_once:L316: [ 30/100] Training Loss: -0.4128 - MeanSquaredError: 0.0051 - R2Score: 0.9949 | Validation Loss: -0.6593 - MeanSquaredError: 0.0128 - R2Score: 0.9916\n",
      "INFO:2023-07-17 10:47:13,451:emulator:_train_once:L316: [ 31/100] Training Loss: -0.4614 - MeanSquaredError: 0.0044 - R2Score: 0.9956 | Validation Loss: -0.7172 - MeanSquaredError: 0.0110 - R2Score: 0.9928\n",
      "INFO:2023-07-17 10:47:13,473:emulator:_train_once:L316: [ 32/100] Training Loss: -0.5075 - MeanSquaredError: 0.0039 - R2Score: 0.9961 | Validation Loss: -0.7725 - MeanSquaredError: 0.0095 - R2Score: 0.9938\n",
      "INFO:2023-07-17 10:47:13,493:emulator:_train_once:L316: [ 33/100] Training Loss: -0.5502 - MeanSquaredError: 0.0034 - R2Score: 0.9966 | Validation Loss: -0.8260 - MeanSquaredError: 0.0083 - R2Score: 0.9945\n",
      "INFO:2023-07-17 10:47:13,515:emulator:_train_once:L316: [ 34/100] Training Loss: -0.5905 - MeanSquaredError: 0.0031 - R2Score: 0.9969 | Validation Loss: -0.8788 - MeanSquaredError: 0.0074 - R2Score: 0.9952\n",
      "INFO:2023-07-17 10:47:13,539:emulator:_train_once:L316: [ 35/100] Training Loss: -0.6299 - MeanSquaredError: 0.0028 - R2Score: 0.9972 | Validation Loss: -0.9316 - MeanSquaredError: 0.0065 - R2Score: 0.9957\n",
      "INFO:2023-07-17 10:47:13,559:emulator:_train_once:L316: [ 36/100] Training Loss: -0.6697 - MeanSquaredError: 0.0025 - R2Score: 0.9975 | Validation Loss: -0.9846 - MeanSquaredError: 0.0059 - R2Score: 0.9962\n",
      "INFO:2023-07-17 10:47:13,582:emulator:_train_once:L316: [ 37/100] Training Loss: -0.7104 - MeanSquaredError: 0.0023 - R2Score: 0.9977 | Validation Loss: -1.0373 - MeanSquaredError: 0.0053 - R2Score: 0.9965\n",
      "INFO:2023-07-17 10:47:13,602:emulator:_train_once:L316: [ 38/100] Training Loss: -0.7515 - MeanSquaredError: 0.0021 - R2Score: 0.9979 | Validation Loss: -1.0892 - MeanSquaredError: 0.0048 - R2Score: 0.9968\n",
      "INFO:2023-07-17 10:47:13,622:emulator:_train_once:L316: [ 39/100] Training Loss: -0.7919 - MeanSquaredError: 0.0020 - R2Score: 0.9980 | Validation Loss: -1.1392 - MeanSquaredError: 0.0045 - R2Score: 0.9971\n",
      "INFO:2023-07-17 10:47:13,644:emulator:_train_once:L316: [ 40/100] Training Loss: -0.8307 - MeanSquaredError: 0.0018 - R2Score: 0.9982 | Validation Loss: -1.1868 - MeanSquaredError: 0.0042 - R2Score: 0.9972\n",
      "INFO:2023-07-17 10:47:13,665:emulator:_train_once:L316: [ 41/100] Training Loss: -0.8676 - MeanSquaredError: 0.0016 - R2Score: 0.9984 | Validation Loss: -1.2319 - MeanSquaredError: 0.0040 - R2Score: 0.9974\n",
      "INFO:2023-07-17 10:47:13,687:emulator:_train_once:L316: [ 42/100] Training Loss: -0.9027 - MeanSquaredError: 0.0015 - R2Score: 0.9985 | Validation Loss: -1.2753 - MeanSquaredError: 0.0038 - R2Score: 0.9975\n",
      "INFO:2023-07-17 10:47:13,708:emulator:_train_once:L316: [ 43/100] Training Loss: -0.9369 - MeanSquaredError: 0.0013 - R2Score: 0.9987 | Validation Loss: -1.3186 - MeanSquaredError: 0.0035 - R2Score: 0.9977\n",
      "INFO:2023-07-17 10:47:13,730:emulator:_train_once:L316: [ 44/100] Training Loss: -0.9706 - MeanSquaredError: 0.0011 - R2Score: 0.9989 | Validation Loss: -1.3633 - MeanSquaredError: 0.0032 - R2Score: 0.9979\n",
      "INFO:2023-07-17 10:47:13,754:emulator:_train_once:L316: [ 45/100] Training Loss: -1.0039 - MeanSquaredError: 0.0010 - R2Score: 0.9990 | Validation Loss: -1.4093 - MeanSquaredError: 0.0028 - R2Score: 0.9982\n",
      "INFO:2023-07-17 10:47:13,776:emulator:_train_once:L316: [ 46/100] Training Loss: -1.0359 - MeanSquaredError: 0.0008 - R2Score: 0.9992 | Validation Loss: -1.4553 - MeanSquaredError: 0.0023 - R2Score: 0.9985\n",
      "INFO:2023-07-17 10:47:13,798:emulator:_train_once:L316: [ 47/100] Training Loss: -1.0659 - MeanSquaredError: 0.0007 - R2Score: 0.9993 | Validation Loss: -1.5001 - MeanSquaredError: 0.0020 - R2Score: 0.9987\n",
      "INFO:2023-07-17 10:47:13,825:emulator:_train_once:L316: [ 48/100] Training Loss: -1.0941 - MeanSquaredError: 0.0007 - R2Score: 0.9993 | Validation Loss: -1.5431 - MeanSquaredError: 0.0017 - R2Score: 0.9989\n",
      "INFO:2023-07-17 10:47:13,845:emulator:_train_once:L316: [ 49/100] Training Loss: -1.1212 - MeanSquaredError: 0.0006 - R2Score: 0.9994 | Validation Loss: -1.5835 - MeanSquaredError: 0.0015 - R2Score: 0.9990\n",
      "INFO:2023-07-17 10:47:13,868:emulator:_train_once:L316: [ 50/100] Training Loss: -1.1468 - MeanSquaredError: 0.0006 - R2Score: 0.9994 | Validation Loss: -1.6218 - MeanSquaredError: 0.0014 - R2Score: 0.9991\n",
      "INFO:2023-07-17 10:47:13,888:emulator:_train_once:L316: [ 51/100] Training Loss: -1.1716 - MeanSquaredError: 0.0006 - R2Score: 0.9994 | Validation Loss: -1.6588 - MeanSquaredError: 0.0013 - R2Score: 0.9991\n",
      "INFO:2023-07-17 10:47:13,911:emulator:_train_once:L316: [ 52/100] Training Loss: -1.1974 - MeanSquaredError: 0.0006 - R2Score: 0.9994 | Validation Loss: -1.6932 - MeanSquaredError: 0.0014 - R2Score: 0.9991\n",
      "INFO:2023-07-17 10:47:13,933:emulator:_train_once:L316: [ 53/100] Training Loss: -1.2225 - MeanSquaredError: 0.0005 - R2Score: 0.9995 | Validation Loss: -1.7229 - MeanSquaredError: 0.0015 - R2Score: 0.9990\n",
      "INFO:2023-07-17 10:47:13,954:emulator:_train_once:L316: [ 54/100] Training Loss: -1.2440 - MeanSquaredError: 0.0005 - R2Score: 0.9995 | Validation Loss: -1.7505 - MeanSquaredError: 0.0015 - R2Score: 0.9990\n",
      "INFO:2023-07-17 10:47:13,979:emulator:_train_once:L316: [ 55/100] Training Loss: -1.2636 - MeanSquaredError: 0.0005 - R2Score: 0.9995 | Validation Loss: -1.7820 - MeanSquaredError: 0.0014 - R2Score: 0.9991\n",
      "INFO:2023-07-17 10:47:14,001:emulator:_train_once:L316: [ 56/100] Training Loss: -1.2849 - MeanSquaredError: 0.0004 - R2Score: 0.9996 | Validation Loss: -1.8188 - MeanSquaredError: 0.0012 - R2Score: 0.9992\n",
      "INFO:2023-07-17 10:47:14,042:emulator:_train_once:L316: [ 57/100] Training Loss: -1.3070 - MeanSquaredError: 0.0004 - R2Score: 0.9996 | Validation Loss: -1.8549 - MeanSquaredError: 0.0011 - R2Score: 0.9993\n",
      "INFO:2023-07-17 10:47:14,062:emulator:_train_once:L316: [ 58/100] Training Loss: -1.3265 - MeanSquaredError: 0.0003 - R2Score: 0.9997 | Validation Loss: -1.8832 - MeanSquaredError: 0.0010 - R2Score: 0.9994\n",
      "INFO:2023-07-17 10:47:14,083:emulator:_train_once:L316: [ 59/100] Training Loss: -1.3451 - MeanSquaredError: 0.0003 - R2Score: 0.9997 | Validation Loss: -1.9032 - MeanSquaredError: 0.0010 - R2Score: 0.9993\n",
      "INFO:2023-07-17 10:47:14,107:emulator:_train_once:L316: [ 60/100] Training Loss: -1.3637 - MeanSquaredError: 0.0003 - R2Score: 0.9997 | Validation Loss: -1.9208 - MeanSquaredError: 0.0010 - R2Score: 0.9993\n"
     ]
    },
    {
     "name": "stderr",
     "output_type": "stream",
     "text": [
      "INFO:2023-07-17 10:47:14,126:emulator:_train_once:L316: [ 61/100] Training Loss: -1.3812 - MeanSquaredError: 0.0003 - R2Score: 0.9997 | Validation Loss: -1.9407 - MeanSquaredError: 0.0011 - R2Score: 0.9993\n",
      "INFO:2023-07-17 10:47:14,145:emulator:_train_once:L316: [ 62/100] Training Loss: -1.3981 - MeanSquaredError: 0.0002 - R2Score: 0.9998 | Validation Loss: -1.9614 - MeanSquaredError: 0.0011 - R2Score: 0.9993\n",
      "INFO:2023-07-17 10:47:14,165:emulator:_train_once:L316: [ 63/100] Training Loss: -1.4136 - MeanSquaredError: 0.0002 - R2Score: 0.9998 | Validation Loss: -1.9817 - MeanSquaredError: 0.0010 - R2Score: 0.9993\n",
      "INFO:2023-07-17 10:47:14,185:emulator:_train_once:L316: [ 64/100] Training Loss: -1.4275 - MeanSquaredError: 0.0002 - R2Score: 0.9998 | Validation Loss: -2.0038 - MeanSquaredError: 0.0010 - R2Score: 0.9994\n",
      "INFO:2023-07-17 10:47:14,210:emulator:_train_once:L316: [ 65/100] Training Loss: -1.4416 - MeanSquaredError: 0.0002 - R2Score: 0.9998 | Validation Loss: -2.0294 - MeanSquaredError: 0.0009 - R2Score: 0.9994\n",
      "INFO:2023-07-17 10:47:14,231:emulator:_train_once:L316: [ 66/100] Training Loss: -1.4564 - MeanSquaredError: 0.0002 - R2Score: 0.9998 | Validation Loss: -2.0553 - MeanSquaredError: 0.0009 - R2Score: 0.9994\n",
      "INFO:2023-07-17 10:47:14,252:emulator:_train_once:L316: [ 67/100] Training Loss: -1.4697 - MeanSquaredError: 0.0002 - R2Score: 0.9998 | Validation Loss: -2.0789 - MeanSquaredError: 0.0008 - R2Score: 0.9995\n",
      "INFO:2023-07-17 10:47:14,272:emulator:_train_once:L316: [ 68/100] Training Loss: -1.4818 - MeanSquaredError: 0.0002 - R2Score: 0.9998 | Validation Loss: -2.1012 - MeanSquaredError: 0.0008 - R2Score: 0.9995\n",
      "INFO:2023-07-17 10:47:14,292:emulator:_train_once:L316: [ 69/100] Training Loss: -1.4935 - MeanSquaredError: 0.0002 - R2Score: 0.9998 | Validation Loss: -2.1237 - MeanSquaredError: 0.0007 - R2Score: 0.9995\n",
      "INFO:2023-07-17 10:47:14,314:emulator:_train_once:L316: [ 70/100] Training Loss: -1.5046 - MeanSquaredError: 0.0002 - R2Score: 0.9998 | Validation Loss: -2.1434 - MeanSquaredError: 0.0007 - R2Score: 0.9995\n",
      "INFO:2023-07-17 10:47:14,334:emulator:_train_once:L316: [ 71/100] Training Loss: -1.5145 - MeanSquaredError: 0.0002 - R2Score: 0.9998 | Validation Loss: -2.1573 - MeanSquaredError: 0.0007 - R2Score: 0.9996\n",
      "INFO:2023-07-17 10:47:14,354:emulator:_train_once:L316: [ 72/100] Training Loss: -1.5241 - MeanSquaredError: 0.0002 - R2Score: 0.9998 | Validation Loss: -2.1683 - MeanSquaredError: 0.0007 - R2Score: 0.9995\n",
      "INFO:2023-07-17 10:47:14,375:emulator:_train_once:L316: [ 73/100] Training Loss: -1.5336 - MeanSquaredError: 0.0002 - R2Score: 0.9998 | Validation Loss: -2.1820 - MeanSquaredError: 0.0007 - R2Score: 0.9996\n",
      "INFO:2023-07-17 10:47:14,397:emulator:_train_once:L316: [ 74/100] Training Loss: -1.5430 - MeanSquaredError: 0.0001 - R2Score: 0.9999 | Validation Loss: -2.1979 - MeanSquaredError: 0.0007 - R2Score: 0.9996\n",
      "INFO:2023-07-17 10:47:14,421:emulator:_train_once:L316: [ 75/100] Training Loss: -1.5520 - MeanSquaredError: 0.0001 - R2Score: 0.9999 | Validation Loss: -2.2115 - MeanSquaredError: 0.0006 - R2Score: 0.9996\n",
      "INFO:2023-07-17 10:47:14,443:emulator:_train_once:L316: [ 76/100] Training Loss: -1.5601 - MeanSquaredError: 0.0001 - R2Score: 0.9999 | Validation Loss: -2.2229 - MeanSquaredError: 0.0006 - R2Score: 0.9996\n",
      "INFO:2023-07-17 10:47:14,465:emulator:_train_once:L316: [ 77/100] Training Loss: -1.5675 - MeanSquaredError: 0.0001 - R2Score: 0.9999 | Validation Loss: -2.2327 - MeanSquaredError: 0.0006 - R2Score: 0.9996\n",
      "INFO:2023-07-17 10:47:14,486:emulator:_train_once:L316: [ 78/100] Training Loss: -1.5748 - MeanSquaredError: 0.0001 - R2Score: 0.9999 | Validation Loss: -2.2402 - MeanSquaredError: 0.0007 - R2Score: 0.9996\n",
      "INFO:2023-07-17 10:47:14,506:emulator:_train_once:L316: [ 79/100] Training Loss: -1.5817 - MeanSquaredError: 0.0001 - R2Score: 0.9999 | Validation Loss: -2.2486 - MeanSquaredError: 0.0007 - R2Score: 0.9996\n",
      "INFO:2023-07-17 10:47:14,531:emulator:_train_once:L316: [ 80/100] Training Loss: -1.5882 - MeanSquaredError: 0.0001 - R2Score: 0.9999 | Validation Loss: -2.2611 - MeanSquaredError: 0.0006 - R2Score: 0.9996\n",
      "INFO:2023-07-17 10:47:14,551:emulator:_train_once:L316: [ 81/100] Training Loss: -1.5945 - MeanSquaredError: 0.0001 - R2Score: 0.9999 | Validation Loss: -2.2739 - MeanSquaredError: 0.0006 - R2Score: 0.9996\n",
      "INFO:2023-07-17 10:47:14,570:emulator:_train_once:L316: [ 82/100] Training Loss: -1.6005 - MeanSquaredError: 0.0001 - R2Score: 0.9999 | Validation Loss: -2.2860 - MeanSquaredError: 0.0006 - R2Score: 0.9996\n",
      "INFO:2023-07-17 10:47:14,591:emulator:_train_once:L316: [ 83/100] Training Loss: -1.6062 - MeanSquaredError: 0.0001 - R2Score: 0.9999 | Validation Loss: -2.2987 - MeanSquaredError: 0.0006 - R2Score: 0.9996\n",
      "INFO:2023-07-17 10:47:14,610:emulator:_train_once:L316: [ 84/100] Training Loss: -1.6116 - MeanSquaredError: 0.0001 - R2Score: 0.9999 | Validation Loss: -2.3090 - MeanSquaredError: 0.0006 - R2Score: 0.9996\n",
      "INFO:2023-07-17 10:47:14,643:emulator:_train_once:L316: [ 85/100] Training Loss: -1.6165 - MeanSquaredError: 0.0001 - R2Score: 0.9999 | Validation Loss: -2.3179 - MeanSquaredError: 0.0006 - R2Score: 0.9996\n",
      "INFO:2023-07-17 10:47:14,666:emulator:_train_once:L316: [ 86/100] Training Loss: -1.6215 - MeanSquaredError: 0.0001 - R2Score: 0.9999 | Validation Loss: -2.3264 - MeanSquaredError: 0.0006 - R2Score: 0.9996\n",
      "INFO:2023-07-17 10:47:14,686:emulator:_train_once:L316: [ 87/100] Training Loss: -1.6262 - MeanSquaredError: 0.0001 - R2Score: 0.9999 | Validation Loss: -2.3301 - MeanSquaredError: 0.0006 - R2Score: 0.9996\n",
      "INFO:2023-07-17 10:47:14,708:emulator:_train_once:L316: [ 88/100] Training Loss: -1.6309 - MeanSquaredError: 0.0001 - R2Score: 0.9999 | Validation Loss: -2.3328 - MeanSquaredError: 0.0006 - R2Score: 0.9996\n",
      "INFO:2023-07-17 10:47:14,730:emulator:_train_once:L316: [ 89/100] Training Loss: -1.6353 - MeanSquaredError: 0.0001 - R2Score: 0.9999 | Validation Loss: -2.3393 - MeanSquaredError: 0.0006 - R2Score: 0.9996\n",
      "INFO:2023-07-17 10:47:14,755:emulator:_train_once:L316: [ 90/100] Training Loss: -1.6395 - MeanSquaredError: 0.0001 - R2Score: 0.9999 | Validation Loss: -2.3456 - MeanSquaredError: 0.0006 - R2Score: 0.9996\n",
      "INFO:2023-07-17 10:47:14,775:emulator:_train_once:L316: [ 91/100] Training Loss: -1.6435 - MeanSquaredError: 0.0001 - R2Score: 0.9999 | Validation Loss: -2.3521 - MeanSquaredError: 0.0006 - R2Score: 0.9996\n",
      "INFO:2023-07-17 10:47:14,798:emulator:_train_once:L316: [ 92/100] Training Loss: -1.6473 - MeanSquaredError: 0.0001 - R2Score: 0.9999 | Validation Loss: -2.3591 - MeanSquaredError: 0.0006 - R2Score: 0.9996\n",
      "INFO:2023-07-17 10:47:14,823:emulator:_train_once:L316: [ 93/100] Training Loss: -1.6510 - MeanSquaredError: 0.0001 - R2Score: 0.9999 | Validation Loss: -2.3637 - MeanSquaredError: 0.0006 - R2Score: 0.9996\n",
      "INFO:2023-07-17 10:47:14,845:emulator:_train_once:L316: [ 94/100] Training Loss: -1.6545 - MeanSquaredError: 0.0001 - R2Score: 0.9999 | Validation Loss: -2.3685 - MeanSquaredError: 0.0006 - R2Score: 0.9996\n",
      "INFO:2023-07-17 10:47:14,869:emulator:_train_once:L316: [ 95/100] Training Loss: -1.6580 - MeanSquaredError: 0.0001 - R2Score: 0.9999 | Validation Loss: -2.3744 - MeanSquaredError: 0.0006 - R2Score: 0.9996\n",
      "INFO:2023-07-17 10:47:14,889:emulator:_train_once:L316: [ 96/100] Training Loss: -1.6613 - MeanSquaredError: 0.0001 - R2Score: 0.9999 | Validation Loss: -2.3789 - MeanSquaredError: 0.0006 - R2Score: 0.9996\n",
      "INFO:2023-07-17 10:47:14,909:emulator:_train_once:L316: [ 97/100] Training Loss: -1.6645 - MeanSquaredError: 0.0001 - R2Score: 0.9999 | Validation Loss: -2.3835 - MeanSquaredError: 0.0006 - R2Score: 0.9996\n",
      "INFO:2023-07-17 10:47:14,932:emulator:_train_once:L316: [ 98/100] Training Loss: -1.6676 - MeanSquaredError: 0.0001 - R2Score: 0.9999 | Validation Loss: -2.3883 - MeanSquaredError: 0.0006 - R2Score: 0.9996\n",
      "INFO:2023-07-17 10:47:14,960:emulator:_train_once:L316: [ 99/100] Training Loss: -1.6706 - MeanSquaredError: 0.0001 - R2Score: 0.9999 | Validation Loss: -2.3938 - MeanSquaredError: 0.0005 - R2Score: 0.9996\n",
      "INFO:2023-07-17 10:47:14,988:emulator:_train_once:L316: [100/100] Training Loss: -1.6735 - MeanSquaredError: 0.0001 - R2Score: 0.9999 | Validation Loss: -2.3999 - MeanSquaredError: 0.0005 - R2Score: 0.9996\n"
     ]
    },
    {
     "name": "stderr",
     "output_type": "stream",
     "text": [
      "INFO:2023-07-17 10:47:14,997:emulator:train:L113: Run restart 2.\n",
      "INFO:2023-07-17 10:47:14,998:emulator:train:L100: Running restart 3...\n",
      "INFO:2023-07-17 10:47:15,027:emulator:_train_once:L316: [  1/100] Training Loss: 1.4325 - MeanSquaredError: 0.2014 - R2Score: 0.7986 | Validation Loss: 1.3711 - MeanSquaredError: 0.6739 - R2Score: 0.5570\n",
      "INFO:2023-07-17 10:47:15,050:emulator:_train_once:L316: [  2/100] Training Loss: 1.4131 - MeanSquaredError: 0.1924 - R2Score: 0.8076 | Validation Loss: 1.3355 - MeanSquaredError: 0.5948 - R2Score: 0.6090\n",
      "INFO:2023-07-17 10:47:15,069:emulator:_train_once:L316: [  3/100] Training Loss: 1.3850 - MeanSquaredError: 0.1800 - R2Score: 0.8200 | Validation Loss: 1.2925 - MeanSquaredError: 0.5032 - R2Score: 0.6692\n",
      "INFO:2023-07-17 10:47:15,095:emulator:_train_once:L316: [  4/100] Training Loss: 1.3505 - MeanSquaredError: 0.1648 - R2Score: 0.8352 | Validation Loss: 1.2453 - MeanSquaredError: 0.4117 - R2Score: 0.7294\n",
      "INFO:2023-07-17 10:47:15,121:emulator:_train_once:L316: [  5/100] Training Loss: 1.3116 - MeanSquaredError: 0.1473 - R2Score: 0.8527 | Validation Loss: 1.1969 - MeanSquaredError: 0.3295 - R2Score: 0.7834\n",
      "INFO:2023-07-17 10:47:15,141:emulator:_train_once:L316: [  6/100] Training Loss: 1.2697 - MeanSquaredError: 0.1285 - R2Score: 0.8715 | Validation Loss: 1.1497 - MeanSquaredError: 0.2614 - R2Score: 0.8282\n",
      "INFO:2023-07-17 10:47:15,164:emulator:_train_once:L316: [  7/100] Training Loss: 1.2261 - MeanSquaredError: 0.1100 - R2Score: 0.8900 | Validation Loss: 1.1056 - MeanSquaredError: 0.2089 - R2Score: 0.8627\n",
      "INFO:2023-07-17 10:47:15,185:emulator:_train_once:L316: [  8/100] Training Loss: 1.1820 - MeanSquaredError: 0.0934 - R2Score: 0.9066 | Validation Loss: 1.0654 - MeanSquaredError: 0.1715 - R2Score: 0.8873\n",
      "INFO:2023-07-17 10:47:15,204:emulator:_train_once:L316: [  9/100] Training Loss: 1.1387 - MeanSquaredError: 0.0795 - R2Score: 0.9205 | Validation Loss: 1.0291 - MeanSquaredError: 0.1469 - R2Score: 0.9034\n",
      "INFO:2023-07-17 10:47:15,228:emulator:_train_once:L316: [ 10/100] Training Loss: 1.0967 - MeanSquaredError: 0.0687 - R2Score: 0.9313 | Validation Loss: 0.9960 - MeanSquaredError: 0.1321 - R2Score: 0.9132\n",
      "INFO:2023-07-17 10:47:15,249:emulator:_train_once:L316: [ 11/100] Training Loss: 1.0566 - MeanSquaredError: 0.0607 - R2Score: 0.9393 | Validation Loss: 0.9655 - MeanSquaredError: 0.1247 - R2Score: 0.9180\n",
      "INFO:2023-07-17 10:47:15,269:emulator:_train_once:L316: [ 12/100] Training Loss: 1.0187 - MeanSquaredError: 0.0554 - R2Score: 0.9446 | Validation Loss: 0.9368 - MeanSquaredError: 0.1229 - R2Score: 0.9192\n",
      "INFO:2023-07-17 10:47:15,290:emulator:_train_once:L316: [ 13/100] Training Loss: 0.9828 - MeanSquaredError: 0.0524 - R2Score: 0.9476 | Validation Loss: 0.9096 - MeanSquaredError: 0.1252 - R2Score: 0.9177\n",
      "INFO:2023-07-17 10:47:15,311:emulator:_train_once:L316: [ 14/100] Training Loss: 0.9489 - MeanSquaredError: 0.0513 - R2Score: 0.9487 | Validation Loss: 0.8833 - MeanSquaredError: 0.1301 - R2Score: 0.9145\n",
      "INFO:2023-07-17 10:47:15,337:emulator:_train_once:L316: [ 15/100] Training Loss: 0.9165 - MeanSquaredError: 0.0514 - R2Score: 0.9486 | Validation Loss: 0.8574 - MeanSquaredError: 0.1364 - R2Score: 0.9103\n",
      "INFO:2023-07-17 10:47:15,354:emulator:_train_once:L316: [ 16/100] Training Loss: 0.8851 - MeanSquaredError: 0.0523 - R2Score: 0.9477 | Validation Loss: 0.8311 - MeanSquaredError: 0.1427 - R2Score: 0.9062\n",
      "INFO:2023-07-17 10:47:15,374:emulator:_train_once:L316: [ 17/100] Training Loss: 0.8541 - MeanSquaredError: 0.0530 - R2Score: 0.9470 | Validation Loss: 0.8037 - MeanSquaredError: 0.1478 - R2Score: 0.9028\n",
      "INFO:2023-07-17 10:47:15,395:emulator:_train_once:L316: [ 18/100] Training Loss: 0.8227 - MeanSquaredError: 0.0532 - R2Score: 0.9468 | Validation Loss: 0.7746 - MeanSquaredError: 0.1508 - R2Score: 0.9009\n",
      "INFO:2023-07-17 10:47:15,417:emulator:_train_once:L316: [ 19/100] Training Loss: 0.7900 - MeanSquaredError: 0.0524 - R2Score: 0.9476 | Validation Loss: 0.7429 - MeanSquaredError: 0.1512 - R2Score: 0.9006\n",
      "INFO:2023-07-17 10:47:15,446:emulator:_train_once:L316: [ 20/100] Training Loss: 0.7551 - MeanSquaredError: 0.0504 - R2Score: 0.9496 | Validation Loss: 0.7080 - MeanSquaredError: 0.1485 - R2Score: 0.9024\n",
      "INFO:2023-07-17 10:47:15,467:emulator:_train_once:L316: [ 21/100] Training Loss: 0.7174 - MeanSquaredError: 0.0473 - R2Score: 0.9527 | Validation Loss: 0.6695 - MeanSquaredError: 0.1428 - R2Score: 0.9061\n",
      "INFO:2023-07-17 10:47:15,488:emulator:_train_once:L316: [ 22/100] Training Loss: 0.6766 - MeanSquaredError: 0.0435 - R2Score: 0.9565 | Validation Loss: 0.6270 - MeanSquaredError: 0.1344 - R2Score: 0.9116\n",
      "INFO:2023-07-17 10:47:15,508:emulator:_train_once:L316: [ 23/100] Training Loss: 0.6328 - MeanSquaredError: 0.0393 - R2Score: 0.9607 | Validation Loss: 0.5804 - MeanSquaredError: 0.1240 - R2Score: 0.9185\n",
      "INFO:2023-07-17 10:47:15,531:emulator:_train_once:L316: [ 24/100] Training Loss: 0.5864 - MeanSquaredError: 0.0351 - R2Score: 0.9649 | Validation Loss: 0.5302 - MeanSquaredError: 0.1121 - R2Score: 0.9263\n",
      "INFO:2023-07-17 10:47:15,555:emulator:_train_once:L316: [ 25/100] Training Loss: 0.5380 - MeanSquaredError: 0.0313 - R2Score: 0.9687 | Validation Loss: 0.4766 - MeanSquaredError: 0.0997 - R2Score: 0.9344\n",
      "INFO:2023-07-17 10:47:15,576:emulator:_train_once:L316: [ 26/100] Training Loss: 0.4882 - MeanSquaredError: 0.0279 - R2Score: 0.9721 | Validation Loss: 0.4201 - MeanSquaredError: 0.0874 - R2Score: 0.9425\n",
      "INFO:2023-07-17 10:47:15,599:emulator:_train_once:L316: [ 27/100] Training Loss: 0.4377 - MeanSquaredError: 0.0249 - R2Score: 0.9751 | Validation Loss: 0.3610 - MeanSquaredError: 0.0756 - R2Score: 0.9503\n",
      "INFO:2023-07-17 10:47:15,620:emulator:_train_once:L316: [ 28/100] Training Loss: 0.3866 - MeanSquaredError: 0.0223 - R2Score: 0.9777 | Validation Loss: 0.2997 - MeanSquaredError: 0.0645 - R2Score: 0.9576\n",
      "INFO:2023-07-17 10:47:15,640:emulator:_train_once:L316: [ 29/100] Training Loss: 0.3350 - MeanSquaredError: 0.0199 - R2Score: 0.9801 | Validation Loss: 0.2366 - MeanSquaredError: 0.0543 - R2Score: 0.9643\n",
      "INFO:2023-07-17 10:47:15,665:emulator:_train_once:L316: [ 30/100] Training Loss: 0.2827 - MeanSquaredError: 0.0177 - R2Score: 0.9823 | Validation Loss: 0.1722 - MeanSquaredError: 0.0452 - R2Score: 0.9703\n",
      "INFO:2023-07-17 10:47:15,685:emulator:_train_once:L316: [ 31/100] Training Loss: 0.2297 - MeanSquaredError: 0.0157 - R2Score: 0.9843 | Validation Loss: 0.1069 - MeanSquaredError: 0.0373 - R2Score: 0.9755\n",
      "INFO:2023-07-17 10:47:15,706:emulator:_train_once:L316: [ 32/100] Training Loss: 0.1760 - MeanSquaredError: 0.0140 - R2Score: 0.9860 | Validation Loss: 0.0414 - MeanSquaredError: 0.0307 - R2Score: 0.9798\n",
      "INFO:2023-07-17 10:47:15,730:emulator:_train_once:L316: [ 33/100] Training Loss: 0.1220 - MeanSquaredError: 0.0124 - R2Score: 0.9876 | Validation Loss: -0.0238 - MeanSquaredError: 0.0254 - R2Score: 0.9833\n",
      "INFO:2023-07-17 10:47:15,752:emulator:_train_once:L316: [ 34/100] Training Loss: 0.0680 - MeanSquaredError: 0.0112 - R2Score: 0.9888 | Validation Loss: -0.0883 - MeanSquaredError: 0.0214 - R2Score: 0.9860\n",
      "INFO:2023-07-17 10:47:15,786:emulator:_train_once:L316: [ 35/100] Training Loss: 0.0148 - MeanSquaredError: 0.0101 - R2Score: 0.9899 | Validation Loss: -0.1517 - MeanSquaredError: 0.0184 - R2Score: 0.9879\n",
      "INFO:2023-07-17 10:47:15,810:emulator:_train_once:L316: [ 36/100] Training Loss: -0.0374 - MeanSquaredError: 0.0093 - R2Score: 0.9907 | Validation Loss: -0.2139 - MeanSquaredError: 0.0162 - R2Score: 0.9893\n",
      "INFO:2023-07-17 10:47:15,835:emulator:_train_once:L316: [ 37/100] Training Loss: -0.0887 - MeanSquaredError: 0.0086 - R2Score: 0.9914 | Validation Loss: -0.2747 - MeanSquaredError: 0.0148 - R2Score: 0.9903\n",
      "INFO:2023-07-17 10:47:15,858:emulator:_train_once:L316: [ 38/100] Training Loss: -0.1398 - MeanSquaredError: 0.0079 - R2Score: 0.9921 | Validation Loss: -0.3342 - MeanSquaredError: 0.0139 - R2Score: 0.9909\n",
      "INFO:2023-07-17 10:47:15,878:emulator:_train_once:L316: [ 39/100] Training Loss: -0.1912 - MeanSquaredError: 0.0074 - R2Score: 0.9926 | Validation Loss: -0.3925 - MeanSquaredError: 0.0134 - R2Score: 0.9912\n",
      "INFO:2023-07-17 10:47:15,904:emulator:_train_once:L316: [ 40/100] Training Loss: -0.2433 - MeanSquaredError: 0.0068 - R2Score: 0.9932 | Validation Loss: -0.4495 - MeanSquaredError: 0.0131 - R2Score: 0.9914\n"
     ]
    },
    {
     "name": "stderr",
     "output_type": "stream",
     "text": [
      "INFO:2023-07-17 10:47:15,924:emulator:_train_once:L316: [ 41/100] Training Loss: -0.2954 - MeanSquaredError: 0.0064 - R2Score: 0.9936 | Validation Loss: -0.5055 - MeanSquaredError: 0.0129 - R2Score: 0.9916\n",
      "INFO:2023-07-17 10:47:15,946:emulator:_train_once:L316: [ 42/100] Training Loss: -0.3463 - MeanSquaredError: 0.0059 - R2Score: 0.9941 | Validation Loss: -0.5610 - MeanSquaredError: 0.0126 - R2Score: 0.9917\n",
      "INFO:2023-07-17 10:47:15,969:emulator:_train_once:L316: [ 43/100] Training Loss: -0.3954 - MeanSquaredError: 0.0054 - R2Score: 0.9946 | Validation Loss: -0.6170 - MeanSquaredError: 0.0121 - R2Score: 0.9920\n",
      "INFO:2023-07-17 10:47:15,989:emulator:_train_once:L316: [ 44/100] Training Loss: -0.4434 - MeanSquaredError: 0.0049 - R2Score: 0.9951 | Validation Loss: -0.6743 - MeanSquaredError: 0.0114 - R2Score: 0.9925\n",
      "INFO:2023-07-17 10:47:16,014:emulator:_train_once:L316: [ 45/100] Training Loss: -0.4916 - MeanSquaredError: 0.0043 - R2Score: 0.9957 | Validation Loss: -0.7334 - MeanSquaredError: 0.0104 - R2Score: 0.9932\n",
      "INFO:2023-07-17 10:47:16,033:emulator:_train_once:L316: [ 46/100] Training Loss: -0.5404 - MeanSquaredError: 0.0039 - R2Score: 0.9961 | Validation Loss: -0.7935 - MeanSquaredError: 0.0092 - R2Score: 0.9939\n",
      "INFO:2023-07-17 10:47:16,053:emulator:_train_once:L316: [ 47/100] Training Loss: -0.5887 - MeanSquaredError: 0.0034 - R2Score: 0.9966 | Validation Loss: -0.8536 - MeanSquaredError: 0.0081 - R2Score: 0.9947\n",
      "INFO:2023-07-17 10:47:16,073:emulator:_train_once:L316: [ 48/100] Training Loss: -0.6350 - MeanSquaredError: 0.0030 - R2Score: 0.9970 | Validation Loss: -0.9135 - MeanSquaredError: 0.0070 - R2Score: 0.9954\n",
      "INFO:2023-07-17 10:47:16,094:emulator:_train_once:L316: [ 49/100] Training Loss: -0.6793 - MeanSquaredError: 0.0027 - R2Score: 0.9973 | Validation Loss: -0.9732 - MeanSquaredError: 0.0060 - R2Score: 0.9960\n",
      "INFO:2023-07-17 10:47:16,116:emulator:_train_once:L316: [ 50/100] Training Loss: -0.7229 - MeanSquaredError: 0.0024 - R2Score: 0.9976 | Validation Loss: -1.0326 - MeanSquaredError: 0.0052 - R2Score: 0.9966\n",
      "INFO:2023-07-17 10:47:16,137:emulator:_train_once:L316: [ 51/100] Training Loss: -0.7660 - MeanSquaredError: 0.0020 - R2Score: 0.9980 | Validation Loss: -1.0905 - MeanSquaredError: 0.0045 - R2Score: 0.9970\n",
      "INFO:2023-07-17 10:47:16,159:emulator:_train_once:L316: [ 52/100] Training Loss: -0.8082 - MeanSquaredError: 0.0017 - R2Score: 0.9983 | Validation Loss: -1.1454 - MeanSquaredError: 0.0040 - R2Score: 0.9974\n",
      "INFO:2023-07-17 10:47:16,181:emulator:_train_once:L316: [ 53/100] Training Loss: -0.8490 - MeanSquaredError: 0.0015 - R2Score: 0.9985 | Validation Loss: -1.1960 - MeanSquaredError: 0.0036 - R2Score: 0.9976\n",
      "INFO:2023-07-17 10:47:16,212:emulator:_train_once:L316: [ 54/100] Training Loss: -0.8886 - MeanSquaredError: 0.0013 - R2Score: 0.9987 | Validation Loss: -1.2425 - MeanSquaredError: 0.0033 - R2Score: 0.9978\n",
      "INFO:2023-07-17 10:47:16,237:emulator:_train_once:L316: [ 55/100] Training Loss: -0.9259 - MeanSquaredError: 0.0011 - R2Score: 0.9989 | Validation Loss: -1.2867 - MeanSquaredError: 0.0030 - R2Score: 0.9980\n",
      "INFO:2023-07-17 10:47:16,258:emulator:_train_once:L316: [ 56/100] Training Loss: -0.9599 - MeanSquaredError: 0.0010 - R2Score: 0.9990 | Validation Loss: -1.3317 - MeanSquaredError: 0.0027 - R2Score: 0.9982\n",
      "INFO:2023-07-17 10:47:16,284:emulator:_train_once:L316: [ 57/100] Training Loss: -0.9916 - MeanSquaredError: 0.0009 - R2Score: 0.9991 | Validation Loss: -1.3793 - MeanSquaredError: 0.0024 - R2Score: 0.9984\n",
      "INFO:2023-07-17 10:47:16,306:emulator:_train_once:L316: [ 58/100] Training Loss: -1.0228 - MeanSquaredError: 0.0008 - R2Score: 0.9992 | Validation Loss: -1.4285 - MeanSquaredError: 0.0021 - R2Score: 0.9986\n",
      "INFO:2023-07-17 10:47:16,328:emulator:_train_once:L316: [ 59/100] Training Loss: -1.0536 - MeanSquaredError: 0.0008 - R2Score: 0.9992 | Validation Loss: -1.4764 - MeanSquaredError: 0.0019 - R2Score: 0.9987\n",
      "INFO:2023-07-17 10:47:16,351:emulator:_train_once:L316: [ 60/100] Training Loss: -1.0836 - MeanSquaredError: 0.0007 - R2Score: 0.9993 | Validation Loss: -1.5212 - MeanSquaredError: 0.0018 - R2Score: 0.9988\n",
      "INFO:2023-07-17 10:47:16,373:emulator:_train_once:L316: [ 61/100] Training Loss: -1.1130 - MeanSquaredError: 0.0007 - R2Score: 0.9993 | Validation Loss: -1.5643 - MeanSquaredError: 0.0017 - R2Score: 0.9989\n",
      "INFO:2023-07-17 10:47:16,392:emulator:_train_once:L316: [ 62/100] Training Loss: -1.1413 - MeanSquaredError: 0.0006 - R2Score: 0.9994 | Validation Loss: -1.6075 - MeanSquaredError: 0.0016 - R2Score: 0.9989\n",
      "INFO:2023-07-17 10:47:16,418:emulator:_train_once:L316: [ 63/100] Training Loss: -1.1672 - MeanSquaredError: 0.0006 - R2Score: 0.9994 | Validation Loss: -1.6504 - MeanSquaredError: 0.0015 - R2Score: 0.9990\n",
      "INFO:2023-07-17 10:47:16,443:emulator:_train_once:L316: [ 64/100] Training Loss: -1.1917 - MeanSquaredError: 0.0006 - R2Score: 0.9994 | Validation Loss: -1.6908 - MeanSquaredError: 0.0014 - R2Score: 0.9991\n",
      "INFO:2023-07-17 10:47:16,474:emulator:_train_once:L316: [ 65/100] Training Loss: -1.2154 - MeanSquaredError: 0.0005 - R2Score: 0.9995 | Validation Loss: -1.7283 - MeanSquaredError: 0.0013 - R2Score: 0.9991\n",
      "INFO:2023-07-17 10:47:16,499:emulator:_train_once:L316: [ 66/100] Training Loss: -1.2378 - MeanSquaredError: 0.0005 - R2Score: 0.9995 | Validation Loss: -1.7637 - MeanSquaredError: 0.0012 - R2Score: 0.9992\n",
      "INFO:2023-07-17 10:47:16,527:emulator:_train_once:L316: [ 67/100] Training Loss: -1.2607 - MeanSquaredError: 0.0004 - R2Score: 0.9996 | Validation Loss: -1.7956 - MeanSquaredError: 0.0012 - R2Score: 0.9992\n",
      "INFO:2023-07-17 10:47:16,552:emulator:_train_once:L316: [ 68/100] Training Loss: -1.2834 - MeanSquaredError: 0.0004 - R2Score: 0.9996 | Validation Loss: -1.8236 - MeanSquaredError: 0.0011 - R2Score: 0.9993\n",
      "INFO:2023-07-17 10:47:16,577:emulator:_train_once:L316: [ 69/100] Training Loss: -1.3053 - MeanSquaredError: 0.0003 - R2Score: 0.9997 | Validation Loss: -1.8512 - MeanSquaredError: 0.0011 - R2Score: 0.9993\n",
      "INFO:2023-07-17 10:47:16,604:emulator:_train_once:L316: [ 70/100] Training Loss: -1.3268 - MeanSquaredError: 0.0003 - R2Score: 0.9997 | Validation Loss: -1.8794 - MeanSquaredError: 0.0010 - R2Score: 0.9993\n",
      "INFO:2023-07-17 10:47:16,625:emulator:_train_once:L316: [ 71/100] Training Loss: -1.3468 - MeanSquaredError: 0.0003 - R2Score: 0.9997 | Validation Loss: -1.9040 - MeanSquaredError: 0.0010 - R2Score: 0.9994\n",
      "INFO:2023-07-17 10:47:16,649:emulator:_train_once:L316: [ 72/100] Training Loss: -1.3653 - MeanSquaredError: 0.0003 - R2Score: 0.9997 | Validation Loss: -1.9229 - MeanSquaredError: 0.0010 - R2Score: 0.9993\n",
      "INFO:2023-07-17 10:47:16,670:emulator:_train_once:L316: [ 73/100] Training Loss: -1.3823 - MeanSquaredError: 0.0002 - R2Score: 0.9998 | Validation Loss: -1.9404 - MeanSquaredError: 0.0010 - R2Score: 0.9993\n",
      "INFO:2023-07-17 10:47:16,690:emulator:_train_once:L316: [ 74/100] Training Loss: -1.3977 - MeanSquaredError: 0.0002 - R2Score: 0.9998 | Validation Loss: -1.9626 - MeanSquaredError: 0.0010 - R2Score: 0.9993\n",
      "INFO:2023-07-17 10:47:16,729:emulator:_train_once:L316: [ 75/100] Training Loss: -1.4129 - MeanSquaredError: 0.0002 - R2Score: 0.9998 | Validation Loss: -1.9893 - MeanSquaredError: 0.0010 - R2Score: 0.9994\n",
      "INFO:2023-07-17 10:47:16,754:emulator:_train_once:L316: [ 76/100] Training Loss: -1.4282 - MeanSquaredError: 0.0002 - R2Score: 0.9998 | Validation Loss: -2.0162 - MeanSquaredError: 0.0009 - R2Score: 0.9994\n",
      "INFO:2023-07-17 10:47:16,781:emulator:_train_once:L316: [ 77/100] Training Loss: -1.4435 - MeanSquaredError: 0.0002 - R2Score: 0.9998 | Validation Loss: -2.0417 - MeanSquaredError: 0.0009 - R2Score: 0.9994\n",
      "INFO:2023-07-17 10:47:16,810:emulator:_train_once:L316: [ 78/100] Training Loss: -1.4580 - MeanSquaredError: 0.0002 - R2Score: 0.9998 | Validation Loss: -2.0675 - MeanSquaredError: 0.0008 - R2Score: 0.9995\n",
      "INFO:2023-07-17 10:47:16,843:emulator:_train_once:L316: [ 79/100] Training Loss: -1.4714 - MeanSquaredError: 0.0002 - R2Score: 0.9998 | Validation Loss: -2.0925 - MeanSquaredError: 0.0008 - R2Score: 0.9995\n",
      "INFO:2023-07-17 10:47:16,885:emulator:_train_once:L316: [ 80/100] Training Loss: -1.4837 - MeanSquaredError: 0.0002 - R2Score: 0.9998 | Validation Loss: -2.1143 - MeanSquaredError: 0.0008 - R2Score: 0.9995\n"
     ]
    },
    {
     "name": "stderr",
     "output_type": "stream",
     "text": [
      "INFO:2023-07-17 10:47:16,924:emulator:_train_once:L316: [ 81/100] Training Loss: -1.4951 - MeanSquaredError: 0.0002 - R2Score: 0.9998 | Validation Loss: -2.1344 - MeanSquaredError: 0.0007 - R2Score: 0.9995\n",
      "INFO:2023-07-17 10:47:16,950:emulator:_train_once:L316: [ 82/100] Training Loss: -1.5060 - MeanSquaredError: 0.0002 - R2Score: 0.9998 | Validation Loss: -2.1526 - MeanSquaredError: 0.0007 - R2Score: 0.9995\n",
      "INFO:2023-07-17 10:47:16,975:emulator:_train_once:L316: [ 83/100] Training Loss: -1.5168 - MeanSquaredError: 0.0002 - R2Score: 0.9998 | Validation Loss: -2.1655 - MeanSquaredError: 0.0007 - R2Score: 0.9995\n",
      "INFO:2023-07-17 10:47:16,999:emulator:_train_once:L316: [ 84/100] Training Loss: -1.5270 - MeanSquaredError: 0.0002 - R2Score: 0.9998 | Validation Loss: -2.1764 - MeanSquaredError: 0.0007 - R2Score: 0.9995\n",
      "INFO:2023-07-17 10:47:17,050:emulator:_train_once:L316: [ 85/100] Training Loss: -1.5365 - MeanSquaredError: 0.0001 - R2Score: 0.9999 | Validation Loss: -2.1900 - MeanSquaredError: 0.0007 - R2Score: 0.9995\n",
      "INFO:2023-07-17 10:47:17,082:emulator:_train_once:L316: [ 86/100] Training Loss: -1.5453 - MeanSquaredError: 0.0001 - R2Score: 0.9999 | Validation Loss: -2.2019 - MeanSquaredError: 0.0007 - R2Score: 0.9995\n",
      "INFO:2023-07-17 10:47:17,112:emulator:_train_once:L316: [ 87/100] Training Loss: -1.5537 - MeanSquaredError: 0.0001 - R2Score: 0.9999 | Validation Loss: -2.2109 - MeanSquaredError: 0.0007 - R2Score: 0.9995\n",
      "INFO:2023-07-17 10:47:17,137:emulator:_train_once:L316: [ 88/100] Training Loss: -1.5618 - MeanSquaredError: 0.0001 - R2Score: 0.9999 | Validation Loss: -2.2222 - MeanSquaredError: 0.0007 - R2Score: 0.9995\n",
      "INFO:2023-07-17 10:47:17,158:emulator:_train_once:L316: [ 89/100] Training Loss: -1.5694 - MeanSquaredError: 0.0001 - R2Score: 0.9999 | Validation Loss: -2.2339 - MeanSquaredError: 0.0007 - R2Score: 0.9995\n",
      "INFO:2023-07-17 10:47:17,185:emulator:_train_once:L316: [ 90/100] Training Loss: -1.5767 - MeanSquaredError: 0.0001 - R2Score: 0.9999 | Validation Loss: -2.2458 - MeanSquaredError: 0.0007 - R2Score: 0.9996\n",
      "INFO:2023-07-17 10:47:17,206:emulator:_train_once:L316: [ 91/100] Training Loss: -1.5835 - MeanSquaredError: 0.0001 - R2Score: 0.9999 | Validation Loss: -2.2595 - MeanSquaredError: 0.0007 - R2Score: 0.9996\n",
      "INFO:2023-07-17 10:47:17,227:emulator:_train_once:L316: [ 92/100] Training Loss: -1.5900 - MeanSquaredError: 0.0001 - R2Score: 0.9999 | Validation Loss: -2.2712 - MeanSquaredError: 0.0006 - R2Score: 0.9996\n",
      "INFO:2023-07-17 10:47:17,248:emulator:_train_once:L316: [ 93/100] Training Loss: -1.5963 - MeanSquaredError: 0.0001 - R2Score: 0.9999 | Validation Loss: -2.2821 - MeanSquaredError: 0.0006 - R2Score: 0.9996\n",
      "INFO:2023-07-17 10:47:17,267:emulator:_train_once:L316: [ 94/100] Training Loss: -1.6023 - MeanSquaredError: 0.0001 - R2Score: 0.9999 | Validation Loss: -2.2944 - MeanSquaredError: 0.0006 - R2Score: 0.9996\n",
      "INFO:2023-07-17 10:47:17,289:emulator:_train_once:L316: [ 95/100] Training Loss: -1.6080 - MeanSquaredError: 0.0001 - R2Score: 0.9999 | Validation Loss: -2.3031 - MeanSquaredError: 0.0006 - R2Score: 0.9996\n",
      "INFO:2023-07-17 10:47:17,308:emulator:_train_once:L316: [ 96/100] Training Loss: -1.6134 - MeanSquaredError: 0.0001 - R2Score: 0.9999 | Validation Loss: -2.3103 - MeanSquaredError: 0.0006 - R2Score: 0.9996\n",
      "INFO:2023-07-17 10:47:17,329:emulator:_train_once:L316: [ 97/100] Training Loss: -1.6185 - MeanSquaredError: 0.0001 - R2Score: 0.9999 | Validation Loss: -2.3181 - MeanSquaredError: 0.0006 - R2Score: 0.9996\n",
      "INFO:2023-07-17 10:47:17,349:emulator:_train_once:L316: [ 98/100] Training Loss: -1.6234 - MeanSquaredError: 0.0001 - R2Score: 0.9999 | Validation Loss: -2.3244 - MeanSquaredError: 0.0006 - R2Score: 0.9996\n",
      "INFO:2023-07-17 10:47:17,375:emulator:_train_once:L316: [ 99/100] Training Loss: -1.6281 - MeanSquaredError: 0.0001 - R2Score: 0.9999 | Validation Loss: -2.3317 - MeanSquaredError: 0.0006 - R2Score: 0.9996\n",
      "INFO:2023-07-17 10:47:17,407:emulator:_train_once:L316: [100/100] Training Loss: -1.6326 - MeanSquaredError: 0.0001 - R2Score: 0.9999 | Validation Loss: -2.3384 - MeanSquaredError: 0.0006 - R2Score: 0.9996\n",
      "INFO:2023-07-17 10:47:17,416:emulator:train:L113: Run restart 3.\n",
      "INFO:2023-07-17 10:47:17,417:emulator:train:L100: Running restart 4...\n",
      "INFO:2023-07-17 10:47:17,440:emulator:_train_once:L316: [  1/100] Training Loss: 1.3367 - MeanSquaredError: 0.1526 - R2Score: 0.8474 | Validation Loss: 1.1938 - MeanSquaredError: 0.3245 - R2Score: 0.7867\n",
      "INFO:2023-07-17 10:47:17,461:emulator:_train_once:L316: [  2/100] Training Loss: 1.3175 - MeanSquaredError: 0.1412 - R2Score: 0.8588 | Validation Loss: 1.1704 - MeanSquaredError: 0.2962 - R2Score: 0.8053\n",
      "INFO:2023-07-17 10:47:17,480:emulator:_train_once:L316: [  3/100] Training Loss: 1.2925 - MeanSquaredError: 0.1283 - R2Score: 0.8717 | Validation Loss: 1.1450 - MeanSquaredError: 0.2677 - R2Score: 0.8240\n",
      "INFO:2023-07-17 10:47:17,503:emulator:_train_once:L316: [  4/100] Training Loss: 1.2631 - MeanSquaredError: 0.1153 - R2Score: 0.8847 | Validation Loss: 1.1186 - MeanSquaredError: 0.2421 - R2Score: 0.8409\n",
      "INFO:2023-07-17 10:47:17,529:emulator:_train_once:L316: [  5/100] Training Loss: 1.2309 - MeanSquaredError: 0.1033 - R2Score: 0.8967 | Validation Loss: 1.0921 - MeanSquaredError: 0.2210 - R2Score: 0.8547\n",
      "INFO:2023-07-17 10:47:17,552:emulator:_train_once:L316: [  6/100] Training Loss: 1.1969 - MeanSquaredError: 0.0927 - R2Score: 0.9073 | Validation Loss: 1.0657 - MeanSquaredError: 0.2047 - R2Score: 0.8655\n",
      "INFO:2023-07-17 10:47:17,575:emulator:_train_once:L316: [  7/100] Training Loss: 1.1621 - MeanSquaredError: 0.0836 - R2Score: 0.9164 | Validation Loss: 1.0390 - MeanSquaredError: 0.1918 - R2Score: 0.8739\n",
      "INFO:2023-07-17 10:47:17,597:emulator:_train_once:L316: [  8/100] Training Loss: 1.1268 - MeanSquaredError: 0.0757 - R2Score: 0.9243 | Validation Loss: 1.0117 - MeanSquaredError: 0.1806 - R2Score: 0.8813\n",
      "INFO:2023-07-17 10:47:17,617:emulator:_train_once:L316: [  9/100] Training Loss: 1.0914 - MeanSquaredError: 0.0689 - R2Score: 0.9311 | Validation Loss: 0.9832 - MeanSquaredError: 0.1698 - R2Score: 0.8884\n",
      "INFO:2023-07-17 10:47:17,643:emulator:_train_once:L316: [ 10/100] Training Loss: 1.0560 - MeanSquaredError: 0.0628 - R2Score: 0.9372 | Validation Loss: 0.9530 - MeanSquaredError: 0.1588 - R2Score: 0.8956\n",
      "INFO:2023-07-17 10:47:17,662:emulator:_train_once:L316: [ 11/100] Training Loss: 1.0206 - MeanSquaredError: 0.0573 - R2Score: 0.9427 | Validation Loss: 0.9212 - MeanSquaredError: 0.1477 - R2Score: 0.9029\n",
      "INFO:2023-07-17 10:47:17,683:emulator:_train_once:L316: [ 12/100] Training Loss: 0.9851 - MeanSquaredError: 0.0525 - R2Score: 0.9475 | Validation Loss: 0.8878 - MeanSquaredError: 0.1370 - R2Score: 0.9099\n",
      "INFO:2023-07-17 10:47:17,701:emulator:_train_once:L316: [ 13/100] Training Loss: 0.9495 - MeanSquaredError: 0.0482 - R2Score: 0.9518 | Validation Loss: 0.8530 - MeanSquaredError: 0.1269 - R2Score: 0.9166\n",
      "INFO:2023-07-17 10:47:17,722:emulator:_train_once:L316: [ 14/100] Training Loss: 0.9134 - MeanSquaredError: 0.0442 - R2Score: 0.9558 | Validation Loss: 0.8168 - MeanSquaredError: 0.1176 - R2Score: 0.9227\n",
      "INFO:2023-07-17 10:47:17,744:emulator:_train_once:L316: [ 15/100] Training Loss: 0.8766 - MeanSquaredError: 0.0405 - R2Score: 0.9595 | Validation Loss: 0.7790 - MeanSquaredError: 0.1088 - R2Score: 0.9285\n",
      "INFO:2023-07-17 10:47:17,766:emulator:_train_once:L316: [ 16/100] Training Loss: 0.8388 - MeanSquaredError: 0.0369 - R2Score: 0.9631 | Validation Loss: 0.7396 - MeanSquaredError: 0.1003 - R2Score: 0.9341\n",
      "INFO:2023-07-17 10:47:17,785:emulator:_train_once:L316: [ 17/100] Training Loss: 0.7997 - MeanSquaredError: 0.0335 - R2Score: 0.9665 | Validation Loss: 0.6985 - MeanSquaredError: 0.0920 - R2Score: 0.9395\n",
      "INFO:2023-07-17 10:47:17,806:emulator:_train_once:L316: [ 18/100] Training Loss: 0.7592 - MeanSquaredError: 0.0302 - R2Score: 0.9698 | Validation Loss: 0.6555 - MeanSquaredError: 0.0840 - R2Score: 0.9448\n",
      "INFO:2023-07-17 10:47:17,825:emulator:_train_once:L316: [ 19/100] Training Loss: 0.7172 - MeanSquaredError: 0.0272 - R2Score: 0.9728 | Validation Loss: 0.6109 - MeanSquaredError: 0.0763 - R2Score: 0.9498\n",
      "INFO:2023-07-17 10:47:17,847:emulator:_train_once:L316: [ 20/100] Training Loss: 0.6736 - MeanSquaredError: 0.0245 - R2Score: 0.9755 | Validation Loss: 0.5647 - MeanSquaredError: 0.0693 - R2Score: 0.9544\n"
     ]
    },
    {
     "name": "stderr",
     "output_type": "stream",
     "text": [
      "INFO:2023-07-17 10:47:17,866:emulator:_train_once:L316: [ 21/100] Training Loss: 0.6285 - MeanSquaredError: 0.0223 - R2Score: 0.9777 | Validation Loss: 0.5171 - MeanSquaredError: 0.0631 - R2Score: 0.9585\n",
      "INFO:2023-07-17 10:47:17,884:emulator:_train_once:L316: [ 22/100] Training Loss: 0.5821 - MeanSquaredError: 0.0205 - R2Score: 0.9795 | Validation Loss: 0.4684 - MeanSquaredError: 0.0578 - R2Score: 0.9620\n",
      "INFO:2023-07-17 10:47:17,903:emulator:_train_once:L316: [ 23/100] Training Loss: 0.5347 - MeanSquaredError: 0.0191 - R2Score: 0.9809 | Validation Loss: 0.4185 - MeanSquaredError: 0.0533 - R2Score: 0.9650\n",
      "INFO:2023-07-17 10:47:17,921:emulator:_train_once:L316: [ 24/100] Training Loss: 0.4866 - MeanSquaredError: 0.0179 - R2Score: 0.9821 | Validation Loss: 0.3673 - MeanSquaredError: 0.0493 - R2Score: 0.9676\n",
      "INFO:2023-07-17 10:47:17,943:emulator:_train_once:L316: [ 25/100] Training Loss: 0.4379 - MeanSquaredError: 0.0170 - R2Score: 0.9830 | Validation Loss: 0.3149 - MeanSquaredError: 0.0458 - R2Score: 0.9699\n",
      "INFO:2023-07-17 10:47:17,963:emulator:_train_once:L316: [ 26/100] Training Loss: 0.3887 - MeanSquaredError: 0.0161 - R2Score: 0.9839 | Validation Loss: 0.2611 - MeanSquaredError: 0.0426 - R2Score: 0.9720\n",
      "INFO:2023-07-17 10:47:17,981:emulator:_train_once:L316: [ 27/100] Training Loss: 0.3388 - MeanSquaredError: 0.0154 - R2Score: 0.9846 | Validation Loss: 0.2061 - MeanSquaredError: 0.0396 - R2Score: 0.9740\n",
      "INFO:2023-07-17 10:47:18,003:emulator:_train_once:L316: [ 28/100] Training Loss: 0.2883 - MeanSquaredError: 0.0148 - R2Score: 0.9852 | Validation Loss: 0.1500 - MeanSquaredError: 0.0367 - R2Score: 0.9758\n",
      "INFO:2023-07-17 10:47:18,023:emulator:_train_once:L316: [ 29/100] Training Loss: 0.2369 - MeanSquaredError: 0.0142 - R2Score: 0.9858 | Validation Loss: 0.0929 - MeanSquaredError: 0.0341 - R2Score: 0.9776\n",
      "INFO:2023-07-17 10:47:18,049:emulator:_train_once:L316: [ 30/100] Training Loss: 0.1846 - MeanSquaredError: 0.0137 - R2Score: 0.9863 | Validation Loss: 0.0350 - MeanSquaredError: 0.0317 - R2Score: 0.9792\n",
      "INFO:2023-07-17 10:47:18,071:emulator:_train_once:L316: [ 31/100] Training Loss: 0.1316 - MeanSquaredError: 0.0132 - R2Score: 0.9868 | Validation Loss: -0.0233 - MeanSquaredError: 0.0295 - R2Score: 0.9806\n",
      "INFO:2023-07-17 10:47:18,092:emulator:_train_once:L316: [ 32/100] Training Loss: 0.0783 - MeanSquaredError: 0.0128 - R2Score: 0.9872 | Validation Loss: -0.0818 - MeanSquaredError: 0.0275 - R2Score: 0.9819\n",
      "INFO:2023-07-17 10:47:18,113:emulator:_train_once:L316: [ 33/100] Training Loss: 0.0250 - MeanSquaredError: 0.0124 - R2Score: 0.9876 | Validation Loss: -0.1403 - MeanSquaredError: 0.0256 - R2Score: 0.9831\n",
      "INFO:2023-07-17 10:47:18,134:emulator:_train_once:L316: [ 34/100] Training Loss: -0.0278 - MeanSquaredError: 0.0120 - R2Score: 0.9880 | Validation Loss: -0.1985 - MeanSquaredError: 0.0240 - R2Score: 0.9842\n",
      "INFO:2023-07-17 10:47:18,158:emulator:_train_once:L316: [ 35/100] Training Loss: -0.0797 - MeanSquaredError: 0.0116 - R2Score: 0.9884 | Validation Loss: -0.2565 - MeanSquaredError: 0.0224 - R2Score: 0.9853\n",
      "INFO:2023-07-17 10:47:18,178:emulator:_train_once:L316: [ 36/100] Training Loss: -0.1304 - MeanSquaredError: 0.0111 - R2Score: 0.9889 | Validation Loss: -0.3141 - MeanSquaredError: 0.0210 - R2Score: 0.9862\n",
      "INFO:2023-07-17 10:47:18,199:emulator:_train_once:L316: [ 37/100] Training Loss: -0.1801 - MeanSquaredError: 0.0105 - R2Score: 0.9895 | Validation Loss: -0.3718 - MeanSquaredError: 0.0195 - R2Score: 0.9872\n",
      "INFO:2023-07-17 10:47:18,219:emulator:_train_once:L316: [ 38/100] Training Loss: -0.2289 - MeanSquaredError: 0.0098 - R2Score: 0.9902 | Validation Loss: -0.4297 - MeanSquaredError: 0.0180 - R2Score: 0.9881\n",
      "INFO:2023-07-17 10:47:18,237:emulator:_train_once:L316: [ 39/100] Training Loss: -0.2770 - MeanSquaredError: 0.0090 - R2Score: 0.9910 | Validation Loss: -0.4882 - MeanSquaredError: 0.0166 - R2Score: 0.9891\n",
      "INFO:2023-07-17 10:47:18,259:emulator:_train_once:L316: [ 40/100] Training Loss: -0.3244 - MeanSquaredError: 0.0082 - R2Score: 0.9918 | Validation Loss: -0.5470 - MeanSquaredError: 0.0150 - R2Score: 0.9901\n",
      "INFO:2023-07-17 10:47:18,278:emulator:_train_once:L316: [ 41/100] Training Loss: -0.3709 - MeanSquaredError: 0.0073 - R2Score: 0.9927 | Validation Loss: -0.6058 - MeanSquaredError: 0.0136 - R2Score: 0.9911\n",
      "INFO:2023-07-17 10:47:18,297:emulator:_train_once:L316: [ 42/100] Training Loss: -0.4163 - MeanSquaredError: 0.0065 - R2Score: 0.9935 | Validation Loss: -0.6640 - MeanSquaredError: 0.0122 - R2Score: 0.9920\n",
      "INFO:2023-07-17 10:47:18,314:emulator:_train_once:L316: [ 43/100] Training Loss: -0.4606 - MeanSquaredError: 0.0057 - R2Score: 0.9943 | Validation Loss: -0.7219 - MeanSquaredError: 0.0108 - R2Score: 0.9929\n",
      "INFO:2023-07-17 10:47:18,333:emulator:_train_once:L316: [ 44/100] Training Loss: -0.5043 - MeanSquaredError: 0.0050 - R2Score: 0.9950 | Validation Loss: -0.7802 - MeanSquaredError: 0.0095 - R2Score: 0.9937\n",
      "INFO:2023-07-17 10:47:18,355:emulator:_train_once:L316: [ 45/100] Training Loss: -0.5486 - MeanSquaredError: 0.0043 - R2Score: 0.9957 | Validation Loss: -0.8393 - MeanSquaredError: 0.0083 - R2Score: 0.9946\n",
      "INFO:2023-07-17 10:47:18,374:emulator:_train_once:L316: [ 46/100] Training Loss: -0.5941 - MeanSquaredError: 0.0037 - R2Score: 0.9963 | Validation Loss: -0.8985 - MeanSquaredError: 0.0071 - R2Score: 0.9953\n",
      "INFO:2023-07-17 10:47:18,393:emulator:_train_once:L316: [ 47/100] Training Loss: -0.6406 - MeanSquaredError: 0.0032 - R2Score: 0.9968 | Validation Loss: -0.9567 - MeanSquaredError: 0.0061 - R2Score: 0.9960\n",
      "INFO:2023-07-17 10:47:18,412:emulator:_train_once:L316: [ 48/100] Training Loss: -0.6873 - MeanSquaredError: 0.0028 - R2Score: 0.9972 | Validation Loss: -1.0131 - MeanSquaredError: 0.0053 - R2Score: 0.9965\n",
      "INFO:2023-07-17 10:47:18,432:emulator:_train_once:L316: [ 49/100] Training Loss: -0.7330 - MeanSquaredError: 0.0024 - R2Score: 0.9976 | Validation Loss: -1.0677 - MeanSquaredError: 0.0047 - R2Score: 0.9969\n",
      "INFO:2023-07-17 10:47:18,463:emulator:_train_once:L316: [ 50/100] Training Loss: -0.7772 - MeanSquaredError: 0.0021 - R2Score: 0.9979 | Validation Loss: -1.1209 - MeanSquaredError: 0.0043 - R2Score: 0.9972\n",
      "INFO:2023-07-17 10:47:18,505:emulator:_train_once:L316: [ 51/100] Training Loss: -0.8199 - MeanSquaredError: 0.0018 - R2Score: 0.9982 | Validation Loss: -1.1724 - MeanSquaredError: 0.0040 - R2Score: 0.9974\n",
      "INFO:2023-07-17 10:47:18,529:emulator:_train_once:L316: [ 52/100] Training Loss: -0.8617 - MeanSquaredError: 0.0016 - R2Score: 0.9984 | Validation Loss: -1.2210 - MeanSquaredError: 0.0038 - R2Score: 0.9975\n",
      "INFO:2023-07-17 10:47:18,553:emulator:_train_once:L316: [ 53/100] Training Loss: -0.9019 - MeanSquaredError: 0.0014 - R2Score: 0.9986 | Validation Loss: -1.2660 - MeanSquaredError: 0.0036 - R2Score: 0.9976\n",
      "INFO:2023-07-17 10:47:18,576:emulator:_train_once:L316: [ 54/100] Training Loss: -0.9389 - MeanSquaredError: 0.0012 - R2Score: 0.9988 | Validation Loss: -1.3092 - MeanSquaredError: 0.0034 - R2Score: 0.9978\n",
      "INFO:2023-07-17 10:47:18,600:emulator:_train_once:L316: [ 55/100] Training Loss: -0.9723 - MeanSquaredError: 0.0010 - R2Score: 0.9990 | Validation Loss: -1.3538 - MeanSquaredError: 0.0031 - R2Score: 0.9980\n",
      "INFO:2023-07-17 10:47:18,619:emulator:_train_once:L316: [ 56/100] Training Loss: -1.0039 - MeanSquaredError: 0.0009 - R2Score: 0.9991 | Validation Loss: -1.4005 - MeanSquaredError: 0.0026 - R2Score: 0.9983\n",
      "INFO:2023-07-17 10:47:18,638:emulator:_train_once:L316: [ 57/100] Training Loss: -1.0354 - MeanSquaredError: 0.0007 - R2Score: 0.9993 | Validation Loss: -1.4474 - MeanSquaredError: 0.0022 - R2Score: 0.9986\n",
      "INFO:2023-07-17 10:47:18,657:emulator:_train_once:L316: [ 58/100] Training Loss: -1.0665 - MeanSquaredError: 0.0006 - R2Score: 0.9994 | Validation Loss: -1.4924 - MeanSquaredError: 0.0018 - R2Score: 0.9988\n",
      "INFO:2023-07-17 10:47:18,678:emulator:_train_once:L316: [ 59/100] Training Loss: -1.0961 - MeanSquaredError: 0.0006 - R2Score: 0.9994 | Validation Loss: -1.5353 - MeanSquaredError: 0.0016 - R2Score: 0.9989\n",
      "INFO:2023-07-17 10:47:18,699:emulator:_train_once:L316: [ 60/100] Training Loss: -1.1246 - MeanSquaredError: 0.0005 - R2Score: 0.9995 | Validation Loss: -1.5774 - MeanSquaredError: 0.0015 - R2Score: 0.9990\n"
     ]
    },
    {
     "name": "stderr",
     "output_type": "stream",
     "text": [
      "INFO:2023-07-17 10:47:18,716:emulator:_train_once:L316: [ 61/100] Training Loss: -1.1532 - MeanSquaredError: 0.0005 - R2Score: 0.9995 | Validation Loss: -1.6193 - MeanSquaredError: 0.0015 - R2Score: 0.9990\n",
      "INFO:2023-07-17 10:47:18,736:emulator:_train_once:L316: [ 62/100] Training Loss: -1.1820 - MeanSquaredError: 0.0005 - R2Score: 0.9995 | Validation Loss: -1.6600 - MeanSquaredError: 0.0014 - R2Score: 0.9991\n",
      "INFO:2023-07-17 10:47:18,756:emulator:_train_once:L316: [ 63/100] Training Loss: -1.2092 - MeanSquaredError: 0.0005 - R2Score: 0.9995 | Validation Loss: -1.6984 - MeanSquaredError: 0.0014 - R2Score: 0.9991\n",
      "INFO:2023-07-17 10:47:18,775:emulator:_train_once:L316: [ 64/100] Training Loss: -1.2338 - MeanSquaredError: 0.0005 - R2Score: 0.9995 | Validation Loss: -1.7360 - MeanSquaredError: 0.0014 - R2Score: 0.9991\n",
      "INFO:2023-07-17 10:47:18,797:emulator:_train_once:L316: [ 65/100] Training Loss: -1.2555 - MeanSquaredError: 0.0005 - R2Score: 0.9995 | Validation Loss: -1.7752 - MeanSquaredError: 0.0013 - R2Score: 0.9992\n",
      "INFO:2023-07-17 10:47:18,816:emulator:_train_once:L316: [ 66/100] Training Loss: -1.2758 - MeanSquaredError: 0.0005 - R2Score: 0.9995 | Validation Loss: -1.8143 - MeanSquaredError: 0.0012 - R2Score: 0.9992\n",
      "INFO:2023-07-17 10:47:18,835:emulator:_train_once:L316: [ 67/100] Training Loss: -1.2968 - MeanSquaredError: 0.0004 - R2Score: 0.9996 | Validation Loss: -1.8483 - MeanSquaredError: 0.0011 - R2Score: 0.9993\n",
      "INFO:2023-07-17 10:47:18,855:emulator:_train_once:L316: [ 68/100] Training Loss: -1.3182 - MeanSquaredError: 0.0004 - R2Score: 0.9996 | Validation Loss: -1.8778 - MeanSquaredError: 0.0010 - R2Score: 0.9993\n",
      "INFO:2023-07-17 10:47:18,874:emulator:_train_once:L316: [ 69/100] Training Loss: -1.3389 - MeanSquaredError: 0.0003 - R2Score: 0.9997 | Validation Loss: -1.9064 - MeanSquaredError: 0.0009 - R2Score: 0.9994\n",
      "INFO:2023-07-17 10:47:18,906:emulator:_train_once:L316: [ 70/100] Training Loss: -1.3598 - MeanSquaredError: 0.0003 - R2Score: 0.9997 | Validation Loss: -1.9319 - MeanSquaredError: 0.0009 - R2Score: 0.9994\n",
      "INFO:2023-07-17 10:47:18,924:emulator:_train_once:L316: [ 71/100] Training Loss: -1.3804 - MeanSquaredError: 0.0003 - R2Score: 0.9997 | Validation Loss: -1.9515 - MeanSquaredError: 0.0009 - R2Score: 0.9994\n",
      "INFO:2023-07-17 10:47:18,943:emulator:_train_once:L316: [ 72/100] Training Loss: -1.3998 - MeanSquaredError: 0.0002 - R2Score: 0.9998 | Validation Loss: -1.9684 - MeanSquaredError: 0.0010 - R2Score: 0.9994\n",
      "INFO:2023-07-17 10:47:18,963:emulator:_train_once:L316: [ 73/100] Training Loss: -1.4169 - MeanSquaredError: 0.0002 - R2Score: 0.9998 | Validation Loss: -1.9861 - MeanSquaredError: 0.0010 - R2Score: 0.9994\n",
      "INFO:2023-07-17 10:47:18,982:emulator:_train_once:L316: [ 74/100] Training Loss: -1.4315 - MeanSquaredError: 0.0002 - R2Score: 0.9998 | Validation Loss: -2.0066 - MeanSquaredError: 0.0009 - R2Score: 0.9994\n",
      "INFO:2023-07-17 10:47:19,004:emulator:_train_once:L316: [ 75/100] Training Loss: -1.4455 - MeanSquaredError: 0.0002 - R2Score: 0.9998 | Validation Loss: -2.0310 - MeanSquaredError: 0.0009 - R2Score: 0.9994\n",
      "INFO:2023-07-17 10:47:19,025:emulator:_train_once:L316: [ 76/100] Training Loss: -1.4597 - MeanSquaredError: 0.0002 - R2Score: 0.9998 | Validation Loss: -2.0579 - MeanSquaredError: 0.0008 - R2Score: 0.9995\n",
      "INFO:2023-07-17 10:47:19,044:emulator:_train_once:L316: [ 77/100] Training Loss: -1.4731 - MeanSquaredError: 0.0002 - R2Score: 0.9998 | Validation Loss: -2.0837 - MeanSquaredError: 0.0007 - R2Score: 0.9995\n",
      "INFO:2023-07-17 10:47:19,063:emulator:_train_once:L316: [ 78/100] Training Loss: -1.4857 - MeanSquaredError: 0.0002 - R2Score: 0.9998 | Validation Loss: -2.1059 - MeanSquaredError: 0.0007 - R2Score: 0.9995\n",
      "INFO:2023-07-17 10:47:19,082:emulator:_train_once:L316: [ 79/100] Training Loss: -1.4977 - MeanSquaredError: 0.0002 - R2Score: 0.9998 | Validation Loss: -2.1266 - MeanSquaredError: 0.0007 - R2Score: 0.9995\n",
      "INFO:2023-07-17 10:47:19,102:emulator:_train_once:L316: [ 80/100] Training Loss: -1.5091 - MeanSquaredError: 0.0002 - R2Score: 0.9998 | Validation Loss: -2.1476 - MeanSquaredError: 0.0007 - R2Score: 0.9996\n",
      "INFO:2023-07-17 10:47:19,121:emulator:_train_once:L316: [ 81/100] Training Loss: -1.5198 - MeanSquaredError: 0.0002 - R2Score: 0.9998 | Validation Loss: -2.1662 - MeanSquaredError: 0.0007 - R2Score: 0.9996\n",
      "INFO:2023-07-17 10:47:19,141:emulator:_train_once:L316: [ 82/100] Training Loss: -1.5299 - MeanSquaredError: 0.0002 - R2Score: 0.9998 | Validation Loss: -2.1815 - MeanSquaredError: 0.0007 - R2Score: 0.9996\n",
      "INFO:2023-07-17 10:47:19,160:emulator:_train_once:L316: [ 83/100] Training Loss: -1.5400 - MeanSquaredError: 0.0002 - R2Score: 0.9998 | Validation Loss: -2.1965 - MeanSquaredError: 0.0006 - R2Score: 0.9996\n",
      "INFO:2023-07-17 10:47:19,178:emulator:_train_once:L316: [ 84/100] Training Loss: -1.5499 - MeanSquaredError: 0.0001 - R2Score: 0.9999 | Validation Loss: -2.2107 - MeanSquaredError: 0.0006 - R2Score: 0.9996\n",
      "INFO:2023-07-17 10:47:19,201:emulator:_train_once:L316: [ 85/100] Training Loss: -1.5588 - MeanSquaredError: 0.0001 - R2Score: 0.9999 | Validation Loss: -2.2232 - MeanSquaredError: 0.0006 - R2Score: 0.9996\n",
      "INFO:2023-07-17 10:47:19,219:emulator:_train_once:L316: [ 86/100] Training Loss: -1.5669 - MeanSquaredError: 0.0001 - R2Score: 0.9999 | Validation Loss: -2.2348 - MeanSquaredError: 0.0006 - R2Score: 0.9996\n",
      "INFO:2023-07-17 10:47:19,238:emulator:_train_once:L316: [ 87/100] Training Loss: -1.5745 - MeanSquaredError: 0.0001 - R2Score: 0.9999 | Validation Loss: -2.2422 - MeanSquaredError: 0.0007 - R2Score: 0.9996\n",
      "INFO:2023-07-17 10:47:19,258:emulator:_train_once:L316: [ 88/100] Training Loss: -1.5817 - MeanSquaredError: 0.0001 - R2Score: 0.9999 | Validation Loss: -2.2494 - MeanSquaredError: 0.0007 - R2Score: 0.9996\n",
      "INFO:2023-07-17 10:47:19,278:emulator:_train_once:L316: [ 89/100] Training Loss: -1.5885 - MeanSquaredError: 0.0001 - R2Score: 0.9999 | Validation Loss: -2.2594 - MeanSquaredError: 0.0007 - R2Score: 0.9996\n",
      "INFO:2023-07-17 10:47:19,299:emulator:_train_once:L316: [ 90/100] Training Loss: -1.5948 - MeanSquaredError: 0.0001 - R2Score: 0.9999 | Validation Loss: -2.2696 - MeanSquaredError: 0.0006 - R2Score: 0.9996\n",
      "INFO:2023-07-17 10:47:19,317:emulator:_train_once:L316: [ 91/100] Training Loss: -1.6010 - MeanSquaredError: 0.0001 - R2Score: 0.9999 | Validation Loss: -2.2829 - MeanSquaredError: 0.0006 - R2Score: 0.9996\n",
      "INFO:2023-07-17 10:47:19,336:emulator:_train_once:L316: [ 92/100] Training Loss: -1.6070 - MeanSquaredError: 0.0001 - R2Score: 0.9999 | Validation Loss: -2.2951 - MeanSquaredError: 0.0006 - R2Score: 0.9996\n",
      "INFO:2023-07-17 10:47:19,356:emulator:_train_once:L316: [ 93/100] Training Loss: -1.6127 - MeanSquaredError: 0.0001 - R2Score: 0.9999 | Validation Loss: -2.3069 - MeanSquaredError: 0.0006 - R2Score: 0.9996\n",
      "INFO:2023-07-17 10:47:19,375:emulator:_train_once:L316: [ 94/100] Training Loss: -1.6180 - MeanSquaredError: 0.0001 - R2Score: 0.9999 | Validation Loss: -2.3169 - MeanSquaredError: 0.0006 - R2Score: 0.9996\n",
      "INFO:2023-07-17 10:47:19,397:emulator:_train_once:L316: [ 95/100] Training Loss: -1.6232 - MeanSquaredError: 0.0001 - R2Score: 0.9999 | Validation Loss: -2.3235 - MeanSquaredError: 0.0006 - R2Score: 0.9996\n",
      "INFO:2023-07-17 10:47:19,415:emulator:_train_once:L316: [ 96/100] Training Loss: -1.6282 - MeanSquaredError: 0.0001 - R2Score: 0.9999 | Validation Loss: -2.3302 - MeanSquaredError: 0.0006 - R2Score: 0.9996\n",
      "INFO:2023-07-17 10:47:19,434:emulator:_train_once:L316: [ 97/100] Training Loss: -1.6330 - MeanSquaredError: 0.0001 - R2Score: 0.9999 | Validation Loss: -2.3346 - MeanSquaredError: 0.0006 - R2Score: 0.9996\n",
      "INFO:2023-07-17 10:47:19,454:emulator:_train_once:L316: [ 98/100] Training Loss: -1.6375 - MeanSquaredError: 0.0001 - R2Score: 0.9999 | Validation Loss: -2.3412 - MeanSquaredError: 0.0006 - R2Score: 0.9996\n",
      "INFO:2023-07-17 10:47:19,474:emulator:_train_once:L316: [ 99/100] Training Loss: -1.6418 - MeanSquaredError: 0.0001 - R2Score: 0.9999 | Validation Loss: -2.3481 - MeanSquaredError: 0.0006 - R2Score: 0.9996\n",
      "INFO:2023-07-17 10:47:19,495:emulator:_train_once:L316: [100/100] Training Loss: -1.6458 - MeanSquaredError: 0.0001 - R2Score: 0.9999 | Validation Loss: -2.3556 - MeanSquaredError: 0.0006 - R2Score: 0.9996\n"
     ]
    },
    {
     "name": "stderr",
     "output_type": "stream",
     "text": [
      "INFO:2023-07-17 10:47:19,502:emulator:train:L113: Run restart 4.\n",
      "INFO:2023-07-17 10:47:19,503:emulator:train:L100: Running restart 5...\n",
      "INFO:2023-07-17 10:47:19,524:emulator:_train_once:L316: [  1/100] Training Loss: 1.0793 - MeanSquaredError: 0.1353 - R2Score: 0.8647 | Validation Loss: 0.7475 - MeanSquaredError: 0.3185 - R2Score: 0.7907\n",
      "INFO:2023-07-17 10:47:19,542:emulator:_train_once:L316: [  2/100] Training Loss: 0.9769 - MeanSquaredError: 0.1057 - R2Score: 0.8943 | Validation Loss: 0.6604 - MeanSquaredError: 0.2611 - R2Score: 0.8283\n",
      "INFO:2023-07-17 10:47:19,560:emulator:_train_once:L316: [  3/100] Training Loss: 0.8460 - MeanSquaredError: 0.0848 - R2Score: 0.9152 | Validation Loss: 0.5979 - MeanSquaredError: 0.2204 - R2Score: 0.8551\n",
      "INFO:2023-07-17 10:47:19,577:emulator:_train_once:L316: [  4/100] Training Loss: 0.7283 - MeanSquaredError: 0.0729 - R2Score: 0.9271 | Validation Loss: 0.5571 - MeanSquaredError: 0.1960 - R2Score: 0.8712\n",
      "INFO:2023-07-17 10:47:19,609:emulator:_train_once:L316: [  5/100] Training Loss: 0.6403 - MeanSquaredError: 0.0662 - R2Score: 0.9338 | Validation Loss: 0.5227 - MeanSquaredError: 0.1792 - R2Score: 0.8822\n",
      "INFO:2023-07-17 10:47:19,627:emulator:_train_once:L316: [  6/100] Training Loss: 0.5789 - MeanSquaredError: 0.0606 - R2Score: 0.9394 | Validation Loss: 0.4832 - MeanSquaredError: 0.1635 - R2Score: 0.8925\n",
      "INFO:2023-07-17 10:47:19,647:emulator:_train_once:L316: [  7/100] Training Loss: 0.5336 - MeanSquaredError: 0.0543 - R2Score: 0.9457 | Validation Loss: 0.4325 - MeanSquaredError: 0.1452 - R2Score: 0.9045\n",
      "INFO:2023-07-17 10:47:19,666:emulator:_train_once:L316: [  8/100] Training Loss: 0.4944 - MeanSquaredError: 0.0463 - R2Score: 0.9537 | Validation Loss: 0.3684 - MeanSquaredError: 0.1235 - R2Score: 0.9188\n",
      "INFO:2023-07-17 10:47:19,685:emulator:_train_once:L316: [  9/100] Training Loss: 0.4548 - MeanSquaredError: 0.0370 - R2Score: 0.9630 | Validation Loss: 0.2925 - MeanSquaredError: 0.0989 - R2Score: 0.9350\n",
      "INFO:2023-07-17 10:47:19,706:emulator:_train_once:L316: [ 10/100] Training Loss: 0.4103 - MeanSquaredError: 0.0271 - R2Score: 0.9729 | Validation Loss: 0.2106 - MeanSquaredError: 0.0735 - R2Score: 0.9517\n",
      "INFO:2023-07-17 10:47:19,726:emulator:_train_once:L316: [ 11/100] Training Loss: 0.3583 - MeanSquaredError: 0.0186 - R2Score: 0.9814 | Validation Loss: 0.1333 - MeanSquaredError: 0.0515 - R2Score: 0.9661\n",
      "INFO:2023-07-17 10:47:19,745:emulator:_train_once:L316: [ 12/100] Training Loss: 0.2999 - MeanSquaredError: 0.0129 - R2Score: 0.9871 | Validation Loss: 0.0691 - MeanSquaredError: 0.0365 - R2Score: 0.9760\n",
      "INFO:2023-07-17 10:47:19,762:emulator:_train_once:L316: [ 13/100] Training Loss: 0.2404 - MeanSquaredError: 0.0098 - R2Score: 0.9902 | Validation Loss: 0.0172 - MeanSquaredError: 0.0279 - R2Score: 0.9816\n",
      "INFO:2023-07-17 10:47:19,783:emulator:_train_once:L316: [ 14/100] Training Loss: 0.1865 - MeanSquaredError: 0.0082 - R2Score: 0.9918 | Validation Loss: -0.0287 - MeanSquaredError: 0.0231 - R2Score: 0.9848\n",
      "INFO:2023-07-17 10:47:19,807:emulator:_train_once:L316: [ 15/100] Training Loss: 0.1409 - MeanSquaredError: 0.0074 - R2Score: 0.9926 | Validation Loss: -0.0723 - MeanSquaredError: 0.0202 - R2Score: 0.9867\n",
      "INFO:2023-07-17 10:47:19,826:emulator:_train_once:L316: [ 16/100] Training Loss: 0.1024 - MeanSquaredError: 0.0069 - R2Score: 0.9931 | Validation Loss: -0.1170 - MeanSquaredError: 0.0182 - R2Score: 0.9880\n",
      "INFO:2023-07-17 10:47:19,844:emulator:_train_once:L316: [ 17/100] Training Loss: 0.0676 - MeanSquaredError: 0.0065 - R2Score: 0.9935 | Validation Loss: -0.1649 - MeanSquaredError: 0.0162 - R2Score: 0.9893\n",
      "INFO:2023-07-17 10:47:19,864:emulator:_train_once:L316: [ 18/100] Training Loss: 0.0322 - MeanSquaredError: 0.0060 - R2Score: 0.9940 | Validation Loss: -0.2153 - MeanSquaredError: 0.0144 - R2Score: 0.9905\n",
      "INFO:2023-07-17 10:47:19,883:emulator:_train_once:L316: [ 19/100] Training Loss: -0.0061 - MeanSquaredError: 0.0057 - R2Score: 0.9943 | Validation Loss: -0.2669 - MeanSquaredError: 0.0131 - R2Score: 0.9914\n",
      "INFO:2023-07-17 10:47:19,905:emulator:_train_once:L316: [ 20/100] Training Loss: -0.0479 - MeanSquaredError: 0.0056 - R2Score: 0.9944 | Validation Loss: -0.3194 - MeanSquaredError: 0.0121 - R2Score: 0.9920\n",
      "INFO:2023-07-17 10:47:19,925:emulator:_train_once:L316: [ 21/100] Training Loss: -0.0930 - MeanSquaredError: 0.0054 - R2Score: 0.9946 | Validation Loss: -0.3729 - MeanSquaredError: 0.0115 - R2Score: 0.9925\n",
      "INFO:2023-07-17 10:47:19,944:emulator:_train_once:L316: [ 22/100] Training Loss: -0.1411 - MeanSquaredError: 0.0054 - R2Score: 0.9946 | Validation Loss: -0.4269 - MeanSquaredError: 0.0111 - R2Score: 0.9927\n",
      "INFO:2023-07-17 10:47:19,965:emulator:_train_once:L316: [ 23/100] Training Loss: -0.1911 - MeanSquaredError: 0.0053 - R2Score: 0.9947 | Validation Loss: -0.4808 - MeanSquaredError: 0.0109 - R2Score: 0.9928\n",
      "INFO:2023-07-17 10:47:19,986:emulator:_train_once:L316: [ 24/100] Training Loss: -0.2419 - MeanSquaredError: 0.0053 - R2Score: 0.9947 | Validation Loss: -0.5339 - MeanSquaredError: 0.0109 - R2Score: 0.9928\n",
      "INFO:2023-07-17 10:47:20,011:emulator:_train_once:L316: [ 25/100] Training Loss: -0.2926 - MeanSquaredError: 0.0053 - R2Score: 0.9947 | Validation Loss: -0.5857 - MeanSquaredError: 0.0110 - R2Score: 0.9928\n",
      "INFO:2023-07-17 10:47:20,034:emulator:_train_once:L316: [ 26/100] Training Loss: -0.3422 - MeanSquaredError: 0.0053 - R2Score: 0.9947 | Validation Loss: -0.6360 - MeanSquaredError: 0.0112 - R2Score: 0.9927\n",
      "INFO:2023-07-17 10:47:20,056:emulator:_train_once:L316: [ 27/100] Training Loss: -0.3901 - MeanSquaredError: 0.0052 - R2Score: 0.9948 | Validation Loss: -0.6848 - MeanSquaredError: 0.0113 - R2Score: 0.9926\n",
      "INFO:2023-07-17 10:47:20,079:emulator:_train_once:L316: [ 28/100] Training Loss: -0.4359 - MeanSquaredError: 0.0051 - R2Score: 0.9949 | Validation Loss: -0.7323 - MeanSquaredError: 0.0113 - R2Score: 0.9926\n",
      "INFO:2023-07-17 10:47:20,110:emulator:_train_once:L316: [ 29/100] Training Loss: -0.4791 - MeanSquaredError: 0.0049 - R2Score: 0.9951 | Validation Loss: -0.7784 - MeanSquaredError: 0.0113 - R2Score: 0.9926\n",
      "INFO:2023-07-17 10:47:20,145:emulator:_train_once:L316: [ 30/100] Training Loss: -0.5196 - MeanSquaredError: 0.0047 - R2Score: 0.9953 | Validation Loss: -0.8232 - MeanSquaredError: 0.0112 - R2Score: 0.9926\n",
      "INFO:2023-07-17 10:47:20,166:emulator:_train_once:L316: [ 31/100] Training Loss: -0.5582 - MeanSquaredError: 0.0045 - R2Score: 0.9955 | Validation Loss: -0.8673 - MeanSquaredError: 0.0109 - R2Score: 0.9928\n",
      "INFO:2023-07-17 10:47:20,184:emulator:_train_once:L316: [ 32/100] Training Loss: -0.5961 - MeanSquaredError: 0.0042 - R2Score: 0.9958 | Validation Loss: -0.9116 - MeanSquaredError: 0.0105 - R2Score: 0.9931\n",
      "INFO:2023-07-17 10:47:20,203:emulator:_train_once:L316: [ 33/100] Training Loss: -0.6346 - MeanSquaredError: 0.0039 - R2Score: 0.9961 | Validation Loss: -0.9566 - MeanSquaredError: 0.0099 - R2Score: 0.9935\n",
      "INFO:2023-07-17 10:47:20,220:emulator:_train_once:L316: [ 34/100] Training Loss: -0.6742 - MeanSquaredError: 0.0035 - R2Score: 0.9965 | Validation Loss: -1.0033 - MeanSquaredError: 0.0092 - R2Score: 0.9940\n",
      "INFO:2023-07-17 10:47:20,244:emulator:_train_once:L316: [ 35/100] Training Loss: -0.7144 - MeanSquaredError: 0.0032 - R2Score: 0.9968 | Validation Loss: -1.0533 - MeanSquaredError: 0.0083 - R2Score: 0.9946\n",
      "INFO:2023-07-17 10:47:20,264:emulator:_train_once:L316: [ 36/100] Training Loss: -0.7543 - MeanSquaredError: 0.0027 - R2Score: 0.9973 | Validation Loss: -1.1088 - MeanSquaredError: 0.0072 - R2Score: 0.9953\n",
      "INFO:2023-07-17 10:47:20,282:emulator:_train_once:L316: [ 37/100] Training Loss: -0.7938 - MeanSquaredError: 0.0023 - R2Score: 0.9977 | Validation Loss: -1.1695 - MeanSquaredError: 0.0059 - R2Score: 0.9961\n",
      "INFO:2023-07-17 10:47:20,299:emulator:_train_once:L316: [ 38/100] Training Loss: -0.8335 - MeanSquaredError: 0.0019 - R2Score: 0.9981 | Validation Loss: -1.2316 - MeanSquaredError: 0.0047 - R2Score: 0.9969\n",
      "INFO:2023-07-17 10:47:20,319:emulator:_train_once:L316: [ 39/100] Training Loss: -0.8732 - MeanSquaredError: 0.0015 - R2Score: 0.9985 | Validation Loss: -1.2906 - MeanSquaredError: 0.0036 - R2Score: 0.9976\n",
      "INFO:2023-07-17 10:47:20,341:emulator:_train_once:L316: [ 40/100] Training Loss: -0.9115 - MeanSquaredError: 0.0013 - R2Score: 0.9987 | Validation Loss: -1.3453 - MeanSquaredError: 0.0028 - R2Score: 0.9982\n"
     ]
    },
    {
     "name": "stderr",
     "output_type": "stream",
     "text": [
      "INFO:2023-07-17 10:47:20,361:emulator:_train_once:L316: [ 41/100] Training Loss: -0.9470 - MeanSquaredError: 0.0010 - R2Score: 0.9990 | Validation Loss: -1.3966 - MeanSquaredError: 0.0022 - R2Score: 0.9986\n",
      "INFO:2023-07-17 10:47:20,380:emulator:_train_once:L316: [ 42/100] Training Loss: -0.9804 - MeanSquaredError: 0.0009 - R2Score: 0.9991 | Validation Loss: -1.4444 - MeanSquaredError: 0.0018 - R2Score: 0.9988\n",
      "INFO:2023-07-17 10:47:20,401:emulator:_train_once:L316: [ 43/100] Training Loss: -1.0126 - MeanSquaredError: 0.0007 - R2Score: 0.9993 | Validation Loss: -1.4892 - MeanSquaredError: 0.0015 - R2Score: 0.9990\n",
      "INFO:2023-07-17 10:47:20,423:emulator:_train_once:L316: [ 44/100] Training Loss: -1.0443 - MeanSquaredError: 0.0007 - R2Score: 0.9993 | Validation Loss: -1.5317 - MeanSquaredError: 0.0014 - R2Score: 0.9991\n",
      "INFO:2023-07-17 10:47:20,447:emulator:_train_once:L316: [ 45/100] Training Loss: -1.0755 - MeanSquaredError: 0.0006 - R2Score: 0.9994 | Validation Loss: -1.5725 - MeanSquaredError: 0.0013 - R2Score: 0.9991\n",
      "INFO:2023-07-17 10:47:20,468:emulator:_train_once:L316: [ 46/100] Training Loss: -1.1062 - MeanSquaredError: 0.0006 - R2Score: 0.9994 | Validation Loss: -1.6114 - MeanSquaredError: 0.0013 - R2Score: 0.9991\n",
      "INFO:2023-07-17 10:47:20,490:emulator:_train_once:L316: [ 47/100] Training Loss: -1.1363 - MeanSquaredError: 0.0006 - R2Score: 0.9994 | Validation Loss: -1.6481 - MeanSquaredError: 0.0013 - R2Score: 0.9991\n",
      "INFO:2023-07-17 10:47:20,510:emulator:_train_once:L316: [ 48/100] Training Loss: -1.1652 - MeanSquaredError: 0.0006 - R2Score: 0.9994 | Validation Loss: -1.6829 - MeanSquaredError: 0.0014 - R2Score: 0.9991\n",
      "INFO:2023-07-17 10:47:20,533:emulator:_train_once:L316: [ 49/100] Training Loss: -1.1927 - MeanSquaredError: 0.0005 - R2Score: 0.9995 | Validation Loss: -1.7165 - MeanSquaredError: 0.0014 - R2Score: 0.9991\n",
      "INFO:2023-07-17 10:47:20,557:emulator:_train_once:L316: [ 50/100] Training Loss: -1.2187 - MeanSquaredError: 0.0005 - R2Score: 0.9995 | Validation Loss: -1.7499 - MeanSquaredError: 0.0014 - R2Score: 0.9991\n",
      "INFO:2023-07-17 10:47:20,579:emulator:_train_once:L316: [ 51/100] Training Loss: -1.2434 - MeanSquaredError: 0.0005 - R2Score: 0.9995 | Validation Loss: -1.7838 - MeanSquaredError: 0.0013 - R2Score: 0.9991\n",
      "INFO:2023-07-17 10:47:20,597:emulator:_train_once:L316: [ 52/100] Training Loss: -1.2677 - MeanSquaredError: 0.0004 - R2Score: 0.9996 | Validation Loss: -1.8176 - MeanSquaredError: 0.0012 - R2Score: 0.9992\n",
      "INFO:2023-07-17 10:47:20,618:emulator:_train_once:L316: [ 53/100] Training Loss: -1.2921 - MeanSquaredError: 0.0004 - R2Score: 0.9996 | Validation Loss: -1.8504 - MeanSquaredError: 0.0012 - R2Score: 0.9992\n",
      "INFO:2023-07-17 10:47:20,640:emulator:_train_once:L316: [ 54/100] Training Loss: -1.3153 - MeanSquaredError: 0.0003 - R2Score: 0.9997 | Validation Loss: -1.8816 - MeanSquaredError: 0.0011 - R2Score: 0.9993\n",
      "INFO:2023-07-17 10:47:20,663:emulator:_train_once:L316: [ 55/100] Training Loss: -1.3354 - MeanSquaredError: 0.0003 - R2Score: 0.9997 | Validation Loss: -1.9114 - MeanSquaredError: 0.0010 - R2Score: 0.9993\n",
      "INFO:2023-07-17 10:47:20,683:emulator:_train_once:L316: [ 56/100] Training Loss: -1.3538 - MeanSquaredError: 0.0003 - R2Score: 0.9997 | Validation Loss: -1.9399 - MeanSquaredError: 0.0009 - R2Score: 0.9994\n",
      "INFO:2023-07-17 10:47:20,701:emulator:_train_once:L316: [ 57/100] Training Loss: -1.3718 - MeanSquaredError: 0.0003 - R2Score: 0.9997 | Validation Loss: -1.9642 - MeanSquaredError: 0.0009 - R2Score: 0.9994\n",
      "INFO:2023-07-17 10:47:20,723:emulator:_train_once:L316: [ 58/100] Training Loss: -1.3882 - MeanSquaredError: 0.0003 - R2Score: 0.9997 | Validation Loss: -1.9822 - MeanSquaredError: 0.0010 - R2Score: 0.9994\n",
      "INFO:2023-07-17 10:47:20,746:emulator:_train_once:L316: [ 59/100] Training Loss: -1.4058 - MeanSquaredError: 0.0003 - R2Score: 0.9997 | Validation Loss: -1.9975 - MeanSquaredError: 0.0010 - R2Score: 0.9993\n",
      "INFO:2023-07-17 10:47:20,774:emulator:_train_once:L316: [ 60/100] Training Loss: -1.4234 - MeanSquaredError: 0.0003 - R2Score: 0.9997 | Validation Loss: -2.0164 - MeanSquaredError: 0.0010 - R2Score: 0.9993\n",
      "INFO:2023-07-17 10:47:20,799:emulator:_train_once:L316: [ 61/100] Training Loss: -1.4383 - MeanSquaredError: 0.0003 - R2Score: 0.9997 | Validation Loss: -2.0396 - MeanSquaredError: 0.0010 - R2Score: 0.9993\n",
      "INFO:2023-07-17 10:47:20,819:emulator:_train_once:L316: [ 62/100] Training Loss: -1.4536 - MeanSquaredError: 0.0002 - R2Score: 0.9998 | Validation Loss: -2.0619 - MeanSquaredError: 0.0009 - R2Score: 0.9994\n",
      "INFO:2023-07-17 10:47:20,842:emulator:_train_once:L316: [ 63/100] Training Loss: -1.4700 - MeanSquaredError: 0.0002 - R2Score: 0.9998 | Validation Loss: -2.0831 - MeanSquaredError: 0.0009 - R2Score: 0.9994\n",
      "INFO:2023-07-17 10:47:20,863:emulator:_train_once:L316: [ 64/100] Training Loss: -1.4850 - MeanSquaredError: 0.0002 - R2Score: 0.9998 | Validation Loss: -2.1097 - MeanSquaredError: 0.0008 - R2Score: 0.9995\n",
      "INFO:2023-07-17 10:47:20,888:emulator:_train_once:L316: [ 65/100] Training Loss: -1.5006 - MeanSquaredError: 0.0002 - R2Score: 0.9998 | Validation Loss: -2.1391 - MeanSquaredError: 0.0008 - R2Score: 0.9995\n",
      "INFO:2023-07-17 10:47:20,906:emulator:_train_once:L316: [ 66/100] Training Loss: -1.5141 - MeanSquaredError: 0.0002 - R2Score: 0.9998 | Validation Loss: -2.1614 - MeanSquaredError: 0.0007 - R2Score: 0.9995\n",
      "INFO:2023-07-17 10:47:20,927:emulator:_train_once:L316: [ 67/100] Training Loss: -1.5266 - MeanSquaredError: 0.0002 - R2Score: 0.9998 | Validation Loss: -2.1774 - MeanSquaredError: 0.0007 - R2Score: 0.9995\n",
      "INFO:2023-07-17 10:47:20,947:emulator:_train_once:L316: [ 68/100] Training Loss: -1.5399 - MeanSquaredError: 0.0002 - R2Score: 0.9998 | Validation Loss: -2.1939 - MeanSquaredError: 0.0007 - R2Score: 0.9996\n",
      "INFO:2023-07-17 10:47:20,966:emulator:_train_once:L316: [ 69/100] Training Loss: -1.5517 - MeanSquaredError: 0.0002 - R2Score: 0.9998 | Validation Loss: -2.2106 - MeanSquaredError: 0.0006 - R2Score: 0.9996\n",
      "INFO:2023-07-17 10:47:20,988:emulator:_train_once:L316: [ 70/100] Training Loss: -1.5626 - MeanSquaredError: 0.0001 - R2Score: 0.9999 | Validation Loss: -2.2223 - MeanSquaredError: 0.0006 - R2Score: 0.9996\n",
      "INFO:2023-07-17 10:47:21,007:emulator:_train_once:L316: [ 71/100] Training Loss: -1.5717 - MeanSquaredError: 0.0001 - R2Score: 0.9999 | Validation Loss: -2.2315 - MeanSquaredError: 0.0006 - R2Score: 0.9996\n",
      "INFO:2023-07-17 10:47:21,028:emulator:_train_once:L316: [ 72/100] Training Loss: -1.5791 - MeanSquaredError: 0.0001 - R2Score: 0.9999 | Validation Loss: -2.2443 - MeanSquaredError: 0.0006 - R2Score: 0.9996\n",
      "INFO:2023-07-17 10:47:21,049:emulator:_train_once:L316: [ 73/100] Training Loss: -1.5866 - MeanSquaredError: 0.0001 - R2Score: 0.9999 | Validation Loss: -2.2587 - MeanSquaredError: 0.0006 - R2Score: 0.9996\n",
      "INFO:2023-07-17 10:47:21,069:emulator:_train_once:L316: [ 74/100] Training Loss: -1.5931 - MeanSquaredError: 0.0001 - R2Score: 0.9999 | Validation Loss: -2.2720 - MeanSquaredError: 0.0006 - R2Score: 0.9996\n",
      "INFO:2023-07-17 10:47:21,093:emulator:_train_once:L316: [ 75/100] Training Loss: -1.5989 - MeanSquaredError: 0.0001 - R2Score: 0.9999 | Validation Loss: -2.2854 - MeanSquaredError: 0.0005 - R2Score: 0.9996\n",
      "INFO:2023-07-17 10:47:21,114:emulator:_train_once:L316: [ 76/100] Training Loss: -1.6044 - MeanSquaredError: 0.0001 - R2Score: 0.9999 | Validation Loss: -2.2954 - MeanSquaredError: 0.0005 - R2Score: 0.9996\n",
      "INFO:2023-07-17 10:47:21,135:emulator:_train_once:L316: [ 77/100] Training Loss: -1.6099 - MeanSquaredError: 0.0001 - R2Score: 0.9999 | Validation Loss: -2.2995 - MeanSquaredError: 0.0006 - R2Score: 0.9996\n",
      "INFO:2023-07-17 10:47:21,154:emulator:_train_once:L316: [ 78/100] Training Loss: -1.6159 - MeanSquaredError: 0.0001 - R2Score: 0.9999 | Validation Loss: -2.3071 - MeanSquaredError: 0.0005 - R2Score: 0.9996\n",
      "INFO:2023-07-17 10:47:21,174:emulator:_train_once:L316: [ 79/100] Training Loss: -1.6215 - MeanSquaredError: 0.0001 - R2Score: 0.9999 | Validation Loss: -2.3184 - MeanSquaredError: 0.0005 - R2Score: 0.9996\n",
      "INFO:2023-07-17 10:47:21,197:emulator:_train_once:L316: [ 80/100] Training Loss: -1.6270 - MeanSquaredError: 0.0001 - R2Score: 0.9999 | Validation Loss: -2.3221 - MeanSquaredError: 0.0006 - R2Score: 0.9996\n"
     ]
    },
    {
     "name": "stderr",
     "output_type": "stream",
     "text": [
      "INFO:2023-07-17 10:47:21,216:emulator:_train_once:L316: [ 81/100] Training Loss: -1.6323 - MeanSquaredError: 0.0001 - R2Score: 0.9999 | Validation Loss: -2.3269 - MeanSquaredError: 0.0006 - R2Score: 0.9996\n",
      "INFO:2023-07-17 10:47:21,237:emulator:_train_once:L316: [ 82/100] Training Loss: -1.6376 - MeanSquaredError: 0.0001 - R2Score: 0.9999 | Validation Loss: -2.3374 - MeanSquaredError: 0.0005 - R2Score: 0.9996\n",
      "INFO:2023-07-17 10:47:21,257:emulator:_train_once:L316: [ 83/100] Training Loss: -1.6427 - MeanSquaredError: 0.0001 - R2Score: 0.9999 | Validation Loss: -2.3460 - MeanSquaredError: 0.0005 - R2Score: 0.9996\n",
      "INFO:2023-07-17 10:47:21,278:emulator:_train_once:L316: [ 84/100] Training Loss: -1.6472 - MeanSquaredError: 0.0001 - R2Score: 0.9999 | Validation Loss: -2.3552 - MeanSquaredError: 0.0005 - R2Score: 0.9996\n",
      "INFO:2023-07-17 10:47:21,300:emulator:_train_once:L316: [ 85/100] Training Loss: -1.6512 - MeanSquaredError: 0.0001 - R2Score: 0.9999 | Validation Loss: -2.3543 - MeanSquaredError: 0.0006 - R2Score: 0.9996\n",
      "INFO:2023-07-17 10:47:21,319:emulator:_train_once:L316: [ 86/100] Training Loss: -1.6549 - MeanSquaredError: 0.0001 - R2Score: 0.9999 | Validation Loss: -2.3626 - MeanSquaredError: 0.0005 - R2Score: 0.9996\n",
      "INFO:2023-07-17 10:47:21,340:emulator:_train_once:L316: [ 87/100] Training Loss: -1.6585 - MeanSquaredError: 0.0001 - R2Score: 0.9999 | Validation Loss: -2.3655 - MeanSquaredError: 0.0005 - R2Score: 0.9996\n",
      "INFO:2023-07-17 10:47:21,360:emulator:_train_once:L316: [ 88/100] Training Loss: -1.6618 - MeanSquaredError: 0.0001 - R2Score: 0.9999 | Validation Loss: -2.3691 - MeanSquaredError: 0.0006 - R2Score: 0.9996\n",
      "INFO:2023-07-17 10:47:21,379:emulator:_train_once:L316: [ 89/100] Training Loss: -1.6651 - MeanSquaredError: 0.0001 - R2Score: 0.9999 | Validation Loss: -2.3679 - MeanSquaredError: 0.0006 - R2Score: 0.9996\n",
      "INFO:2023-07-17 10:47:21,402:emulator:_train_once:L316: [ 90/100] Training Loss: -1.6682 - MeanSquaredError: 0.0001 - R2Score: 0.9999 | Validation Loss: -2.3815 - MeanSquaredError: 0.0005 - R2Score: 0.9996\n",
      "INFO:2023-07-17 10:47:21,424:emulator:_train_once:L316: [ 91/100] Training Loss: -1.6715 - MeanSquaredError: 0.0001 - R2Score: 0.9999 | Validation Loss: -2.3810 - MeanSquaredError: 0.0006 - R2Score: 0.9996\n",
      "INFO:2023-07-17 10:47:21,445:emulator:_train_once:L316: [ 92/100] Training Loss: -1.6744 - MeanSquaredError: 0.0001 - R2Score: 0.9999 | Validation Loss: -2.3969 - MeanSquaredError: 0.0005 - R2Score: 0.9996\n",
      "INFO:2023-07-17 10:47:21,466:emulator:_train_once:L316: [ 93/100] Training Loss: -1.6769 - MeanSquaredError: 0.0001 - R2Score: 0.9999 | Validation Loss: -2.3876 - MeanSquaredError: 0.0006 - R2Score: 0.9996\n",
      "INFO:2023-07-17 10:47:21,486:emulator:_train_once:L316: [ 94/100] Training Loss: -1.6791 - MeanSquaredError: 0.0001 - R2Score: 0.9999 | Validation Loss: -2.4152 - MeanSquaredError: 0.0005 - R2Score: 0.9997\n",
      "INFO:2023-07-17 10:47:21,509:emulator:_train_once:L316: [ 95/100] Training Loss: -1.6817 - MeanSquaredError: 0.0001 - R2Score: 0.9999 | Validation Loss: -2.4014 - MeanSquaredError: 0.0005 - R2Score: 0.9996\n",
      "INFO:2023-07-17 10:47:21,528:emulator:_train_once:L316: [ 96/100] Training Loss: -1.6859 - MeanSquaredError: 0.0001 - R2Score: 0.9999 | Validation Loss: -2.4090 - MeanSquaredError: 0.0005 - R2Score: 0.9997\n",
      "INFO:2023-07-17 10:47:21,549:emulator:_train_once:L316: [ 97/100] Training Loss: -1.6893 - MeanSquaredError: 0.0001 - R2Score: 0.9999 | Validation Loss: -2.4208 - MeanSquaredError: 0.0005 - R2Score: 0.9997\n",
      "INFO:2023-07-17 10:47:21,568:emulator:_train_once:L316: [ 98/100] Training Loss: -1.6908 - MeanSquaredError: 0.0001 - R2Score: 0.9999 | Validation Loss: -2.4092 - MeanSquaredError: 0.0005 - R2Score: 0.9997\n",
      "INFO:2023-07-17 10:47:21,588:emulator:_train_once:L316: [ 99/100] Training Loss: -1.6929 - MeanSquaredError: 0.0001 - R2Score: 0.9999 | Validation Loss: -2.4205 - MeanSquaredError: 0.0005 - R2Score: 0.9997\n",
      "INFO:2023-07-17 10:47:21,613:emulator:_train_once:L316: [100/100] Training Loss: -1.6961 - MeanSquaredError: 0.0001 - R2Score: 0.9999 | Validation Loss: -2.4265 - MeanSquaredError: 0.0005 - R2Score: 0.9997\n",
      "INFO:2023-07-17 10:47:21,619:emulator:train:L113: Run restart 5.\n",
      "INFO:2023-07-17 10:47:21,620:emulator:train:L116: Trained emulator.\n",
      "INFO:2023-07-17 10:47:21,621:emulator:train:L150: Loading best model (restart: 5, epoch: 100)...\n",
      "INFO:2023-07-17 10:47:21,629:emulator:train:L161: Loaded best model.\n",
      "INFO:2023-07-17 10:47:21,632:emulator:train:L174: Loading best train stats (restart: 5, epoch: 100)...\n",
      "INFO:2023-07-17 10:47:21,640:emulator:train:L199: Loaded best train stats.\n",
      "INFO:2023-07-17 10:47:21,641:emulator:train:L201: The fitted emulator hyperparameters are:\n",
      "INFO:2023-07-17 10:47:21,653:emulator:train:L202: \n",
      "Bias: 5.1604\n",
      "Weights: tensor([-0.0237,  0.0329,  0.0117, -4.8655, -0.7064, -1.6926])\n",
      "Outputscale: 0.4448\n",
      "Lengthscales: tensor([ 9.1224,  7.5623, 12.5713,  0.3631,  2.1090,  0.4302])\n",
      "Likelihood noise: 0.0002\n",
      "INFO:2023-07-17 10:47:21,670:emulator:train:L84: Training emulator...\n",
      "INFO:2023-07-17 10:47:21,672:emulator:train:L100: Running restart 1...\n",
      "INFO:2023-07-17 10:47:21,695:emulator:_train_once:L316: [  1/100] Training Loss: 2.0880 - MeanSquaredError: 0.9477 - R2Score: 0.0523 | Validation Loss: 1.5101 - MeanSquaredError: 1.3286 - R2Score: 0.0720\n",
      "INFO:2023-07-17 10:47:21,716:emulator:_train_once:L316: [  2/100] Training Loss: 1.8352 - MeanSquaredError: 0.7541 - R2Score: 0.2459 | Validation Loss: 1.4276 - MeanSquaredError: 1.1017 - R2Score: 0.2305\n",
      "INFO:2023-07-17 10:47:21,736:emulator:_train_once:L316: [  3/100] Training Loss: 1.6723 - MeanSquaredError: 0.5961 - R2Score: 0.4039 | Validation Loss: 1.3538 - MeanSquaredError: 0.8948 - R2Score: 0.3750\n",
      "INFO:2023-07-17 10:47:21,757:emulator:_train_once:L316: [  4/100] Training Loss: 1.5605 - MeanSquaredError: 0.4738 - R2Score: 0.5262 | Validation Loss: 1.2873 - MeanSquaredError: 0.7182 - R2Score: 0.4983\n",
      "INFO:2023-07-17 10:47:21,780:emulator:_train_once:L316: [  5/100] Training Loss: 1.4763 - MeanSquaredError: 0.3832 - R2Score: 0.6168 | Validation Loss: 1.2287 - MeanSquaredError: 0.5775 - R2Score: 0.5966\n",
      "INFO:2023-07-17 10:47:21,801:emulator:_train_once:L316: [  6/100] Training Loss: 1.4079 - MeanSquaredError: 0.3171 - R2Score: 0.6829 | Validation Loss: 1.1774 - MeanSquaredError: 0.4699 - R2Score: 0.6718\n",
      "INFO:2023-07-17 10:47:21,822:emulator:_train_once:L316: [  7/100] Training Loss: 1.3492 - MeanSquaredError: 0.2682 - R2Score: 0.7318 | Validation Loss: 1.1314 - MeanSquaredError: 0.3888 - R2Score: 0.7284\n",
      "INFO:2023-07-17 10:47:21,842:emulator:_train_once:L316: [  8/100] Training Loss: 1.2969 - MeanSquaredError: 0.2305 - R2Score: 0.7695 | Validation Loss: 1.0890 - MeanSquaredError: 0.3275 - R2Score: 0.7713\n"
     ]
    },
    {
     "name": "stdout",
     "output_type": "stream",
     "text": [
      "TestExperiment dataset loaded.\n",
      "Notes from the author:\n",
      "\"An example dataset to test GPErks' power!\"\n",
      "Dataset properties:\n",
      "-Input size: 6\n",
      "-Input parameters: ['CV_ventricles', 'k_ventricles', 'k_FEC', 'CV_atria', 'k_atria', 'k_BB']\n",
      "-Output size: 1\n",
      "-Output feature: [array(['V_TAT'], dtype=object)]\n",
      "-Sample size: 115\n",
      "-Discrepancy: 0.0159\n",
      "-Validation data available: Yes (size = 29)\n",
      "-Testing data available: Yes (size = 36)\n"
     ]
    },
    {
     "name": "stderr",
     "output_type": "stream",
     "text": [
      "INFO:2023-07-17 10:47:21,864:emulator:_train_once:L316: [  9/100] Training Loss: 1.2486 - MeanSquaredError: 0.2000 - R2Score: 0.8000 | Validation Loss: 1.0490 - MeanSquaredError: 0.2804 - R2Score: 0.8042\n",
      "INFO:2023-07-17 10:47:21,886:emulator:_train_once:L316: [ 10/100] Training Loss: 1.2026 - MeanSquaredError: 0.1744 - R2Score: 0.8256 | Validation Loss: 1.0103 - MeanSquaredError: 0.2439 - R2Score: 0.8297\n",
      "INFO:2023-07-17 10:47:21,905:emulator:_train_once:L316: [ 11/100] Training Loss: 1.1579 - MeanSquaredError: 0.1525 - R2Score: 0.8475 | Validation Loss: 0.9727 - MeanSquaredError: 0.2154 - R2Score: 0.8495\n",
      "INFO:2023-07-17 10:47:21,924:emulator:_train_once:L316: [ 12/100] Training Loss: 1.1137 - MeanSquaredError: 0.1339 - R2Score: 0.8661 | Validation Loss: 0.9358 - MeanSquaredError: 0.1934 - R2Score: 0.8649\n",
      "INFO:2023-07-17 10:47:21,945:emulator:_train_once:L316: [ 13/100] Training Loss: 1.0696 - MeanSquaredError: 0.1184 - R2Score: 0.8816 | Validation Loss: 0.8995 - MeanSquaredError: 0.1768 - R2Score: 0.8765\n",
      "INFO:2023-07-17 10:47:21,964:emulator:_train_once:L316: [ 14/100] Training Loss: 1.0258 - MeanSquaredError: 0.1058 - R2Score: 0.8942 | Validation Loss: 0.8639 - MeanSquaredError: 0.1643 - R2Score: 0.8852\n",
      "INFO:2023-07-17 10:47:21,986:emulator:_train_once:L316: [ 15/100] Training Loss: 0.9824 - MeanSquaredError: 0.0957 - R2Score: 0.9043 | Validation Loss: 0.8288 - MeanSquaredError: 0.1553 - R2Score: 0.8915\n",
      "INFO:2023-07-17 10:47:22,006:emulator:_train_once:L316: [ 16/100] Training Loss: 0.9394 - MeanSquaredError: 0.0877 - R2Score: 0.9123 | Validation Loss: 0.7941 - MeanSquaredError: 0.1488 - R2Score: 0.8961\n",
      "INFO:2023-07-17 10:47:22,026:emulator:_train_once:L316: [ 17/100] Training Loss: 0.8972 - MeanSquaredError: 0.0815 - R2Score: 0.9185 | Validation Loss: 0.7598 - MeanSquaredError: 0.1442 - R2Score: 0.8993\n",
      "INFO:2023-07-17 10:47:22,046:emulator:_train_once:L316: [ 18/100] Training Loss: 0.8558 - MeanSquaredError: 0.0766 - R2Score: 0.9234 | Validation Loss: 0.7259 - MeanSquaredError: 0.1410 - R2Score: 0.9015\n",
      "INFO:2023-07-17 10:47:22,066:emulator:_train_once:L316: [ 19/100] Training Loss: 0.8152 - MeanSquaredError: 0.0729 - R2Score: 0.9271 | Validation Loss: 0.6924 - MeanSquaredError: 0.1386 - R2Score: 0.9032\n",
      "INFO:2023-07-17 10:47:22,089:emulator:_train_once:L316: [ 20/100] Training Loss: 0.7758 - MeanSquaredError: 0.0701 - R2Score: 0.9299 | Validation Loss: 0.6594 - MeanSquaredError: 0.1370 - R2Score: 0.9043\n",
      "INFO:2023-07-17 10:47:22,109:emulator:_train_once:L316: [ 21/100] Training Loss: 0.7374 - MeanSquaredError: 0.0679 - R2Score: 0.9321 | Validation Loss: 0.6271 - MeanSquaredError: 0.1357 - R2Score: 0.9052\n",
      "INFO:2023-07-17 10:47:22,130:emulator:_train_once:L316: [ 22/100] Training Loss: 0.7002 - MeanSquaredError: 0.0662 - R2Score: 0.9338 | Validation Loss: 0.5954 - MeanSquaredError: 0.1346 - R2Score: 0.9060\n",
      "INFO:2023-07-17 10:47:22,153:emulator:_train_once:L316: [ 23/100] Training Loss: 0.6643 - MeanSquaredError: 0.0649 - R2Score: 0.9351 | Validation Loss: 0.5647 - MeanSquaredError: 0.1336 - R2Score: 0.9067\n",
      "INFO:2023-07-17 10:47:22,173:emulator:_train_once:L316: [ 24/100] Training Loss: 0.6298 - MeanSquaredError: 0.0639 - R2Score: 0.9361 | Validation Loss: 0.5350 - MeanSquaredError: 0.1326 - R2Score: 0.9074\n",
      "INFO:2023-07-17 10:47:22,195:emulator:_train_once:L316: [ 25/100] Training Loss: 0.5967 - MeanSquaredError: 0.0631 - R2Score: 0.9369 | Validation Loss: 0.5066 - MeanSquaredError: 0.1315 - R2Score: 0.9081\n",
      "INFO:2023-07-17 10:47:22,216:emulator:_train_once:L316: [ 26/100] Training Loss: 0.5651 - MeanSquaredError: 0.0624 - R2Score: 0.9376 | Validation Loss: 0.4797 - MeanSquaredError: 0.1303 - R2Score: 0.9090\n",
      "INFO:2023-07-17 10:47:22,236:emulator:_train_once:L316: [ 27/100] Training Loss: 0.5350 - MeanSquaredError: 0.0618 - R2Score: 0.9382 | Validation Loss: 0.4544 - MeanSquaredError: 0.1290 - R2Score: 0.9099\n",
      "INFO:2023-07-17 10:47:22,257:emulator:_train_once:L316: [ 28/100] Training Loss: 0.5067 - MeanSquaredError: 0.0612 - R2Score: 0.9388 | Validation Loss: 0.4309 - MeanSquaredError: 0.1276 - R2Score: 0.9109\n",
      "INFO:2023-07-17 10:47:22,277:emulator:_train_once:L316: [ 29/100] Training Loss: 0.4801 - MeanSquaredError: 0.0606 - R2Score: 0.9394 | Validation Loss: 0.4095 - MeanSquaredError: 0.1260 - R2Score: 0.9120\n",
      "INFO:2023-07-17 10:47:22,299:emulator:_train_once:L316: [ 30/100] Training Loss: 0.4553 - MeanSquaredError: 0.0601 - R2Score: 0.9399 | Validation Loss: 0.3903 - MeanSquaredError: 0.1244 - R2Score: 0.9131\n",
      "INFO:2023-07-17 10:47:22,318:emulator:_train_once:L316: [ 31/100] Training Loss: 0.4326 - MeanSquaredError: 0.0595 - R2Score: 0.9405 | Validation Loss: 0.3733 - MeanSquaredError: 0.1226 - R2Score: 0.9144\n",
      "INFO:2023-07-17 10:47:22,341:emulator:_train_once:L316: [ 32/100] Training Loss: 0.4121 - MeanSquaredError: 0.0589 - R2Score: 0.9411 | Validation Loss: 0.3587 - MeanSquaredError: 0.1208 - R2Score: 0.9156\n",
      "INFO:2023-07-17 10:47:22,361:emulator:_train_once:L316: [ 33/100] Training Loss: 0.3937 - MeanSquaredError: 0.0582 - R2Score: 0.9418 | Validation Loss: 0.3463 - MeanSquaredError: 0.1189 - R2Score: 0.9170\n",
      "INFO:2023-07-17 10:47:22,380:emulator:_train_once:L316: [ 34/100] Training Loss: 0.3777 - MeanSquaredError: 0.0575 - R2Score: 0.9425 | Validation Loss: 0.3358 - MeanSquaredError: 0.1169 - R2Score: 0.9184\n",
      "INFO:2023-07-17 10:47:22,402:emulator:_train_once:L316: [ 35/100] Training Loss: 0.3640 - MeanSquaredError: 0.0566 - R2Score: 0.9434 | Validation Loss: 0.3267 - MeanSquaredError: 0.1148 - R2Score: 0.9199\n",
      "INFO:2023-07-17 10:47:22,422:emulator:_train_once:L316: [ 36/100] Training Loss: 0.3524 - MeanSquaredError: 0.0555 - R2Score: 0.9445 | Validation Loss: 0.3182 - MeanSquaredError: 0.1124 - R2Score: 0.9215\n",
      "INFO:2023-07-17 10:47:22,442:emulator:_train_once:L316: [ 37/100] Training Loss: 0.3427 - MeanSquaredError: 0.0542 - R2Score: 0.9458 | Validation Loss: 0.3092 - MeanSquaredError: 0.1098 - R2Score: 0.9233\n",
      "INFO:2023-07-17 10:47:22,462:emulator:_train_once:L316: [ 38/100] Training Loss: 0.3343 - MeanSquaredError: 0.0527 - R2Score: 0.9473 | Validation Loss: 0.2982 - MeanSquaredError: 0.1068 - R2Score: 0.9254\n",
      "INFO:2023-07-17 10:47:22,483:emulator:_train_once:L316: [ 39/100] Training Loss: 0.3265 - MeanSquaredError: 0.0508 - R2Score: 0.9492 | Validation Loss: 0.2838 - MeanSquaredError: 0.1034 - R2Score: 0.9278\n",
      "INFO:2023-07-17 10:47:22,506:emulator:_train_once:L316: [ 40/100] Training Loss: 0.3184 - MeanSquaredError: 0.0486 - R2Score: 0.9514 | Validation Loss: 0.2640 - MeanSquaredError: 0.0993 - R2Score: 0.9307\n",
      "INFO:2023-07-17 10:47:22,527:emulator:_train_once:L316: [ 41/100] Training Loss: 0.3089 - MeanSquaredError: 0.0459 - R2Score: 0.9541 | Validation Loss: 0.2372 - MeanSquaredError: 0.0945 - R2Score: 0.9340\n",
      "INFO:2023-07-17 10:47:22,546:emulator:_train_once:L316: [ 42/100] Training Loss: 0.2968 - MeanSquaredError: 0.0427 - R2Score: 0.9573 | Validation Loss: 0.2020 - MeanSquaredError: 0.0888 - R2Score: 0.9380\n",
      "INFO:2023-07-17 10:47:22,567:emulator:_train_once:L316: [ 43/100] Training Loss: 0.2805 - MeanSquaredError: 0.0390 - R2Score: 0.9610 | Validation Loss: 0.1579 - MeanSquaredError: 0.0823 - R2Score: 0.9425\n",
      "INFO:2023-07-17 10:47:22,586:emulator:_train_once:L316: [ 44/100] Training Loss: 0.2589 - MeanSquaredError: 0.0349 - R2Score: 0.9651 | Validation Loss: 0.1053 - MeanSquaredError: 0.0749 - R2Score: 0.9477\n",
      "INFO:2023-07-17 10:47:22,609:emulator:_train_once:L316: [ 45/100] Training Loss: 0.2306 - MeanSquaredError: 0.0306 - R2Score: 0.9694 | Validation Loss: 0.0464 - MeanSquaredError: 0.0671 - R2Score: 0.9532\n",
      "INFO:2023-07-17 10:47:22,630:emulator:_train_once:L316: [ 46/100] Training Loss: 0.1949 - MeanSquaredError: 0.0263 - R2Score: 0.9737 | Validation Loss: -0.0146 - MeanSquaredError: 0.0592 - R2Score: 0.9587\n",
      "INFO:2023-07-17 10:47:22,650:emulator:_train_once:L316: [ 47/100] Training Loss: 0.1520 - MeanSquaredError: 0.0224 - R2Score: 0.9776 | Validation Loss: -0.0727 - MeanSquaredError: 0.0519 - R2Score: 0.9638\n",
      "INFO:2023-07-17 10:47:22,671:emulator:_train_once:L316: [ 48/100] Training Loss: 0.1034 - MeanSquaredError: 0.0192 - R2Score: 0.9808 | Validation Loss: -0.1239 - MeanSquaredError: 0.0459 - R2Score: 0.9679\n",
      "INFO:2023-07-17 10:47:22,691:emulator:_train_once:L316: [ 49/100] Training Loss: 0.0521 - MeanSquaredError: 0.0168 - R2Score: 0.9832 | Validation Loss: -0.1675 - MeanSquaredError: 0.0413 - R2Score: 0.9711\n"
     ]
    },
    {
     "name": "stderr",
     "output_type": "stream",
     "text": [
      "INFO:2023-07-17 10:47:22,715:emulator:_train_once:L316: [ 50/100] Training Loss: 0.0020 - MeanSquaredError: 0.0150 - R2Score: 0.9850 | Validation Loss: -0.2077 - MeanSquaredError: 0.0378 - R2Score: 0.9736\n",
      "INFO:2023-07-17 10:47:22,735:emulator:_train_once:L316: [ 51/100] Training Loss: -0.0439 - MeanSquaredError: 0.0133 - R2Score: 0.9867 | Validation Loss: -0.2515 - MeanSquaredError: 0.0346 - R2Score: 0.9758\n",
      "INFO:2023-07-17 10:47:22,757:emulator:_train_once:L316: [ 52/100] Training Loss: -0.0849 - MeanSquaredError: 0.0115 - R2Score: 0.9885 | Validation Loss: -0.3039 - MeanSquaredError: 0.0312 - R2Score: 0.9782\n",
      "INFO:2023-07-17 10:47:22,783:emulator:_train_once:L316: [ 53/100] Training Loss: -0.1229 - MeanSquaredError: 0.0096 - R2Score: 0.9904 | Validation Loss: -0.3613 - MeanSquaredError: 0.0275 - R2Score: 0.9808\n",
      "INFO:2023-07-17 10:47:22,804:emulator:_train_once:L316: [ 54/100] Training Loss: -0.1602 - MeanSquaredError: 0.0080 - R2Score: 0.9920 | Validation Loss: -0.4139 - MeanSquaredError: 0.0245 - R2Score: 0.9829\n",
      "INFO:2023-07-17 10:47:22,827:emulator:_train_once:L316: [ 55/100] Training Loss: -0.1970 - MeanSquaredError: 0.0068 - R2Score: 0.9932 | Validation Loss: -0.4584 - MeanSquaredError: 0.0224 - R2Score: 0.9844\n",
      "INFO:2023-07-17 10:47:22,846:emulator:_train_once:L316: [ 56/100] Training Loss: -0.2311 - MeanSquaredError: 0.0057 - R2Score: 0.9943 | Validation Loss: -0.5010 - MeanSquaredError: 0.0207 - R2Score: 0.9855\n",
      "INFO:2023-07-17 10:47:22,867:emulator:_train_once:L316: [ 57/100] Training Loss: -0.2619 - MeanSquaredError: 0.0048 - R2Score: 0.9952 | Validation Loss: -0.5442 - MeanSquaredError: 0.0191 - R2Score: 0.9867\n",
      "INFO:2023-07-17 10:47:22,887:emulator:_train_once:L316: [ 58/100] Training Loss: -0.2905 - MeanSquaredError: 0.0041 - R2Score: 0.9959 | Validation Loss: -0.5821 - MeanSquaredError: 0.0178 - R2Score: 0.9876\n",
      "INFO:2023-07-17 10:47:22,907:emulator:_train_once:L316: [ 59/100] Training Loss: -0.3173 - MeanSquaredError: 0.0036 - R2Score: 0.9964 | Validation Loss: -0.6133 - MeanSquaredError: 0.0170 - R2Score: 0.9882\n",
      "INFO:2023-07-17 10:47:22,928:emulator:_train_once:L316: [ 60/100] Training Loss: -0.3418 - MeanSquaredError: 0.0032 - R2Score: 0.9968 | Validation Loss: -0.6430 - MeanSquaredError: 0.0164 - R2Score: 0.9885\n",
      "INFO:2023-07-17 10:47:22,948:emulator:_train_once:L316: [ 61/100] Training Loss: -0.3642 - MeanSquaredError: 0.0029 - R2Score: 0.9971 | Validation Loss: -0.6736 - MeanSquaredError: 0.0159 - R2Score: 0.9889\n",
      "INFO:2023-07-17 10:47:22,967:emulator:_train_once:L316: [ 62/100] Training Loss: -0.3862 - MeanSquaredError: 0.0026 - R2Score: 0.9974 | Validation Loss: -0.7049 - MeanSquaredError: 0.0153 - R2Score: 0.9893\n",
      "INFO:2023-07-17 10:47:22,987:emulator:_train_once:L316: [ 63/100] Training Loss: -0.4088 - MeanSquaredError: 0.0025 - R2Score: 0.9975 | Validation Loss: -0.7363 - MeanSquaredError: 0.0147 - R2Score: 0.9897\n",
      "INFO:2023-07-17 10:47:23,005:emulator:_train_once:L316: [ 64/100] Training Loss: -0.4331 - MeanSquaredError: 0.0023 - R2Score: 0.9977 | Validation Loss: -0.7679 - MeanSquaredError: 0.0141 - R2Score: 0.9901\n",
      "INFO:2023-07-17 10:47:23,027:emulator:_train_once:L316: [ 65/100] Training Loss: -0.4594 - MeanSquaredError: 0.0022 - R2Score: 0.9978 | Validation Loss: -0.7992 - MeanSquaredError: 0.0136 - R2Score: 0.9905\n",
      "INFO:2023-07-17 10:47:23,046:emulator:_train_once:L316: [ 66/100] Training Loss: -0.4875 - MeanSquaredError: 0.0021 - R2Score: 0.9979 | Validation Loss: -0.8302 - MeanSquaredError: 0.0130 - R2Score: 0.9909\n",
      "INFO:2023-07-17 10:47:23,065:emulator:_train_once:L316: [ 67/100] Training Loss: -0.5169 - MeanSquaredError: 0.0020 - R2Score: 0.9980 | Validation Loss: -0.8602 - MeanSquaredError: 0.0125 - R2Score: 0.9912\n",
      "INFO:2023-07-17 10:47:23,085:emulator:_train_once:L316: [ 68/100] Training Loss: -0.5467 - MeanSquaredError: 0.0019 - R2Score: 0.9981 | Validation Loss: -0.8888 - MeanSquaredError: 0.0120 - R2Score: 0.9916\n",
      "INFO:2023-07-17 10:47:23,105:emulator:_train_once:L316: [ 69/100] Training Loss: -0.5760 - MeanSquaredError: 0.0018 - R2Score: 0.9982 | Validation Loss: -0.9153 - MeanSquaredError: 0.0116 - R2Score: 0.9919\n",
      "INFO:2023-07-17 10:47:23,127:emulator:_train_once:L316: [ 70/100] Training Loss: -0.6039 - MeanSquaredError: 0.0017 - R2Score: 0.9983 | Validation Loss: -0.9392 - MeanSquaredError: 0.0112 - R2Score: 0.9922\n",
      "INFO:2023-07-17 10:47:23,148:emulator:_train_once:L316: [ 71/100] Training Loss: -0.6296 - MeanSquaredError: 0.0017 - R2Score: 0.9983 | Validation Loss: -0.9601 - MeanSquaredError: 0.0108 - R2Score: 0.9924\n",
      "INFO:2023-07-17 10:47:23,168:emulator:_train_once:L316: [ 72/100] Training Loss: -0.6528 - MeanSquaredError: 0.0016 - R2Score: 0.9984 | Validation Loss: -0.9785 - MeanSquaredError: 0.0105 - R2Score: 0.9927\n",
      "INFO:2023-07-17 10:47:23,188:emulator:_train_once:L316: [ 73/100] Training Loss: -0.6735 - MeanSquaredError: 0.0015 - R2Score: 0.9985 | Validation Loss: -0.9953 - MeanSquaredError: 0.0101 - R2Score: 0.9929\n",
      "INFO:2023-07-17 10:47:23,209:emulator:_train_once:L316: [ 74/100] Training Loss: -0.6923 - MeanSquaredError: 0.0015 - R2Score: 0.9985 | Validation Loss: -1.0118 - MeanSquaredError: 0.0098 - R2Score: 0.9932\n",
      "INFO:2023-07-17 10:47:23,235:emulator:_train_once:L316: [ 75/100] Training Loss: -0.7100 - MeanSquaredError: 0.0014 - R2Score: 0.9986 | Validation Loss: -1.0302 - MeanSquaredError: 0.0094 - R2Score: 0.9934\n",
      "INFO:2023-07-17 10:47:23,256:emulator:_train_once:L316: [ 76/100] Training Loss: -0.7273 - MeanSquaredError: 0.0012 - R2Score: 0.9988 | Validation Loss: -1.0519 - MeanSquaredError: 0.0090 - R2Score: 0.9937\n",
      "INFO:2023-07-17 10:47:23,276:emulator:_train_once:L316: [ 77/100] Training Loss: -0.7450 - MeanSquaredError: 0.0011 - R2Score: 0.9989 | Validation Loss: -1.0776 - MeanSquaredError: 0.0086 - R2Score: 0.9940\n",
      "INFO:2023-07-17 10:47:23,295:emulator:_train_once:L316: [ 78/100] Training Loss: -0.7634 - MeanSquaredError: 0.0010 - R2Score: 0.9990 | Validation Loss: -1.1067 - MeanSquaredError: 0.0080 - R2Score: 0.9944\n",
      "INFO:2023-07-17 10:47:23,315:emulator:_train_once:L316: [ 79/100] Training Loss: -0.7824 - MeanSquaredError: 0.0009 - R2Score: 0.9991 | Validation Loss: -1.1371 - MeanSquaredError: 0.0075 - R2Score: 0.9948\n",
      "INFO:2023-07-17 10:47:23,337:emulator:_train_once:L316: [ 80/100] Training Loss: -0.8014 - MeanSquaredError: 0.0008 - R2Score: 0.9992 | Validation Loss: -1.1670 - MeanSquaredError: 0.0070 - R2Score: 0.9951\n",
      "INFO:2023-07-17 10:47:23,358:emulator:_train_once:L316: [ 81/100] Training Loss: -0.8195 - MeanSquaredError: 0.0007 - R2Score: 0.9993 | Validation Loss: -1.1970 - MeanSquaredError: 0.0066 - R2Score: 0.9954\n",
      "INFO:2023-07-17 10:47:23,378:emulator:_train_once:L316: [ 82/100] Training Loss: -0.8358 - MeanSquaredError: 0.0006 - R2Score: 0.9994 | Validation Loss: -1.2283 - MeanSquaredError: 0.0061 - R2Score: 0.9957\n",
      "INFO:2023-07-17 10:47:23,399:emulator:_train_once:L316: [ 83/100] Training Loss: -0.8504 - MeanSquaredError: 0.0006 - R2Score: 0.9994 | Validation Loss: -1.2606 - MeanSquaredError: 0.0058 - R2Score: 0.9960\n",
      "INFO:2023-07-17 10:47:23,419:emulator:_train_once:L316: [ 84/100] Training Loss: -0.8640 - MeanSquaredError: 0.0005 - R2Score: 0.9995 | Validation Loss: -1.2919 - MeanSquaredError: 0.0054 - R2Score: 0.9962\n",
      "INFO:2023-07-17 10:47:23,441:emulator:_train_once:L316: [ 85/100] Training Loss: -0.8773 - MeanSquaredError: 0.0005 - R2Score: 0.9995 | Validation Loss: -1.3212 - MeanSquaredError: 0.0051 - R2Score: 0.9964\n",
      "INFO:2023-07-17 10:47:23,460:emulator:_train_once:L316: [ 86/100] Training Loss: -0.8907 - MeanSquaredError: 0.0004 - R2Score: 0.9996 | Validation Loss: -1.3474 - MeanSquaredError: 0.0049 - R2Score: 0.9966\n",
      "INFO:2023-07-17 10:47:23,478:emulator:_train_once:L316: [ 87/100] Training Loss: -0.9041 - MeanSquaredError: 0.0004 - R2Score: 0.9996 | Validation Loss: -1.3709 - MeanSquaredError: 0.0047 - R2Score: 0.9967\n",
      "INFO:2023-07-17 10:47:23,499:emulator:_train_once:L316: [ 88/100] Training Loss: -0.9173 - MeanSquaredError: 0.0004 - R2Score: 0.9996 | Validation Loss: -1.3909 - MeanSquaredError: 0.0045 - R2Score: 0.9969\n",
      "INFO:2023-07-17 10:47:23,518:emulator:_train_once:L316: [ 89/100] Training Loss: -0.9301 - MeanSquaredError: 0.0004 - R2Score: 0.9996 | Validation Loss: -1.4081 - MeanSquaredError: 0.0044 - R2Score: 0.9970\n"
     ]
    },
    {
     "name": "stderr",
     "output_type": "stream",
     "text": [
      "INFO:2023-07-17 10:47:23,543:emulator:_train_once:L316: [ 90/100] Training Loss: -0.9422 - MeanSquaredError: 0.0004 - R2Score: 0.9996 | Validation Loss: -1.4225 - MeanSquaredError: 0.0042 - R2Score: 0.9970\n",
      "INFO:2023-07-17 10:47:23,562:emulator:_train_once:L316: [ 91/100] Training Loss: -0.9537 - MeanSquaredError: 0.0004 - R2Score: 0.9996 | Validation Loss: -1.4346 - MeanSquaredError: 0.0041 - R2Score: 0.9971\n",
      "INFO:2023-07-17 10:47:23,581:emulator:_train_once:L316: [ 92/100] Training Loss: -0.9649 - MeanSquaredError: 0.0004 - R2Score: 0.9996 | Validation Loss: -1.4459 - MeanSquaredError: 0.0040 - R2Score: 0.9972\n",
      "INFO:2023-07-17 10:47:23,601:emulator:_train_once:L316: [ 93/100] Training Loss: -0.9760 - MeanSquaredError: 0.0003 - R2Score: 0.9997 | Validation Loss: -1.4573 - MeanSquaredError: 0.0039 - R2Score: 0.9973\n",
      "INFO:2023-07-17 10:47:23,621:emulator:_train_once:L316: [ 94/100] Training Loss: -0.9873 - MeanSquaredError: 0.0003 - R2Score: 0.9997 | Validation Loss: -1.4699 - MeanSquaredError: 0.0038 - R2Score: 0.9974\n",
      "INFO:2023-07-17 10:47:23,643:emulator:_train_once:L316: [ 95/100] Training Loss: -0.9988 - MeanSquaredError: 0.0003 - R2Score: 0.9997 | Validation Loss: -1.4846 - MeanSquaredError: 0.0036 - R2Score: 0.9975\n",
      "INFO:2023-07-17 10:47:23,665:emulator:_train_once:L316: [ 96/100] Training Loss: -1.0104 - MeanSquaredError: 0.0003 - R2Score: 0.9997 | Validation Loss: -1.5015 - MeanSquaredError: 0.0035 - R2Score: 0.9976\n",
      "INFO:2023-07-17 10:47:23,685:emulator:_train_once:L316: [ 97/100] Training Loss: -1.0218 - MeanSquaredError: 0.0003 - R2Score: 0.9997 | Validation Loss: -1.5204 - MeanSquaredError: 0.0034 - R2Score: 0.9976\n",
      "INFO:2023-07-17 10:47:23,705:emulator:_train_once:L316: [ 98/100] Training Loss: -1.0331 - MeanSquaredError: 0.0002 - R2Score: 0.9998 | Validation Loss: -1.5408 - MeanSquaredError: 0.0032 - R2Score: 0.9977\n",
      "INFO:2023-07-17 10:47:23,726:emulator:_train_once:L316: [ 99/100] Training Loss: -1.0443 - MeanSquaredError: 0.0002 - R2Score: 0.9998 | Validation Loss: -1.5620 - MeanSquaredError: 0.0031 - R2Score: 0.9978\n",
      "INFO:2023-07-17 10:47:23,749:emulator:_train_once:L316: [100/100] Training Loss: -1.0555 - MeanSquaredError: 0.0002 - R2Score: 0.9998 | Validation Loss: -1.5827 - MeanSquaredError: 0.0030 - R2Score: 0.9979\n",
      "INFO:2023-07-17 10:47:23,756:emulator:train:L113: Run restart 1.\n",
      "INFO:2023-07-17 10:47:23,758:emulator:train:L100: Running restart 2...\n",
      "INFO:2023-07-17 10:47:23,781:emulator:_train_once:L316: [  1/100] Training Loss: 1.3566 - MeanSquaredError: 0.1429 - R2Score: 0.8571 | Validation Loss: 0.8770 - MeanSquaredError: 0.2862 - R2Score: 0.8001\n",
      "INFO:2023-07-17 10:47:23,802:emulator:_train_once:L316: [  2/100] Training Loss: 1.2580 - MeanSquaredError: 0.1218 - R2Score: 0.8782 | Validation Loss: 0.8145 - MeanSquaredError: 0.2316 - R2Score: 0.8383\n",
      "INFO:2023-07-17 10:47:23,824:emulator:_train_once:L316: [  3/100] Training Loss: 1.1442 - MeanSquaredError: 0.1051 - R2Score: 0.8949 | Validation Loss: 0.7563 - MeanSquaredError: 0.1894 - R2Score: 0.8677\n",
      "INFO:2023-07-17 10:47:23,866:emulator:_train_once:L316: [  4/100] Training Loss: 1.0391 - MeanSquaredError: 0.0934 - R2Score: 0.9066 | Validation Loss: 0.7053 - MeanSquaredError: 0.1610 - R2Score: 0.8875\n",
      "INFO:2023-07-17 10:47:23,889:emulator:_train_once:L316: [  5/100] Training Loss: 0.9508 - MeanSquaredError: 0.0858 - R2Score: 0.9142 | Validation Loss: 0.6607 - MeanSquaredError: 0.1430 - R2Score: 0.9001\n",
      "INFO:2023-07-17 10:47:23,909:emulator:_train_once:L316: [  6/100] Training Loss: 0.8781 - MeanSquaredError: 0.0806 - R2Score: 0.9194 | Validation Loss: 0.6205 - MeanSquaredError: 0.1314 - R2Score: 0.9082\n",
      "INFO:2023-07-17 10:47:23,929:emulator:_train_once:L316: [  7/100] Training Loss: 0.8174 - MeanSquaredError: 0.0767 - R2Score: 0.9233 | Validation Loss: 0.5827 - MeanSquaredError: 0.1235 - R2Score: 0.9137\n",
      "INFO:2023-07-17 10:47:23,948:emulator:_train_once:L316: [  8/100] Training Loss: 0.7650 - MeanSquaredError: 0.0734 - R2Score: 0.9266 | Validation Loss: 0.5462 - MeanSquaredError: 0.1178 - R2Score: 0.9177\n",
      "INFO:2023-07-17 10:47:23,968:emulator:_train_once:L316: [  9/100] Training Loss: 0.7181 - MeanSquaredError: 0.0705 - R2Score: 0.9295 | Validation Loss: 0.5104 - MeanSquaredError: 0.1133 - R2Score: 0.9209\n",
      "INFO:2023-07-17 10:47:23,992:emulator:_train_once:L316: [ 10/100] Training Loss: 0.6749 - MeanSquaredError: 0.0678 - R2Score: 0.9322 | Validation Loss: 0.4749 - MeanSquaredError: 0.1095 - R2Score: 0.9235\n",
      "INFO:2023-07-17 10:47:24,011:emulator:_train_once:L316: [ 11/100] Training Loss: 0.6342 - MeanSquaredError: 0.0652 - R2Score: 0.9348 | Validation Loss: 0.4397 - MeanSquaredError: 0.1061 - R2Score: 0.9259\n",
      "INFO:2023-07-17 10:47:24,031:emulator:_train_once:L316: [ 12/100] Training Loss: 0.5951 - MeanSquaredError: 0.0626 - R2Score: 0.9374 | Validation Loss: 0.4046 - MeanSquaredError: 0.1029 - R2Score: 0.9281\n",
      "INFO:2023-07-17 10:47:24,051:emulator:_train_once:L316: [ 13/100] Training Loss: 0.5573 - MeanSquaredError: 0.0599 - R2Score: 0.9401 | Validation Loss: 0.3697 - MeanSquaredError: 0.0997 - R2Score: 0.9304\n",
      "INFO:2023-07-17 10:47:24,071:emulator:_train_once:L316: [ 14/100] Training Loss: 0.5204 - MeanSquaredError: 0.0571 - R2Score: 0.9429 | Validation Loss: 0.3347 - MeanSquaredError: 0.0963 - R2Score: 0.9327\n",
      "INFO:2023-07-17 10:47:24,094:emulator:_train_once:L316: [ 15/100] Training Loss: 0.4845 - MeanSquaredError: 0.0542 - R2Score: 0.9458 | Validation Loss: 0.2995 - MeanSquaredError: 0.0928 - R2Score: 0.9352\n",
      "INFO:2023-07-17 10:47:24,113:emulator:_train_once:L316: [ 16/100] Training Loss: 0.4494 - MeanSquaredError: 0.0512 - R2Score: 0.9488 | Validation Loss: 0.2639 - MeanSquaredError: 0.0890 - R2Score: 0.9379\n",
      "INFO:2023-07-17 10:47:24,133:emulator:_train_once:L316: [ 17/100] Training Loss: 0.4152 - MeanSquaredError: 0.0480 - R2Score: 0.9520 | Validation Loss: 0.2274 - MeanSquaredError: 0.0848 - R2Score: 0.9408\n",
      "INFO:2023-07-17 10:47:24,152:emulator:_train_once:L316: [ 18/100] Training Loss: 0.3815 - MeanSquaredError: 0.0446 - R2Score: 0.9554 | Validation Loss: 0.1896 - MeanSquaredError: 0.0802 - R2Score: 0.9440\n",
      "INFO:2023-07-17 10:47:24,172:emulator:_train_once:L316: [ 19/100] Training Loss: 0.3483 - MeanSquaredError: 0.0410 - R2Score: 0.9590 | Validation Loss: 0.1497 - MeanSquaredError: 0.0752 - R2Score: 0.9475\n",
      "INFO:2023-07-17 10:47:24,196:emulator:_train_once:L316: [ 20/100] Training Loss: 0.3149 - MeanSquaredError: 0.0372 - R2Score: 0.9628 | Validation Loss: 0.1072 - MeanSquaredError: 0.0697 - R2Score: 0.9513\n",
      "INFO:2023-07-17 10:47:24,215:emulator:_train_once:L316: [ 21/100] Training Loss: 0.2806 - MeanSquaredError: 0.0333 - R2Score: 0.9667 | Validation Loss: 0.0616 - MeanSquaredError: 0.0639 - R2Score: 0.9554\n",
      "INFO:2023-07-17 10:47:24,235:emulator:_train_once:L316: [ 22/100] Training Loss: 0.2444 - MeanSquaredError: 0.0294 - R2Score: 0.9706 | Validation Loss: 0.0131 - MeanSquaredError: 0.0578 - R2Score: 0.9596\n",
      "INFO:2023-07-17 10:47:24,255:emulator:_train_once:L316: [ 23/100] Training Loss: 0.2051 - MeanSquaredError: 0.0256 - R2Score: 0.9744 | Validation Loss: -0.0372 - MeanSquaredError: 0.0519 - R2Score: 0.9638\n",
      "INFO:2023-07-17 10:47:24,276:emulator:_train_once:L316: [ 24/100] Training Loss: 0.1621 - MeanSquaredError: 0.0222 - R2Score: 0.9778 | Validation Loss: -0.0871 - MeanSquaredError: 0.0465 - R2Score: 0.9675\n",
      "INFO:2023-07-17 10:47:24,299:emulator:_train_once:L316: [ 25/100] Training Loss: 0.1152 - MeanSquaredError: 0.0194 - R2Score: 0.9806 | Validation Loss: -0.1342 - MeanSquaredError: 0.0420 - R2Score: 0.9707\n",
      "INFO:2023-07-17 10:47:24,319:emulator:_train_once:L316: [ 26/100] Training Loss: 0.0658 - MeanSquaredError: 0.0172 - R2Score: 0.9828 | Validation Loss: -0.1777 - MeanSquaredError: 0.0385 - R2Score: 0.9731\n",
      "INFO:2023-07-17 10:47:24,338:emulator:_train_once:L316: [ 27/100] Training Loss: 0.0163 - MeanSquaredError: 0.0154 - R2Score: 0.9846 | Validation Loss: -0.2197 - MeanSquaredError: 0.0357 - R2Score: 0.9751\n",
      "INFO:2023-07-17 10:47:24,358:emulator:_train_once:L316: [ 28/100] Training Loss: -0.0311 - MeanSquaredError: 0.0137 - R2Score: 0.9863 | Validation Loss: -0.2648 - MeanSquaredError: 0.0330 - R2Score: 0.9769\n",
      "INFO:2023-07-17 10:47:24,378:emulator:_train_once:L316: [ 29/100] Training Loss: -0.0755 - MeanSquaredError: 0.0120 - R2Score: 0.9880 | Validation Loss: -0.3175 - MeanSquaredError: 0.0300 - R2Score: 0.9790\n"
     ]
    },
    {
     "name": "stderr",
     "output_type": "stream",
     "text": [
      "INFO:2023-07-17 10:47:24,400:emulator:_train_once:L316: [ 30/100] Training Loss: -0.1179 - MeanSquaredError: 0.0102 - R2Score: 0.9898 | Validation Loss: -0.3777 - MeanSquaredError: 0.0267 - R2Score: 0.9814\n",
      "INFO:2023-07-17 10:47:24,419:emulator:_train_once:L316: [ 31/100] Training Loss: -0.1604 - MeanSquaredError: 0.0084 - R2Score: 0.9916 | Validation Loss: -0.4388 - MeanSquaredError: 0.0235 - R2Score: 0.9836\n",
      "INFO:2023-07-17 10:47:24,438:emulator:_train_once:L316: [ 32/100] Training Loss: -0.2040 - MeanSquaredError: 0.0070 - R2Score: 0.9930 | Validation Loss: -0.4928 - MeanSquaredError: 0.0211 - R2Score: 0.9853\n",
      "INFO:2023-07-17 10:47:24,459:emulator:_train_once:L316: [ 33/100] Training Loss: -0.2473 - MeanSquaredError: 0.0059 - R2Score: 0.9941 | Validation Loss: -0.5396 - MeanSquaredError: 0.0195 - R2Score: 0.9864\n",
      "INFO:2023-07-17 10:47:24,479:emulator:_train_once:L316: [ 34/100] Training Loss: -0.2878 - MeanSquaredError: 0.0050 - R2Score: 0.9950 | Validation Loss: -0.5867 - MeanSquaredError: 0.0181 - R2Score: 0.9873\n",
      "INFO:2023-07-17 10:47:24,500:emulator:_train_once:L316: [ 35/100] Training Loss: -0.3243 - MeanSquaredError: 0.0042 - R2Score: 0.9958 | Validation Loss: -0.6361 - MeanSquaredError: 0.0166 - R2Score: 0.9884\n",
      "INFO:2023-07-17 10:47:24,519:emulator:_train_once:L316: [ 36/100] Training Loss: -0.3581 - MeanSquaredError: 0.0035 - R2Score: 0.9965 | Validation Loss: -0.6806 - MeanSquaredError: 0.0152 - R2Score: 0.9894\n",
      "INFO:2023-07-17 10:47:24,538:emulator:_train_once:L316: [ 37/100] Training Loss: -0.3896 - MeanSquaredError: 0.0030 - R2Score: 0.9970 | Validation Loss: -0.7161 - MeanSquaredError: 0.0142 - R2Score: 0.9901\n",
      "INFO:2023-07-17 10:47:24,558:emulator:_train_once:L316: [ 38/100] Training Loss: -0.4182 - MeanSquaredError: 0.0026 - R2Score: 0.9974 | Validation Loss: -0.7470 - MeanSquaredError: 0.0136 - R2Score: 0.9905\n",
      "INFO:2023-07-17 10:47:24,577:emulator:_train_once:L316: [ 39/100] Training Loss: -0.4442 - MeanSquaredError: 0.0023 - R2Score: 0.9977 | Validation Loss: -0.7782 - MeanSquaredError: 0.0131 - R2Score: 0.9908\n",
      "INFO:2023-07-17 10:47:24,600:emulator:_train_once:L316: [ 40/100] Training Loss: -0.4684 - MeanSquaredError: 0.0021 - R2Score: 0.9979 | Validation Loss: -0.8101 - MeanSquaredError: 0.0126 - R2Score: 0.9912\n",
      "INFO:2023-07-17 10:47:24,620:emulator:_train_once:L316: [ 41/100] Training Loss: -0.4922 - MeanSquaredError: 0.0019 - R2Score: 0.9981 | Validation Loss: -0.8422 - MeanSquaredError: 0.0121 - R2Score: 0.9915\n",
      "INFO:2023-07-17 10:47:24,640:emulator:_train_once:L316: [ 42/100] Training Loss: -0.5162 - MeanSquaredError: 0.0017 - R2Score: 0.9983 | Validation Loss: -0.8738 - MeanSquaredError: 0.0116 - R2Score: 0.9919\n",
      "INFO:2023-07-17 10:47:24,659:emulator:_train_once:L316: [ 43/100] Training Loss: -0.5410 - MeanSquaredError: 0.0016 - R2Score: 0.9984 | Validation Loss: -0.9046 - MeanSquaredError: 0.0111 - R2Score: 0.9923\n",
      "INFO:2023-07-17 10:47:24,680:emulator:_train_once:L316: [ 44/100] Training Loss: -0.5668 - MeanSquaredError: 0.0015 - R2Score: 0.9985 | Validation Loss: -0.9343 - MeanSquaredError: 0.0106 - R2Score: 0.9926\n",
      "INFO:2023-07-17 10:47:24,702:emulator:_train_once:L316: [ 45/100] Training Loss: -0.5934 - MeanSquaredError: 0.0014 - R2Score: 0.9986 | Validation Loss: -0.9621 - MeanSquaredError: 0.0101 - R2Score: 0.9929\n",
      "INFO:2023-07-17 10:47:24,722:emulator:_train_once:L316: [ 46/100] Training Loss: -0.6201 - MeanSquaredError: 0.0013 - R2Score: 0.9987 | Validation Loss: -0.9874 - MeanSquaredError: 0.0097 - R2Score: 0.9932\n",
      "INFO:2023-07-17 10:47:24,742:emulator:_train_once:L316: [ 47/100] Training Loss: -0.6461 - MeanSquaredError: 0.0012 - R2Score: 0.9988 | Validation Loss: -1.0094 - MeanSquaredError: 0.0094 - R2Score: 0.9934\n",
      "INFO:2023-07-17 10:47:24,763:emulator:_train_once:L316: [ 48/100] Training Loss: -0.6706 - MeanSquaredError: 0.0012 - R2Score: 0.9988 | Validation Loss: -1.0276 - MeanSquaredError: 0.0091 - R2Score: 0.9937\n",
      "INFO:2023-07-17 10:47:24,783:emulator:_train_once:L316: [ 49/100] Training Loss: -0.6931 - MeanSquaredError: 0.0011 - R2Score: 0.9989 | Validation Loss: -1.0428 - MeanSquaredError: 0.0088 - R2Score: 0.9938\n",
      "INFO:2023-07-17 10:47:24,806:emulator:_train_once:L316: [ 50/100] Training Loss: -0.7134 - MeanSquaredError: 0.0011 - R2Score: 0.9989 | Validation Loss: -1.0560 - MeanSquaredError: 0.0086 - R2Score: 0.9940\n",
      "INFO:2023-07-17 10:47:24,827:emulator:_train_once:L316: [ 51/100] Training Loss: -0.7316 - MeanSquaredError: 0.0010 - R2Score: 0.9990 | Validation Loss: -1.0694 - MeanSquaredError: 0.0084 - R2Score: 0.9942\n",
      "INFO:2023-07-17 10:47:24,847:emulator:_train_once:L316: [ 52/100] Training Loss: -0.7483 - MeanSquaredError: 0.0009 - R2Score: 0.9991 | Validation Loss: -1.0853 - MeanSquaredError: 0.0081 - R2Score: 0.9944\n",
      "INFO:2023-07-17 10:47:24,867:emulator:_train_once:L316: [ 53/100] Training Loss: -0.7641 - MeanSquaredError: 0.0009 - R2Score: 0.9991 | Validation Loss: -1.1050 - MeanSquaredError: 0.0078 - R2Score: 0.9946\n",
      "INFO:2023-07-17 10:47:24,886:emulator:_train_once:L316: [ 54/100] Training Loss: -0.7798 - MeanSquaredError: 0.0008 - R2Score: 0.9992 | Validation Loss: -1.1296 - MeanSquaredError: 0.0074 - R2Score: 0.9948\n",
      "INFO:2023-07-17 10:47:24,909:emulator:_train_once:L316: [ 55/100] Training Loss: -0.7957 - MeanSquaredError: 0.0007 - R2Score: 0.9993 | Validation Loss: -1.1574 - MeanSquaredError: 0.0070 - R2Score: 0.9951\n",
      "INFO:2023-07-17 10:47:24,930:emulator:_train_once:L316: [ 56/100] Training Loss: -0.8119 - MeanSquaredError: 0.0006 - R2Score: 0.9994 | Validation Loss: -1.1867 - MeanSquaredError: 0.0066 - R2Score: 0.9954\n",
      "INFO:2023-07-17 10:47:24,950:emulator:_train_once:L316: [ 57/100] Training Loss: -0.8278 - MeanSquaredError: 0.0006 - R2Score: 0.9994 | Validation Loss: -1.2161 - MeanSquaredError: 0.0062 - R2Score: 0.9957\n",
      "INFO:2023-07-17 10:47:24,971:emulator:_train_once:L316: [ 58/100] Training Loss: -0.8427 - MeanSquaredError: 0.0005 - R2Score: 0.9995 | Validation Loss: -1.2460 - MeanSquaredError: 0.0059 - R2Score: 0.9959\n",
      "INFO:2023-07-17 10:47:24,991:emulator:_train_once:L316: [ 59/100] Training Loss: -0.8563 - MeanSquaredError: 0.0005 - R2Score: 0.9995 | Validation Loss: -1.2765 - MeanSquaredError: 0.0056 - R2Score: 0.9961\n",
      "INFO:2023-07-17 10:47:25,013:emulator:_train_once:L316: [ 60/100] Training Loss: -0.8689 - MeanSquaredError: 0.0004 - R2Score: 0.9996 | Validation Loss: -1.3059 - MeanSquaredError: 0.0053 - R2Score: 0.9963\n",
      "INFO:2023-07-17 10:47:25,033:emulator:_train_once:L316: [ 61/100] Training Loss: -0.8810 - MeanSquaredError: 0.0004 - R2Score: 0.9996 | Validation Loss: -1.3316 - MeanSquaredError: 0.0050 - R2Score: 0.9965\n",
      "INFO:2023-07-17 10:47:25,053:emulator:_train_once:L316: [ 62/100] Training Loss: -0.8929 - MeanSquaredError: 0.0004 - R2Score: 0.9996 | Validation Loss: -1.3530 - MeanSquaredError: 0.0048 - R2Score: 0.9966\n",
      "INFO:2023-07-17 10:47:25,071:emulator:_train_once:L316: [ 63/100] Training Loss: -0.9046 - MeanSquaredError: 0.0004 - R2Score: 0.9996 | Validation Loss: -1.3696 - MeanSquaredError: 0.0047 - R2Score: 0.9967\n",
      "INFO:2023-07-17 10:47:25,092:emulator:_train_once:L316: [ 64/100] Training Loss: -0.9159 - MeanSquaredError: 0.0003 - R2Score: 0.9997 | Validation Loss: -1.3822 - MeanSquaredError: 0.0046 - R2Score: 0.9968\n",
      "INFO:2023-07-17 10:47:25,113:emulator:_train_once:L316: [ 65/100] Training Loss: -0.9270 - MeanSquaredError: 0.0003 - R2Score: 0.9997 | Validation Loss: -1.3920 - MeanSquaredError: 0.0044 - R2Score: 0.9969\n",
      "INFO:2023-07-17 10:47:25,134:emulator:_train_once:L316: [ 66/100] Training Loss: -0.9377 - MeanSquaredError: 0.0003 - R2Score: 0.9997 | Validation Loss: -1.4000 - MeanSquaredError: 0.0044 - R2Score: 0.9970\n",
      "INFO:2023-07-17 10:47:25,157:emulator:_train_once:L316: [ 67/100] Training Loss: -0.9485 - MeanSquaredError: 0.0003 - R2Score: 0.9997 | Validation Loss: -1.4075 - MeanSquaredError: 0.0043 - R2Score: 0.9970\n",
      "INFO:2023-07-17 10:47:25,180:emulator:_train_once:L316: [ 68/100] Training Loss: -0.9592 - MeanSquaredError: 0.0003 - R2Score: 0.9997 | Validation Loss: -1.4163 - MeanSquaredError: 0.0042 - R2Score: 0.9971\n",
      "INFO:2023-07-17 10:47:25,204:emulator:_train_once:L316: [ 69/100] Training Loss: -0.9700 - MeanSquaredError: 0.0003 - R2Score: 0.9997 | Validation Loss: -1.4280 - MeanSquaredError: 0.0040 - R2Score: 0.9972\n"
     ]
    },
    {
     "name": "stderr",
     "output_type": "stream",
     "text": [
      "INFO:2023-07-17 10:47:25,230:emulator:_train_once:L316: [ 70/100] Training Loss: -0.9809 - MeanSquaredError: 0.0003 - R2Score: 0.9997 | Validation Loss: -1.4422 - MeanSquaredError: 0.0039 - R2Score: 0.9973\n",
      "INFO:2023-07-17 10:47:25,251:emulator:_train_once:L316: [ 71/100] Training Loss: -0.9916 - MeanSquaredError: 0.0002 - R2Score: 0.9998 | Validation Loss: -1.4598 - MeanSquaredError: 0.0038 - R2Score: 0.9974\n",
      "INFO:2023-07-17 10:47:25,271:emulator:_train_once:L316: [ 72/100] Training Loss: -1.0023 - MeanSquaredError: 0.0002 - R2Score: 0.9998 | Validation Loss: -1.4803 - MeanSquaredError: 0.0036 - R2Score: 0.9975\n",
      "INFO:2023-07-17 10:47:25,292:emulator:_train_once:L316: [ 73/100] Training Loss: -1.0130 - MeanSquaredError: 0.0002 - R2Score: 0.9998 | Validation Loss: -1.5023 - MeanSquaredError: 0.0035 - R2Score: 0.9976\n",
      "INFO:2023-07-17 10:47:25,312:emulator:_train_once:L316: [ 74/100] Training Loss: -1.0240 - MeanSquaredError: 0.0002 - R2Score: 0.9998 | Validation Loss: -1.5250 - MeanSquaredError: 0.0033 - R2Score: 0.9977\n",
      "INFO:2023-07-17 10:47:25,335:emulator:_train_once:L316: [ 75/100] Training Loss: -1.0352 - MeanSquaredError: 0.0002 - R2Score: 0.9998 | Validation Loss: -1.5470 - MeanSquaredError: 0.0032 - R2Score: 0.9978\n",
      "INFO:2023-07-17 10:47:25,355:emulator:_train_once:L316: [ 76/100] Training Loss: -1.0467 - MeanSquaredError: 0.0002 - R2Score: 0.9998 | Validation Loss: -1.5667 - MeanSquaredError: 0.0031 - R2Score: 0.9978\n",
      "INFO:2023-07-17 10:47:25,376:emulator:_train_once:L316: [ 77/100] Training Loss: -1.0580 - MeanSquaredError: 0.0001 - R2Score: 0.9999 | Validation Loss: -1.5840 - MeanSquaredError: 0.0030 - R2Score: 0.9979\n",
      "INFO:2023-07-17 10:47:25,395:emulator:_train_once:L316: [ 78/100] Training Loss: -1.0687 - MeanSquaredError: 0.0001 - R2Score: 0.9999 | Validation Loss: -1.5976 - MeanSquaredError: 0.0029 - R2Score: 0.9980\n",
      "INFO:2023-07-17 10:47:25,414:emulator:_train_once:L316: [ 79/100] Training Loss: -1.0785 - MeanSquaredError: 0.0001 - R2Score: 0.9999 | Validation Loss: -1.6094 - MeanSquaredError: 0.0029 - R2Score: 0.9980\n",
      "INFO:2023-07-17 10:47:25,436:emulator:_train_once:L316: [ 80/100] Training Loss: -1.0876 - MeanSquaredError: 0.0001 - R2Score: 0.9999 | Validation Loss: -1.6182 - MeanSquaredError: 0.0028 - R2Score: 0.9980\n",
      "INFO:2023-07-17 10:47:25,456:emulator:_train_once:L316: [ 81/100] Training Loss: -1.0963 - MeanSquaredError: 0.0001 - R2Score: 0.9999 | Validation Loss: -1.6256 - MeanSquaredError: 0.0027 - R2Score: 0.9981\n",
      "INFO:2023-07-17 10:47:25,476:emulator:_train_once:L316: [ 82/100] Training Loss: -1.1052 - MeanSquaredError: 0.0001 - R2Score: 0.9999 | Validation Loss: -1.6323 - MeanSquaredError: 0.0027 - R2Score: 0.9981\n",
      "INFO:2023-07-17 10:47:25,495:emulator:_train_once:L316: [ 83/100] Training Loss: -1.1144 - MeanSquaredError: 0.0001 - R2Score: 0.9999 | Validation Loss: -1.6384 - MeanSquaredError: 0.0027 - R2Score: 0.9981\n",
      "INFO:2023-07-17 10:47:25,514:emulator:_train_once:L316: [ 84/100] Training Loss: -1.1240 - MeanSquaredError: 0.0001 - R2Score: 0.9999 | Validation Loss: -1.6455 - MeanSquaredError: 0.0026 - R2Score: 0.9982\n",
      "INFO:2023-07-17 10:47:25,540:emulator:_train_once:L316: [ 85/100] Training Loss: -1.1337 - MeanSquaredError: 0.0001 - R2Score: 0.9999 | Validation Loss: -1.6526 - MeanSquaredError: 0.0026 - R2Score: 0.9982\n",
      "INFO:2023-07-17 10:47:25,560:emulator:_train_once:L316: [ 86/100] Training Loss: -1.1433 - MeanSquaredError: 0.0001 - R2Score: 0.9999 | Validation Loss: -1.6597 - MeanSquaredError: 0.0026 - R2Score: 0.9982\n",
      "INFO:2023-07-17 10:47:25,583:emulator:_train_once:L316: [ 87/100] Training Loss: -1.1528 - MeanSquaredError: 0.0001 - R2Score: 0.9999 | Validation Loss: -1.6678 - MeanSquaredError: 0.0025 - R2Score: 0.9982\n",
      "INFO:2023-07-17 10:47:25,603:emulator:_train_once:L316: [ 88/100] Training Loss: -1.1622 - MeanSquaredError: 0.0001 - R2Score: 0.9999 | Validation Loss: -1.6764 - MeanSquaredError: 0.0025 - R2Score: 0.9983\n",
      "INFO:2023-07-17 10:47:25,624:emulator:_train_once:L316: [ 89/100] Training Loss: -1.1711 - MeanSquaredError: 0.0001 - R2Score: 0.9999 | Validation Loss: -1.6857 - MeanSquaredError: 0.0025 - R2Score: 0.9983\n",
      "INFO:2023-07-17 10:47:25,646:emulator:_train_once:L316: [ 90/100] Training Loss: -1.1797 - MeanSquaredError: 0.0001 - R2Score: 0.9999 | Validation Loss: -1.6966 - MeanSquaredError: 0.0024 - R2Score: 0.9983\n",
      "INFO:2023-07-17 10:47:25,665:emulator:_train_once:L316: [ 91/100] Training Loss: -1.1878 - MeanSquaredError: 0.0001 - R2Score: 0.9999 | Validation Loss: -1.7083 - MeanSquaredError: 0.0024 - R2Score: 0.9983\n",
      "INFO:2023-07-17 10:47:25,686:emulator:_train_once:L316: [ 92/100] Training Loss: -1.1958 - MeanSquaredError: 0.0001 - R2Score: 0.9999 | Validation Loss: -1.7212 - MeanSquaredError: 0.0023 - R2Score: 0.9984\n",
      "INFO:2023-07-17 10:47:25,705:emulator:_train_once:L316: [ 93/100] Training Loss: -1.2037 - MeanSquaredError: 0.0001 - R2Score: 0.9999 | Validation Loss: -1.7348 - MeanSquaredError: 0.0023 - R2Score: 0.9984\n",
      "INFO:2023-07-17 10:47:25,725:emulator:_train_once:L316: [ 94/100] Training Loss: -1.2114 - MeanSquaredError: 0.0001 - R2Score: 0.9999 | Validation Loss: -1.7459 - MeanSquaredError: 0.0022 - R2Score: 0.9985\n",
      "INFO:2023-07-17 10:47:25,748:emulator:_train_once:L316: [ 95/100] Training Loss: -1.2190 - MeanSquaredError: 0.0001 - R2Score: 0.9999 | Validation Loss: -1.7536 - MeanSquaredError: 0.0022 - R2Score: 0.9985\n",
      "INFO:2023-07-17 10:47:25,768:emulator:_train_once:L316: [ 96/100] Training Loss: -1.2265 - MeanSquaredError: 0.0001 - R2Score: 0.9999 | Validation Loss: -1.7567 - MeanSquaredError: 0.0022 - R2Score: 0.9985\n",
      "INFO:2023-07-17 10:47:25,820:emulator:_train_once:L316: [ 97/100] Training Loss: -1.2341 - MeanSquaredError: 0.0001 - R2Score: 0.9999 | Validation Loss: -1.7558 - MeanSquaredError: 0.0021 - R2Score: 0.9985\n",
      "INFO:2023-07-17 10:47:25,839:emulator:_train_once:L316: [ 98/100] Training Loss: -1.2414 - MeanSquaredError: 0.0001 - R2Score: 0.9999 | Validation Loss: -1.7531 - MeanSquaredError: 0.0022 - R2Score: 0.9985\n",
      "INFO:2023-07-17 10:47:25,860:emulator:_train_once:L316: [ 99/100] Training Loss: -1.2483 - MeanSquaredError: 0.0001 - R2Score: 0.9999 | Validation Loss: -1.7508 - MeanSquaredError: 0.0022 - R2Score: 0.9985\n",
      "INFO:2023-07-17 10:47:25,884:emulator:_train_once:L316: [100/100] Training Loss: -1.2548 - MeanSquaredError: 0.0001 - R2Score: 0.9999 | Validation Loss: -1.7515 - MeanSquaredError: 0.0021 - R2Score: 0.9985\n",
      "INFO:2023-07-17 10:47:25,891:emulator:train:L113: Run restart 2.\n",
      "INFO:2023-07-17 10:47:25,892:emulator:train:L100: Running restart 3...\n",
      "INFO:2023-07-17 10:47:25,915:emulator:_train_once:L316: [  1/100] Training Loss: 1.8962 - MeanSquaredError: 0.6744 - R2Score: 0.3256 | Validation Loss: 1.6552 - MeanSquaredError: 1.8581 - R2Score: -0.2978\n",
      "INFO:2023-07-17 10:47:25,935:emulator:_train_once:L316: [  2/100] Training Loss: 1.8322 - MeanSquaredError: 0.5813 - R2Score: 0.4187 | Validation Loss: 1.5785 - MeanSquaredError: 1.5798 - R2Score: -0.1034\n",
      "INFO:2023-07-17 10:47:25,957:emulator:_train_once:L316: [  3/100] Training Loss: 1.7414 - MeanSquaredError: 0.4716 - R2Score: 0.5284 | Validation Loss: 1.4900 - MeanSquaredError: 1.2739 - R2Score: 0.1102\n",
      "INFO:2023-07-17 10:47:25,977:emulator:_train_once:L316: [  4/100] Training Loss: 1.6408 - MeanSquaredError: 0.3612 - R2Score: 0.6388 | Validation Loss: 1.3994 - MeanSquaredError: 0.9793 - R2Score: 0.3160\n",
      "INFO:2023-07-17 10:47:26,000:emulator:_train_once:L316: [  5/100] Training Loss: 1.5406 - MeanSquaredError: 0.2677 - R2Score: 0.7323 | Validation Loss: 1.3143 - MeanSquaredError: 0.7223 - R2Score: 0.4955\n",
      "INFO:2023-07-17 10:47:26,020:emulator:_train_once:L316: [  6/100] Training Loss: 1.4477 - MeanSquaredError: 0.2009 - R2Score: 0.7991 | Validation Loss: 1.2407 - MeanSquaredError: 0.5213 - R2Score: 0.6359\n",
      "INFO:2023-07-17 10:47:26,039:emulator:_train_once:L316: [  7/100] Training Loss: 1.3668 - MeanSquaredError: 0.1592 - R2Score: 0.8408 | Validation Loss: 1.1807 - MeanSquaredError: 0.3813 - R2Score: 0.7337\n",
      "INFO:2023-07-17 10:47:26,058:emulator:_train_once:L316: [  8/100] Training Loss: 1.2999 - MeanSquaredError: 0.1350 - R2Score: 0.8650 | Validation Loss: 1.1322 - MeanSquaredError: 0.2909 - R2Score: 0.7968\n",
      "INFO:2023-07-17 10:47:26,077:emulator:_train_once:L316: [  9/100] Training Loss: 1.2456 - MeanSquaredError: 0.1208 - R2Score: 0.8792 | Validation Loss: 1.0909 - MeanSquaredError: 0.2330 - R2Score: 0.8373\n"
     ]
    },
    {
     "name": "stderr",
     "output_type": "stream",
     "text": [
      "INFO:2023-07-17 10:47:26,099:emulator:_train_once:L316: [ 10/100] Training Loss: 1.2007 - MeanSquaredError: 0.1122 - R2Score: 0.8878 | Validation Loss: 1.0535 - MeanSquaredError: 0.1953 - R2Score: 0.8636\n",
      "INFO:2023-07-17 10:47:26,117:emulator:_train_once:L316: [ 11/100] Training Loss: 1.1620 - MeanSquaredError: 0.1064 - R2Score: 0.8936 | Validation Loss: 1.0181 - MeanSquaredError: 0.1709 - R2Score: 0.8807\n",
      "INFO:2023-07-17 10:47:26,135:emulator:_train_once:L316: [ 12/100] Training Loss: 1.1267 - MeanSquaredError: 0.1020 - R2Score: 0.8980 | Validation Loss: 0.9836 - MeanSquaredError: 0.1551 - R2Score: 0.8917\n",
      "INFO:2023-07-17 10:47:26,155:emulator:_train_once:L316: [ 13/100] Training Loss: 1.0928 - MeanSquaredError: 0.0980 - R2Score: 0.9020 | Validation Loss: 0.9490 - MeanSquaredError: 0.1447 - R2Score: 0.8989\n",
      "INFO:2023-07-17 10:47:26,175:emulator:_train_once:L316: [ 14/100] Training Loss: 1.0587 - MeanSquaredError: 0.0942 - R2Score: 0.9058 | Validation Loss: 0.9136 - MeanSquaredError: 0.1378 - R2Score: 0.9038\n",
      "INFO:2023-07-17 10:47:26,196:emulator:_train_once:L316: [ 15/100] Training Loss: 1.0235 - MeanSquaredError: 0.0905 - R2Score: 0.9095 | Validation Loss: 0.8772 - MeanSquaredError: 0.1329 - R2Score: 0.9072\n",
      "INFO:2023-07-17 10:47:26,215:emulator:_train_once:L316: [ 16/100] Training Loss: 0.9865 - MeanSquaredError: 0.0870 - R2Score: 0.9130 | Validation Loss: 0.8394 - MeanSquaredError: 0.1292 - R2Score: 0.9097\n",
      "INFO:2023-07-17 10:47:26,234:emulator:_train_once:L316: [ 17/100] Training Loss: 0.9475 - MeanSquaredError: 0.0838 - R2Score: 0.9162 | Validation Loss: 0.8001 - MeanSquaredError: 0.1263 - R2Score: 0.9118\n",
      "INFO:2023-07-17 10:47:26,254:emulator:_train_once:L316: [ 18/100] Training Loss: 0.9064 - MeanSquaredError: 0.0808 - R2Score: 0.9192 | Validation Loss: 0.7594 - MeanSquaredError: 0.1237 - R2Score: 0.9136\n",
      "INFO:2023-07-17 10:47:26,276:emulator:_train_once:L316: [ 19/100] Training Loss: 0.8634 - MeanSquaredError: 0.0781 - R2Score: 0.9219 | Validation Loss: 0.7175 - MeanSquaredError: 0.1214 - R2Score: 0.9152\n",
      "INFO:2023-07-17 10:47:26,297:emulator:_train_once:L316: [ 20/100] Training Loss: 0.8187 - MeanSquaredError: 0.0756 - R2Score: 0.9244 | Validation Loss: 0.6745 - MeanSquaredError: 0.1194 - R2Score: 0.9166\n",
      "INFO:2023-07-17 10:47:26,318:emulator:_train_once:L316: [ 21/100] Training Loss: 0.7726 - MeanSquaredError: 0.0733 - R2Score: 0.9267 | Validation Loss: 0.6308 - MeanSquaredError: 0.1176 - R2Score: 0.9179\n",
      "INFO:2023-07-17 10:47:26,337:emulator:_train_once:L316: [ 22/100] Training Loss: 0.7257 - MeanSquaredError: 0.0712 - R2Score: 0.9288 | Validation Loss: 0.5869 - MeanSquaredError: 0.1159 - R2Score: 0.9190\n",
      "INFO:2023-07-17 10:47:26,356:emulator:_train_once:L316: [ 23/100] Training Loss: 0.6784 - MeanSquaredError: 0.0694 - R2Score: 0.9306 | Validation Loss: 0.5433 - MeanSquaredError: 0.1145 - R2Score: 0.9200\n",
      "INFO:2023-07-17 10:47:26,377:emulator:_train_once:L316: [ 24/100] Training Loss: 0.6313 - MeanSquaredError: 0.0677 - R2Score: 0.9323 | Validation Loss: 0.5003 - MeanSquaredError: 0.1132 - R2Score: 0.9210\n",
      "INFO:2023-07-17 10:47:26,398:emulator:_train_once:L316: [ 25/100] Training Loss: 0.5852 - MeanSquaredError: 0.0661 - R2Score: 0.9339 | Validation Loss: 0.4588 - MeanSquaredError: 0.1119 - R2Score: 0.9218\n",
      "INFO:2023-07-17 10:47:26,418:emulator:_train_once:L316: [ 26/100] Training Loss: 0.5406 - MeanSquaredError: 0.0647 - R2Score: 0.9353 | Validation Loss: 0.4191 - MeanSquaredError: 0.1107 - R2Score: 0.9226\n",
      "INFO:2023-07-17 10:47:26,437:emulator:_train_once:L316: [ 27/100] Training Loss: 0.4983 - MeanSquaredError: 0.0633 - R2Score: 0.9367 | Validation Loss: 0.3819 - MeanSquaredError: 0.1095 - R2Score: 0.9235\n",
      "INFO:2023-07-17 10:47:26,457:emulator:_train_once:L316: [ 28/100] Training Loss: 0.4587 - MeanSquaredError: 0.0620 - R2Score: 0.9380 | Validation Loss: 0.3476 - MeanSquaredError: 0.1082 - R2Score: 0.9244\n",
      "INFO:2023-07-17 10:47:26,476:emulator:_train_once:L316: [ 29/100] Training Loss: 0.4225 - MeanSquaredError: 0.0606 - R2Score: 0.9394 | Validation Loss: 0.3166 - MeanSquaredError: 0.1067 - R2Score: 0.9255\n",
      "INFO:2023-07-17 10:47:26,497:emulator:_train_once:L316: [ 30/100] Training Loss: 0.3902 - MeanSquaredError: 0.0592 - R2Score: 0.9408 | Validation Loss: 0.2893 - MeanSquaredError: 0.1051 - R2Score: 0.9266\n",
      "INFO:2023-07-17 10:47:26,516:emulator:_train_once:L316: [ 31/100] Training Loss: 0.3620 - MeanSquaredError: 0.0578 - R2Score: 0.9422 | Validation Loss: 0.2656 - MeanSquaredError: 0.1033 - R2Score: 0.9279\n",
      "INFO:2023-07-17 10:47:26,535:emulator:_train_once:L316: [ 32/100] Training Loss: 0.3383 - MeanSquaredError: 0.0563 - R2Score: 0.9437 | Validation Loss: 0.2452 - MeanSquaredError: 0.1012 - R2Score: 0.9293\n",
      "INFO:2023-07-17 10:47:26,554:emulator:_train_once:L316: [ 33/100] Training Loss: 0.3189 - MeanSquaredError: 0.0546 - R2Score: 0.9454 | Validation Loss: 0.2278 - MeanSquaredError: 0.0989 - R2Score: 0.9309\n",
      "INFO:2023-07-17 10:47:26,573:emulator:_train_once:L316: [ 34/100] Training Loss: 0.3035 - MeanSquaredError: 0.0529 - R2Score: 0.9471 | Validation Loss: 0.2121 - MeanSquaredError: 0.0963 - R2Score: 0.9328\n",
      "INFO:2023-07-17 10:47:26,595:emulator:_train_once:L316: [ 35/100] Training Loss: 0.2915 - MeanSquaredError: 0.0510 - R2Score: 0.9490 | Validation Loss: 0.1970 - MeanSquaredError: 0.0933 - R2Score: 0.9349\n",
      "INFO:2023-07-17 10:47:26,614:emulator:_train_once:L316: [ 36/100] Training Loss: 0.2820 - MeanSquaredError: 0.0488 - R2Score: 0.9512 | Validation Loss: 0.1804 - MeanSquaredError: 0.0898 - R2Score: 0.9373\n",
      "INFO:2023-07-17 10:47:26,634:emulator:_train_once:L316: [ 37/100] Training Loss: 0.2737 - MeanSquaredError: 0.0464 - R2Score: 0.9536 | Validation Loss: 0.1601 - MeanSquaredError: 0.0858 - R2Score: 0.9400\n",
      "INFO:2023-07-17 10:47:26,653:emulator:_train_once:L316: [ 38/100] Training Loss: 0.2647 - MeanSquaredError: 0.0436 - R2Score: 0.9564 | Validation Loss: 0.1337 - MeanSquaredError: 0.0812 - R2Score: 0.9433\n",
      "INFO:2023-07-17 10:47:26,673:emulator:_train_once:L316: [ 39/100] Training Loss: 0.2531 - MeanSquaredError: 0.0404 - R2Score: 0.9596 | Validation Loss: 0.0986 - MeanSquaredError: 0.0757 - R2Score: 0.9471\n",
      "INFO:2023-07-17 10:47:26,695:emulator:_train_once:L316: [ 40/100] Training Loss: 0.2365 - MeanSquaredError: 0.0367 - R2Score: 0.9633 | Validation Loss: 0.0529 - MeanSquaredError: 0.0694 - R2Score: 0.9516\n",
      "INFO:2023-07-17 10:47:26,714:emulator:_train_once:L316: [ 41/100] Training Loss: 0.2123 - MeanSquaredError: 0.0326 - R2Score: 0.9674 | Validation Loss: -0.0035 - MeanSquaredError: 0.0621 - R2Score: 0.9566\n",
      "INFO:2023-07-17 10:47:26,734:emulator:_train_once:L316: [ 42/100] Training Loss: 0.1779 - MeanSquaredError: 0.0281 - R2Score: 0.9719 | Validation Loss: -0.0679 - MeanSquaredError: 0.0544 - R2Score: 0.9620\n",
      "INFO:2023-07-17 10:47:26,751:emulator:_train_once:L316: [ 43/100] Training Loss: 0.1318 - MeanSquaredError: 0.0238 - R2Score: 0.9762 | Validation Loss: -0.1340 - MeanSquaredError: 0.0469 - R2Score: 0.9673\n",
      "INFO:2023-07-17 10:47:26,770:emulator:_train_once:L316: [ 44/100] Training Loss: 0.0746 - MeanSquaredError: 0.0202 - R2Score: 0.9798 | Validation Loss: -0.1932 - MeanSquaredError: 0.0404 - R2Score: 0.9718\n",
      "INFO:2023-07-17 10:47:26,794:emulator:_train_once:L316: [ 45/100] Training Loss: 0.0103 - MeanSquaredError: 0.0174 - R2Score: 0.9826 | Validation Loss: -0.2412 - MeanSquaredError: 0.0357 - R2Score: 0.9751\n",
      "INFO:2023-07-17 10:47:26,811:emulator:_train_once:L316: [ 46/100] Training Loss: -0.0534 - MeanSquaredError: 0.0154 - R2Score: 0.9846 | Validation Loss: -0.2825 - MeanSquaredError: 0.0323 - R2Score: 0.9774\n",
      "INFO:2023-07-17 10:47:26,829:emulator:_train_once:L316: [ 47/100] Training Loss: -0.1099 - MeanSquaredError: 0.0135 - R2Score: 0.9865 | Validation Loss: -0.3298 - MeanSquaredError: 0.0292 - R2Score: 0.9796\n",
      "INFO:2023-07-17 10:47:26,849:emulator:_train_once:L316: [ 48/100] Training Loss: -0.1575 - MeanSquaredError: 0.0114 - R2Score: 0.9886 | Validation Loss: -0.3928 - MeanSquaredError: 0.0253 - R2Score: 0.9823\n",
      "INFO:2023-07-17 10:47:26,869:emulator:_train_once:L316: [ 49/100] Training Loss: -0.2006 - MeanSquaredError: 0.0091 - R2Score: 0.9909 | Validation Loss: -0.4645 - MeanSquaredError: 0.0210 - R2Score: 0.9853\n",
      "INFO:2023-07-17 10:47:26,891:emulator:_train_once:L316: [ 50/100] Training Loss: -0.2443 - MeanSquaredError: 0.0071 - R2Score: 0.9929 | Validation Loss: -0.5251 - MeanSquaredError: 0.0178 - R2Score: 0.9876\n"
     ]
    },
    {
     "name": "stderr",
     "output_type": "stream",
     "text": [
      "INFO:2023-07-17 10:47:26,911:emulator:_train_once:L316: [ 51/100] Training Loss: -0.2874 - MeanSquaredError: 0.0058 - R2Score: 0.9942 | Validation Loss: -0.5723 - MeanSquaredError: 0.0159 - R2Score: 0.9889\n",
      "INFO:2023-07-17 10:47:26,929:emulator:_train_once:L316: [ 52/100] Training Loss: -0.3250 - MeanSquaredError: 0.0046 - R2Score: 0.9954 | Validation Loss: -0.6201 - MeanSquaredError: 0.0144 - R2Score: 0.9900\n",
      "INFO:2023-07-17 10:47:26,950:emulator:_train_once:L316: [ 53/100] Training Loss: -0.3568 - MeanSquaredError: 0.0037 - R2Score: 0.9963 | Validation Loss: -0.6654 - MeanSquaredError: 0.0128 - R2Score: 0.9910\n",
      "INFO:2023-07-17 10:47:26,976:emulator:_train_once:L316: [ 54/100] Training Loss: -0.3848 - MeanSquaredError: 0.0031 - R2Score: 0.9969 | Validation Loss: -0.6998 - MeanSquaredError: 0.0119 - R2Score: 0.9917\n",
      "INFO:2023-07-17 10:47:27,000:emulator:_train_once:L316: [ 55/100] Training Loss: -0.4085 - MeanSquaredError: 0.0027 - R2Score: 0.9973 | Validation Loss: -0.7311 - MeanSquaredError: 0.0114 - R2Score: 0.9920\n",
      "INFO:2023-07-17 10:47:27,019:emulator:_train_once:L316: [ 56/100] Training Loss: -0.4288 - MeanSquaredError: 0.0023 - R2Score: 0.9977 | Validation Loss: -0.7639 - MeanSquaredError: 0.0110 - R2Score: 0.9923\n",
      "INFO:2023-07-17 10:47:27,059:emulator:_train_once:L316: [ 57/100] Training Loss: -0.4480 - MeanSquaredError: 0.0021 - R2Score: 0.9979 | Validation Loss: -0.7971 - MeanSquaredError: 0.0106 - R2Score: 0.9926\n",
      "INFO:2023-07-17 10:47:27,079:emulator:_train_once:L316: [ 58/100] Training Loss: -0.4679 - MeanSquaredError: 0.0019 - R2Score: 0.9981 | Validation Loss: -0.8309 - MeanSquaredError: 0.0102 - R2Score: 0.9929\n",
      "INFO:2023-07-17 10:47:27,099:emulator:_train_once:L316: [ 59/100] Training Loss: -0.4897 - MeanSquaredError: 0.0017 - R2Score: 0.9983 | Validation Loss: -0.8655 - MeanSquaredError: 0.0098 - R2Score: 0.9931\n",
      "INFO:2023-07-17 10:47:27,121:emulator:_train_once:L316: [ 60/100] Training Loss: -0.5147 - MeanSquaredError: 0.0016 - R2Score: 0.9984 | Validation Loss: -0.9005 - MeanSquaredError: 0.0095 - R2Score: 0.9934\n",
      "INFO:2023-07-17 10:47:27,142:emulator:_train_once:L316: [ 61/100] Training Loss: -0.5430 - MeanSquaredError: 0.0015 - R2Score: 0.9985 | Validation Loss: -0.9352 - MeanSquaredError: 0.0091 - R2Score: 0.9936\n",
      "INFO:2023-07-17 10:47:27,163:emulator:_train_once:L316: [ 62/100] Training Loss: -0.5742 - MeanSquaredError: 0.0014 - R2Score: 0.9986 | Validation Loss: -0.9687 - MeanSquaredError: 0.0088 - R2Score: 0.9938\n",
      "INFO:2023-07-17 10:47:27,182:emulator:_train_once:L316: [ 63/100] Training Loss: -0.6072 - MeanSquaredError: 0.0013 - R2Score: 0.9987 | Validation Loss: -0.9998 - MeanSquaredError: 0.0086 - R2Score: 0.9940\n",
      "INFO:2023-07-17 10:47:27,203:emulator:_train_once:L316: [ 64/100] Training Loss: -0.6403 - MeanSquaredError: 0.0013 - R2Score: 0.9987 | Validation Loss: -1.0272 - MeanSquaredError: 0.0083 - R2Score: 0.9942\n",
      "INFO:2023-07-17 10:47:27,226:emulator:_train_once:L316: [ 65/100] Training Loss: -0.6718 - MeanSquaredError: 0.0013 - R2Score: 0.9987 | Validation Loss: -1.0496 - MeanSquaredError: 0.0082 - R2Score: 0.9943\n",
      "INFO:2023-07-17 10:47:27,245:emulator:_train_once:L316: [ 66/100] Training Loss: -0.6999 - MeanSquaredError: 0.0012 - R2Score: 0.9988 | Validation Loss: -1.0662 - MeanSquaredError: 0.0080 - R2Score: 0.9944\n",
      "INFO:2023-07-17 10:47:27,265:emulator:_train_once:L316: [ 67/100] Training Loss: -0.7237 - MeanSquaredError: 0.0012 - R2Score: 0.9988 | Validation Loss: -1.0766 - MeanSquaredError: 0.0079 - R2Score: 0.9944\n",
      "INFO:2023-07-17 10:47:27,285:emulator:_train_once:L316: [ 68/100] Training Loss: -0.7432 - MeanSquaredError: 0.0012 - R2Score: 0.9988 | Validation Loss: -1.0830 - MeanSquaredError: 0.0079 - R2Score: 0.9945\n",
      "INFO:2023-07-17 10:47:27,305:emulator:_train_once:L316: [ 69/100] Training Loss: -0.7594 - MeanSquaredError: 0.0012 - R2Score: 0.9988 | Validation Loss: -1.0890 - MeanSquaredError: 0.0078 - R2Score: 0.9946\n",
      "INFO:2023-07-17 10:47:27,327:emulator:_train_once:L316: [ 70/100] Training Loss: -0.7738 - MeanSquaredError: 0.0011 - R2Score: 0.9989 | Validation Loss: -1.0978 - MeanSquaredError: 0.0076 - R2Score: 0.9947\n",
      "INFO:2023-07-17 10:47:27,348:emulator:_train_once:L316: [ 71/100] Training Loss: -0.7882 - MeanSquaredError: 0.0010 - R2Score: 0.9990 | Validation Loss: -1.1134 - MeanSquaredError: 0.0074 - R2Score: 0.9948\n",
      "INFO:2023-07-17 10:47:27,368:emulator:_train_once:L316: [ 72/100] Training Loss: -0.8038 - MeanSquaredError: 0.0009 - R2Score: 0.9991 | Validation Loss: -1.1376 - MeanSquaredError: 0.0071 - R2Score: 0.9951\n",
      "INFO:2023-07-17 10:47:27,388:emulator:_train_once:L316: [ 73/100] Training Loss: -0.8214 - MeanSquaredError: 0.0008 - R2Score: 0.9992 | Validation Loss: -1.1699 - MeanSquaredError: 0.0067 - R2Score: 0.9953\n",
      "INFO:2023-07-17 10:47:27,409:emulator:_train_once:L316: [ 74/100] Training Loss: -0.8409 - MeanSquaredError: 0.0007 - R2Score: 0.9993 | Validation Loss: -1.2058 - MeanSquaredError: 0.0062 - R2Score: 0.9957\n",
      "INFO:2023-07-17 10:47:27,431:emulator:_train_once:L316: [ 75/100] Training Loss: -0.8611 - MeanSquaredError: 0.0006 - R2Score: 0.9994 | Validation Loss: -1.2415 - MeanSquaredError: 0.0058 - R2Score: 0.9959\n",
      "INFO:2023-07-17 10:47:27,453:emulator:_train_once:L316: [ 76/100] Training Loss: -0.8797 - MeanSquaredError: 0.0005 - R2Score: 0.9995 | Validation Loss: -1.2783 - MeanSquaredError: 0.0054 - R2Score: 0.9962\n",
      "INFO:2023-07-17 10:47:27,474:emulator:_train_once:L316: [ 77/100] Training Loss: -0.8950 - MeanSquaredError: 0.0004 - R2Score: 0.9996 | Validation Loss: -1.3172 - MeanSquaredError: 0.0051 - R2Score: 0.9965\n",
      "INFO:2023-07-17 10:47:27,494:emulator:_train_once:L316: [ 78/100] Training Loss: -0.9074 - MeanSquaredError: 0.0004 - R2Score: 0.9996 | Validation Loss: -1.3545 - MeanSquaredError: 0.0047 - R2Score: 0.9967\n",
      "INFO:2023-07-17 10:47:27,513:emulator:_train_once:L316: [ 79/100] Training Loss: -0.9184 - MeanSquaredError: 0.0004 - R2Score: 0.9996 | Validation Loss: -1.3867 - MeanSquaredError: 0.0045 - R2Score: 0.9969\n",
      "INFO:2023-07-17 10:47:27,536:emulator:_train_once:L316: [ 80/100] Training Loss: -0.9294 - MeanSquaredError: 0.0003 - R2Score: 0.9997 | Validation Loss: -1.4134 - MeanSquaredError: 0.0043 - R2Score: 0.9970\n",
      "INFO:2023-07-17 10:47:27,556:emulator:_train_once:L316: [ 81/100] Training Loss: -0.9409 - MeanSquaredError: 0.0003 - R2Score: 0.9997 | Validation Loss: -1.4347 - MeanSquaredError: 0.0041 - R2Score: 0.9971\n",
      "INFO:2023-07-17 10:47:27,577:emulator:_train_once:L316: [ 82/100] Training Loss: -0.9532 - MeanSquaredError: 0.0003 - R2Score: 0.9997 | Validation Loss: -1.4519 - MeanSquaredError: 0.0040 - R2Score: 0.9972\n",
      "INFO:2023-07-17 10:47:27,597:emulator:_train_once:L316: [ 83/100] Training Loss: -0.9659 - MeanSquaredError: 0.0003 - R2Score: 0.9997 | Validation Loss: -1.4644 - MeanSquaredError: 0.0039 - R2Score: 0.9973\n",
      "INFO:2023-07-17 10:47:27,616:emulator:_train_once:L316: [ 84/100] Training Loss: -0.9786 - MeanSquaredError: 0.0003 - R2Score: 0.9997 | Validation Loss: -1.4738 - MeanSquaredError: 0.0039 - R2Score: 0.9973\n",
      "INFO:2023-07-17 10:47:27,638:emulator:_train_once:L316: [ 85/100] Training Loss: -0.9909 - MeanSquaredError: 0.0003 - R2Score: 0.9997 | Validation Loss: -1.4799 - MeanSquaredError: 0.0038 - R2Score: 0.9973\n",
      "INFO:2023-07-17 10:47:27,658:emulator:_train_once:L316: [ 86/100] Training Loss: -1.0026 - MeanSquaredError: 0.0003 - R2Score: 0.9997 | Validation Loss: -1.4849 - MeanSquaredError: 0.0038 - R2Score: 0.9974\n",
      "INFO:2023-07-17 10:47:27,682:emulator:_train_once:L316: [ 87/100] Training Loss: -1.0139 - MeanSquaredError: 0.0003 - R2Score: 0.9997 | Validation Loss: -1.4913 - MeanSquaredError: 0.0037 - R2Score: 0.9974\n",
      "INFO:2023-07-17 10:47:27,702:emulator:_train_once:L316: [ 88/100] Training Loss: -1.0250 - MeanSquaredError: 0.0002 - R2Score: 0.9998 | Validation Loss: -1.5005 - MeanSquaredError: 0.0037 - R2Score: 0.9974\n",
      "INFO:2023-07-17 10:47:27,723:emulator:_train_once:L316: [ 89/100] Training Loss: -1.0362 - MeanSquaredError: 0.0002 - R2Score: 0.9998 | Validation Loss: -1.5143 - MeanSquaredError: 0.0036 - R2Score: 0.9975\n",
      "INFO:2023-07-17 10:47:27,745:emulator:_train_once:L316: [ 90/100] Training Loss: -1.0478 - MeanSquaredError: 0.0002 - R2Score: 0.9998 | Validation Loss: -1.5327 - MeanSquaredError: 0.0035 - R2Score: 0.9976\n"
     ]
    },
    {
     "name": "stderr",
     "output_type": "stream",
     "text": [
      "INFO:2023-07-17 10:47:27,765:emulator:_train_once:L316: [ 91/100] Training Loss: -1.0597 - MeanSquaredError: 0.0002 - R2Score: 0.9998 | Validation Loss: -1.5549 - MeanSquaredError: 0.0033 - R2Score: 0.9977\n",
      "INFO:2023-07-17 10:47:27,786:emulator:_train_once:L316: [ 92/100] Training Loss: -1.0719 - MeanSquaredError: 0.0002 - R2Score: 0.9998 | Validation Loss: -1.5787 - MeanSquaredError: 0.0032 - R2Score: 0.9978\n",
      "INFO:2023-07-17 10:47:27,810:emulator:_train_once:L316: [ 93/100] Training Loss: -1.0842 - MeanSquaredError: 0.0002 - R2Score: 0.9998 | Validation Loss: -1.6026 - MeanSquaredError: 0.0031 - R2Score: 0.9978\n",
      "INFO:2023-07-17 10:47:27,829:emulator:_train_once:L316: [ 94/100] Training Loss: -1.0965 - MeanSquaredError: 0.0001 - R2Score: 0.9999 | Validation Loss: -1.6246 - MeanSquaredError: 0.0030 - R2Score: 0.9979\n",
      "INFO:2023-07-17 10:47:27,851:emulator:_train_once:L316: [ 95/100] Training Loss: -1.1083 - MeanSquaredError: 0.0001 - R2Score: 0.9999 | Validation Loss: -1.6435 - MeanSquaredError: 0.0029 - R2Score: 0.9980\n",
      "INFO:2023-07-17 10:47:27,870:emulator:_train_once:L316: [ 96/100] Training Loss: -1.1196 - MeanSquaredError: 0.0001 - R2Score: 0.9999 | Validation Loss: -1.6596 - MeanSquaredError: 0.0028 - R2Score: 0.9980\n",
      "INFO:2023-07-17 10:47:27,891:emulator:_train_once:L316: [ 97/100] Training Loss: -1.1301 - MeanSquaredError: 0.0001 - R2Score: 0.9999 | Validation Loss: -1.6715 - MeanSquaredError: 0.0028 - R2Score: 0.9981\n",
      "INFO:2023-07-17 10:47:27,910:emulator:_train_once:L316: [ 98/100] Training Loss: -1.1398 - MeanSquaredError: 0.0001 - R2Score: 0.9999 | Validation Loss: -1.6791 - MeanSquaredError: 0.0027 - R2Score: 0.9981\n",
      "INFO:2023-07-17 10:47:27,931:emulator:_train_once:L316: [ 99/100] Training Loss: -1.1491 - MeanSquaredError: 0.0001 - R2Score: 0.9999 | Validation Loss: -1.6841 - MeanSquaredError: 0.0027 - R2Score: 0.9981\n",
      "INFO:2023-07-17 10:47:27,953:emulator:_train_once:L316: [100/100] Training Loss: -1.1583 - MeanSquaredError: 0.0001 - R2Score: 0.9999 | Validation Loss: -1.6866 - MeanSquaredError: 0.0027 - R2Score: 0.9981\n",
      "INFO:2023-07-17 10:47:27,961:emulator:train:L113: Run restart 3.\n",
      "INFO:2023-07-17 10:47:27,962:emulator:train:L100: Running restart 4...\n",
      "INFO:2023-07-17 10:47:27,984:emulator:_train_once:L316: [  1/100] Training Loss: 1.4315 - MeanSquaredError: 0.1626 - R2Score: 0.8374 | Validation Loss: 1.2111 - MeanSquaredError: 0.3428 - R2Score: 0.7606\n",
      "INFO:2023-07-17 10:47:28,004:emulator:_train_once:L316: [  2/100] Training Loss: 1.3997 - MeanSquaredError: 0.1483 - R2Score: 0.8517 | Validation Loss: 1.1800 - MeanSquaredError: 0.3021 - R2Score: 0.7890\n",
      "INFO:2023-07-17 10:47:28,025:emulator:_train_once:L316: [  3/100] Training Loss: 1.3596 - MeanSquaredError: 0.1344 - R2Score: 0.8656 | Validation Loss: 1.1458 - MeanSquaredError: 0.2614 - R2Score: 0.8174\n",
      "INFO:2023-07-17 10:47:28,044:emulator:_train_once:L316: [  4/100] Training Loss: 1.3151 - MeanSquaredError: 0.1225 - R2Score: 0.8775 | Validation Loss: 1.1105 - MeanSquaredError: 0.2261 - R2Score: 0.8421\n",
      "INFO:2023-07-17 10:47:28,065:emulator:_train_once:L316: [  5/100] Training Loss: 1.2690 - MeanSquaredError: 0.1128 - R2Score: 0.8872 | Validation Loss: 1.0753 - MeanSquaredError: 0.1989 - R2Score: 0.8611\n",
      "INFO:2023-07-17 10:47:28,086:emulator:_train_once:L316: [  6/100] Training Loss: 1.2232 - MeanSquaredError: 0.1052 - R2Score: 0.8948 | Validation Loss: 1.0404 - MeanSquaredError: 0.1794 - R2Score: 0.8747\n",
      "INFO:2023-07-17 10:47:28,105:emulator:_train_once:L316: [  7/100] Training Loss: 1.1787 - MeanSquaredError: 0.0994 - R2Score: 0.9006 | Validation Loss: 1.0057 - MeanSquaredError: 0.1657 - R2Score: 0.8843\n",
      "INFO:2023-07-17 10:47:28,125:emulator:_train_once:L316: [  8/100] Training Loss: 1.1356 - MeanSquaredError: 0.0951 - R2Score: 0.9049 | Validation Loss: 0.9706 - MeanSquaredError: 0.1557 - R2Score: 0.8913\n",
      "INFO:2023-07-17 10:47:28,144:emulator:_train_once:L316: [  9/100] Training Loss: 1.0936 - MeanSquaredError: 0.0916 - R2Score: 0.9084 | Validation Loss: 0.9347 - MeanSquaredError: 0.1479 - R2Score: 0.8967\n",
      "INFO:2023-07-17 10:47:28,166:emulator:_train_once:L316: [ 10/100] Training Loss: 1.0520 - MeanSquaredError: 0.0882 - R2Score: 0.9118 | Validation Loss: 0.8974 - MeanSquaredError: 0.1414 - R2Score: 0.9013\n",
      "INFO:2023-07-17 10:47:28,185:emulator:_train_once:L316: [ 11/100] Training Loss: 1.0106 - MeanSquaredError: 0.0851 - R2Score: 0.9149 | Validation Loss: 0.8586 - MeanSquaredError: 0.1356 - R2Score: 0.9053\n",
      "INFO:2023-07-17 10:47:28,205:emulator:_train_once:L316: [ 12/100] Training Loss: 0.9689 - MeanSquaredError: 0.0821 - R2Score: 0.9179 | Validation Loss: 0.8183 - MeanSquaredError: 0.1304 - R2Score: 0.9089\n",
      "INFO:2023-07-17 10:47:28,225:emulator:_train_once:L316: [ 13/100] Training Loss: 0.9269 - MeanSquaredError: 0.0794 - R2Score: 0.9206 | Validation Loss: 0.7765 - MeanSquaredError: 0.1257 - R2Score: 0.9122\n",
      "INFO:2023-07-17 10:47:28,246:emulator:_train_once:L316: [ 14/100] Training Loss: 0.8845 - MeanSquaredError: 0.0770 - R2Score: 0.9230 | Validation Loss: 0.7334 - MeanSquaredError: 0.1215 - R2Score: 0.9152\n",
      "INFO:2023-07-17 10:47:28,268:emulator:_train_once:L316: [ 15/100] Training Loss: 0.8416 - MeanSquaredError: 0.0748 - R2Score: 0.9252 | Validation Loss: 0.6892 - MeanSquaredError: 0.1177 - R2Score: 0.9178\n",
      "INFO:2023-07-17 10:47:28,287:emulator:_train_once:L316: [ 16/100] Training Loss: 0.7983 - MeanSquaredError: 0.0727 - R2Score: 0.9273 | Validation Loss: 0.6442 - MeanSquaredError: 0.1142 - R2Score: 0.9202\n",
      "INFO:2023-07-17 10:47:28,307:emulator:_train_once:L316: [ 17/100] Training Loss: 0.7544 - MeanSquaredError: 0.0707 - R2Score: 0.9293 | Validation Loss: 0.5985 - MeanSquaredError: 0.1111 - R2Score: 0.9224\n",
      "INFO:2023-07-17 10:47:28,326:emulator:_train_once:L316: [ 18/100] Training Loss: 0.7103 - MeanSquaredError: 0.0687 - R2Score: 0.9313 | Validation Loss: 0.5526 - MeanSquaredError: 0.1082 - R2Score: 0.9244\n",
      "INFO:2023-07-17 10:47:28,346:emulator:_train_once:L316: [ 19/100] Training Loss: 0.6660 - MeanSquaredError: 0.0667 - R2Score: 0.9333 | Validation Loss: 0.5067 - MeanSquaredError: 0.1055 - R2Score: 0.9263\n",
      "INFO:2023-07-17 10:47:28,367:emulator:_train_once:L316: [ 20/100] Training Loss: 0.6218 - MeanSquaredError: 0.0646 - R2Score: 0.9354 | Validation Loss: 0.4613 - MeanSquaredError: 0.1029 - R2Score: 0.9281\n",
      "INFO:2023-07-17 10:47:28,387:emulator:_train_once:L316: [ 21/100] Training Loss: 0.5780 - MeanSquaredError: 0.0624 - R2Score: 0.9376 | Validation Loss: 0.4168 - MeanSquaredError: 0.1003 - R2Score: 0.9299\n",
      "INFO:2023-07-17 10:47:28,407:emulator:_train_once:L316: [ 22/100] Training Loss: 0.5351 - MeanSquaredError: 0.0602 - R2Score: 0.9398 | Validation Loss: 0.3734 - MeanSquaredError: 0.0977 - R2Score: 0.9317\n",
      "INFO:2023-07-17 10:47:28,425:emulator:_train_once:L316: [ 23/100] Training Loss: 0.4935 - MeanSquaredError: 0.0578 - R2Score: 0.9422 | Validation Loss: 0.3314 - MeanSquaredError: 0.0950 - R2Score: 0.9336\n",
      "INFO:2023-07-17 10:47:28,446:emulator:_train_once:L316: [ 24/100] Training Loss: 0.4535 - MeanSquaredError: 0.0553 - R2Score: 0.9447 | Validation Loss: 0.2910 - MeanSquaredError: 0.0922 - R2Score: 0.9356\n",
      "INFO:2023-07-17 10:47:28,468:emulator:_train_once:L316: [ 25/100] Training Loss: 0.4154 - MeanSquaredError: 0.0527 - R2Score: 0.9473 | Validation Loss: 0.2520 - MeanSquaredError: 0.0891 - R2Score: 0.9378\n",
      "INFO:2023-07-17 10:47:28,489:emulator:_train_once:L316: [ 26/100] Training Loss: 0.3796 - MeanSquaredError: 0.0499 - R2Score: 0.9501 | Validation Loss: 0.2143 - MeanSquaredError: 0.0857 - R2Score: 0.9402\n",
      "INFO:2023-07-17 10:47:28,510:emulator:_train_once:L316: [ 27/100] Training Loss: 0.3461 - MeanSquaredError: 0.0469 - R2Score: 0.9531 | Validation Loss: 0.1771 - MeanSquaredError: 0.0819 - R2Score: 0.9428\n",
      "INFO:2023-07-17 10:47:28,530:emulator:_train_once:L316: [ 28/100] Training Loss: 0.3147 - MeanSquaredError: 0.0438 - R2Score: 0.9562 | Validation Loss: 0.1397 - MeanSquaredError: 0.0777 - R2Score: 0.9457\n",
      "INFO:2023-07-17 10:47:28,551:emulator:_train_once:L316: [ 29/100] Training Loss: 0.2848 - MeanSquaredError: 0.0404 - R2Score: 0.9596 | Validation Loss: 0.1007 - MeanSquaredError: 0.0730 - R2Score: 0.9490\n",
      "INFO:2023-07-17 10:47:28,573:emulator:_train_once:L316: [ 30/100] Training Loss: 0.2554 - MeanSquaredError: 0.0367 - R2Score: 0.9633 | Validation Loss: 0.0587 - MeanSquaredError: 0.0677 - R2Score: 0.9527\n"
     ]
    },
    {
     "name": "stderr",
     "output_type": "stream",
     "text": [
      "INFO:2023-07-17 10:47:28,593:emulator:_train_once:L316: [ 31/100] Training Loss: 0.2252 - MeanSquaredError: 0.0329 - R2Score: 0.9671 | Validation Loss: 0.0126 - MeanSquaredError: 0.0618 - R2Score: 0.9568\n",
      "INFO:2023-07-17 10:47:28,613:emulator:_train_once:L316: [ 32/100] Training Loss: 0.1923 - MeanSquaredError: 0.0289 - R2Score: 0.9711 | Validation Loss: -0.0379 - MeanSquaredError: 0.0556 - R2Score: 0.9612\n",
      "INFO:2023-07-17 10:47:28,632:emulator:_train_once:L316: [ 33/100] Training Loss: 0.1547 - MeanSquaredError: 0.0250 - R2Score: 0.9750 | Validation Loss: -0.0913 - MeanSquaredError: 0.0494 - R2Score: 0.9655\n",
      "INFO:2023-07-17 10:47:28,652:emulator:_train_once:L316: [ 34/100] Training Loss: 0.1109 - MeanSquaredError: 0.0215 - R2Score: 0.9785 | Validation Loss: -0.1442 - MeanSquaredError: 0.0436 - R2Score: 0.9695\n",
      "INFO:2023-07-17 10:47:28,674:emulator:_train_once:L316: [ 35/100] Training Loss: 0.0607 - MeanSquaredError: 0.0187 - R2Score: 0.9813 | Validation Loss: -0.1924 - MeanSquaredError: 0.0390 - R2Score: 0.9728\n",
      "INFO:2023-07-17 10:47:28,700:emulator:_train_once:L316: [ 36/100] Training Loss: 0.0066 - MeanSquaredError: 0.0166 - R2Score: 0.9834 | Validation Loss: -0.2345 - MeanSquaredError: 0.0355 - R2Score: 0.9752\n",
      "INFO:2023-07-17 10:47:28,720:emulator:_train_once:L316: [ 37/100] Training Loss: -0.0471 - MeanSquaredError: 0.0148 - R2Score: 0.9852 | Validation Loss: -0.2747 - MeanSquaredError: 0.0328 - R2Score: 0.9771\n",
      "INFO:2023-07-17 10:47:28,743:emulator:_train_once:L316: [ 38/100] Training Loss: -0.0964 - MeanSquaredError: 0.0132 - R2Score: 0.9868 | Validation Loss: -0.3218 - MeanSquaredError: 0.0300 - R2Score: 0.9790\n",
      "INFO:2023-07-17 10:47:28,764:emulator:_train_once:L316: [ 39/100] Training Loss: -0.1409 - MeanSquaredError: 0.0112 - R2Score: 0.9888 | Validation Loss: -0.3831 - MeanSquaredError: 0.0267 - R2Score: 0.9814\n",
      "INFO:2023-07-17 10:47:28,785:emulator:_train_once:L316: [ 40/100] Training Loss: -0.1835 - MeanSquaredError: 0.0092 - R2Score: 0.9908 | Validation Loss: -0.4558 - MeanSquaredError: 0.0228 - R2Score: 0.9840\n",
      "INFO:2023-07-17 10:47:28,809:emulator:_train_once:L316: [ 41/100] Training Loss: -0.2283 - MeanSquaredError: 0.0073 - R2Score: 0.9927 | Validation Loss: -0.5248 - MeanSquaredError: 0.0195 - R2Score: 0.9864\n",
      "INFO:2023-07-17 10:47:28,828:emulator:_train_once:L316: [ 42/100] Training Loss: -0.2759 - MeanSquaredError: 0.0059 - R2Score: 0.9941 | Validation Loss: -0.5798 - MeanSquaredError: 0.0174 - R2Score: 0.9879\n",
      "INFO:2023-07-17 10:47:28,848:emulator:_train_once:L316: [ 43/100] Training Loss: -0.3220 - MeanSquaredError: 0.0049 - R2Score: 0.9951 | Validation Loss: -0.6295 - MeanSquaredError: 0.0159 - R2Score: 0.9889\n",
      "INFO:2023-07-17 10:47:28,868:emulator:_train_once:L316: [ 44/100] Training Loss: -0.3630 - MeanSquaredError: 0.0039 - R2Score: 0.9961 | Validation Loss: -0.6825 - MeanSquaredError: 0.0144 - R2Score: 0.9899\n",
      "INFO:2023-07-17 10:47:28,891:emulator:_train_once:L316: [ 45/100] Training Loss: -0.3994 - MeanSquaredError: 0.0032 - R2Score: 0.9968 | Validation Loss: -0.7290 - MeanSquaredError: 0.0130 - R2Score: 0.9909\n",
      "INFO:2023-07-17 10:47:28,910:emulator:_train_once:L316: [ 46/100] Training Loss: -0.4320 - MeanSquaredError: 0.0027 - R2Score: 0.9973 | Validation Loss: -0.7632 - MeanSquaredError: 0.0122 - R2Score: 0.9915\n",
      "INFO:2023-07-17 10:47:28,931:emulator:_train_once:L316: [ 47/100] Training Loss: -0.4597 - MeanSquaredError: 0.0023 - R2Score: 0.9977 | Validation Loss: -0.7947 - MeanSquaredError: 0.0117 - R2Score: 0.9918\n",
      "INFO:2023-07-17 10:47:28,951:emulator:_train_once:L316: [ 48/100] Training Loss: -0.4833 - MeanSquaredError: 0.0020 - R2Score: 0.9980 | Validation Loss: -0.8283 - MeanSquaredError: 0.0113 - R2Score: 0.9921\n",
      "INFO:2023-07-17 10:47:28,971:emulator:_train_once:L316: [ 49/100] Training Loss: -0.5049 - MeanSquaredError: 0.0018 - R2Score: 0.9982 | Validation Loss: -0.8621 - MeanSquaredError: 0.0108 - R2Score: 0.9924\n",
      "INFO:2023-07-17 10:47:28,993:emulator:_train_once:L316: [ 50/100] Training Loss: -0.5260 - MeanSquaredError: 0.0016 - R2Score: 0.9984 | Validation Loss: -0.8954 - MeanSquaredError: 0.0103 - R2Score: 0.9928\n",
      "INFO:2023-07-17 10:47:29,014:emulator:_train_once:L316: [ 51/100] Training Loss: -0.5479 - MeanSquaredError: 0.0015 - R2Score: 0.9985 | Validation Loss: -0.9282 - MeanSquaredError: 0.0099 - R2Score: 0.9931\n",
      "INFO:2023-07-17 10:47:29,034:emulator:_train_once:L316: [ 52/100] Training Loss: -0.5717 - MeanSquaredError: 0.0014 - R2Score: 0.9986 | Validation Loss: -0.9607 - MeanSquaredError: 0.0095 - R2Score: 0.9934\n",
      "INFO:2023-07-17 10:47:29,054:emulator:_train_once:L316: [ 53/100] Training Loss: -0.5976 - MeanSquaredError: 0.0013 - R2Score: 0.9987 | Validation Loss: -0.9923 - MeanSquaredError: 0.0091 - R2Score: 0.9937\n",
      "INFO:2023-07-17 10:47:29,075:emulator:_train_once:L316: [ 54/100] Training Loss: -0.6253 - MeanSquaredError: 0.0012 - R2Score: 0.9988 | Validation Loss: -1.0220 - MeanSquaredError: 0.0087 - R2Score: 0.9939\n",
      "INFO:2023-07-17 10:47:29,125:emulator:_train_once:L316: [ 55/100] Training Loss: -0.6540 - MeanSquaredError: 0.0011 - R2Score: 0.9989 | Validation Loss: -1.0490 - MeanSquaredError: 0.0084 - R2Score: 0.9942\n",
      "INFO:2023-07-17 10:47:29,149:emulator:_train_once:L316: [ 56/100] Training Loss: -0.6824 - MeanSquaredError: 0.0011 - R2Score: 0.9989 | Validation Loss: -1.0723 - MeanSquaredError: 0.0081 - R2Score: 0.9944\n",
      "INFO:2023-07-17 10:47:29,171:emulator:_train_once:L316: [ 57/100] Training Loss: -0.7091 - MeanSquaredError: 0.0010 - R2Score: 0.9990 | Validation Loss: -1.0905 - MeanSquaredError: 0.0078 - R2Score: 0.9945\n",
      "INFO:2023-07-17 10:47:29,192:emulator:_train_once:L316: [ 58/100] Training Loss: -0.7330 - MeanSquaredError: 0.0010 - R2Score: 0.9990 | Validation Loss: -1.1035 - MeanSquaredError: 0.0077 - R2Score: 0.9946\n",
      "INFO:2023-07-17 10:47:29,213:emulator:_train_once:L316: [ 59/100] Training Loss: -0.7535 - MeanSquaredError: 0.0010 - R2Score: 0.9990 | Validation Loss: -1.1125 - MeanSquaredError: 0.0075 - R2Score: 0.9947\n",
      "INFO:2023-07-17 10:47:29,237:emulator:_train_once:L316: [ 60/100] Training Loss: -0.7711 - MeanSquaredError: 0.0009 - R2Score: 0.9991 | Validation Loss: -1.1200 - MeanSquaredError: 0.0074 - R2Score: 0.9948\n",
      "INFO:2023-07-17 10:47:29,258:emulator:_train_once:L316: [ 61/100] Training Loss: -0.7866 - MeanSquaredError: 0.0009 - R2Score: 0.9991 | Validation Loss: -1.1298 - MeanSquaredError: 0.0072 - R2Score: 0.9949\n",
      "INFO:2023-07-17 10:47:29,278:emulator:_train_once:L316: [ 62/100] Training Loss: -0.8014 - MeanSquaredError: 0.0008 - R2Score: 0.9992 | Validation Loss: -1.1451 - MeanSquaredError: 0.0070 - R2Score: 0.9951\n",
      "INFO:2023-07-17 10:47:29,298:emulator:_train_once:L316: [ 63/100] Training Loss: -0.8166 - MeanSquaredError: 0.0007 - R2Score: 0.9993 | Validation Loss: -1.1675 - MeanSquaredError: 0.0067 - R2Score: 0.9953\n",
      "INFO:2023-07-17 10:47:29,319:emulator:_train_once:L316: [ 64/100] Training Loss: -0.8331 - MeanSquaredError: 0.0007 - R2Score: 0.9993 | Validation Loss: -1.1955 - MeanSquaredError: 0.0063 - R2Score: 0.9956\n",
      "INFO:2023-07-17 10:47:29,342:emulator:_train_once:L316: [ 65/100] Training Loss: -0.8507 - MeanSquaredError: 0.0006 - R2Score: 0.9994 | Validation Loss: -1.2270 - MeanSquaredError: 0.0060 - R2Score: 0.9958\n",
      "INFO:2023-07-17 10:47:29,362:emulator:_train_once:L316: [ 66/100] Training Loss: -0.8686 - MeanSquaredError: 0.0005 - R2Score: 0.9995 | Validation Loss: -1.2594 - MeanSquaredError: 0.0056 - R2Score: 0.9961\n",
      "INFO:2023-07-17 10:47:29,382:emulator:_train_once:L316: [ 67/100] Training Loss: -0.8852 - MeanSquaredError: 0.0005 - R2Score: 0.9995 | Validation Loss: -1.2944 - MeanSquaredError: 0.0053 - R2Score: 0.9963\n",
      "INFO:2023-07-17 10:47:29,402:emulator:_train_once:L316: [ 68/100] Training Loss: -0.8996 - MeanSquaredError: 0.0004 - R2Score: 0.9996 | Validation Loss: -1.3307 - MeanSquaredError: 0.0050 - R2Score: 0.9965\n",
      "INFO:2023-07-17 10:47:29,424:emulator:_train_once:L316: [ 69/100] Training Loss: -0.9123 - MeanSquaredError: 0.0004 - R2Score: 0.9996 | Validation Loss: -1.3664 - MeanSquaredError: 0.0047 - R2Score: 0.9967\n",
      "INFO:2023-07-17 10:47:29,445:emulator:_train_once:L316: [ 70/100] Training Loss: -0.9241 - MeanSquaredError: 0.0003 - R2Score: 0.9997 | Validation Loss: -1.3974 - MeanSquaredError: 0.0044 - R2Score: 0.9969\n"
     ]
    },
    {
     "name": "stderr",
     "output_type": "stream",
     "text": [
      "INFO:2023-07-17 10:47:29,465:emulator:_train_once:L316: [ 71/100] Training Loss: -0.9355 - MeanSquaredError: 0.0003 - R2Score: 0.9997 | Validation Loss: -1.4236 - MeanSquaredError: 0.0042 - R2Score: 0.9970\n",
      "INFO:2023-07-17 10:47:29,492:emulator:_train_once:L316: [ 72/100] Training Loss: -0.9472 - MeanSquaredError: 0.0003 - R2Score: 0.9997 | Validation Loss: -1.4449 - MeanSquaredError: 0.0041 - R2Score: 0.9971\n",
      "INFO:2023-07-17 10:47:29,514:emulator:_train_once:L316: [ 73/100] Training Loss: -0.9591 - MeanSquaredError: 0.0003 - R2Score: 0.9997 | Validation Loss: -1.4621 - MeanSquaredError: 0.0040 - R2Score: 0.9972\n",
      "INFO:2023-07-17 10:47:29,533:emulator:_train_once:L316: [ 74/100] Training Loss: -0.9713 - MeanSquaredError: 0.0003 - R2Score: 0.9997 | Validation Loss: -1.4757 - MeanSquaredError: 0.0039 - R2Score: 0.9973\n",
      "INFO:2023-07-17 10:47:29,556:emulator:_train_once:L316: [ 75/100] Training Loss: -0.9839 - MeanSquaredError: 0.0003 - R2Score: 0.9997 | Validation Loss: -1.4864 - MeanSquaredError: 0.0038 - R2Score: 0.9973\n",
      "INFO:2023-07-17 10:47:29,577:emulator:_train_once:L316: [ 76/100] Training Loss: -0.9965 - MeanSquaredError: 0.0003 - R2Score: 0.9997 | Validation Loss: -1.4950 - MeanSquaredError: 0.0038 - R2Score: 0.9974\n",
      "INFO:2023-07-17 10:47:29,598:emulator:_train_once:L316: [ 77/100] Training Loss: -1.0088 - MeanSquaredError: 0.0002 - R2Score: 0.9998 | Validation Loss: -1.5028 - MeanSquaredError: 0.0037 - R2Score: 0.9974\n",
      "INFO:2023-07-17 10:47:29,617:emulator:_train_once:L316: [ 78/100] Training Loss: -1.0209 - MeanSquaredError: 0.0002 - R2Score: 0.9998 | Validation Loss: -1.5113 - MeanSquaredError: 0.0036 - R2Score: 0.9975\n",
      "INFO:2023-07-17 10:47:29,636:emulator:_train_once:L316: [ 79/100] Training Loss: -1.0328 - MeanSquaredError: 0.0002 - R2Score: 0.9998 | Validation Loss: -1.5225 - MeanSquaredError: 0.0036 - R2Score: 0.9975\n",
      "INFO:2023-07-17 10:47:29,662:emulator:_train_once:L316: [ 80/100] Training Loss: -1.0448 - MeanSquaredError: 0.0002 - R2Score: 0.9998 | Validation Loss: -1.5362 - MeanSquaredError: 0.0035 - R2Score: 0.9976\n",
      "INFO:2023-07-17 10:47:29,680:emulator:_train_once:L316: [ 81/100] Training Loss: -1.0571 - MeanSquaredError: 0.0002 - R2Score: 0.9998 | Validation Loss: -1.5535 - MeanSquaredError: 0.0034 - R2Score: 0.9976\n",
      "INFO:2023-07-17 10:47:29,701:emulator:_train_once:L316: [ 82/100] Training Loss: -1.0696 - MeanSquaredError: 0.0002 - R2Score: 0.9998 | Validation Loss: -1.5735 - MeanSquaredError: 0.0033 - R2Score: 0.9977\n",
      "INFO:2023-07-17 10:47:29,720:emulator:_train_once:L316: [ 83/100] Training Loss: -1.0824 - MeanSquaredError: 0.0002 - R2Score: 0.9998 | Validation Loss: -1.5937 - MeanSquaredError: 0.0031 - R2Score: 0.9978\n",
      "INFO:2023-07-17 10:47:29,742:emulator:_train_once:L316: [ 84/100] Training Loss: -1.0950 - MeanSquaredError: 0.0001 - R2Score: 0.9999 | Validation Loss: -1.6132 - MeanSquaredError: 0.0030 - R2Score: 0.9979\n",
      "INFO:2023-07-17 10:47:29,764:emulator:_train_once:L316: [ 85/100] Training Loss: -1.1070 - MeanSquaredError: 0.0001 - R2Score: 0.9999 | Validation Loss: -1.6315 - MeanSquaredError: 0.0029 - R2Score: 0.9979\n",
      "INFO:2023-07-17 10:47:29,784:emulator:_train_once:L316: [ 86/100] Training Loss: -1.1182 - MeanSquaredError: 0.0001 - R2Score: 0.9999 | Validation Loss: -1.6470 - MeanSquaredError: 0.0029 - R2Score: 0.9980\n",
      "INFO:2023-07-17 10:47:29,807:emulator:_train_once:L316: [ 87/100] Training Loss: -1.1285 - MeanSquaredError: 0.0001 - R2Score: 0.9999 | Validation Loss: -1.6603 - MeanSquaredError: 0.0028 - R2Score: 0.9980\n",
      "INFO:2023-07-17 10:47:29,830:emulator:_train_once:L316: [ 88/100] Training Loss: -1.1382 - MeanSquaredError: 0.0001 - R2Score: 0.9999 | Validation Loss: -1.6704 - MeanSquaredError: 0.0028 - R2Score: 0.9981\n",
      "INFO:2023-07-17 10:47:29,849:emulator:_train_once:L316: [ 89/100] Training Loss: -1.1479 - MeanSquaredError: 0.0001 - R2Score: 0.9999 | Validation Loss: -1.6786 - MeanSquaredError: 0.0027 - R2Score: 0.9981\n",
      "INFO:2023-07-17 10:47:29,872:emulator:_train_once:L316: [ 90/100] Training Loss: -1.1579 - MeanSquaredError: 0.0001 - R2Score: 0.9999 | Validation Loss: -1.6861 - MeanSquaredError: 0.0027 - R2Score: 0.9981\n",
      "INFO:2023-07-17 10:47:29,893:emulator:_train_once:L316: [ 91/100] Training Loss: -1.1686 - MeanSquaredError: 0.0001 - R2Score: 0.9999 | Validation Loss: -1.6926 - MeanSquaredError: 0.0027 - R2Score: 0.9981\n",
      "INFO:2023-07-17 10:47:29,912:emulator:_train_once:L316: [ 92/100] Training Loss: -1.1795 - MeanSquaredError: 0.0001 - R2Score: 0.9999 | Validation Loss: -1.6997 - MeanSquaredError: 0.0026 - R2Score: 0.9982\n",
      "INFO:2023-07-17 10:47:29,935:emulator:_train_once:L316: [ 93/100] Training Loss: -1.1903 - MeanSquaredError: 0.0001 - R2Score: 0.9999 | Validation Loss: -1.7066 - MeanSquaredError: 0.0026 - R2Score: 0.9982\n",
      "INFO:2023-07-17 10:47:29,955:emulator:_train_once:L316: [ 94/100] Training Loss: -1.2006 - MeanSquaredError: 0.0001 - R2Score: 0.9999 | Validation Loss: -1.7136 - MeanSquaredError: 0.0026 - R2Score: 0.9982\n",
      "INFO:2023-07-17 10:47:29,979:emulator:_train_once:L316: [ 95/100] Training Loss: -1.2102 - MeanSquaredError: 0.0001 - R2Score: 0.9999 | Validation Loss: -1.7206 - MeanSquaredError: 0.0025 - R2Score: 0.9982\n",
      "INFO:2023-07-17 10:47:29,998:emulator:_train_once:L316: [ 96/100] Training Loss: -1.2193 - MeanSquaredError: 0.0001 - R2Score: 0.9999 | Validation Loss: -1.7279 - MeanSquaredError: 0.0025 - R2Score: 0.9982\n",
      "INFO:2023-07-17 10:47:30,020:emulator:_train_once:L316: [ 97/100] Training Loss: -1.2278 - MeanSquaredError: 0.0001 - R2Score: 0.9999 | Validation Loss: -1.7360 - MeanSquaredError: 0.0025 - R2Score: 0.9983\n",
      "INFO:2023-07-17 10:47:30,041:emulator:_train_once:L316: [ 98/100] Training Loss: -1.2359 - MeanSquaredError: 0.0001 - R2Score: 0.9999 | Validation Loss: -1.7453 - MeanSquaredError: 0.0024 - R2Score: 0.9983\n",
      "INFO:2023-07-17 10:47:30,061:emulator:_train_once:L316: [ 99/100] Training Loss: -1.2436 - MeanSquaredError: 0.0001 - R2Score: 0.9999 | Validation Loss: -1.7581 - MeanSquaredError: 0.0024 - R2Score: 0.9983\n",
      "INFO:2023-07-17 10:47:30,084:emulator:_train_once:L316: [100/100] Training Loss: -1.2510 - MeanSquaredError: 0.0001 - R2Score: 0.9999 | Validation Loss: -1.7715 - MeanSquaredError: 0.0023 - R2Score: 0.9984\n",
      "INFO:2023-07-17 10:47:30,091:emulator:train:L113: Run restart 4.\n",
      "INFO:2023-07-17 10:47:30,093:emulator:train:L100: Running restart 5...\n",
      "INFO:2023-07-17 10:47:30,116:emulator:_train_once:L316: [  1/100] Training Loss: 1.5572 - MeanSquaredError: 0.1093 - R2Score: 0.8907 | Validation Loss: 0.6526 - MeanSquaredError: 0.2187 - R2Score: 0.8472\n",
      "INFO:2023-07-17 10:47:30,136:emulator:_train_once:L316: [  2/100] Training Loss: 1.2944 - MeanSquaredError: 0.0808 - R2Score: 0.9192 | Validation Loss: 0.5387 - MeanSquaredError: 0.1501 - R2Score: 0.8952\n",
      "INFO:2023-07-17 10:47:30,156:emulator:_train_once:L316: [  3/100] Training Loss: 1.0093 - MeanSquaredError: 0.0657 - R2Score: 0.9343 | Validation Loss: 0.4689 - MeanSquaredError: 0.1183 - R2Score: 0.9174\n",
      "INFO:2023-07-17 10:47:30,177:emulator:_train_once:L316: [  4/100] Training Loss: 0.8025 - MeanSquaredError: 0.0585 - R2Score: 0.9415 | Validation Loss: 0.4264 - MeanSquaredError: 0.1055 - R2Score: 0.9263\n",
      "INFO:2023-07-17 10:47:30,200:emulator:_train_once:L316: [  5/100] Training Loss: 0.6776 - MeanSquaredError: 0.0529 - R2Score: 0.9471 | Validation Loss: 0.3969 - MeanSquaredError: 0.1001 - R2Score: 0.9301\n",
      "INFO:2023-07-17 10:47:30,220:emulator:_train_once:L316: [  6/100] Training Loss: 0.6031 - MeanSquaredError: 0.0469 - R2Score: 0.9531 | Validation Loss: 0.3739 - MeanSquaredError: 0.0984 - R2Score: 0.9312\n",
      "INFO:2023-07-17 10:47:30,243:emulator:_train_once:L316: [  7/100] Training Loss: 0.5519 - MeanSquaredError: 0.0420 - R2Score: 0.9580 | Validation Loss: 0.3563 - MeanSquaredError: 0.0995 - R2Score: 0.9305\n",
      "INFO:2023-07-17 10:47:30,269:emulator:_train_once:L316: [  8/100] Training Loss: 0.5131 - MeanSquaredError: 0.0384 - R2Score: 0.9616 | Validation Loss: 0.3406 - MeanSquaredError: 0.1013 - R2Score: 0.9292\n",
      "INFO:2023-07-17 10:47:30,296:emulator:_train_once:L316: [  9/100] Training Loss: 0.4832 - MeanSquaredError: 0.0356 - R2Score: 0.9644 | Validation Loss: 0.3221 - MeanSquaredError: 0.1020 - R2Score: 0.9288\n",
      "INFO:2023-07-17 10:47:30,329:emulator:_train_once:L316: [ 10/100] Training Loss: 0.4588 - MeanSquaredError: 0.0330 - R2Score: 0.9670 | Validation Loss: 0.2976 - MeanSquaredError: 0.1004 - R2Score: 0.9299\n"
     ]
    },
    {
     "name": "stderr",
     "output_type": "stream",
     "text": [
      "INFO:2023-07-17 10:47:30,349:emulator:_train_once:L316: [ 11/100] Training Loss: 0.4361 - MeanSquaredError: 0.0303 - R2Score: 0.9697 | Validation Loss: 0.2658 - MeanSquaredError: 0.0963 - R2Score: 0.9327\n",
      "INFO:2023-07-17 10:47:30,370:emulator:_train_once:L316: [ 12/100] Training Loss: 0.4116 - MeanSquaredError: 0.0276 - R2Score: 0.9724 | Validation Loss: 0.2268 - MeanSquaredError: 0.0900 - R2Score: 0.9371\n",
      "INFO:2023-07-17 10:47:30,391:emulator:_train_once:L316: [ 13/100] Training Loss: 0.3828 - MeanSquaredError: 0.0247 - R2Score: 0.9753 | Validation Loss: 0.1806 - MeanSquaredError: 0.0821 - R2Score: 0.9427\n",
      "INFO:2023-07-17 10:47:30,411:emulator:_train_once:L316: [ 14/100] Training Loss: 0.3478 - MeanSquaredError: 0.0219 - R2Score: 0.9781 | Validation Loss: 0.1280 - MeanSquaredError: 0.0730 - R2Score: 0.9490\n",
      "INFO:2023-07-17 10:47:30,433:emulator:_train_once:L316: [ 15/100] Training Loss: 0.3059 - MeanSquaredError: 0.0193 - R2Score: 0.9807 | Validation Loss: 0.0707 - MeanSquaredError: 0.0636 - R2Score: 0.9555\n",
      "INFO:2023-07-17 10:47:30,452:emulator:_train_once:L316: [ 16/100] Training Loss: 0.2570 - MeanSquaredError: 0.0171 - R2Score: 0.9829 | Validation Loss: 0.0109 - MeanSquaredError: 0.0548 - R2Score: 0.9617\n",
      "INFO:2023-07-17 10:47:30,472:emulator:_train_once:L316: [ 17/100] Training Loss: 0.2025 - MeanSquaredError: 0.0152 - R2Score: 0.9848 | Validation Loss: -0.0496 - MeanSquaredError: 0.0471 - R2Score: 0.9671\n",
      "INFO:2023-07-17 10:47:30,492:emulator:_train_once:L316: [ 18/100] Training Loss: 0.1443 - MeanSquaredError: 0.0136 - R2Score: 0.9864 | Validation Loss: -0.1099 - MeanSquaredError: 0.0407 - R2Score: 0.9716\n",
      "INFO:2023-07-17 10:47:30,512:emulator:_train_once:L316: [ 19/100] Training Loss: 0.0846 - MeanSquaredError: 0.0122 - R2Score: 0.9878 | Validation Loss: -0.1704 - MeanSquaredError: 0.0354 - R2Score: 0.9753\n",
      "INFO:2023-07-17 10:47:30,534:emulator:_train_once:L316: [ 20/100] Training Loss: 0.0252 - MeanSquaredError: 0.0108 - R2Score: 0.9892 | Validation Loss: -0.2320 - MeanSquaredError: 0.0310 - R2Score: 0.9784\n",
      "INFO:2023-07-17 10:47:30,554:emulator:_train_once:L316: [ 21/100] Training Loss: -0.0331 - MeanSquaredError: 0.0094 - R2Score: 0.9906 | Validation Loss: -0.2949 - MeanSquaredError: 0.0272 - R2Score: 0.9810\n",
      "INFO:2023-07-17 10:47:30,574:emulator:_train_once:L316: [ 22/100] Training Loss: -0.0900 - MeanSquaredError: 0.0082 - R2Score: 0.9918 | Validation Loss: -0.3575 - MeanSquaredError: 0.0239 - R2Score: 0.9833\n",
      "INFO:2023-07-17 10:47:30,593:emulator:_train_once:L316: [ 23/100] Training Loss: -0.1453 - MeanSquaredError: 0.0071 - R2Score: 0.9929 | Validation Loss: -0.4171 - MeanSquaredError: 0.0214 - R2Score: 0.9851\n",
      "INFO:2023-07-17 10:47:30,614:emulator:_train_once:L316: [ 24/100] Training Loss: -0.1983 - MeanSquaredError: 0.0063 - R2Score: 0.9937 | Validation Loss: -0.4717 - MeanSquaredError: 0.0196 - R2Score: 0.9863\n",
      "INFO:2023-07-17 10:47:30,636:emulator:_train_once:L316: [ 25/100] Training Loss: -0.2477 - MeanSquaredError: 0.0056 - R2Score: 0.9944 | Validation Loss: -0.5227 - MeanSquaredError: 0.0182 - R2Score: 0.9873\n",
      "INFO:2023-07-17 10:47:30,657:emulator:_train_once:L316: [ 26/100] Training Loss: -0.2923 - MeanSquaredError: 0.0051 - R2Score: 0.9949 | Validation Loss: -0.5736 - MeanSquaredError: 0.0170 - R2Score: 0.9881\n",
      "INFO:2023-07-17 10:47:30,676:emulator:_train_once:L316: [ 27/100] Training Loss: -0.3323 - MeanSquaredError: 0.0046 - R2Score: 0.9954 | Validation Loss: -0.6254 - MeanSquaredError: 0.0158 - R2Score: 0.9890\n",
      "INFO:2023-07-17 10:47:30,696:emulator:_train_once:L316: [ 28/100] Training Loss: -0.3689 - MeanSquaredError: 0.0040 - R2Score: 0.9960 | Validation Loss: -0.6755 - MeanSquaredError: 0.0145 - R2Score: 0.9899\n",
      "INFO:2023-07-17 10:47:30,715:emulator:_train_once:L316: [ 29/100] Training Loss: -0.4031 - MeanSquaredError: 0.0036 - R2Score: 0.9964 | Validation Loss: -0.7199 - MeanSquaredError: 0.0135 - R2Score: 0.9906\n",
      "INFO:2023-07-17 10:47:30,738:emulator:_train_once:L316: [ 30/100] Training Loss: -0.4351 - MeanSquaredError: 0.0032 - R2Score: 0.9968 | Validation Loss: -0.7575 - MeanSquaredError: 0.0127 - R2Score: 0.9911\n",
      "INFO:2023-07-17 10:47:30,758:emulator:_train_once:L316: [ 31/100] Training Loss: -0.4646 - MeanSquaredError: 0.0029 - R2Score: 0.9971 | Validation Loss: -0.7904 - MeanSquaredError: 0.0122 - R2Score: 0.9915\n",
      "INFO:2023-07-17 10:47:30,780:emulator:_train_once:L316: [ 32/100] Training Loss: -0.4918 - MeanSquaredError: 0.0026 - R2Score: 0.9974 | Validation Loss: -0.8212 - MeanSquaredError: 0.0118 - R2Score: 0.9918\n",
      "INFO:2023-07-17 10:47:30,800:emulator:_train_once:L316: [ 33/100] Training Loss: -0.5176 - MeanSquaredError: 0.0024 - R2Score: 0.9976 | Validation Loss: -0.8509 - MeanSquaredError: 0.0114 - R2Score: 0.9921\n",
      "INFO:2023-07-17 10:47:30,827:emulator:_train_once:L316: [ 34/100] Training Loss: -0.5427 - MeanSquaredError: 0.0022 - R2Score: 0.9978 | Validation Loss: -0.8800 - MeanSquaredError: 0.0109 - R2Score: 0.9924\n",
      "INFO:2023-07-17 10:47:30,849:emulator:_train_once:L316: [ 35/100] Training Loss: -0.5679 - MeanSquaredError: 0.0020 - R2Score: 0.9980 | Validation Loss: -0.9088 - MeanSquaredError: 0.0105 - R2Score: 0.9926\n",
      "INFO:2023-07-17 10:47:30,868:emulator:_train_once:L316: [ 36/100] Training Loss: -0.5937 - MeanSquaredError: 0.0018 - R2Score: 0.9982 | Validation Loss: -0.9377 - MeanSquaredError: 0.0101 - R2Score: 0.9929\n",
      "INFO:2023-07-17 10:47:30,888:emulator:_train_once:L316: [ 37/100] Training Loss: -0.6201 - MeanSquaredError: 0.0016 - R2Score: 0.9984 | Validation Loss: -0.9672 - MeanSquaredError: 0.0097 - R2Score: 0.9933\n",
      "INFO:2023-07-17 10:47:30,906:emulator:_train_once:L316: [ 38/100] Training Loss: -0.6470 - MeanSquaredError: 0.0015 - R2Score: 0.9985 | Validation Loss: -0.9978 - MeanSquaredError: 0.0092 - R2Score: 0.9936\n",
      "INFO:2023-07-17 10:47:30,927:emulator:_train_once:L316: [ 39/100] Training Loss: -0.6738 - MeanSquaredError: 0.0013 - R2Score: 0.9987 | Validation Loss: -1.0291 - MeanSquaredError: 0.0088 - R2Score: 0.9939\n",
      "INFO:2023-07-17 10:47:30,950:emulator:_train_once:L316: [ 40/100] Training Loss: -0.7002 - MeanSquaredError: 0.0012 - R2Score: 0.9988 | Validation Loss: -1.0605 - MeanSquaredError: 0.0083 - R2Score: 0.9942\n",
      "INFO:2023-07-17 10:47:30,970:emulator:_train_once:L316: [ 41/100] Training Loss: -0.7256 - MeanSquaredError: 0.0011 - R2Score: 0.9989 | Validation Loss: -1.0912 - MeanSquaredError: 0.0079 - R2Score: 0.9945\n",
      "INFO:2023-07-17 10:47:30,991:emulator:_train_once:L316: [ 42/100] Training Loss: -0.7496 - MeanSquaredError: 0.0010 - R2Score: 0.9990 | Validation Loss: -1.1196 - MeanSquaredError: 0.0075 - R2Score: 0.9948\n",
      "INFO:2023-07-17 10:47:31,011:emulator:_train_once:L316: [ 43/100] Training Loss: -0.7721 - MeanSquaredError: 0.0009 - R2Score: 0.9991 | Validation Loss: -1.1453 - MeanSquaredError: 0.0072 - R2Score: 0.9950\n",
      "INFO:2023-07-17 10:47:31,031:emulator:_train_once:L316: [ 44/100] Training Loss: -0.7929 - MeanSquaredError: 0.0008 - R2Score: 0.9992 | Validation Loss: -1.1682 - MeanSquaredError: 0.0068 - R2Score: 0.9952\n",
      "INFO:2023-07-17 10:47:31,052:emulator:_train_once:L316: [ 45/100] Training Loss: -0.8120 - MeanSquaredError: 0.0007 - R2Score: 0.9993 | Validation Loss: -1.1893 - MeanSquaredError: 0.0066 - R2Score: 0.9954\n",
      "INFO:2023-07-17 10:47:31,075:emulator:_train_once:L316: [ 46/100] Training Loss: -0.8295 - MeanSquaredError: 0.0006 - R2Score: 0.9994 | Validation Loss: -1.2099 - MeanSquaredError: 0.0063 - R2Score: 0.9956\n",
      "INFO:2023-07-17 10:47:31,096:emulator:_train_once:L316: [ 47/100] Training Loss: -0.8456 - MeanSquaredError: 0.0006 - R2Score: 0.9994 | Validation Loss: -1.2309 - MeanSquaredError: 0.0060 - R2Score: 0.9958\n",
      "INFO:2023-07-17 10:47:31,115:emulator:_train_once:L316: [ 48/100] Training Loss: -0.8606 - MeanSquaredError: 0.0005 - R2Score: 0.9995 | Validation Loss: -1.2525 - MeanSquaredError: 0.0058 - R2Score: 0.9960\n",
      "INFO:2023-07-17 10:47:31,137:emulator:_train_once:L316: [ 49/100] Training Loss: -0.8749 - MeanSquaredError: 0.0005 - R2Score: 0.9995 | Validation Loss: -1.2750 - MeanSquaredError: 0.0055 - R2Score: 0.9961\n",
      "INFO:2023-07-17 10:47:31,161:emulator:_train_once:L316: [ 50/100] Training Loss: -0.8886 - MeanSquaredError: 0.0004 - R2Score: 0.9996 | Validation Loss: -1.2982 - MeanSquaredError: 0.0053 - R2Score: 0.9963\n"
     ]
    },
    {
     "name": "stderr",
     "output_type": "stream",
     "text": [
      "INFO:2023-07-17 10:47:31,179:emulator:_train_once:L316: [ 51/100] Training Loss: -0.9020 - MeanSquaredError: 0.0004 - R2Score: 0.9996 | Validation Loss: -1.3214 - MeanSquaredError: 0.0051 - R2Score: 0.9965\n",
      "INFO:2023-07-17 10:47:31,202:emulator:_train_once:L316: [ 52/100] Training Loss: -0.9152 - MeanSquaredError: 0.0003 - R2Score: 0.9997 | Validation Loss: -1.3449 - MeanSquaredError: 0.0049 - R2Score: 0.9966\n",
      "INFO:2023-07-17 10:47:31,224:emulator:_train_once:L316: [ 53/100] Training Loss: -0.9286 - MeanSquaredError: 0.0003 - R2Score: 0.9997 | Validation Loss: -1.3670 - MeanSquaredError: 0.0047 - R2Score: 0.9967\n",
      "INFO:2023-07-17 10:47:31,248:emulator:_train_once:L316: [ 54/100] Training Loss: -0.9421 - MeanSquaredError: 0.0003 - R2Score: 0.9997 | Validation Loss: -1.3881 - MeanSquaredError: 0.0045 - R2Score: 0.9968\n",
      "INFO:2023-07-17 10:47:31,271:emulator:_train_once:L316: [ 55/100] Training Loss: -0.9558 - MeanSquaredError: 0.0003 - R2Score: 0.9997 | Validation Loss: -1.4081 - MeanSquaredError: 0.0044 - R2Score: 0.9970\n",
      "INFO:2023-07-17 10:47:31,292:emulator:_train_once:L316: [ 56/100] Training Loss: -0.9695 - MeanSquaredError: 0.0003 - R2Score: 0.9997 | Validation Loss: -1.4270 - MeanSquaredError: 0.0042 - R2Score: 0.9971\n",
      "INFO:2023-07-17 10:47:31,312:emulator:_train_once:L316: [ 57/100] Training Loss: -0.9828 - MeanSquaredError: 0.0003 - R2Score: 0.9997 | Validation Loss: -1.4458 - MeanSquaredError: 0.0041 - R2Score: 0.9972\n",
      "INFO:2023-07-17 10:47:31,332:emulator:_train_once:L316: [ 58/100] Training Loss: -0.9956 - MeanSquaredError: 0.0003 - R2Score: 0.9997 | Validation Loss: -1.4641 - MeanSquaredError: 0.0039 - R2Score: 0.9972\n",
      "INFO:2023-07-17 10:47:31,352:emulator:_train_once:L316: [ 59/100] Training Loss: -1.0079 - MeanSquaredError: 0.0002 - R2Score: 0.9998 | Validation Loss: -1.4834 - MeanSquaredError: 0.0038 - R2Score: 0.9973\n",
      "INFO:2023-07-17 10:47:31,375:emulator:_train_once:L316: [ 60/100] Training Loss: -1.0199 - MeanSquaredError: 0.0002 - R2Score: 0.9998 | Validation Loss: -1.5035 - MeanSquaredError: 0.0037 - R2Score: 0.9974\n",
      "INFO:2023-07-17 10:47:31,395:emulator:_train_once:L316: [ 61/100] Training Loss: -1.0317 - MeanSquaredError: 0.0002 - R2Score: 0.9998 | Validation Loss: -1.5246 - MeanSquaredError: 0.0035 - R2Score: 0.9975\n",
      "INFO:2023-07-17 10:47:31,414:emulator:_train_once:L316: [ 62/100] Training Loss: -1.0436 - MeanSquaredError: 0.0002 - R2Score: 0.9998 | Validation Loss: -1.5452 - MeanSquaredError: 0.0034 - R2Score: 0.9976\n",
      "INFO:2023-07-17 10:47:31,433:emulator:_train_once:L316: [ 63/100] Training Loss: -1.0558 - MeanSquaredError: 0.0002 - R2Score: 0.9998 | Validation Loss: -1.5646 - MeanSquaredError: 0.0033 - R2Score: 0.9977\n",
      "INFO:2023-07-17 10:47:31,454:emulator:_train_once:L316: [ 64/100] Training Loss: -1.0680 - MeanSquaredError: 0.0002 - R2Score: 0.9998 | Validation Loss: -1.5815 - MeanSquaredError: 0.0032 - R2Score: 0.9978\n",
      "INFO:2023-07-17 10:47:31,476:emulator:_train_once:L316: [ 65/100] Training Loss: -1.0801 - MeanSquaredError: 0.0002 - R2Score: 0.9998 | Validation Loss: -1.5954 - MeanSquaredError: 0.0031 - R2Score: 0.9978\n",
      "INFO:2023-07-17 10:47:31,496:emulator:_train_once:L316: [ 66/100] Training Loss: -1.0918 - MeanSquaredError: 0.0001 - R2Score: 0.9999 | Validation Loss: -1.6051 - MeanSquaredError: 0.0030 - R2Score: 0.9979\n",
      "INFO:2023-07-17 10:47:31,516:emulator:_train_once:L316: [ 67/100] Training Loss: -1.1028 - MeanSquaredError: 0.0001 - R2Score: 0.9999 | Validation Loss: -1.6128 - MeanSquaredError: 0.0030 - R2Score: 0.9979\n",
      "INFO:2023-07-17 10:47:31,535:emulator:_train_once:L316: [ 68/100] Training Loss: -1.1131 - MeanSquaredError: 0.0001 - R2Score: 0.9999 | Validation Loss: -1.6175 - MeanSquaredError: 0.0030 - R2Score: 0.9979\n",
      "INFO:2023-07-17 10:47:31,555:emulator:_train_once:L316: [ 69/100] Training Loss: -1.1228 - MeanSquaredError: 0.0001 - R2Score: 0.9999 | Validation Loss: -1.6222 - MeanSquaredError: 0.0030 - R2Score: 0.9979\n",
      "INFO:2023-07-17 10:47:31,578:emulator:_train_once:L316: [ 70/100] Training Loss: -1.1323 - MeanSquaredError: 0.0001 - R2Score: 0.9999 | Validation Loss: -1.6278 - MeanSquaredError: 0.0029 - R2Score: 0.9980\n",
      "INFO:2023-07-17 10:47:31,598:emulator:_train_once:L316: [ 71/100] Training Loss: -1.1420 - MeanSquaredError: 0.0001 - R2Score: 0.9999 | Validation Loss: -1.6356 - MeanSquaredError: 0.0029 - R2Score: 0.9980\n",
      "INFO:2023-07-17 10:47:31,617:emulator:_train_once:L316: [ 72/100] Training Loss: -1.1521 - MeanSquaredError: 0.0001 - R2Score: 0.9999 | Validation Loss: -1.6466 - MeanSquaredError: 0.0028 - R2Score: 0.9980\n",
      "INFO:2023-07-17 10:47:31,636:emulator:_train_once:L316: [ 73/100] Training Loss: -1.1626 - MeanSquaredError: 0.0001 - R2Score: 0.9999 | Validation Loss: -1.6606 - MeanSquaredError: 0.0028 - R2Score: 0.9981\n",
      "INFO:2023-07-17 10:47:31,658:emulator:_train_once:L316: [ 74/100] Training Loss: -1.1730 - MeanSquaredError: 0.0001 - R2Score: 0.9999 | Validation Loss: -1.6763 - MeanSquaredError: 0.0027 - R2Score: 0.9981\n",
      "INFO:2023-07-17 10:47:31,681:emulator:_train_once:L316: [ 75/100] Training Loss: -1.1831 - MeanSquaredError: 0.0001 - R2Score: 0.9999 | Validation Loss: -1.6925 - MeanSquaredError: 0.0026 - R2Score: 0.9982\n",
      "INFO:2023-07-17 10:47:31,701:emulator:_train_once:L316: [ 76/100] Training Loss: -1.1924 - MeanSquaredError: 0.0001 - R2Score: 0.9999 | Validation Loss: -1.7083 - MeanSquaredError: 0.0025 - R2Score: 0.9982\n",
      "INFO:2023-07-17 10:47:31,721:emulator:_train_once:L316: [ 77/100] Training Loss: -1.2011 - MeanSquaredError: 0.0001 - R2Score: 0.9999 | Validation Loss: -1.7225 - MeanSquaredError: 0.0025 - R2Score: 0.9983\n",
      "INFO:2023-07-17 10:47:31,744:emulator:_train_once:L316: [ 78/100] Training Loss: -1.2093 - MeanSquaredError: 0.0001 - R2Score: 0.9999 | Validation Loss: -1.7348 - MeanSquaredError: 0.0024 - R2Score: 0.9983\n",
      "INFO:2023-07-17 10:47:31,764:emulator:_train_once:L316: [ 79/100] Training Loss: -1.2171 - MeanSquaredError: 0.0001 - R2Score: 0.9999 | Validation Loss: -1.7442 - MeanSquaredError: 0.0024 - R2Score: 0.9983\n",
      "INFO:2023-07-17 10:47:31,786:emulator:_train_once:L316: [ 80/100] Training Loss: -1.2248 - MeanSquaredError: 0.0001 - R2Score: 0.9999 | Validation Loss: -1.7521 - MeanSquaredError: 0.0024 - R2Score: 0.9983\n",
      "INFO:2023-07-17 10:47:31,809:emulator:_train_once:L316: [ 81/100] Training Loss: -1.2323 - MeanSquaredError: 0.0001 - R2Score: 0.9999 | Validation Loss: -1.7594 - MeanSquaredError: 0.0023 - R2Score: 0.9984\n",
      "INFO:2023-07-17 10:47:31,832:emulator:_train_once:L316: [ 82/100] Training Loss: -1.2398 - MeanSquaredError: 0.0001 - R2Score: 0.9999 | Validation Loss: -1.7648 - MeanSquaredError: 0.0023 - R2Score: 0.9984\n",
      "INFO:2023-07-17 10:47:31,852:emulator:_train_once:L316: [ 83/100] Training Loss: -1.2471 - MeanSquaredError: 0.0001 - R2Score: 0.9999 | Validation Loss: -1.7694 - MeanSquaredError: 0.0023 - R2Score: 0.9984\n",
      "INFO:2023-07-17 10:47:31,872:emulator:_train_once:L316: [ 84/100] Training Loss: -1.2540 - MeanSquaredError: 0.0001 - R2Score: 0.9999 | Validation Loss: -1.7716 - MeanSquaredError: 0.0023 - R2Score: 0.9984\n",
      "INFO:2023-07-17 10:47:31,895:emulator:_train_once:L316: [ 85/100] Training Loss: -1.2604 - MeanSquaredError: 0.0001 - R2Score: 0.9999 | Validation Loss: -1.7708 - MeanSquaredError: 0.0023 - R2Score: 0.9984\n",
      "INFO:2023-07-17 10:47:31,915:emulator:_train_once:L316: [ 86/100] Training Loss: -1.2662 - MeanSquaredError: 0.0001 - R2Score: 0.9999 | Validation Loss: -1.7684 - MeanSquaredError: 0.0023 - R2Score: 0.9984\n",
      "INFO:2023-07-17 10:47:31,937:emulator:_train_once:L316: [ 87/100] Training Loss: -1.2717 - MeanSquaredError: 0.0001 - R2Score: 0.9999 | Validation Loss: -1.7655 - MeanSquaredError: 0.0023 - R2Score: 0.9984\n",
      "INFO:2023-07-17 10:47:31,957:emulator:_train_once:L316: [ 88/100] Training Loss: -1.2768 - MeanSquaredError: 0.0001 - R2Score: 0.9999 | Validation Loss: -1.7647 - MeanSquaredError: 0.0023 - R2Score: 0.9984\n",
      "INFO:2023-07-17 10:47:31,978:emulator:_train_once:L316: [ 89/100] Training Loss: -1.2814 - MeanSquaredError: 0.0001 - R2Score: 0.9999 | Validation Loss: -1.7677 - MeanSquaredError: 0.0023 - R2Score: 0.9984\n",
      "INFO:2023-07-17 10:47:32,000:emulator:_train_once:L316: [ 90/100] Training Loss: -1.2859 - MeanSquaredError: 0.0001 - R2Score: 0.9999 | Validation Loss: -1.7744 - MeanSquaredError: 0.0022 - R2Score: 0.9984\n"
     ]
    },
    {
     "name": "stderr",
     "output_type": "stream",
     "text": [
      "INFO:2023-07-17 10:47:32,021:emulator:_train_once:L316: [ 91/100] Training Loss: -1.2902 - MeanSquaredError: 0.0001 - R2Score: 0.9999 | Validation Loss: -1.7837 - MeanSquaredError: 0.0022 - R2Score: 0.9985\n",
      "INFO:2023-07-17 10:47:32,042:emulator:_train_once:L316: [ 92/100] Training Loss: -1.2942 - MeanSquaredError: 0.0001 - R2Score: 0.9999 | Validation Loss: -1.7931 - MeanSquaredError: 0.0022 - R2Score: 0.9985\n",
      "INFO:2023-07-17 10:47:32,066:emulator:_train_once:L316: [ 93/100] Training Loss: -1.2979 - MeanSquaredError: 0.0001 - R2Score: 0.9999 | Validation Loss: -1.8004 - MeanSquaredError: 0.0022 - R2Score: 0.9985\n",
      "INFO:2023-07-17 10:47:32,085:emulator:_train_once:L316: [ 94/100] Training Loss: -1.3012 - MeanSquaredError: 0.0001 - R2Score: 0.9999 | Validation Loss: -1.8073 - MeanSquaredError: 0.0021 - R2Score: 0.9985\n",
      "INFO:2023-07-17 10:47:32,109:emulator:_train_once:L316: [ 95/100] Training Loss: -1.3042 - MeanSquaredError: 0.0001 - R2Score: 0.9999 | Validation Loss: -1.8142 - MeanSquaredError: 0.0021 - R2Score: 0.9985\n",
      "INFO:2023-07-17 10:47:32,130:emulator:_train_once:L316: [ 96/100] Training Loss: -1.3068 - MeanSquaredError: 0.0001 - R2Score: 0.9999 | Validation Loss: -1.8210 - MeanSquaredError: 0.0021 - R2Score: 0.9985\n",
      "INFO:2023-07-17 10:47:32,150:emulator:_train_once:L316: [ 97/100] Training Loss: -1.3093 - MeanSquaredError: 0.0001 - R2Score: 0.9999 | Validation Loss: -1.8262 - MeanSquaredError: 0.0021 - R2Score: 0.9985\n",
      "INFO:2023-07-17 10:47:32,171:emulator:_train_once:L316: [ 98/100] Training Loss: -1.3116 - MeanSquaredError: 0.0001 - R2Score: 0.9999 | Validation Loss: -1.8272 - MeanSquaredError: 0.0021 - R2Score: 0.9985\n",
      "INFO:2023-07-17 10:47:32,192:emulator:_train_once:L316: [ 99/100] Training Loss: -1.3138 - MeanSquaredError: 0.0001 - R2Score: 0.9999 | Validation Loss: -1.8230 - MeanSquaredError: 0.0021 - R2Score: 0.9985\n",
      "INFO:2023-07-17 10:47:32,216:emulator:_train_once:L316: [100/100] Training Loss: -1.3160 - MeanSquaredError: 0.0001 - R2Score: 0.9999 | Validation Loss: -1.8168 - MeanSquaredError: 0.0021 - R2Score: 0.9985\n",
      "INFO:2023-07-17 10:47:32,226:emulator:train:L113: Run restart 5.\n",
      "INFO:2023-07-17 10:47:32,227:emulator:train:L116: Trained emulator.\n",
      "INFO:2023-07-17 10:47:32,228:emulator:train:L150: Loading best model (restart: 5, epoch: 100)...\n",
      "INFO:2023-07-17 10:47:32,236:emulator:train:L161: Loaded best model.\n",
      "INFO:2023-07-17 10:47:32,239:emulator:train:L174: Loading best train stats (restart: 5, epoch: 100)...\n",
      "INFO:2023-07-17 10:47:32,247:emulator:train:L199: Loaded best train stats.\n",
      "INFO:2023-07-17 10:47:32,248:emulator:train:L201: The fitted emulator hyperparameters are:\n",
      "INFO:2023-07-17 10:47:32,251:emulator:train:L202: \n",
      "Bias: 6.3872\n",
      "Weights: tensor([-3.9363, -1.8525, -3.4804, -0.0549,  0.0480,  0.0573])\n",
      "Outputscale: 0.4795\n",
      "Lengthscales: tensor([0.7704, 0.8863, 0.2490, 7.0042, 5.9337, 5.2484])\n",
      "Likelihood noise: 0.0003\n"
     ]
    }
   ],
   "source": [
    "best_models=[]\n",
    "best_train_stats=[]\n",
    "emulators=[]\n",
    "nMod = y_train.shape[1]\n",
    "mse=[]\n",
    "    \n",
    "for i in range(nMod):\n",
    "\n",
    "    \n",
    "    dataset = Dataset(\n",
    "        X_train.values,\n",
    "        y_train.iloc[:,i].values,\n",
    "        X_val=X_val.values,\n",
    "        y_val=y_val.iloc[:,i].values,\n",
    "        X_test=X_test.values,\n",
    "        y_test=y_test.iloc[:,i].values,\n",
    "        x_labels=x_labels.values.squeeze().tolist(),\n",
    "        y_label=y_labels.values[i],\n",
    "    \n",
    "        )\n",
    "\n",
    "    likelihood = GaussianLikelihood()\n",
    "    mean_function = LinearMean(input_size=dataset.input_size)\n",
    "    kernel = ScaleKernel(RBFKernel(ard_num_dims=dataset.input_size))\n",
    "    metrics = [MeanSquaredError(), R2Score()]\n",
    "\n",
    "    experiment = GPExperiment(\n",
    "        dataset,\n",
    "        likelihood,\n",
    "        mean_function,\n",
    "        kernel,\n",
    "        n_restarts=5,\n",
    "        metrics=metrics,\n",
    "        seed=seed,  # reproducible training\n",
    "        learn_noise=True\n",
    "    )\n",
    "\n",
    "    device = \"cpu\"\n",
    "    optimizer = torch.optim.Adam(experiment.model.parameters(), lr=0.1)\n",
    "\n",
    "    emulator = GPEmulator(experiment, device)\n",
    "    best_model, best_train_stat = emulator.train(optimizer);\n",
    "    mean,std=emulator.predict(X_test.values)\n",
    "    mse.append(((mean-y_test.iloc[:,i].values)**2).mean())\n",
    "    emulators.append(emulator)\n",
    "    best_models.append(best_model)\n",
    "    best_train_stats.append(best_train_stat)"
   ]
  },
  {
   "cell_type": "code",
   "execution_count": 10,
   "id": "08d52cbf",
   "metadata": {},
   "outputs": [
    {
     "data": {
      "text/plain": [
       "[26.802835484801744, 8.058647267903256]"
      ]
     },
     "execution_count": 10,
     "metadata": {},
     "output_type": "execute_result"
    }
   ],
   "source": [
    "mse"
   ]
  },
  {
   "cell_type": "code",
   "execution_count": 11,
   "id": "7220bdbf",
   "metadata": {},
   "outputs": [
    {
     "data": {
      "text/plain": [
       "[OrderedDict([('likelihood.noise_covar.raw_noise', tensor([-8.9030])),\n",
       "              ('likelihood.noise_covar.raw_noise_constraint.lower_bound',\n",
       "               tensor(    0.0001)),\n",
       "              ('likelihood.noise_covar.raw_noise_constraint.upper_bound',\n",
       "               tensor(inf)),\n",
       "              ('mean_module.weights',\n",
       "               tensor([[-0.0237],\n",
       "                       [ 0.0329],\n",
       "                       [ 0.0117],\n",
       "                       [-4.8655],\n",
       "                       [-0.7064],\n",
       "                       [-1.6926]])),\n",
       "              ('mean_module.bias', tensor([5.1604])),\n",
       "              ('covar_module.raw_outputscale', tensor(-0.5795)),\n",
       "              ('covar_module.base_kernel.raw_lengthscale',\n",
       "               tensor([[ 9.1223,  7.5618, 12.5713, -0.8259,  1.9796, -0.6207]])),\n",
       "              ('covar_module.base_kernel.raw_lengthscale_constraint.lower_bound',\n",
       "               tensor(0.)),\n",
       "              ('covar_module.base_kernel.raw_lengthscale_constraint.upper_bound',\n",
       "               tensor(inf)),\n",
       "              ('covar_module.raw_outputscale_constraint.lower_bound',\n",
       "               tensor(0.)),\n",
       "              ('covar_module.raw_outputscale_constraint.upper_bound',\n",
       "               tensor(inf))]),\n",
       " OrderedDict([('likelihood.noise_covar.raw_noise', tensor([-8.7316])),\n",
       "              ('likelihood.noise_covar.raw_noise_constraint.lower_bound',\n",
       "               tensor(    0.0001)),\n",
       "              ('likelihood.noise_covar.raw_noise_constraint.upper_bound',\n",
       "               tensor(inf)),\n",
       "              ('mean_module.weights',\n",
       "               tensor([[-3.9363],\n",
       "                       [-1.8525],\n",
       "                       [-3.4804],\n",
       "                       [-0.0549],\n",
       "                       [ 0.0480],\n",
       "                       [ 0.0573]])),\n",
       "              ('mean_module.bias', tensor([6.3872])),\n",
       "              ('covar_module.raw_outputscale', tensor(-0.4858)),\n",
       "              ('covar_module.base_kernel.raw_lengthscale',\n",
       "               tensor([[ 0.1490,  0.3550, -1.2631,  7.0033,  5.9311,  5.2431]])),\n",
       "              ('covar_module.base_kernel.raw_lengthscale_constraint.lower_bound',\n",
       "               tensor(0.)),\n",
       "              ('covar_module.base_kernel.raw_lengthscale_constraint.upper_bound',\n",
       "               tensor(inf)),\n",
       "              ('covar_module.raw_outputscale_constraint.lower_bound',\n",
       "               tensor(0.)),\n",
       "              ('covar_module.raw_outputscale_constraint.upper_bound',\n",
       "               tensor(inf))])]"
      ]
     },
     "execution_count": 11,
     "metadata": {},
     "output_type": "execute_result"
    }
   ],
   "source": [
    "best_models"
   ]
  },
  {
   "cell_type": "code",
   "execution_count": 12,
   "id": "db1955a0",
   "metadata": {},
   "outputs": [],
   "source": [
    "# split original dataset in training, validation and testing sets\n",
    "X=inputOrig\n",
    "y=outputOrig\n",
    "\n",
    "X_train, X_test, y_train, y_test = train_test_split(\n",
    "    X,\n",
    "    y,\n",
    "    test_size=0.2,\n",
    "    random_state=seed\n",
    ")"
   ]
  },
  {
   "cell_type": "code",
   "execution_count": 13,
   "id": "1972c4a7",
   "metadata": {},
   "outputs": [],
   "source": [
    "def normalise(data):\n",
    "    dataMean = np.mean(data,axis=0)\n",
    "    dataStd = np.std(data,axis=0)\n",
    "    dataNorm = (data-dataMean)/(dataStd)\n",
    "    return dataNorm,dataMean,dataStd"
   ]
  },
  {
   "cell_type": "code",
   "execution_count": 14,
   "id": "0e7673d2",
   "metadata": {},
   "outputs": [],
   "source": [
    "inputNorm,inputMean,inputStd = normalise(X_train)"
   ]
  },
  {
   "cell_type": "code",
   "execution_count": 15,
   "id": "7ae3299a",
   "metadata": {},
   "outputs": [],
   "source": [
    "outputNorm,outMean,outStd=normalise(y_train)"
   ]
  },
  {
   "cell_type": "code",
   "execution_count": 16,
   "id": "bd03f20b",
   "metadata": {},
   "outputs": [],
   "source": [
    "nDim = inputNorm.shape[1]"
   ]
  },
  {
   "cell_type": "code",
   "execution_count": 17,
   "id": "28e7cd0f",
   "metadata": {},
   "outputs": [
    {
     "name": "stderr",
     "output_type": "stream",
     "text": [
      "C:\\Users\\pmzcwl\\AppData\\Local\\anaconda3\\lib\\site-packages\\numpy\\core\\fromnumeric.py:84: FutureWarning: In a future version, DataFrame.min(axis=None) will return a scalar min over the entire DataFrame. To retain the old behavior, use 'frame.min(axis=0)' or just 'frame.min()'\n",
      "  return reduction(axis=axis, out=out, **passkwargs)\n"
     ]
    },
    {
     "data": {
      "text/plain": [
       "(A_TAT,)   -1.332582\n",
       "(V_TAT,)   -1.570030\n",
       "dtype: float64"
      ]
     },
     "execution_count": 17,
     "metadata": {},
     "output_type": "execute_result"
    }
   ],
   "source": [
    "np.min(outputNorm)"
   ]
  },
  {
   "cell_type": "code",
   "execution_count": 18,
   "id": "cd86c03b",
   "metadata": {},
   "outputs": [],
   "source": [
    "class ExactGPModel(gpytorch.models.ExactGP):\n",
    "    def __init__(self, train_x, train_y, likelihood):\n",
    "        super(ExactGPModel, self).__init__(train_x, train_y, likelihood)\n",
    "        self.mean_module = gpytorch.means.ConstantMean()\n",
    "        self.covar_module = gpytorch.kernels.ScaleKernel(gpytorch.kernels.RBFKernel(ard_num_dims=nDim))\n",
    "\n",
    "    def forward(self, x):\n",
    "        mean_x = self.mean_module(x)\n",
    "        covar_x = self.covar_module(x)\n",
    "        return gpytorch.distributions.MultivariateNormal(mean_x, covar_x)"
   ]
  },
  {
   "cell_type": "code",
   "execution_count": 19,
   "id": "d52c661a",
   "metadata": {},
   "outputs": [],
   "source": [
    "class ExactLRGPModel(gpytorch.models.ExactGP):\n",
    "    def __init__(self, train_x, train_y, likelihood):\n",
    "        super(ExactLRGPModel, self).__init__(train_x, train_y, likelihood)\n",
    "        nDim = train_x.shape[1]\n",
    "        self.mean_module = gpytorch.means.LinearMean(input_size=nDim)\n",
    "        self.covar_module = gpytorch.kernels.ScaleKernel(gpytorch.kernels.RBFKernel(ard_num_dims=nDim))\n",
    "\n",
    "    def forward(self, x):\n",
    "        mean_x = self.mean_module(x)\n",
    "        covar_x = self.covar_module(x)\n",
    "        return gpytorch.distributions.MultivariateNormal(mean_x, covar_x)"
   ]
  },
  {
   "cell_type": "code",
   "execution_count": 20,
   "id": "32d23fb4",
   "metadata": {},
   "outputs": [],
   "source": [
    "class ZeroMeanGPModel(gpytorch.models.ExactGP):\n",
    "    def __init__(self, train_x, train_y, likelihood):\n",
    "        super(ZeroMeanGPModel, self).__init__(train_x, train_y, likelihood)\n",
    "        self.mean_module = gpytorch.means.ZeroMean()\n",
    "        self.covar_module = gpytorch.kernels.ScaleKernel(gpytorch.kernels.RBFKernel(ard_num_dims=nDim))\n",
    "\n",
    "    def forward(self, x):\n",
    "        mean_x = self.mean_module(x)\n",
    "        covar_x = self.covar_module(x)\n",
    "        return gpytorch.distributions.MultivariateNormal(mean_x, covar_x)"
   ]
  },
  {
   "cell_type": "code",
   "execution_count": null,
   "id": "81d9e5da",
   "metadata": {
    "scrolled": true
   },
   "outputs": [],
   "source": []
  },
  {
   "cell_type": "code",
   "execution_count": 21,
   "id": "9772bc9c",
   "metadata": {},
   "outputs": [],
   "source": [
    "def GPEnsemble(modelInput,modelOutput,meanFunc='constant'):\n",
    "    models = []\n",
    "    likelihoods = []\n",
    "    MSE = []\n",
    "    nMod = modelOutput.shape[1]\n",
    "    X=torch.tensor(modelInput.values).float()\n",
    "    \n",
    "    for i in range(nMod):\n",
    "        Y=torch.tensor(modelOutput.iloc[:,i].values).squeeze().float() \n",
    "        print(i)\n",
    "        likelihoods.append(gpytorch.likelihoods.GaussianLikelihood())\n",
    "        if meanFunc=='constant':\n",
    "            models.append(ExactGPModel(X, Y, likelihoods[i]))\n",
    "        if meanFunc=='linear':\n",
    "            models.append(ExactLRGPModel(X, Y, likelihoods[i]))\n",
    "        if meanFunc=='zero':\n",
    "            models.append(ZeroMeanGPModel(X, Y, likelihoods[i]))\n",
    "        smoke_test = ('CI' in os.environ)\n",
    "        training_iter = 2 if smoke_test else 500\n",
    "\n",
    "\n",
    "        # Find optimal model hyperparameters\n",
    "        models[i].train()\n",
    "        likelihoods[i].train()\n",
    "        \n",
    "\n",
    "        # Use the adam optimizer\n",
    "        optimizer = torch.optim.Adam(models[i] .parameters(), lr=0.1)  # Includes GaussianLikelihood parameters\n",
    "\n",
    "        # \"Loss\" for GPs - the marginal log likelihood\n",
    "        mll = gpytorch.mlls.ExactMarginalLogLikelihood(likelihoods[i], models[i] )\n",
    "\n",
    "\n",
    "        for j in range(training_iter):\n",
    "            # Zero gradients from previous iteration\n",
    "            optimizer.zero_grad()\n",
    "            # Output from model\n",
    "            output = models[i](X)\n",
    "            # Calc loss and backprop gradients\n",
    "            loss = -mll(output, Y)\n",
    "            loss.backward()\n",
    "            #print('Iter %d/%d - Loss: %.3f   lengthscale: %.3f   noise: %.3f' % (\n",
    "            #    j + 1, training_iter, loss.item(),\n",
    "            #    models[i].covar_module.base_kernel.lengthscale.item(),\n",
    "            #    models[i].likelihood.noise.item()\n",
    "            #))\n",
    "            optimizer.step()\n",
    "    return models, likelihoods"
   ]
  },
  {
   "cell_type": "code",
   "execution_count": 22,
   "id": "c85069a8",
   "metadata": {},
   "outputs": [],
   "source": [
    "def LRGPEnsemble(modelInput,modelOutput):\n",
    "    \n",
    "    nMod = modelOutput.shape[1]\n",
    "    #outMean = np.mean(modelOutput,axis=0)\n",
    "    #outStd = np.std(modelOutput,axis=0)\n",
    "    #modelOutputNew = (modelOutput-outMean)/outStd.T\n",
    "    #inMean = np.mean(modelInput,axis=0)\n",
    "    #inStd = np.std(modelInput,axis=0)\n",
    "    #modelInputNew = (modelInput-inMean)/inStd.T\n",
    "    \n",
    "    regression_model = LinearRegression()\n",
    "    # Fit the data(train the model)\n",
    "    regression_model.fit(modelInput, modelOutput)\n",
    "    \n",
    "    y_predicted = regression_model.predict(modelInput)\n",
    "    \n",
    "    modelOutputAdjusted = modelOutput - y_predicted\n",
    "    \n",
    "    modelsZM, likelihoodsZM = GPEnsemble(modelInput,modelOutputAdjusted,meanFunc='zero')\n",
    "    \n",
    "    return regression_model, modelsZM, likelihoodsZM"
   ]
  },
  {
   "cell_type": "code",
   "execution_count": 23,
   "id": "41c0e999",
   "metadata": {},
   "outputs": [],
   "source": [
    "def LREnsemble(modelInput,modelOutput):\n",
    "    \n",
    "    nMod = modelOutput.shape[1]\n",
    "    #outMean = np.mean(modelOutput,axis=0)\n",
    "    #outStd = np.std(modelOutput,axis=0)\n",
    "    #modelOutputNew = (modelOutput-outMean)/outStd.T\n",
    "    #inMean = np.mean(modelInput,axis=0)\n",
    "    #inStd = np.std(modelInput,axis=0)\n",
    "    #modelInputNew = (modelInput-inMean)/inStd.T\n",
    "    \n",
    "    regression_model = LinearRegression()\n",
    "    # Fit the data(train the model)\n",
    "    regression_model.fit(modelInput, modelOutput)\n",
    "    \n",
    "    return regression_model"
   ]
  },
  {
   "cell_type": "code",
   "execution_count": 24,
   "id": "c46b1543",
   "metadata": {},
   "outputs": [],
   "source": [
    "def GPEnsemblePredict(models,likelihoods,inputVals,outMean,outStd):\n",
    "    #modelOutput = (modelOutputOrig-outMean)/outStd.T\n",
    "    nMod = len(models)\n",
    "    prediction=[]\n",
    "    inputVals = inputVals.float()\n",
    "    for i in range(nMod):\n",
    "        models[i].eval()\n",
    "        likelihoods[i].eval()\n",
    "        out = outStd[i]*(likelihoods[i](models[i](inputVals)).mean)+outMean[i]\n",
    "        prediction.append(out)\n",
    "    return prediction"
   ]
  },
  {
   "cell_type": "code",
   "execution_count": 25,
   "id": "2e31c8a0",
   "metadata": {},
   "outputs": [],
   "source": [
    "def LRGPEnsemblePredict(linearModel,models,likelihoods,inputVals,outMean,outStd):\n",
    "    nMod = len(models)\n",
    "    \n",
    "    y_predictedSens = linearModel.predict(inputVals)\n",
    "    inputVals = inputVals.float()\n",
    "    prediction=[]\n",
    "    for i in range(nMod):\n",
    "        models[i].eval()\n",
    "        likelihoods[i].eval()\n",
    "        out = outStd[i]*(torch.tensor([y_predictedSens[:,i]])+likelihoods[i](models[i](inputVals)).mean)+outMean[i]\n",
    "        prediction.append(out)\n",
    "    return prediction\n",
    "\n"
   ]
  },
  {
   "cell_type": "code",
   "execution_count": 26,
   "id": "7185adfe",
   "metadata": {},
   "outputs": [],
   "source": [
    "def LREnsemblePredict(linearModel,inputVals,outMean,outStd):\n",
    "    nMod = len(models)\n",
    "    \n",
    "    y_predictedSens = linearModel.predict(inputVals)\n",
    "    inputVals = inputVals.float()\n",
    "    prediction=[]\n",
    "    for i in range(nMod):\n",
    "        models[i].eval()\n",
    "        likelihoods[i].eval()\n",
    "        out = outStd[i]*(torch.tensor([y_predictedSens[:,i]]))+outMean[i]\n",
    "        prediction.append(out)\n",
    "    return prediction\n"
   ]
  },
  {
   "cell_type": "code",
   "execution_count": null,
   "id": "e69452f6",
   "metadata": {},
   "outputs": [],
   "source": []
  },
  {
   "cell_type": "code",
   "execution_count": 27,
   "id": "ea8fba83",
   "metadata": {
    "scrolled": false
   },
   "outputs": [
    {
     "name": "stdout",
     "output_type": "stream",
     "text": [
      "0\n",
      "1\n"
     ]
    }
   ],
   "source": [
    "modelsLR, likelihoodsLR = GPEnsemble(inputNorm,outputNorm,meanFunc=\"linear\")"
   ]
  },
  {
   "cell_type": "code",
   "execution_count": 29,
   "id": "79176554",
   "metadata": {},
   "outputs": [
    {
     "name": "stdout",
     "output_type": "stream",
     "text": [
      "0\n",
      "1\n",
      "0\n",
      "1\n",
      "0\n",
      "1\n",
      "0\n",
      "1\n",
      "0\n",
      "1\n",
      "0\n",
      "1\n"
     ]
    }
   ],
   "source": [
    "models_1A, likelihoods_1A = GPEnsemble(inputNorm.iloc[:,3:4],outputNorm,meanFunc='linear')\n",
    "models_2A, likelihoods_2A = GPEnsemble(inputNorm.iloc[:,[3,5]],outputNorm,meanFunc='linear')\n",
    "models_3A, likelihoods_3A = GPEnsemble(inputNorm.iloc[:,3:6],outputNorm,meanFunc='linear')\n",
    "\n",
    "models_1V, likelihoods_1V = GPEnsemble(inputNorm.iloc[:,0:1],outputNorm,meanFunc='linear')\n",
    "models_2V, likelihoods_2V = GPEnsemble(inputNorm.iloc[:,[0,2]],outputNorm,meanFunc='linear')\n",
    "models_3V, likelihoods_3V = GPEnsemble(inputNorm.iloc[:,0:3],outputNorm,meanFunc='linear')\n",
    "\n",
    "LR_1A = LREnsemble(inputNorm.iloc[:,3:4],outputNorm)\n",
    "LR_2A = LREnsemble(inputNorm.iloc[:,[3,5]],outputNorm)\n",
    "LR_3A = LREnsemble(inputNorm.iloc[:,3:6],outputNorm)\n",
    "\n",
    "\n",
    "LR_1V = LREnsemble(inputNorm.iloc[:,0:1],outputNorm)\n",
    "LR_2V = LREnsemble(inputNorm.iloc[:,[0,2]],outputNorm)\n",
    "LR_3V = LREnsemble(inputNorm.iloc[:,0:3],outputNorm)"
   ]
  },
  {
   "cell_type": "code",
   "execution_count": 32,
   "id": "167a9c76",
   "metadata": {},
   "outputs": [
    {
     "name": "stderr",
     "output_type": "stream",
     "text": [
      "C:\\Users\\pmzcwl\\AppData\\Local\\Temp\\ipykernel_10596\\4132268860.py:10: UserWarning: Creating a tensor from a list of numpy.ndarrays is extremely slow. Please consider converting the list to a single numpy.ndarray with numpy.array() before converting to a tensor. (Triggered internally at C:\\cb\\pytorch_1000000000000\\work\\torch\\csrc\\utils\\tensor_new.cpp:248.)\n",
      "  out = outStd[i]*(torch.tensor([y_predictedSens[:,i]]))+outMean[i]\n"
     ]
    }
   ],
   "source": [
    "MSE = np.zeros((13,2))\n",
    "for i in range(2):\n",
    "    MSE[0,i] =((GPEnsemblePredict(models_1A,likelihoods_1A,torch.tensor(((X_test.iloc[:,3:4]-inputMean[3:4])/inputStd[3:4]).values),outMean,outStd)[i]-torch.tensor(y_test.values)[:,i])**2).mean()\n",
    "    MSE[1,i] =((GPEnsemblePredict(models_2A,likelihoods_2A,torch.tensor(((X_test.iloc[:,[3,5]]-inputMean[[3,5]])/inputStd[[3,5]]).values),outMean,outStd)[i]-torch.tensor(y_test.values)[:,i])**2).mean()\n",
    "    MSE[2,i] =((GPEnsemblePredict(models_3A,likelihoods_3A,torch.tensor(((X_test.iloc[:,3:6]-inputMean[3:6])/inputStd[3:6]).values),outMean,outStd)[i]-torch.tensor(y_test.values)[:,i])**2).mean()\n",
    "    \n",
    "    MSE[3,i] =((GPEnsemblePredict(models_1V,likelihoods_1V,torch.tensor(((X_test.iloc[:,0:1]-inputMean[0:1])/inputStd[0:1]).values),outMean,outStd)[i]-torch.tensor(y_test.values)[:,i])**2).mean()\n",
    "    MSE[4,i] =((GPEnsemblePredict(models_2V,likelihoods_2V,torch.tensor(((X_test.iloc[:,[0,2]]-inputMean[[0,2]])/inputStd[[0,2]]).values),outMean,outStd)[i]-torch.tensor(y_test.values)[:,i])**2).mean()\n",
    "    MSE[5,i] =((GPEnsemblePredict(models_3V,likelihoods_3V,torch.tensor(((X_test.iloc[:,0:3]-inputMean[0:3])/inputStd[0:3]).values),outMean,outStd)[i]-torch.tensor(y_test.values)[:,i])**2).mean()\n",
    "    \n",
    "    MSE[6,i] =((GPEnsemblePredict(modelsLR,likelihoodsLR,torch.tensor(((X_test-inputMean)/inputStd).values),outMean,outStd)[i]-torch.tensor(y_test.values)[:,i])**2).mean()\n",
    "    \n",
    "    MSE[7,i] =((LREnsemblePredict(LR_1A,torch.tensor(((X_test.iloc[:,3:4]-inputMean[3:4])/inputStd[3:4]).values),outMean,outStd)[i]-torch.tensor(y_test.values)[:,i])**2).mean()\n",
    "    MSE[8,i] =((LREnsemblePredict(LR_2A,torch.tensor(((X_test.iloc[:,[3,5]]-inputMean[[3,5]])/inputStd[[3,5]]).values),outMean,outStd)[i]-torch.tensor(y_test.values)[:,i])**2).mean()\n",
    "    MSE[9,i] =((LREnsemblePredict(LR_3A,torch.tensor(((X_test.iloc[:,3:6]-inputMean[3:6])/inputStd[3:6]).values),outMean,outStd)[i]-torch.tensor(y_test.values)[:,i])**2).mean()\n",
    "    \n",
    "    \n",
    "    MSE[10,i] =((LREnsemblePredict(LR_1V,torch.tensor(((X_test.iloc[:,0:1]-inputMean[0:1])/inputStd[0:1]).values),outMean,outStd)[i]-torch.tensor(y_test.values)[:,i])**2).mean()\n",
    "    MSE[11,i] =((LREnsemblePredict(LR_2V,torch.tensor(((X_test.iloc[:,[0,2]]-inputMean[[0,2]])/inputStd[[0,2]]).values),outMean,outStd)[i]-torch.tensor(y_test.values)[:,i])**2).mean()\n",
    "    MSE[12,i] =((LREnsemblePredict(LR_3V,torch.tensor(((X_test.iloc[:,0:3]-inputMean[0:3])/inputStd[0:3]).values),outMean,outStd)[i]-torch.tensor(y_test.values)[:,i])**2).mean()\n",
    "    \n"
   ]
  },
  {
   "cell_type": "code",
   "execution_count": 33,
   "id": "34cd4f9a",
   "metadata": {},
   "outputs": [
    {
     "data": {
      "text/plain": [
       "array([[4.82263590e+02, 2.53433121e+02, 5.44309777e+00, 4.69570896e+03,\n",
       "        4.50311225e+03, 4.55856751e+03, 2.05159695e+01, 9.44309906e+02,\n",
       "        7.65070772e+02, 6.29417397e+02, 4.69558780e+03, 4.60495755e+03,\n",
       "        4.60468822e+03],\n",
       "       [2.14980428e+03, 2.18446275e+03, 2.16115967e+03, 7.56526714e+02,\n",
       "        2.26829794e+02, 3.31989217e+00, 6.01852115e+00, 2.15678928e+03,\n",
       "        2.18446513e+03, 2.16126391e+03, 8.06707471e+02, 3.75110048e+02,\n",
       "        2.21627084e+02]])"
      ]
     },
     "execution_count": 33,
     "metadata": {},
     "output_type": "execute_result"
    }
   ],
   "source": [
    "MSE.T"
   ]
  },
  {
   "cell_type": "code",
   "execution_count": 34,
   "id": "b79cbb7c",
   "metadata": {
    "scrolled": false
   },
   "outputs": [
    {
     "data": {
      "text/plain": [
       "array([[ 8.95249887e-01, -1.22525153e-01],\n",
       "       [ 9.44953033e-01, -1.40622153e-01],\n",
       "       [ 9.98817731e-01, -1.28454393e-01],\n",
       "       [-1.99319474e-02,  6.04977870e-01],\n",
       "       [ 2.19010422e-02,  8.81560312e-01],\n",
       "       [ 9.85587590e-03,  9.98266511e-01],\n",
       "       [ 9.95543827e-01,  9.96857416e-01],\n",
       "       [ 7.94891070e-01, -1.26172388e-01],\n",
       "       [ 8.33822724e-01, -1.40623396e-01],\n",
       "       [ 8.63287330e-01, -1.28508825e-01],\n",
       "       [-1.99056310e-02,  5.78775875e-01],\n",
       "       [-2.20278014e-04,  8.04135443e-01],\n",
       "       [-1.61776649e-04,  8.84276918e-01]])"
      ]
     },
     "execution_count": 34,
     "metadata": {},
     "output_type": "execute_result"
    }
   ],
   "source": [
    "(1-MSE/np.var(y_test).values)"
   ]
  },
  {
   "cell_type": "code",
   "execution_count": 35,
   "id": "40d4c871",
   "metadata": {},
   "outputs": [
    {
     "data": {
      "text/plain": [
       "tensor([[     0.7864,     -1.2318],\n",
       "        [    -1.4533,      0.6321],\n",
       "        [     0.0011,     -0.4491],\n",
       "        [    -0.0866,      0.6382],\n",
       "        [    -0.7003,     -1.1552],\n",
       "        [    -0.6055,      0.1336],\n",
       "        [     0.6891,     -0.5689],\n",
       "        [     0.1157,      1.5493],\n",
       "        [    -0.8344,      0.5214],\n",
       "        [     0.4204,      0.0464],\n",
       "        [    -0.9094,      1.7671],\n",
       "        [    -0.2133,      0.9366],\n",
       "        [    -0.0192,     -0.8590],\n",
       "        [     1.2583,     -0.9586],\n",
       "        [    -0.4166,     -0.5396],\n",
       "        [     0.8220,      0.2388],\n",
       "        [     0.4152,      1.0484],\n",
       "        [    -1.6256,     -1.4885],\n",
       "        [    -1.4181,     -0.1336],\n",
       "        [     0.7512,     -1.1404],\n",
       "        [     1.5135,      1.0701],\n",
       "        [     1.0263,      0.8794],\n",
       "        [    -1.2268,      1.5334],\n",
       "        [     0.2990,      0.1930],\n",
       "        [    -1.1718,      1.4518],\n",
       "        [     0.6630,      1.0151],\n",
       "        [    -0.5230,      0.1602],\n",
       "        [    -1.0485,     -0.6572],\n",
       "        [    -0.8597,      1.7219],\n",
       "        [     0.3282,      1.1943],\n",
       "        [    -1.2614,      1.7301],\n",
       "        [    -0.5647,      0.6763],\n",
       "        [    -1.1245,      0.2788],\n",
       "        [     0.5014,      1.0837],\n",
       "        [    -0.0988,      0.0947],\n",
       "        [     0.9766,     -0.0003]], dtype=torch.float64)"
      ]
     },
     "execution_count": 35,
     "metadata": {},
     "output_type": "execute_result"
    }
   ],
   "source": [
    "torch.tensor(((X_test.iloc[:,[3,5]]-inputMean[[3,5]])/inputStd[[3,5]]).values)"
   ]
  },
  {
   "cell_type": "code",
   "execution_count": 46,
   "id": "df5abaf6",
   "metadata": {
    "scrolled": true
   },
   "outputs": [],
   "source": [
    "ISE = np.zeros((7,2))\n",
    "for i in range(2):\n",
    "    model_1A_mean=GPEnsemblePredict(models_1A,likelihoods_1A,torch.tensor(((X_test.iloc[:,3:4]-inputMean[3:4])/inputStd[3:4]).values),outMean,outStd)[i].mean()\n",
    "    model_1A_std=GPEnsemblePredict(models_1A,likelihoods_1A,torch.tensor(((X_test.iloc[:,3:4]-inputMean[3:4])/inputStd[3:4]).values),outMean,outStd)[i].std()\n",
    "    \n",
    "    model_2A_mean=GPEnsemblePredict(models_2A,likelihoods_2A,torch.tensor(((X_test.iloc[:,[3,5]]-inputMean[[3,5]])/inputStd[[3,5]]).values),outMean,outStd)[i].mean()\n",
    "    model_2A_std=GPEnsemblePredict(models_2A,likelihoods_2A,torch.tensor(((X_test.iloc[:,[3,5]]-inputMean[[3,5]])/inputStd[[3,5]]).values),outMean,outStd)[i].std()\n",
    "    \n",
    "    model_3A_mean=GPEnsemblePredict(models_3A,likelihoods_3A,torch.tensor(((X_test.iloc[:,3:6]-inputMean[3:6])/inputStd[3:6]).values),outMean,outStd)[i].mean()\n",
    "    model_3A_std=GPEnsemblePredict(models_3A,likelihoods_3A,torch.tensor(((X_test.iloc[:,3:6]-inputMean[3:6])/inputStd[3:6]).values),outMean,outStd)[i].std()\n",
    "    \n",
    "    model_1V_mean=GPEnsemblePredict(models_1V,likelihoods_1V,torch.tensor(((X_test.iloc[:,0:1]-inputMean[0:1])/inputStd[0:1]).values),outMean,outStd)[i].mean()\n",
    "    model_1V_std=GPEnsemblePredict(models_1V,likelihoods_1V,torch.tensor(((X_test.iloc[:,3:4]-inputMean[3:4])/inputStd[3:4]).values),outMean,outStd)[i].std()\n",
    "    \n",
    "    model_2V_mean=GPEnsemblePredict(models_2V,likelihoods_2V,torch.tensor(((X_test.iloc[:,[0,2]]-inputMean[[0,2]])/inputStd[[0,2]]).values),outMean,outStd)[i].mean()\n",
    "    model_2V_std=GPEnsemblePredict(models_2V,likelihoods_2V,torch.tensor(((X_test.iloc[:,[0,2]]-inputMean[[0,2]])/inputStd[[0,2]]).values),outMean,outStd)[i].std()\n",
    "    \n",
    "    model_3V_mean=GPEnsemblePredict(models_3V,likelihoods_3V,torch.tensor(((X_test.iloc[:,0:3]-inputMean[0:3])/inputStd[0:3]).values),outMean,outStd)[i].mean()\n",
    "    model_3V_std=GPEnsemblePredict(models_3V,likelihoods_3V,torch.tensor(((X_test.iloc[:,0:3]-inputMean[0:3])/inputStd[0:3]).values),outMean,outStd)[i].std()\n",
    "    \n",
    "    LR_mean=LRGPEnsemblePredict(regression_model,modelsZM,likelihoodsZM,torch.tensor(((X_test-inputMean)/inputStd).values),outMean,outStd)[i].mean()\n",
    "    LR_std=LRGPEnsemblePredict(regression_model,modelsZM,likelihoodsZM,torch.tensor(((X_test-inputMean)/inputStd).values),outMean,outStd)[i].std()\n",
    "    \n",
    "    \n",
    "    ISE[0,i] =(100*sum(torch.FloatTensor.abs_(model_1A_mean-torch.tensor(y_test.values)[:,i])<2*model_1A_std)/36)\n",
    "    ISE[1,i] =(100*sum(torch.FloatTensor.abs_(model_2A_mean-torch.tensor(y_test.values)[:,i])<2*model_2A_std)/36)\n",
    "    ISE[2,i] =(100*sum(torch.FloatTensor.abs_(model_3A_mean-torch.tensor(y_test.values)[:,i])<2*model_3A_std)/36)\n",
    "    ISE[3,i] =(100*sum(torch.FloatTensor.abs_(model_1V_mean-torch.tensor(y_test.values)[:,i])<2*model_1V_std)/36)\n",
    "    ISE[4,i] =(100*sum(torch.FloatTensor.abs_(model_2V_mean-torch.tensor(y_test.values)[:,i])<2*model_2V_std)/36)\n",
    "    ISE[5,i] =(100*sum(torch.FloatTensor.abs_(model_3V_mean-torch.tensor(y_test.values)[:,i])<2*model_3V_std)/36)\n",
    "    ISE[6,i] =(100*sum(torch.FloatTensor.abs_(LR_mean-torch.tensor(y_test.values)[:,i])<2*LR_std)/36)       "
   ]
  },
  {
   "cell_type": "code",
   "execution_count": 47,
   "id": "c0ae87fb",
   "metadata": {},
   "outputs": [
    {
     "data": {
      "text/plain": [
       "tensor(88.1466, grad_fn=<MulBackward0>)"
      ]
     },
     "execution_count": 47,
     "metadata": {},
     "output_type": "execute_result"
    }
   ],
   "source": [
    "2*model_3V_std"
   ]
  },
  {
   "cell_type": "code",
   "execution_count": 48,
   "id": "0de11bc8",
   "metadata": {
    "scrolled": true
   },
   "outputs": [
    {
     "data": {
      "text/plain": [
       "tensor([ 61.7133,  28.9900,  42.9480,  30.1480,  28.6770,  27.0290,  10.8730,\n",
       "         27.6030,  33.6820,  16.0490,  50.5290,  16.7130,   0.5200,  57.6460,\n",
       "        105.6180,  81.0850,  19.1670,  80.7000,  45.7609,  28.7960,  44.7480,\n",
       "         30.0310,  28.2760,  41.9280,  25.2740,  35.8270,  55.9620,  22.3990,\n",
       "         52.4310,  41.3130,  13.9810,  29.4600,   2.6860,  31.7970,  41.4090,\n",
       "         82.1560], dtype=torch.float64, grad_fn=<AbsBackward0>)"
      ]
     },
     "execution_count": 48,
     "metadata": {},
     "output_type": "execute_result"
    }
   ],
   "source": [
    "torch.FloatTensor.abs_(model_1V_mean-torch.tensor(y_test.values)[:,1])"
   ]
  },
  {
   "cell_type": "code",
   "execution_count": 49,
   "id": "a41c0f4f",
   "metadata": {},
   "outputs": [
    {
     "data": {
      "text/plain": [
       "tensor([ True,  True,  True,  True,  True,  True,  True,  True,  True,  True,\n",
       "         True,  True,  True,  True, False,  True,  True,  True,  True,  True,\n",
       "         True,  True,  True,  True,  True,  True,  True,  True,  True,  True,\n",
       "         True,  True,  True,  True,  True,  True])"
      ]
     },
     "execution_count": 49,
     "metadata": {},
     "output_type": "execute_result"
    }
   ],
   "source": [
    "torch.FloatTensor.abs_(model_3V_mean-torch.tensor(y_test.values)[:,1])<2*model_3V_std"
   ]
  },
  {
   "cell_type": "code",
   "execution_count": 50,
   "id": "1e7743bc",
   "metadata": {
    "scrolled": false
   },
   "outputs": [
    {
     "data": {
      "text/plain": [
       "tensor([    0.0578,   124.0022,     8.9242,    26.3102,    98.5282,    44.7862,\n",
       "           22.3088,     1.3162,    56.4332,     7.0518,    84.7472,    27.3232,\n",
       "           10.6812,    29.3978,    31.6492,    20.9678,    21.6738,   259.3202,\n",
       "          177.5852,     1.9458,    54.2705,    30.4428,   117.0252,    15.9288,\n",
       "          134.3492,     9.8258,    26.3002,    96.0132,    51.4822,    10.9568,\n",
       "           87.9382,    66.5912,   130.9622,    16.8418,    30.8712,    33.9558],\n",
       "       dtype=torch.float64, grad_fn=<AbsBackward0>)"
      ]
     },
     "execution_count": 50,
     "metadata": {},
     "output_type": "execute_result"
    }
   ],
   "source": [
    "torch.FloatTensor.abs_(model_3V_mean-torch.tensor(y_test.values)[:,0])"
   ]
  },
  {
   "cell_type": "code",
   "execution_count": 51,
   "id": "8e409149",
   "metadata": {},
   "outputs": [
    {
     "data": {
      "text/plain": [
       "array([[94.44444275,  2.77777767],\n",
       "       [94.44444275,  8.33333302],\n",
       "       [94.44444275,  8.33333302],\n",
       "       [19.44444466, 75.        ],\n",
       "       [22.22222137, 88.8888855 ],\n",
       "       [22.22222137, 97.22222137],\n",
       "       [94.44444275, 97.22222137]])"
      ]
     },
     "execution_count": 51,
     "metadata": {},
     "output_type": "execute_result"
    }
   ],
   "source": [
    "ISE"
   ]
  },
  {
   "cell_type": "code",
   "execution_count": 52,
   "id": "d09c2a0a",
   "metadata": {
    "scrolled": true
   },
   "outputs": [
    {
     "name": "stdout",
     "output_type": "stream",
     "text": [
      "0\n",
      "1\n"
     ]
    }
   ],
   "source": [
    "models, likelihoods = GPEnsemble(inputNorm,outputNorm)"
   ]
  },
  {
   "cell_type": "code",
   "execution_count": 53,
   "id": "e9abe8ae",
   "metadata": {
    "scrolled": true
   },
   "outputs": [
    {
     "name": "stdout",
     "output_type": "stream",
     "text": [
      "0\n",
      "1\n"
     ]
    }
   ],
   "source": [
    "modelsLR, likelihoodsLR = GPEnsemble(inputNorm,outputNorm,meanFunc=\"linear\")"
   ]
  },
  {
   "cell_type": "code",
   "execution_count": 54,
   "id": "41cede99",
   "metadata": {},
   "outputs": [
    {
     "name": "stdout",
     "output_type": "stream",
     "text": [
      "0\n",
      "1\n"
     ]
    }
   ],
   "source": [
    "regression_model, modelsZM, likelihoodsZM=LRGPEnsemble(inputNorm,outputNorm)"
   ]
  },
  {
   "cell_type": "code",
   "execution_count": 55,
   "id": "6458adfa",
   "metadata": {
    "scrolled": false
   },
   "outputs": [
    {
     "data": {
      "text/plain": [
       "tensor(6.8144, dtype=torch.float64, grad_fn=<MeanBackward0>)"
      ]
     },
     "execution_count": 55,
     "metadata": {},
     "output_type": "execute_result"
    }
   ],
   "source": [
    " ((GPEnsemblePredict(models,likelihoods,torch.tensor(((X_test-inputMean)/inputStd).values),outMean,outStd)[1]-torch.tensor(y_test.values)[:,1])**2).mean()"
   ]
  },
  {
   "cell_type": "code",
   "execution_count": 56,
   "id": "d6ea6a55",
   "metadata": {},
   "outputs": [
    {
     "data": {
      "text/plain": [
       "tensor(5.8914, dtype=torch.float64, grad_fn=<MeanBackward0>)"
      ]
     },
     "execution_count": 56,
     "metadata": {},
     "output_type": "execute_result"
    }
   ],
   "source": [
    "((GPEnsemblePredict(modelsLR,likelihoodsLR,torch.tensor(((X_test-inputMean)/inputStd).values),outMean,outStd)[1]-torch.tensor(y_test.values)[:,1])**2).mean()"
   ]
  },
  {
   "cell_type": "code",
   "execution_count": 57,
   "id": "358ed8a0",
   "metadata": {
    "scrolled": true
   },
   "outputs": [
    {
     "name": "stderr",
     "output_type": "stream",
     "text": [
      "C:\\Users\\pmzcwl\\AppData\\Local\\anaconda3\\lib\\site-packages\\numpy\\core\\fromnumeric.py:84: FutureWarning: In a future version, DataFrame.min(axis=None) will return a scalar min over the entire DataFrame. To retain the old behavior, use 'frame.min(axis=0)' or just 'frame.min()'\n",
      "  return reduction(axis=axis, out=out, **passkwargs)\n"
     ]
    },
    {
     "data": {
      "text/plain": [
       "(A_TAT,)    98.3833\n",
       "(V_TAT,)    82.2549\n",
       "dtype: float64"
      ]
     },
     "execution_count": 57,
     "metadata": {},
     "output_type": "execute_result"
    }
   ],
   "source": [
    "np.min(y)"
   ]
  },
  {
   "cell_type": "code",
   "execution_count": 58,
   "id": "3c36ef3e",
   "metadata": {},
   "outputs": [
    {
     "data": {
      "text/plain": [
       "612.128912427082"
      ]
     },
     "execution_count": 58,
     "metadata": {},
     "output_type": "execute_result"
    }
   ],
   "source": [
    "(((outStd[0]*(regression_model.predict(((X_test-inputMean)/inputStd))[:,0])+outMean[0])-y_test.values[:,0])**2).mean()"
   ]
  },
  {
   "cell_type": "code",
   "execution_count": 59,
   "id": "2379f6a9",
   "metadata": {
    "scrolled": true
   },
   "outputs": [
    {
     "data": {
      "text/plain": [
       "array([150.46814582, 266.8692335 , 187.23735625, 202.93934026,\n",
       "       257.89742466, 224.28706958, 142.43380974, 175.27896716,\n",
       "       236.68128714, 165.70585571, 251.90581723, 208.57764017,\n",
       "       188.09915429, 120.79573528, 211.9732073 , 137.93488211,\n",
       "       143.96481908, 313.95018967, 298.31938399, 149.09938405,\n",
       "        65.51827639, 120.80792439, 273.98983784, 154.97633823,\n",
       "       270.80961042, 154.82887053, 205.84473286, 257.83670811,\n",
       "       232.32346091, 159.21914061, 245.58727005, 237.56503462,\n",
       "       280.15910087, 150.40239171, 207.47308969, 122.25121712])"
      ]
     },
     "execution_count": 59,
     "metadata": {},
     "output_type": "execute_result"
    }
   ],
   "source": [
    "(outStd[0]*(regression_model.predict(((X_test-inputMean)/inputStd))[:,0])+outMean[0])"
   ]
  },
  {
   "cell_type": "code",
   "execution_count": 60,
   "id": "7af08b55",
   "metadata": {
    "scrolled": true
   },
   "outputs": [
    {
     "data": {
      "text/plain": [
       "array([152.596 , 276.656 , 161.578 , 178.964 , 251.182 , 197.44  ,\n",
       "       130.345 , 153.97  , 209.087 , 145.602 , 237.401 , 179.977 ,\n",
       "       163.335 , 123.256 , 184.303 , 131.686 , 130.98  , 411.974 ,\n",
       "       330.239 , 150.708 ,  98.3833, 122.211 , 269.679 , 136.725 ,\n",
       "       287.003 , 142.828 , 178.954 , 248.667 , 204.136 , 141.697 ,\n",
       "       240.592 , 219.245 , 283.616 , 135.812 , 183.525 , 118.698 ])"
      ]
     },
     "execution_count": 60,
     "metadata": {},
     "output_type": "execute_result"
    }
   ],
   "source": [
    "y_test.values[:,0]"
   ]
  },
  {
   "cell_type": "code",
   "execution_count": 61,
   "id": "1216267c",
   "metadata": {},
   "outputs": [
    {
     "data": {
      "text/plain": [
       "(A_TAT,)    4735.484646\n",
       "(V_TAT,)    1969.868786\n",
       "dtype: float64"
      ]
     },
     "execution_count": 61,
     "metadata": {},
     "output_type": "execute_result"
    }
   ],
   "source": [
    "y_test.var()"
   ]
  },
  {
   "cell_type": "code",
   "execution_count": 62,
   "id": "602de7e6",
   "metadata": {
    "scrolled": false
   },
   "outputs": [],
   "source": [
    "MSE = np.zeros((3,2))\n",
    "for i in range(2):\n",
    "    MSE[0,i] =((GPEnsemblePredict(models,likelihoods,torch.tensor(((X_test-inputMean)/inputStd).values),outMean,outStd)[i]-torch.tensor(y_test.values)[:,i])**2).mean()\n",
    "    MSE[1,i] =((GPEnsemblePredict(modelsLR,likelihoodsLR,torch.tensor(((X_test-inputMean)/inputStd).values),outMean,outStd)[i]-torch.tensor(y_test.values)[:,i])**2).mean()\n",
    "    MSE[2,i] =((LRGPEnsemblePredict(regression_model,modelsZM,likelihoodsZM,torch.tensor(((X_test-inputMean)/inputStd).values),outMean,outStd)[i]-torch.tensor(y_test.values)[:,i])**2).mean()\n",
    "   \n",
    "    "
   ]
  },
  {
   "cell_type": "code",
   "execution_count": 63,
   "id": "6b6be663",
   "metadata": {},
   "outputs": [
    {
     "data": {
      "text/plain": [
       "array([[23.665706  , 20.1662698 , 22.88638616],\n",
       "       [ 6.81441349,  5.89142147,  7.03718353]])"
      ]
     },
     "execution_count": 63,
     "metadata": {},
     "output_type": "execute_result"
    }
   ],
   "source": [
    "MSE.T"
   ]
  },
  {
   "cell_type": "code",
   "execution_count": 64,
   "id": "c224e2b9",
   "metadata": {},
   "outputs": [
    {
     "data": {
      "text/plain": [
       "tensor([-0.5698,  1.2320, -0.4528, -0.1488,  0.8539,  0.1150, -0.8909, -0.5495,\n",
       "         0.2622, -0.6687,  0.7462, -0.1532, -0.4038, -0.9532, -0.1257, -0.8578,\n",
       "        -0.8766,  2.8206,  2.0039, -0.5837, -1.3657, -0.9865,  1.2111, -0.7757,\n",
       "         1.3647, -0.6849, -0.1569,  0.8317,  0.2365, -0.7375,  0.7528,  0.4157,\n",
       "         1.3469, -0.8088, -0.0720, -1.0463], grad_fn=<ViewBackward0>)"
      ]
     },
     "execution_count": 64,
     "metadata": {},
     "output_type": "execute_result"
    }
   ],
   "source": [
    "(likelihoods[0](models[0](torch.tensor(((X_test-inputMean)/inputStd).values).float())).mean)"
   ]
  },
  {
   "cell_type": "code",
   "execution_count": 65,
   "id": "31ac4ede",
   "metadata": {
    "scrolled": true
   },
   "outputs": [
    {
     "data": {
      "text/html": [
       "<div>\n",
       "<style scoped>\n",
       "    .dataframe tbody tr th:only-of-type {\n",
       "        vertical-align: middle;\n",
       "    }\n",
       "\n",
       "    .dataframe tbody tr th {\n",
       "        vertical-align: top;\n",
       "    }\n",
       "\n",
       "    .dataframe thead th {\n",
       "        text-align: right;\n",
       "    }\n",
       "</style>\n",
       "<table border=\"1\" class=\"dataframe\">\n",
       "  <thead>\n",
       "    <tr style=\"text-align: right;\">\n",
       "      <th></th>\n",
       "      <th>(A_TAT,)</th>\n",
       "      <th>(V_TAT,)</th>\n",
       "    </tr>\n",
       "  </thead>\n",
       "  <tbody>\n",
       "    <tr>\n",
       "      <th>138</th>\n",
       "      <td>-0.552813</td>\n",
       "      <td>-1.526635</td>\n",
       "    </tr>\n",
       "    <tr>\n",
       "      <th>36</th>\n",
       "      <td>1.251448</td>\n",
       "      <td>-0.626634</td>\n",
       "    </tr>\n",
       "    <tr>\n",
       "      <th>169</th>\n",
       "      <td>-0.422184</td>\n",
       "      <td>-1.010526</td>\n",
       "    </tr>\n",
       "    <tr>\n",
       "      <th>143</th>\n",
       "      <td>-0.169331</td>\n",
       "      <td>-0.658483</td>\n",
       "    </tr>\n",
       "    <tr>\n",
       "      <th>126</th>\n",
       "      <td>0.880968</td>\n",
       "      <td>0.959403</td>\n",
       "    </tr>\n",
       "    <tr>\n",
       "      <th>133</th>\n",
       "      <td>0.099374</td>\n",
       "      <td>-0.572700</td>\n",
       "    </tr>\n",
       "    <tr>\n",
       "      <th>102</th>\n",
       "      <td>-0.876419</td>\n",
       "      <td>0.469733</td>\n",
       "    </tr>\n",
       "    <tr>\n",
       "      <th>32</th>\n",
       "      <td>-0.532830</td>\n",
       "      <td>-0.588487</td>\n",
       "    </tr>\n",
       "    <tr>\n",
       "      <th>120</th>\n",
       "      <td>0.268761</td>\n",
       "      <td>1.097057</td>\n",
       "    </tr>\n",
       "    <tr>\n",
       "      <th>145</th>\n",
       "      <td>-0.654530</td>\n",
       "      <td>0.612091</td>\n",
       "    </tr>\n",
       "    <tr>\n",
       "      <th>22</th>\n",
       "      <td>0.680545</td>\n",
       "      <td>1.560407</td>\n",
       "    </tr>\n",
       "    <tr>\n",
       "      <th>115</th>\n",
       "      <td>-0.154599</td>\n",
       "      <td>0.630353</td>\n",
       "    </tr>\n",
       "    <tr>\n",
       "      <th>163</th>\n",
       "      <td>-0.396631</td>\n",
       "      <td>0.156387</td>\n",
       "    </tr>\n",
       "    <tr>\n",
       "      <th>119</th>\n",
       "      <td>-0.979518</td>\n",
       "      <td>1.756148</td>\n",
       "    </tr>\n",
       "    <tr>\n",
       "      <th>85</th>\n",
       "      <td>-0.091684</td>\n",
       "      <td>3.075540</td>\n",
       "    </tr>\n",
       "    <tr>\n",
       "      <th>111</th>\n",
       "      <td>-0.856917</td>\n",
       "      <td>2.400800</td>\n",
       "    </tr>\n",
       "    <tr>\n",
       "      <th>109</th>\n",
       "      <td>-0.867184</td>\n",
       "      <td>-0.356468</td>\n",
       "    </tr>\n",
       "    <tr>\n",
       "      <th>161</th>\n",
       "      <td>3.219439</td>\n",
       "      <td>2.390211</td>\n",
       "    </tr>\n",
       "    <tr>\n",
       "      <th>51</th>\n",
       "      <td>2.030730</td>\n",
       "      <td>-1.087890</td>\n",
       "    </tr>\n",
       "    <tr>\n",
       "      <th>45</th>\n",
       "      <td>-0.580271</td>\n",
       "      <td>-0.621298</td>\n",
       "    </tr>\n",
       "    <tr>\n",
       "      <th>74</th>\n",
       "      <td>-1.341253</td>\n",
       "      <td>-1.060032</td>\n",
       "    </tr>\n",
       "    <tr>\n",
       "      <th>66</th>\n",
       "      <td>-0.994716</td>\n",
       "      <td>0.996643</td>\n",
       "    </tr>\n",
       "    <tr>\n",
       "      <th>122</th>\n",
       "      <td>1.149978</td>\n",
       "      <td>0.948374</td>\n",
       "    </tr>\n",
       "    <tr>\n",
       "      <th>96</th>\n",
       "      <td>-0.783632</td>\n",
       "      <td>-0.982472</td>\n",
       "    </tr>\n",
       "    <tr>\n",
       "      <th>13</th>\n",
       "      <td>1.401929</td>\n",
       "      <td>-0.524431</td>\n",
       "    </tr>\n",
       "    <tr>\n",
       "      <th>166</th>\n",
       "      <td>-0.694873</td>\n",
       "      <td>1.156052</td>\n",
       "    </tr>\n",
       "    <tr>\n",
       "      <th>86</th>\n",
       "      <td>-0.169477</td>\n",
       "      <td>1.709833</td>\n",
       "    </tr>\n",
       "    <tr>\n",
       "      <th>178</th>\n",
       "      <td>0.844391</td>\n",
       "      <td>0.786737</td>\n",
       "    </tr>\n",
       "    <tr>\n",
       "      <th>155</th>\n",
       "      <td>0.196757</td>\n",
       "      <td>1.612718</td>\n",
       "    </tr>\n",
       "    <tr>\n",
       "      <th>134</th>\n",
       "      <td>-0.711322</td>\n",
       "      <td>-0.965558</td>\n",
       "    </tr>\n",
       "    <tr>\n",
       "      <th>128</th>\n",
       "      <td>0.726953</td>\n",
       "      <td>-0.213836</td>\n",
       "    </tr>\n",
       "    <tr>\n",
       "      <th>24</th>\n",
       "      <td>0.416494</td>\n",
       "      <td>0.980938</td>\n",
       "    </tr>\n",
       "    <tr>\n",
       "      <th>167</th>\n",
       "      <td>1.352670</td>\n",
       "      <td>0.244563</td>\n",
       "    </tr>\n",
       "    <tr>\n",
       "      <th>125</th>\n",
       "      <td>-0.796910</td>\n",
       "      <td>-0.703836</td>\n",
       "    </tr>\n",
       "    <tr>\n",
       "      <th>97</th>\n",
       "      <td>-0.102999</td>\n",
       "      <td>-0.968198</td>\n",
       "    </tr>\n",
       "    <tr>\n",
       "      <th>78</th>\n",
       "      <td>-1.045807</td>\n",
       "      <td>2.430256</td>\n",
       "    </tr>\n",
       "  </tbody>\n",
       "</table>\n",
       "</div>"
      ],
      "text/plain": [
       "     (A_TAT,)  (V_TAT,)\n",
       "138 -0.552813 -1.526635\n",
       "36   1.251448 -0.626634\n",
       "169 -0.422184 -1.010526\n",
       "143 -0.169331 -0.658483\n",
       "126  0.880968  0.959403\n",
       "133  0.099374 -0.572700\n",
       "102 -0.876419  0.469733\n",
       "32  -0.532830 -0.588487\n",
       "120  0.268761  1.097057\n",
       "145 -0.654530  0.612091\n",
       "22   0.680545  1.560407\n",
       "115 -0.154599  0.630353\n",
       "163 -0.396631  0.156387\n",
       "119 -0.979518  1.756148\n",
       "85  -0.091684  3.075540\n",
       "111 -0.856917  2.400800\n",
       "109 -0.867184 -0.356468\n",
       "161  3.219439  2.390211\n",
       "51   2.030730 -1.087890\n",
       "45  -0.580271 -0.621298\n",
       "74  -1.341253 -1.060032\n",
       "66  -0.994716  0.996643\n",
       "122  1.149978  0.948374\n",
       "96  -0.783632 -0.982472\n",
       "13   1.401929 -0.524431\n",
       "166 -0.694873  1.156052\n",
       "86  -0.169477  1.709833\n",
       "178  0.844391  0.786737\n",
       "155  0.196757  1.612718\n",
       "134 -0.711322 -0.965558\n",
       "128  0.726953 -0.213836\n",
       "24   0.416494  0.980938\n",
       "167  1.352670  0.244563\n",
       "125 -0.796910 -0.703836\n",
       "97  -0.102999 -0.968198\n",
       "78  -1.045807  2.430256"
      ]
     },
     "execution_count": 65,
     "metadata": {},
     "output_type": "execute_result"
    }
   ],
   "source": [
    "(y_test-outMean)/outStd"
   ]
  },
  {
   "cell_type": "code",
   "execution_count": 66,
   "id": "84f6cfb2",
   "metadata": {},
   "outputs": [
    {
     "data": {
      "text/plain": [
       "(A_TAT,)    4727.863687\n",
       "(V_TAT,)    1321.990099\n",
       "dtype: float64"
      ]
     },
     "execution_count": 66,
     "metadata": {},
     "output_type": "execute_result"
    }
   ],
   "source": [
    "np.var(y_train)"
   ]
  },
  {
   "cell_type": "code",
   "execution_count": 67,
   "id": "4c773257",
   "metadata": {
    "scrolled": false
   },
   "outputs": [
    {
     "data": {
      "text/plain": [
       "array([[23.665706  , 20.1662698 , 22.88638616],\n",
       "       [ 6.81441349,  5.89142147,  7.03718353]])"
      ]
     },
     "execution_count": 67,
     "metadata": {},
     "output_type": "execute_result"
    }
   ],
   "source": [
    "MSE.T"
   ]
  },
  {
   "cell_type": "code",
   "execution_count": 68,
   "id": "33fd1e6f",
   "metadata": {
    "scrolled": true
   },
   "outputs": [
    {
     "data": {
      "text/plain": [
       "array([[0.99485969, 0.99561978, 0.99502896],\n",
       "       [0.99644184, 0.99692378, 0.99632552]])"
      ]
     },
     "execution_count": 68,
     "metadata": {},
     "output_type": "execute_result"
    }
   ],
   "source": [
    "(1-MSE/np.var(y_test).values).T"
   ]
  },
  {
   "cell_type": "code",
   "execution_count": 69,
   "id": "397efa9d",
   "metadata": {},
   "outputs": [],
   "source": [
    "CM_mean=GPEnsemblePredict(models,likelihoods,torch.tensor(((X_test-inputMean)/inputStd).values),outMean,outStd)[0].mean()\n",
    "CM_std=GPEnsemblePredict(models,likelihoods,torch.tensor(((X_test-inputMean)/inputStd).values),outMean,outStd)[0].std()"
   ]
  },
  {
   "cell_type": "code",
   "execution_count": 70,
   "id": "283c8db5",
   "metadata": {},
   "outputs": [
    {
     "data": {
      "text/plain": [
       "tensor(66.5295, grad_fn=<StdBackward0>)"
      ]
     },
     "execution_count": 70,
     "metadata": {},
     "output_type": "execute_result"
    }
   ],
   "source": [
    "CM_std"
   ]
  },
  {
   "cell_type": "code",
   "execution_count": 71,
   "id": "63ca686c",
   "metadata": {
    "scrolled": true
   },
   "outputs": [
    {
     "data": {
      "text/plain": [
       "tensor(100.)"
      ]
     },
     "execution_count": 71,
     "metadata": {},
     "output_type": "execute_result"
    }
   ],
   "source": [
    "100*sum(torch.FloatTensor.abs_(CM_mean-torch.tensor(y_test.values)[:,i])<2*CM_std)/36 "
   ]
  },
  {
   "cell_type": "code",
   "execution_count": 72,
   "id": "e3a79bf5",
   "metadata": {},
   "outputs": [
    {
     "data": {
      "text/plain": [
       "tensor([107.3936,  74.6703,  88.6283,  75.8283,  17.0033,  72.7093,  34.8073,\n",
       "         73.2833,  11.9983,  29.6313,   4.8487,  28.9673,  46.2003,  11.9657,\n",
       "         59.9377,  35.4047,  64.8473,  35.0197,  91.4412,  74.4763,  90.4283,\n",
       "         15.6493,  17.4043,  87.6083,  70.9543,   9.8533,  10.2817,  23.2813,\n",
       "          6.7507,  86.9933,  59.6613,  16.2203,  42.9943,  77.4773,  87.0893,\n",
       "         36.4757], dtype=torch.float64, grad_fn=<AbsBackward0>)"
      ]
     },
     "execution_count": 72,
     "metadata": {},
     "output_type": "execute_result"
    }
   ],
   "source": [
    "torch.FloatTensor.abs_(CM_mean-torch.tensor(y_test.values)[:,i])"
   ]
  },
  {
   "cell_type": "code",
   "execution_count": 73,
   "id": "f01b9bd8",
   "metadata": {},
   "outputs": [
    {
     "name": "stdout",
     "output_type": "stream",
     "text": [
      "tensor(66.5295, grad_fn=<StdBackward0>)\n",
      "tensor(66.7804, grad_fn=<StdBackward0>)\n",
      "tensor(66.5606, dtype=torch.float64, grad_fn=<StdBackward0>)\n",
      "58.33379363505046\n",
      "tensor(43.7268, grad_fn=<StdBackward0>)\n",
      "tensor(43.8729, grad_fn=<StdBackward0>)\n",
      "tensor(43.7705, dtype=torch.float64, grad_fn=<StdBackward0>)\n",
      "39.41406676577685\n"
     ]
    },
    {
     "name": "stderr",
     "output_type": "stream",
     "text": [
      "C:\\Users\\pmzcwl\\AppData\\Local\\Temp\\ipykernel_10596\\1106491507.py:22: UserWarning: To copy construct from a tensor, it is recommended to use sourceTensor.clone().detach() or sourceTensor.clone().detach().requires_grad_(True), rather than torch.tensor(sourceTensor).\n",
      "  ISE[2,i] =(100*sum(torch.FloatTensor.abs_(torch.tensor(LR_mean)-torch.tensor(y_test.values)[:,i])<2*LR_std)/36)\n",
      "C:\\Users\\pmzcwl\\AppData\\Local\\Temp\\ipykernel_10596\\1106491507.py:22: UserWarning: To copy construct from a tensor, it is recommended to use sourceTensor.clone().detach() or sourceTensor.clone().detach().requires_grad_(True), rather than torch.tensor(sourceTensor).\n",
      "  ISE[2,i] =(100*sum(torch.FloatTensor.abs_(torch.tensor(LR_mean)-torch.tensor(y_test.values)[:,i])<2*LR_std)/36)\n"
     ]
    }
   ],
   "source": [
    "ISE = np.zeros((4,2))\n",
    "for i in range(2):\n",
    "    CM_mean=GPEnsemblePredict(models,likelihoods,torch.tensor(((X_test-inputMean)/inputStd).values),outMean,outStd)[i].mean()\n",
    "    CM_std=GPEnsemblePredict(models,likelihoods,torch.tensor(((X_test-inputMean)/inputStd).values),outMean,outStd)[i].std()\n",
    "    \n",
    "    LM_mean=GPEnsemblePredict(modelsLR,likelihoodsLR,torch.tensor(((X_test-inputMean)/inputStd).values),outMean,outStd)[i].mean()\n",
    "    LM_std=GPEnsemblePredict(modelsLR,likelihoodsLR,torch.tensor(((X_test-inputMean)/inputStd).values),outMean,outStd)[i].std()\n",
    "    \n",
    "    LR_mean=LRGPEnsemblePredict(regression_model,modelsZM,likelihoodsZM,torch.tensor(((X_test-inputMean)/inputStd).values),outMean,outStd)[i].mean()\n",
    "    LR_std=LRGPEnsemblePredict(regression_model,modelsZM,likelihoodsZM,torch.tensor(((X_test-inputMean)/inputStd).values),outMean,outStd)[i].std()\n",
    "    \n",
    "    R_mean= (outStd[i]*(regression_model.predict(((X_test-inputMean)/inputStd))[:,i])+outMean[i]).mean()\n",
    "    R_std= (outStd[i]*(regression_model.predict(((X_test-inputMean)/inputStd))[:,i])+outMean[i]).std()\n",
    "    \n",
    "    print(CM_std)\n",
    "    print(LM_std)\n",
    "    print(LR_std)\n",
    "    print(R_std)\n",
    "    \n",
    "    ISE[0,i] =(100*sum(torch.FloatTensor.abs_(CM_mean-torch.tensor(y_test.values)[:,i])<2*CM_std)/36)\n",
    "    ISE[1,i] =(100*sum(torch.FloatTensor.abs_(LM_mean-torch.tensor(y_test.values)[:,i])<2*LM_std)/36)\n",
    "    ISE[2,i] =(100*sum(torch.FloatTensor.abs_(torch.tensor(LR_mean)-torch.tensor(y_test.values)[:,i])<2*LR_std)/36)\n",
    "    ISE[3,i] =(100*sum(torch.FloatTensor.abs_(torch.tensor(R_mean)-torch.tensor(y_test.values)[:,i])<2*R_std)/36)\n",
    "   "
   ]
  },
  {
   "cell_type": "code",
   "execution_count": 74,
   "id": "1d444d1e",
   "metadata": {},
   "outputs": [
    {
     "data": {
      "text/plain": [
       "array([[94.44444275, 94.44444275, 94.44444275, 94.44444275],\n",
       "       [97.22222137, 97.22222137, 97.22222137, 97.22222137]])"
      ]
     },
     "execution_count": 74,
     "metadata": {},
     "output_type": "execute_result"
    }
   ],
   "source": [
    "ISE.T"
   ]
  },
  {
   "cell_type": "code",
   "execution_count": 77,
   "id": "240a3ce5",
   "metadata": {},
   "outputs": [
    {
     "data": {
      "text/plain": [
       "tensor(203.5222, grad_fn=<MeanBackward0>)"
      ]
     },
     "execution_count": 77,
     "metadata": {},
     "output_type": "execute_result"
    }
   ],
   "source": [
    "CM_mean"
   ]
  },
  {
   "cell_type": "code",
   "execution_count": null,
   "id": "1375e674",
   "metadata": {},
   "outputs": [],
   "source": []
  },
  {
   "cell_type": "code",
   "execution_count": 103,
   "id": "f43bb8b4",
   "metadata": {},
   "outputs": [],
   "source": [
    "x_coord=np.linspace(1,36,36)"
   ]
  },
  {
   "cell_type": "code",
   "execution_count": 104,
   "id": "899cdc5d",
   "metadata": {},
   "outputs": [
    {
     "data": {
      "text/plain": [
       "array([ 1.,  2.,  3.,  4.,  5.,  6.,  7.,  8.,  9., 10., 11., 12., 13.,\n",
       "       14., 15., 16., 17., 18., 19., 20., 21., 22., 23., 24., 25., 26.,\n",
       "       27., 28., 29., 30., 31., 32., 33., 34., 35., 36.])"
      ]
     },
     "execution_count": 104,
     "metadata": {},
     "output_type": "execute_result"
    }
   ],
   "source": [
    "x_coord"
   ]
  },
  {
   "cell_type": "code",
   "execution_count": 156,
   "id": "3d110731",
   "metadata": {
    "scrolled": true
   },
   "outputs": [
    {
     "data": {
      "text/plain": [
       "[<matplotlib.lines.Line2D at 0x14bab0b0880>]"
      ]
     },
     "execution_count": 156,
     "metadata": {},
     "output_type": "execute_result"
    },
    {
     "data": {
      "image/png": "[encoded data removed]",
      "text/plain": [
       "<Figure size 640x480 with 1 Axes>"
      ]
     },
     "metadata": {},
     "output_type": "display_data"
    }
   ],
   "source": [
    "plt.plot(x_coord,((GPEnsemblePredict(models,likelihoods,torch.tensor(((X_test-inputMean)/inputStd).values),outMean,outStd)[0])).tolist(),'o')\n",
    "plt.plot(x_coord,y_test.values[:,0],'o')"
   ]
  },
  {
   "cell_type": "code",
   "execution_count": 157,
   "id": "058fb5e0",
   "metadata": {
    "scrolled": false
   },
   "outputs": [
    {
     "data": {
      "text/plain": [
       "[<matplotlib.lines.Line2D at 0x14bab10d5d0>]"
      ]
     },
     "execution_count": 157,
     "metadata": {},
     "output_type": "execute_result"
    },
    {
     "data": {
      "image/png": "[encoded data removed]",
      "text/plain": [
       "<Figure size 640x480 with 1 Axes>"
      ]
     },
     "metadata": {},
     "output_type": "display_data"
    }
   ],
   "source": [
    "plt.plot(x_coord,((GPEnsemblePredict(modelsLR,likelihoodsLR,torch.tensor(((X_test-inputMean)/inputStd).values),outMean,outStd)[0])).tolist(),'o')\n",
    "plt.plot(x_coord,y_test.values[:,0],'o')"
   ]
  },
  {
   "cell_type": "code",
   "execution_count": 158,
   "id": "d55cc904",
   "metadata": {},
   "outputs": [
    {
     "data": {
      "text/html": [
       "<div>\n",
       "<style scoped>\n",
       "    .dataframe tbody tr th:only-of-type {\n",
       "        vertical-align: middle;\n",
       "    }\n",
       "\n",
       "    .dataframe tbody tr th {\n",
       "        vertical-align: top;\n",
       "    }\n",
       "\n",
       "    .dataframe thead th {\n",
       "        text-align: right;\n",
       "    }\n",
       "</style>\n",
       "<table border=\"1\" class=\"dataframe\">\n",
       "  <thead>\n",
       "    <tr style=\"text-align: right;\">\n",
       "      <th></th>\n",
       "      <th>(A_TAT,)</th>\n",
       "      <th>(V_TAT,)</th>\n",
       "    </tr>\n",
       "  </thead>\n",
       "  <tbody>\n",
       "    <tr>\n",
       "      <th>0</th>\n",
       "      <td>127.156</td>\n",
       "      <td>227.8230</td>\n",
       "    </tr>\n",
       "    <tr>\n",
       "      <th>1</th>\n",
       "      <td>251.071</td>\n",
       "      <td>188.8540</td>\n",
       "    </tr>\n",
       "    <tr>\n",
       "      <th>2</th>\n",
       "      <td>163.448</td>\n",
       "      <td>164.8120</td>\n",
       "    </tr>\n",
       "    <tr>\n",
       "      <th>3</th>\n",
       "      <td>110.207</td>\n",
       "      <td>110.6940</td>\n",
       "    </tr>\n",
       "    <tr>\n",
       "      <th>4</th>\n",
       "      <td>140.815</td>\n",
       "      <td>136.1450</td>\n",
       "    </tr>\n",
       "    <tr>\n",
       "      <th>...</th>\n",
       "      <td>...</td>\n",
       "      <td>...</td>\n",
       "    </tr>\n",
       "    <tr>\n",
       "      <th>175</th>\n",
       "      <td>321.082</td>\n",
       "      <td>94.4139</td>\n",
       "    </tr>\n",
       "    <tr>\n",
       "      <th>176</th>\n",
       "      <td>141.936</td>\n",
       "      <td>190.0140</td>\n",
       "    </tr>\n",
       "    <tr>\n",
       "      <th>177</th>\n",
       "      <td>236.662</td>\n",
       "      <td>224.8330</td>\n",
       "    </tr>\n",
       "    <tr>\n",
       "      <th>178</th>\n",
       "      <td>248.667</td>\n",
       "      <td>167.9450</td>\n",
       "    </tr>\n",
       "    <tr>\n",
       "      <th>179</th>\n",
       "      <td>118.693</td>\n",
       "      <td>115.3070</td>\n",
       "    </tr>\n",
       "  </tbody>\n",
       "</table>\n",
       "<p>180 rows × 2 columns</p>\n",
       "</div>"
      ],
      "text/plain": [
       "     (A_TAT,)  (V_TAT,)\n",
       "0     127.156  227.8230\n",
       "1     251.071  188.8540\n",
       "2     163.448  164.8120\n",
       "3     110.207  110.6940\n",
       "4     140.815  136.1450\n",
       "..        ...       ...\n",
       "175   321.082   94.4139\n",
       "176   141.936  190.0140\n",
       "177   236.662  224.8330\n",
       "178   248.667  167.9450\n",
       "179   118.693  115.3070\n",
       "\n",
       "[180 rows x 2 columns]"
      ]
     },
     "execution_count": 158,
     "metadata": {},
     "output_type": "execute_result"
    }
   ],
   "source": [
    "y"
   ]
  },
  {
   "cell_type": "code",
   "execution_count": 159,
   "id": "3e3ac4f0",
   "metadata": {
    "scrolled": true
   },
   "outputs": [
    {
     "data": {
      "text/plain": [
       "array([[6.77523867, 3.09694647, 6.5655962 ],\n",
       "       [2.01242776, 0.92341371, 1.30493526]])"
      ]
     },
     "execution_count": 159,
     "metadata": {},
     "output_type": "execute_result"
    }
   ],
   "source": [
    "MSE.T"
   ]
  },
  {
   "cell_type": "code",
   "execution_count": 160,
   "id": "39566321",
   "metadata": {
    "scrolled": true
   },
   "outputs": [
    {
     "data": {
      "text/plain": [
       "(tensor([[232.3740, 136.0810, 109.7010, 174.1980, 145.9460, 257.4710, 251.0710,\n",
       "          263.6110, 132.4430, 253.4790, 238.0580, 269.6790, 102.4210, 251.1820,\n",
       "          243.3990, 293.9230, 200.8450, 200.1320, 307.7590, 140.8150, 143.6020,\n",
       "          141.6970, 131.8700, 236.3190, 181.9400, 284.2150, 194.9670, 116.6180,\n",
       "          275.1840, 110.2070, 120.4670, 262.3260, 256.6380, 328.2840, 200.1360,\n",
       "          172.4190]], dtype=torch.float64),\n",
       " tensor([[161.2020, 146.8570, 237.8320, 112.1920,  88.5843, 132.2110, 188.8540,\n",
       "          122.0900, 148.1340, 124.4890, 107.3120, 173.8220, 123.1670, 174.2230,\n",
       "          119.5790, 103.7740, 104.4230, 101.7830, 158.2120, 136.1450, 162.0710,\n",
       "          104.2330, 185.6180, 113.4480, 127.5390, 128.2440,  93.0340, 189.7530,\n",
       "          121.1850, 110.6940,  82.2549, 132.2110, 178.0800, 167.1690, 146.3500,\n",
       "          106.4440]], dtype=torch.float64))"
      ]
     },
     "execution_count": 160,
     "metadata": {},
     "output_type": "execute_result"
    }
   ],
   "source": [
    "torch.split(torch.tensor(y_test.values.T),1,dim=0)"
   ]
  },
  {
   "cell_type": "code",
   "execution_count": 161,
   "id": "c5c03d2e",
   "metadata": {
    "scrolled": true
   },
   "outputs": [
    {
     "data": {
      "text/plain": [
       "[tensor([228.0725, 134.5347, 108.1762, 174.5548, 145.6408, 257.6647, 249.3268,\n",
       "         264.2424, 133.1635, 253.9243, 237.2465, 274.2481, 102.4297, 247.4258,\n",
       "         239.2447, 290.9100, 200.3438, 198.7774, 308.5836, 140.4084, 142.7583,\n",
       "         141.8135, 130.9326, 236.3590, 182.6250, 283.2758, 195.2262, 116.2642,\n",
       "         276.3633, 108.8368, 121.1678, 260.2458, 254.3841, 328.1633, 198.5968,\n",
       "         172.9118], grad_fn=<AddBackward0>),\n",
       " tensor([161.1105, 147.3033, 237.6671, 111.9583,  87.5186, 130.2831, 190.1161,\n",
       "         121.9419, 148.7964, 123.4444, 108.2156, 174.7770, 122.0393, 174.6756,\n",
       "         119.1631, 103.8213, 104.4577, 101.1165, 158.9537, 136.4330, 162.6060,\n",
       "         104.0854, 183.1503, 113.9274, 127.3943, 127.4981,  93.0463, 189.4417,\n",
       "         121.5516, 113.3622,  80.6270, 132.0537, 176.4818, 167.7823, 146.1184,\n",
       "         106.9763], grad_fn=<AddBackward0>)]"
      ]
     },
     "execution_count": 161,
     "metadata": {},
     "output_type": "execute_result"
    }
   ],
   "source": [
    "GPEnsemblePredict(modelsLR,likelihoodsLR,torch.tensor(((X_test-inputMean)/inputStd).values),outMean,outStd)"
   ]
  },
  {
   "cell_type": "code",
   "execution_count": 162,
   "id": "cba3a690",
   "metadata": {
    "scrolled": true
   },
   "outputs": [
    {
     "data": {
      "text/plain": [
       "[tensor([[226.8208, 134.4579, 108.8654, 173.9575, 146.0838, 257.7415, 249.8304,\n",
       "          264.2484, 133.0002, 254.1894, 237.6765, 274.4265, 102.5071, 244.3748,\n",
       "          235.2921, 290.3613, 199.9911, 199.0793, 307.3518, 140.4182, 142.5207,\n",
       "          141.5482, 131.1738, 233.0501, 182.4045, 282.4176, 194.8222, 115.5600,\n",
       "          276.6222, 108.5086, 121.3982, 259.2599, 253.4481, 326.3896, 198.3210,\n",
       "          173.0942]], dtype=torch.float64, grad_fn=<AddBackward0>),\n",
       " tensor([[160.3166, 147.4448, 237.4199, 112.3579,  87.3981, 129.8752, 187.2737,\n",
       "          121.5061, 148.8175, 123.3226, 107.5177, 174.4551, 121.5513, 174.3898,\n",
       "          119.7258, 103.8646, 104.4672, 102.2637, 156.2610, 135.8787, 162.8987,\n",
       "          104.4298, 183.0562, 113.9255, 127.6618, 127.5584,  93.0303, 189.0387,\n",
       "          121.1605, 112.7072,  80.6886, 131.7951, 174.7289, 166.8961, 145.9119,\n",
       "          106.9073]], dtype=torch.float64, grad_fn=<AddBackward0>)]"
      ]
     },
     "execution_count": 162,
     "metadata": {},
     "output_type": "execute_result"
    }
   ],
   "source": [
    "LRGPEnsemblePredict(regression_model, modelsZM,likelihoodsZM,torch.tensor(((X_test-inputMean)/inputStd).values),outMean,outStd)"
   ]
  },
  {
   "cell_type": "code",
   "execution_count": 417,
   "id": "0a3b7bfa",
   "metadata": {},
   "outputs": [],
   "source": [
    "inputNorm,inputMean,inputStd = normalise(X)\n",
    "\n",
    "outputNorm,outMean,outStd=normalise(y)"
   ]
  },
  {
   "cell_type": "code",
   "execution_count": 418,
   "id": "050c41a3",
   "metadata": {
    "scrolled": false
   },
   "outputs": [
    {
     "name": "stdout",
     "output_type": "stream",
     "text": [
      "0\n",
      "1\n"
     ]
    }
   ],
   "source": [
    "models, likelihoods = GPEnsemble(inputNorm,outputNorm)"
   ]
  },
  {
   "cell_type": "code",
   "execution_count": 419,
   "id": "c5579f1d",
   "metadata": {
    "scrolled": false
   },
   "outputs": [
    {
     "name": "stdout",
     "output_type": "stream",
     "text": [
      "0\n",
      "1\n"
     ]
    }
   ],
   "source": [
    "modelsLR, likelihoodsLR = GPEnsemble(inputNorm,outputNorm,meanFunc=\"linear\")"
   ]
  },
  {
   "cell_type": "code",
   "execution_count": 420,
   "id": "9888f455",
   "metadata": {},
   "outputs": [
    {
     "name": "stdout",
     "output_type": "stream",
     "text": [
      "0\n",
      "1\n"
     ]
    }
   ],
   "source": [
    "regression_model, modelsZM, likelihoodsZM=LRGPEnsemble(inputNorm,outputNorm)"
   ]
  },
  {
   "cell_type": "code",
   "execution_count": null,
   "id": "258e6ae5",
   "metadata": {},
   "outputs": [],
   "source": []
  },
  {
   "cell_type": "code",
   "execution_count": 421,
   "id": "4321ac9b",
   "metadata": {},
   "outputs": [],
   "source": [
    "nMod=outputNorm.shape[1]\n",
    "nInput = inputNorm.shape[1]"
   ]
  },
  {
   "cell_type": "code",
   "execution_count": 422,
   "id": "b5d4515d",
   "metadata": {},
   "outputs": [
    {
     "name": "stdout",
     "output_type": "stream",
     "text": [
      "[0.380173, 0.798883]\n",
      "[0.200114, 0.499215]\n",
      "[1.2811, 8.39681]\n",
      "[0.300285, 1.02928]\n",
      "[0.201206, 0.499887]\n",
      "[1.02207, 5.67575]\n"
     ]
    }
   ],
   "source": [
    "boundsMaxMin = []\n",
    "for i in range(nDim):\n",
    "    boundsMaxMin.append([np.min(X_train.iloc[:,i]),np.max(X_train.iloc[:,i])])\n",
    "    print(boundsMaxMin[i])"
   ]
  },
  {
   "cell_type": "code",
   "execution_count": 423,
   "id": "62272c20",
   "metadata": {},
   "outputs": [
    {
     "name": "stdout",
     "output_type": "stream",
     "text": [
      "[-1.7299006611692156, 1.7225465552907784]\n",
      "[-1.7290789003370721, 1.7217277414801047]\n",
      "[-1.7253041777413964, 1.7297942760822342]\n",
      "[-1.7307000363223575, 1.7289863698084669]\n",
      "[-1.719926276162042, 1.7321604339951135]\n",
      "[-1.7149833104147123, 1.7142073787228762]\n"
     ]
    }
   ],
   "source": [
    "boundsMaxMin = []\n",
    "for i in range(nDim):\n",
    "    boundsMaxMin.append([np.min(inputNorm.iloc[:,i]),np.max(inputNorm.iloc[:,i])])\n",
    "    print(boundsMaxMin[i])"
   ]
  },
  {
   "cell_type": "code",
   "execution_count": 424,
   "id": "31d0cacb",
   "metadata": {
    "scrolled": true
   },
   "outputs": [
    {
     "name": "stderr",
     "output_type": "stream",
     "text": [
      "C:\\Users\\pmzcwl\\AppData\\Local\\Temp\\ipykernel_12632\\491133695.py:24: DeprecationWarning: `salib.sample.saltelli` will be removed in SALib 1.5. Please use `salib.sample.sobol`\n",
      "  param_values = saltelli.sample(problem, 4096)\n"
     ]
    }
   ],
   "source": [
    "##### from SALib.sample import saltelli\n",
    "from SALib.sample import saltelli\n",
    "from SALib.analyze import sobol\n",
    "from SALib.test_functions import Ishigami\n",
    "import numpy as np\n",
    "\n",
    "# Define the model inputs\n",
    "problem = {\n",
    "    'num_vars': nInput,\n",
    "    'names': x_labels,\n",
    "    'bounds': boundsMaxMin\n",
    "    #'bounds': [[-1, 1],\n",
    "     #          [-1, 1],\n",
    "      #         [-1, 1],\n",
    "       #        [-1, 1],\n",
    "        #       [-1, 1],\n",
    "         #      [-1, 1],\n",
    "          #     [-1, 1],\n",
    "           #    [-1, 1],\n",
    "            #   [-1,1]]\n",
    "}\n",
    "\n",
    "# Generate samples\n",
    "param_values = saltelli.sample(problem, 4096)\n",
    "\n",
    "data1 = torch.tensor(param_values)\n",
    "Ymean=GPEnsemblePredict(models,likelihoods,data1,outMean,outStd)\n",
    "YmeanLR = GPEnsemblePredict(modelsLR,likelihoodsLR,data1,outMean,outStd)\n",
    "# Run model (example)\n",
    "#outMean = np.mean(modelOutputOrig,axis=0)\n",
    "#outStd = np.std(modelOutputOrig,axis=0)\n",
    "#nMod = modelOutputOrig.shape[1]\n",
    "#Ymean=[]\n",
    "#for j in range(nMod):\n",
    "#    models[j].eval()\n",
    "#    #Ymean.append(np.zeros([param_values.shape[0]]))\n",
    "#    Ymean.append(outStd[j]*models[j](torch.tensor([np.hstack((param_values,np.zeros((param_values.shape[0],9))))])).mean+outMean[j])\n",
    "\n",
    "    "
   ]
  },
  {
   "cell_type": "code",
   "execution_count": 425,
   "id": "cd51fe12",
   "metadata": {},
   "outputs": [
    {
     "data": {
      "text/plain": [
       "torch.Size([57344, 6])"
      ]
     },
     "execution_count": 425,
     "metadata": {},
     "output_type": "execute_result"
    }
   ],
   "source": [
    "data1.size()"
   ]
  },
  {
   "cell_type": "code",
   "execution_count": 426,
   "id": "4d699d3b",
   "metadata": {
    "scrolled": true
   },
   "outputs": [
    {
     "name": "stdout",
     "output_type": "stream",
     "text": [
      "                        ST   ST_conf\n",
      "(CV_ventricles,)  0.000075  0.000014\n",
      "(k_ventricles,)   0.000030  0.000003\n",
      "(k_FEC,)          0.000034  0.000004\n",
      "(CV_atria,)       0.938864  0.036185\n",
      "(k_atria,)        0.023414  0.001218\n",
      "(k_BB,)           0.045284  0.002727\n",
      "                        S1   S1_conf\n",
      "(CV_ventricles,) -0.000011  0.000340\n",
      "(k_ventricles,)   0.000088  0.000230\n",
      "(k_FEC,)          0.000054  0.000236\n",
      "(CV_atria,)       0.930607  0.044612\n",
      "(k_atria,)        0.021079  0.006784\n",
      "(k_BB,)           0.040028  0.008847\n",
      "Empty DataFrame\n",
      "Columns: [S2, S2_conf]\n",
      "Index: []\n",
      "                        ST   ST_conf\n",
      "(CV_ventricles,)  0.628073  0.028360\n",
      "(k_ventricles,)   0.076157  0.003915\n",
      "(k_FEC,)          0.312103  0.017078\n",
      "(CV_atria,)       0.000075  0.000006\n",
      "(k_atria,)        0.000105  0.000010\n",
      "(k_BB,)           0.000080  0.000008\n",
      "                        S1   S1_conf\n",
      "(CV_ventricles,)  0.612403  0.035002\n",
      "(k_ventricles,)   0.072224  0.012516\n",
      "(k_FEC,)          0.298488  0.026896\n",
      "(CV_atria,)       0.000002  0.000361\n",
      "(k_atria,)       -0.000029  0.000415\n",
      "(k_BB,)           0.000221  0.000346\n",
      "Empty DataFrame\n",
      "Columns: [S2, S2_conf]\n",
      "Index: []\n"
     ]
    }
   ],
   "source": [
    "Si = []\n",
    "for i in range(nMod):\n",
    "    Si.append(sobol.analyze(problem, Ymean[i].detach().numpy(), print_to_console=True))"
   ]
  },
  {
   "cell_type": "code",
   "execution_count": 427,
   "id": "4117f24e",
   "metadata": {},
   "outputs": [
    {
     "name": "stdout",
     "output_type": "stream",
     "text": [
      "                        ST       ST_conf\n",
      "(CV_ventricles,)  0.000045  4.138406e-06\n",
      "(k_ventricles,)   0.000010  6.964893e-07\n",
      "(k_FEC,)          0.000011  8.939184e-07\n",
      "(CV_atria,)       0.938477  3.175822e-02\n",
      "(k_atria,)        0.023277  1.332086e-03\n",
      "(k_BB,)           0.045768  2.536671e-03\n",
      "                        S1   S1_conf\n",
      "(CV_ventricles,)  0.000013  0.000278\n",
      "(k_ventricles,)   0.000015  0.000127\n",
      "(k_FEC,)          0.000007  0.000134\n",
      "(CV_atria,)       0.930130  0.040867\n",
      "(k_atria,)        0.021391  0.007120\n",
      "(k_BB,)           0.040401  0.010642\n",
      "Empty DataFrame\n",
      "Columns: [S2, S2_conf]\n",
      "Index: []\n",
      "                        ST   ST_conf\n",
      "(CV_ventricles,)  0.627238  0.026080\n",
      "(k_ventricles,)   0.076460  0.004233\n",
      "(k_FEC,)          0.312495  0.013470\n",
      "(CV_atria,)       0.000093  0.000009\n",
      "(k_atria,)        0.000118  0.000013\n",
      "(k_BB,)           0.000061  0.000007\n",
      "                        S1   S1_conf\n",
      "(CV_ventricles,)  0.611757  0.032679\n",
      "(k_ventricles,)   0.072558  0.013133\n",
      "(k_FEC,)          0.299079  0.026868\n",
      "(CV_atria,)       0.000002  0.000379\n",
      "(k_atria,)        0.000037  0.000433\n",
      "(k_BB,)           0.000092  0.000307\n",
      "Empty DataFrame\n",
      "Columns: [S2, S2_conf]\n",
      "Index: []\n"
     ]
    }
   ],
   "source": [
    "SiLR = []\n",
    "for i in range(nMod):\n",
    "    SiLR.append(sobol.analyze(problem, YmeanLR[i].detach().numpy(), print_to_console=True))"
   ]
  },
  {
   "cell_type": "markdown",
   "id": "db77652c",
   "metadata": {},
   "source": [
    "# Model 2: Linear regression + Zero Mean GP"
   ]
  },
  {
   "cell_type": "code",
   "execution_count": null,
   "id": "65011443",
   "metadata": {},
   "outputs": [],
   "source": []
  },
  {
   "cell_type": "code",
   "execution_count": 428,
   "id": "c4994a5d",
   "metadata": {
    "scrolled": true
   },
   "outputs": [],
   "source": [
    "\n",
    "\n",
    "# generate random data-set\n",
    "\n",
    "# sckit-learn implementation\n",
    "\n",
    "# Model initialization\n",
    "#regression_model = LinearRegression()\n",
    "# Fit the data(train the model)\n",
    "#regression_model.fit(modeWeights, modelOutput)\n",
    "# Predict\n",
    "#y_predicted = regression_model.predict(modeWeights)\n",
    "\n",
    "# model evaluation\n",
    "#rmse = mean_squared_error(modelOutput, y_predicted)\n",
    "#r2 = r2_score(modelOutput, y_predicted)\n",
    "\n",
    "# printing values\n",
    "#print('Slope:' ,regression_model.coef_)\n",
    "#print('Intercept:', regression_model.intercept_)\n",
    "#print('Root mean squared error: ', rmse)\n",
    "#print('R2 score: ', r2)\n"
   ]
  },
  {
   "cell_type": "code",
   "execution_count": 429,
   "id": "472e06ff",
   "metadata": {},
   "outputs": [],
   "source": [
    "#modelOutputAdjusted = modelOutput - y_predicted"
   ]
  },
  {
   "cell_type": "code",
   "execution_count": 430,
   "id": "3d00913f",
   "metadata": {},
   "outputs": [],
   "source": [
    "#modelsZM, likelihoodsZM = GPEnsemble(modeWeights,modelOutputAdjusted,zeroMean=True)"
   ]
  },
  {
   "cell_type": "code",
   "execution_count": 431,
   "id": "2fa8d79c",
   "metadata": {
    "scrolled": false
   },
   "outputs": [],
   "source": [
    "YmeanSens = LRGPEnsemblePredict(regression_model,modelsZM,likelihoodsZM,data1,outMean,outStd)"
   ]
  },
  {
   "cell_type": "code",
   "execution_count": 432,
   "id": "045e2be1",
   "metadata": {
    "scrolled": true
   },
   "outputs": [
    {
     "name": "stdout",
     "output_type": "stream",
     "text": [
      "                        ST   ST_conf\n",
      "(CV_ventricles,)  0.000051  0.000007\n",
      "(k_ventricles,)   0.000016  0.000001\n",
      "(k_FEC,)          0.000016  0.000001\n",
      "(CV_atria,)       0.939189  0.032891\n",
      "(k_atria,)        0.023155  0.001268\n",
      "(k_BB,)           0.045204  0.002843\n",
      "                        S1   S1_conf\n",
      "(CV_ventricles,)  0.000009  0.000317\n",
      "(k_ventricles,)   0.000045  0.000192\n",
      "(k_FEC,)          0.000025  0.000185\n",
      "(CV_atria,)       0.930988  0.038549\n",
      "(k_atria,)        0.020994  0.006453\n",
      "(k_BB,)           0.039896  0.011688\n",
      "Empty DataFrame\n",
      "Columns: [S2, S2_conf]\n",
      "Index: []\n",
      "                        ST   ST_conf\n",
      "(CV_ventricles,)  0.627434  0.026596\n",
      "(k_ventricles,)   0.076617  0.004371\n",
      "(k_FEC,)          0.312188  0.014778\n",
      "(CV_atria,)       0.000060  0.000006\n",
      "(k_atria,)        0.000101  0.000010\n",
      "(k_BB,)           0.000050  0.000005\n",
      "                        S1   S1_conf\n",
      "(CV_ventricles,)  0.611835  0.030275\n",
      "(k_ventricles,)   0.072694  0.012511\n",
      "(k_FEC,)          0.298665  0.027450\n",
      "(CV_atria,)      -0.000012  0.000331\n",
      "(k_atria,)       -0.000013  0.000470\n",
      "(k_BB,)           0.000161  0.000321\n",
      "Empty DataFrame\n",
      "Columns: [S2, S2_conf]\n",
      "Index: []\n"
     ]
    }
   ],
   "source": [
    "SiZM = []\n",
    "for i in range(nMod):\n",
    "    SiZM.append(sobol.analyze(problem, YmeanSens[i].detach().numpy().squeeze(), print_to_console=True))"
   ]
  },
  {
   "cell_type": "code",
   "execution_count": 433,
   "id": "d8c5083b",
   "metadata": {},
   "outputs": [],
   "source": [
    "SiZM_first=np.zeros((nInput,nMod))\n",
    "SiZM_total=np.zeros((nInput,nMod))\n",
    "Si_first=np.zeros((nInput,nMod))\n",
    "Si_total=np.zeros((nInput,nMod))\n",
    "SiLR_first=np.zeros((nInput,nMod))\n",
    "SiLR_total=np.zeros((nInput,nMod))\n",
    "for i in range(nMod):\n",
    "    total_Si, first_Si, second_Si = SiZM[i].to_df()\n",
    "    SiZM_first[:,i] =  first_Si.iloc[:,0]\n",
    "    SiZM_total[:,i] =  total_Si.iloc[:,0]\n",
    "    \n",
    "    total_Si, first_Si, second_Si = Si[i].to_df()\n",
    "    Si_first[:,i] =  first_Si.iloc[:,0]\n",
    "    Si_total[:,i] =  total_Si.iloc[:,0]\n",
    "    \n",
    "    total_Si, first_Si, second_Si = SiLR[i].to_df()\n",
    "    SiLR_first[:,i] =  first_Si.iloc[:,0]\n",
    "    SiLR_total[:,i] =  total_Si.iloc[:,0]"
   ]
  },
  {
   "cell_type": "markdown",
   "id": "49359da0",
   "metadata": {},
   "source": [
    "## Linear Regression + GP"
   ]
  },
  {
   "cell_type": "code",
   "execution_count": 434,
   "id": "1e0f5336",
   "metadata": {
    "scrolled": false
   },
   "outputs": [
    {
     "data": {
      "text/plain": [
       "<matplotlib.colorbar.Colorbar at 0x14bee4b7460>"
      ]
     },
     "execution_count": 434,
     "metadata": {},
     "output_type": "execute_result"
    },
    {
     "data": {
      "image/png": "[encoded data removed]",
      "text/plain": [
       "<Figure size 640x480 with 2 Axes>"
      ]
     },
     "metadata": {},
     "output_type": "display_data"
    }
   ],
   "source": [
    "inputs = x_labels.values.tolist()\n",
    "outputs = y_labels.values.tolist()\n",
    "fig, ax = plt.subplots()\n",
    "im = ax.imshow(SiZM_first.T,cmap='magma_r',vmin=0,vmax=1)\n",
    "\n",
    "ax.set_yticks(np.arange(len(outputs)), labels=outputs)\n",
    "ax.set_xticks(np.arange(len(inputs)), labels=inputs)\n",
    "plt.setp(ax.get_xticklabels(), rotation=60, ha=\"right\",\n",
    "         rotation_mode=\"anchor\");\n",
    "\n",
    "plt.colorbar(im,fraction=0.015, pad=0.04)"
   ]
  },
  {
   "cell_type": "code",
   "execution_count": 435,
   "id": "2cee066e",
   "metadata": {
    "scrolled": true
   },
   "outputs": [
    {
     "data": {
      "text/plain": [
       "array([8.67366537e-06, 4.52151198e-05, 2.46551138e-05, 9.30988411e-01,\n",
       "       2.09936596e-02, 3.98963884e-02])"
      ]
     },
     "execution_count": 435,
     "metadata": {},
     "output_type": "execute_result"
    }
   ],
   "source": [
    "SiZM_first[:,0]"
   ]
  },
  {
   "cell_type": "code",
   "execution_count": 178,
   "id": "8e79bc36",
   "metadata": {
    "scrolled": true
   },
   "outputs": [
    {
     "data": {
      "image/png": "[encoded data removed]",
      "text/plain": [
       "<Figure size 640x480 with 1 Axes>"
      ]
     },
     "metadata": {},
     "output_type": "display_data"
    }
   ],
   "source": [
    "fig, ax = plt.subplots()\n",
    "ax.pie(SiZM_first[:,0]/np.max(SiZM_first[:,0]), labels=inputs);\n"
   ]
  },
  {
   "cell_type": "code",
   "execution_count": 179,
   "id": "312245c9",
   "metadata": {
    "scrolled": true
   },
   "outputs": [
    {
     "data": {
      "text/plain": [
       "<matplotlib.colorbar.Colorbar at 0x14baae22950>"
      ]
     },
     "execution_count": 179,
     "metadata": {},
     "output_type": "execute_result"
    },
    {
     "data": {
      "image/png": "[encoded data removed]",
      "text/plain": [
       "<Figure size 640x480 with 2 Axes>"
      ]
     },
     "metadata": {},
     "output_type": "display_data"
    }
   ],
   "source": [
    "fig, ax = plt.subplots()\n",
    "im = ax.imshow(SiZM_total.T,cmap='magma_r',vmin=0,vmax=1)\n",
    "\n",
    "ax.set_yticks(np.arange(len(outputs)), labels=outputs)\n",
    "ax.set_xticks(np.arange(len(inputs)), labels=inputs)\n",
    "plt.setp(ax.get_xticklabels(), rotation=60, ha=\"right\",\n",
    "         rotation_mode=\"anchor\");\n",
    "plt.colorbar(im,fraction=0.015, pad=0.04)"
   ]
  },
  {
   "cell_type": "markdown",
   "id": "9cebddcc",
   "metadata": {},
   "source": [
    "## Basic GP"
   ]
  },
  {
   "cell_type": "code",
   "execution_count": 180,
   "id": "f1726932",
   "metadata": {},
   "outputs": [
    {
     "data": {
      "text/plain": [
       "0.9416977140591901"
      ]
     },
     "execution_count": 180,
     "metadata": {},
     "output_type": "execute_result"
    }
   ],
   "source": [
    "np.max(SiZM_total)"
   ]
  },
  {
   "cell_type": "code",
   "execution_count": 181,
   "id": "65ce8e27",
   "metadata": {
    "scrolled": false
   },
   "outputs": [
    {
     "data": {
      "text/plain": [
       "<matplotlib.colorbar.Colorbar at 0x14baaebf9d0>"
      ]
     },
     "execution_count": 181,
     "metadata": {},
     "output_type": "execute_result"
    },
    {
     "data": {
      "image/png": "[encoded data removed]",
      "text/plain": [
       "<Figure size 640x480 with 2 Axes>"
      ]
     },
     "metadata": {},
     "output_type": "display_data"
    }
   ],
   "source": [
    "fig, ax = plt.subplots()\n",
    "im = ax.imshow(Si_total.T,cmap='magma_r',vmin=0,vmax=1)\n",
    "\n",
    "ax.set_yticks(np.arange(len(outputs)), labels=outputs)\n",
    "ax.set_xticks(np.arange(len(inputs)), labels=inputs)\n",
    "plt.setp(ax.get_xticklabels(), rotation=60, ha=\"right\",\n",
    "         rotation_mode=\"anchor\");\n",
    "\n",
    "plt.colorbar(im,fraction=0.015, pad=0.04)"
   ]
  },
  {
   "cell_type": "code",
   "execution_count": 436,
   "id": "4d763185",
   "metadata": {},
   "outputs": [
    {
     "data": {
      "text/plain": [
       "array([-1.07773428e-05,  8.75360603e-05,  5.38142588e-05,  9.30606615e-01,\n",
       "        2.10794013e-02,  4.00277766e-02])"
      ]
     },
     "execution_count": 436,
     "metadata": {},
     "output_type": "execute_result"
    }
   ],
   "source": [
    "Si_first[:,0]"
   ]
  },
  {
   "cell_type": "code",
   "execution_count": 437,
   "id": "9102d996",
   "metadata": {
    "scrolled": false
   },
   "outputs": [
    {
     "ename": "ValueError",
     "evalue": "Wedge sizes 'x' must be non negative values",
     "output_type": "error",
     "traceback": [
      "\u001b[1;31m---------------------------------------------------------------------------\u001b[0m",
      "\u001b[1;31mValueError\u001b[0m                                Traceback (most recent call last)",
      "Cell \u001b[1;32mIn[437], line 2\u001b[0m\n\u001b[0;32m      1\u001b[0m fig, ax \u001b[38;5;241m=\u001b[39m plt\u001b[38;5;241m.\u001b[39msubplots()\n\u001b[1;32m----> 2\u001b[0m \u001b[43max\u001b[49m\u001b[38;5;241;43m.\u001b[39;49m\u001b[43mpie\u001b[49m\u001b[43m(\u001b[49m\u001b[43mSi_first\u001b[49m\u001b[43m[\u001b[49m\u001b[43m:\u001b[49m\u001b[43m,\u001b[49m\u001b[38;5;241;43m0\u001b[39;49m\u001b[43m]\u001b[49m\u001b[38;5;241;43m/\u001b[39;49m\u001b[43mnp\u001b[49m\u001b[38;5;241;43m.\u001b[39;49m\u001b[43mmax\u001b[49m\u001b[43m(\u001b[49m\u001b[43mSi_first\u001b[49m\u001b[43m[\u001b[49m\u001b[43m:\u001b[49m\u001b[43m,\u001b[49m\u001b[38;5;241;43m0\u001b[39;49m\u001b[43m]\u001b[49m\u001b[43m)\u001b[49m\u001b[43m,\u001b[49m\u001b[43m \u001b[49m\u001b[43mlabels\u001b[49m\u001b[38;5;241;43m=\u001b[39;49m\u001b[43minputs\u001b[49m\u001b[43m)\u001b[49m\n",
      "File \u001b[1;32m~\\AppData\\Local\\anaconda3\\lib\\site-packages\\matplotlib\\__init__.py:1442\u001b[0m, in \u001b[0;36m_preprocess_data.<locals>.inner\u001b[1;34m(ax, data, *args, **kwargs)\u001b[0m\n\u001b[0;32m   1439\u001b[0m \u001b[38;5;129m@functools\u001b[39m\u001b[38;5;241m.\u001b[39mwraps(func)\n\u001b[0;32m   1440\u001b[0m \u001b[38;5;28;01mdef\u001b[39;00m \u001b[38;5;21minner\u001b[39m(ax, \u001b[38;5;241m*\u001b[39margs, data\u001b[38;5;241m=\u001b[39m\u001b[38;5;28;01mNone\u001b[39;00m, \u001b[38;5;241m*\u001b[39m\u001b[38;5;241m*\u001b[39mkwargs):\n\u001b[0;32m   1441\u001b[0m     \u001b[38;5;28;01mif\u001b[39;00m data \u001b[38;5;129;01mis\u001b[39;00m \u001b[38;5;28;01mNone\u001b[39;00m:\n\u001b[1;32m-> 1442\u001b[0m         \u001b[38;5;28;01mreturn\u001b[39;00m func(ax, \u001b[38;5;241m*\u001b[39m\u001b[38;5;28mmap\u001b[39m(sanitize_sequence, args), \u001b[38;5;241m*\u001b[39m\u001b[38;5;241m*\u001b[39mkwargs)\n\u001b[0;32m   1444\u001b[0m     bound \u001b[38;5;241m=\u001b[39m new_sig\u001b[38;5;241m.\u001b[39mbind(ax, \u001b[38;5;241m*\u001b[39margs, \u001b[38;5;241m*\u001b[39m\u001b[38;5;241m*\u001b[39mkwargs)\n\u001b[0;32m   1445\u001b[0m     auto_label \u001b[38;5;241m=\u001b[39m (bound\u001b[38;5;241m.\u001b[39marguments\u001b[38;5;241m.\u001b[39mget(label_namer)\n\u001b[0;32m   1446\u001b[0m                   \u001b[38;5;129;01mor\u001b[39;00m bound\u001b[38;5;241m.\u001b[39mkwargs\u001b[38;5;241m.\u001b[39mget(label_namer))\n",
      "File \u001b[1;32m~\\AppData\\Local\\anaconda3\\lib\\site-packages\\matplotlib\\axes\\_axes.py:3196\u001b[0m, in \u001b[0;36mAxes.pie\u001b[1;34m(self, x, explode, labels, colors, autopct, pctdistance, shadow, labeldistance, startangle, radius, counterclock, wedgeprops, textprops, center, frame, rotatelabels, normalize, hatch)\u001b[0m\n\u001b[0;32m   3193\u001b[0m     \u001b[38;5;28;01mraise\u001b[39;00m \u001b[38;5;167;01mValueError\u001b[39;00m(\u001b[38;5;124m\"\u001b[39m\u001b[38;5;124mx must be 1D\u001b[39m\u001b[38;5;124m\"\u001b[39m)\n\u001b[0;32m   3195\u001b[0m \u001b[38;5;28;01mif\u001b[39;00m np\u001b[38;5;241m.\u001b[39many(x \u001b[38;5;241m<\u001b[39m \u001b[38;5;241m0\u001b[39m):\n\u001b[1;32m-> 3196\u001b[0m     \u001b[38;5;28;01mraise\u001b[39;00m \u001b[38;5;167;01mValueError\u001b[39;00m(\u001b[38;5;124m\"\u001b[39m\u001b[38;5;124mWedge sizes \u001b[39m\u001b[38;5;124m'\u001b[39m\u001b[38;5;124mx\u001b[39m\u001b[38;5;124m'\u001b[39m\u001b[38;5;124m must be non negative values\u001b[39m\u001b[38;5;124m\"\u001b[39m)\n\u001b[0;32m   3198\u001b[0m sx \u001b[38;5;241m=\u001b[39m x\u001b[38;5;241m.\u001b[39msum()\n\u001b[0;32m   3200\u001b[0m \u001b[38;5;28;01mif\u001b[39;00m normalize:\n",
      "\u001b[1;31mValueError\u001b[0m: Wedge sizes 'x' must be non negative values"
     ]
    },
    {
     "data": {
      "image/png": "[encoded data removed]",
      "text/plain": [
       "<Figure size 640x480 with 1 Axes>"
      ]
     },
     "metadata": {},
     "output_type": "display_data"
    }
   ],
   "source": [
    "fig, ax = plt.subplots()\n",
    "ax.pie(Si_first[:,0]/np.max(Si_first[:,0]), labels=inputs);\n"
   ]
  },
  {
   "cell_type": "code",
   "execution_count": 438,
   "id": "ca8a2123",
   "metadata": {},
   "outputs": [
    {
     "data": {
      "text/plain": [
       "<matplotlib.colorbar.Colorbar at 0x14bf18a4460>"
      ]
     },
     "execution_count": 438,
     "metadata": {},
     "output_type": "execute_result"
    },
    {
     "data": {
      "image/png": "[encoded data removed]",
      "text/plain": [
       "<Figure size 640x480 with 2 Axes>"
      ]
     },
     "metadata": {},
     "output_type": "display_data"
    }
   ],
   "source": [
    "fig, ax = plt.subplots()\n",
    "im = ax.imshow(Si_first.T,cmap='magma_r',vmin=0,vmax=1)\n",
    "\n",
    "ax.set_yticks(np.arange(len(outputs)), labels=outputs)\n",
    "ax.set_xticks(np.arange(len(inputs)), labels=inputs)\n",
    "plt.setp(ax.get_xticklabels(), rotation=60, ha=\"right\",\n",
    "         rotation_mode=\"anchor\");\n",
    "\n",
    "plt.colorbar(im,fraction=0.015, pad=0.04)"
   ]
  },
  {
   "cell_type": "markdown",
   "id": "ceb14880",
   "metadata": {},
   "source": [
    "# Linear Mean GP"
   ]
  },
  {
   "cell_type": "code",
   "execution_count": 439,
   "id": "bc55e0ac",
   "metadata": {
    "scrolled": false
   },
   "outputs": [
    {
     "data": {
      "text/plain": [
       "<matplotlib.colorbar.Colorbar at 0x14bf1d757e0>"
      ]
     },
     "execution_count": 439,
     "metadata": {},
     "output_type": "execute_result"
    },
    {
     "data": {
      "image/png": "[encoded data removed]",
      "text/plain": [
       "<Figure size 640x480 with 2 Axes>"
      ]
     },
     "metadata": {},
     "output_type": "display_data"
    }
   ],
   "source": [
    "fig, ax = plt.subplots()\n",
    "im = ax.imshow(SiLR_total.T,cmap='magma_r',vmin=0,vmax=1)\n",
    "\n",
    "ax.set_yticks(np.arange(len(outputs)), labels=outputs)\n",
    "ax.set_xticks(np.arange(len(inputs)), labels=inputs)\n",
    "plt.setp(ax.get_xticklabels(), rotation=60, ha=\"right\",\n",
    "         rotation_mode=\"anchor\");\n",
    "\n",
    "plt.colorbar(im,fraction=0.015, pad=0.04)"
   ]
  },
  {
   "cell_type": "code",
   "execution_count": 440,
   "id": "ba88c86e",
   "metadata": {},
   "outputs": [
    {
     "data": {
      "text/plain": [
       "0.00011476309737190604"
      ]
     },
     "execution_count": 440,
     "metadata": {},
     "output_type": "execute_result"
    }
   ],
   "source": [
    "modelsZM[1].likelihood.noise.item()"
   ]
  },
  {
   "cell_type": "markdown",
   "id": "a22e9d6f",
   "metadata": {},
   "source": [
    "# Leave one out MSE"
   ]
  },
  {
   "cell_type": "code",
   "execution_count": 192,
   "id": "164cf753",
   "metadata": {},
   "outputs": [],
   "source": [
    "import random"
   ]
  },
  {
   "cell_type": "code",
   "execution_count": 193,
   "id": "a6e5eeea",
   "metadata": {},
   "outputs": [],
   "source": [
    "def standardise(data,mean,std):\n",
    "    dataStandard = (data-mean)/std.T\n",
    "    return dataStandard"
   ]
  },
  {
   "cell_type": "code",
   "execution_count": 194,
   "id": "48cd9338",
   "metadata": {},
   "outputs": [],
   "source": [
    "def EnsembleMSE(models,likelihoods,modelInput,modelOutput):\n",
    "    MSE = np.zeros(modelOutput.shape[1])\n",
    "    nMod=len(models)\n",
    "    for i in range(nMod):\n",
    "        models[i].eval()\n",
    "        likelihoods[i].eval()\n",
    "        MSE[i] = (((outputTrainStd[i]*likelihoods[i](models[i](torch.tensor(modelInput.values).float())).mean-outputTrainStd[i]*torch.tensor(modelOutput.iloc[:,i].values))**2).mean());\n",
    "    return MSE"
   ]
  },
  {
   "cell_type": "code",
   "execution_count": 195,
   "id": "5e7edc16",
   "metadata": {},
   "outputs": [],
   "source": [
    "def LREnsembleMSE(GPmodels,likelihoods,LRModel,modelInput,modelOutput):\n",
    "    MSE = np.zeros(modelOutput.shape[1])\n",
    "    nMod = len(models)\n",
    "    y_predicted = regression_model.predict(modelInput)\n",
    "    for i in range(nMod):\n",
    "        GPmodels[i].eval()\n",
    "        likelihoods[i].eval()\n",
    "        MSE[i] = (((outputTrainStd[i]*(torch.tensor(y_predicted[:,i])+likelihoods[i](GPmodels[i](torch.tensor(modelInput.values).float())).mean)-outputTrainStd[i]*torch.tensor(modelOutput.iloc[:,i].values))**2).mean());\n",
    "    return MSE"
   ]
  },
  {
   "cell_type": "code",
   "execution_count": 196,
   "id": "5f54077a",
   "metadata": {},
   "outputs": [
    {
     "data": {
      "text/plain": [
       "[13, 25, 41, 1, 29, 31, 45, 24, 44, 36]"
      ]
     },
     "execution_count": 196,
     "metadata": {},
     "output_type": "execute_result"
    }
   ],
   "source": [
    "random.sample(range(0,50),10)"
   ]
  },
  {
   "cell_type": "code",
   "execution_count": 197,
   "id": "b6daab8c",
   "metadata": {
    "scrolled": false
   },
   "outputs": [],
   "source": [
    "GP_MSE = np.zeros(outputNorm.shape[1])\n",
    "LRGP_MSE = np.zeros(outputNorm.shape[1])\n",
    "LMGP_MSE = np.zeros(outputNorm.shape[1])\n",
    "iters = inputNorm.shape[0]\n",
    "nMod = outputNorm.shape[1]\n",
    "\n",
    "for i in range(iters):\n",
    "\n",
    "    models2=[]\n",
    "    likelihoods2=[]\n",
    "    \n",
    "    modelsLR2 = []\n",
    "    likelihoodsLR2=[]\n",
    "    \n",
    "    modelsZM2=[]\n",
    "    likelihoodsZM2=[]\n",
    "    \n",
    "\n",
    "    testIndices = [i]\n",
    "    inputTest = inputOrig.iloc[testIndices,:]\n",
    "    inputTrain = inputOrig[~inputOrig.index.isin([inputOrig.index[i]])]\n",
    "    outputTest = outputOrig.iloc[testIndices,:]\n",
    "    outputTrain = outputOrig.iloc[~outputOrig.index.isin([outputOrig.index[i]])]\n",
    "    \n",
    "    inputTrainNorm,inputTrainMean,inputTrainStd = normalise(inputTrain)\n",
    "    inputTestNorm=(inputTest-inputTrainMean)/inputTrainStd\n",
    "    \n",
    "    outputTrainNorm,outputTrainMean,outputTrainStd = normalise(outputTrain)\n",
    "    outputTestNorm=(outputTest-outputTrainMean)/outputTrainStd\n",
    "    \n",
    "    y_predicted = regression_model.predict(inputTrainNorm)\n",
    "\n",
    "    for j in range(nMod):\n",
    "\n",
    "        likelihood2 = gpytorch.likelihoods.GaussianLikelihood()\n",
    "        model2 = ExactGPModel(torch.tensor(inputTrainNorm.values), torch.tensor(outputTrainNorm.iloc[:,j].values).squeeze(), likelihood2)\n",
    "\n",
    "\n",
    "        model2.likelihood.noise_covar.noise= models[j].likelihood.noise_covar.noise,\n",
    "        model2.covar_module.base_kernel.lengthscale= models[j].covar_module.base_kernel.lengthscale.tolist(),\n",
    "        model2.covar_module.outputscale=models[j].covar_module.outputscale,\n",
    "        model2.mean_module.constant=models[j].mean_module.constant.tolist()\n",
    "        model2.train()\n",
    "        models2.append(model2)\n",
    "        likelihoods2.append(likelihood2)\n",
    "        \n",
    "        likelihoodLR2 = gpytorch.likelihoods.GaussianLikelihood()\n",
    "        modelLR2 = ExactLRGPModel(torch.tensor(inputTrainNorm.values).float(), torch.tensor(outputTrainNorm.iloc[:,j].values).squeeze().float(), likelihoodLR2)\n",
    "\n",
    "\n",
    "        modelLR2.likelihood.noise_covar.noise= modelsLR[j].likelihood.noise_covar.noise,\n",
    "        modelLR2.covar_module.base_kernel.lengthscale= modelsLR[j].covar_module.base_kernel.lengthscale.tolist(),\n",
    "        modelLR2.covar_module.outputscale=modelsLR[j].covar_module.outputscale,\n",
    "        modelLR2.mean_module.weights=modelsLR[j].mean_module.weights\n",
    "        modelLR2.mean_module.bias=modelsLR[j].mean_module.bias\n",
    "        modelLR2.train()\n",
    "        modelsLR2.append(modelLR2)\n",
    "        likelihoodsLR2.append(likelihoodLR2)\n",
    "    \n",
    "        modelOutputAdjusted = outputTrainNorm - y_predicted\n",
    "        \n",
    "        likelihoodZM2 = gpytorch.likelihoods.GaussianLikelihood()\n",
    "        modelZM2 = ZeroMeanGPModel(torch.tensor(inputTrainNorm.values), torch.tensor(modelOutputAdjusted.iloc[:,j].values).squeeze(), likelihood2)\n",
    "\n",
    "        modelZM2.likelihood.noise_covar.noise= modelsZM[j].likelihood.noise_covar.noise,\n",
    "        modelZM2.covar_module.base_kernel.lengthscale= modelsZM[j].covar_module.base_kernel.lengthscale.tolist(),\n",
    "        modelZM2.covar_module.outputscale=modelsZM[j].covar_module.outputscale,\n",
    "        #modelZM2.mean_module.constant=modelsZM[j].mean_module.constant.tolist()\n",
    "        modelZM2.train()\n",
    "        modelsZM2.append(modelZM2)\n",
    "        likelihoodsZM2.append(likelihoodZM2)\n",
    "        \n",
    "    GP_MSE+= EnsembleMSE(models2,likelihoods2,inputTestNorm,outputTestNorm)/iters\n",
    "    LRGP_MSE+=LREnsembleMSE(modelsZM2,likelihoodsZM2,regression_model,inputTestNorm,outputTestNorm)/iters\n",
    "    LMGP_MSE+=EnsembleMSE(modelsLR2,likelihoodsLR2,inputTestNorm,outputTestNorm)/iters"
   ]
  },
  {
   "cell_type": "code",
   "execution_count": 198,
   "id": "1d2d899c",
   "metadata": {},
   "outputs": [],
   "source": [
    "dataset = pd.DataFrame({'GP MSE': GP_MSE, 'LRGP MSE': LRGP_MSE,'LMGP MSE': LMGP_MSE}, columns=['GP MSE', 'LRGP MSE', 'LMGP MSE'])\n",
    "dataset.index = list(outputOrig.columns)"
   ]
  },
  {
   "cell_type": "code",
   "execution_count": 199,
   "id": "5cf3bc7c",
   "metadata": {
    "scrolled": true
   },
   "outputs": [
    {
     "data": {
      "text/html": [
       "<div>\n",
       "<style scoped>\n",
       "    .dataframe tbody tr th:only-of-type {\n",
       "        vertical-align: middle;\n",
       "    }\n",
       "\n",
       "    .dataframe tbody tr th {\n",
       "        vertical-align: top;\n",
       "    }\n",
       "\n",
       "    .dataframe thead th {\n",
       "        text-align: right;\n",
       "    }\n",
       "</style>\n",
       "<table border=\"1\" class=\"dataframe\">\n",
       "  <thead>\n",
       "    <tr style=\"text-align: right;\">\n",
       "      <th></th>\n",
       "      <th>GP MSE</th>\n",
       "      <th>LRGP MSE</th>\n",
       "      <th>LMGP MSE</th>\n",
       "    </tr>\n",
       "  </thead>\n",
       "  <tbody>\n",
       "    <tr>\n",
       "      <th>(A_TAT,)</th>\n",
       "      <td>2.374417</td>\n",
       "      <td>1.915979</td>\n",
       "      <td>1.798480</td>\n",
       "    </tr>\n",
       "    <tr>\n",
       "      <th>(V_TAT,)</th>\n",
       "      <td>1.128991</td>\n",
       "      <td>0.927477</td>\n",
       "      <td>0.964744</td>\n",
       "    </tr>\n",
       "  </tbody>\n",
       "</table>\n",
       "</div>"
      ],
      "text/plain": [
       "            GP MSE  LRGP MSE  LMGP MSE\n",
       "(A_TAT,)  2.374417  1.915979  1.798480\n",
       "(V_TAT,)  1.128991  0.927477  0.964744"
      ]
     },
     "execution_count": 199,
     "metadata": {},
     "output_type": "execute_result"
    }
   ],
   "source": [
    "dataset"
   ]
  },
  {
   "cell_type": "code",
   "execution_count": 200,
   "id": "2251b64b",
   "metadata": {},
   "outputs": [
    {
     "data": {
      "text/plain": [
       "0.00010734867100836709"
      ]
     },
     "execution_count": 200,
     "metadata": {},
     "output_type": "execute_result"
    }
   ],
   "source": [
    "modelsZM[0].likelihood.noise.item()"
   ]
  },
  {
   "cell_type": "code",
   "execution_count": 201,
   "id": "7901c66e",
   "metadata": {},
   "outputs": [
    {
     "data": {
      "text/plain": [
       "[1.9159789038315664, 0.9274773153304463]"
      ]
     },
     "execution_count": 201,
     "metadata": {},
     "output_type": "execute_result"
    }
   ],
   "source": [
    "LRGP_MSE.tolist()"
   ]
  },
  {
   "cell_type": "code",
   "execution_count": 202,
   "id": "b1cc6d10",
   "metadata": {
    "scrolled": true
   },
   "outputs": [
    {
     "name": "stdout",
     "output_type": "stream",
     "text": [
      "0\n",
      "1\n",
      "0\n",
      "1\n",
      "0\n",
      "1\n",
      "0\n",
      "1\n",
      "0\n",
      "1\n",
      "0\n",
      "1\n",
      "0\n",
      "1\n",
      "0\n",
      "1\n",
      "0\n",
      "1\n",
      "0\n",
      "1\n",
      "0\n",
      "1\n",
      "0\n",
      "1\n",
      "0\n",
      "1\n",
      "0\n",
      "1\n",
      "0\n",
      "1\n",
      "0\n",
      "1\n",
      "0\n",
      "1\n",
      "0\n",
      "1\n",
      "0\n",
      "1\n",
      "0\n",
      "1\n",
      "0\n",
      "1\n",
      "0\n",
      "1\n",
      "0\n",
      "1\n",
      "0\n",
      "1\n",
      "0\n",
      "1\n",
      "0\n",
      "1\n",
      "0\n",
      "1\n",
      "0\n",
      "1\n",
      "0\n",
      "1\n",
      "0\n",
      "1\n",
      "0\n",
      "1\n",
      "0\n",
      "1\n",
      "0\n",
      "1\n",
      "0\n",
      "1\n",
      "0\n",
      "1\n",
      "0\n",
      "1\n",
      "0\n",
      "1\n",
      "0\n",
      "1\n",
      "0\n",
      "1\n",
      "0\n",
      "1\n",
      "0\n",
      "1\n",
      "0\n",
      "1\n",
      "0\n",
      "1\n",
      "0\n",
      "1\n",
      "0\n",
      "1\n",
      "0\n",
      "1\n",
      "0\n",
      "1\n",
      "0\n",
      "1\n",
      "0\n",
      "1\n",
      "0\n",
      "1\n",
      "0\n",
      "1\n",
      "0\n",
      "1\n",
      "0\n",
      "1\n",
      "0\n",
      "1\n",
      "0\n",
      "1\n",
      "0\n",
      "1\n",
      "0\n",
      "1\n",
      "0\n",
      "1\n",
      "0\n",
      "1\n",
      "0\n",
      "1\n",
      "0\n",
      "1\n",
      "0\n",
      "1\n",
      "0\n",
      "1\n",
      "0\n",
      "1\n",
      "0\n",
      "1\n",
      "0\n",
      "1\n",
      "0\n",
      "1\n",
      "0\n",
      "1\n",
      "0\n",
      "1\n",
      "0\n",
      "1\n",
      "0\n",
      "1\n",
      "0\n",
      "1\n",
      "0\n",
      "1\n",
      "0\n",
      "1\n",
      "0\n",
      "1\n",
      "0\n",
      "1\n",
      "0\n",
      "1\n",
      "0\n",
      "1\n",
      "0\n",
      "1\n",
      "0\n",
      "1\n",
      "0\n",
      "1\n",
      "0\n",
      "1\n",
      "0\n",
      "1\n",
      "0\n",
      "1\n",
      "0\n",
      "1\n",
      "0\n",
      "1\n",
      "0\n",
      "1\n",
      "0\n",
      "1\n",
      "0\n",
      "1\n",
      "0\n",
      "1\n",
      "0\n",
      "1\n",
      "0\n",
      "1\n",
      "0\n",
      "1\n",
      "0\n",
      "1\n",
      "0\n",
      "1\n",
      "0\n",
      "1\n",
      "0\n",
      "1\n",
      "0\n",
      "1\n",
      "0\n",
      "1\n",
      "0\n",
      "1\n",
      "0\n",
      "1\n",
      "0\n",
      "1\n",
      "0\n",
      "1\n",
      "0\n",
      "1\n",
      "0\n",
      "1\n",
      "0\n",
      "1\n",
      "0\n",
      "1\n",
      "0\n",
      "1\n",
      "0\n",
      "1\n",
      "0\n",
      "1\n",
      "0\n",
      "1\n",
      "0\n",
      "1\n",
      "0\n",
      "1\n",
      "0\n",
      "1\n",
      "0\n",
      "1\n",
      "0\n",
      "1\n",
      "0\n",
      "1\n",
      "0\n",
      "1\n",
      "0\n",
      "1\n",
      "0\n",
      "1\n",
      "0\n",
      "1\n",
      "0\n",
      "1\n",
      "0\n",
      "1\n",
      "0\n",
      "1\n",
      "0\n",
      "1\n",
      "0\n",
      "1\n",
      "0\n",
      "1\n",
      "0\n",
      "1\n",
      "0\n",
      "1\n",
      "0\n",
      "1\n",
      "0\n",
      "1\n",
      "0\n",
      "1\n",
      "0\n",
      "1\n",
      "0\n",
      "1\n",
      "0\n",
      "1\n",
      "0\n",
      "1\n",
      "0\n",
      "1\n",
      "0\n",
      "1\n",
      "0\n",
      "1\n",
      "0\n",
      "1\n",
      "0\n",
      "1\n",
      "0\n",
      "1\n",
      "0\n",
      "1\n",
      "0\n",
      "1\n",
      "0\n",
      "1\n",
      "0\n",
      "1\n",
      "0\n",
      "1\n",
      "0\n",
      "1\n",
      "0\n",
      "1\n",
      "0\n",
      "1\n",
      "0\n",
      "1\n",
      "0\n",
      "1\n",
      "0\n",
      "1\n",
      "0\n",
      "1\n",
      "0\n",
      "1\n",
      "0\n",
      "1\n",
      "0\n",
      "1\n",
      "0\n",
      "1\n",
      "0\n",
      "1\n",
      "0\n",
      "1\n",
      "0\n",
      "1\n",
      "0\n",
      "1\n",
      "0\n",
      "1\n",
      "0\n",
      "1\n",
      "0\n",
      "1\n",
      "0\n",
      "1\n",
      "0\n",
      "1\n",
      "0\n",
      "1\n",
      "0\n",
      "1\n",
      "0\n",
      "1\n",
      "0\n",
      "1\n",
      "0\n",
      "1\n",
      "0\n",
      "1\n",
      "0\n",
      "1\n",
      "0\n",
      "1\n",
      "0\n",
      "1\n",
      "0\n",
      "1\n",
      "0\n",
      "1\n",
      "0\n",
      "1\n",
      "0\n",
      "1\n",
      "0\n",
      "1\n",
      "0\n",
      "1\n",
      "0\n",
      "1\n",
      "0\n",
      "1\n",
      "0\n",
      "1\n",
      "0\n",
      "1\n",
      "0\n",
      "1\n",
      "0\n",
      "1\n",
      "0\n",
      "1\n",
      "0\n",
      "1\n",
      "0\n",
      "1\n",
      "0\n",
      "1\n",
      "0\n",
      "1\n",
      "0\n",
      "1\n",
      "0\n",
      "1\n",
      "0\n",
      "1\n",
      "0\n",
      "1\n",
      "0\n",
      "1\n",
      "0\n",
      "1\n",
      "0\n",
      "1\n",
      "0\n",
      "1\n",
      "0\n",
      "1\n",
      "0\n",
      "1\n",
      "0\n",
      "1\n",
      "0\n",
      "1\n",
      "0\n",
      "1\n",
      "0\n",
      "1\n",
      "0\n",
      "1\n",
      "0\n",
      "1\n",
      "0\n",
      "1\n",
      "0\n",
      "1\n",
      "0\n",
      "1\n",
      "0\n",
      "1\n",
      "0\n",
      "1\n",
      "0\n",
      "1\n",
      "0\n",
      "1\n",
      "0\n",
      "1\n",
      "0\n",
      "1\n",
      "0\n",
      "1\n",
      "0\n",
      "1\n",
      "0\n",
      "1\n",
      "0\n",
      "1\n",
      "0\n",
      "1\n",
      "0\n",
      "1\n",
      "0\n",
      "1\n",
      "0\n",
      "1\n",
      "0\n",
      "1\n",
      "0\n",
      "1\n",
      "0\n",
      "1\n",
      "0\n",
      "1\n",
      "0\n",
      "1\n",
      "0\n",
      "1\n",
      "0\n",
      "1\n",
      "0\n",
      "1\n",
      "0\n",
      "1\n",
      "0\n",
      "1\n",
      "0\n",
      "1\n",
      "0\n",
      "1\n",
      "0\n",
      "1\n",
      "0\n",
      "1\n",
      "0\n",
      "1\n",
      "0\n",
      "1\n",
      "0\n",
      "1\n",
      "0\n",
      "1\n",
      "0\n",
      "1\n",
      "0\n",
      "1\n",
      "0\n",
      "1\n",
      "0\n",
      "1\n",
      "0\n",
      "1\n",
      "0\n",
      "1\n",
      "0\n",
      "1\n",
      "0\n",
      "1\n",
      "0\n",
      "1\n",
      "0\n",
      "1\n",
      "0\n",
      "1\n",
      "0\n",
      "1\n",
      "0\n",
      "1\n",
      "0\n",
      "1\n",
      "0\n",
      "1\n",
      "0\n",
      "1\n",
      "0\n",
      "1\n",
      "0\n",
      "1\n",
      "0\n",
      "1\n",
      "0\n",
      "1\n",
      "0\n",
      "1\n",
      "0\n",
      "1\n",
      "0\n",
      "1\n",
      "0\n",
      "1\n",
      "0\n",
      "1\n",
      "0\n",
      "1\n",
      "0\n",
      "1\n",
      "0\n",
      "1\n",
      "0\n",
      "1\n",
      "0\n",
      "1\n",
      "0\n",
      "1\n",
      "0\n",
      "1\n",
      "0\n",
      "1\n",
      "0\n",
      "1\n",
      "0\n",
      "1\n",
      "0\n",
      "1\n",
      "0\n",
      "1\n",
      "0\n",
      "1\n",
      "0\n",
      "1\n",
      "0\n",
      "1\n",
      "0\n",
      "1\n",
      "0\n",
      "1\n",
      "0\n",
      "1\n",
      "0\n",
      "1\n"
     ]
    }
   ],
   "source": [
    "GP_MSE = np.zeros(outputNorm.shape[1])\n",
    "LRGP_MSE = np.zeros(outputNorm.shape[1])\n",
    "\n",
    "for i in range(iters):\n",
    "\n",
    "    testIndices = [i]\n",
    "    inputTest = inputOrig.iloc[testIndices,:]\n",
    "    inputTrain = inputOrig[~inputOrig.index.isin([inputOrig.index[i]])]\n",
    "    outputTest = outputOrig.iloc[testIndices,:]\n",
    "    outputTrain = outputOrig.iloc[~outputOrig.index.isin([outputOrig.index[i]])]\n",
    "    \n",
    "    inputTrainNorm,inputTrainMean,inputTrainStd = normalise(inputTrain)\n",
    "    inputTestNorm=(inputTest-inputTrainMean)/inputTrainStd\n",
    "    \n",
    "    outputTrainNorm,outputTrainMean,outputTrainStd = normalise(outputTrain)\n",
    "    outputTestNorm=(outputTest-outputTrainMean)/outputTrainStd\n",
    "    \n",
    "    models, likelihoods= GPEnsemble(inputTrainNorm,outputTrainNorm)\n",
    "    \n",
    "    GP_MSE+= EnsembleMSE(models,likelihoods,inputTestNorm,outputTestNorm)/iters\n",
    "    \n",
    "    regression_model, modelsZM, likelihoodsZM = LRGPEnsemble(inputTrainNorm,outputTrainNorm)\n",
    "    \n",
    "    \n",
    "    LRGP_MSE+=LREnsembleMSE(modelsZM,likelihoodsZM,regression_model,inputTestNorm,outputTestNorm)/iters"
   ]
  },
  {
   "cell_type": "code",
   "execution_count": 203,
   "id": "7fef40c8",
   "metadata": {
    "scrolled": true
   },
   "outputs": [
    {
     "data": {
      "text/plain": [
       "array([2.69355001, 1.11770362])"
      ]
     },
     "execution_count": 203,
     "metadata": {},
     "output_type": "execute_result"
    }
   ],
   "source": [
    "GP_MSE"
   ]
  },
  {
   "cell_type": "code",
   "execution_count": null,
   "id": "3b271ec2",
   "metadata": {},
   "outputs": [],
   "source": [
    "dataset = pd.DataFrame({'GP MSE': GP_MSE, 'LRGP MSE': LRGP_MSE}, columns=['GP MSE', 'LRGP MSE'])\n",
    "dataset.index = list(outputOrig.columns)"
   ]
  },
  {
   "cell_type": "code",
   "execution_count": null,
   "id": "b5174ede",
   "metadata": {},
   "outputs": [],
   "source": [
    "dataset"
   ]
  },
  {
   "cell_type": "code",
   "execution_count": 269,
   "id": "655af6d9",
   "metadata": {},
   "outputs": [
    {
     "data": {
      "text/html": [
       "<div>\n",
       "<style scoped>\n",
       "    .dataframe tbody tr th:only-of-type {\n",
       "        vertical-align: middle;\n",
       "    }\n",
       "\n",
       "    .dataframe tbody tr th {\n",
       "        vertical-align: top;\n",
       "    }\n",
       "\n",
       "    .dataframe thead th {\n",
       "        text-align: right;\n",
       "    }\n",
       "</style>\n",
       "<table border=\"1\" class=\"dataframe\">\n",
       "  <thead>\n",
       "    <tr style=\"text-align: right;\">\n",
       "      <th></th>\n",
       "      <th>(CV_ventricles,)</th>\n",
       "      <th>(CV_atria,)</th>\n",
       "    </tr>\n",
       "  </thead>\n",
       "  <tbody>\n",
       "    <tr>\n",
       "      <th>67</th>\n",
       "      <td>0.306260</td>\n",
       "      <td>-0.969200</td>\n",
       "    </tr>\n",
       "    <tr>\n",
       "      <th>141</th>\n",
       "      <td>-1.441605</td>\n",
       "      <td>1.339890</td>\n",
       "    </tr>\n",
       "    <tr>\n",
       "      <th>88</th>\n",
       "      <td>0.969388</td>\n",
       "      <td>0.344957</td>\n",
       "    </tr>\n",
       "    <tr>\n",
       "      <th>30</th>\n",
       "      <td>0.919335</td>\n",
       "      <td>-1.329597</td>\n",
       "    </tr>\n",
       "    <tr>\n",
       "      <th>57</th>\n",
       "      <td>-1.054113</td>\n",
       "      <td>-0.315881</td>\n",
       "    </tr>\n",
       "    <tr>\n",
       "      <th>...</th>\n",
       "      <td>...</td>\n",
       "      <td>...</td>\n",
       "    </tr>\n",
       "    <tr>\n",
       "      <th>83</th>\n",
       "      <td>-0.657008</td>\n",
       "      <td>0.267552</td>\n",
       "    </tr>\n",
       "    <tr>\n",
       "      <th>136</th>\n",
       "      <td>-0.742451</td>\n",
       "      <td>-0.838235</td>\n",
       "    </tr>\n",
       "    <tr>\n",
       "      <th>133</th>\n",
       "      <td>1.503548</td>\n",
       "      <td>-0.640924</td>\n",
       "    </tr>\n",
       "    <tr>\n",
       "      <th>105</th>\n",
       "      <td>0.209907</td>\n",
       "      <td>0.547353</td>\n",
       "    </tr>\n",
       "    <tr>\n",
       "      <th>84</th>\n",
       "      <td>1.751407</td>\n",
       "      <td>-1.676076</td>\n",
       "    </tr>\n",
       "  </tbody>\n",
       "</table>\n",
       "<p>144 rows × 2 columns</p>\n",
       "</div>"
      ],
      "text/plain": [
       "     (CV_ventricles,)  (CV_atria,)\n",
       "67           0.306260    -0.969200\n",
       "141         -1.441605     1.339890\n",
       "88           0.969388     0.344957\n",
       "30           0.919335    -1.329597\n",
       "57          -1.054113    -0.315881\n",
       "..                ...          ...\n",
       "83          -0.657008     0.267552\n",
       "136         -0.742451    -0.838235\n",
       "133          1.503548    -0.640924\n",
       "105          0.209907     0.547353\n",
       "84           1.751407    -1.676076\n",
       "\n",
       "[144 rows x 2 columns]"
      ]
     },
     "execution_count": 269,
     "metadata": {},
     "output_type": "execute_result"
    }
   ],
   "source": [
    "inputNorm.iloc[:,[0,3]]"
   ]
  },
  {
   "cell_type": "code",
   "execution_count": 441,
   "id": "c283d064",
   "metadata": {},
   "outputs": [],
   "source": [
    "inputNorm,inputMean,inputStd = normalise(X_train)"
   ]
  },
  {
   "cell_type": "code",
   "execution_count": 442,
   "id": "035248bc",
   "metadata": {},
   "outputs": [],
   "source": [
    "outputNorm,outMean,outStd=normalise(y_train)"
   ]
  },
  {
   "cell_type": "code",
   "execution_count": null,
   "id": "9dd0a111",
   "metadata": {},
   "outputs": [],
   "source": []
  },
  {
   "cell_type": "code",
   "execution_count": 444,
   "id": "cab6c09f",
   "metadata": {
    "scrolled": true
   },
   "outputs": [
    {
     "name": "stdout",
     "output_type": "stream",
     "text": [
      "0\n",
      "1\n",
      "0\n",
      "1\n",
      "0\n",
      "1\n",
      "0\n",
      "1\n",
      "0\n",
      "1\n",
      "0\n",
      "1\n"
     ]
    }
   ],
   "source": []
  },
  {
   "cell_type": "code",
   "execution_count": 445,
   "id": "54955e7d",
   "metadata": {},
   "outputs": [],
   "source": [
    "MSE = np.zeros((7,2))\n",
    "for i in range(2):\n",
    "    MSE[0,i] =((GPEnsemblePredict(models_1A,likelihoods_1A,torch.tensor(((X_test.iloc[:,3:4]-inputMean[3:4])/inputStd[3:4]).values),outMean,outStd)[i]-torch.tensor(y_test.values)[:,i])**2).mean()\n",
    "    MSE[1,i] =((GPEnsemblePredict(models_2A,likelihoods_2A,torch.tensor(((X_test.iloc[:,[3,5]]-inputMean[[3,5]])/inputStd[[3,5]]).values),outMean,outStd)[i]-torch.tensor(y_test.values)[:,i])**2).mean()\n",
    "    MSE[2,i] =((GPEnsemblePredict(models_3A,likelihoods_3A,torch.tensor(((X_test.iloc[:,3:6]-inputMean[3:6])/inputStd[3:6]).values),outMean,outStd)[i]-torch.tensor(y_test.values)[:,i])**2).mean()\n",
    "    MSE[3,i] =((GPEnsemblePredict(models_1V,likelihoods_1V,torch.tensor(((X_test.iloc[:,0:1]-inputMean[0:1])/inputStd[0:1]).values),outMean,outStd)[i]-torch.tensor(y_test.values)[:,i])**2).mean()\n",
    "    MSE[4,i] =((GPEnsemblePredict(models_2V,likelihoods_2V,torch.tensor(((X_test.iloc[:,[0,2]]-inputMean[[0,2]])/inputStd[[0,2]]).values),outMean,outStd)[i]-torch.tensor(y_test.values)[:,i])**2).mean()\n",
    "    MSE[5,i] =((GPEnsemblePredict(models_3V,likelihoods_3V,torch.tensor(((X_test.iloc[:,0:3]-inputMean[0:3])/inputStd[0:3]).values),outMean,outStd)[i]-torch.tensor(y_test.values)[:,i])**2).mean()\n",
    "    MSE[6,i] =((GPEnsemblePredict(modelsLR,likelihoodsLR,torch.tensor(((X_test-inputMean)/inputStd).values),outMean,outStd)[i]-torch.tensor(y_test.values)[:,i])**2).mean()"
   ]
  },
  {
   "cell_type": "code",
   "execution_count": 451,
   "id": "77b932a6",
   "metadata": {
    "scrolled": false
   },
   "outputs": [
    {
     "data": {
      "text/plain": [
       "array([[5.49098221e+02, 2.07078667e+02, 1.85679127e+00, 4.44245875e+03,\n",
       "        4.35259870e+03, 5.94503814e+03, 2.43054703e+01],\n",
       "       [1.20117355e+03, 1.21210662e+03, 1.29933315e+03, 6.76657320e+02,\n",
       "        1.31821443e+02, 8.06877385e-01, 4.70857404e+00]])"
      ]
     },
     "execution_count": 451,
     "metadata": {},
     "output_type": "execute_result"
    }
   ],
   "source": [
    "MSE.T"
   ]
  },
  {
   "cell_type": "code",
   "execution_count": 453,
   "id": "c8f6af95",
   "metadata": {
    "scrolled": true
   },
   "outputs": [
    {
     "data": {
      "text/plain": [
       "array([[ 0.88527444,  0.21801975],\n",
       "       [ 0.95673412,  0.21090218],\n",
       "       [ 0.99961205,  0.15411653],\n",
       "       [ 0.07181708,  0.55948692],\n",
       "       [ 0.09059195,  0.91418246],\n",
       "       [-0.2421236 ,  0.99947471],\n",
       "       [ 0.99492175,  0.99693465]])"
      ]
     },
     "execution_count": 453,
     "metadata": {},
     "output_type": "execute_result"
    }
   ],
   "source": [
    "(1-MSE/np.var(y_train).values)"
   ]
  },
  {
   "cell_type": "code",
   "execution_count": 237,
   "id": "9e47e1bf",
   "metadata": {},
   "outputs": [
    {
     "data": {
      "text/html": [
       "<div>\n",
       "<style scoped>\n",
       "    .dataframe tbody tr th:only-of-type {\n",
       "        vertical-align: middle;\n",
       "    }\n",
       "\n",
       "    .dataframe tbody tr th {\n",
       "        vertical-align: top;\n",
       "    }\n",
       "\n",
       "    .dataframe thead th {\n",
       "        text-align: right;\n",
       "    }\n",
       "</style>\n",
       "<table border=\"1\" class=\"dataframe\">\n",
       "  <thead>\n",
       "    <tr style=\"text-align: right;\">\n",
       "      <th></th>\n",
       "      <th>(CV_atria,)</th>\n",
       "    </tr>\n",
       "  </thead>\n",
       "  <tbody>\n",
       "    <tr>\n",
       "      <th>67</th>\n",
       "      <td>-0.969200</td>\n",
       "    </tr>\n",
       "    <tr>\n",
       "      <th>141</th>\n",
       "      <td>1.339890</td>\n",
       "    </tr>\n",
       "    <tr>\n",
       "      <th>88</th>\n",
       "      <td>0.344957</td>\n",
       "    </tr>\n",
       "    <tr>\n",
       "      <th>30</th>\n",
       "      <td>-1.329597</td>\n",
       "    </tr>\n",
       "    <tr>\n",
       "      <th>57</th>\n",
       "      <td>-0.315881</td>\n",
       "    </tr>\n",
       "    <tr>\n",
       "      <th>...</th>\n",
       "      <td>...</td>\n",
       "    </tr>\n",
       "    <tr>\n",
       "      <th>83</th>\n",
       "      <td>0.267552</td>\n",
       "    </tr>\n",
       "    <tr>\n",
       "      <th>136</th>\n",
       "      <td>-0.838235</td>\n",
       "    </tr>\n",
       "    <tr>\n",
       "      <th>133</th>\n",
       "      <td>-0.640924</td>\n",
       "    </tr>\n",
       "    <tr>\n",
       "      <th>105</th>\n",
       "      <td>0.547353</td>\n",
       "    </tr>\n",
       "    <tr>\n",
       "      <th>84</th>\n",
       "      <td>-1.676076</td>\n",
       "    </tr>\n",
       "  </tbody>\n",
       "</table>\n",
       "<p>144 rows × 1 columns</p>\n",
       "</div>"
      ],
      "text/plain": [
       "     (CV_atria,)\n",
       "67     -0.969200\n",
       "141     1.339890\n",
       "88      0.344957\n",
       "30     -1.329597\n",
       "57     -0.315881\n",
       "..           ...\n",
       "83      0.267552\n",
       "136    -0.838235\n",
       "133    -0.640924\n",
       "105     0.547353\n",
       "84     -1.676076\n",
       "\n",
       "[144 rows x 1 columns]"
      ]
     },
     "execution_count": 237,
     "metadata": {},
     "output_type": "execute_result"
    }
   ],
   "source": [
    "inputNorm.iloc[:,3:4]"
   ]
  },
  {
   "cell_type": "code",
   "execution_count": 239,
   "id": "fa9957de",
   "metadata": {},
   "outputs": [
    {
     "data": {
      "text/plain": [
       "(A_TAT,)    4141.266429\n",
       "(V_TAT,)    1168.657262\n",
       "dtype: float64"
      ]
     },
     "execution_count": 239,
     "metadata": {},
     "output_type": "execute_result"
    }
   ],
   "source": [
    "np.var(y_test)"
   ]
  },
  {
   "cell_type": "code",
   "execution_count": 244,
   "id": "5863c38f",
   "metadata": {},
   "outputs": [
    {
     "data": {
      "text/plain": [
       "0.9990340497464381"
      ]
     },
     "execution_count": 244,
     "metadata": {},
     "output_type": "execute_result"
    }
   ],
   "source": [
    "1-(4/4141)"
   ]
  },
  {
   "cell_type": "code",
   "execution_count": 107,
   "id": "82271071",
   "metadata": {
    "scrolled": true
   },
   "outputs": [
    {
     "data": {
      "text/plain": [
       "array([102.421, 109.701, 110.207, 116.618, 120.467, 131.87 , 132.443,\n",
       "       136.081, 140.815, 141.697, 143.602, 145.946, 172.419, 174.198,\n",
       "       181.94 , 194.967, 200.132, 200.136, 200.845, 232.374, 236.319,\n",
       "       238.058, 243.399, 251.071, 251.182, 253.479, 256.638, 257.471,\n",
       "       262.326, 263.611, 269.679, 275.184, 284.215, 293.923, 307.759,\n",
       "       328.284])"
      ]
     },
     "execution_count": 107,
     "metadata": {},
     "output_type": "execute_result"
    }
   ],
   "source": [
    "np.sort(y_test.values[:,0])"
   ]
  },
  {
   "cell_type": "code",
   "execution_count": 134,
   "id": "dca67bfe",
   "metadata": {},
   "outputs": [],
   "source": [
    "X_GPE=GPEnsemblePredict(models_2A,likelihoods_2A,torch.tensor(((X_test.iloc[:,[3,5]]-inputMean[[3,5]])/inputStd[[3,5]]).values),outMean,outStd)[0].tolist()\n",
    "X_LR=LREnsemblePredict(LR_1A,torch.tensor(((X_test.iloc[:,3:4]-inputMean[3:4])/inputStd[3:4]).values),outMean,outStd)[0]\n"
   ]
  },
  {
   "cell_type": "code",
   "execution_count": 135,
   "id": "173a9631",
   "metadata": {},
   "outputs": [
    {
     "data": {
      "text/plain": [
       "tensor([[224.6351, 115.7152,  82.4350, 199.9277, 184.1672, 269.9497, 259.8669,\n",
       "         276.8797, 131.4656, 253.3968, 265.7564, 269.0422,  99.9672, 234.3907,\n",
       "         217.2764, 285.7320, 212.6948, 207.6677, 279.8419, 114.4763, 139.9068,\n",
       "         166.6898,  81.0990, 210.9708, 191.1355, 288.2174, 211.9772, 128.7912,\n",
       "         263.4555,  84.7661, 125.7669, 229.8996, 247.0249, 299.1100, 232.5523,\n",
       "         175.5592]], dtype=torch.float64)"
      ]
     },
     "execution_count": 135,
     "metadata": {},
     "output_type": "execute_result"
    }
   ],
   "source": [
    "X_LR"
   ]
  },
  {
   "cell_type": "code",
   "execution_count": 136,
   "id": "5cc049d6",
   "metadata": {},
   "outputs": [
    {
     "data": {
      "text/plain": [
       "Text(0, 0.5, 'V_TAT')"
      ]
     },
     "execution_count": 136,
     "metadata": {},
     "output_type": "execute_result"
    },
    {
     "data": {
      "image/png": "[encoded data removed]",
      "text/plain": [
       "<Figure size 640x480 with 1 Axes>"
      ]
     },
     "metadata": {},
     "output_type": "display_data"
    }
   ],
   "source": [
    "plt.plot((X_test.iloc[:,3:4]-inputMean[3:4])/inputStd[3:4],X_GPE,'o')\n",
    "plt.plot((X_test.iloc[:,3:4]-inputMean[3:4])/inputStd[3:4],y_test.values[:,0],'o')\n",
    "plt.legend(('y_GPE','y_true'))\n",
    "plt.xlabel('CV_Ventricles')\n",
    "plt.ylabel('V_TAT')\n"
   ]
  },
  {
   "cell_type": "code",
   "execution_count": 137,
   "id": "a910eea6",
   "metadata": {},
   "outputs": [
    {
     "data": {
      "text/plain": [
       "Text(0, 0.5, 'V_TAT')"
      ]
     },
     "execution_count": 137,
     "metadata": {},
     "output_type": "execute_result"
    },
    {
     "data": {
      "image/png": "[encoded data removed]",
      "text/plain": [
       "<Figure size 640x480 with 1 Axes>"
      ]
     },
     "metadata": {},
     "output_type": "display_data"
    }
   ],
   "source": [
    "\n",
    "plt.plot((X_test.iloc[:,3:4]-inputMean[3:4])/inputStd[3:4],X_LR.T,'o')\n",
    "plt.plot((X_test.iloc[:,3:4]-inputMean[3:4])/inputStd[3:4],y_test.values[:,0],'o')\n",
    "plt.legend(('y_LR','y_true'))\n",
    "plt.xlabel('CV_Ventricles')\n",
    "plt.ylabel('V_TAT')"
   ]
  },
  {
   "cell_type": "code",
   "execution_count": null,
   "id": "7cb1c84d",
   "metadata": {},
   "outputs": [],
   "source": []
  }
 ],
 "metadata": {
  "kernelspec": {
   "display_name": "Python 3 (ipykernel)",
   "language": "python",
   "name": "python3"
  },
  "language_info": {
   "codemirror_mode": {
    "name": "ipython",
    "version": 3
   },
   "file_extension": ".py",
   "mimetype": "text/x-python",
   "name": "python",
   "nbconvert_exporter": "python",
   "pygments_lexer": "ipython3",
   "version": "3.11.5"
  }
 },
 "nbformat": 4,
 "nbformat_minor": 5
}
