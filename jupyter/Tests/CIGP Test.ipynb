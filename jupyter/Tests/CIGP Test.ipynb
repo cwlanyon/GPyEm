{
 "cells": [
  {
   "cell_type": "code",
   "execution_count": 1,
   "id": "4de26bda",
   "metadata": {},
   "outputs": [
    {
     "name": "stdout",
     "output_type": "stream",
     "text": [
      "2.1.1\n"
     ]
    }
   ],
   "source": [
    "import math\n",
    "import torch\n",
    "import gpytorch\n",
    "import pandas as pd\n",
    "import numpy as np\n",
    "from matplotlib import pyplot as plt\n",
    "\n",
    "import GPE_ensemble as GPE\n",
    "\n",
    "import os\n",
    "from sklearn.linear_model import LinearRegression\n",
    "from sklearn.metrics import mean_squared_error, r2_score\n",
    "from sklearn.model_selection import train_test_split\n",
    "#from GPErks.gp.data.dataset import Dataset\n",
    "from gpytorch.likelihoods import GaussianLikelihood\n",
    "from gpytorch.means import LinearMean\n",
    "from gpytorch.kernels import RBFKernel, ScaleKernel\n",
    "from torchmetrics import MeanSquaredError, R2Score\n",
    "#from GPErks.gp.experiment import GPExperiment\n",
    "#from GPErks.train.emulator import GPEmulator\n",
    "#from GPErks.perks.inference import Inference\n",
    "#from GPErks.train.early_stop import NoEarlyStoppingCriterion\n",
    "#from GPErks.train.early_stop import (\n",
    "#    GLEarlyStoppingCriterion,\n",
    "#    PQEarlyStoppingCriterion,\n",
    "#    UPEarlyStoppingCriterion,\n",
    "#)\n",
    "#from GPErks.train.early_stop import PkEarlyStoppingCriterion\n",
    "\n",
    "\n",
    "\n",
    "%matplotlib inline\n",
    "%load_ext autoreload\n",
    "%autoreload 2\n",
    "\n",
    "# set logger and enforce reproducibility\n",
    "#from GPErks.log.logger import get_logger\n",
    "#from GPErks.utils.random import set_seed\n",
    "#log = get_logger()\n",
    "seed = 7\n",
    "#set_seed(seed)\n",
    "\n",
    "import cigp_v10 as cig"
   ]
  },
  {
   "cell_type": "code",
   "execution_count": 2,
   "id": "604334a5",
   "metadata": {},
   "outputs": [
    {
     "name": "stdout",
     "output_type": "stream",
     "text": [
      "     CV_ventricles  CV_atria     Rsys    Rpulm  a_ventricles  a_atria  \\\n",
      "0         0.760802  0.868096  1.70731  3.62143       3.67702  1.99947   \n",
      "1         0.644653  0.697527  2.36749  1.86641       1.20492  3.66752   \n",
      "2         0.652384  0.610575  3.06834  1.55817       1.80784  3.96080   \n",
      "3         0.615380  0.547748  1.77233  2.63764       2.21983  3.01118   \n",
      "4         0.454402  0.847549  3.38886  2.27936       2.46983  1.93714   \n",
      "..             ...       ...      ...      ...           ...      ...   \n",
      "995       0.548374  1.004190  2.78844  3.18274       2.70849  2.48081   \n",
      "996       0.567330  0.586630  1.28949  3.35264       3.72868  1.01273   \n",
      "997       0.541231  0.896994  3.76457  3.87022       1.16020  1.58567   \n",
      "998       0.457154  0.380562  2.13602  3.28800       3.05301  1.98920   \n",
      "999       0.592512  0.909685  1.93676  2.39699       4.79355  4.20033   \n",
      "\n",
      "      EDP_lv   EDP_rv  \n",
      "0    6.46069  6.92427  \n",
      "1    1.87275  4.27266  \n",
      "2    7.47750  7.07723  \n",
      "3    3.85431  2.32392  \n",
      "4    2.19568  3.23450  \n",
      "..       ...      ...  \n",
      "995  4.01463  4.05085  \n",
      "996  5.98973  2.85412  \n",
      "997  3.91728  1.55156  \n",
      "998  7.37215  6.18801  \n",
      "999  2.71249  1.54155  \n",
      "\n",
      "[1000 rows x 8 columns]\n"
     ]
    }
   ],
   "source": [
    "x_labels=pd.read_csv(r'/Users/pmzcwl/Library/CloudStorage/OneDrive-TheUniversityofNottingham/shared_simulations/mechanics/scenario_5/xlabels.txt',delim_whitespace=True,header=None)\n",
    "\n",
    "\n",
    "X_all = pd.read_csv(r'/Users/pmzcwl/Library/CloudStorage/OneDrive-TheUniversityofNottingham/shared_simulations/mechanics/scenario_5/X.txt',index_col=None,delim_whitespace=True,header=None)\n",
    "X_all.columns=x_labels.values.squeeze().tolist()\n",
    "print(X_all)"
   ]
  },
  {
   "cell_type": "code",
   "execution_count": 3,
   "id": "57ff5241",
   "metadata": {},
   "outputs": [
    {
     "name": "stdout",
     "output_type": "stream",
     "text": [
      "     LVedv  LVedp   LVesv  LVpMax  LVdpdtMax  LVdpdtMin   RVedv  RVedp  \\\n",
      "0   140.27   4.61   95.32   75.59       1605       -640  150.44   3.42   \n",
      "1   178.75   5.19  131.47   94.18       1702       -707  128.45   2.22   \n",
      "2   146.76   7.00  103.90  107.49       1951       -831  126.61   2.36   \n",
      "3   146.65   4.44   94.17   85.12       1820       -730  171.00   2.33   \n",
      "4   167.42   6.11  125.86  107.23       1767       -811  151.82   1.96   \n",
      "..     ...    ...     ...     ...        ...        ...     ...    ...   \n",
      "82  151.64   4.88   98.50   74.88       1583       -646  165.61   3.26   \n",
      "83  148.10   5.74  113.25   95.29       1598       -752  149.28   2.27   \n",
      "84  140.84   5.58   99.27   83.52       1700       -729  163.45   2.61   \n",
      "85  136.96   4.70   90.36   66.72       1348       -585  165.91   3.47   \n",
      "86  157.23   7.49  113.07  102.84       1847       -846  151.89   2.10   \n",
      "\n",
      "     RVesv  RVpMax  ...  RAvMax  RApMax  LAsvA  LAinflV  LAsvV  RAsvA  \\\n",
      "0   110.87   31.19  ...   90.88    3.82  10.49     9.83  15.36  11.93   \n",
      "1    84.07   24.59  ...   93.68    2.57  13.41    10.29  12.85   8.66   \n",
      "2    86.66   23.47  ...   89.49    2.54  10.30     9.04  12.14   7.16   \n",
      "3   120.53   29.35  ...  106.51    2.60  10.20    11.44  14.97  10.42   \n",
      "4   109.44   26.05  ...   94.26    2.44  18.36     9.75  13.61  10.40   \n",
      "..     ...     ...  ...     ...     ...    ...      ...    ...    ...   \n",
      "82  115.93   28.73  ...  101.03    3.66  13.19    12.39  17.31  14.21   \n",
      "83  115.80   28.53  ...   91.46    2.74  10.68     7.01  10.48   8.53   \n",
      "84  124.36   28.28  ...   99.44    2.91   9.09     8.51  11.68   9.74   \n",
      "85  123.78   29.58  ...  100.72    3.92   8.52     9.49  11.69  10.77   \n",
      "86  107.86   22.42  ...   95.70    1.79   7.79    11.22  14.40   5.05   \n",
      "\n",
      "    RAinflV  RAsvV    A_TAT     V_TAT  \n",
      "0     11.04  13.26   99.641   80.4081  \n",
      "1     10.30  11.81  125.549   96.2835  \n",
      "2      9.48  10.74  140.840   95.9221  \n",
      "3     13.64  15.26  157.538   97.9827  \n",
      "4     12.10  15.34  103.591  133.2470  \n",
      "..      ...    ...      ...       ...  \n",
      "82    13.78  16.78  114.734   80.3670  \n",
      "83     8.31   9.95   86.728  147.2640  \n",
      "84    10.24  12.07  108.644  107.4810  \n",
      "85    10.16  12.08   88.786  130.3570  \n",
      "86    10.72  12.43  267.169   80.2200  \n",
      "\n",
      "[87 rows x 28 columns]\n"
     ]
    }
   ],
   "source": [
    "y_labels=pd.read_csv(r'/Users/pmzcwl/Library/CloudStorage/OneDrive-TheUniversityofNottingham/shared_simulations/mechanics/scenario_5/ylabels.txt',delim_whitespace=True,header=None)\n",
    "\n",
    "\n",
    "y_all = pd.read_csv(r'/Users/pmzcwl/Library/CloudStorage/OneDrive-TheUniversityofNottingham/shared_simulations/mechanics/scenario_5/Y.txt',index_col=None,delim_whitespace=True,header=None)\n",
    "y_all.columns=y_labels.values.squeeze().tolist()\n",
    "print(y_all)"
   ]
  },
  {
   "cell_type": "code",
   "execution_count": 5,
   "id": "f29228f4",
   "metadata": {},
   "outputs": [],
   "source": [
    "mask = pd.read_csv(r'/Users/pmzcwl/Library/CloudStorage/OneDrive-TheUniversityofNottingham/shared_simulations/mechanics/scenario_5/output_mask_beat_5.txt',index_col=None,delim_whitespace=True,header=None)"
   ]
  },
  {
   "cell_type": "code",
   "execution_count": 6,
   "id": "27f44350",
   "metadata": {},
   "outputs": [],
   "source": [
    "input_masked = X_all.copy().iloc[0:mask.shape[0]]\n",
    "input_masked=input_masked.iloc[np.array(mask==1),]\n",
    "input_masked.index = y_all.index"
   ]
  },
  {
   "cell_type": "code",
   "execution_count": 8,
   "id": "7515d7eb",
   "metadata": {},
   "outputs": [],
   "source": [
    "y_calibration = y_all.loc[:,['V_TAT','LVpMax','LVedv']]\n",
    "y_calibration2 = pd.DataFrame({'LV_EF':(y_all.loc[:,'LVedv']-y_all.loc[:,'LVesv'])/y_all.loc[:,'LVedv']})\n",
    "y_calibration=y_calibration.join(y_calibration2)"
   ]
  },
  {
   "cell_type": "code",
   "execution_count": null,
   "id": "e9123cc6",
   "metadata": {},
   "outputs": [],
   "source": []
  },
  {
   "cell_type": "code",
   "execution_count": null,
   "id": "e3dbba0b",
   "metadata": {},
   "outputs": [],
   "source": []
  },
  {
   "cell_type": "code",
   "execution_count": 95,
   "id": "2ef27454",
   "metadata": {},
   "outputs": [],
   "source": [
    "# split original dataset in training, validation and testing sets\n",
    "X=torch.tensor(input_masked.values)\n",
    "y=torch.tensor(y_calibration.values)\n",
    "X_train, X_test, y_train, y_test = train_test_split(\n",
    "    X,\n",
    "    y,\n",
    "    test_size=1,\n",
    "    random_state=seed\n",
    ")"
   ]
  },
  {
   "cell_type": "code",
   "execution_count": 96,
   "id": "d26bfbb1",
   "metadata": {},
   "outputs": [],
   "source": [
    "model = cig.cigp(X_train,y_train,normal_y_mode=1)"
   ]
  },
  {
   "cell_type": "code",
   "execution_count": 97,
   "id": "f65f3d9b",
   "metadata": {},
   "outputs": [
    {
     "name": "stdout",
     "output_type": "stream",
     "text": [
      "iter 0 nll:506.04576\n",
      "iter 1 nll:489.49637\n",
      "iter 2 nll:471.15107\n",
      "iter 3 nll:451.10016\n",
      "iter 4 nll:429.68981\n",
      "iter 5 nll:407.46688\n",
      "iter 6 nll:385.06656\n",
      "iter 7 nll:363.04668\n",
      "iter 8 nll:341.82375\n",
      "iter 9 nll:321.77846\n",
      "iter 10 nll:303.16678\n",
      "iter 11 nll:285.94439\n",
      "iter 12 nll:269.79466\n",
      "iter 13 nll:254.34764\n",
      "iter 14 nll:239.39248\n",
      "iter 15 nll:224.90669\n",
      "iter 16 nll:210.95286\n",
      "iter 17 nll:197.55611\n",
      "iter 18 nll:184.63517\n",
      "iter 19 nll:172.05512\n",
      "iter 20 nll:159.74024\n",
      "iter 21 nll:147.69048\n",
      "iter 22 nll:135.90187\n",
      "iter 23 nll:124.31112\n",
      "iter 24 nll:112.82146\n",
      "iter 25 nll:101.34830\n",
      "iter 26 nll:89.82526\n",
      "iter 27 nll:78.18900\n",
      "iter 28 nll:66.38417\n",
      "iter 29 nll:54.41882\n",
      "iter 30 nll:42.45234\n",
      "iter 31 nll:30.82295\n",
      "iter 32 nll:19.93526\n",
      "iter 33 nll:10.05335\n",
      "iter 34 nll:1.15763\n",
      "iter 35 nll:-7.01251\n",
      "iter 36 nll:-14.78730\n",
      "iter 37 nll:-22.42717\n",
      "iter 38 nll:-30.08082\n",
      "iter 39 nll:-37.78592\n",
      "iter 40 nll:-45.47846\n",
      "iter 41 nll:-53.02868\n",
      "iter 42 nll:-60.29573\n",
      "iter 43 nll:-67.16434\n",
      "iter 44 nll:-73.55997\n",
      "iter 45 nll:-79.46565\n",
      "iter 46 nll:-84.93604\n",
      "iter 47 nll:-90.08204\n",
      "iter 48 nll:-95.03009\n",
      "iter 49 nll:-99.89152\n"
     ]
    }
   ],
   "source": [
    "model.train_adam(niteration=50)"
   ]
  },
  {
   "cell_type": "code",
   "execution_count": 98,
   "id": "40ffdbd8",
   "metadata": {},
   "outputs": [
    {
     "data": {
      "text/plain": [
       "tensor([2.7225e+00, 5.1080e-02, 1.7856e+00, 3.7838e-05], dtype=torch.float64,\n",
       "       grad_fn=<DivBackward0>)"
      ]
     },
     "execution_count": 98,
     "metadata": {},
     "output_type": "execute_result"
    }
   ],
   "source": [
    "(torch.sum((model.forward(X_test)[0]-y_test)**2,axis=0))/y_test.shape[0]"
   ]
  },
  {
   "cell_type": "code",
   "execution_count": 99,
   "id": "6e069179",
   "metadata": {
    "scrolled": true
   },
   "outputs": [
    {
     "name": "stdout",
     "output_type": "stream",
     "text": [
      "0\n",
      "1\n",
      "2\n",
      "3\n"
     ]
    }
   ],
   "source": [
    "emulator = GPE.ensemble(pd.DataFrame(X_train),pd.DataFrame(y_train),mean_func=\"linear\",training_iter=1000)"
   ]
  },
  {
   "cell_type": "code",
   "execution_count": 100,
   "id": "b83ec84c",
   "metadata": {},
   "outputs": [
    {
     "data": {
      "text/plain": [
       "tensor([6.3215e-02, 8.0094e-01, 5.2702e+00, 4.2074e-06], dtype=torch.float64,\n",
       "       grad_fn=<MeanBackward1>)"
      ]
     },
     "execution_count": 100,
     "metadata": {},
     "output_type": "execute_result"
    }
   ],
   "source": [
    "emulator.MSE(pd.DataFrame(X_test),pd.DataFrame(y_test))"
   ]
  },
  {
   "cell_type": "code",
   "execution_count": 138,
   "id": "2704b93b",
   "metadata": {},
   "outputs": [],
   "source": [
    "# split original dataset in training, validation and testing sets\n",
    "X=torch.tensor(input_masked.values)\n",
    "y=torch.tensor(y_all.values)\n",
    "X_train, X_test, y_train, y_test = train_test_split(\n",
    "    X,\n",
    "    y,\n",
    "    test_size=0.2,\n",
    "    #random_state=seed\n",
    ")"
   ]
  },
  {
   "cell_type": "code",
   "execution_count": 139,
   "id": "be5468d5",
   "metadata": {},
   "outputs": [],
   "source": [
    "model = cig.cigp(X_train,y_train,normal_y_mode=1)"
   ]
  },
  {
   "cell_type": "code",
   "execution_count": 140,
   "id": "de88fae9",
   "metadata": {},
   "outputs": [
    {
     "name": "stdout",
     "output_type": "stream",
     "text": [
      "iter 0 nll:2855.71571\n",
      "iter 1 nll:2770.38860\n",
      "iter 2 nll:2676.38946\n",
      "iter 3 nll:2573.62294\n",
      "iter 4 nll:2463.45472\n",
      "iter 5 nll:2348.65454\n",
      "iter 6 nll:2233.03034\n",
      "iter 7 nll:2120.83010\n",
      "iter 8 nll:2015.95439\n",
      "iter 9 nll:1921.00369\n",
      "iter 10 nll:1836.38281\n",
      "iter 11 nll:1760.08169\n",
      "iter 12 nll:1688.72884\n",
      "iter 13 nll:1619.37586\n",
      "iter 14 nll:1550.57454\n",
      "iter 15 nll:1482.25851\n",
      "iter 16 nll:1415.06786\n",
      "iter 17 nll:1349.72663\n",
      "iter 18 nll:1286.62666\n",
      "iter 19 nll:1225.61870\n",
      "iter 20 nll:1166.12024\n",
      "iter 21 nll:1107.56461\n",
      "iter 22 nll:1049.85771\n",
      "iter 23 nll:993.47957\n",
      "iter 24 nll:939.24214\n",
      "iter 25 nll:887.92869\n",
      "iter 26 nll:840.00093\n",
      "iter 27 nll:795.45396\n",
      "iter 28 nll:753.82258\n",
      "iter 29 nll:714.31818\n",
      "iter 30 nll:676.06337\n",
      "iter 31 nll:638.36938\n",
      "iter 32 nll:600.98252\n",
      "iter 33 nll:564.22392\n",
      "iter 34 nll:528.95955\n",
      "iter 35 nll:496.36118\n",
      "iter 36 nll:467.47992\n",
      "iter 37 nll:442.78098\n",
      "iter 38 nll:421.92947\n",
      "iter 39 nll:404.01011\n",
      "iter 40 nll:387.96058\n",
      "iter 41 nll:372.87704\n",
      "iter 42 nll:358.17334\n",
      "iter 43 nll:343.70290\n",
      "iter 44 nll:329.77480\n",
      "iter 45 nll:316.97670\n",
      "iter 46 nll:305.88523\n",
      "iter 47 nll:296.82505\n",
      "iter 48 nll:289.76877\n",
      "iter 49 nll:284.37359\n",
      "iter 50 nll:280.11114\n",
      "iter 51 nll:276.43533\n",
      "iter 52 nll:272.92806\n",
      "iter 53 nll:269.38389\n",
      "iter 54 nll:265.82957\n",
      "iter 55 nll:262.48307\n",
      "iter 56 nll:259.65163\n",
      "iter 57 nll:257.59168\n",
      "iter 58 nll:256.39036\n",
      "iter 59 nll:255.92795\n",
      "iter 60 nll:255.93397\n",
      "iter 61 nll:256.09824\n",
      "iter 62 nll:256.17719\n",
      "iter 63 nll:256.05184\n",
      "iter 64 nll:255.72841\n",
      "iter 65 nll:255.29912\n",
      "iter 66 nll:254.88924\n",
      "iter 67 nll:254.60969\n",
      "iter 68 nll:254.52457\n",
      "iter 69 nll:254.63745\n",
      "iter 70 nll:254.89661\n",
      "iter 71 nll:255.21584\n",
      "iter 72 nll:255.50321\n",
      "iter 73 nll:255.68874\n",
      "iter 74 nll:255.74308\n",
      "iter 75 nll:255.68236\n",
      "iter 76 nll:255.55761\n",
      "iter 77 nll:255.43189\n",
      "iter 78 nll:255.35459\n",
      "iter 79 nll:255.34410\n",
      "iter 80 nll:255.38591\n",
      "iter 81 nll:255.44474\n",
      "iter 82 nll:255.48266\n",
      "iter 83 nll:255.47401\n",
      "iter 84 nll:255.41214\n",
      "iter 85 nll:255.30784\n",
      "iter 86 nll:255.18240\n",
      "iter 87 nll:255.05878\n",
      "iter 88 nll:254.95403\n",
      "iter 89 nll:254.87487\n",
      "iter 90 nll:254.81778\n",
      "iter 91 nll:254.77239\n",
      "iter 92 nll:254.72662\n",
      "iter 93 nll:254.67127\n",
      "iter 94 nll:254.60283\n",
      "iter 95 nll:254.52403\n",
      "iter 96 nll:254.44230\n",
      "iter 97 nll:254.36659\n",
      "iter 98 nll:254.30376\n",
      "iter 99 nll:254.25613\n"
     ]
    }
   ],
   "source": [
    "model.train_adam(niteration=500)"
   ]
  },
  {
   "cell_type": "code",
   "execution_count": 141,
   "id": "aea561af",
   "metadata": {},
   "outputs": [
    {
     "data": {
      "text/plain": [
       "tensor([3.8983e+00, 3.5484e-02, 7.3108e+00, 1.4100e+00, 1.1197e+03, 1.6824e+02,\n",
       "        5.6371e+00, 3.4233e-03, 3.1686e+00, 3.8595e-02, 6.3387e+01, 9.1155e+00,\n",
       "        4.9853e-01, 5.0793e-01, 4.9423e-01, 3.9198e-02, 3.2060e-01, 1.4409e-01,\n",
       "        3.5200e-01, 4.0536e-03, 4.7620e-02, 1.7338e-01, 4.4021e-01, 1.2994e-01,\n",
       "        4.8105e-02, 1.4506e-01, 8.9966e+01, 2.2428e+01], dtype=torch.float64,\n",
       "       grad_fn=<DivBackward0>)"
      ]
     },
     "execution_count": 141,
     "metadata": {},
     "output_type": "execute_result"
    }
   ],
   "source": [
    "(torch.sum((model.forward(X_test)[0]-y_test)**2,axis=0))/y_test.shape[0]"
   ]
  },
  {
   "cell_type": "code",
   "execution_count": 144,
   "id": "d3e6a1c6",
   "metadata": {
    "scrolled": true
   },
   "outputs": [
    {
     "name": "stdout",
     "output_type": "stream",
     "text": [
      "0\n",
      "1\n",
      "2\n",
      "3\n",
      "4\n",
      "5\n",
      "6\n",
      "7\n",
      "8\n",
      "9\n",
      "10\n",
      "11\n",
      "12\n",
      "13\n",
      "14\n",
      "15\n",
      "16\n",
      "17\n",
      "18\n",
      "19\n",
      "20\n",
      "21\n",
      "22\n",
      "23\n",
      "24\n",
      "25\n",
      "26\n",
      "27\n"
     ]
    }
   ],
   "source": [
    "emulator = GPE.ensemble(pd.DataFrame(X_train),pd.DataFrame(y_train),mean_func=\"constant\",training_iter=500)"
   ]
  },
  {
   "cell_type": "code",
   "execution_count": 145,
   "id": "ca562aea",
   "metadata": {},
   "outputs": [
    {
     "data": {
      "text/plain": [
       "[<matplotlib.lines.Line2D at 0x2b380b690>]"
      ]
     },
     "execution_count": 145,
     "metadata": {},
     "output_type": "execute_result"
    },
    {
     "data": {
      "image/png": "[encoded data removed]",
      "text/plain": [
       "<Figure size 640x480 with 1 Axes>"
      ]
     },
     "metadata": {},
     "output_type": "display_data"
    }
   ],
   "source": [
    "plt.plot(emulator.MSE(pd.DataFrame(X_test),pd.DataFrame(y_test)).detach().numpy(),'o')\n",
    "plt.plot(((torch.sum((model.forward(X_test)[0]-y_test)**2,axis=0))/y_test.shape[0]).detach().numpy(),'o')\n"
   ]
  },
  {
   "cell_type": "code",
   "execution_count": 150,
   "id": "b1c12935",
   "metadata": {},
   "outputs": [
    {
     "ename": "ValueError",
     "evalue": "Unable to coerce to Series, length must be 28: given 0",
     "output_type": "error",
     "traceback": [
      "\u001b[0;31m---------------------------------------------------------------------------\u001b[0m",
      "\u001b[0;31mValueError\u001b[0m                                Traceback (most recent call last)",
      "Cell \u001b[0;32mIn[150], line 1\u001b[0m\n\u001b[0;32m----> 1\u001b[0m np\u001b[38;5;241m.\u001b[39marray([])\u001b[38;5;241m/\u001b[39my_all\n",
      "File \u001b[0;32m~/anaconda3/lib/python3.11/site-packages/pandas/core/generic.py:2016\u001b[0m, in \u001b[0;36mNDFrame.__array_ufunc__\u001b[0;34m(self, ufunc, method, *inputs, **kwargs)\u001b[0m\n\u001b[1;32m   2012\u001b[0m \u001b[38;5;129m@final\u001b[39m\n\u001b[1;32m   2013\u001b[0m \u001b[38;5;28;01mdef\u001b[39;00m \u001b[38;5;21m__array_ufunc__\u001b[39m(\n\u001b[1;32m   2014\u001b[0m     \u001b[38;5;28mself\u001b[39m, ufunc: np\u001b[38;5;241m.\u001b[39mufunc, method: \u001b[38;5;28mstr\u001b[39m, \u001b[38;5;241m*\u001b[39minputs: Any, \u001b[38;5;241m*\u001b[39m\u001b[38;5;241m*\u001b[39mkwargs: Any\n\u001b[1;32m   2015\u001b[0m ):\n\u001b[0;32m-> 2016\u001b[0m     \u001b[38;5;28;01mreturn\u001b[39;00m arraylike\u001b[38;5;241m.\u001b[39marray_ufunc(\u001b[38;5;28mself\u001b[39m, ufunc, method, \u001b[38;5;241m*\u001b[39minputs, \u001b[38;5;241m*\u001b[39m\u001b[38;5;241m*\u001b[39mkwargs)\n",
      "File \u001b[0;32m~/anaconda3/lib/python3.11/site-packages/pandas/core/arraylike.py:273\u001b[0m, in \u001b[0;36marray_ufunc\u001b[0;34m(self, ufunc, method, *inputs, **kwargs)\u001b[0m\n\u001b[1;32m    270\u001b[0m kwargs \u001b[38;5;241m=\u001b[39m _standardize_out_kwarg(\u001b[38;5;241m*\u001b[39m\u001b[38;5;241m*\u001b[39mkwargs)\n\u001b[1;32m    272\u001b[0m \u001b[38;5;66;03m# for binary ops, use our custom dunder methods\u001b[39;00m\n\u001b[0;32m--> 273\u001b[0m result \u001b[38;5;241m=\u001b[39m maybe_dispatch_ufunc_to_dunder_op(\u001b[38;5;28mself\u001b[39m, ufunc, method, \u001b[38;5;241m*\u001b[39minputs, \u001b[38;5;241m*\u001b[39m\u001b[38;5;241m*\u001b[39mkwargs)\n\u001b[1;32m    274\u001b[0m \u001b[38;5;28;01mif\u001b[39;00m result \u001b[38;5;129;01mis\u001b[39;00m \u001b[38;5;129;01mnot\u001b[39;00m \u001b[38;5;28mNotImplemented\u001b[39m:\n\u001b[1;32m    275\u001b[0m     \u001b[38;5;28;01mreturn\u001b[39;00m result\n",
      "File \u001b[0;32m~/anaconda3/lib/python3.11/site-packages/pandas/_libs/ops_dispatch.pyx:113\u001b[0m, in \u001b[0;36mpandas._libs.ops_dispatch.maybe_dispatch_ufunc_to_dunder_op\u001b[0;34m()\u001b[0m\n",
      "File \u001b[0;32m~/anaconda3/lib/python3.11/site-packages/pandas/core/ops/common.py:81\u001b[0m, in \u001b[0;36m_unpack_zerodim_and_defer.<locals>.new_method\u001b[0;34m(self, other)\u001b[0m\n\u001b[1;32m     77\u001b[0m             \u001b[38;5;28;01mreturn\u001b[39;00m \u001b[38;5;28mNotImplemented\u001b[39m\n\u001b[1;32m     79\u001b[0m other \u001b[38;5;241m=\u001b[39m item_from_zerodim(other)\n\u001b[0;32m---> 81\u001b[0m \u001b[38;5;28;01mreturn\u001b[39;00m method(\u001b[38;5;28mself\u001b[39m, other)\n",
      "File \u001b[0;32m~/anaconda3/lib/python3.11/site-packages/pandas/core/arraylike.py:214\u001b[0m, in \u001b[0;36mOpsMixin.__rtruediv__\u001b[0;34m(self, other)\u001b[0m\n\u001b[1;32m    212\u001b[0m \u001b[38;5;129m@unpack_zerodim_and_defer\u001b[39m(\u001b[38;5;124m\"\u001b[39m\u001b[38;5;124m__rtruediv__\u001b[39m\u001b[38;5;124m\"\u001b[39m)\n\u001b[1;32m    213\u001b[0m \u001b[38;5;28;01mdef\u001b[39;00m \u001b[38;5;21m__rtruediv__\u001b[39m(\u001b[38;5;28mself\u001b[39m, other):\n\u001b[0;32m--> 214\u001b[0m     \u001b[38;5;28;01mreturn\u001b[39;00m \u001b[38;5;28mself\u001b[39m\u001b[38;5;241m.\u001b[39m_arith_method(other, roperator\u001b[38;5;241m.\u001b[39mrtruediv)\n",
      "File \u001b[0;32m~/anaconda3/lib/python3.11/site-packages/pandas/core/frame.py:7455\u001b[0m, in \u001b[0;36mDataFrame._arith_method\u001b[0;34m(self, other, op)\u001b[0m\n\u001b[1;32m   7452\u001b[0m axis: Literal[\u001b[38;5;241m1\u001b[39m] \u001b[38;5;241m=\u001b[39m \u001b[38;5;241m1\u001b[39m  \u001b[38;5;66;03m# only relevant for Series other case\u001b[39;00m\n\u001b[1;32m   7453\u001b[0m other \u001b[38;5;241m=\u001b[39m ops\u001b[38;5;241m.\u001b[39mmaybe_prepare_scalar_for_op(other, (\u001b[38;5;28mself\u001b[39m\u001b[38;5;241m.\u001b[39mshape[axis],))\n\u001b[0;32m-> 7455\u001b[0m \u001b[38;5;28mself\u001b[39m, other \u001b[38;5;241m=\u001b[39m ops\u001b[38;5;241m.\u001b[39malign_method_FRAME(\u001b[38;5;28mself\u001b[39m, other, axis, flex\u001b[38;5;241m=\u001b[39m\u001b[38;5;28;01mTrue\u001b[39;00m, level\u001b[38;5;241m=\u001b[39m\u001b[38;5;28;01mNone\u001b[39;00m)\n\u001b[1;32m   7457\u001b[0m new_data \u001b[38;5;241m=\u001b[39m \u001b[38;5;28mself\u001b[39m\u001b[38;5;241m.\u001b[39m_dispatch_frame_op(other, op, axis\u001b[38;5;241m=\u001b[39maxis)\n\u001b[1;32m   7458\u001b[0m \u001b[38;5;28;01mreturn\u001b[39;00m \u001b[38;5;28mself\u001b[39m\u001b[38;5;241m.\u001b[39m_construct_result(new_data)\n",
      "File \u001b[0;32m~/anaconda3/lib/python3.11/site-packages/pandas/core/ops/__init__.py:260\u001b[0m, in \u001b[0;36malign_method_FRAME\u001b[0;34m(left, right, axis, flex, level)\u001b[0m\n\u001b[1;32m    258\u001b[0m \u001b[38;5;28;01mif\u001b[39;00m \u001b[38;5;28misinstance\u001b[39m(right, np\u001b[38;5;241m.\u001b[39mndarray):\n\u001b[1;32m    259\u001b[0m     \u001b[38;5;28;01mif\u001b[39;00m right\u001b[38;5;241m.\u001b[39mndim \u001b[38;5;241m==\u001b[39m \u001b[38;5;241m1\u001b[39m:\n\u001b[0;32m--> 260\u001b[0m         right \u001b[38;5;241m=\u001b[39m to_series(right)\n\u001b[1;32m    262\u001b[0m     \u001b[38;5;28;01melif\u001b[39;00m right\u001b[38;5;241m.\u001b[39mndim \u001b[38;5;241m==\u001b[39m \u001b[38;5;241m2\u001b[39m:\n\u001b[1;32m    263\u001b[0m         \u001b[38;5;66;03m# We need to pass dtype=right.dtype to retain object dtype\u001b[39;00m\n\u001b[1;32m    264\u001b[0m         \u001b[38;5;66;03m#  otherwise we lose consistency with Index and array ops\u001b[39;00m\n\u001b[1;32m    265\u001b[0m         dtype \u001b[38;5;241m=\u001b[39m \u001b[38;5;28;01mNone\u001b[39;00m\n",
      "File \u001b[0;32m~/anaconda3/lib/python3.11/site-packages/pandas/core/ops/__init__.py:252\u001b[0m, in \u001b[0;36malign_method_FRAME.<locals>.to_series\u001b[0;34m(right)\u001b[0m\n\u001b[1;32m    250\u001b[0m \u001b[38;5;28;01melse\u001b[39;00m:\n\u001b[1;32m    251\u001b[0m     \u001b[38;5;28;01mif\u001b[39;00m \u001b[38;5;28mlen\u001b[39m(left\u001b[38;5;241m.\u001b[39mcolumns) \u001b[38;5;241m!=\u001b[39m \u001b[38;5;28mlen\u001b[39m(right):\n\u001b[0;32m--> 252\u001b[0m         \u001b[38;5;28;01mraise\u001b[39;00m \u001b[38;5;167;01mValueError\u001b[39;00m(\n\u001b[1;32m    253\u001b[0m             msg\u001b[38;5;241m.\u001b[39mformat(req_len\u001b[38;5;241m=\u001b[39m\u001b[38;5;28mlen\u001b[39m(left\u001b[38;5;241m.\u001b[39mcolumns), given_len\u001b[38;5;241m=\u001b[39m\u001b[38;5;28mlen\u001b[39m(right))\n\u001b[1;32m    254\u001b[0m         )\n\u001b[1;32m    255\u001b[0m     right \u001b[38;5;241m=\u001b[39m left\u001b[38;5;241m.\u001b[39m_constructor_sliced(right, index\u001b[38;5;241m=\u001b[39mleft\u001b[38;5;241m.\u001b[39mcolumns, dtype\u001b[38;5;241m=\u001b[39mdtype)\n\u001b[1;32m    256\u001b[0m \u001b[38;5;28;01mreturn\u001b[39;00m right\n",
      "\u001b[0;31mValueError\u001b[0m: Unable to coerce to Series, length must be 28: given 0"
     ]
    }
   ],
   "source": [
    "np.array([])/y_all"
   ]
  },
  {
   "cell_type": "code",
   "execution_count": null,
   "id": "ff413a95",
   "metadata": {},
   "outputs": [],
   "source": []
  }
 ],
 "metadata": {
  "kernelspec": {
   "display_name": "Python 3 (ipykernel)",
   "language": "python",
   "name": "python3"
  },
  "language_info": {
   "codemirror_mode": {
    "name": "ipython",
    "version": 3
   },
   "file_extension": ".py",
   "mimetype": "text/x-python",
   "name": "python",
   "nbconvert_exporter": "python",
   "pygments_lexer": "ipython3",
   "version": "3.11.5"
  }
 },
 "nbformat": 4,
 "nbformat_minor": 5
}
