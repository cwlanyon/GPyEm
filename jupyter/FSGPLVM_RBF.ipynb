{
 "cells": [
  {
   "cell_type": "code",
   "execution_count": 1,
   "id": "c2fd0118-1953-4901-9e7b-403d2b56e2c3",
   "metadata": {},
   "outputs": [],
   "source": [
    "import math\n",
    "import torch\n",
    "import gpytorch\n",
    "import pandas as pd \n",
    "import numpy as np\n",
    "from matplotlib import pyplot as plt\n",
    "\n",
    "from GPyEm import GPE_ensemble as GPE\n",
    "\n",
    "from FSGPLVM import FSGPLVM as LVM"
   ]
  },
  {
   "cell_type": "code",
   "execution_count": 2,
   "id": "c4288df3-5ba1-4845-9c47-402156e8971a",
   "metadata": {},
   "outputs": [],
   "source": [
    "import sklearn.metrics as sk"
   ]
  },
  {
   "cell_type": "markdown",
   "id": "4d022407-8ab7-4f98-93a5-de2e66818084",
   "metadata": {},
   "source": [
    "### Fully supervised GPLVM (we should come up with a better acronym/name)\n",
    "\n",
    "Observations:\n",
    "$$Y = [y_1,...,y_N], \\ y_n \\in R^{p}$$\n",
    "Model parameters\n",
    "$$X = [x_1,...,x_N], \\ x_n \\in R^{p\\times q}$$\n",
    "Latent parameters/features\n",
    "$$L = [l_1,...,l_N], \\ l_n \\in R^{d }$$\n",
    "With $d<q$ and $L\\sim N(0,I)$.\n",
    "\n",
    "We want to find a function $f_\\theta$ such that:\n",
    "$$ Y = f_\\theta(X,L)+\\epsilon $$\n",
    "Let's make $f$ a GP, as we like to, with mean $m_\\theta(X,L)$ and covariance $K_\\theta((X,L),(X',L'))$\n",
    "We would like to learn $L$ and $\\theta$ (the hyper-parameters). \n",
    "\n",
    "As a cost function we use the likelihood\n",
    "$$p(Y,L|X) = p(Y|L,X)p(L) $$\n",
    "and as $f$ is a GP,\n",
    "$$p(Y|L,X) \\sim N(m_\\theta(X,L), K_\\theta((X,L),(X,L)))$$\n",
    "\n",
    "Taking the log we have\n",
    "$$\\log p(Y,L|X) = \\log p(Y|L,X)+\\log p(L) $$\n",
    "$$ = -\\frac{NP}{2}\\log(2\\pi)-\\frac{1}{2}\\log|K_\\theta|-\\frac{1}{2}(Y-m_\\theta(X,L))^\\top\\ K_\\theta^{-1}(Y-m_\\theta(X,L))-\\frac{N*LDIM}{2}\\log(2\\pi)-\\frac{1}{2}\\log|I|-\\frac{1}{2}(L)^\\top I^{-1}(L)) $$\n"
   ]
  },
  {
   "cell_type": "markdown",
   "id": "7db27991-412e-4b67-9a76-0db0382473b9",
   "metadata": {},
   "source": [
    "to calculate $\\log |K|$ we use the fact that $\\log |K| = 2\\Sigma (\\log\\mathrm{diag}(L)_i)$, where $L$ is the cholesky decomposition of $K$."
   ]
  },
  {
   "cell_type": "code",
   "execution_count": 3,
   "id": "005cc30b-0fce-43f1-960d-a68e1f041408",
   "metadata": {},
   "outputs": [],
   "source": [
    "def multivariate_ll(y,mu,K,K_inv=None):\n",
    "    det = 2*torch.sum(torch.log(torch.diag(torch.linalg.cholesky(K))))\n",
    "    if K_inv==None:\n",
    "        ll = -((y.shape[0]*y.shape[1])/2)*torch.log(2*torch.tensor(torch.pi))-0.5*y.shape[1]*det-0.5*torch.sum(torch.diag(torch.matmul((y-mu).T,torch.linalg.solve(K,y-mu))))\n",
    "        #ll = -(y.shape[0]/2)*torch.log(2*torch.tensor(torch.pi))-0.5*det-0.5*torch.matmul((y-mu).T,torch.linalg.solve(K,y-mu))\n",
    "        \n",
    "    return ll"
   ]
  },
  {
   "cell_type": "code",
   "execution_count": 4,
   "id": "c40a6d86-1ede-452a-b567-fbaa843f1627",
   "metadata": {},
   "outputs": [],
   "source": [
    "import numpy as np\n",
    "from sklearn.metrics.pairwise import rbf_kernel\n",
    "\n",
    "\n",
    "\n",
    "def rbf(X1,L1,X2,L2,scaling,lengthscale,p1,p2):\n",
    "    X1=X1/torch.sqrt(lengthscale)\n",
    "    X2=X2/torch.sqrt(lengthscale)\n",
    "    X_1 = (torch.cat((X1,torch.repeat_interleave(L1,p1,dim=0)),axis=1)).detach().numpy()\n",
    "    X_2 = (torch.cat((X2,torch.repeat_interleave(L2,p2,dim=0)),axis=1)).detach().numpy()\n",
    "    rbf = scaling * torch.tensor(rbf_kernel(X_1,X_2, gamma = 1))\n",
    "\n",
    "    return rbf\n",
    "\n",
    "def rbf(X1,L1,X2,L2,scaling,lengthscale,p1,p2):\n",
    "    X_1 = (torch.cat((X1,torch.repeat_interleave(L1,p1,dim=0)),axis=1)/torch.sqrt(lengthscale)).detach().numpy()\n",
    "    X_2 = (torch.cat((X2,torch.repeat_interleave(L2,p2,dim=0)),axis=1)/torch.sqrt(lengthscale)).detach().numpy()\n",
    "    rbf = scaling * torch.tensor(rbf_kernel(X_1,X_2, gamma = 1))\n",
    "\n",
    "    return rbf\n",
    "\n",
    "def rbf2(X1,X2,scaling,lengthscale):\n",
    "\n",
    "    X_1 = (X1/torch.sqrt(lengthscale)).detach().numpy()\n",
    "    X_2 = (X2/torch.sqrt(lengthscale)).detach().numpy()\n",
    "    rbf = scaling * torch.tensor(rbf_kernel(X_1,X_2, gamma = 1))\n",
    "\n",
    "    return rbf\n",
    "\n",
    "\n",
    "def rbf(X1,X2,scaling,lengthscale):\n",
    "\n",
    "    X_1 = X1/lengthscale\n",
    "    X_2 = X2/lengthscale\n",
    "    rbf = scaling * torch.exp(-0.5*torch.cdist(X_1,X_2,p=2)**2)\n",
    "\n",
    "    return rbf\n",
    "\n"
   ]
  },
  {
   "cell_type": "markdown",
   "id": "3994c62a-ec5e-4ff2-90f1-0902de215863",
   "metadata": {},
   "source": [
    "For the linear kernel we don't really have any separation possibilities that are useful to us from an inverting persepctive, as far as I can tell? \n",
    "$$K_{ij}=x_i^\\top x_j + l_i^\\top l_j$$\n",
    "\n",
    "So we don't get much in the way of help here."
   ]
  },
  {
   "cell_type": "code",
   "execution_count": 5,
   "id": "182f217c-b642-438e-bfa2-d292c99b9850",
   "metadata": {},
   "outputs": [],
   "source": [
    "def linear(X1,L1,X2,L2,X_length,L_length,p1,p2):\n",
    "    \n",
    "    L1=L1/torch.sqrt(L_scale)\n",
    "    X1=X1/torch.sqrt(X_scale)\n",
    "    X_1 = torch.cat((X1,torch.repeat_interleave(L1,p1)[:,None]),axis=1)\n",
    "\n",
    "    L2=L2/torch.sqrt(L_scale)\n",
    "    X2=X2/torch.sqrt(X_scale)\n",
    "    X_2 = torch.cat((X2,torch.repeat_interleave(L2,p2)[:,None]),axis=1)\n",
    "    \n",
    "    rbf =  torch.matmul(X_1, X_2.T) \n",
    "    return rbf"
   ]
  },
  {
   "cell_type": "markdown",
   "id": "9561338a-cf45-4358-97bb-d1460f6c7c62",
   "metadata": {},
   "source": [
    "sample $L$ and $X$ from $U[-1,1]$\n",
    "\n",
    "Here we do $x_i \\neq x_j$, just for the sake of it"
   ]
  },
  {
   "cell_type": "markdown",
   "id": "6f5921d3-a4a5-42b9-bfd2-c51cea5a6735",
   "metadata": {},
   "source": [
    "Posterior mean: $$m(X^*,X)+K((X^*,L^*),(X,L))(K((X,L),(X,L))+\\sigma^2I)^{-1}(Y-m(X,X))$$\n",
    "\n",
    "Posterior covar: $$K((X^*,L^*),(X^*,L^*))+\\sigma^2 - K((X^*,L^*),(X,L))(K((X,L),(X,L))+\\sigma^2I]^{-1}K((X^*,L^*),(X,L))^\\top$$"
   ]
  },
  {
   "cell_type": "code",
   "execution_count": 6,
   "id": "2135f7d0-6e53-4819-99ea-9d48a5c30de4",
   "metadata": {},
   "outputs": [],
   "source": [
    "def posterior_theta(Y,X_test,L_test,p_test,X_train,L_train,p_train,scaling,lengthscale,sigma2,mean):\n",
    "    K = rbf(X_train,L_train,X_train,L_train,scaling,lengthscale,p_train,p_train)+sigma2*torch.eye(X_train.shape[0])\n",
    "    K_s = rbf(X_test,L_test,X_train,L_train,scaling,lengthscale,p_test,p_train)\n",
    "    K_ss = rbf(X_test,L_test,X_test,L_test,scaling,lengthscale,p_test,p_test)\n",
    "\n",
    "    mean_p = mean+torch.matmul(K_s,torch.linalg.solve(K,Y-mean))\n",
    "    K_p = K_ss-torch.matmul(K_s,torch.linalg.solve(K,K_s.T))+sigma2\n",
    "    return mean_p, K_p"
   ]
  },
  {
   "cell_type": "code",
   "execution_count": 7,
   "id": "c14bb8a3-6afd-4810-9a82-152387cc8240",
   "metadata": {},
   "outputs": [],
   "source": [
    "def posterior_theta(Y,X_test,X_train,scaling,lengthscale,sigma2,mean):\n",
    "    K = rbf(X_train,X_train,scaling,lengthscale)+sigma2*torch.eye(X_train.shape[0])\n",
    "    K_s = rbf(X_test,X_train,scaling,lengthscale)\n",
    "    K_ss = rbf(X_test,X_test,scaling,lengthscale)\n",
    "\n",
    "    mean_p = mean+torch.matmul(K_s,torch.linalg.solve(K,Y-mean))\n",
    "    K_p = K_ss-torch.matmul(K_s,torch.linalg.solve(K,K_s.T))+sigma2\n",
    "    return mean_p, K_p"
   ]
  },
  {
   "cell_type": "markdown",
   "id": "8acea079-34a4-4d59-9306-757da9b84345",
   "metadata": {},
   "source": [
    "### Test 1"
   ]
  },
  {
   "cell_type": "code",
   "execution_count": 8,
   "id": "52babe36-0822-4ed8-a2cf-f7f8ea2e4077",
   "metadata": {},
   "outputs": [],
   "source": [
    "N = 10 #number of systems\n",
    "p = 20 #observations per system\n",
    "alpha=10\n",
    "beta=-7\n",
    "zeta=1"
   ]
  },
  {
   "cell_type": "code",
   "execution_count": 9,
   "id": "434fff99-4185-40a6-8ec0-11180da77f95",
   "metadata": {},
   "outputs": [],
   "source": [
    "L_true=torch.FloatTensor(N, 1).uniform_(1, 4)\n",
    "L_true =torch.normal(0,torch.ones(L_true.shape[0],L_true.shape[1]))"
   ]
  },
  {
   "cell_type": "code",
   "execution_count": 10,
   "id": "07b2ccc9-6f6b-4867-8d5e-851383e9121a",
   "metadata": {},
   "outputs": [
    {
     "data": {
      "text/plain": [
       "tensor([[ 0.1544],\n",
       "        [-1.1439],\n",
       "        [-1.2928],\n",
       "        [-0.8787],\n",
       "        [-0.2379],\n",
       "        [ 0.0497],\n",
       "        [-1.1381],\n",
       "        [-0.1084],\n",
       "        [-0.6153],\n",
       "        [ 0.2318]])"
      ]
     },
     "execution_count": 10,
     "metadata": {},
     "output_type": "execute_result"
    }
   ],
   "source": [
    "L_true"
   ]
  },
  {
   "cell_type": "code",
   "execution_count": 11,
   "id": "f66620d6-7e42-4790-aec1-dc227e1c002e",
   "metadata": {},
   "outputs": [
    {
     "data": {
      "text/plain": [
       "tensor(-11.9766)"
      ]
     },
     "execution_count": 11,
     "metadata": {},
     "output_type": "execute_result"
    }
   ],
   "source": [
    "multivariate_ll(L_true,0,torch.eye(N),K_inv=None)"
   ]
  },
  {
   "cell_type": "code",
   "execution_count": 12,
   "id": "ae9d5fa8-179a-49b5-9243-e478e9f59b65",
   "metadata": {},
   "outputs": [
    {
     "data": {
      "text/plain": [
       "-11.976604199007978"
      ]
     },
     "execution_count": 12,
     "metadata": {},
     "output_type": "execute_result"
    }
   ],
   "source": [
    "\n",
    "import scipy\n",
    "np.sum(scipy.stats.multivariate_normal.logpdf(L_true.T.detach().numpy(),cov=np.eye(N)))"
   ]
  },
  {
   "cell_type": "code",
   "execution_count": 13,
   "id": "9e40232a-a9f1-46d2-b4af-f4a7a0c74d01",
   "metadata": {},
   "outputs": [],
   "source": [
    "X_train=torch.torch.FloatTensor(N*p, 1).uniform_(-2, 2)\n",
    "X_test=torch.torch.FloatTensor(N*p, 1).uniform_(-2, 2)"
   ]
  },
  {
   "cell_type": "code",
   "execution_count": 14,
   "id": "94b27d91-2fed-40a1-b35f-4d4c3f7f721f",
   "metadata": {},
   "outputs": [
    {
     "data": {
      "text/plain": [
       "tensor([0.1544])"
      ]
     },
     "execution_count": 14,
     "metadata": {},
     "output_type": "execute_result"
    }
   ],
   "source": [
    "L_true[[0]][0]"
   ]
  },
  {
   "cell_type": "code",
   "execution_count": null,
   "id": "8841b706-849b-46fa-a357-269c86aa4d93",
   "metadata": {},
   "outputs": [],
   "source": []
  },
  {
   "cell_type": "code",
   "execution_count": 41,
   "id": "bd5cbaea-cc79-484c-80a9-c5e9da7f998d",
   "metadata": {},
   "outputs": [],
   "source": [
    "def true_func(X,L,alpha,beta,zeta):\n",
    "    tf = alpha*X*X*L+beta+torch.normal(0,0.0001*torch.ones(X.shape[0],1))\n",
    "    return tf"
   ]
  },
  {
   "cell_type": "code",
   "execution_count": 42,
   "id": "7fa375ba-1ea5-4517-b630-7fafeaec48a2",
   "metadata": {},
   "outputs": [],
   "source": [
    "lmin=-2\n",
    "lmax=2\n",
    "\n",
    "xmin=-2\n",
    "xmax=2\n",
    "\n",
    "\n",
    "l_range = torch.linspace(lmin,lmax,100)\n",
    "x_range = torch.linspace(xmin,xmax,100)\n",
    "\n",
    "XX,LL  = torch.meshgrid(l_range,x_range)\n",
    "XXLL = torch.cat([XX.reshape(10000,1),LL.reshape(10000,1)],axis=1)\n",
    "\n",
    "YY = true_func(XX,LL,alpha,beta,zeta)"
   ]
  },
  {
   "cell_type": "code",
   "execution_count": 43,
   "id": "b4277d83-184e-413d-97d9-fd97b00ebf15",
   "metadata": {},
   "outputs": [
    {
     "data": {
      "text/plain": [
       "<matplotlib.colorbar.Colorbar at 0x2ae2989d0>"
      ]
     },
     "execution_count": 43,
     "metadata": {},
     "output_type": "execute_result"
    },
    {
     "data": {
      "image/png": "[encoded data removed]",
      "text/plain": [
       "<Figure size 640x480 with 2 Axes>"
      ]
     },
     "metadata": {},
     "output_type": "display_data"
    }
   ],
   "source": [
    "plt.imshow(YY,origin='lower',extent=[lmin,lmax,xmin,xmax])\n",
    "plt.ylabel('X')\n",
    "plt.xlabel('L')\n",
    "\n",
    "plt.colorbar()"
   ]
  },
  {
   "cell_type": "code",
   "execution_count": 44,
   "id": "1c8c58cd-68f3-4009-8045-ceb52ece710f",
   "metadata": {},
   "outputs": [],
   "source": [
    "y=[]\n",
    "y_test = []\n",
    "for i in range(N):\n",
    "    y.append(true_func(X_train[i*p:(i+1)*p],L_true[[i]],alpha,beta,zeta))\n",
    "    y_test.append(true_func(X_test[i*p:(i+1)*p],L_true[[i]],alpha,beta,zeta))"
   ]
  },
  {
   "cell_type": "code",
   "execution_count": 45,
   "id": "17b6ccee-493f-4e52-b3a6-5888101788c9",
   "metadata": {},
   "outputs": [],
   "source": [
    "Y=torch.cat(y)\n",
    "Y_test=torch.cat(y_test)"
   ]
  },
  {
   "cell_type": "code",
   "execution_count": 46,
   "id": "2f674a06-5dd7-4684-9df8-c87ba4097f90",
   "metadata": {},
   "outputs": [
    {
     "data": {
      "text/plain": [
       "torch.Size([200, 1])"
      ]
     },
     "execution_count": 46,
     "metadata": {},
     "output_type": "execute_result"
    }
   ],
   "source": [
    "Y.shape"
   ]
  },
  {
   "cell_type": "code",
   "execution_count": 47,
   "id": "7165cb90-0487-4942-9b5e-d46c1e687d21",
   "metadata": {},
   "outputs": [
    {
     "data": {
      "image/png": "[encoded data removed]",
      "text/plain": [
       "<Figure size 640x480 with 1 Axes>"
      ]
     },
     "metadata": {},
     "output_type": "display_data"
    }
   ],
   "source": [
    "for i in range(N):\n",
    "    plt.plot(X_train[i*p:(i+1)*p,0].detach().numpy(),Y[i*p:(i+1)*p].detach().numpy(),'o')"
   ]
  },
  {
   "cell_type": "code",
   "execution_count": 48,
   "id": "3226c206-d056-49e7-88dc-a8a77e384bb6",
   "metadata": {},
   "outputs": [],
   "source": [
    "Y_mean = Y.mean()\n",
    "Y_std = Y.std()\n",
    "\n",
    "X_mean = X_train.mean()\n",
    "X_std =X_train.std()\n",
    "\n",
    "#X_train = (X_train-X_mean)/X_std\n",
    "#X_test = (X_test-X_mean)/X_std\n",
    "\n",
    "#Y=(Y-Y_mean)/Y_std\n",
    "#Y_test=(Y_test-Y_mean)/Y_std"
   ]
  },
  {
   "cell_type": "code",
   "execution_count": 49,
   "id": "e83eb55a-1356-410c-9f7c-c3b10e20d9e6",
   "metadata": {},
   "outputs": [],
   "source": [
    "X_all_train = (torch.cat((X_train,torch.repeat_interleave(L_true,p,dim=0)),axis=1))\n",
    "X_all_test = (torch.cat((X_test,torch.repeat_interleave(L_true,p,dim=0)),axis=1))\n"
   ]
  },
  {
   "cell_type": "code",
   "execution_count": 50,
   "id": "2ca333eb-6d16-4dd4-9119-ceca5e74d2d5",
   "metadata": {},
   "outputs": [
    {
     "name": "stdout",
     "output_type": "stream",
     "text": [
      "0\n"
     ]
    },
    {
     "name": "stderr",
     "output_type": "stream",
     "text": [
      "/Users/pmzcwl/anaconda3/lib/python3.11/site-packages/linear_operator/utils/cholesky.py:40: NumericalWarning: A not p.d., added jitter of 1.0e-06 to the diagonal\n",
      "  warnings.warn(\n",
      "/Users/pmzcwl/anaconda3/lib/python3.11/site-packages/linear_operator/utils/cholesky.py:40: NumericalWarning: A not p.d., added jitter of 1.0e-05 to the diagonal\n",
      "  warnings.warn(\n"
     ]
    }
   ],
   "source": [
    "emulator=GPE.ensemble(X_all_train,Y,mean_func='zero',training_iter=1000)"
   ]
  },
  {
   "cell_type": "code",
   "execution_count": 51,
   "id": "e252bfe6-c6a1-4f9e-b86e-2bc9b570b0db",
   "metadata": {},
   "outputs": [
    {
     "name": "stdout",
     "output_type": "stream",
     "text": [
      "Parameter name: likelihood.noise_covar.raw_noise           \n",
      "Parameter name: covar_module.raw_outputscale               \n",
      "Parameter name: covar_module.base_kernel.raw_lengthscale   \n"
     ]
    }
   ],
   "source": [
    "for param_name, param in emulator.models[0].named_parameters():\n",
    "    print(f'Parameter name: {param_name:42} ')"
   ]
  },
  {
   "cell_type": "code",
   "execution_count": 52,
   "id": "d2149151-ecdc-4ae2-93fb-6c051764b420",
   "metadata": {},
   "outputs": [
    {
     "data": {
      "text/plain": [
       "tensor([[2.0856, 4.0024]], grad_fn=<SoftplusBackward0>)"
      ]
     },
     "execution_count": 52,
     "metadata": {},
     "output_type": "execute_result"
    }
   ],
   "source": [
    "emulator.models[0].covar_module.outputscale\n",
    "emulator.models[0].covar_module.base_kernel.lengthscale"
   ]
  },
  {
   "cell_type": "code",
   "execution_count": 53,
   "id": "5ad221d4-6a19-460a-8ddf-4e4f6474ae72",
   "metadata": {},
   "outputs": [
    {
     "data": {
      "text/plain": [
       "tensor(47.0015)"
      ]
     },
     "execution_count": 53,
     "metadata": {},
     "output_type": "execute_result"
    }
   ],
   "source": [
    "emulator.models[0].covar_module.outputscale.detach().clone()"
   ]
  },
  {
   "cell_type": "code",
   "execution_count": 54,
   "id": "3d16abfa-db5e-4fe8-b392-f2c6efdb26cc",
   "metadata": {},
   "outputs": [],
   "source": [
    "L =torch.normal(0,torch.ones(L_true.shape[0],1)).clone().detach().requires_grad_(True)\n",
    "\n",
    "XL_train = torch.cat((X_train,torch.repeat_interleave(L,p,dim=0)),axis=1)"
   ]
  },
  {
   "cell_type": "code",
   "execution_count": 55,
   "id": "79b049dc-2404-49a0-8cf9-56dec86f74ac",
   "metadata": {
    "scrolled": true
   },
   "outputs": [
    {
     "name": "stdout",
     "output_type": "stream",
     "text": [
      "tensor(29882.4004, grad_fn=<NegBackward0>)\n",
      "tensor(28673.1914, grad_fn=<NegBackward0>)\n",
      "tensor(27464.5332, grad_fn=<NegBackward0>)\n",
      "tensor(26251.2461, grad_fn=<NegBackward0>)\n",
      "tensor(25046.5293, grad_fn=<NegBackward0>)\n",
      "tensor(23850.8906, grad_fn=<NegBackward0>)\n"
     ]
    }
   ],
   "source": [
    "LVemulator = LVM.LVE(XL_train,Y,0.001,p,N,1,training_iter=6000,lr=1e-5)"
   ]
  },
  {
   "cell_type": "code",
   "execution_count": 56,
   "id": "72ee7e30-2faf-423d-8d9d-d8b4a091551a",
   "metadata": {},
   "outputs": [
    {
     "name": "stdout",
     "output_type": "stream",
     "text": [
      "tensor(22667.2168, grad_fn=<NegBackward0>)\n",
      "tensor(21507.6602, grad_fn=<NegBackward0>)\n",
      "tensor(20361.5684, grad_fn=<NegBackward0>)\n",
      "tensor(19258.6875, grad_fn=<NegBackward0>)\n",
      "tensor(18179.1270, grad_fn=<NegBackward0>)\n",
      "tensor(17133.4551, grad_fn=<NegBackward0>)\n",
      "tensor(16114.7754, grad_fn=<NegBackward0>)\n",
      "tensor(15127.9258, grad_fn=<NegBackward0>)\n",
      "tensor(14159.8711, grad_fn=<NegBackward0>)\n",
      "tensor(13206.9492, grad_fn=<NegBackward0>)\n",
      "tensor(12281.3555, grad_fn=<NegBackward0>)\n",
      "tensor(11380.2871, grad_fn=<NegBackward0>)\n",
      "tensor(10512.6094, grad_fn=<NegBackward0>)\n",
      "tensor(9676.7578, grad_fn=<NegBackward0>)\n",
      "tensor(8891.3164, grad_fn=<NegBackward0>)\n",
      "tensor(8152.9565, grad_fn=<NegBackward0>)\n",
      "tensor(7444.0679, grad_fn=<NegBackward0>)\n",
      "tensor(6794.2178, grad_fn=<NegBackward0>)\n",
      "tensor(6192.0605, grad_fn=<NegBackward0>)\n",
      "tensor(5641.4424, grad_fn=<NegBackward0>)\n",
      "tensor(5142.4092, grad_fn=<NegBackward0>)\n",
      "tensor(4689.6152, grad_fn=<NegBackward0>)\n",
      "tensor(4281.2017, grad_fn=<NegBackward0>)\n",
      "tensor(3912.2107, grad_fn=<NegBackward0>)\n",
      "tensor(3587.9937, grad_fn=<NegBackward0>)\n",
      "tensor(3297.7461, grad_fn=<NegBackward0>)\n",
      "tensor(3040.3459, grad_fn=<NegBackward0>)\n",
      "tensor(2816.6611, grad_fn=<NegBackward0>)\n",
      "tensor(2621.8608, grad_fn=<NegBackward0>)\n",
      "tensor(2452.0618, grad_fn=<NegBackward0>)\n",
      "tensor(2303.4834, grad_fn=<NegBackward0>)\n",
      "tensor(2171.5947, grad_fn=<NegBackward0>)\n",
      "tensor(2053.6187, grad_fn=<NegBackward0>)\n",
      "tensor(1947.6040, grad_fn=<NegBackward0>)\n",
      "tensor(1851.6150, grad_fn=<NegBackward0>)\n",
      "tensor(1765.6062, grad_fn=<NegBackward0>)\n",
      "tensor(1687.0793, grad_fn=<NegBackward0>)\n",
      "tensor(1615.2299, grad_fn=<NegBackward0>)\n",
      "tensor(1547.7053, grad_fn=<NegBackward0>)\n",
      "tensor(1484.1904, grad_fn=<NegBackward0>)\n",
      "tensor(1424.0479, grad_fn=<NegBackward0>)\n",
      "tensor(1367.3008, grad_fn=<NegBackward0>)\n",
      "tensor(1314.0955, grad_fn=<NegBackward0>)\n",
      "tensor(1263.8447, grad_fn=<NegBackward0>)\n",
      "tensor(1216.4233, grad_fn=<NegBackward0>)\n",
      "tensor(1172.1377, grad_fn=<NegBackward0>)\n",
      "tensor(1130.3333, grad_fn=<NegBackward0>)\n",
      "tensor(1090.8615, grad_fn=<NegBackward0>)\n",
      "tensor(1053.8298, grad_fn=<NegBackward0>)\n",
      "tensor(1018.6708, grad_fn=<NegBackward0>)\n",
      "tensor(985.8603, grad_fn=<NegBackward0>)\n",
      "tensor(954.6672, grad_fn=<NegBackward0>)\n",
      "tensor(925.5914, grad_fn=<NegBackward0>)\n",
      "tensor(897.8382, grad_fn=<NegBackward0>)\n",
      "tensor(871.6720, grad_fn=<NegBackward0>)\n",
      "tensor(846.7119, grad_fn=<NegBackward0>)\n",
      "tensor(822.6786, grad_fn=<NegBackward0>)\n",
      "tensor(799.8069, grad_fn=<NegBackward0>)\n",
      "tensor(777.4816, grad_fn=<NegBackward0>)\n",
      "tensor(756.3607, grad_fn=<NegBackward0>)\n",
      "tensor(735.7894, grad_fn=<NegBackward0>)\n",
      "tensor(716.0879, grad_fn=<NegBackward0>)\n",
      "tensor(697.1519, grad_fn=<NegBackward0>)\n",
      "tensor(678.8248, grad_fn=<NegBackward0>)\n",
      "tensor(660.9216, grad_fn=<NegBackward0>)\n",
      "tensor(643.7343, grad_fn=<NegBackward0>)\n",
      "tensor(626.9686, grad_fn=<NegBackward0>)\n",
      "tensor(610.7961, grad_fn=<NegBackward0>)\n",
      "tensor(595.1618, grad_fn=<NegBackward0>)\n",
      "tensor(580.1943, grad_fn=<NegBackward0>)\n",
      "tensor(565.5500, grad_fn=<NegBackward0>)\n",
      "tensor(551.4509, grad_fn=<NegBackward0>)\n",
      "tensor(537.8324, grad_fn=<NegBackward0>)\n",
      "tensor(524.7451, grad_fn=<NegBackward0>)\n",
      "tensor(511.9894, grad_fn=<NegBackward0>)\n",
      "tensor(499.6778, grad_fn=<NegBackward0>)\n",
      "tensor(487.8892, grad_fn=<NegBackward0>)\n",
      "tensor(476.4080, grad_fn=<NegBackward0>)\n",
      "tensor(465.3557, grad_fn=<NegBackward0>)\n",
      "tensor(454.7508, grad_fn=<NegBackward0>)\n",
      "tensor(444.3335, grad_fn=<NegBackward0>)\n",
      "tensor(434.4272, grad_fn=<NegBackward0>)\n",
      "tensor(424.7347, grad_fn=<NegBackward0>)\n",
      "tensor(415.4695, grad_fn=<NegBackward0>)\n",
      "tensor(406.4462, grad_fn=<NegBackward0>)\n",
      "tensor(397.7556, grad_fn=<NegBackward0>)\n",
      "tensor(389.3544, grad_fn=<NegBackward0>)\n",
      "tensor(381.3185, grad_fn=<NegBackward0>)\n",
      "tensor(373.4071, grad_fn=<NegBackward0>)\n",
      "tensor(365.8323, grad_fn=<NegBackward0>)\n",
      "tensor(358.5036, grad_fn=<NegBackward0>)\n",
      "tensor(351.4241, grad_fn=<NegBackward0>)\n",
      "tensor(344.6578, grad_fn=<NegBackward0>)\n",
      "tensor(338.0822, grad_fn=<NegBackward0>)\n",
      "tensor(331.7188, grad_fn=<NegBackward0>)\n",
      "tensor(325.6236, grad_fn=<NegBackward0>)\n",
      "tensor(319.7413, grad_fn=<NegBackward0>)\n",
      "tensor(314.0554, grad_fn=<NegBackward0>)\n",
      "tensor(308.6498, grad_fn=<NegBackward0>)\n",
      "tensor(303.4224, grad_fn=<NegBackward0>)\n",
      "tensor(298.2978, grad_fn=<NegBackward0>)\n",
      "tensor(293.4521, grad_fn=<NegBackward0>)\n",
      "tensor(288.7277, grad_fn=<NegBackward0>)\n",
      "tensor(284.2466, grad_fn=<NegBackward0>)\n",
      "tensor(279.8711, grad_fn=<NegBackward0>)\n",
      "tensor(275.7469, grad_fn=<NegBackward0>)\n",
      "tensor(271.7138, grad_fn=<NegBackward0>)\n",
      "tensor(267.8802, grad_fn=<NegBackward0>)\n",
      "tensor(264.1857, grad_fn=<NegBackward0>)\n",
      "tensor(260.6071, grad_fn=<NegBackward0>)\n",
      "tensor(257.2141, grad_fn=<NegBackward0>)\n",
      "tensor(253.9699, grad_fn=<NegBackward0>)\n",
      "tensor(250.8543, grad_fn=<NegBackward0>)\n",
      "tensor(247.8126, grad_fn=<NegBackward0>)\n",
      "tensor(244.9703, grad_fn=<NegBackward0>)\n",
      "tensor(242.2464, grad_fn=<NegBackward0>)\n",
      "tensor(239.6022, grad_fn=<NegBackward0>)\n",
      "tensor(237.0889, grad_fn=<NegBackward0>)\n",
      "tensor(234.7347, grad_fn=<NegBackward0>)\n",
      "tensor(232.3937, grad_fn=<NegBackward0>)\n",
      "tensor(230.2428, grad_fn=<NegBackward0>)\n",
      "tensor(228.1444, grad_fn=<NegBackward0>)\n",
      "tensor(226.1233, grad_fn=<NegBackward0>)\n",
      "tensor(224.1871, grad_fn=<NegBackward0>)\n",
      "tensor(222.3494, grad_fn=<NegBackward0>)\n",
      "tensor(220.5519, grad_fn=<NegBackward0>)\n",
      "tensor(218.7285, grad_fn=<NegBackward0>)\n",
      "tensor(216.9619, grad_fn=<NegBackward0>)\n",
      "tensor(215.2099, grad_fn=<NegBackward0>)\n",
      "tensor(213.4956, grad_fn=<NegBackward0>)\n",
      "tensor(211.7706, grad_fn=<NegBackward0>)\n",
      "tensor(210.1054, grad_fn=<NegBackward0>)\n",
      "tensor(208.4523, grad_fn=<NegBackward0>)\n",
      "tensor(206.8124, grad_fn=<NegBackward0>)\n",
      "tensor(205.2122, grad_fn=<NegBackward0>)\n",
      "tensor(203.5914, grad_fn=<NegBackward0>)\n",
      "tensor(202.0454, grad_fn=<NegBackward0>)\n",
      "tensor(200.4748, grad_fn=<NegBackward0>)\n",
      "tensor(198.9380, grad_fn=<NegBackward0>)\n",
      "tensor(197.4535, grad_fn=<NegBackward0>)\n",
      "tensor(195.9742, grad_fn=<NegBackward0>)\n",
      "tensor(194.5044, grad_fn=<NegBackward0>)\n",
      "tensor(193.0864, grad_fn=<NegBackward0>)\n",
      "tensor(191.6515, grad_fn=<NegBackward0>)\n",
      "tensor(190.2527, grad_fn=<NegBackward0>)\n",
      "tensor(188.8664, grad_fn=<NegBackward0>)\n",
      "tensor(187.4998, grad_fn=<NegBackward0>)\n",
      "tensor(186.1958, grad_fn=<NegBackward0>)\n",
      "tensor(184.8651, grad_fn=<NegBackward0>)\n",
      "tensor(183.5490, grad_fn=<NegBackward0>)\n",
      "tensor(182.3028, grad_fn=<NegBackward0>)\n",
      "tensor(181.0132, grad_fn=<NegBackward0>)\n",
      "tensor(179.7923, grad_fn=<NegBackward0>)\n",
      "tensor(178.5375, grad_fn=<NegBackward0>)\n",
      "tensor(177.3740, grad_fn=<NegBackward0>)\n",
      "tensor(176.1797, grad_fn=<NegBackward0>)\n",
      "tensor(175.0397, grad_fn=<NegBackward0>)\n",
      "tensor(173.8812, grad_fn=<NegBackward0>)\n",
      "tensor(172.7821, grad_fn=<NegBackward0>)\n",
      "tensor(171.6884, grad_fn=<NegBackward0>)\n",
      "tensor(170.6119, grad_fn=<NegBackward0>)\n",
      "tensor(169.5176, grad_fn=<NegBackward0>)\n",
      "tensor(168.4996, grad_fn=<NegBackward0>)\n",
      "tensor(167.4609, grad_fn=<NegBackward0>)\n",
      "tensor(166.4786, grad_fn=<NegBackward0>)\n",
      "tensor(165.4879, grad_fn=<NegBackward0>)\n",
      "tensor(164.5369, grad_fn=<NegBackward0>)\n",
      "tensor(163.5809, grad_fn=<NegBackward0>)\n",
      "tensor(162.6494, grad_fn=<NegBackward0>)\n",
      "tensor(161.7739, grad_fn=<NegBackward0>)\n",
      "tensor(160.8540, grad_fn=<NegBackward0>)\n",
      "tensor(159.9951, grad_fn=<NegBackward0>)\n",
      "tensor(159.1488, grad_fn=<NegBackward0>)\n",
      "tensor(158.3034, grad_fn=<NegBackward0>)\n",
      "tensor(157.5043, grad_fn=<NegBackward0>)\n",
      "tensor(156.7071, grad_fn=<NegBackward0>)\n",
      "tensor(155.9352, grad_fn=<NegBackward0>)\n",
      "tensor(155.1674, grad_fn=<NegBackward0>)\n",
      "tensor(154.4158, grad_fn=<NegBackward0>)\n",
      "tensor(153.7057, grad_fn=<NegBackward0>)\n",
      "tensor(153.0125, grad_fn=<NegBackward0>)\n",
      "tensor(152.2728, grad_fn=<NegBackward0>)\n",
      "tensor(151.6045, grad_fn=<NegBackward0>)\n",
      "tensor(150.9517, grad_fn=<NegBackward0>)\n",
      "tensor(150.3002, grad_fn=<NegBackward0>)\n",
      "tensor(149.6872, grad_fn=<NegBackward0>)\n",
      "tensor(149.0718, grad_fn=<NegBackward0>)\n",
      "tensor(148.4624, grad_fn=<NegBackward0>)\n",
      "tensor(147.9077, grad_fn=<NegBackward0>)\n",
      "tensor(147.3503, grad_fn=<NegBackward0>)\n",
      "tensor(146.7908, grad_fn=<NegBackward0>)\n",
      "tensor(146.2486, grad_fn=<NegBackward0>)\n",
      "tensor(145.7331, grad_fn=<NegBackward0>)\n",
      "tensor(145.2449, grad_fn=<NegBackward0>)\n",
      "tensor(144.7365, grad_fn=<NegBackward0>)\n",
      "tensor(144.2627, grad_fn=<NegBackward0>)\n",
      "tensor(143.8128, grad_fn=<NegBackward0>)\n",
      "tensor(143.3682, grad_fn=<NegBackward0>)\n",
      "tensor(142.9413, grad_fn=<NegBackward0>)\n",
      "tensor(142.5158, grad_fn=<NegBackward0>)\n",
      "tensor(142.1000, grad_fn=<NegBackward0>)\n",
      "tensor(141.7002, grad_fn=<NegBackward0>)\n",
      "tensor(141.3083, grad_fn=<NegBackward0>)\n",
      "tensor(140.9202, grad_fn=<NegBackward0>)\n",
      "tensor(140.5347, grad_fn=<NegBackward0>)\n",
      "tensor(140.1474, grad_fn=<NegBackward0>)\n",
      "tensor(139.7794, grad_fn=<NegBackward0>)\n",
      "tensor(139.4125, grad_fn=<NegBackward0>)\n",
      "tensor(139.0297, grad_fn=<NegBackward0>)\n",
      "tensor(138.6617, grad_fn=<NegBackward0>)\n",
      "tensor(138.2707, grad_fn=<NegBackward0>)\n",
      "tensor(137.9242, grad_fn=<NegBackward0>)\n",
      "tensor(137.5417, grad_fn=<NegBackward0>)\n",
      "tensor(137.1739, grad_fn=<NegBackward0>)\n",
      "tensor(136.8113, grad_fn=<NegBackward0>)\n",
      "tensor(136.4551, grad_fn=<NegBackward0>)\n",
      "tensor(136.0794, grad_fn=<NegBackward0>)\n",
      "tensor(135.7435, grad_fn=<NegBackward0>)\n",
      "tensor(135.3815, grad_fn=<NegBackward0>)\n",
      "tensor(135.0133, grad_fn=<NegBackward0>)\n",
      "tensor(134.6551, grad_fn=<NegBackward0>)\n",
      "tensor(134.3177, grad_fn=<NegBackward0>)\n",
      "tensor(133.9696, grad_fn=<NegBackward0>)\n",
      "tensor(133.6213, grad_fn=<NegBackward0>)\n",
      "tensor(133.2603, grad_fn=<NegBackward0>)\n",
      "tensor(132.9233, grad_fn=<NegBackward0>)\n",
      "tensor(132.5670, grad_fn=<NegBackward0>)\n",
      "tensor(132.2304, grad_fn=<NegBackward0>)\n",
      "tensor(131.8891, grad_fn=<NegBackward0>)\n",
      "tensor(131.5491, grad_fn=<NegBackward0>)\n",
      "tensor(131.2047, grad_fn=<NegBackward0>)\n",
      "tensor(130.8822, grad_fn=<NegBackward0>)\n",
      "tensor(130.5332, grad_fn=<NegBackward0>)\n",
      "tensor(130.1916, grad_fn=<NegBackward0>)\n",
      "tensor(129.8626, grad_fn=<NegBackward0>)\n",
      "tensor(129.5358, grad_fn=<NegBackward0>)\n",
      "tensor(129.1906, grad_fn=<NegBackward0>)\n",
      "tensor(128.8763, grad_fn=<NegBackward0>)\n",
      "tensor(128.5535, grad_fn=<NegBackward0>)\n",
      "tensor(128.2125, grad_fn=<NegBackward0>)\n",
      "tensor(127.9019, grad_fn=<NegBackward0>)\n",
      "tensor(127.5756, grad_fn=<NegBackward0>)\n",
      "tensor(127.2657, grad_fn=<NegBackward0>)\n",
      "tensor(126.9412, grad_fn=<NegBackward0>)\n",
      "tensor(126.6107, grad_fn=<NegBackward0>)\n",
      "tensor(126.2957, grad_fn=<NegBackward0>)\n",
      "tensor(125.9791, grad_fn=<NegBackward0>)\n",
      "tensor(125.6624, grad_fn=<NegBackward0>)\n",
      "tensor(125.3532, grad_fn=<NegBackward0>)\n",
      "tensor(125.0387, grad_fn=<NegBackward0>)\n",
      "tensor(124.7303, grad_fn=<NegBackward0>)\n",
      "tensor(124.3991, grad_fn=<NegBackward0>)\n",
      "tensor(124.1095, grad_fn=<NegBackward0>)\n",
      "tensor(123.8019, grad_fn=<NegBackward0>)\n",
      "tensor(123.4868, grad_fn=<NegBackward0>)\n",
      "tensor(123.1763, grad_fn=<NegBackward0>)\n",
      "tensor(122.8794, grad_fn=<NegBackward0>)\n",
      "tensor(122.5744, grad_fn=<NegBackward0>)\n",
      "tensor(122.2727, grad_fn=<NegBackward0>)\n",
      "tensor(121.9873, grad_fn=<NegBackward0>)\n",
      "tensor(121.6750, grad_fn=<NegBackward0>)\n",
      "tensor(121.3677, grad_fn=<NegBackward0>)\n",
      "tensor(121.0801, grad_fn=<NegBackward0>)\n",
      "tensor(120.8024, grad_fn=<NegBackward0>)\n",
      "tensor(120.4910, grad_fn=<NegBackward0>)\n",
      "tensor(120.1970, grad_fn=<NegBackward0>)\n",
      "tensor(119.9155, grad_fn=<NegBackward0>)\n",
      "tensor(119.6224, grad_fn=<NegBackward0>)\n",
      "tensor(119.3260, grad_fn=<NegBackward0>)\n",
      "tensor(119.0407, grad_fn=<NegBackward0>)\n",
      "tensor(118.7415, grad_fn=<NegBackward0>)\n",
      "tensor(118.4740, grad_fn=<NegBackward0>)\n",
      "tensor(118.1739, grad_fn=<NegBackward0>)\n",
      "tensor(117.8884, grad_fn=<NegBackward0>)\n",
      "tensor(117.6245, grad_fn=<NegBackward0>)\n",
      "tensor(117.3204, grad_fn=<NegBackward0>)\n",
      "tensor(117.0552, grad_fn=<NegBackward0>)\n",
      "tensor(116.7723, grad_fn=<NegBackward0>)\n",
      "tensor(116.4898, grad_fn=<NegBackward0>)\n",
      "tensor(116.2187, grad_fn=<NegBackward0>)\n",
      "tensor(115.9395, grad_fn=<NegBackward0>)\n",
      "tensor(115.6669, grad_fn=<NegBackward0>)\n",
      "tensor(115.3802, grad_fn=<NegBackward0>)\n",
      "tensor(115.1192, grad_fn=<NegBackward0>)\n",
      "tensor(114.8483, grad_fn=<NegBackward0>)\n",
      "tensor(114.5628, grad_fn=<NegBackward0>)\n",
      "tensor(114.3123, grad_fn=<NegBackward0>)\n",
      "tensor(114.0331, grad_fn=<NegBackward0>)\n",
      "tensor(113.7499, grad_fn=<NegBackward0>)\n",
      "tensor(113.4876, grad_fn=<NegBackward0>)\n",
      "tensor(113.2197, grad_fn=<NegBackward0>)\n",
      "tensor(112.9586, grad_fn=<NegBackward0>)\n",
      "tensor(112.6873, grad_fn=<NegBackward0>)\n",
      "tensor(112.4244, grad_fn=<NegBackward0>)\n",
      "tensor(112.1792, grad_fn=<NegBackward0>)\n",
      "tensor(111.9088, grad_fn=<NegBackward0>)\n",
      "tensor(111.6396, grad_fn=<NegBackward0>)\n",
      "tensor(111.3785, grad_fn=<NegBackward0>)\n",
      "tensor(111.1022, grad_fn=<NegBackward0>)\n",
      "tensor(110.8661, grad_fn=<NegBackward0>)\n",
      "tensor(110.6085, grad_fn=<NegBackward0>)\n",
      "tensor(110.3565, grad_fn=<NegBackward0>)\n",
      "tensor(110.0887, grad_fn=<NegBackward0>)\n",
      "tensor(109.8453, grad_fn=<NegBackward0>)\n",
      "tensor(109.5765, grad_fn=<NegBackward0>)\n",
      "tensor(109.3250, grad_fn=<NegBackward0>)\n",
      "tensor(109.0780, grad_fn=<NegBackward0>)\n",
      "tensor(108.8173, grad_fn=<NegBackward0>)\n",
      "tensor(108.5813, grad_fn=<NegBackward0>)\n",
      "tensor(108.3252, grad_fn=<NegBackward0>)\n",
      "tensor(108.0834, grad_fn=<NegBackward0>)\n",
      "tensor(107.8387, grad_fn=<NegBackward0>)\n",
      "tensor(107.5853, grad_fn=<NegBackward0>)\n",
      "tensor(107.3441, grad_fn=<NegBackward0>)\n",
      "tensor(107.0802, grad_fn=<NegBackward0>)\n",
      "tensor(106.8492, grad_fn=<NegBackward0>)\n",
      "tensor(106.5858, grad_fn=<NegBackward0>)\n",
      "tensor(106.3661, grad_fn=<NegBackward0>)\n",
      "tensor(106.1332, grad_fn=<NegBackward0>)\n",
      "tensor(105.9015, grad_fn=<NegBackward0>)\n",
      "tensor(105.6619, grad_fn=<NegBackward0>)\n",
      "tensor(105.4238, grad_fn=<NegBackward0>)\n",
      "tensor(105.1817, grad_fn=<NegBackward0>)\n",
      "tensor(104.9359, grad_fn=<NegBackward0>)\n",
      "tensor(104.7127, grad_fn=<NegBackward0>)\n",
      "tensor(104.4706, grad_fn=<NegBackward0>)\n",
      "tensor(104.2480, grad_fn=<NegBackward0>)\n",
      "tensor(103.9846, grad_fn=<NegBackward0>)\n",
      "tensor(103.7607, grad_fn=<NegBackward0>)\n",
      "tensor(103.5290, grad_fn=<NegBackward0>)\n",
      "tensor(103.3070, grad_fn=<NegBackward0>)\n",
      "tensor(103.0802, grad_fn=<NegBackward0>)\n",
      "tensor(102.8311, grad_fn=<NegBackward0>)\n",
      "tensor(102.6198, grad_fn=<NegBackward0>)\n",
      "tensor(102.3846, grad_fn=<NegBackward0>)\n",
      "tensor(102.1443, grad_fn=<NegBackward0>)\n",
      "tensor(101.9159, grad_fn=<NegBackward0>)\n",
      "tensor(101.6868, grad_fn=<NegBackward0>)\n",
      "tensor(101.4664, grad_fn=<NegBackward0>)\n",
      "tensor(101.2349, grad_fn=<NegBackward0>)\n",
      "tensor(100.9993, grad_fn=<NegBackward0>)\n",
      "tensor(100.7888, grad_fn=<NegBackward0>)\n",
      "tensor(100.5683, grad_fn=<NegBackward0>)\n",
      "tensor(100.3386, grad_fn=<NegBackward0>)\n",
      "tensor(100.1104, grad_fn=<NegBackward0>)\n",
      "tensor(99.9173, grad_fn=<NegBackward0>)\n",
      "tensor(99.6807, grad_fn=<NegBackward0>)\n",
      "tensor(99.4491, grad_fn=<NegBackward0>)\n",
      "tensor(99.2414, grad_fn=<NegBackward0>)\n",
      "tensor(99.0080, grad_fn=<NegBackward0>)\n",
      "tensor(98.7990, grad_fn=<NegBackward0>)\n",
      "tensor(98.6015, grad_fn=<NegBackward0>)\n",
      "tensor(98.3864, grad_fn=<NegBackward0>)\n",
      "tensor(98.1684, grad_fn=<NegBackward0>)\n",
      "tensor(97.9449, grad_fn=<NegBackward0>)\n",
      "tensor(97.7200, grad_fn=<NegBackward0>)\n",
      "tensor(97.5171, grad_fn=<NegBackward0>)\n",
      "tensor(97.3075, grad_fn=<NegBackward0>)\n",
      "tensor(97.0913, grad_fn=<NegBackward0>)\n",
      "tensor(96.8917, grad_fn=<NegBackward0>)\n",
      "tensor(96.6746, grad_fn=<NegBackward0>)\n",
      "tensor(96.4654, grad_fn=<NegBackward0>)\n",
      "tensor(96.2491, grad_fn=<NegBackward0>)\n",
      "tensor(96.0445, grad_fn=<NegBackward0>)\n",
      "tensor(95.8412, grad_fn=<NegBackward0>)\n",
      "tensor(95.6240, grad_fn=<NegBackward0>)\n",
      "tensor(95.4251, grad_fn=<NegBackward0>)\n",
      "tensor(95.2019, grad_fn=<NegBackward0>)\n",
      "tensor(95.0063, grad_fn=<NegBackward0>)\n",
      "tensor(94.8071, grad_fn=<NegBackward0>)\n",
      "tensor(94.5998, grad_fn=<NegBackward0>)\n",
      "tensor(94.3767, grad_fn=<NegBackward0>)\n",
      "tensor(94.1817, grad_fn=<NegBackward0>)\n",
      "tensor(93.9852, grad_fn=<NegBackward0>)\n",
      "tensor(93.7705, grad_fn=<NegBackward0>)\n",
      "tensor(93.5780, grad_fn=<NegBackward0>)\n",
      "tensor(93.3800, grad_fn=<NegBackward0>)\n",
      "tensor(93.1665, grad_fn=<NegBackward0>)\n",
      "tensor(92.9711, grad_fn=<NegBackward0>)\n",
      "tensor(92.7862, grad_fn=<NegBackward0>)\n",
      "tensor(92.5734, grad_fn=<NegBackward0>)\n",
      "tensor(92.3983, grad_fn=<NegBackward0>)\n",
      "tensor(92.1850, grad_fn=<NegBackward0>)\n",
      "tensor(91.9937, grad_fn=<NegBackward0>)\n",
      "tensor(91.7926, grad_fn=<NegBackward0>)\n",
      "tensor(91.6030, grad_fn=<NegBackward0>)\n",
      "tensor(91.4000, grad_fn=<NegBackward0>)\n",
      "tensor(91.2154, grad_fn=<NegBackward0>)\n",
      "tensor(91.0014, grad_fn=<NegBackward0>)\n",
      "tensor(90.8315, grad_fn=<NegBackward0>)\n",
      "tensor(90.6409, grad_fn=<NegBackward0>)\n",
      "tensor(90.4320, grad_fn=<NegBackward0>)\n",
      "tensor(90.2432, grad_fn=<NegBackward0>)\n",
      "tensor(90.0363, grad_fn=<NegBackward0>)\n",
      "tensor(89.8462, grad_fn=<NegBackward0>)\n",
      "tensor(89.6497, grad_fn=<NegBackward0>)\n",
      "tensor(89.4865, grad_fn=<NegBackward0>)\n",
      "tensor(89.2834, grad_fn=<NegBackward0>)\n",
      "tensor(89.1008, grad_fn=<NegBackward0>)\n",
      "tensor(88.9328, grad_fn=<NegBackward0>)\n",
      "tensor(88.7185, grad_fn=<NegBackward0>)\n",
      "tensor(88.5421, grad_fn=<NegBackward0>)\n",
      "tensor(88.3388, grad_fn=<NegBackward0>)\n",
      "tensor(88.1673, grad_fn=<NegBackward0>)\n",
      "tensor(87.9689, grad_fn=<NegBackward0>)\n",
      "tensor(87.7959, grad_fn=<NegBackward0>)\n",
      "tensor(87.5994, grad_fn=<NegBackward0>)\n",
      "tensor(87.4033, grad_fn=<NegBackward0>)\n",
      "tensor(87.2382, grad_fn=<NegBackward0>)\n",
      "tensor(87.0582, grad_fn=<NegBackward0>)\n",
      "tensor(86.8690, grad_fn=<NegBackward0>)\n",
      "tensor(86.6979, grad_fn=<NegBackward0>)\n",
      "tensor(86.5205, grad_fn=<NegBackward0>)\n",
      "tensor(86.3361, grad_fn=<NegBackward0>)\n",
      "tensor(86.1640, grad_fn=<NegBackward0>)\n",
      "tensor(85.9741, grad_fn=<NegBackward0>)\n",
      "tensor(85.8044, grad_fn=<NegBackward0>)\n",
      "tensor(85.6279, grad_fn=<NegBackward0>)\n",
      "tensor(85.4227, grad_fn=<NegBackward0>)\n",
      "tensor(85.2592, grad_fn=<NegBackward0>)\n",
      "tensor(85.0569, grad_fn=<NegBackward0>)\n",
      "tensor(84.8993, grad_fn=<NegBackward0>)\n",
      "tensor(84.7245, grad_fn=<NegBackward0>)\n",
      "tensor(84.5269, grad_fn=<NegBackward0>)\n",
      "tensor(84.3740, grad_fn=<NegBackward0>)\n",
      "tensor(84.1854, grad_fn=<NegBackward0>)\n",
      "tensor(84.0138, grad_fn=<NegBackward0>)\n",
      "tensor(83.8501, grad_fn=<NegBackward0>)\n",
      "tensor(83.6834, grad_fn=<NegBackward0>)\n",
      "tensor(83.5034, grad_fn=<NegBackward0>)\n",
      "tensor(83.3155, grad_fn=<NegBackward0>)\n",
      "tensor(83.1462, grad_fn=<NegBackward0>)\n",
      "tensor(83.0085, grad_fn=<NegBackward0>)\n",
      "tensor(82.8063, grad_fn=<NegBackward0>)\n",
      "tensor(82.6472, grad_fn=<NegBackward0>)\n",
      "tensor(82.4684, grad_fn=<NegBackward0>)\n",
      "tensor(82.3034, grad_fn=<NegBackward0>)\n",
      "tensor(82.1207, grad_fn=<NegBackward0>)\n",
      "tensor(81.9319, grad_fn=<NegBackward0>)\n",
      "tensor(81.7893, grad_fn=<NegBackward0>)\n",
      "tensor(81.6210, grad_fn=<NegBackward0>)\n",
      "tensor(81.4520, grad_fn=<NegBackward0>)\n",
      "tensor(81.2720, grad_fn=<NegBackward0>)\n",
      "tensor(81.1107, grad_fn=<NegBackward0>)\n",
      "tensor(80.9638, grad_fn=<NegBackward0>)\n",
      "tensor(80.7870, grad_fn=<NegBackward0>)\n",
      "tensor(80.6241, grad_fn=<NegBackward0>)\n",
      "tensor(80.4405, grad_fn=<NegBackward0>)\n",
      "tensor(80.3008, grad_fn=<NegBackward0>)\n",
      "tensor(80.1270, grad_fn=<NegBackward0>)\n",
      "tensor(79.9590, grad_fn=<NegBackward0>)\n",
      "tensor(79.8156, grad_fn=<NegBackward0>)\n",
      "tensor(79.6293, grad_fn=<NegBackward0>)\n",
      "tensor(79.4568, grad_fn=<NegBackward0>)\n",
      "tensor(79.3096, grad_fn=<NegBackward0>)\n",
      "tensor(79.1525, grad_fn=<NegBackward0>)\n",
      "tensor(78.9565, grad_fn=<NegBackward0>)\n",
      "tensor(78.8244, grad_fn=<NegBackward0>)\n",
      "tensor(78.6479, grad_fn=<NegBackward0>)\n",
      "tensor(78.4955, grad_fn=<NegBackward0>)\n",
      "tensor(78.3451, grad_fn=<NegBackward0>)\n",
      "tensor(78.1893, grad_fn=<NegBackward0>)\n",
      "tensor(78.0103, grad_fn=<NegBackward0>)\n",
      "tensor(77.8780, grad_fn=<NegBackward0>)\n",
      "tensor(77.6991, grad_fn=<NegBackward0>)\n",
      "tensor(77.5680, grad_fn=<NegBackward0>)\n",
      "tensor(77.4084, grad_fn=<NegBackward0>)\n",
      "tensor(77.2343, grad_fn=<NegBackward0>)\n",
      "tensor(77.0696, grad_fn=<NegBackward0>)\n",
      "tensor(76.9164, grad_fn=<NegBackward0>)\n",
      "tensor(76.7744, grad_fn=<NegBackward0>)\n",
      "tensor(76.5872, grad_fn=<NegBackward0>)\n",
      "tensor(76.4505, grad_fn=<NegBackward0>)\n",
      "tensor(76.3134, grad_fn=<NegBackward0>)\n",
      "tensor(76.1584, grad_fn=<NegBackward0>)\n",
      "tensor(75.9952, grad_fn=<NegBackward0>)\n",
      "tensor(75.8210, grad_fn=<NegBackward0>)\n",
      "tensor(75.6919, grad_fn=<NegBackward0>)\n",
      "tensor(75.5253, grad_fn=<NegBackward0>)\n",
      "tensor(75.3707, grad_fn=<NegBackward0>)\n",
      "tensor(75.2080, grad_fn=<NegBackward0>)\n",
      "tensor(75.0507, grad_fn=<NegBackward0>)\n",
      "tensor(74.9132, grad_fn=<NegBackward0>)\n",
      "tensor(74.7865, grad_fn=<NegBackward0>)\n",
      "tensor(74.6308, grad_fn=<NegBackward0>)\n",
      "tensor(74.4659, grad_fn=<NegBackward0>)\n",
      "tensor(74.3119, grad_fn=<NegBackward0>)\n",
      "tensor(74.1894, grad_fn=<NegBackward0>)\n",
      "tensor(74.0042, grad_fn=<NegBackward0>)\n",
      "tensor(73.8748, grad_fn=<NegBackward0>)\n",
      "tensor(73.7188, grad_fn=<NegBackward0>)\n",
      "tensor(73.5765, grad_fn=<NegBackward0>)\n",
      "tensor(73.4368, grad_fn=<NegBackward0>)\n",
      "tensor(73.2888, grad_fn=<NegBackward0>)\n",
      "tensor(73.1321, grad_fn=<NegBackward0>)\n",
      "tensor(72.9703, grad_fn=<NegBackward0>)\n",
      "tensor(72.8400, grad_fn=<NegBackward0>)\n",
      "tensor(72.7008, grad_fn=<NegBackward0>)\n",
      "tensor(72.5478, grad_fn=<NegBackward0>)\n",
      "tensor(72.4112, grad_fn=<NegBackward0>)\n"
     ]
    }
   ],
   "source": [
    "LVemulator.optimise(500000,1e-5)"
   ]
  },
  {
   "cell_type": "code",
   "execution_count": 57,
   "id": "68e38173-e6ae-4372-970b-6dc199a2a8a8",
   "metadata": {},
   "outputs": [
    {
     "data": {
      "text/plain": [
       "[<matplotlib.lines.Line2D at 0x2b4ce06d0>]"
      ]
     },
     "execution_count": 57,
     "metadata": {},
     "output_type": "execute_result"
    },
    {
     "data": {
      "image/png": "[encoded data removed]",
      "text/plain": [
       "<Figure size 640x480 with 1 Axes>"
      ]
     },
     "metadata": {},
     "output_type": "display_data"
    }
   ],
   "source": [
    "plt.plot(LVemulator.history_gd[::1000],'o')"
   ]
  },
  {
   "cell_type": "code",
   "execution_count": 58,
   "id": "e5c1af82-068a-4f2a-abce-5fc3498b8f20",
   "metadata": {},
   "outputs": [
    {
     "data": {
      "text/plain": [
       "[<matplotlib.lines.Line2D at 0x2b4ceba90>]"
      ]
     },
     "execution_count": 58,
     "metadata": {},
     "output_type": "execute_result"
    },
    {
     "data": {
      "image/png": "[encoded data removed]",
      "text/plain": [
       "<Figure size 640x480 with 1 Axes>"
      ]
     },
     "metadata": {},
     "output_type": "display_data"
    }
   ],
   "source": [
    "plt.plot(torch.cat(LVemulator.lengths)[::1000],'o')"
   ]
  },
  {
   "cell_type": "code",
   "execution_count": null,
   "id": "d1a44ffb-9f2f-4ea8-8df9-1582aa3406ae",
   "metadata": {},
   "outputs": [],
   "source": []
  },
  {
   "cell_type": "code",
   "execution_count": 59,
   "id": "271b2796-7e9f-4e45-ad2f-d4651db52d66",
   "metadata": {},
   "outputs": [
    {
     "data": {
      "text/plain": [
       "[<matplotlib.lines.Line2D at 0x2b4c704d0>,\n",
       " <matplotlib.lines.Line2D at 0x2b0ef9650>,\n",
       " <matplotlib.lines.Line2D at 0x2b4ce4a50>,\n",
       " <matplotlib.lines.Line2D at 0x2b0f083d0>,\n",
       " <matplotlib.lines.Line2D at 0x2b0f08b10>,\n",
       " <matplotlib.lines.Line2D at 0x2b0f08d90>,\n",
       " <matplotlib.lines.Line2D at 0x2c44f1a50>,\n",
       " <matplotlib.lines.Line2D at 0x2b0f092d0>,\n",
       " <matplotlib.lines.Line2D at 0x2b0f08850>,\n",
       " <matplotlib.lines.Line2D at 0x2c44fdb10>]"
      ]
     },
     "execution_count": 59,
     "metadata": {},
     "output_type": "execute_result"
    },
    {
     "data": {
      "image/png": "[encoded data removed]",
      "text/plain": [
       "<Figure size 640x480 with 1 Axes>"
      ]
     },
     "metadata": {},
     "output_type": "display_data"
    }
   ],
   "source": [
    "plt.plot(torch.cat(LVemulator.Ls,axis=1).T[::1000],'o')"
   ]
  },
  {
   "cell_type": "code",
   "execution_count": 60,
   "id": "4ffd8d95-91af-4561-bdb7-843681605a0a",
   "metadata": {},
   "outputs": [
    {
     "data": {
      "text/plain": [
       "tensor([[-2.9748],\n",
       "        [-1.4807],\n",
       "        [-0.7579],\n",
       "        [ 0.2431],\n",
       "        [ 0.9538],\n",
       "        [ 1.2121],\n",
       "        [-0.2073],\n",
       "        [ 1.0748],\n",
       "        [ 0.5677],\n",
       "        [ 1.3720]], requires_grad=True)"
      ]
     },
     "execution_count": 60,
     "metadata": {},
     "output_type": "execute_result"
    }
   ],
   "source": [
    "LVemulator.L"
   ]
  },
  {
   "cell_type": "code",
   "execution_count": 61,
   "id": "8d00420f-322f-40d2-8610-9d8ac66cd6cf",
   "metadata": {},
   "outputs": [
    {
     "data": {
      "text/plain": [
       "20"
      ]
     },
     "execution_count": 61,
     "metadata": {},
     "output_type": "execute_result"
    }
   ],
   "source": [
    "p"
   ]
  },
  {
   "cell_type": "code",
   "execution_count": 62,
   "id": "8969307d-802a-4d1b-88c3-566eab503fba",
   "metadata": {},
   "outputs": [],
   "source": [
    "XL_test = torch.cat((X_test,torch.repeat_interleave(LVemulator.L,p,dim=0)),axis=1)"
   ]
  },
  {
   "cell_type": "code",
   "execution_count": 63,
   "id": "999cd42b-e582-4283-8d52-41dcbd6b90b7",
   "metadata": {},
   "outputs": [
    {
     "data": {
      "text/plain": [
       "tensor([[-2.9748],\n",
       "        [-1.4807],\n",
       "        [-0.7579],\n",
       "        [ 0.2431],\n",
       "        [ 0.9538],\n",
       "        [ 1.2121],\n",
       "        [-0.2073],\n",
       "        [ 1.0748],\n",
       "        [ 0.5677],\n",
       "        [ 1.3720]], requires_grad=True)"
      ]
     },
     "execution_count": 63,
     "metadata": {},
     "output_type": "execute_result"
    }
   ],
   "source": [
    "LVemulator.L"
   ]
  },
  {
   "cell_type": "code",
   "execution_count": 64,
   "id": "d7204883-52a6-4f00-ba3d-630b416fee58",
   "metadata": {},
   "outputs": [
    {
     "data": {
      "text/plain": [
       "tensor([0.0703], grad_fn=<MeanBackward1>)"
      ]
     },
     "execution_count": 64,
     "metadata": {},
     "output_type": "execute_result"
    }
   ],
   "source": [
    "LVemulator.MSE(XL_test,Y_test)"
   ]
  },
  {
   "cell_type": "code",
   "execution_count": 65,
   "id": "b0ad8584-7e9e-4fd8-9923-8e72f4be0bec",
   "metadata": {},
   "outputs": [
    {
     "data": {
      "text/plain": [
       "tensor([0.9331], grad_fn=<RsubBackward1>)"
      ]
     },
     "execution_count": 65,
     "metadata": {},
     "output_type": "execute_result"
    }
   ],
   "source": [
    "LVemulator.R2(XL_test,Y_test)"
   ]
  },
  {
   "cell_type": "code",
   "execution_count": 66,
   "id": "04b36ec0-5513-44e4-872e-846912f6efa7",
   "metadata": {},
   "outputs": [
    {
     "data": {
      "text/plain": [
       "tensor([1.0000], grad_fn=<RsubBackward1>)"
      ]
     },
     "execution_count": 66,
     "metadata": {},
     "output_type": "execute_result"
    }
   ],
   "source": [
    "emulator.R2(X_all_test,Y_test)"
   ]
  },
  {
   "cell_type": "code",
   "execution_count": 67,
   "id": "b46062b5-28cd-4a52-bb56-38bb0052b015",
   "metadata": {},
   "outputs": [
    {
     "data": {
      "text/plain": [
       "(tensor([[-40.1216],\n",
       "         [-41.2947],\n",
       "         [-42.4304],\n",
       "         ...,\n",
       "         [ 26.4674],\n",
       "         [ 28.3867],\n",
       "         [ 30.3088]], grad_fn=<CopySlices>),\n",
       " tensor([[0.2924],\n",
       "         [0.2879],\n",
       "         [0.2838],\n",
       "         ...,\n",
       "         [1.4940],\n",
       "         [1.6318],\n",
       "         [1.7805]], grad_fn=<CopySlices>))"
      ]
     },
     "execution_count": 67,
     "metadata": {},
     "output_type": "execute_result"
    }
   ],
   "source": [
    "LVemulator.predict(XXLL)"
   ]
  },
  {
   "cell_type": "code",
   "execution_count": 68,
   "id": "dda9aa59-cd9d-4140-8b83-fbcf4220b273",
   "metadata": {},
   "outputs": [],
   "source": [
    "p_new = 40\n",
    "X_new=torch.torch.FloatTensor(p_new, 1).uniform_(-3, 3)\n",
    "L_new_true =torch.normal(0,torch.ones(1,L_true.shape[1]))\n",
    "L_new =torch.normal(0,torch.ones(1,L_true.shape[1])).clone().detach().requires_grad_(True)\n",
    "\n",
    "#L_new_true = LVemulator.L[[0]]\n",
    "\n",
    "Y_new=true_func(X_new,L_new_true,alpha,beta,zeta)"
   ]
  },
  {
   "cell_type": "code",
   "execution_count": 69,
   "id": "53ab3ec7-9ee2-4223-b37d-c452d90a0075",
   "metadata": {},
   "outputs": [],
   "source": [
    "XL_new = torch.cat((X_new,torch.repeat_interleave(L_new,p_new,dim=0)),axis=1)"
   ]
  },
  {
   "cell_type": "code",
   "execution_count": 70,
   "id": "8a05485f-1a71-4bea-ae54-501ada3e09a2",
   "metadata": {},
   "outputs": [
    {
     "data": {
      "text/plain": [
       "tensor(1.1340)"
      ]
     },
     "execution_count": 70,
     "metadata": {},
     "output_type": "execute_result"
    }
   ],
   "source": [
    "X_std"
   ]
  },
  {
   "cell_type": "code",
   "execution_count": 71,
   "id": "d533dd58-5903-4804-8ae8-a6017932fa6f",
   "metadata": {},
   "outputs": [],
   "source": [
    "XL_new[:,0] = (XL_new[:,0]-X_mean)/X_std"
   ]
  },
  {
   "cell_type": "code",
   "execution_count": 72,
   "id": "9c67f1a4-c531-43ba-b0f5-3df36c0e6355",
   "metadata": {},
   "outputs": [
    {
     "data": {
      "text/plain": [
       "tensor([-4.2058], grad_fn=<RsubBackward1>)"
      ]
     },
     "execution_count": 72,
     "metadata": {},
     "output_type": "execute_result"
    }
   ],
   "source": [
    "LVemulator.R2(XL_new,Y_new)"
   ]
  },
  {
   "cell_type": "code",
   "execution_count": 73,
   "id": "02ad4c8a-fec7-4e76-b070-7b5f4e557342",
   "metadata": {},
   "outputs": [],
   "source": [
    "i=0"
   ]
  },
  {
   "cell_type": "code",
   "execution_count": 74,
   "id": "7e000377-3984-451d-b43e-ec838f0081c3",
   "metadata": {},
   "outputs": [],
   "source": [
    "lengthscale_in=torch.cat([LVemulator.lengthscale[i],LVemulator.L_length*torch.ones(LVemulator.L_size)])"
   ]
  },
  {
   "cell_type": "code",
   "execution_count": 75,
   "id": "c58999e6-c6be-44b8-9b36-8729b1db68ba",
   "metadata": {},
   "outputs": [],
   "source": [
    "m_p,k_p=LVemulator.posterior_theta(LVemulator.Y[:,[i]],XL_new,LVemulator.XL,LVemulator.scale[i],lengthscale_in,100,LVemulator.mean)"
   ]
  },
  {
   "cell_type": "code",
   "execution_count": 76,
   "id": "cdcb42f5-95b3-475e-b00f-cc53d589fa83",
   "metadata": {},
   "outputs": [
    {
     "data": {
      "text/plain": [
       "<matplotlib.colorbar.Colorbar at 0x2b4c72bd0>"
      ]
     },
     "execution_count": 76,
     "metadata": {},
     "output_type": "execute_result"
    },
    {
     "data": {
      "image/png": "[encoded data removed]",
      "text/plain": [
       "<Figure size 640x480 with 2 Axes>"
      ]
     },
     "metadata": {},
     "output_type": "display_data"
    }
   ],
   "source": [
    "plt.imshow(k_p.detach().numpy())\n",
    "plt.colorbar()"
   ]
  },
  {
   "cell_type": "code",
   "execution_count": 77,
   "id": "b111b6e9-612a-41ee-97b5-5597022c049c",
   "metadata": {},
   "outputs": [
    {
     "data": {
      "text/plain": [
       "tensor([[ 1.0082e+01,  0.0000e+00,  0.0000e+00,  ...,  0.0000e+00,\n",
       "          0.0000e+00,  0.0000e+00],\n",
       "        [-2.2021e-04,  1.0163e+01,  0.0000e+00,  ...,  0.0000e+00,\n",
       "          0.0000e+00,  0.0000e+00],\n",
       "        [ 1.3091e-01,  1.2083e-03,  1.0082e+01,  ...,  0.0000e+00,\n",
       "          0.0000e+00,  0.0000e+00],\n",
       "        ...,\n",
       "        [ 1.9801e-02,  8.4358e-05, -2.0554e-02,  ...,  1.0185e+01,\n",
       "          0.0000e+00,  0.0000e+00],\n",
       "        [ 8.6828e-02,  2.6498e-03,  1.4799e-01,  ..., -1.7272e-02,\n",
       "          1.0073e+01,  0.0000e+00],\n",
       "        [ 1.2930e-01, -3.4388e-04,  5.1088e-02,  ...,  1.3396e-01,\n",
       "          9.8575e-03,  1.0087e+01]], grad_fn=<LinalgCholeskyExBackward0>)"
      ]
     },
     "execution_count": 77,
     "metadata": {},
     "output_type": "execute_result"
    }
   ],
   "source": [
    "torch.linalg.cholesky(k_p)"
   ]
  },
  {
   "cell_type": "code",
   "execution_count": 78,
   "id": "db9ef8b1-3ace-41ce-9d96-d65e35f2f837",
   "metadata": {},
   "outputs": [
    {
     "name": "stdout",
     "output_type": "stream",
     "text": [
      "tensor(216330.9375, grad_fn=<NegBackward0>)\n",
      "tensor(214546.1875, grad_fn=<NegBackward0>)\n",
      "tensor(215216.4062, grad_fn=<NegBackward0>)\n",
      "tensor(212715.9062, grad_fn=<NegBackward0>)\n",
      "tensor(211918.1719, grad_fn=<NegBackward0>)\n",
      "tensor(210530.4688, grad_fn=<NegBackward0>)\n",
      "tensor(209299.2656, grad_fn=<NegBackward0>)\n",
      "tensor(209462.2188, grad_fn=<NegBackward0>)\n",
      "tensor(207843.9688, grad_fn=<NegBackward0>)\n",
      "tensor(207398.4219, grad_fn=<NegBackward0>)\n",
      "tensor(206060.3438, grad_fn=<NegBackward0>)\n",
      "tensor(204392.1875, grad_fn=<NegBackward0>)\n",
      "tensor(202616.6094, grad_fn=<NegBackward0>)\n",
      "tensor(202015.5156, grad_fn=<NegBackward0>)\n",
      "tensor(201520.1094, grad_fn=<NegBackward0>)\n",
      "tensor(200933.8125, grad_fn=<NegBackward0>)\n",
      "tensor(199309.5312, grad_fn=<NegBackward0>)\n",
      "tensor(198290.1406, grad_fn=<NegBackward0>)\n",
      "tensor(197128.8438, grad_fn=<NegBackward0>)\n",
      "tensor(197186.6250, grad_fn=<NegBackward0>)\n",
      "tensor(195493.9375, grad_fn=<NegBackward0>)\n",
      "tensor(194078.1875, grad_fn=<NegBackward0>)\n",
      "tensor(193932.8594, grad_fn=<NegBackward0>)\n",
      "tensor(192816.5312, grad_fn=<NegBackward0>)\n",
      "tensor(191142.3594, grad_fn=<NegBackward0>)\n",
      "tensor(189239.7344, grad_fn=<NegBackward0>)\n",
      "tensor(189559.1719, grad_fn=<NegBackward0>)\n",
      "tensor(187971.3281, grad_fn=<NegBackward0>)\n",
      "tensor(187735.5469, grad_fn=<NegBackward0>)\n",
      "tensor(187450.8906, grad_fn=<NegBackward0>)\n",
      "tensor(184702.7969, grad_fn=<NegBackward0>)\n",
      "tensor(184467.0938, grad_fn=<NegBackward0>)\n",
      "tensor(183601., grad_fn=<NegBackward0>)\n",
      "tensor(182776.5625, grad_fn=<NegBackward0>)\n",
      "tensor(181918.1250, grad_fn=<NegBackward0>)\n",
      "tensor(180854.8906, grad_fn=<NegBackward0>)\n",
      "tensor(180052.8438, grad_fn=<NegBackward0>)\n",
      "tensor(178450.2656, grad_fn=<NegBackward0>)\n",
      "tensor(178081.5000, grad_fn=<NegBackward0>)\n",
      "tensor(177828.2656, grad_fn=<NegBackward0>)\n",
      "tensor(175449.5625, grad_fn=<NegBackward0>)\n",
      "tensor(175825.5000, grad_fn=<NegBackward0>)\n",
      "tensor(174690.4062, grad_fn=<NegBackward0>)\n",
      "tensor(172622.0469, grad_fn=<NegBackward0>)\n",
      "tensor(172963.0938, grad_fn=<NegBackward0>)\n",
      "tensor(171111.6719, grad_fn=<NegBackward0>)\n",
      "tensor(171291.5156, grad_fn=<NegBackward0>)\n",
      "tensor(169340.9062, grad_fn=<NegBackward0>)\n",
      "tensor(167894.7344, grad_fn=<NegBackward0>)\n",
      "tensor(167040.8594, grad_fn=<NegBackward0>)\n",
      "tensor(167750.0625, grad_fn=<NegBackward0>)\n",
      "tensor(165509.6094, grad_fn=<NegBackward0>)\n",
      "tensor(165158.6250, grad_fn=<NegBackward0>)\n",
      "tensor(163781.6250, grad_fn=<NegBackward0>)\n",
      "tensor(163572.6719, grad_fn=<NegBackward0>)\n",
      "tensor(163168.9219, grad_fn=<NegBackward0>)\n",
      "tensor(162258.3906, grad_fn=<NegBackward0>)\n",
      "tensor(160045.1094, grad_fn=<NegBackward0>)\n",
      "tensor(160149.5000, grad_fn=<NegBackward0>)\n",
      "tensor(159063.8750, grad_fn=<NegBackward0>)\n",
      "tensor(156681.9062, grad_fn=<NegBackward0>)\n",
      "tensor(157114.4688, grad_fn=<NegBackward0>)\n",
      "tensor(155716.9531, grad_fn=<NegBackward0>)\n",
      "tensor(155463.2500, grad_fn=<NegBackward0>)\n",
      "tensor(153861.3594, grad_fn=<NegBackward0>)\n",
      "tensor(153393.9219, grad_fn=<NegBackward0>)\n",
      "tensor(151048.2969, grad_fn=<NegBackward0>)\n",
      "tensor(150565.4375, grad_fn=<NegBackward0>)\n",
      "tensor(150276.5469, grad_fn=<NegBackward0>)\n",
      "tensor(147809.4062, grad_fn=<NegBackward0>)\n",
      "tensor(147870.7969, grad_fn=<NegBackward0>)\n",
      "tensor(146604.1875, grad_fn=<NegBackward0>)\n",
      "tensor(146022.6875, grad_fn=<NegBackward0>)\n",
      "tensor(144934.8281, grad_fn=<NegBackward0>)\n",
      "tensor(142773.2812, grad_fn=<NegBackward0>)\n",
      "tensor(142376.6562, grad_fn=<NegBackward0>)\n",
      "tensor(140428.6250, grad_fn=<NegBackward0>)\n",
      "tensor(139140.3906, grad_fn=<NegBackward0>)\n",
      "tensor(137024.3281, grad_fn=<NegBackward0>)\n",
      "tensor(137144.3594, grad_fn=<NegBackward0>)\n",
      "tensor(135859.7812, grad_fn=<NegBackward0>)\n",
      "tensor(134053.0156, grad_fn=<NegBackward0>)\n",
      "tensor(133009.2969, grad_fn=<NegBackward0>)\n",
      "tensor(131363.1562, grad_fn=<NegBackward0>)\n",
      "tensor(129348.6562, grad_fn=<NegBackward0>)\n",
      "tensor(128153.4609, grad_fn=<NegBackward0>)\n",
      "tensor(126563.3906, grad_fn=<NegBackward0>)\n",
      "tensor(124803.4453, grad_fn=<NegBackward0>)\n",
      "tensor(122606.1172, grad_fn=<NegBackward0>)\n",
      "tensor(121377.5859, grad_fn=<NegBackward0>)\n",
      "tensor(120258.6250, grad_fn=<NegBackward0>)\n",
      "tensor(117442.2422, grad_fn=<NegBackward0>)\n",
      "tensor(115328.8359, grad_fn=<NegBackward0>)\n",
      "tensor(113915.1328, grad_fn=<NegBackward0>)\n",
      "tensor(112161.9219, grad_fn=<NegBackward0>)\n",
      "tensor(109933.8672, grad_fn=<NegBackward0>)\n",
      "tensor(107772.1875, grad_fn=<NegBackward0>)\n",
      "tensor(105797.6172, grad_fn=<NegBackward0>)\n",
      "tensor(104018.9531, grad_fn=<NegBackward0>)\n",
      "tensor(102033.0469, grad_fn=<NegBackward0>)\n"
     ]
    }
   ],
   "source": [
    "L_new=LVemulator.cutting_feedback(XL_new,Y_new,100000,1e-4)"
   ]
  },
  {
   "cell_type": "code",
   "execution_count": 79,
   "id": "46a00f6e-e6ac-457e-980c-18867285ea87",
   "metadata": {},
   "outputs": [],
   "source": [
    "XL_new = torch.cat((X_new,torch.repeat_interleave(L_new,p_new,dim=0)),axis=1)"
   ]
  },
  {
   "cell_type": "code",
   "execution_count": 80,
   "id": "a13ad5f8-a7ad-4473-80ac-2e1de5c6c48e",
   "metadata": {},
   "outputs": [
    {
     "data": {
      "text/plain": [
       "tensor([-1.7132], grad_fn=<RsubBackward1>)"
      ]
     },
     "execution_count": 80,
     "metadata": {},
     "output_type": "execute_result"
    }
   ],
   "source": [
    "LVemulator.R2(XL_new,Y_new)"
   ]
  },
  {
   "cell_type": "code",
   "execution_count": 81,
   "id": "335c87b9-fb75-4328-bd8a-a76a92206f6b",
   "metadata": {},
   "outputs": [
    {
     "data": {
      "text/plain": [
       "[<matplotlib.lines.Line2D at 0x2b4d28890>]"
      ]
     },
     "execution_count": 81,
     "metadata": {},
     "output_type": "execute_result"
    },
    {
     "data": {
      "image/png": "[encoded data removed]",
      "text/plain": [
       "<Figure size 640x480 with 1 Axes>"
      ]
     },
     "metadata": {},
     "output_type": "display_data"
    }
   ],
   "source": [
    "plt.plot(X_new[:,0].detach().numpy(),Y_new.detach().numpy(),'o')"
   ]
  },
  {
   "cell_type": "code",
   "execution_count": null,
   "id": "bdd7927a-c4a3-4aad-b2de-3c867eb3cd17",
   "metadata": {},
   "outputs": [],
   "source": [
    "def cf_cost(Y_new,X_new,L_new,Y_train,X_train,L_train,scaling,lengthscale,sigma2,p_train,p_new,mean):\n",
    "    \n",
    "    \n",
    "    mean_p,K_p = posterior_theta(Y_train,X_new,L_new,p_new,X_train,L_train,p_train,scaling,lengthscale,sigma2,mean)\n",
    "    \n",
    "    #K_inv=torch.kron(torch.linalg.inv(K_x),torch.linalg.inv(K_L))\n",
    "    #K_inv=torch.kron(torch.linalg.inv(K_L),torch.linalg.inv(K_x))\n",
    "    #print(torch.linalg.det(K))\n",
    "    c = multivariate_ll(Y_new,mean_p,K_p)  + multivariate_ll(L_new,0,torch.eye(L_new.shape[0])) # multivariate_ll(torch.repeat_interleave(L,x.shape[0])[:,None],0,torch.eye(inp.shape[0]))\n",
    "    #print(multivariate_ll(Y_new,mean_p,K_p))\n",
    "    #print(multivariate_ll(L_new,0,torch.eye(L_new.shape[0])))\n",
    "    return -c"
   ]
  },
  {
   "cell_type": "code",
   "execution_count": null,
   "id": "92f30625-fd97-4f2b-b359-45d8c600c086",
   "metadata": {},
   "outputs": [],
   "source": [
    "cf_cost(Y_new,X_new,L_new,Y,X_train,L,scaling,lengthscale,sigma2,p,p_new,mean)"
   ]
  },
  {
   "cell_type": "code",
   "execution_count": null,
   "id": "072c96f6-845a-48dc-a6e7-1763e839c592",
   "metadata": {},
   "outputs": [],
   "source": [
    "mean_p,K_p = posterior_theta(Y,X_new,L_cf,p_new,X_train,L,p,scaling,lengthscale,sigma2,mean)"
   ]
  },
  {
   "cell_type": "code",
   "execution_count": null,
   "id": "91c8b6df-e0cb-48be-8af6-0c181b38cfda",
   "metadata": {},
   "outputs": [],
   "source": [
    "plt.imshow(K_p.detach().numpy())"
   ]
  },
  {
   "cell_type": "code",
   "execution_count": null,
   "id": "a204212f-fc35-4215-8b6d-5478e33b6a61",
   "metadata": {},
   "outputs": [],
   "source": [
    "mean_p"
   ]
  },
  {
   "cell_type": "code",
   "execution_count": null,
   "id": "57f5bed7-2a08-43c1-88b4-5ab9c35bd2de",
   "metadata": {},
   "outputs": [],
   "source": [
    "Y_new"
   ]
  },
  {
   "cell_type": "code",
   "execution_count": null,
   "id": "79f839cb-4b6c-47ca-84de-54f9ab8215b2",
   "metadata": {},
   "outputs": [],
   "source": [
    "L_cf =torch.normal(0,torch.ones(1,L_true.shape[1])).clone().detach().requires_grad_(True)\n",
    "#L_cf = (L[[1]]).clone().detach().requires_grad_(True)"
   ]
  },
  {
   "cell_type": "code",
   "execution_count": null,
   "id": "5e49230b-339c-41b1-b11c-76e37bd4b229",
   "metadata": {},
   "outputs": [],
   "source": [
    "cf_cost(Y_new,X_new,L_cf,Y,X_train,L,scaling,lengthscale,sigma2,p,p_new,mean)"
   ]
  },
  {
   "cell_type": "code",
   "execution_count": null,
   "id": "46e8457b-ddb1-41ae-a3cd-ac2085b3220d",
   "metadata": {},
   "outputs": [],
   "source": [
    "\n",
    "cf = torch.optim.Adam([L_cf], lr=1e-5)\n",
    "history_cf = []\n",
    "\n",
    "for i in range(100000):\n",
    "    cf.zero_grad()\n",
    "    objective = cf_cost(Y_new,X_new,L_cf,Y,X_train,L,scaling,lengthscale,sigma2,p,p_new,mean)\n",
    "    objective.backward()\n",
    "    cf.step()\n",
    "    history_cf.append(objective.item())\n",
    "    if i%1000 ==0:\n",
    "        m_new, K_new = posterior_theta(Y,X_new,L_cf,p_new,X_train,L,p,scaling,lengthscale,sigma2,mean)\n",
    "        print(1-(((m_new-Y_new)**2).mean()/Y_new.std()**2),objective)\n",
    "\n",
    "    if (i>1) and (np.abs(history_cf[-1] - history_cf[-2]) < .00000000001):\n",
    "        print(\"Convergence achieved in \", i+1, \" iterations\")\n",
    "        print(\"-LogL Value: \", objective.item())\n",
    "        break\n"
   ]
  },
  {
   "cell_type": "code",
   "execution_count": null,
   "id": "f63fb05d-0d56-40b6-a6d9-0ee2a1198636",
   "metadata": {},
   "outputs": [],
   "source": [
    "L_cf"
   ]
  },
  {
   "cell_type": "code",
   "execution_count": null,
   "id": "96e49cd6-c5ca-42aa-ac75-8c6fe99ab35c",
   "metadata": {},
   "outputs": [],
   "source": [
    "L[[1]]"
   ]
  },
  {
   "cell_type": "code",
   "execution_count": null,
   "id": "e4403cfa-d220-4635-9dd6-5944728314b7",
   "metadata": {},
   "outputs": [],
   "source": [
    "m_new, K_new = posterior_theta(Y,X_new,L_cf,p_new,X_train,L,p,scaling,lengthscale,sigma2,mean)"
   ]
  },
  {
   "cell_type": "code",
   "execution_count": null,
   "id": "3ec908a8-1203-43c5-9143-d5e64f469c86",
   "metadata": {},
   "outputs": [],
   "source": [
    "K_new.detach().numpy()"
   ]
  },
  {
   "cell_type": "code",
   "execution_count": null,
   "id": "7f4fd206-01a2-4097-9fc1-fc299774578e",
   "metadata": {},
   "outputs": [],
   "source": [
    "multivariate_ll(Y_new,m_new, K_new) + multivariate_ll(L_cf,0,torch.eye(L_new.shape[0]))"
   ]
  },
  {
   "cell_type": "code",
   "execution_count": null,
   "id": "8f11d985-b21a-436b-8e91-fdf55357b4d7",
   "metadata": {},
   "outputs": [],
   "source": [
    "multivariate_ll(Y_new,m_new, K_new) "
   ]
  },
  {
   "cell_type": "code",
   "execution_count": null,
   "id": "e792805f-4345-41bb-948e-480cc4336f9c",
   "metadata": {},
   "outputs": [],
   "source": [
    "multivariate_ll(L_cf,0,torch.eye(L_new.shape[0]))"
   ]
  },
  {
   "cell_type": "code",
   "execution_count": null,
   "id": "2e7341e1-e4c8-452a-a55e-5db9562f519c",
   "metadata": {},
   "outputs": [],
   "source": [
    "1-(((m_new-Y_new)**2).mean())/Y_new.std()"
   ]
  },
  {
   "cell_type": "code",
   "execution_count": null,
   "id": "c7272047-9b14-4c5b-8411-0a3cadcf1cad",
   "metadata": {},
   "outputs": [],
   "source": [
    "m_new"
   ]
  },
  {
   "cell_type": "code",
   "execution_count": null,
   "id": "e281a7e2-d74e-4b9a-a3a6-81565d4da552",
   "metadata": {},
   "outputs": [],
   "source": [
    "Y_new"
   ]
  },
  {
   "cell_type": "code",
   "execution_count": null,
   "id": "d0f50893-300c-4bd4-be4e-ebbe2839e663",
   "metadata": {},
   "outputs": [],
   "source": [
    "mean"
   ]
  },
  {
   "cell_type": "code",
   "execution_count": null,
   "id": "c2976d2b-64c3-4cac-9e43-035c58985678",
   "metadata": {},
   "outputs": [],
   "source": []
  },
  {
   "cell_type": "code",
   "execution_count": null,
   "id": "e55cf4a2-1a28-4b79-958e-84cee0c589b1",
   "metadata": {},
   "outputs": [],
   "source": []
  },
  {
   "cell_type": "code",
   "execution_count": null,
   "id": "92f6df8d-fb9f-4dd4-b13b-4c17db810984",
   "metadata": {},
   "outputs": [],
   "source": []
  }
 ],
 "metadata": {
  "kernelspec": {
   "display_name": "Python 3 (ipykernel)",
   "language": "python",
   "name": "python3"
  },
  "language_info": {
   "codemirror_mode": {
    "name": "ipython",
    "version": 3
   },
   "file_extension": ".py",
   "mimetype": "text/x-python",
   "name": "python",
   "nbconvert_exporter": "python",
   "pygments_lexer": "ipython3",
   "version": "3.11.5"
  }
 },
 "nbformat": 4,
 "nbformat_minor": 5
}
