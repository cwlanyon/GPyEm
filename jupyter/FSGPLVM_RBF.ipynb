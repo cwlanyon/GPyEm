{
 "cells": [
  {
   "cell_type": "code",
   "execution_count": 1,
   "id": "c2fd0118-1953-4901-9e7b-403d2b56e2c3",
   "metadata": {},
   "outputs": [],
   "source": [
    "import math\n",
    "import torch\n",
    "import gpytorch\n",
    "import pandas as pd \n",
    "import numpy as np\n",
    "from matplotlib import pyplot as plt\n",
    "\n",
    "from GPyEm import GPE_ensemble as GPE\n",
    "\n",
    "from FSGPLVM import FSGPLVM as LVM"
   ]
  },
  {
   "cell_type": "code",
   "execution_count": 2,
   "id": "c4288df3-5ba1-4845-9c47-402156e8971a",
   "metadata": {},
   "outputs": [],
   "source": [
    "import sklearn.metrics as sk"
   ]
  },
  {
   "cell_type": "markdown",
   "id": "4d022407-8ab7-4f98-93a5-de2e66818084",
   "metadata": {},
   "source": [
    "### Fully supervised GPLVM (we should come up with a better acronym/name)\n",
    "\n",
    "Observations:\n",
    "$$Y = [y_1,...,y_N], \\ y_n \\in R^{p}$$\n",
    "Model parameters\n",
    "$$X = [x_1,...,x_N], \\ x_n \\in R^{p\\times q}$$\n",
    "Latent parameters/features\n",
    "$$L = [l_1,...,l_N], \\ l_n \\in R^{d }$$\n",
    "With $d<q$ and $L\\sim N(0,I)$.\n",
    "\n",
    "We want to find a function $f_\\theta$ such that:\n",
    "$$ Y = f_\\theta(X,L)+\\epsilon $$\n",
    "Let's make $f$ a GP, as we like to, with mean $m_\\theta(X,L)$ and covariance $K_\\theta((X,L),(X',L'))$\n",
    "We would like to learn $L$ and $\\theta$ (the hyper-parameters). \n",
    "\n",
    "As a cost function we use the likelihood\n",
    "$$p(Y,L|X) = p(Y|L,X)p(L) $$\n",
    "and as $f$ is a GP,\n",
    "$$p(Y|L,X) \\sim N(m_\\theta(X,L), K_\\theta((X,L),(X,L)))$$\n",
    "\n",
    "Taking the log we have\n",
    "$$\\log p(Y,L|X) = \\log p(Y|L,X)+\\log p(L) $$\n",
    "$$ = -\\frac{NP}{2}\\log(2\\pi)-\\frac{1}{2}\\log|K_\\theta|-\\frac{1}{2}(Y-m_\\theta(X,L))^\\top\\ K_\\theta^{-1}(Y-m_\\theta(X,L))-\\frac{N*LDIM}{2}\\log(2\\pi)-\\frac{1}{2}\\log|I|-\\frac{1}{2}(L)^\\top I^{-1}(L)) $$\n"
   ]
  },
  {
   "cell_type": "markdown",
   "id": "7db27991-412e-4b67-9a76-0db0382473b9",
   "metadata": {},
   "source": [
    "to calculate $\\log |K|$ we use the fact that $\\log |K| = 2\\Sigma (\\log\\mathrm{diag}(L)_i)$, where $L$ is the cholesky decomposition of $K$."
   ]
  },
  {
   "cell_type": "code",
   "execution_count": 3,
   "id": "005cc30b-0fce-43f1-960d-a68e1f041408",
   "metadata": {},
   "outputs": [],
   "source": [
    "def multivariate_ll(y,mu,K,K_inv=None):\n",
    "    det = 2*torch.sum(torch.log(torch.diag(torch.linalg.cholesky(K))))\n",
    "    if K_inv==None:\n",
    "        ll = -((y.shape[0]*y.shape[1])/2)*torch.log(2*torch.tensor(torch.pi))-0.5*y.shape[1]*det-0.5*torch.sum(torch.diag(torch.matmul((y-mu).T,torch.linalg.solve(K,y-mu))))\n",
    "        #ll = -(y.shape[0]/2)*torch.log(2*torch.tensor(torch.pi))-0.5*det-0.5*torch.matmul((y-mu).T,torch.linalg.solve(K,y-mu))\n",
    "        \n",
    "    return ll"
   ]
  },
  {
   "cell_type": "code",
   "execution_count": 4,
   "id": "c40a6d86-1ede-452a-b567-fbaa843f1627",
   "metadata": {},
   "outputs": [],
   "source": [
    "import numpy as np\n",
    "from sklearn.metrics.pairwise import rbf_kernel\n",
    "\n",
    "\n",
    "\n",
    "def rbf(X1,L1,X2,L2,scaling,lengthscale,p1,p2):\n",
    "    X1=X1/torch.sqrt(lengthscale)\n",
    "    X2=X2/torch.sqrt(lengthscale)\n",
    "    X_1 = (torch.cat((X1,torch.repeat_interleave(L1,p1,dim=0)),axis=1)).detach().numpy()\n",
    "    X_2 = (torch.cat((X2,torch.repeat_interleave(L2,p2,dim=0)),axis=1)).detach().numpy()\n",
    "    rbf = scaling * torch.tensor(rbf_kernel(X_1,X_2, gamma = 1))\n",
    "\n",
    "    return rbf\n",
    "\n",
    "def rbf(X1,L1,X2,L2,scaling,lengthscale,p1,p2):\n",
    "    X_1 = (torch.cat((X1,torch.repeat_interleave(L1,p1,dim=0)),axis=1)/torch.sqrt(lengthscale)).detach().numpy()\n",
    "    X_2 = (torch.cat((X2,torch.repeat_interleave(L2,p2,dim=0)),axis=1)/torch.sqrt(lengthscale)).detach().numpy()\n",
    "    rbf = scaling * torch.tensor(rbf_kernel(X_1,X_2, gamma = 1))\n",
    "\n",
    "    return rbf\n",
    "\n",
    "def rbf2(X1,X2,scaling,lengthscale):\n",
    "\n",
    "    X_1 = (X1/torch.sqrt(lengthscale)).detach().numpy()\n",
    "    X_2 = (X2/torch.sqrt(lengthscale)).detach().numpy()\n",
    "    rbf = scaling * torch.tensor(rbf_kernel(X_1,X_2, gamma = 1))\n",
    "\n",
    "    return rbf\n",
    "\n",
    "\n",
    "def rbf(X1,X2,scaling,lengthscale):\n",
    "\n",
    "    X_1 = X1/lengthscale\n",
    "    X_2 = X2/lengthscale\n",
    "    rbf = scaling * torch.exp(-0.5*torch.cdist(X_1,X_2,p=2)**2)\n",
    "\n",
    "    return rbf\n",
    "\n"
   ]
  },
  {
   "cell_type": "markdown",
   "id": "3994c62a-ec5e-4ff2-90f1-0902de215863",
   "metadata": {},
   "source": [
    "For the linear kernel we don't really have any separation possibilities that are useful to us from an inverting persepctive, as far as I can tell? \n",
    "$$K_{ij}=x_i^\\top x_j + l_i^\\top l_j$$\n",
    "\n",
    "So we don't get much in the way of help here."
   ]
  },
  {
   "cell_type": "code",
   "execution_count": 5,
   "id": "182f217c-b642-438e-bfa2-d292c99b9850",
   "metadata": {},
   "outputs": [],
   "source": [
    "def linear(X1,L1,X2,L2,X_length,L_length,p1,p2):\n",
    "    \n",
    "    L1=L1/torch.sqrt(L_scale)\n",
    "    X1=X1/torch.sqrt(X_scale)\n",
    "    X_1 = torch.cat((X1,torch.repeat_interleave(L1,p1)[:,None]),axis=1)\n",
    "\n",
    "    L2=L2/torch.sqrt(L_scale)\n",
    "    X2=X2/torch.sqrt(X_scale)\n",
    "    X_2 = torch.cat((X2,torch.repeat_interleave(L2,p2)[:,None]),axis=1)\n",
    "    \n",
    "    rbf =  torch.matmul(X_1, X_2.T) \n",
    "    return rbf"
   ]
  },
  {
   "cell_type": "markdown",
   "id": "9561338a-cf45-4358-97bb-d1460f6c7c62",
   "metadata": {},
   "source": [
    "sample $L$ and $X$ from $U[-1,1]$\n",
    "\n",
    "Here we do $x_i \\neq x_j$, just for the sake of it"
   ]
  },
  {
   "cell_type": "markdown",
   "id": "6f5921d3-a4a5-42b9-bfd2-c51cea5a6735",
   "metadata": {},
   "source": [
    "Posterior mean: $$m(X^*,X)+K((X^*,L^*),(X,L))(K((X,L),(X,L))+\\sigma^2I)^{-1}(Y-m(X,X))$$\n",
    "\n",
    "Posterior covar: $$K((X^*,L^*),(X^*,L^*))+\\sigma^2 - K((X^*,L^*),(X,L))(K((X,L),(X,L))+\\sigma^2I]^{-1}K((X^*,L^*),(X,L))^\\top$$"
   ]
  },
  {
   "cell_type": "code",
   "execution_count": 6,
   "id": "2135f7d0-6e53-4819-99ea-9d48a5c30de4",
   "metadata": {},
   "outputs": [],
   "source": [
    "def posterior_theta(Y,X_test,L_test,p_test,X_train,L_train,p_train,scaling,lengthscale,sigma2,mean):\n",
    "    K = rbf(X_train,L_train,X_train,L_train,scaling,lengthscale,p_train,p_train)+sigma2*torch.eye(X_train.shape[0])\n",
    "    K_s = rbf(X_test,L_test,X_train,L_train,scaling,lengthscale,p_test,p_train)\n",
    "    K_ss = rbf(X_test,L_test,X_test,L_test,scaling,lengthscale,p_test,p_test)\n",
    "\n",
    "    mean_p = mean+torch.matmul(K_s,torch.linalg.solve(K,Y-mean))\n",
    "    K_p = K_ss-torch.matmul(K_s,torch.linalg.solve(K,K_s.T))+sigma2\n",
    "    return mean_p, K_p"
   ]
  },
  {
   "cell_type": "code",
   "execution_count": 7,
   "id": "c14bb8a3-6afd-4810-9a82-152387cc8240",
   "metadata": {},
   "outputs": [],
   "source": [
    "def posterior_theta(Y,X_test,X_train,scaling,lengthscale,sigma2,mean):\n",
    "    K = rbf(X_train,X_train,scaling,lengthscale)+sigma2*torch.eye(X_train.shape[0])\n",
    "    K_s = rbf(X_test,X_train,scaling,lengthscale)\n",
    "    K_ss = rbf(X_test,X_test,scaling,lengthscale)\n",
    "\n",
    "    mean_p = mean+torch.matmul(K_s,torch.linalg.solve(K,Y-mean))\n",
    "    K_p = K_ss-torch.matmul(K_s,torch.linalg.solve(K,K_s.T))+sigma2\n",
    "    return mean_p, K_p"
   ]
  },
  {
   "cell_type": "markdown",
   "id": "8acea079-34a4-4d59-9306-757da9b84345",
   "metadata": {},
   "source": [
    "### Test 1"
   ]
  },
  {
   "cell_type": "code",
   "execution_count": 35,
   "id": "52babe36-0822-4ed8-a2cf-f7f8ea2e4077",
   "metadata": {},
   "outputs": [],
   "source": [
    "N = 20 #number of systems\n",
    "p = 30 #observations per system\n",
    "alpha=10\n",
    "beta=-7\n",
    "zeta=1"
   ]
  },
  {
   "cell_type": "code",
   "execution_count": 36,
   "id": "434fff99-4185-40a6-8ec0-11180da77f95",
   "metadata": {},
   "outputs": [],
   "source": [
    "L_true=torch.FloatTensor(N, 1).uniform_(1, 4)\n",
    "L_true =torch.normal(0,torch.ones(L_true.shape[0],L_true.shape[1]))"
   ]
  },
  {
   "cell_type": "code",
   "execution_count": 37,
   "id": "07b2ccc9-6f6b-4867-8d5e-851383e9121a",
   "metadata": {},
   "outputs": [
    {
     "data": {
      "text/plain": [
       "tensor([[ 1.5764],\n",
       "        [-0.1379],\n",
       "        [-0.6520],\n",
       "        [-0.3225],\n",
       "        [-0.3178],\n",
       "        [ 0.1203],\n",
       "        [-0.4115],\n",
       "        [-0.4487],\n",
       "        [ 0.4140],\n",
       "        [-0.0929],\n",
       "        [ 0.3410],\n",
       "        [-0.7967],\n",
       "        [ 1.4143],\n",
       "        [ 0.0172],\n",
       "        [-0.9804],\n",
       "        [ 0.1319],\n",
       "        [ 0.3626],\n",
       "        [-1.7092],\n",
       "        [-0.8940],\n",
       "        [ 2.0842]])"
      ]
     },
     "execution_count": 37,
     "metadata": {},
     "output_type": "execute_result"
    }
   ],
   "source": [
    "L_true"
   ]
  },
  {
   "cell_type": "code",
   "execution_count": 38,
   "id": "f66620d6-7e42-4790-aec1-dc227e1c002e",
   "metadata": {},
   "outputs": [
    {
     "data": {
      "text/plain": [
       "tensor(-26.1915)"
      ]
     },
     "execution_count": 38,
     "metadata": {},
     "output_type": "execute_result"
    }
   ],
   "source": [
    "multivariate_ll(L_true,0,torch.eye(N),K_inv=None)"
   ]
  },
  {
   "cell_type": "code",
   "execution_count": 39,
   "id": "ae9d5fa8-179a-49b5-9243-e478e9f59b65",
   "metadata": {},
   "outputs": [
    {
     "data": {
      "text/plain": [
       "-26.191522397712273"
      ]
     },
     "execution_count": 39,
     "metadata": {},
     "output_type": "execute_result"
    }
   ],
   "source": [
    "\n",
    "import scipy\n",
    "np.sum(scipy.stats.multivariate_normal.logpdf(L_true.T.detach().numpy(),cov=np.eye(N)))"
   ]
  },
  {
   "cell_type": "code",
   "execution_count": 40,
   "id": "9e40232a-a9f1-46d2-b4af-f4a7a0c74d01",
   "metadata": {},
   "outputs": [],
   "source": [
    "X_train=torch.torch.FloatTensor(N*p, 1).uniform_(-2, 2)\n",
    "X_test=torch.torch.FloatTensor(N*p, 1).uniform_(-2, 2)"
   ]
  },
  {
   "cell_type": "code",
   "execution_count": 41,
   "id": "94b27d91-2fed-40a1-b35f-4d4c3f7f721f",
   "metadata": {},
   "outputs": [
    {
     "data": {
      "text/plain": [
       "tensor([1.5764])"
      ]
     },
     "execution_count": 41,
     "metadata": {},
     "output_type": "execute_result"
    }
   ],
   "source": [
    "L_true[[0]][0]"
   ]
  },
  {
   "cell_type": "code",
   "execution_count": null,
   "id": "8841b706-849b-46fa-a357-269c86aa4d93",
   "metadata": {},
   "outputs": [],
   "source": []
  },
  {
   "cell_type": "code",
   "execution_count": 52,
   "id": "bd5cbaea-cc79-484c-80a9-c5e9da7f998d",
   "metadata": {},
   "outputs": [],
   "source": [
    "def true_func(X,L,alpha,beta,zeta):\n",
    "    tf = alpha*X*torch.sin(2*X)+L+beta+torch.normal(0,0.01*torch.ones(X.shape[0],1))\n",
    "    return tf"
   ]
  },
  {
   "cell_type": "code",
   "execution_count": 53,
   "id": "7fa375ba-1ea5-4517-b630-7fafeaec48a2",
   "metadata": {},
   "outputs": [],
   "source": [
    "lmin=-2\n",
    "lmax=2\n",
    "\n",
    "xmin=-2\n",
    "xmax=2\n",
    "\n",
    "\n",
    "l_range = torch.linspace(lmin,lmax,100)\n",
    "x_range = torch.linspace(xmin,xmax,100)\n",
    "\n",
    "XX,LL  = torch.meshgrid(l_range,x_range)\n",
    "XXLL = torch.cat([XX.reshape(10000,1),LL.reshape(10000,1)],axis=1)\n",
    "\n",
    "YY = true_func(XX,LL,alpha,beta,zeta)"
   ]
  },
  {
   "cell_type": "code",
   "execution_count": 54,
   "id": "b4277d83-184e-413d-97d9-fd97b00ebf15",
   "metadata": {},
   "outputs": [
    {
     "data": {
      "text/plain": [
       "<matplotlib.colorbar.Colorbar at 0x29dbf7210>"
      ]
     },
     "execution_count": 54,
     "metadata": {},
     "output_type": "execute_result"
    },
    {
     "data": {
      "image/png": "[encoded data removed]",
      "text/plain": [
       "<Figure size 640x480 with 2 Axes>"
      ]
     },
     "metadata": {},
     "output_type": "display_data"
    }
   ],
   "source": [
    "plt.imshow(YY,origin='lower',extent=[lmin,lmax,xmin,xmax])\n",
    "plt.ylabel('X')\n",
    "plt.xlabel('L')\n",
    "\n",
    "plt.colorbar()"
   ]
  },
  {
   "cell_type": "code",
   "execution_count": 55,
   "id": "1c8c58cd-68f3-4009-8045-ceb52ece710f",
   "metadata": {},
   "outputs": [],
   "source": [
    "y=[]\n",
    "y_test = []\n",
    "for i in range(N):\n",
    "    y.append(true_func(X_train[i*p:(i+1)*p],L_true[[i]],alpha,beta,zeta))\n",
    "    y_test.append(true_func(X_test[i*p:(i+1)*p],L_true[[i]],alpha,beta,zeta))"
   ]
  },
  {
   "cell_type": "code",
   "execution_count": 56,
   "id": "17b6ccee-493f-4e52-b3a6-5888101788c9",
   "metadata": {},
   "outputs": [],
   "source": [
    "Y=torch.cat(y)\n",
    "Y_test=torch.cat(y_test)"
   ]
  },
  {
   "cell_type": "code",
   "execution_count": 57,
   "id": "2f674a06-5dd7-4684-9df8-c87ba4097f90",
   "metadata": {},
   "outputs": [
    {
     "data": {
      "text/plain": [
       "torch.Size([600, 1])"
      ]
     },
     "execution_count": 57,
     "metadata": {},
     "output_type": "execute_result"
    }
   ],
   "source": [
    "Y.shape"
   ]
  },
  {
   "cell_type": "code",
   "execution_count": 58,
   "id": "7165cb90-0487-4942-9b5e-d46c1e687d21",
   "metadata": {},
   "outputs": [
    {
     "data": {
      "image/png": "[encoded data removed]",
      "text/plain": [
       "<Figure size 640x480 with 1 Axes>"
      ]
     },
     "metadata": {},
     "output_type": "display_data"
    }
   ],
   "source": [
    "for i in range(N):\n",
    "    plt.plot(X_train[i*p:(i+1)*p,0].detach().numpy(),Y[i*p:(i+1)*p].detach().numpy(),'o')"
   ]
  },
  {
   "cell_type": "code",
   "execution_count": 59,
   "id": "3226c206-d056-49e7-88dc-a8a77e384bb6",
   "metadata": {},
   "outputs": [],
   "source": [
    "Y_mean = Y.mean()\n",
    "Y_std = Y.std()\n",
    "\n",
    "X_mean = X_train.mean()\n",
    "X_std =X_train.std()\n",
    "\n",
    "X_train = (X_train-X_mean)/X_std\n",
    "X_test = (X_test-X_mean)/X_std\n",
    "\n",
    "Y=(Y-Y_mean)/Y_std\n",
    "Y_test=(Y_test-Y_mean)/Y_std"
   ]
  },
  {
   "cell_type": "code",
   "execution_count": 60,
   "id": "e83eb55a-1356-410c-9f7c-c3b10e20d9e6",
   "metadata": {},
   "outputs": [],
   "source": [
    "X_all_train = (torch.cat((X_train,torch.repeat_interleave(L_true,p,dim=0)),axis=1))\n",
    "X_all_test = (torch.cat((X_test,torch.repeat_interleave(L_true,p,dim=0)),axis=1))\n"
   ]
  },
  {
   "cell_type": "code",
   "execution_count": 61,
   "id": "2ca333eb-6d16-4dd4-9119-ceca5e74d2d5",
   "metadata": {},
   "outputs": [
    {
     "name": "stdout",
     "output_type": "stream",
     "text": [
      "0\n"
     ]
    }
   ],
   "source": [
    "emulator=GPE.ensemble(X_all_train,Y,mean_func='zero',training_iter=1000)"
   ]
  },
  {
   "cell_type": "code",
   "execution_count": 62,
   "id": "e252bfe6-c6a1-4f9e-b86e-2bc9b570b0db",
   "metadata": {},
   "outputs": [
    {
     "name": "stdout",
     "output_type": "stream",
     "text": [
      "Parameter name: likelihood.noise_covar.raw_noise           \n",
      "Parameter name: covar_module.raw_outputscale               \n",
      "Parameter name: covar_module.base_kernel.raw_lengthscale   \n"
     ]
    }
   ],
   "source": [
    "for param_name, param in emulator.models[0].named_parameters():\n",
    "    print(f'Parameter name: {param_name:42} ')"
   ]
  },
  {
   "cell_type": "code",
   "execution_count": 63,
   "id": "d2149151-ecdc-4ae2-93fb-6c051764b420",
   "metadata": {},
   "outputs": [
    {
     "data": {
      "text/plain": [
       "tensor([[ 1.0791, 26.6632]], grad_fn=<SoftplusBackward0>)"
      ]
     },
     "execution_count": 63,
     "metadata": {},
     "output_type": "execute_result"
    }
   ],
   "source": [
    "emulator.models[0].covar_module.outputscale\n",
    "emulator.models[0].covar_module.base_kernel.lengthscale"
   ]
  },
  {
   "cell_type": "code",
   "execution_count": 64,
   "id": "5ad221d4-6a19-460a-8ddf-4e4f6474ae72",
   "metadata": {},
   "outputs": [
    {
     "data": {
      "text/plain": [
       "tensor(19.6442)"
      ]
     },
     "execution_count": 64,
     "metadata": {},
     "output_type": "execute_result"
    }
   ],
   "source": [
    "emulator.models[0].covar_module.outputscale.detach().clone()"
   ]
  },
  {
   "cell_type": "code",
   "execution_count": 65,
   "id": "3d16abfa-db5e-4fe8-b392-f2c6efdb26cc",
   "metadata": {},
   "outputs": [],
   "source": [
    "L =torch.normal(0,torch.ones(L_true.shape[0],1)).clone().detach().requires_grad_(True)\n",
    "\n",
    "XL_train = torch.cat((X_train,torch.repeat_interleave(L,p,dim=0)),axis=1)"
   ]
  },
  {
   "cell_type": "code",
   "execution_count": 66,
   "id": "79b049dc-2404-49a0-8cf9-56dec86f74ac",
   "metadata": {},
   "outputs": [
    {
     "name": "stdout",
     "output_type": "stream",
     "text": [
      "Progress: 100% - Cost: 1533.4187\u001b[1K\r"
     ]
    }
   ],
   "source": [
    "LVemulator = LVM.LVE(XL_train,Y,0.01,p,N,1,training_iter=6000,lr=1e-5,L_length=10)"
   ]
  },
  {
   "cell_type": "code",
   "execution_count": 67,
   "id": "72ee7e30-2faf-423d-8d9d-d8b4a091551a",
   "metadata": {},
   "outputs": [
    {
     "name": "stdout",
     "output_type": "stream",
     "text": [
      "Progress: 100% - Cost: 449.56744\u001b[1K\r"
     ]
    }
   ],
   "source": [
    "LVemulator.optimise(100000,1e-4)"
   ]
  },
  {
   "cell_type": "code",
   "execution_count": 68,
   "id": "68e38173-e6ae-4372-970b-6dc199a2a8a8",
   "metadata": {},
   "outputs": [
    {
     "data": {
      "text/plain": [
       "[<matplotlib.lines.Line2D at 0x29da486d0>]"
      ]
     },
     "execution_count": 68,
     "metadata": {},
     "output_type": "execute_result"
    },
    {
     "data": {
      "image/png": "[encoded data removed]",
      "text/plain": [
       "<Figure size 640x480 with 1 Axes>"
      ]
     },
     "metadata": {},
     "output_type": "display_data"
    }
   ],
   "source": [
    "plt.plot(LVemulator.history_gd[::1000],'o')"
   ]
  },
  {
   "cell_type": "code",
   "execution_count": 69,
   "id": "e5c1af82-068a-4f2a-abce-5fc3498b8f20",
   "metadata": {},
   "outputs": [
    {
     "data": {
      "text/plain": [
       "[<matplotlib.lines.Line2D at 0x29dc0c310>]"
      ]
     },
     "execution_count": 69,
     "metadata": {},
     "output_type": "execute_result"
    },
    {
     "data": {
      "image/png": "[encoded data removed]",
      "text/plain": [
       "<Figure size 640x480 with 1 Axes>"
      ]
     },
     "metadata": {},
     "output_type": "display_data"
    }
   ],
   "source": [
    "plt.plot(torch.cat(LVemulator.lengths)[::1000],'o')"
   ]
  },
  {
   "cell_type": "code",
   "execution_count": null,
   "id": "d1a44ffb-9f2f-4ea8-8df9-1582aa3406ae",
   "metadata": {},
   "outputs": [],
   "source": []
  },
  {
   "cell_type": "code",
   "execution_count": 70,
   "id": "271b2796-7e9f-4e45-ad2f-d4651db52d66",
   "metadata": {},
   "outputs": [
    {
     "data": {
      "text/plain": [
       "[<matplotlib.lines.Line2D at 0x2aaf660d0>,\n",
       " <matplotlib.lines.Line2D at 0x2aaf64390>,\n",
       " <matplotlib.lines.Line2D at 0x2aafb82d0>,\n",
       " <matplotlib.lines.Line2D at 0x2aad3a590>,\n",
       " <matplotlib.lines.Line2D at 0x2aaf43dd0>,\n",
       " <matplotlib.lines.Line2D at 0x2aaf41910>,\n",
       " <matplotlib.lines.Line2D at 0x2aaf40610>,\n",
       " <matplotlib.lines.Line2D at 0x2aaf40990>,\n",
       " <matplotlib.lines.Line2D at 0x2aaf43ed0>,\n",
       " <matplotlib.lines.Line2D at 0x2aaf41990>,\n",
       " <matplotlib.lines.Line2D at 0x2aaf43ad0>,\n",
       " <matplotlib.lines.Line2D at 0x16c222b10>,\n",
       " <matplotlib.lines.Line2D at 0x2aaf41b50>,\n",
       " <matplotlib.lines.Line2D at 0x2aaf894d0>,\n",
       " <matplotlib.lines.Line2D at 0x2aaf42a90>,\n",
       " <matplotlib.lines.Line2D at 0x2aadf3590>,\n",
       " <matplotlib.lines.Line2D at 0x2aad6e390>,\n",
       " <matplotlib.lines.Line2D at 0x2aad2a990>,\n",
       " <matplotlib.lines.Line2D at 0x29db34910>,\n",
       " <matplotlib.lines.Line2D at 0x2a82beed0>]"
      ]
     },
     "execution_count": 70,
     "metadata": {},
     "output_type": "execute_result"
    },
    {
     "data": {
      "image/png": "[encoded data removed]",
      "text/plain": [
       "<Figure size 640x480 with 1 Axes>"
      ]
     },
     "metadata": {},
     "output_type": "display_data"
    }
   ],
   "source": [
    "plt.plot(torch.cat(LVemulator.Ls,axis=1).T[::1000],'o')"
   ]
  },
  {
   "cell_type": "code",
   "execution_count": 71,
   "id": "4ffd8d95-91af-4561-bdb7-843681605a0a",
   "metadata": {},
   "outputs": [
    {
     "data": {
      "text/plain": [
       "tensor([[-1.3935],\n",
       "        [-0.3875],\n",
       "        [-0.0753],\n",
       "        [-0.0541],\n",
       "        [-0.0594],\n",
       "        [-0.4242],\n",
       "        [ 0.0300],\n",
       "        [ 0.0639],\n",
       "        [-0.6268],\n",
       "        [-0.2522],\n",
       "        [-0.5848],\n",
       "        [ 0.3992],\n",
       "        [-1.0297],\n",
       "        [-0.3504],\n",
       "        [ 0.5616],\n",
       "        [-0.2622],\n",
       "        [-0.1214],\n",
       "        [ 0.8316],\n",
       "        [ 0.5264],\n",
       "        [ 3.3670]], requires_grad=True)"
      ]
     },
     "execution_count": 71,
     "metadata": {},
     "output_type": "execute_result"
    }
   ],
   "source": [
    "LVemulator.L"
   ]
  },
  {
   "cell_type": "code",
   "execution_count": 72,
   "id": "8d00420f-322f-40d2-8610-9d8ac66cd6cf",
   "metadata": {},
   "outputs": [
    {
     "data": {
      "text/plain": [
       "30"
      ]
     },
     "execution_count": 72,
     "metadata": {},
     "output_type": "execute_result"
    }
   ],
   "source": [
    "p"
   ]
  },
  {
   "cell_type": "code",
   "execution_count": 73,
   "id": "8969307d-802a-4d1b-88c3-566eab503fba",
   "metadata": {},
   "outputs": [],
   "source": [
    "XL_test = torch.cat((X_test,torch.repeat_interleave(LVemulator.L,p,dim=0)),axis=1)"
   ]
  },
  {
   "cell_type": "code",
   "execution_count": 74,
   "id": "999cd42b-e582-4283-8d52-41dcbd6b90b7",
   "metadata": {},
   "outputs": [
    {
     "data": {
      "text/plain": [
       "tensor([[-1.3935],\n",
       "        [-0.3875],\n",
       "        [-0.0753],\n",
       "        [-0.0541],\n",
       "        [-0.0594],\n",
       "        [-0.4242],\n",
       "        [ 0.0300],\n",
       "        [ 0.0639],\n",
       "        [-0.6268],\n",
       "        [-0.2522],\n",
       "        [-0.5848],\n",
       "        [ 0.3992],\n",
       "        [-1.0297],\n",
       "        [-0.3504],\n",
       "        [ 0.5616],\n",
       "        [-0.2622],\n",
       "        [-0.1214],\n",
       "        [ 0.8316],\n",
       "        [ 0.5264],\n",
       "        [ 3.3670]], requires_grad=True)"
      ]
     },
     "execution_count": 74,
     "metadata": {},
     "output_type": "execute_result"
    }
   ],
   "source": [
    "LVemulator.L"
   ]
  },
  {
   "cell_type": "code",
   "execution_count": 75,
   "id": "d7204883-52a6-4f00-ba3d-630b416fee58",
   "metadata": {},
   "outputs": [
    {
     "data": {
      "text/plain": [
       "tensor([0.0065], grad_fn=<MeanBackward1>)"
      ]
     },
     "execution_count": 75,
     "metadata": {},
     "output_type": "execute_result"
    }
   ],
   "source": [
    "LVemulator.MSE(XL_test,Y_test)"
   ]
  },
  {
   "cell_type": "code",
   "execution_count": 76,
   "id": "b0ad8584-7e9e-4fd8-9923-8e72f4be0bec",
   "metadata": {},
   "outputs": [
    {
     "data": {
      "text/plain": [
       "tensor([0.9941], grad_fn=<RsubBackward1>)"
      ]
     },
     "execution_count": 76,
     "metadata": {},
     "output_type": "execute_result"
    }
   ],
   "source": [
    "LVemulator.R2(XL_test,Y_test)"
   ]
  },
  {
   "cell_type": "code",
   "execution_count": 77,
   "id": "04b36ec0-5513-44e4-872e-846912f6efa7",
   "metadata": {},
   "outputs": [
    {
     "data": {
      "text/plain": [
       "tensor([1.0000], grad_fn=<RsubBackward1>)"
      ]
     },
     "execution_count": 77,
     "metadata": {},
     "output_type": "execute_result"
    }
   ],
   "source": [
    "emulator.R2(X_all_test,Y_test)"
   ]
  },
  {
   "cell_type": "code",
   "execution_count": 78,
   "id": "b46062b5-28cd-4a52-bb56-38bb0052b015",
   "metadata": {},
   "outputs": [],
   "source": [
    "mean_pred,_=LVemulator.predict(XXLL)"
   ]
  },
  {
   "cell_type": "code",
   "execution_count": 79,
   "id": "f4b7edac-c527-4149-af19-66d5bdc9f85a",
   "metadata": {},
   "outputs": [
    {
     "data": {
      "text/plain": [
       "<matplotlib.image.AxesImage at 0x2aaf155d0>"
      ]
     },
     "execution_count": 79,
     "metadata": {},
     "output_type": "execute_result"
    },
    {
     "data": {
      "image/png": "[encoded data removed]",
      "text/plain": [
       "<Figure size 640x480 with 1 Axes>"
      ]
     },
     "metadata": {},
     "output_type": "display_data"
    }
   ],
   "source": [
    "plt.imshow(mean_pred.reshape(100,100).detach().numpy(),origin='lower',extent=[lmin,lmax,xmin,xmax])"
   ]
  },
  {
   "cell_type": "code",
   "execution_count": null,
   "id": "8a6510ef-9fa2-415e-a132-342c68dcebe1",
   "metadata": {},
   "outputs": [],
   "source": [
    "L_true.shape"
   ]
  },
  {
   "cell_type": "code",
   "execution_count": null,
   "id": "57a3ac85-fa9f-436d-9cc0-7b9979e06b5c",
   "metadata": {},
   "outputs": [],
   "source": [
    "LVemulator.L.shape"
   ]
  },
  {
   "cell_type": "code",
   "execution_count": null,
   "id": "dda9aa59-cd9d-4140-8b83-fbcf4220b273",
   "metadata": {},
   "outputs": [],
   "source": [
    "p_new = 100\n",
    "N_new = 1\n",
    "X_new=torch.torch.FloatTensor(N_new*p_new, 1).uniform_(-1, 1)\n",
    "L_new_true =torch.normal(0,torch.ones(N_new,L_true.shape[1]))\n",
    "L_new_true=L_true[0:N_new]\n",
    "L_new =torch.normal(0,torch.ones(N_new,L_true.shape[1])).clone().detach().requires_grad_(True)\n",
    "\n",
    "y_new=[]\n",
    "for i in range(N_new):\n",
    "    y_new.append(true_func(X_new[i*p_new:(i+1)*p_new],L_new_true[[i]],alpha,beta,zeta))\n",
    "Y_new=torch.cat(y_new)"
   ]
  },
  {
   "cell_type": "code",
   "execution_count": null,
   "id": "53ab3ec7-9ee2-4223-b37d-c452d90a0075",
   "metadata": {},
   "outputs": [],
   "source": [
    "XL_new = torch.cat((X_new,torch.repeat_interleave(L_new,p_new,dim=0)),axis=1)"
   ]
  },
  {
   "cell_type": "code",
   "execution_count": null,
   "id": "8a05485f-1a71-4bea-ae54-501ada3e09a2",
   "metadata": {},
   "outputs": [],
   "source": [
    "XL_new.shape"
   ]
  },
  {
   "cell_type": "code",
   "execution_count": null,
   "id": "b7b1be26-21c7-4a6c-9bbc-9bc1da6c74b6",
   "metadata": {},
   "outputs": [],
   "source": [
    "Y_new.shape"
   ]
  },
  {
   "cell_type": "code",
   "execution_count": null,
   "id": "d533dd58-5903-4804-8ae8-a6017932fa6f",
   "metadata": {},
   "outputs": [],
   "source": [
    "XL_new[:,0] = (XL_new[:,0]-X_mean)/X_std"
   ]
  },
  {
   "cell_type": "code",
   "execution_count": null,
   "id": "0172f2c5-dcbb-42a6-b5f6-8931837cdadc",
   "metadata": {},
   "outputs": [],
   "source": [
    "Y_new = (Y_new-Y_mean)/Y_std"
   ]
  },
  {
   "cell_type": "code",
   "execution_count": null,
   "id": "9c67f1a4-c531-43ba-b0f5-3df36c0e6355",
   "metadata": {},
   "outputs": [],
   "source": [
    "LVemulator.R2(XL_new,Y_new)"
   ]
  },
  {
   "cell_type": "code",
   "execution_count": null,
   "id": "02ad4c8a-fec7-4e76-b070-7b5f4e557342",
   "metadata": {},
   "outputs": [],
   "source": [
    "i=0"
   ]
  },
  {
   "cell_type": "code",
   "execution_count": null,
   "id": "7e000377-3984-451d-b43e-ec838f0081c3",
   "metadata": {},
   "outputs": [],
   "source": [
    "lengthscale_in=torch.cat([LVemulator.lengthscale[i],LVemulator.L_length*torch.ones(LVemulator.L_size)])"
   ]
  },
  {
   "cell_type": "code",
   "execution_count": null,
   "id": "c58999e6-c6be-44b8-9b36-8729b1db68ba",
   "metadata": {},
   "outputs": [],
   "source": [
    "m_p,k_p=LVemulator.posterior_theta(LVemulator.Y[:,[i]],XL_new,LVemulator.XL,LVemulator.scale[i],lengthscale_in,0.01,LVemulator.mean)"
   ]
  },
  {
   "cell_type": "code",
   "execution_count": null,
   "id": "cdcb42f5-95b3-475e-b00f-cc53d589fa83",
   "metadata": {},
   "outputs": [],
   "source": [
    "plt.imshow(k_p.detach().numpy())\n",
    "plt.colorbar()"
   ]
  },
  {
   "cell_type": "code",
   "execution_count": null,
   "id": "b111b6e9-612a-41ee-97b5-5597022c049c",
   "metadata": {},
   "outputs": [],
   "source": [
    "torch.linalg.cholesky(k_p)"
   ]
  },
  {
   "cell_type": "code",
   "execution_count": null,
   "id": "db9ef8b1-3ace-41ce-9d96-d65e35f2f837",
   "metadata": {},
   "outputs": [],
   "source": [
    "L_new=LVemulator.cutting_feedback(XL_new,Y_new,p_new,30000,1e-4)"
   ]
  },
  {
   "cell_type": "code",
   "execution_count": null,
   "id": "3041ff9e-c7aa-4cce-b24a-78f49a38bbe1",
   "metadata": {},
   "outputs": [],
   "source": [
    "L_new"
   ]
  },
  {
   "cell_type": "code",
   "execution_count": null,
   "id": "8c4ac7fe-dbaf-4bcd-b17e-ce2e32b3b1bc",
   "metadata": {},
   "outputs": [],
   "source": [
    "L_new"
   ]
  },
  {
   "cell_type": "code",
   "execution_count": null,
   "id": "9c82ad4c-f661-49ed-b696-b0613d8f383b",
   "metadata": {},
   "outputs": [],
   "source": [
    "LVemulator.L[0]"
   ]
  },
  {
   "cell_type": "code",
   "execution_count": null,
   "id": "46a00f6e-e6ac-457e-980c-18867285ea87",
   "metadata": {},
   "outputs": [],
   "source": [
    "XL_new = torch.cat((X_new,torch.repeat_interleave(L_new,p_new,dim=0)),axis=1)"
   ]
  },
  {
   "cell_type": "code",
   "execution_count": null,
   "id": "a13ad5f8-a7ad-4473-80ac-2e1de5c6c48e",
   "metadata": {},
   "outputs": [],
   "source": [
    "LVemulator.R2(XL_new,Y_new)"
   ]
  },
  {
   "cell_type": "code",
   "execution_count": null,
   "id": "335c87b9-fb75-4328-bd8a-a76a92206f6b",
   "metadata": {},
   "outputs": [],
   "source": [
    "plt.plot(X_new[:,0].detach().numpy(),Y_new.detach().numpy(),'o')\n",
    "plt.plot(X_new[:,0].detach().numpy(),LVemulator.predict(XL_new)[0].detach().numpy(),'o')\n",
    "plt.legend(['True','Pred'])"
   ]
  },
  {
   "cell_type": "code",
   "execution_count": null,
   "id": "0c1b3b1a-ee8e-4156-bc4e-fb1e9a09dc49",
   "metadata": {},
   "outputs": [],
   "source": []
  },
  {
   "cell_type": "code",
   "execution_count": null,
   "id": "bdd7927a-c4a3-4aad-b2de-3c867eb3cd17",
   "metadata": {},
   "outputs": [],
   "source": [
    "def cf_cost(Y_new,X_new,L_new,Y_train,X_train,L_train,scaling,lengthscale,sigma2,p_train,p_new,mean):\n",
    "    \n",
    "    \n",
    "    mean_p,K_p = posterior_theta(Y_train,X_new,L_new,p_new,X_train,L_train,p_train,scaling,lengthscale,sigma2,mean)\n",
    "    \n",
    "    #K_inv=torch.kron(torch.linalg.inv(K_x),torch.linalg.inv(K_L))\n",
    "    #K_inv=torch.kron(torch.linalg.inv(K_L),torch.linalg.inv(K_x))\n",
    "    #print(torch.linalg.det(K))\n",
    "    c = multivariate_ll(Y_new,mean_p,K_p)  + multivariate_ll(L_new,0,torch.eye(L_new.shape[0])) # multivariate_ll(torch.repeat_interleave(L,x.shape[0])[:,None],0,torch.eye(inp.shape[0]))\n",
    "    #print(multivariate_ll(Y_new,mean_p,K_p))\n",
    "    #print(multivariate_ll(L_new,0,torch.eye(L_new.shape[0])))\n",
    "    return -c"
   ]
  },
  {
   "cell_type": "code",
   "execution_count": null,
   "id": "92f30625-fd97-4f2b-b359-45d8c600c086",
   "metadata": {},
   "outputs": [],
   "source": [
    "cf_cost(Y_new,X_new,L_new,Y,X_train,L,scaling,lengthscale,sigma2,p,p_new,mean)"
   ]
  },
  {
   "cell_type": "code",
   "execution_count": null,
   "id": "072c96f6-845a-48dc-a6e7-1763e839c592",
   "metadata": {},
   "outputs": [],
   "source": [
    "mean_p,K_p = posterior_theta(Y,X_new,L_cf,p_new,X_train,L,p,scaling,lengthscale,sigma2,mean)"
   ]
  },
  {
   "cell_type": "code",
   "execution_count": null,
   "id": "91c8b6df-e0cb-48be-8af6-0c181b38cfda",
   "metadata": {},
   "outputs": [],
   "source": [
    "plt.imshow(K_p.detach().numpy())"
   ]
  },
  {
   "cell_type": "code",
   "execution_count": null,
   "id": "a204212f-fc35-4215-8b6d-5478e33b6a61",
   "metadata": {},
   "outputs": [],
   "source": [
    "mean_p"
   ]
  },
  {
   "cell_type": "code",
   "execution_count": null,
   "id": "57f5bed7-2a08-43c1-88b4-5ab9c35bd2de",
   "metadata": {},
   "outputs": [],
   "source": [
    "Y_new"
   ]
  },
  {
   "cell_type": "code",
   "execution_count": null,
   "id": "79f839cb-4b6c-47ca-84de-54f9ab8215b2",
   "metadata": {},
   "outputs": [],
   "source": [
    "L_cf =torch.normal(0,torch.ones(1,L_true.shape[1])).clone().detach().requires_grad_(True)\n",
    "#L_cf = (L[[1]]).clone().detach().requires_grad_(True)"
   ]
  },
  {
   "cell_type": "code",
   "execution_count": null,
   "id": "5e49230b-339c-41b1-b11c-76e37bd4b229",
   "metadata": {},
   "outputs": [],
   "source": [
    "cf_cost(Y_new,X_new,L_cf,Y,X_train,L,scaling,lengthscale,sigma2,p,p_new,mean)"
   ]
  },
  {
   "cell_type": "code",
   "execution_count": null,
   "id": "46e8457b-ddb1-41ae-a3cd-ac2085b3220d",
   "metadata": {},
   "outputs": [],
   "source": [
    "\n",
    "cf = torch.optim.Adam([L_cf], lr=1e-5)\n",
    "history_cf = []\n",
    "\n",
    "for i in range(100000):\n",
    "    cf.zero_grad()\n",
    "    objective = cf_cost(Y_new,X_new,L_cf,Y,X_train,L,scaling,lengthscale,sigma2,p,p_new,mean)\n",
    "    objective.backward()\n",
    "    cf.step()\n",
    "    history_cf.append(objective.item())\n",
    "    if i%1000 ==0:\n",
    "        m_new, K_new = posterior_theta(Y,X_new,L_cf,p_new,X_train,L,p,scaling,lengthscale,sigma2,mean)\n",
    "        print(1-(((m_new-Y_new)**2).mean()/Y_new.std()**2),objective)\n",
    "\n",
    "    if (i>1) and (np.abs(history_cf[-1] - history_cf[-2]) < .00000000001):\n",
    "        print(\"Convergence achieved in \", i+1, \" iterations\")\n",
    "        print(\"-LogL Value: \", objective.item())\n",
    "        break\n"
   ]
  },
  {
   "cell_type": "code",
   "execution_count": null,
   "id": "f63fb05d-0d56-40b6-a6d9-0ee2a1198636",
   "metadata": {},
   "outputs": [],
   "source": [
    "L_cf"
   ]
  },
  {
   "cell_type": "code",
   "execution_count": null,
   "id": "96e49cd6-c5ca-42aa-ac75-8c6fe99ab35c",
   "metadata": {},
   "outputs": [],
   "source": [
    "L[[1]]"
   ]
  },
  {
   "cell_type": "code",
   "execution_count": null,
   "id": "e4403cfa-d220-4635-9dd6-5944728314b7",
   "metadata": {},
   "outputs": [],
   "source": [
    "m_new, K_new = posterior_theta(Y,X_new,L_cf,p_new,X_train,L,p,scaling,lengthscale,sigma2,mean)"
   ]
  },
  {
   "cell_type": "code",
   "execution_count": null,
   "id": "3ec908a8-1203-43c5-9143-d5e64f469c86",
   "metadata": {},
   "outputs": [],
   "source": [
    "K_new.detach().numpy()"
   ]
  },
  {
   "cell_type": "code",
   "execution_count": null,
   "id": "7f4fd206-01a2-4097-9fc1-fc299774578e",
   "metadata": {},
   "outputs": [],
   "source": [
    "multivariate_ll(Y_new,m_new, K_new) + multivariate_ll(L_cf,0,torch.eye(L_new.shape[0]))"
   ]
  },
  {
   "cell_type": "code",
   "execution_count": null,
   "id": "8f11d985-b21a-436b-8e91-fdf55357b4d7",
   "metadata": {},
   "outputs": [],
   "source": [
    "multivariate_ll(Y_new,m_new, K_new) "
   ]
  },
  {
   "cell_type": "code",
   "execution_count": null,
   "id": "e792805f-4345-41bb-948e-480cc4336f9c",
   "metadata": {},
   "outputs": [],
   "source": [
    "multivariate_ll(L_cf,0,torch.eye(L_new.shape[0]))"
   ]
  },
  {
   "cell_type": "code",
   "execution_count": null,
   "id": "2e7341e1-e4c8-452a-a55e-5db9562f519c",
   "metadata": {},
   "outputs": [],
   "source": [
    "1-(((m_new-Y_new)**2).mean())/Y_new.std()"
   ]
  },
  {
   "cell_type": "code",
   "execution_count": null,
   "id": "c7272047-9b14-4c5b-8411-0a3cadcf1cad",
   "metadata": {},
   "outputs": [],
   "source": [
    "m_new"
   ]
  },
  {
   "cell_type": "code",
   "execution_count": null,
   "id": "e281a7e2-d74e-4b9a-a3a6-81565d4da552",
   "metadata": {},
   "outputs": [],
   "source": [
    "Y_new"
   ]
  },
  {
   "cell_type": "code",
   "execution_count": null,
   "id": "d0f50893-300c-4bd4-be4e-ebbe2839e663",
   "metadata": {},
   "outputs": [],
   "source": [
    "mean"
   ]
  },
  {
   "cell_type": "code",
   "execution_count": null,
   "id": "c2976d2b-64c3-4cac-9e43-035c58985678",
   "metadata": {},
   "outputs": [],
   "source": []
  },
  {
   "cell_type": "code",
   "execution_count": null,
   "id": "e55cf4a2-1a28-4b79-958e-84cee0c589b1",
   "metadata": {},
   "outputs": [],
   "source": []
  },
  {
   "cell_type": "code",
   "execution_count": null,
   "id": "92f6df8d-fb9f-4dd4-b13b-4c17db810984",
   "metadata": {},
   "outputs": [],
   "source": []
  }
 ],
 "metadata": {
  "kernelspec": {
   "display_name": "Python 3 (ipykernel)",
   "language": "python",
   "name": "python3"
  },
  "language_info": {
   "codemirror_mode": {
    "name": "ipython",
    "version": 3
   },
   "file_extension": ".py",
   "mimetype": "text/x-python",
   "name": "python",
   "nbconvert_exporter": "python",
   "pygments_lexer": "ipython3",
   "version": "3.11.5"
  }
 },
 "nbformat": 4,
 "nbformat_minor": 5
}
