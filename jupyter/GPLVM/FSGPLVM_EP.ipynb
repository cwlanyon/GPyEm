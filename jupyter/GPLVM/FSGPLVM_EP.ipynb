{
 "cells": [
  {
   "cell_type": "code",
   "execution_count": 1,
   "id": "c2fd0118-1953-4901-9e7b-403d2b56e2c3",
   "metadata": {},
   "outputs": [],
   "source": [
    "import math\n",
    "import torch\n",
    "import gpytorch\n",
    "import pandas as pd \n",
    "import numpy as np\n",
    "from matplotlib import pyplot as plt\n",
    "\n",
    "from GPyEm import GPE_ensemble as GPE\n",
    "from FSGPLVM import FSGPLVM as LVM\n",
    "\n",
    "import os\n",
    "from sklearn.linear_model import LinearRegression\n",
    "from sklearn.metrics import mean_squared_error, r2_score\n",
    "from sklearn.model_selection import train_test_split\n",
    "#from GPErks.gp.data.dataset import Dataset\n",
    "from gpytorch.likelihoods import GaussianLikelihood\n",
    "from gpytorch.means import LinearMean\n",
    "from gpytorch.kernels import RBFKernel, ScaleKernel\n",
    "\n",
    "\n",
    "\n",
    "%matplotlib inline\n",
    "%load_ext autoreload\n",
    "%autoreload 2\n",
    "\n",
    "# set logger and enforce reproducibility\n",
    "#from GPErks.log.logger import get_logger\n",
    "#from GPErks.utils.random import set_seed\n",
    "#log = get_logger()\n",
    "seed = 7\n",
    "#set_seed(seed)\n",
    "from time import process_time \n",
    "import scipy\n",
    "from scipy.optimize import minimize"
   ]
  },
  {
   "cell_type": "code",
   "execution_count": 2,
   "id": "c4288df3-5ba1-4845-9c47-402156e8971a",
   "metadata": {},
   "outputs": [],
   "source": [
    "import sklearn.metrics as sk"
   ]
  },
  {
   "cell_type": "code",
   "execution_count": 3,
   "id": "5eaab5bb-07f4-4dc8-ac7c-afd356ce8326",
   "metadata": {},
   "outputs": [],
   "source": [
    "mode_weights = pd.read_csv(r'/Users/pmzcwl/Library/CloudStorage/OneDrive-TheUniversityofNottingham/shared_simulations/modes_weights.csv',index_col=0,delim_whitespace=False,header=0)\n",
    "\n",
    "mode_weights\n",
    "\n",
    "#mode_weights=mode_weights.drop(15,axis=0)\n",
    "#mode_weights=mode_weights.drop(14,axis=0)\n",
    "\n",
    "meshes=['01','02','03','04','05','06','07','08','09','10','11','12','13','14','16','17','18','19']\n",
    "\n",
    "x_labels=pd.read_csv(r'/Users/pmzcwl/Library/CloudStorage/OneDrive-TheUniversityofNottingham/shared_simulations/EP_healthy/input/xlabels_EP.txt',delim_whitespace=True,header=None)\n",
    "x_labels=x_labels.values.flatten().tolist()+mode_weights.columns.tolist()\n",
    "\n",
    "y_labels=pd.read_csv(r'/Users/pmzcwl/Library/CloudStorage/OneDrive-TheUniversityofNottingham/shared_simulations/EP_healthy/output/ylabels.txt',delim_whitespace=True,header=None)\n",
    "\n",
    "\n",
    "same_input=[]\n",
    "same_output=[]\n",
    "\n",
    "dif_input = []\n",
    "dif_output=[]\n",
    "dif_modes=[]\n",
    "\n",
    "all_input_dif = []\n",
    "all_output_dif=[]\n",
    "all_x_dif=[]\n",
    "for i in range(len(meshes)):\n",
    "    val=meshes[i]\n",
    "    \n",
    "    same_in = pd.read_csv(\"/Users/pmzcwl/Library/CloudStorage/OneDrive-TheUniversityofNottingham/shared_simulations/EP_healthy/same_X/X_EP.txt\",index_col=None,delim_whitespace=True,header=None).values\n",
    "    same_out = pd.read_csv(\"/Users/pmzcwl/Library/CloudStorage/OneDrive-TheUniversityofNottingham/shared_simulations/EP_healthy/same_X/\"+val+\"/Y.txt\",index_col=None,delim_whitespace=True,header=None).values\n",
    "    \n",
    "    dif_in = pd.read_csv(\"/Users/pmzcwl/Library/CloudStorage/OneDrive-TheUniversityofNottingham/shared_simulations/EP_healthy/\"+val+\"/X_EP.txt\",index_col=None,delim_whitespace=True,header=None).values\n",
    "    dif_out = pd.read_csv(\"/Users/pmzcwl/Library/CloudStorage/OneDrive-TheUniversityofNottingham/shared_simulations/EP_healthy/\"+val+\"/Y.txt\",index_col=None,delim_whitespace=True,header=None).values\n",
    "    \n",
    "    modeweights = np.tile(mode_weights.iloc[i,:].values, (dif_in.shape[0],1))\n",
    "    input_modes = np.concatenate((dif_in,modeweights),axis=1)\n",
    "    same_input.append(torch.tensor(same_in))\n",
    "    same_output.append(torch.tensor(same_out))\n",
    "    dif_input.append(torch.tensor(dif_in))\n",
    "    dif_output.append(torch.tensor(dif_out))\n",
    "    dif_modes.append(torch.tensor(input_modes))\n",
    "\n",
    "#all_input=pd.concat(all_input)\n",
    "#all_output=pd.concat(all_output\n",
    "#all_input.columns=x_labels\n",
    "#all_output.columns=y_labels"
   ]
  },
  {
   "cell_type": "code",
   "execution_count": 4,
   "id": "cf2b672a-b2a7-4f05-a3d1-0ed390e866d5",
   "metadata": {},
   "outputs": [],
   "source": [
    "train_input=[]\n",
    "test_input = []\n",
    "train_output=[]\n",
    "test_output = []\n",
    "\n",
    "train_input_modes=[]\n",
    "test_input_modes = []\n",
    "train_output_modes=[]\n",
    "test_output_modes = []\n",
    "\n",
    "for i in range(len(meshes)):\n",
    "\n",
    "    X=dif_input[i]\n",
    "    y=dif_output[i]\n",
    "    X_train, X_test, y_train, y_test = train_test_split(\n",
    "        X,\n",
    "        y,\n",
    "        test_size=0.2,\n",
    "        random_state=seed+i\n",
    "    )\n",
    "    train_input.append(X_train)\n",
    "    test_input.append(X_test)\n",
    "    train_output.append(y_train)\n",
    "    test_output.append(y_test)\n",
    "    \n",
    "    X=dif_modes[i]\n",
    "    y=dif_output[i]\n",
    "    X_train, X_test, y_train, y_test = train_test_split(\n",
    "        X,\n",
    "        y,\n",
    "        test_size=0.2,\n",
    "        random_state=seed+i\n",
    "    )\n",
    "    train_input_modes.append(X_train)\n",
    "    test_input_modes.append(X_test)\n",
    "    train_output_modes.append(y_train)\n",
    "    test_output_modes.append(y_test)\n"
   ]
  },
  {
   "cell_type": "code",
   "execution_count": null,
   "id": "99f03703-83f3-48ee-87b7-115b8656f9ed",
   "metadata": {},
   "outputs": [],
   "source": []
  },
  {
   "cell_type": "markdown",
   "id": "4d022407-8ab7-4f98-93a5-de2e66818084",
   "metadata": {},
   "source": [
    "### Fully supervised GPLVM (we should come up with a better acronym/name)\n",
    "\n",
    "Observations:\n",
    "$$Y = [y_1,...,y_N], \\ y_n \\in R^{p}$$\n",
    "Model parameters\n",
    "$$X = [x_1,...,x_N], \\ x_n \\in R^{p\\times q}$$\n",
    "Latent parameters/features\n",
    "$$L = [l_1,...,l_N], \\ l_n \\in R^{d }$$\n",
    "With $d<q$ and $L\\sim N(0,I)$.\n",
    "\n",
    "We want to find a function $f_\\theta$ such that:\n",
    "$$ Y = f_\\theta(X,L)+\\epsilon $$\n",
    "Let's make $f$ a GP, as we like to, with mean $m_\\theta(X,L)$ and covariance $K_\\theta((X,L),(X',L'))$\n",
    "We would like to learn $L$ and $\\theta$ (the hyper-parameters). \n",
    "\n",
    "As a cost function we use the likelihood\n",
    "$$p(Y,L|X) = p(Y|L,X)p(L) $$\n",
    "and as $f$ is a GP,\n",
    "$$p(Y|L,X) \\sim N(m_\\theta(X,L), K_\\theta((X,L),(X,L)))$$\n",
    "\n",
    "Taking the log we have\n",
    "$$\\log p(Y,L|X) = \\log p(Y|L,X)+\\log p(L) $$\n",
    "$$ = -\\frac{NP}{2}\\log(2\\pi)-\\frac{1}{2}\\log|K_\\theta|-\\frac{1}{2}(Y-m_\\theta(X,L))^\\top\\ K_\\theta^{-1}(Y-m_\\theta(X,L))-\\frac{N}{2}\\log(2\\pi)-\\frac{1}{2}\\log|I|-\\frac{1}{2}(L)^\\top I^{-1}(L)) $$\n"
   ]
  },
  {
   "cell_type": "markdown",
   "id": "7db27991-412e-4b67-9a76-0db0382473b9",
   "metadata": {},
   "source": [
    "to calculate $\\log |K|$ we use the fact that $\\log |K| = 2\\Sigma (\\log\\mathrm{diag}(L)_i)$, where $L$ is the cholesky decomposition of $K$."
   ]
  },
  {
   "cell_type": "code",
   "execution_count": 5,
   "id": "da94728c-7c86-4299-9974-f1e06dd32908",
   "metadata": {},
   "outputs": [],
   "source": [
    "def linear_mean(beta,X):\n",
    "    b_0 = beta[0]\n",
    "    b = beta[1:end]\n",
    "    mean = b_0 + b*X"
   ]
  },
  {
   "cell_type": "code",
   "execution_count": 6,
   "id": "b94a1925-a4bf-442f-84b3-7d91b3219f2b",
   "metadata": {},
   "outputs": [],
   "source": [
    "N = 18 #number of systems\n",
    "p = 40 #observations per system\n",
    "L_size = 9"
   ]
  },
  {
   "cell_type": "code",
   "execution_count": null,
   "id": "ab35d13c-8ff0-47ea-bff2-ba16d06496d2",
   "metadata": {},
   "outputs": [],
   "source": []
  },
  {
   "cell_type": "code",
   "execution_count": 7,
   "id": "70954c7b-b792-4a56-8bb0-f44dcd9a0157",
   "metadata": {},
   "outputs": [],
   "source": [
    "c=np.random.choice(range(144),p,replace=False).tolist()\n",
    "A_TAT_all = train_output[0][c,[0]][:,None]\n",
    "A_TAT_in = train_input[0][c,:]\n",
    "for i in range(len(same_output)-1):\n",
    "    A_TAT_all=torch.cat((A_TAT_all,train_output[i+1][c,[0]][:,None]),axis=0)\n",
    "    A_TAT_in=torch.cat((A_TAT_in,train_input[i+1][c,:]),axis=0)\n",
    "\n",
    "\n",
    "V_TAT_all = train_output[0][c,[1]][:,None]\n",
    "\n",
    "for i in range(len(train_output)-1):\n",
    "    V_TAT_all=torch.cat((V_TAT_all,train_output[i+1][c,[1]][:,None]),axis=0\n",
    "                       )"
   ]
  },
  {
   "cell_type": "code",
   "execution_count": 8,
   "id": "f910672b-2a05-4820-9717-250b2a03ebc3",
   "metadata": {},
   "outputs": [],
   "source": [
    "c=np.random.choice(range(144),p,replace=False).tolist()\n",
    "A_TAT_test = test_output[0][:,0][:,None]\n",
    "A_TAT_in_test = test_input[0]\n",
    "for i in range(len(same_output)-1):\n",
    "    A_TAT_test=torch.cat((A_TAT_test,test_output[i+1][:,0][:,None]),axis=0)\n",
    "    A_TAT_in_test=torch.cat((A_TAT_in_test,test_input[i+1][:,:]),axis=0)\n",
    "\n",
    "\n",
    "V_TAT_test = test_output[0][:,1][:,None]\n",
    "\n",
    "for i in range(len(same_output)-1):\n",
    "    V_TAT_test=torch.cat((V_TAT_test,test_output[i+1][:,1][:,None]),axis=0\n",
    "                       )"
   ]
  },
  {
   "cell_type": "code",
   "execution_count": 9,
   "id": "47123962-af92-4743-ba9c-66bbc3435e09",
   "metadata": {},
   "outputs": [],
   "source": [
    "y_test=torch.cat([A_TAT_test,V_TAT_test],axis=1)\n",
    "X_test = A_TAT_in_test"
   ]
  },
  {
   "cell_type": "code",
   "execution_count": 10,
   "id": "97ce923e-c701-4fc9-a59d-3fc3cc26c63d",
   "metadata": {},
   "outputs": [],
   "source": [
    "y=torch.cat([A_TAT_all,V_TAT_all],axis=1)\n",
    "X = A_TAT_in"
   ]
  },
  {
   "cell_type": "code",
   "execution_count": 11,
   "id": "3900d516-e37b-4905-9ebb-49b9bed89e9d",
   "metadata": {},
   "outputs": [
    {
     "data": {
      "text/plain": [
       "torch.Size([720, 2])"
      ]
     },
     "execution_count": 11,
     "metadata": {},
     "output_type": "execute_result"
    }
   ],
   "source": [
    "y.shape"
   ]
  },
  {
   "cell_type": "code",
   "execution_count": 12,
   "id": "1c17e93d-a268-47b5-ab33-5ad89a5d3048",
   "metadata": {},
   "outputs": [
    {
     "data": {
      "text/plain": [
       "torch.Size([648, 2])"
      ]
     },
     "execution_count": 12,
     "metadata": {},
     "output_type": "execute_result"
    }
   ],
   "source": [
    "y_test.shape"
   ]
  },
  {
   "cell_type": "code",
   "execution_count": 13,
   "id": "52babe36-0822-4ed8-a2cf-f7f8ea2e4077",
   "metadata": {},
   "outputs": [
    {
     "data": {
      "text/plain": [
       "torch.Size([720, 6])"
      ]
     },
     "execution_count": 13,
     "metadata": {},
     "output_type": "execute_result"
    }
   ],
   "source": [
    "X.shape"
   ]
  },
  {
   "cell_type": "code",
   "execution_count": 14,
   "id": "2f674a06-5dd7-4684-9df8-c87ba4097f90",
   "metadata": {},
   "outputs": [],
   "source": [
    "Y=y"
   ]
  },
  {
   "cell_type": "code",
   "execution_count": 15,
   "id": "b3ebefda-fc2a-4e5a-a138-da885024e4ec",
   "metadata": {},
   "outputs": [],
   "source": [
    "X=X"
   ]
  },
  {
   "cell_type": "code",
   "execution_count": 16,
   "id": "8643012d-53fc-4238-a122-8314accb64a7",
   "metadata": {},
   "outputs": [
    {
     "data": {
      "text/plain": [
       "torch.Size([720, 6])"
      ]
     },
     "execution_count": 16,
     "metadata": {},
     "output_type": "execute_result"
    }
   ],
   "source": [
    "X.shape"
   ]
  },
  {
   "cell_type": "code",
   "execution_count": 17,
   "id": "115e21d6-b33b-4fd6-ab25-4f661b56037b",
   "metadata": {},
   "outputs": [
    {
     "data": {
      "text/plain": [
       "torch.Size([720, 2])"
      ]
     },
     "execution_count": 17,
     "metadata": {},
     "output_type": "execute_result"
    }
   ],
   "source": [
    "Y.shape"
   ]
  },
  {
   "cell_type": "code",
   "execution_count": 18,
   "id": "3226c206-d056-49e7-88dc-a8a77e384bb6",
   "metadata": {},
   "outputs": [],
   "source": [
    "Y_mean = Y.mean()\n",
    "Y_std = Y.std()\n",
    "\n",
    "X_mean = X.mean()\n",
    "X_std =X.std()"
   ]
  },
  {
   "cell_type": "code",
   "execution_count": 19,
   "id": "49ce4f0b-e89c-4ef7-8604-0fa8841cc9aa",
   "metadata": {},
   "outputs": [],
   "source": [
    "L = torch.rand(p,L_size).clone().detach().requires_grad_(True)"
   ]
  },
  {
   "cell_type": "code",
   "execution_count": 20,
   "id": "5e5c6148-0f64-4df1-bd50-609a94ee3402",
   "metadata": {},
   "outputs": [],
   "source": [
    "L =torch.normal(0,torch.ones(N,L_size)).clone().detach().requires_grad_(True)\n",
    "#L =L_true.clone().detach().requires_grad_(True)\n",
    "scaling = torch.rand(1).clone().detach().requires_grad_(True)\n",
    "lengthscale = torch.rand(X.shape[1]+L_size).clone().detach().requires_grad_(True)\n",
    "sigma2 = torch.tensor([0.01]).clone().detach().requires_grad_(True)\n",
    "mean = torch.rand(1).clone().detach().requires_grad_(True)"
   ]
  },
  {
   "cell_type": "code",
   "execution_count": 21,
   "id": "908b3cd1-d360-4b60-aaa8-a26e2e5ee940",
   "metadata": {},
   "outputs": [],
   "source": [
    "XL_train = torch.cat((X,torch.repeat_interleave(L,p,dim=0)),axis=1)"
   ]
  },
  {
   "cell_type": "code",
   "execution_count": 22,
   "id": "c63b8525-6950-4f3f-9e22-7b984336544e",
   "metadata": {},
   "outputs": [
    {
     "data": {
      "text/plain": [
       "torch.Size([720, 15])"
      ]
     },
     "execution_count": 22,
     "metadata": {},
     "output_type": "execute_result"
    }
   ],
   "source": [
    "XL_train.shape"
   ]
  },
  {
   "cell_type": "code",
   "execution_count": 23,
   "id": "a37c1001-4948-4100-a131-63dc30e159a4",
   "metadata": {},
   "outputs": [
    {
     "name": "stdout",
     "output_type": "stream",
     "text": [
      "Progress: 100% - Cost: 4041.8872\u001b[1K\r"
     ]
    }
   ],
   "source": [
    "LVemulator = LVM.LVE(XL_train,y,0.0001,p,N,6,training_iter=10000,lr=1e-3)"
   ]
  },
  {
   "cell_type": "code",
   "execution_count": 24,
   "id": "fa3aa2ce-f373-42c6-90ff-d1b4fb666de0",
   "metadata": {},
   "outputs": [
    {
     "name": "stdout",
     "output_type": "stream",
     "text": [
      "Progress: 100% - Cost: 3794.0496\u001b[1K\r"
     ]
    }
   ],
   "source": [
    "LVemulator.optimise(10000,lr=1e-4)"
   ]
  },
  {
   "cell_type": "code",
   "execution_count": 37,
   "id": "f28fcc47-90ae-429f-93d6-305c8c11aa15",
   "metadata": {},
   "outputs": [
    {
     "name": "stdout",
     "output_type": "stream",
     "text": [
      "0\n",
      "1rogress: 100% - Cost: 572.4022\u001b[1K\n",
      "2rogress: 100% - Cost: 412.72632\u001b[1K\n",
      "3rogress: 100% - Cost: 732.1738\u001b[1K\n",
      "Progress: 100% - Cost: 1263.979\u001b[1KK\r"
     ]
    }
   ],
   "source": [
    "N = 18 #number of systems\n",
    "p = 40 #observations per system\n",
    "\n",
    "LVems2 = []\n",
    "\n",
    "for i in range(4):\n",
    "    print(i)\n",
    "    L_size = i+2\n",
    "    L =torch.normal(0,torch.ones(N,L_size)).clone().detach().requires_grad_(True)\n",
    "    XL_train = torch.cat((X,torch.repeat_interleave(L,p,dim=0)),axis=1)\n",
    "    LVemulator = LVM.LVE(XL_train,y,0.0001,p,N,6,training_iter=500000,lr=1e-4);\n",
    "    LVems2.append(LVemulator)"
   ]
  },
  {
   "cell_type": "code",
   "execution_count": 38,
   "id": "2664ba92-b8a3-4ed3-b978-7295a2f04fc9",
   "metadata": {},
   "outputs": [
    {
     "name": "stdout",
     "output_type": "stream",
     "text": [
      "tensor([0.9896, 0.9812], grad_fn=<RsubBackward1>)\n",
      "tensor([0.9988, 0.9928], grad_fn=<RsubBackward1>)\n",
      "tensor([0.9992, 0.9956], grad_fn=<RsubBackward1>)\n",
      "tensor([0.9990, 0.9957], grad_fn=<RsubBackward1>)\n"
     ]
    }
   ],
   "source": [
    "for i in range(len(LVems2)):\n",
    "    XL_test = torch.cat((X_test,torch.repeat_interleave(LVems2[i].L,36,dim=0)),axis=1)\n",
    "    print(LVems2[i].R2(XL_test.float(),y_test.float()))"
   ]
  },
  {
   "cell_type": "code",
   "execution_count": 25,
   "id": "f67a6d9a-5a40-462b-812f-a85c46ac9471",
   "metadata": {},
   "outputs": [
    {
     "name": "stdout",
     "output_type": "stream",
     "text": [
      "0\n",
      "1rogress: 100% - Cost: 1270.0212\u001b[1K\n",
      "2rogress: 100% - Cost: 1814.7263\u001b[1K\n",
      "3rogress: 100% - Cost: 2392.6663\u001b[1K\n",
      "Progress: 100% - Cost: 3005.5903\u001b[1K\r"
     ]
    }
   ],
   "source": [
    "N = 18 #number of systems\n",
    "p = 40 #observations per system\n",
    "\n",
    "LVems = []\n",
    "\n",
    "for i in range(4):\n",
    "    print(i)\n",
    "    L_size = i+5\n",
    "    L =torch.normal(0,torch.ones(N,L_size)).clone().detach().requires_grad_(True)\n",
    "    XL_train = torch.cat((X,torch.repeat_interleave(L,p,dim=0)),axis=1)\n",
    "    LVemulator = LVM.LVE(XL_train,y,0.0001,p,N,6,training_iter=500000,lr=1e-4);\n",
    "    LVems.append(LVemulator)"
   ]
  },
  {
   "cell_type": "code",
   "execution_count": 30,
   "id": "2405c592-9ca4-4bbb-b198-f0f9db83c576",
   "metadata": {},
   "outputs": [
    {
     "data": {
      "text/plain": [
       "torch.Size([18, 5])"
      ]
     },
     "execution_count": 30,
     "metadata": {},
     "output_type": "execute_result"
    }
   ],
   "source": [
    "LVems[0].L.shape"
   ]
  },
  {
   "cell_type": "code",
   "execution_count": 33,
   "id": "eb74dd34-8b9e-456c-b6a6-c7c15118acd8",
   "metadata": {},
   "outputs": [
    {
     "data": {
      "text/plain": [
       "36.0"
      ]
     },
     "execution_count": 33,
     "metadata": {},
     "output_type": "execute_result"
    }
   ],
   "source": [
    "648/18"
   ]
  },
  {
   "cell_type": "code",
   "execution_count": 31,
   "id": "7f4c4924-1921-4131-8725-bb01aa18e03a",
   "metadata": {},
   "outputs": [
    {
     "data": {
      "text/plain": [
       "torch.Size([648, 6])"
      ]
     },
     "execution_count": 31,
     "metadata": {},
     "output_type": "execute_result"
    }
   ],
   "source": [
    "X_test.shape"
   ]
  },
  {
   "cell_type": "code",
   "execution_count": 34,
   "id": "7a70b784-7346-4a56-b15f-5e2db84b6150",
   "metadata": {},
   "outputs": [
    {
     "data": {
      "text/plain": [
       "torch.Size([648, 11])"
      ]
     },
     "execution_count": 34,
     "metadata": {},
     "output_type": "execute_result"
    }
   ],
   "source": [
    "XL_test.shape"
   ]
  },
  {
   "cell_type": "code",
   "execution_count": 35,
   "id": "09e21a0b-6d20-4dfe-9820-1902ea4c3333",
   "metadata": {},
   "outputs": [
    {
     "data": {
      "text/plain": [
       "torch.Size([648, 2])"
      ]
     },
     "execution_count": 35,
     "metadata": {},
     "output_type": "execute_result"
    }
   ],
   "source": [
    "y_test.shape"
   ]
  },
  {
   "cell_type": "code",
   "execution_count": 36,
   "id": "4dd22127-179a-4a2f-9e99-1b8e1835346f",
   "metadata": {},
   "outputs": [
    {
     "name": "stdout",
     "output_type": "stream",
     "text": [
      "tensor([0.9991, 0.9956], grad_fn=<RsubBackward1>)\n",
      "tensor([0.9993, 0.9947], grad_fn=<RsubBackward1>)\n",
      "tensor([0.9994, 0.9962], grad_fn=<RsubBackward1>)\n",
      "tensor([0.9994, 0.9968], grad_fn=<RsubBackward1>)\n"
     ]
    }
   ],
   "source": [
    "for i in range(len(LVems)):\n",
    "    XL_test = torch.cat((X_test,torch.repeat_interleave(LVems[i].L,36,dim=0)),axis=1)\n",
    "    print(LVems[i].R2(XL_test.float(),y_test.float()))"
   ]
  },
  {
   "cell_type": "code",
   "execution_count": null,
   "id": "5406763e-76d3-4e42-9a7b-c15b46d8c519",
   "metadata": {},
   "outputs": [],
   "source": [
    "XL_test = torch.cat((X_test,torch.repeat_interleave(LVemulator.L,36,dim=0)),axis=1)"
   ]
  },
  {
   "cell_type": "code",
   "execution_count": null,
   "id": "0ff727ca-dd71-4acc-b546-16d12f668620",
   "metadata": {},
   "outputs": [],
   "source": [
    "LVemulator.R2(XL_test.float(),y_test.float())"
   ]
  },
  {
   "cell_type": "code",
   "execution_count": null,
   "id": "251792df-a3b2-40ef-a4b4-e452d58707ee",
   "metadata": {},
   "outputs": [],
   "source": [
    "plt.plot(torch.cat(LVemulator.lengths)[::1000],'o')"
   ]
  },
  {
   "cell_type": "code",
   "execution_count": null,
   "id": "131efe75-d7e1-485c-a5a6-5f1667d37026",
   "metadata": {},
   "outputs": [],
   "source": [
    "plt.plot(torch.cat(LVemulator.Ls,axis=1).T[::1000],'o')"
   ]
  },
  {
   "cell_type": "code",
   "execution_count": null,
   "id": "d42def50-ee08-4421-b31b-072bd12058af",
   "metadata": {},
   "outputs": [],
   "source": [
    "plt.plot(torch.cat(LVemulator.scales)[::1000],'o')"
   ]
  },
  {
   "cell_type": "code",
   "execution_count": null,
   "id": "22fb044f-a8b0-4155-a159-39699d9358b7",
   "metadata": {},
   "outputs": [],
   "source": [
    "cost(Y,X,L,scaling,lengthscale,sigma2,p)"
   ]
  },
  {
   "cell_type": "code",
   "execution_count": null,
   "id": "5fcc0bf7-9b50-4f2d-a6bb-1f928f7ace6e",
   "metadata": {},
   "outputs": [],
   "source": [
    "#plt.imshow(rbf(X,L,X,L,scaling,lengthscale,p,p).detach().numpy())"
   ]
  },
  {
   "cell_type": "code",
   "execution_count": null,
   "id": "eaefeb2b-5a62-4c73-8afe-44eeeab38986",
   "metadata": {},
   "outputs": [],
   "source": [
    "plt.imshow(rbf2(X,L,X,L,scaling,lengthscale,p,p).detach().numpy())"
   ]
  },
  {
   "cell_type": "code",
   "execution_count": null,
   "id": "31e6a353-865d-465f-afab-87b6a75ba5b1",
   "metadata": {},
   "outputs": [],
   "source": [
    "for i in range(N):\n",
    "    plt.plot(X[i*p:(i+1)*p,0],Y[i*p:(i+1)*p],'o')"
   ]
  },
  {
   "cell_type": "code",
   "execution_count": null,
   "id": "471060c4-7b3e-40bb-9c99-b8e924242b15",
   "metadata": {
    "scrolled": true
   },
   "outputs": [],
   "source": [
    "cost(Y,X,L,scaling,lengthscale,sigma2,p)"
   ]
  },
  {
   "cell_type": "code",
   "execution_count": null,
   "id": "9e03c375-80a3-4620-b137-52be08faec15",
   "metadata": {},
   "outputs": [],
   "source": [
    "gd = torch.optim.SGD([L,scaling,lengthscale,mean], lr=1e-5)\n",
    "history_gd = []\n",
    "\n",
    "for i in range(500000):\n",
    "    gd.zero_grad()\n",
    "    objective = cost(Y,X,L,scaling,lengthscale,sigma2,p,mean)\n",
    "    objective.backward()\n",
    "    gd.step()\n",
    "    history_gd.append(objective.item())\n",
    "    if i%1000 ==0:\n",
    "        print(objective)\n",
    "    if (i>1) and (np.abs(history_gd[-1] - history_gd[-2]) < .000001):\n",
    "        print(\"Convergence achieved in \", i+1, \" iterations\")\n",
    "        print(\"-LogL Value: \", objective.item())\n",
    "        break\n"
   ]
  },
  {
   "cell_type": "code",
   "execution_count": null,
   "id": "45b4a22a-f021-4c11-9402-ed173d993ca4",
   "metadata": {},
   "outputs": [],
   "source": [
    "mean"
   ]
  },
  {
   "cell_type": "code",
   "execution_count": null,
   "id": "5fe6d91f-e3fb-48d5-8697-59899013cc53",
   "metadata": {},
   "outputs": [],
   "source": [
    "L"
   ]
  },
  {
   "cell_type": "code",
   "execution_count": null,
   "id": "331748cb-f04b-439e-ac1c-9e25cb560a62",
   "metadata": {},
   "outputs": [],
   "source": [
    "lengthscale\n"
   ]
  },
  {
   "cell_type": "code",
   "execution_count": null,
   "id": "86f0b25f-f59f-424e-839a-db316d13a718",
   "metadata": {},
   "outputs": [],
   "source": [
    "cost(Y,X,L_true,scaling,lengthscale,sigma2,p,mean)"
   ]
  },
  {
   "cell_type": "code",
   "execution_count": null,
   "id": "69f488ef-aa51-498d-a306-7e78f137de75",
   "metadata": {},
   "outputs": [],
   "source": [
    "cost(Y,X,L,scaling,lengthscale,sigma2,p,mean)"
   ]
  },
  {
   "cell_type": "code",
   "execution_count": null,
   "id": "87a58e62-d4cb-4008-8393-f670dfba6b7e",
   "metadata": {},
   "outputs": [],
   "source": [
    "mean"
   ]
  },
  {
   "cell_type": "markdown",
   "id": "268f53cf-f0ea-4107-9e06-7afe9b82f1e7",
   "metadata": {},
   "source": [
    "Posterior mean: $$m(X^*,X)+K((X^*,L^*),(X,L))^\\top(K((X,L),(X,L))+\\sigma^2I)^{-1}(Y-m(X,X))$$"
   ]
  },
  {
   "cell_type": "code",
   "execution_count": null,
   "id": "f685137a-1d54-4318-8857-95ffebe356e6",
   "metadata": {},
   "outputs": [],
   "source": [
    "ref=0\n",
    "l_ref = 0\n",
    "dif = 0.01"
   ]
  },
  {
   "cell_type": "code",
   "execution_count": null,
   "id": "5e7adf72-4840-4750-8aaa-eb9582e63f0c",
   "metadata": {},
   "outputs": [],
   "source": [
    "K=rbf2(X,L,X,L,scaling,lengthscale,p,p)+sigma2*torch.eye(X.shape[0])"
   ]
  },
  {
   "cell_type": "code",
   "execution_count": null,
   "id": "71eef972-0e1a-49d5-8ec5-69a367bae204",
   "metadata": {},
   "outputs": [],
   "source": [
    "L[l_ref]"
   ]
  },
  {
   "cell_type": "code",
   "execution_count": null,
   "id": "128696b6-99ee-435a-b551-83f3711c07a0",
   "metadata": {},
   "outputs": [],
   "source": [
    "X[0:10]"
   ]
  },
  {
   "cell_type": "code",
   "execution_count": null,
   "id": "31616f4e-b2f3-48de-957e-d4b78309a652",
   "metadata": {},
   "outputs": [],
   "source": [
    "test_input[i][:,3:6].shape"
   ]
  },
  {
   "cell_type": "code",
   "execution_count": null,
   "id": "53fe1a97-9200-4c11-b944-1dff54642e8e",
   "metadata": {},
   "outputs": [],
   "source": [
    "real"
   ]
  },
  {
   "cell_type": "code",
   "execution_count": null,
   "id": "9f140194-78ca-43f0-a9a2-1b50fe0af3be",
   "metadata": {},
   "outputs": [],
   "source": [
    "((pred-real[:,None])**2).mean()"
   ]
  },
  {
   "cell_type": "code",
   "execution_count": null,
   "id": "6edd0e12-b1fb-4543-af3b-a750ceff828e",
   "metadata": {},
   "outputs": [],
   "source": [
    "R2=0\n",
    "for i in range(L.shape[0]):\n",
    "    K_s = rbf2(X,L,test_input[i][:,:],L[[i]],scaling,lengthscale,p,test_input[i].shape[0])\n",
    "    pred=mean*Y_std +torch.matmul(K_s.T,torch.linalg.solve(K,Y-mean))*Y_std + Y_mean\n",
    "    real=test_output[i][:,0]\n",
    "\n",
    "    R2 += 1-((pred-real[:,None])**2).mean()/(real.std()**2)\n",
    "    print(1-((pred-real[:,None])**2).mean()/(real.std()**2))\n",
    "R2=R2/L.shape[0]\n",
    "\n",
    "print(R2)"
   ]
  },
  {
   "cell_type": "code",
   "execution_count": null,
   "id": "bd659098-ac61-4847-8dda-a0e9a7ac2bcc",
   "metadata": {},
   "outputs": [],
   "source": [
    "def posterior_theta(X_test,L_test,p_test,X_train,L_train,p_train,scaling,lengthscale,sigma2,mean):\n",
    "    K = rbf2(X_train,L_train,X_train,L_train,scaling,lengthscale,p_train,p_train)+sigma2*torch.eye(X_train.shape[0])\n",
    "    K_s = rbf2(X_train,L_train,X_test,L_test,scaling,lengthscale,p_train,p_test)\n",
    "    K_ss = rbf2(X_test,L_test,X_test,L_test,scaling,lengthscale,p_test,p_test)\n",
    "\n",
    "    mean_p = mean+torch.matmul(K_s.T,torch.linalg.solve(K,Y-mean))\n",
    "    K_p = K_ss-torch.matmul(K_s.T,torch.linalg.solve(K,K_s))+sigma2\n",
    "    return mean_p, K_p"
   ]
  },
  {
   "cell_type": "code",
   "execution_count": null,
   "id": "1c7be443-d254-4740-a21f-0d1f80969319",
   "metadata": {},
   "outputs": [],
   "source": [
    "test_output[i].std(axis=0)"
   ]
  },
  {
   "cell_type": "code",
   "execution_count": null,
   "id": "78d7d553-1e50-4da2-9e1f-44a5e6b50f3a",
   "metadata": {},
   "outputs": [],
   "source": [
    "R2=0\n",
    "for i in range(L.shape[0]):\n",
    "    m_p,K_p = posterior_theta(test_input[i][:,3:6],L[[i]],test_input[i].shape[0],X,L,p,scaling,lengthscale,sigma2,mean)\n",
    "    R2+=1-((m_p*Y_std+Y_mean-(test_output[i]))**2).mean(axis=0)/test_output[i].std(axis=0)**2\n",
    "    print(1-((m_p*Y_std+Y_mean-(test_output[i]))**2).mean(axis=0)/test_output[i].std(axis=0)**2)\n",
    "R2=R2/L.shape[0]\n",
    "\n",
    "print(R2)"
   ]
  },
  {
   "cell_type": "code",
   "execution_count": null,
   "id": "f0bfd681-48c8-48d0-9fed-a257dfef7c96",
   "metadata": {},
   "outputs": [],
   "source": [
    "test_output[i]"
   ]
  },
  {
   "cell_type": "code",
   "execution_count": null,
   "id": "f323cf61-9022-419d-8810-af9278b0049c",
   "metadata": {},
   "outputs": [],
   "source": [
    "Y_std"
   ]
  },
  {
   "cell_type": "code",
   "execution_count": null,
   "id": "5ce20a6e-a6ce-4ffe-a5ad-7b0d38fa77e2",
   "metadata": {},
   "outputs": [],
   "source": [
    "test_output[i].std(axis=0)"
   ]
  },
  {
   "cell_type": "code",
   "execution_count": null,
   "id": "9badb48f-a985-446b-a1fd-25b614b1bda0",
   "metadata": {},
   "outputs": [],
   "source": [
    "1-((m_p*Y_std+Y_mean-(test_output[i]))**2).mean(axis=0)/56"
   ]
  },
  {
   "cell_type": "code",
   "execution_count": null,
   "id": "040d64c1-d2d7-4593-a77c-f06aece04ea2",
   "metadata": {},
   "outputs": [],
   "source": [
    "Y[0:10]"
   ]
  },
  {
   "cell_type": "code",
   "execution_count": null,
   "id": "be4ca08a-0d37-423d-b321-bfda462e8cf2",
   "metadata": {},
   "outputs": [],
   "source": [
    "plt.imshow(K_p.detach().numpy())"
   ]
  },
  {
   "cell_type": "code",
   "execution_count": null,
   "id": "dda9aa59-cd9d-4140-8b83-fbcf4220b273",
   "metadata": {},
   "outputs": [],
   "source": [
    "p_new = 180\n",
    "X_new=torch.torch.FloatTensor(p_new, 3).uniform_(-1, 1)\n",
    "L_new =torch.normal(0,torch.ones(1,L_true.shape[1]))\n",
    "L_new=L_true[[1]]\n",
    "Y_new=true_func(X_new,L_new,alpha,beta,zeta)\n",
    "\n",
    "Y_new_mean = Y_new.mean()\n",
    "Y_new_std = Y_new.std()\n",
    "\n",
    "Y_new = (Y_new-Y_mean)/Y_std"
   ]
  },
  {
   "cell_type": "code",
   "execution_count": null,
   "id": "335c87b9-fb75-4328-bd8a-a76a92206f6b",
   "metadata": {},
   "outputs": [],
   "source": [
    "plt.plot(X_new[:,0].detach().numpy(),Y_new.detach().numpy(),'o')"
   ]
  },
  {
   "cell_type": "code",
   "execution_count": null,
   "id": "bdd7927a-c4a3-4aad-b2de-3c867eb3cd17",
   "metadata": {},
   "outputs": [],
   "source": [
    "def cf_cost(Y_new,X_new,L_new,X_train,L_train,scaling,lengthscale,sigma2,p_train,p_new,mean):\n",
    "    \n",
    "    \n",
    "    mean_p,K_p = posterior_theta(X_new,L_new,p_new,X_train,L_train,p_train,scaling,lengthscale,sigma2,mean)\n",
    "    \n",
    "    #K_inv=torch.kron(torch.linalg.inv(K_x),torch.linalg.inv(K_L))\n",
    "    #K_inv=torch.kron(torch.linalg.inv(K_L),torch.linalg.inv(K_x))\n",
    "    #print(torch.linalg.det(K))\n",
    "    c = multivariate_ll(Y_new,mean_p,K_p) + multivariate_ll(L_new,0,torch.eye(L_new.shape[0])) # multivariate_ll(torch.repeat_interleave(L,x.shape[0])[:,None],0,torch.eye(inp.shape[0]))\n",
    "    #print(multivariate_ll(Y_new,mean_p,K_p))\n",
    "    #print(multivariate_ll(L_new,0,torch.eye(L_new.shape[0])))\n",
    "    return -c"
   ]
  },
  {
   "cell_type": "code",
   "execution_count": null,
   "id": "92f30625-fd97-4f2b-b359-45d8c600c086",
   "metadata": {},
   "outputs": [],
   "source": [
    "cf_cost(Y_new,X_new,L_new,X,L,scaling,lengthscale,sigma2,p,p_new,mean)"
   ]
  },
  {
   "cell_type": "code",
   "execution_count": null,
   "id": "072c96f6-845a-48dc-a6e7-1763e839c592",
   "metadata": {},
   "outputs": [],
   "source": [
    "mean_p,K_p = posterior_theta(X_new,L_cf,p_new,X,L,p,scaling,lengthscale,sigma2,mean)"
   ]
  },
  {
   "cell_type": "code",
   "execution_count": null,
   "id": "91c8b6df-e0cb-48be-8af6-0c181b38cfda",
   "metadata": {},
   "outputs": [],
   "source": [
    "plt.imshow(K_p.detach().numpy())"
   ]
  },
  {
   "cell_type": "code",
   "execution_count": null,
   "id": "a204212f-fc35-4215-8b6d-5478e33b6a61",
   "metadata": {},
   "outputs": [],
   "source": [
    "mean_p"
   ]
  },
  {
   "cell_type": "code",
   "execution_count": null,
   "id": "57f5bed7-2a08-43c1-88b4-5ab9c35bd2de",
   "metadata": {},
   "outputs": [],
   "source": [
    "Y_new"
   ]
  },
  {
   "cell_type": "code",
   "execution_count": null,
   "id": "79f839cb-4b6c-47ca-84de-54f9ab8215b2",
   "metadata": {},
   "outputs": [],
   "source": [
    "L_cf =torch.normal(0,torch.ones(1,L_true.shape[1])).clone().detach().requires_grad_(True)\n",
    "#L_cf = (L[[1]]).clone().detach().requires_grad_(True)"
   ]
  },
  {
   "cell_type": "code",
   "execution_count": null,
   "id": "5e49230b-339c-41b1-b11c-76e37bd4b229",
   "metadata": {},
   "outputs": [],
   "source": [
    "cf_cost(Y_new,X_new,L_cf,X,L,scaling,lengthscale,sigma2,p,p_new,mean)"
   ]
  },
  {
   "cell_type": "code",
   "execution_count": null,
   "id": "46e8457b-ddb1-41ae-a3cd-ac2085b3220d",
   "metadata": {},
   "outputs": [],
   "source": [
    "\n",
    "cf = torch.optim.SGD([L_cf], lr=1e-4)\n",
    "history_cf = []\n",
    "\n",
    "for i in range(100000):\n",
    "    cf.zero_grad()\n",
    "    objective = cf_cost(Y_new,X_new,L_cf,X,L,scaling,lengthscale,sigma2,p,p_new,mean)\n",
    "    objective.backward()\n",
    "    cf.step()\n",
    "    history_cf.append(objective.item())\n",
    "    if i%1000 ==0:\n",
    "        m_new, K_new = posterior_theta(X_new,L_cf,p_new,X,L,p,scaling,lengthscale,sigma2,mean)\n",
    "        print(1-(((m_new-Y_new)**2).mean())/Y_new.std())\n",
    "    if (i>1) and (np.abs(history_cf[-1] - history_cf[-2]) < .00000000001):\n",
    "        print(\"Convergence achieved in \", i+1, \" iterations\")\n",
    "        print(\"-LogL Value: \", objective.item())\n",
    "        break\n"
   ]
  },
  {
   "cell_type": "code",
   "execution_count": null,
   "id": "f63fb05d-0d56-40b6-a6d9-0ee2a1198636",
   "metadata": {},
   "outputs": [],
   "source": [
    "L_cf"
   ]
  },
  {
   "cell_type": "code",
   "execution_count": null,
   "id": "96e49cd6-c5ca-42aa-ac75-8c6fe99ab35c",
   "metadata": {},
   "outputs": [],
   "source": [
    "L[[1]]"
   ]
  },
  {
   "cell_type": "code",
   "execution_count": null,
   "id": "e4403cfa-d220-4635-9dd6-5944728314b7",
   "metadata": {},
   "outputs": [],
   "source": [
    "m_new, K_new = posterior_theta(X_new,L_cf,p_new,X,L,p,scaling,lengthscale,sigma2,mean)"
   ]
  },
  {
   "cell_type": "code",
   "execution_count": null,
   "id": "3ec908a8-1203-43c5-9143-d5e64f469c86",
   "metadata": {},
   "outputs": [],
   "source": [
    "K_new.detach().numpy()"
   ]
  },
  {
   "cell_type": "code",
   "execution_count": null,
   "id": "7f4fd206-01a2-4097-9fc1-fc299774578e",
   "metadata": {},
   "outputs": [],
   "source": [
    "multivariate_ll(Y_new,m_new, K_new) + multivariate_ll(L_cf,0,torch.eye(L_new.shape[0]))"
   ]
  },
  {
   "cell_type": "code",
   "execution_count": null,
   "id": "8f11d985-b21a-436b-8e91-fdf55357b4d7",
   "metadata": {},
   "outputs": [],
   "source": [
    "multivariate_ll(Y_new,m_new, K_new) "
   ]
  },
  {
   "cell_type": "code",
   "execution_count": null,
   "id": "e792805f-4345-41bb-948e-480cc4336f9c",
   "metadata": {},
   "outputs": [],
   "source": [
    "multivariate_ll(L_cf,0,torch.eye(L_new.shape[0]))"
   ]
  },
  {
   "cell_type": "code",
   "execution_count": null,
   "id": "2e7341e1-e4c8-452a-a55e-5db9562f519c",
   "metadata": {},
   "outputs": [],
   "source": [
    "1-(((m_new-Y_new)**2).mean())/Y_new.std()"
   ]
  },
  {
   "cell_type": "code",
   "execution_count": null,
   "id": "c7272047-9b14-4c5b-8411-0a3cadcf1cad",
   "metadata": {},
   "outputs": [],
   "source": [
    "m_new"
   ]
  },
  {
   "cell_type": "code",
   "execution_count": null,
   "id": "e281a7e2-d74e-4b9a-a3a6-81565d4da552",
   "metadata": {},
   "outputs": [],
   "source": [
    "Y_new"
   ]
  },
  {
   "cell_type": "code",
   "execution_count": null,
   "id": "d0f50893-300c-4bd4-be4e-ebbe2839e663",
   "metadata": {},
   "outputs": [],
   "source": [
    "mean"
   ]
  },
  {
   "cell_type": "code",
   "execution_count": null,
   "id": "c2976d2b-64c3-4cac-9e43-035c58985678",
   "metadata": {},
   "outputs": [],
   "source": []
  },
  {
   "cell_type": "code",
   "execution_count": null,
   "id": "e55cf4a2-1a28-4b79-958e-84cee0c589b1",
   "metadata": {},
   "outputs": [],
   "source": []
  },
  {
   "cell_type": "code",
   "execution_count": null,
   "id": "92f6df8d-fb9f-4dd4-b13b-4c17db810984",
   "metadata": {},
   "outputs": [],
   "source": []
  }
 ],
 "metadata": {
  "kernelspec": {
   "display_name": "Python 3 (ipykernel)",
   "language": "python",
   "name": "python3"
  },
  "language_info": {
   "codemirror_mode": {
    "name": "ipython",
    "version": 3
   },
   "file_extension": ".py",
   "mimetype": "text/x-python",
   "name": "python",
   "nbconvert_exporter": "python",
   "pygments_lexer": "ipython3",
   "version": "3.11.5"
  }
 },
 "nbformat": 4,
 "nbformat_minor": 5
}
