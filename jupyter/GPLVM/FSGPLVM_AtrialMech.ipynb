{
 "cells": [
  {
   "cell_type": "code",
   "execution_count": 77,
   "id": "c2fd0118-1953-4901-9e7b-403d2b56e2c3",
   "metadata": {},
   "outputs": [
    {
     "name": "stdout",
     "output_type": "stream",
     "text": [
      "The autoreload extension is already loaded. To reload it, use:\n",
      "  %reload_ext autoreload\n"
     ]
    }
   ],
   "source": [
    "import math\n",
    "import torch\n",
    "import gpytorch\n",
    "import pandas as pd \n",
    "import numpy as np\n",
    "from matplotlib import pyplot as plt\n",
    "\n",
    "from GPyEm import GPE_ensemble as GPE\n",
    "from FSGPLVM import FSGPLVM as LVM\n",
    "\n",
    "import os\n",
    "from sklearn.linear_model import LinearRegression\n",
    "from sklearn.metrics import mean_squared_error, r2_score\n",
    "from sklearn.model_selection import train_test_split\n",
    "#from GPErks.gp.data.dataset import Dataset\n",
    "from gpytorch.likelihoods import GaussianLikelihood\n",
    "from gpytorch.means import LinearMean\n",
    "from gpytorch.kernels import RBFKernel, ScaleKernel\n",
    "\n",
    "\n",
    "\n",
    "%matplotlib inline\n",
    "%load_ext autoreload\n",
    "%autoreload 2\n",
    "\n",
    "# set logger and enforce reproducibility\n",
    "#from GPErks.log.logger import get_logger\n",
    "#from GPErks.utils.random import set_seed\n",
    "#log = get_logger()\n",
    "seed = 7\n",
    "#set_seed(seed)\n",
    "from time import process_time \n",
    "import scipy\n",
    "from scipy.optimize import minimize"
   ]
  },
  {
   "cell_type": "code",
   "execution_count": 78,
   "id": "c4288df3-5ba1-4845-9c47-402156e8971a",
   "metadata": {},
   "outputs": [],
   "source": [
    "import sklearn.metrics as sk"
   ]
  },
  {
   "cell_type": "code",
   "execution_count": 79,
   "id": "5eaab5bb-07f4-4dc8-ac7c-afd356ce8326",
   "metadata": {},
   "outputs": [],
   "source": [
    "meshes=['01','02','03','04','05','06']\n",
    "\n",
    "Ys=[]\n",
    "Xs=[]\n",
    "\n",
    "for i in range(len(meshes)):\n",
    "    val=meshes[i]\n",
    "    \n",
    "    inputData = pd.read_csv(\"/Users/pmzcwl/Library/CloudStorage/OneDrive-TheUniversityofNottingham/shared_simulations/LA_data/case\"+val+\"/X.txt\",index_col=None,delim_whitespace=True,header=None).values\n",
    "    outputData = pd.read_csv(\"/Users/pmzcwl/Library/CloudStorage/OneDrive-TheUniversityofNottingham/shared_simulations/LA_data/case\"+val+\"/Y.txt\",index_col=None,delim_whitespace=True,header=None).values\n",
    "\n",
    "    \n",
    "\n",
    "    Xs.append(torch.tensor(inputData[0:200]))\n",
    "    Ys.append(torch.tensor(outputData[0:200]))\n",
    "    "
   ]
  },
  {
   "cell_type": "code",
   "execution_count": null,
   "id": "61d3e778-0224-4a4f-adb0-639c438a8065",
   "metadata": {},
   "outputs": [],
   "source": []
  },
  {
   "cell_type": "code",
   "execution_count": 80,
   "id": "cf2b672a-b2a7-4f05-a3d1-0ed390e866d5",
   "metadata": {},
   "outputs": [],
   "source": [
    "train_input=[]\n",
    "test_input = []\n",
    "train_output=[]\n",
    "test_output = []\n",
    "emulators=[]\n",
    "\n",
    "for i in range(len(meshes)):\n",
    "\n",
    "    X=Xs[i]\n",
    "    y=Ys[i]\n",
    "    X_train, X_test, y_train, y_test = train_test_split(\n",
    "        X,\n",
    "        y,\n",
    "        test_size=0.2,\n",
    "        random_state=seed+i\n",
    "    )\n",
    "    train_input.append(X_train)\n",
    "    test_input.append(X_test)\n",
    "    train_output.append(y_train)\n",
    "    test_output.append(y_test)"
   ]
  },
  {
   "cell_type": "code",
   "execution_count": null,
   "id": "99f03703-83f3-48ee-87b7-115b8656f9ed",
   "metadata": {},
   "outputs": [],
   "source": []
  },
  {
   "cell_type": "markdown",
   "id": "4d022407-8ab7-4f98-93a5-de2e66818084",
   "metadata": {},
   "source": [
    "### Fully supervised GPLVM (we should come up with a better acronym/name)\n",
    "\n",
    "Observations:\n",
    "$$Y = [y_1,...,y_N], \\ y_n \\in R^{p}$$\n",
    "Model parameters\n",
    "$$X = [x_1,...,x_N], \\ x_n \\in R^{p\\times q}$$\n",
    "Latent parameters/features\n",
    "$$L = [l_1,...,l_N], \\ l_n \\in R^{d }$$\n",
    "With $d<q$ and $L\\sim N(0,I)$.\n",
    "\n",
    "We want to find a function $f_\\theta$ such that:\n",
    "$$ Y = f_\\theta(X,L)+\\epsilon $$\n",
    "Let's make $f$ a GP, as we like to, with mean $m_\\theta(X,L)$ and covariance $K_\\theta((X,L),(X',L'))$\n",
    "We would like to learn $L$ and $\\theta$ (the hyper-parameters). \n",
    "\n",
    "As a cost function we use the likelihood\n",
    "$$p(Y,L|X) = p(Y|L,X)p(L) $$\n",
    "and as $f$ is a GP,\n",
    "$$p(Y|L,X) \\sim N(m_\\theta(X,L), K_\\theta((X,L),(X,L)))$$\n",
    "\n",
    "Taking the log we have\n",
    "$$\\log p(Y,L|X) = \\log p(Y|L,X)+\\log p(L) $$\n",
    "$$ = -\\frac{NP}{2}\\log(2\\pi)-\\frac{1}{2}\\log|K_\\theta|-\\frac{1}{2}(Y-m_\\theta(X,L))^\\top\\ K_\\theta^{-1}(Y-m_\\theta(X,L))-\\frac{N}{2}\\log(2\\pi)-\\frac{1}{2}\\log|I|-\\frac{1}{2}(L)^\\top I^{-1}(L)) $$\n"
   ]
  },
  {
   "cell_type": "markdown",
   "id": "7db27991-412e-4b67-9a76-0db0382473b9",
   "metadata": {},
   "source": [
    "to calculate $\\log |K|$ we use the fact that $\\log |K| = 2\\Sigma (\\log\\mathrm{diag}(L)_i)$, where $L$ is the cholesky decomposition of $K$."
   ]
  },
  {
   "cell_type": "code",
   "execution_count": 119,
   "id": "da94728c-7c86-4299-9974-f1e06dd32908",
   "metadata": {},
   "outputs": [],
   "source": [
    "def linear_mean(beta,X):\n",
    "    b_0 = beta[0]\n",
    "    b = beta[1:end]\n",
    "    mean = b_0 + b*X"
   ]
  },
  {
   "cell_type": "code",
   "execution_count": 200,
   "id": "b94a1925-a4bf-442f-84b3-7d91b3219f2b",
   "metadata": {},
   "outputs": [],
   "source": [
    "N = 6 #number of systems\n",
    "p = 60 #observations per system\n",
    "L_size = 9"
   ]
  },
  {
   "cell_type": "code",
   "execution_count": null,
   "id": "ab35d13c-8ff0-47ea-bff2-ba16d06496d2",
   "metadata": {},
   "outputs": [],
   "source": []
  },
  {
   "cell_type": "code",
   "execution_count": 201,
   "id": "70954c7b-b792-4a56-8bb0-f44dcd9a0157",
   "metadata": {},
   "outputs": [],
   "source": [
    "c=np.random.choice(range(144),p,replace=False).tolist()\n",
    "output_all = train_output[0][c,:]\n",
    "input_all = train_input[0][c,:]\n",
    "for i in range(len(train_output)-1):\n",
    "    output_all=torch.cat((output_all,train_output[i+1][c,:]),axis=0)\n",
    "    input_all=torch.cat((input_all,train_input[i+1][c,:]),axis=0)"
   ]
  },
  {
   "cell_type": "code",
   "execution_count": 202,
   "id": "eb413aec-4ba8-428c-8e87-c4fb4827122a",
   "metadata": {},
   "outputs": [
    {
     "data": {
      "text/plain": [
       "torch.Size([360, 7])"
      ]
     },
     "execution_count": 202,
     "metadata": {},
     "output_type": "execute_result"
    }
   ],
   "source": [
    "output_all.shape"
   ]
  },
  {
   "cell_type": "code",
   "execution_count": 203,
   "id": "632f2048-be0a-4640-8391-f669dd401fcf",
   "metadata": {},
   "outputs": [
    {
     "data": {
      "text/plain": [
       "torch.Size([40, 7])"
      ]
     },
     "execution_count": 203,
     "metadata": {},
     "output_type": "execute_result"
    }
   ],
   "source": [
    "test_output[0].shape"
   ]
  },
  {
   "cell_type": "code",
   "execution_count": 204,
   "id": "47123962-af92-4743-ba9c-66bbc3435e09",
   "metadata": {},
   "outputs": [],
   "source": [
    "y_test=output_test\n",
    "X_test = input_test"
   ]
  },
  {
   "cell_type": "code",
   "execution_count": 205,
   "id": "97ce923e-c701-4fc9-a59d-3fc3cc26c63d",
   "metadata": {},
   "outputs": [],
   "source": [
    "y=output_all\n",
    "X = input_all"
   ]
  },
  {
   "cell_type": "code",
   "execution_count": 206,
   "id": "3900d516-e37b-4905-9ebb-49b9bed89e9d",
   "metadata": {},
   "outputs": [
    {
     "data": {
      "text/plain": [
       "torch.Size([360, 7])"
      ]
     },
     "execution_count": 206,
     "metadata": {},
     "output_type": "execute_result"
    }
   ],
   "source": [
    "y.shape"
   ]
  },
  {
   "cell_type": "code",
   "execution_count": 207,
   "id": "1c17e93d-a268-47b5-ab33-5ad89a5d3048",
   "metadata": {},
   "outputs": [
    {
     "data": {
      "text/plain": [
       "torch.Size([240, 7])"
      ]
     },
     "execution_count": 207,
     "metadata": {},
     "output_type": "execute_result"
    }
   ],
   "source": [
    "y_test.shape"
   ]
  },
  {
   "cell_type": "code",
   "execution_count": 208,
   "id": "52babe36-0822-4ed8-a2cf-f7f8ea2e4077",
   "metadata": {},
   "outputs": [
    {
     "data": {
      "text/plain": [
       "torch.Size([360, 9])"
      ]
     },
     "execution_count": 208,
     "metadata": {},
     "output_type": "execute_result"
    }
   ],
   "source": [
    "X.shape"
   ]
  },
  {
   "cell_type": "code",
   "execution_count": 209,
   "id": "2f674a06-5dd7-4684-9df8-c87ba4097f90",
   "metadata": {},
   "outputs": [],
   "source": [
    "Y=y"
   ]
  },
  {
   "cell_type": "code",
   "execution_count": 210,
   "id": "b3ebefda-fc2a-4e5a-a138-da885024e4ec",
   "metadata": {},
   "outputs": [],
   "source": [
    "X=X"
   ]
  },
  {
   "cell_type": "code",
   "execution_count": 211,
   "id": "8643012d-53fc-4238-a122-8314accb64a7",
   "metadata": {},
   "outputs": [
    {
     "data": {
      "text/plain": [
       "torch.Size([360, 9])"
      ]
     },
     "execution_count": 211,
     "metadata": {},
     "output_type": "execute_result"
    }
   ],
   "source": [
    "X.shape"
   ]
  },
  {
   "cell_type": "code",
   "execution_count": 212,
   "id": "115e21d6-b33b-4fd6-ab25-4f661b56037b",
   "metadata": {},
   "outputs": [
    {
     "data": {
      "text/plain": [
       "torch.Size([360, 7])"
      ]
     },
     "execution_count": 212,
     "metadata": {},
     "output_type": "execute_result"
    }
   ],
   "source": [
    "Y.shape"
   ]
  },
  {
   "cell_type": "code",
   "execution_count": 213,
   "id": "3226c206-d056-49e7-88dc-a8a77e384bb6",
   "metadata": {},
   "outputs": [],
   "source": [
    "Y_mean = Y.mean()\n",
    "Y_std = Y.std()\n",
    "\n",
    "X_mean = X.mean()\n",
    "X_std =X.std()"
   ]
  },
  {
   "cell_type": "code",
   "execution_count": 214,
   "id": "49ce4f0b-e89c-4ef7-8604-0fa8841cc9aa",
   "metadata": {},
   "outputs": [],
   "source": [
    "L = torch.rand(p,L_size).clone().detach().requires_grad_(True)"
   ]
  },
  {
   "cell_type": "code",
   "execution_count": 215,
   "id": "5e5c6148-0f64-4df1-bd50-609a94ee3402",
   "metadata": {},
   "outputs": [],
   "source": [
    "L =torch.normal(0,torch.ones(N,L_size)).clone().detach().requires_grad_(True)\n",
    "#L =L_true.clone().detach().requires_grad_(True)\n",
    "scaling = torch.rand(1).clone().detach().requires_grad_(True)\n",
    "lengthscale = torch.rand(X.shape[1]+L_size).clone().detach().requires_grad_(True)\n",
    "sigma2 = torch.tensor([0.01]).clone().detach().requires_grad_(True)\n",
    "mean = torch.rand(1).clone().detach().requires_grad_(True)"
   ]
  },
  {
   "cell_type": "code",
   "execution_count": 216,
   "id": "908b3cd1-d360-4b60-aaa8-a26e2e5ee940",
   "metadata": {},
   "outputs": [],
   "source": [
    "XL_train = torch.cat((X,torch.repeat_interleave(L,p,dim=0)),axis=1)"
   ]
  },
  {
   "cell_type": "code",
   "execution_count": 217,
   "id": "c63b8525-6950-4f3f-9e22-7b984336544e",
   "metadata": {},
   "outputs": [
    {
     "data": {
      "text/plain": [
       "torch.Size([360, 18])"
      ]
     },
     "execution_count": 217,
     "metadata": {},
     "output_type": "execute_result"
    }
   ],
   "source": [
    "XL_train.shape"
   ]
  },
  {
   "cell_type": "code",
   "execution_count": 220,
   "id": "a37c1001-4948-4100-a131-63dc30e159a4",
   "metadata": {},
   "outputs": [
    {
     "name": "stdout",
     "output_type": "stream",
     "text": [
      "Progress: 12% - Cost: 8992.418\u001b[1KK\r"
     ]
    },
    {
     "ename": "_LinAlgError",
     "evalue": "linalg.cholesky: The factorization could not be completed because the input is not positive-definite (the leading minor of order 303 is not positive-definite).",
     "output_type": "error",
     "traceback": [
      "\u001b[0;31m---------------------------------------------------------------------------\u001b[0m",
      "\u001b[0;31m_LinAlgError\u001b[0m                              Traceback (most recent call last)",
      "Cell \u001b[0;32mIn[220], line 1\u001b[0m\n\u001b[0;32m----> 1\u001b[0m LVemulator \u001b[38;5;241m=\u001b[39m LVM\u001b[38;5;241m.\u001b[39mLVE(XL_train,y,\u001b[38;5;241m0.01\u001b[39m,p,N,\u001b[38;5;241m9\u001b[39m,training_iter\u001b[38;5;241m=\u001b[39m\u001b[38;5;241m100000\u001b[39m,lr\u001b[38;5;241m=\u001b[39m\u001b[38;5;241m1e-5\u001b[39m)\n",
      "File \u001b[0;32m~/Documents/GitHub/Calibration/FSGPLVM/FSGPLVM.py:36\u001b[0m, in \u001b[0;36mLVE.__init__\u001b[0;34m(self, XL, Y, sigma2, p, N, L_dim, mean_func, L_length, training_iter, lr, kernel, kernel_params, scale_init, lengthscale_init)\u001b[0m\n\u001b[1;32m     34\u001b[0m \u001b[38;5;28mself\u001b[39m\u001b[38;5;241m.\u001b[39mLs\u001b[38;5;241m=\u001b[39m[]\n\u001b[1;32m     35\u001b[0m \u001b[38;5;28mself\u001b[39m\u001b[38;5;241m.\u001b[39mmean\u001b[38;5;241m=\u001b[39m\u001b[38;5;241m0\u001b[39m\n\u001b[0;32m---> 36\u001b[0m \u001b[38;5;28mself\u001b[39m\u001b[38;5;241m.\u001b[39moptimise(\u001b[38;5;28mself\u001b[39m\u001b[38;5;241m.\u001b[39miter,\u001b[38;5;28mself\u001b[39m\u001b[38;5;241m.\u001b[39mlr)\n",
      "File \u001b[0;32m~/Documents/GitHub/Calibration/FSGPLVM/FSGPLVM.py:118\u001b[0m, in \u001b[0;36mLVE.optimise\u001b[0;34m(self, iters, lr)\u001b[0m\n\u001b[1;32m    115\u001b[0m \u001b[38;5;28;01mfor\u001b[39;00m i \u001b[38;5;129;01min\u001b[39;00m \u001b[38;5;28mrange\u001b[39m(iters):\n\u001b[1;32m    117\u001b[0m     gd\u001b[38;5;241m.\u001b[39mzero_grad()\n\u001b[0;32m--> 118\u001b[0m     objective \u001b[38;5;241m=\u001b[39m \u001b[38;5;28mself\u001b[39m\u001b[38;5;241m.\u001b[39mcost(\u001b[38;5;28mself\u001b[39m\u001b[38;5;241m.\u001b[39mY,XL,scaling,lengthscale_in,\u001b[38;5;28mself\u001b[39m\u001b[38;5;241m.\u001b[39msigma2,L_dim\u001b[38;5;241m=\u001b[39m\u001b[38;5;28mself\u001b[39m\u001b[38;5;241m.\u001b[39mL_dim)\n\u001b[1;32m    119\u001b[0m     objective\u001b[38;5;241m.\u001b[39mbackward()\n\u001b[1;32m    120\u001b[0m     gd\u001b[38;5;241m.\u001b[39mstep()\n",
      "File \u001b[0;32m~/Documents/GitHub/Calibration/FSGPLVM/FSGPLVM.py:100\u001b[0m, in \u001b[0;36mLVE.cost\u001b[0;34m(self, y, XL, scaling, lengthscale, sigma2, L_dim, mean)\u001b[0m\n\u001b[1;32m     98\u001b[0m \u001b[38;5;28;01mfor\u001b[39;00m i \u001b[38;5;129;01min\u001b[39;00m \u001b[38;5;28mrange\u001b[39m(y\u001b[38;5;241m.\u001b[39mshape[\u001b[38;5;241m1\u001b[39m]):           \n\u001b[1;32m     99\u001b[0m     K\u001b[38;5;241m=\u001b[39m\u001b[38;5;28mself\u001b[39m\u001b[38;5;241m.\u001b[39mrbf(XL,XL,scaling[i],lengthscale[i])\u001b[38;5;241m+\u001b[39msigma2\u001b[38;5;241m*\u001b[39mtorch\u001b[38;5;241m.\u001b[39meye(XL\u001b[38;5;241m.\u001b[39mshape[\u001b[38;5;241m0\u001b[39m])\n\u001b[0;32m--> 100\u001b[0m     c \u001b[38;5;241m+\u001b[39m\u001b[38;5;241m=\u001b[39m \u001b[38;5;28mself\u001b[39m\u001b[38;5;241m.\u001b[39mmultivariate_ll(y[:,[i]],mean,K)\n\u001b[1;32m    101\u001b[0m c\u001b[38;5;241m+\u001b[39m\u001b[38;5;241m=\u001b[39m\u001b[38;5;28mself\u001b[39m\u001b[38;5;241m.\u001b[39mmultivariate_ll(XL[:,L_dim:],\u001b[38;5;241m0\u001b[39m,torch\u001b[38;5;241m.\u001b[39meye(XL\u001b[38;5;241m.\u001b[39mshape[\u001b[38;5;241m0\u001b[39m]))\n\u001b[1;32m    102\u001b[0m \u001b[38;5;28;01mreturn\u001b[39;00m \u001b[38;5;241m-\u001b[39mc\n",
      "File \u001b[0;32m~/Documents/GitHub/Calibration/FSGPLVM/FSGPLVM.py:63\u001b[0m, in \u001b[0;36mLVE.multivariate_ll\u001b[0;34m(self, y, mu, K)\u001b[0m\n\u001b[1;32m     62\u001b[0m \u001b[38;5;28;01mdef\u001b[39;00m \u001b[38;5;21mmultivariate_ll\u001b[39m(\u001b[38;5;28mself\u001b[39m,y,mu,K):\n\u001b[0;32m---> 63\u001b[0m     det \u001b[38;5;241m=\u001b[39m \u001b[38;5;241m2\u001b[39m\u001b[38;5;241m*\u001b[39mtorch\u001b[38;5;241m.\u001b[39msum(torch\u001b[38;5;241m.\u001b[39mlog(torch\u001b[38;5;241m.\u001b[39mdiag(torch\u001b[38;5;241m.\u001b[39mlinalg\u001b[38;5;241m.\u001b[39mcholesky(K))))\n\u001b[1;32m     65\u001b[0m     ll \u001b[38;5;241m=\u001b[39m \u001b[38;5;241m-\u001b[39m((y\u001b[38;5;241m.\u001b[39mshape[\u001b[38;5;241m0\u001b[39m]\u001b[38;5;241m*\u001b[39my\u001b[38;5;241m.\u001b[39mshape[\u001b[38;5;241m1\u001b[39m])\u001b[38;5;241m/\u001b[39m\u001b[38;5;241m2\u001b[39m)\u001b[38;5;241m*\u001b[39mtorch\u001b[38;5;241m.\u001b[39mlog(\u001b[38;5;241m2\u001b[39m\u001b[38;5;241m*\u001b[39mtorch\u001b[38;5;241m.\u001b[39mtensor(torch\u001b[38;5;241m.\u001b[39mpi))\u001b[38;5;241m-\u001b[39m\u001b[38;5;241m0.5\u001b[39m\u001b[38;5;241m*\u001b[39my\u001b[38;5;241m.\u001b[39mshape[\u001b[38;5;241m1\u001b[39m]\u001b[38;5;241m*\u001b[39mdet\u001b[38;5;241m-\u001b[39m\u001b[38;5;241m0.5\u001b[39m\u001b[38;5;241m*\u001b[39mtorch\u001b[38;5;241m.\u001b[39msum(torch\u001b[38;5;241m.\u001b[39mdiag(torch\u001b[38;5;241m.\u001b[39mmatmul((y\u001b[38;5;241m-\u001b[39mmu)\u001b[38;5;241m.\u001b[39mT,torch\u001b[38;5;241m.\u001b[39mlinalg\u001b[38;5;241m.\u001b[39msolve(K,y\u001b[38;5;241m-\u001b[39mmu))))\n\u001b[1;32m     66\u001b[0m     \u001b[38;5;66;03m#ll = -(y.shape[0]/2)*torch.log(2*torch.tensor(torch.pi))-0.5*det-0.5*torch.matmul((y-mu).T,torch.linalg.solve(K,y-mu))\u001b[39;00m\n",
      "\u001b[0;31m_LinAlgError\u001b[0m: linalg.cholesky: The factorization could not be completed because the input is not positive-definite (the leading minor of order 303 is not positive-definite)."
     ]
    }
   ],
   "source": [
    "LVemulator = LVM.LVE(XL_train,y,0.01,p,N,9,training_iter=100000,lr=1e-5)"
   ]
  },
  {
   "cell_type": "code",
   "execution_count": null,
   "id": "fa3aa2ce-f373-42c6-90ff-d1b4fb666de0",
   "metadata": {},
   "outputs": [],
   "source": [
    "LVemulator.optimise(600000,lr=1e-5)"
   ]
  },
  {
   "cell_type": "code",
   "execution_count": null,
   "id": "f67a6d9a-5a40-462b-812f-a85c46ac9471",
   "metadata": {},
   "outputs": [],
   "source": []
  },
  {
   "cell_type": "code",
   "execution_count": 174,
   "id": "5406763e-76d3-4e42-9a7b-c15b46d8c519",
   "metadata": {},
   "outputs": [],
   "source": [
    "XL_test = torch.cat((X_test,torch.repeat_interleave(LVemulator.L,40,dim=0)),axis=1)"
   ]
  },
  {
   "cell_type": "code",
   "execution_count": 175,
   "id": "0ff727ca-dd71-4acc-b546-16d12f668620",
   "metadata": {},
   "outputs": [
    {
     "data": {
      "text/plain": [
       "tensor([ 0.2151,  0.7611,  0.8136,  0.8605,  0.8146,  0.7049, -0.0249],\n",
       "       grad_fn=<RsubBackward1>)"
      ]
     },
     "execution_count": 175,
     "metadata": {},
     "output_type": "execute_result"
    }
   ],
   "source": [
    "LVemulator.R2(XL_test.float(),y_test.float())"
   ]
  },
  {
   "cell_type": "code",
   "execution_count": 176,
   "id": "251792df-a3b2-40ef-a4b4-e452d58707ee",
   "metadata": {},
   "outputs": [
    {
     "data": {
      "text/plain": [
       "[<matplotlib.lines.Line2D at 0x30dea2910>,\n",
       " <matplotlib.lines.Line2D at 0x30d6e5450>,\n",
       " <matplotlib.lines.Line2D at 0x2afebd6d0>,\n",
       " <matplotlib.lines.Line2D at 0x30b265190>,\n",
       " <matplotlib.lines.Line2D at 0x30b280690>,\n",
       " <matplotlib.lines.Line2D at 0x30b281f90>,\n",
       " <matplotlib.lines.Line2D at 0x30b281a50>,\n",
       " <matplotlib.lines.Line2D at 0x30b282c90>,\n",
       " <matplotlib.lines.Line2D at 0x30b297290>]"
      ]
     },
     "execution_count": 176,
     "metadata": {},
     "output_type": "execute_result"
    },
    {
     "data": {
      "image/png": "[encoded data removed]",
      "text/plain": [
       "<Figure size 640x480 with 1 Axes>"
      ]
     },
     "metadata": {},
     "output_type": "display_data"
    }
   ],
   "source": [
    "plt.plot(torch.cat(LVemulator.lengths)[::1000],'o')"
   ]
  },
  {
   "cell_type": "code",
   "execution_count": 177,
   "id": "131efe75-d7e1-485c-a5a6-5f1667d37026",
   "metadata": {},
   "outputs": [
    {
     "data": {
      "text/plain": [
       "[<matplotlib.lines.Line2D at 0x30b2f9c10>,\n",
       " <matplotlib.lines.Line2D at 0x2bc41d450>,\n",
       " <matplotlib.lines.Line2D at 0x30b2ec450>,\n",
       " <matplotlib.lines.Line2D at 0x30c7006d0>,\n",
       " <matplotlib.lines.Line2D at 0x30c700bd0>,\n",
       " <matplotlib.lines.Line2D at 0x30c700dd0>]"
      ]
     },
     "execution_count": 177,
     "metadata": {},
     "output_type": "execute_result"
    },
    {
     "data": {
      "image/png": "[encoded data removed]",
      "text/plain": [
       "<Figure size 640x480 with 1 Axes>"
      ]
     },
     "metadata": {},
     "output_type": "display_data"
    }
   ],
   "source": [
    "plt.plot(torch.cat(LVemulator.Ls,axis=1).T[::1000],'o')"
   ]
  },
  {
   "cell_type": "code",
   "execution_count": 178,
   "id": "d42def50-ee08-4421-b31b-072bd12058af",
   "metadata": {},
   "outputs": [
    {
     "data": {
      "text/plain": [
       "[<matplotlib.lines.Line2D at 0x30c768950>]"
      ]
     },
     "execution_count": 178,
     "metadata": {},
     "output_type": "execute_result"
    },
    {
     "data": {
      "image/png": "[encoded data removed]",
      "text/plain": [
       "<Figure size 640x480 with 1 Axes>"
      ]
     },
     "metadata": {},
     "output_type": "display_data"
    }
   ],
   "source": [
    "plt.plot(torch.cat(LVemulator.scales)[::1000],'o')"
   ]
  },
  {
   "cell_type": "code",
   "execution_count": 30,
   "id": "22fb044f-a8b0-4155-a159-39699d9358b7",
   "metadata": {},
   "outputs": [
    {
     "ename": "NameError",
     "evalue": "name 'cost' is not defined",
     "output_type": "error",
     "traceback": [
      "\u001b[0;31m---------------------------------------------------------------------------\u001b[0m",
      "\u001b[0;31mNameError\u001b[0m                                 Traceback (most recent call last)",
      "Cell \u001b[0;32mIn[30], line 1\u001b[0m\n\u001b[0;32m----> 1\u001b[0m cost(Y,X,L,scaling,lengthscale,sigma2,p)\n",
      "\u001b[0;31mNameError\u001b[0m: name 'cost' is not defined"
     ]
    }
   ],
   "source": [
    "cost(Y,X,L,scaling,lengthscale,sigma2,p)"
   ]
  },
  {
   "cell_type": "code",
   "execution_count": null,
   "id": "5fcc0bf7-9b50-4f2d-a6bb-1f928f7ace6e",
   "metadata": {},
   "outputs": [],
   "source": [
    "#plt.imshow(rbf(X,L,X,L,scaling,lengthscale,p,p).detach().numpy())"
   ]
  },
  {
   "cell_type": "code",
   "execution_count": null,
   "id": "eaefeb2b-5a62-4c73-8afe-44eeeab38986",
   "metadata": {},
   "outputs": [],
   "source": [
    "plt.imshow(rbf2(X,L,X,L,scaling,lengthscale,p,p).detach().numpy())"
   ]
  },
  {
   "cell_type": "code",
   "execution_count": null,
   "id": "31e6a353-865d-465f-afab-87b6a75ba5b1",
   "metadata": {},
   "outputs": [],
   "source": [
    "for i in range(N):\n",
    "    plt.plot(X[i*p:(i+1)*p,0],Y[i*p:(i+1)*p],'o')"
   ]
  },
  {
   "cell_type": "code",
   "execution_count": null,
   "id": "471060c4-7b3e-40bb-9c99-b8e924242b15",
   "metadata": {
    "scrolled": true
   },
   "outputs": [],
   "source": [
    "cost(Y,X,L,scaling,lengthscale,sigma2,p)"
   ]
  },
  {
   "cell_type": "code",
   "execution_count": null,
   "id": "9e03c375-80a3-4620-b137-52be08faec15",
   "metadata": {},
   "outputs": [],
   "source": [
    "gd = torch.optim.SGD([L,scaling,lengthscale,mean], lr=1e-5)\n",
    "history_gd = []\n",
    "\n",
    "for i in range(500000):\n",
    "    gd.zero_grad()\n",
    "    objective = cost(Y,X,L,scaling,lengthscale,sigma2,p,mean)\n",
    "    objective.backward()\n",
    "    gd.step()\n",
    "    history_gd.append(objective.item())\n",
    "    if i%1000 ==0:\n",
    "        print(objective)\n",
    "    if (i>1) and (np.abs(history_gd[-1] - history_gd[-2]) < .000001):\n",
    "        print(\"Convergence achieved in \", i+1, \" iterations\")\n",
    "        print(\"-LogL Value: \", objective.item())\n",
    "        break\n"
   ]
  },
  {
   "cell_type": "code",
   "execution_count": null,
   "id": "45b4a22a-f021-4c11-9402-ed173d993ca4",
   "metadata": {},
   "outputs": [],
   "source": [
    "mean"
   ]
  },
  {
   "cell_type": "code",
   "execution_count": null,
   "id": "5fe6d91f-e3fb-48d5-8697-59899013cc53",
   "metadata": {},
   "outputs": [],
   "source": [
    "L"
   ]
  },
  {
   "cell_type": "code",
   "execution_count": null,
   "id": "331748cb-f04b-439e-ac1c-9e25cb560a62",
   "metadata": {},
   "outputs": [],
   "source": [
    "lengthscale\n"
   ]
  },
  {
   "cell_type": "code",
   "execution_count": null,
   "id": "86f0b25f-f59f-424e-839a-db316d13a718",
   "metadata": {},
   "outputs": [],
   "source": [
    "cost(Y,X,L_true,scaling,lengthscale,sigma2,p,mean)"
   ]
  },
  {
   "cell_type": "code",
   "execution_count": null,
   "id": "69f488ef-aa51-498d-a306-7e78f137de75",
   "metadata": {},
   "outputs": [],
   "source": [
    "cost(Y,X,L,scaling,lengthscale,sigma2,p,mean)"
   ]
  },
  {
   "cell_type": "code",
   "execution_count": null,
   "id": "87a58e62-d4cb-4008-8393-f670dfba6b7e",
   "metadata": {},
   "outputs": [],
   "source": [
    "mean"
   ]
  },
  {
   "cell_type": "markdown",
   "id": "268f53cf-f0ea-4107-9e06-7afe9b82f1e7",
   "metadata": {},
   "source": [
    "Posterior mean: $$m(X^*,X)+K((X^*,L^*),(X,L))^\\top(K((X,L),(X,L))+\\sigma^2I)^{-1}(Y-m(X,X))$$"
   ]
  },
  {
   "cell_type": "code",
   "execution_count": null,
   "id": "f685137a-1d54-4318-8857-95ffebe356e6",
   "metadata": {},
   "outputs": [],
   "source": [
    "ref=0\n",
    "l_ref = 0\n",
    "dif = 0.01"
   ]
  },
  {
   "cell_type": "code",
   "execution_count": null,
   "id": "5e7adf72-4840-4750-8aaa-eb9582e63f0c",
   "metadata": {},
   "outputs": [],
   "source": [
    "K=rbf2(X,L,X,L,scaling,lengthscale,p,p)+sigma2*torch.eye(X.shape[0])"
   ]
  },
  {
   "cell_type": "code",
   "execution_count": null,
   "id": "71eef972-0e1a-49d5-8ec5-69a367bae204",
   "metadata": {},
   "outputs": [],
   "source": [
    "L[l_ref]"
   ]
  },
  {
   "cell_type": "code",
   "execution_count": null,
   "id": "128696b6-99ee-435a-b551-83f3711c07a0",
   "metadata": {},
   "outputs": [],
   "source": [
    "X[0:10]"
   ]
  },
  {
   "cell_type": "code",
   "execution_count": null,
   "id": "31616f4e-b2f3-48de-957e-d4b78309a652",
   "metadata": {},
   "outputs": [],
   "source": [
    "test_input[i][:,3:6].shape"
   ]
  },
  {
   "cell_type": "code",
   "execution_count": null,
   "id": "53fe1a97-9200-4c11-b944-1dff54642e8e",
   "metadata": {},
   "outputs": [],
   "source": [
    "real"
   ]
  },
  {
   "cell_type": "code",
   "execution_count": null,
   "id": "9f140194-78ca-43f0-a9a2-1b50fe0af3be",
   "metadata": {},
   "outputs": [],
   "source": [
    "((pred-real[:,None])**2).mean()"
   ]
  },
  {
   "cell_type": "code",
   "execution_count": null,
   "id": "6edd0e12-b1fb-4543-af3b-a750ceff828e",
   "metadata": {},
   "outputs": [],
   "source": [
    "R2=0\n",
    "for i in range(L.shape[0]):\n",
    "    K_s = rbf2(X,L,test_input[i][:,:],L[[i]],scaling,lengthscale,p,test_input[i].shape[0])\n",
    "    pred=mean*Y_std +torch.matmul(K_s.T,torch.linalg.solve(K,Y-mean))*Y_std + Y_mean\n",
    "    real=test_output[i][:,0]\n",
    "\n",
    "    R2 += 1-((pred-real[:,None])**2).mean()/(real.std()**2)\n",
    "    print(1-((pred-real[:,None])**2).mean()/(real.std()**2))\n",
    "R2=R2/L.shape[0]\n",
    "\n",
    "print(R2)"
   ]
  },
  {
   "cell_type": "code",
   "execution_count": null,
   "id": "bd659098-ac61-4847-8dda-a0e9a7ac2bcc",
   "metadata": {},
   "outputs": [],
   "source": [
    "def posterior_theta(X_test,L_test,p_test,X_train,L_train,p_train,scaling,lengthscale,sigma2,mean):\n",
    "    K = rbf2(X_train,L_train,X_train,L_train,scaling,lengthscale,p_train,p_train)+sigma2*torch.eye(X_train.shape[0])\n",
    "    K_s = rbf2(X_train,L_train,X_test,L_test,scaling,lengthscale,p_train,p_test)\n",
    "    K_ss = rbf2(X_test,L_test,X_test,L_test,scaling,lengthscale,p_test,p_test)\n",
    "\n",
    "    mean_p = mean+torch.matmul(K_s.T,torch.linalg.solve(K,Y-mean))\n",
    "    K_p = K_ss-torch.matmul(K_s.T,torch.linalg.solve(K,K_s))+sigma2\n",
    "    return mean_p, K_p"
   ]
  },
  {
   "cell_type": "code",
   "execution_count": null,
   "id": "1c7be443-d254-4740-a21f-0d1f80969319",
   "metadata": {},
   "outputs": [],
   "source": [
    "test_output[i].std(axis=0)"
   ]
  },
  {
   "cell_type": "code",
   "execution_count": null,
   "id": "78d7d553-1e50-4da2-9e1f-44a5e6b50f3a",
   "metadata": {},
   "outputs": [],
   "source": [
    "R2=0\n",
    "for i in range(L.shape[0]):\n",
    "    m_p,K_p = posterior_theta(test_input[i][:,3:6],L[[i]],test_input[i].shape[0],X,L,p,scaling,lengthscale,sigma2,mean)\n",
    "    R2+=1-((m_p*Y_std+Y_mean-(test_output[i]))**2).mean(axis=0)/test_output[i].std(axis=0)**2\n",
    "    print(1-((m_p*Y_std+Y_mean-(test_output[i]))**2).mean(axis=0)/test_output[i].std(axis=0)**2)\n",
    "R2=R2/L.shape[0]\n",
    "\n",
    "print(R2)"
   ]
  },
  {
   "cell_type": "code",
   "execution_count": null,
   "id": "f0bfd681-48c8-48d0-9fed-a257dfef7c96",
   "metadata": {},
   "outputs": [],
   "source": [
    "test_output[i]"
   ]
  },
  {
   "cell_type": "code",
   "execution_count": null,
   "id": "f323cf61-9022-419d-8810-af9278b0049c",
   "metadata": {},
   "outputs": [],
   "source": [
    "Y_std"
   ]
  },
  {
   "cell_type": "code",
   "execution_count": null,
   "id": "5ce20a6e-a6ce-4ffe-a5ad-7b0d38fa77e2",
   "metadata": {},
   "outputs": [],
   "source": [
    "test_output[i].std(axis=0)"
   ]
  },
  {
   "cell_type": "code",
   "execution_count": null,
   "id": "9badb48f-a985-446b-a1fd-25b614b1bda0",
   "metadata": {},
   "outputs": [],
   "source": [
    "1-((m_p*Y_std+Y_mean-(test_output[i]))**2).mean(axis=0)/56"
   ]
  },
  {
   "cell_type": "code",
   "execution_count": null,
   "id": "040d64c1-d2d7-4593-a77c-f06aece04ea2",
   "metadata": {},
   "outputs": [],
   "source": [
    "Y[0:10]"
   ]
  },
  {
   "cell_type": "code",
   "execution_count": null,
   "id": "be4ca08a-0d37-423d-b321-bfda462e8cf2",
   "metadata": {},
   "outputs": [],
   "source": [
    "plt.imshow(K_p.detach().numpy())"
   ]
  },
  {
   "cell_type": "code",
   "execution_count": null,
   "id": "dda9aa59-cd9d-4140-8b83-fbcf4220b273",
   "metadata": {},
   "outputs": [],
   "source": [
    "p_new = 180\n",
    "X_new=torch.torch.FloatTensor(p_new, 3).uniform_(-1, 1)\n",
    "L_new =torch.normal(0,torch.ones(1,L_true.shape[1]))\n",
    "L_new=L_true[[1]]\n",
    "Y_new=true_func(X_new,L_new,alpha,beta,zeta)\n",
    "\n",
    "Y_new_mean = Y_new.mean()\n",
    "Y_new_std = Y_new.std()\n",
    "\n",
    "Y_new = (Y_new-Y_mean)/Y_std"
   ]
  },
  {
   "cell_type": "code",
   "execution_count": null,
   "id": "335c87b9-fb75-4328-bd8a-a76a92206f6b",
   "metadata": {},
   "outputs": [],
   "source": [
    "plt.plot(X_new[:,0].detach().numpy(),Y_new.detach().numpy(),'o')"
   ]
  },
  {
   "cell_type": "code",
   "execution_count": null,
   "id": "bdd7927a-c4a3-4aad-b2de-3c867eb3cd17",
   "metadata": {},
   "outputs": [],
   "source": [
    "def cf_cost(Y_new,X_new,L_new,X_train,L_train,scaling,lengthscale,sigma2,p_train,p_new,mean):\n",
    "    \n",
    "    \n",
    "    mean_p,K_p = posterior_theta(X_new,L_new,p_new,X_train,L_train,p_train,scaling,lengthscale,sigma2,mean)\n",
    "    \n",
    "    #K_inv=torch.kron(torch.linalg.inv(K_x),torch.linalg.inv(K_L))\n",
    "    #K_inv=torch.kron(torch.linalg.inv(K_L),torch.linalg.inv(K_x))\n",
    "    #print(torch.linalg.det(K))\n",
    "    c = multivariate_ll(Y_new,mean_p,K_p) + multivariate_ll(L_new,0,torch.eye(L_new.shape[0])) # multivariate_ll(torch.repeat_interleave(L,x.shape[0])[:,None],0,torch.eye(inp.shape[0]))\n",
    "    #print(multivariate_ll(Y_new,mean_p,K_p))\n",
    "    #print(multivariate_ll(L_new,0,torch.eye(L_new.shape[0])))\n",
    "    return -c"
   ]
  },
  {
   "cell_type": "code",
   "execution_count": null,
   "id": "92f30625-fd97-4f2b-b359-45d8c600c086",
   "metadata": {},
   "outputs": [],
   "source": [
    "cf_cost(Y_new,X_new,L_new,X,L,scaling,lengthscale,sigma2,p,p_new,mean)"
   ]
  },
  {
   "cell_type": "code",
   "execution_count": null,
   "id": "072c96f6-845a-48dc-a6e7-1763e839c592",
   "metadata": {},
   "outputs": [],
   "source": [
    "mean_p,K_p = posterior_theta(X_new,L_cf,p_new,X,L,p,scaling,lengthscale,sigma2,mean)"
   ]
  },
  {
   "cell_type": "code",
   "execution_count": null,
   "id": "91c8b6df-e0cb-48be-8af6-0c181b38cfda",
   "metadata": {},
   "outputs": [],
   "source": [
    "plt.imshow(K_p.detach().numpy())"
   ]
  },
  {
   "cell_type": "code",
   "execution_count": null,
   "id": "a204212f-fc35-4215-8b6d-5478e33b6a61",
   "metadata": {},
   "outputs": [],
   "source": [
    "mean_p"
   ]
  },
  {
   "cell_type": "code",
   "execution_count": null,
   "id": "57f5bed7-2a08-43c1-88b4-5ab9c35bd2de",
   "metadata": {},
   "outputs": [],
   "source": [
    "Y_new"
   ]
  },
  {
   "cell_type": "code",
   "execution_count": null,
   "id": "79f839cb-4b6c-47ca-84de-54f9ab8215b2",
   "metadata": {},
   "outputs": [],
   "source": [
    "L_cf =torch.normal(0,torch.ones(1,L_true.shape[1])).clone().detach().requires_grad_(True)\n",
    "#L_cf = (L[[1]]).clone().detach().requires_grad_(True)"
   ]
  },
  {
   "cell_type": "code",
   "execution_count": null,
   "id": "5e49230b-339c-41b1-b11c-76e37bd4b229",
   "metadata": {},
   "outputs": [],
   "source": [
    "cf_cost(Y_new,X_new,L_cf,X,L,scaling,lengthscale,sigma2,p,p_new,mean)"
   ]
  },
  {
   "cell_type": "code",
   "execution_count": null,
   "id": "46e8457b-ddb1-41ae-a3cd-ac2085b3220d",
   "metadata": {},
   "outputs": [],
   "source": [
    "\n",
    "cf = torch.optim.SGD([L_cf], lr=1e-4)\n",
    "history_cf = []\n",
    "\n",
    "for i in range(100000):\n",
    "    cf.zero_grad()\n",
    "    objective = cf_cost(Y_new,X_new,L_cf,X,L,scaling,lengthscale,sigma2,p,p_new,mean)\n",
    "    objective.backward()\n",
    "    cf.step()\n",
    "    history_cf.append(objective.item())\n",
    "    if i%1000 ==0:\n",
    "        m_new, K_new = posterior_theta(X_new,L_cf,p_new,X,L,p,scaling,lengthscale,sigma2,mean)\n",
    "        print(1-(((m_new-Y_new)**2).mean())/Y_new.std())\n",
    "    if (i>1) and (np.abs(history_cf[-1] - history_cf[-2]) < .00000000001):\n",
    "        print(\"Convergence achieved in \", i+1, \" iterations\")\n",
    "        print(\"-LogL Value: \", objective.item())\n",
    "        break\n"
   ]
  },
  {
   "cell_type": "code",
   "execution_count": null,
   "id": "f63fb05d-0d56-40b6-a6d9-0ee2a1198636",
   "metadata": {},
   "outputs": [],
   "source": [
    "L_cf"
   ]
  },
  {
   "cell_type": "code",
   "execution_count": null,
   "id": "96e49cd6-c5ca-42aa-ac75-8c6fe99ab35c",
   "metadata": {},
   "outputs": [],
   "source": [
    "L[[1]]"
   ]
  },
  {
   "cell_type": "code",
   "execution_count": null,
   "id": "e4403cfa-d220-4635-9dd6-5944728314b7",
   "metadata": {},
   "outputs": [],
   "source": [
    "m_new, K_new = posterior_theta(X_new,L_cf,p_new,X,L,p,scaling,lengthscale,sigma2,mean)"
   ]
  },
  {
   "cell_type": "code",
   "execution_count": null,
   "id": "3ec908a8-1203-43c5-9143-d5e64f469c86",
   "metadata": {},
   "outputs": [],
   "source": [
    "K_new.detach().numpy()"
   ]
  },
  {
   "cell_type": "code",
   "execution_count": null,
   "id": "7f4fd206-01a2-4097-9fc1-fc299774578e",
   "metadata": {},
   "outputs": [],
   "source": [
    "multivariate_ll(Y_new,m_new, K_new) + multivariate_ll(L_cf,0,torch.eye(L_new.shape[0]))"
   ]
  },
  {
   "cell_type": "code",
   "execution_count": null,
   "id": "8f11d985-b21a-436b-8e91-fdf55357b4d7",
   "metadata": {},
   "outputs": [],
   "source": [
    "multivariate_ll(Y_new,m_new, K_new) "
   ]
  },
  {
   "cell_type": "code",
   "execution_count": null,
   "id": "e792805f-4345-41bb-948e-480cc4336f9c",
   "metadata": {},
   "outputs": [],
   "source": [
    "multivariate_ll(L_cf,0,torch.eye(L_new.shape[0]))"
   ]
  },
  {
   "cell_type": "code",
   "execution_count": null,
   "id": "2e7341e1-e4c8-452a-a55e-5db9562f519c",
   "metadata": {},
   "outputs": [],
   "source": [
    "1-(((m_new-Y_new)**2).mean())/Y_new.std()"
   ]
  },
  {
   "cell_type": "code",
   "execution_count": null,
   "id": "c7272047-9b14-4c5b-8411-0a3cadcf1cad",
   "metadata": {},
   "outputs": [],
   "source": [
    "m_new"
   ]
  },
  {
   "cell_type": "code",
   "execution_count": null,
   "id": "e281a7e2-d74e-4b9a-a3a6-81565d4da552",
   "metadata": {},
   "outputs": [],
   "source": [
    "Y_new"
   ]
  },
  {
   "cell_type": "code",
   "execution_count": null,
   "id": "d0f50893-300c-4bd4-be4e-ebbe2839e663",
   "metadata": {},
   "outputs": [],
   "source": [
    "mean"
   ]
  },
  {
   "cell_type": "code",
   "execution_count": null,
   "id": "c2976d2b-64c3-4cac-9e43-035c58985678",
   "metadata": {},
   "outputs": [],
   "source": []
  },
  {
   "cell_type": "code",
   "execution_count": null,
   "id": "e55cf4a2-1a28-4b79-958e-84cee0c589b1",
   "metadata": {},
   "outputs": [],
   "source": []
  },
  {
   "cell_type": "code",
   "execution_count": null,
   "id": "92f6df8d-fb9f-4dd4-b13b-4c17db810984",
   "metadata": {},
   "outputs": [],
   "source": []
  }
 ],
 "metadata": {
  "kernelspec": {
   "display_name": "Python 3 (ipykernel)",
   "language": "python",
   "name": "python3"
  },
  "language_info": {
   "codemirror_mode": {
    "name": "ipython",
    "version": 3
   },
   "file_extension": ".py",
   "mimetype": "text/x-python",
   "name": "python",
   "nbconvert_exporter": "python",
   "pygments_lexer": "ipython3",
   "version": "3.11.5"
  }
 },
 "nbformat": 4,
 "nbformat_minor": 5
}
