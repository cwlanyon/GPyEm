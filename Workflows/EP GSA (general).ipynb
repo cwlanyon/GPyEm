{
 "cells": [
  {
   "cell_type": "code",
   "execution_count": 1,
   "id": "5ba866e8",
   "metadata": {},
   "outputs": [],
   "source": [
    "import math\n",
    "import torch\n",
    "import gpytorch\n",
    "import pandas as pd\n",
    "import numpy as np\n",
    "from matplotlib import pyplot as plt\n",
    "\n",
    "\n",
    "from GPyEm import GPE_ensemble as GPE\n",
    "\n",
    "import os\n",
    "from sklearn.linear_model import LinearRegression\n",
    "from sklearn.metrics import mean_squared_error, r2_score\n",
    "from sklearn.model_selection import train_test_split\n",
    "\n",
    "seed = 7\n",
    "#set_seed(seed)"
   ]
  },
  {
   "cell_type": "markdown",
   "id": "de88b52c",
   "metadata": {},
   "source": [
    "# User input: choose mesh"
   ]
  },
  {
   "cell_type": "code",
   "execution_count": 2,
   "id": "7c20f924",
   "metadata": {},
   "outputs": [],
   "source": [
    "mesh=40"
   ]
  },
  {
   "cell_type": "markdown",
   "id": "927ed9db",
   "metadata": {},
   "source": [
    "Load data"
   ]
  },
  {
   "cell_type": "code",
   "execution_count": 3,
   "id": "b81ecd1f",
   "metadata": {},
   "outputs": [
    {
     "name": "stdout",
     "output_type": "stream",
     "text": [
      "       CV_f_v  ani_ratio_v    k_FEC    CV_f_a  ani_ratio_a     k_BB\n",
      "0    0.606444     0.442714  5.53288  0.317814     0.376440  1.35358\n",
      "1    0.518476     0.304389  6.83032  0.628421     0.237364  1.25791\n",
      "2    0.641101     0.239081  5.82181  1.020680     0.437033  5.30559\n",
      "3    0.750099     0.373713  4.49537  0.526532     0.444927  2.07317\n",
      "4    0.689263     0.388615  2.34609  0.556797     0.477035  2.36587\n",
      "..        ...          ...      ...       ...          ...      ...\n",
      "115  0.545148     0.260282  1.41140  0.982380     0.242211  2.02864\n",
      "116  0.407284     0.272427  1.55631  0.353259     0.340049  1.65963\n",
      "117  0.796166     0.465371  7.16628  0.539272     0.228129  1.68568\n",
      "118  0.752534     0.476168  3.40841  0.386740     0.264407  5.40274\n",
      "119  0.687991     0.318799  6.32706  0.767307     0.234231  4.38626\n",
      "\n",
      "[120 rows x 6 columns]\n"
     ]
    }
   ],
   "source": [
    "x_labels=pd.read_csv(r'/Users/pmzcwl/Library/CloudStorage/OneDrive-TheUniversityofNottingham/shared_simulations/EP/scenario_'+str(mesh)+'/xlabels.txt',delim_whitespace=True,header=None)\n",
    "\n",
    "\n",
    "X_all = pd.read_csv(r'/Users/pmzcwl/Library/CloudStorage/OneDrive-TheUniversityofNottingham/shared_simulations/EP/scenario_'+str(mesh)+'/X.txt',index_col=None,delim_whitespace=True,header=None)\n",
    "X_all.columns=x_labels.values.squeeze().tolist()\n",
    "print(X_all)"
   ]
  },
  {
   "cell_type": "code",
   "execution_count": 4,
   "id": "121230ab",
   "metadata": {},
   "outputs": [
    {
     "name": "stdout",
     "output_type": "stream",
     "text": [
      "        A_TAT     V_TAT\n",
      "0    326.3430  100.5180\n",
      "1    183.9530  130.7160\n",
      "2     78.6365  115.3240\n",
      "3    174.7200   86.9669\n",
      "4    159.2430   95.3313\n",
      "..        ...       ...\n",
      "115  107.5570  140.7120\n",
      "116  284.2610  182.8520\n",
      "117  205.9150   73.8898\n",
      "118  239.8420   80.7692\n",
      "119  125.1910   97.1398\n",
      "\n",
      "[120 rows x 2 columns]\n"
     ]
    }
   ],
   "source": [
    "y_labels=pd.read_csv(r'/Users/pmzcwl/Library/CloudStorage/OneDrive-TheUniversityofNottingham/shared_simulations/EP/scenario_13/ylabels.txt',delim_whitespace=True,header=None)\n",
    "\n",
    "\n",
    "y_all = pd.read_csv(r'/Users/pmzcwl/Library/CloudStorage/OneDrive-TheUniversityofNottingham/shared_simulations/EP/scenario_'+str(mesh)+'/Y.txt',index_col=None,delim_whitespace=True,header=None)\n",
    "y_all.columns=y_labels.values.squeeze().tolist()\n",
    "print(y_all)"
   ]
  },
  {
   "cell_type": "markdown",
   "id": "f1349dc8",
   "metadata": {},
   "source": [
    "# Emulator"
   ]
  },
  {
   "cell_type": "markdown",
   "id": "9046c8dd",
   "metadata": {},
   "source": [
    "Convert pandas to torch"
   ]
  },
  {
   "cell_type": "code",
   "execution_count": 5,
   "id": "50a91180",
   "metadata": {},
   "outputs": [],
   "source": [
    "y_train = torch.tensor(y_all.values)\n",
    "# Choose appropriate values from X_all (if X_all bigger than y_all)\n",
    "x_train = torch.tensor(X_all[0:y_all.shape[0]].values) "
   ]
  },
  {
   "cell_type": "code",
   "execution_count": 6,
   "id": "670120df",
   "metadata": {},
   "outputs": [
    {
     "name": "stdout",
     "output_type": "stream",
     "text": [
      "0\n",
      "1\n"
     ]
    }
   ],
   "source": [
    "emulator = GPE.ensemble(x_train,y_train,mean_func=\"linear\",training_iter=500) #Train emulator"
   ]
  },
  {
   "cell_type": "code",
   "execution_count": 7,
   "id": "0a066022",
   "metadata": {},
   "outputs": [
    {
     "name": "stdout",
     "output_type": "stream",
     "text": [
      "[0.382351, 0.799717]\n",
      "[0.201679, 0.499831]\n",
      "[1.24091, 8.38479]\n",
      "[0.300623, 1.02851]\n",
      "[0.200837, 0.497599]\n",
      "[1.01838, 5.67135]\n"
     ]
    }
   ],
   "source": [
    "input_masked=X_all\n",
    "# Generate max and min bounds\n",
    "nDim =input_masked.shape[1]\n",
    "boundsMaxMin = []\n",
    "for i in range(nDim):\n",
    "    boundsMaxMin.append([np.min(input_masked.iloc[:,i]),np.max(input_masked.iloc[:,i])])\n",
    "    print(boundsMaxMin[i])"
   ]
  },
  {
   "cell_type": "code",
   "execution_count": null,
   "id": "5b05f92a",
   "metadata": {},
   "outputs": [
    {
     "name": "stderr",
     "output_type": "stream",
     "text": [
      "/var/folders/_j/ptyc01811q5b1dg30hshtfzh0000gr/T/ipykernel_3229/3249190965.py:24: DeprecationWarning: `salib.sample.saltelli` will be removed in SALib 1.5. Please use `salib.sample.sobol`\n",
      "  param_values = saltelli.sample(problem, 1024*10)\n",
      "/Users/pmzcwl/anaconda3/lib/python3.11/site-packages/SALib/sample/saltelli.py:109: UserWarning: \n",
      "        Convergence properties of the Sobol' sequence is only valid if\n",
      "        `N` (10240) is equal to `2^n`.\n",
      "        \n",
      "  warnings.warn(msg)\n"
     ]
    }
   ],
   "source": [
    "##### from SALib.sample import saltelli\n",
    "from SALib.sample import saltelli\n",
    "from SALib.analyze import sobol\n",
    "from SALib.test_functions import Ishigami\n",
    "import numpy as np\n",
    "\n",
    "# Define the model inputs\n",
    "problem = {\n",
    "    'num_vars': nDim,\n",
    "    'names': x_labels,\n",
    "    'bounds': boundsMaxMin\n",
    "    #'bounds': [[-1, 1],\n",
    "     #          [-1, 1],\n",
    "      #         [-1, 1],\n",
    "       #        [-1, 1],\n",
    "        #       [-1, 1],\n",
    "         #      [-1, 1],\n",
    "          #     [-1, 1],\n",
    "           #    [-1, 1],\n",
    "            #   [-1,1]]\n",
    "}\n",
    "\n",
    "# Generate samples\n",
    "param_values = saltelli.sample(problem, 1024)\n",
    "\n",
    "data1 = torch.tensor(param_values)\n",
    "#data1.columns = X_train.columns\n",
    "\n",
    "Ymean=emulator.predict_sample(data1,n=1000)"
   ]
  },
  {
   "cell_type": "code",
   "execution_count": 25,
   "id": "efecdd2f-755d-440e-ad05-5ca7eafc2bee",
   "metadata": {},
   "outputs": [
    {
     "data": {
      "text/plain": [
       "torch.Size([14336, 1000, 2])"
      ]
     },
     "execution_count": 25,
     "metadata": {},
     "output_type": "execute_result"
    }
   ],
   "source": [
    "Ymean.shape"
   ]
  },
  {
   "cell_type": "code",
   "execution_count": 26,
   "id": "280aaa98",
   "metadata": {},
   "outputs": [
    {
     "data": {
      "text/plain": [
       "torch.Size([14336, 6])"
      ]
     },
     "execution_count": 26,
     "metadata": {},
     "output_type": "execute_result"
    }
   ],
   "source": [
    "data1.shape"
   ]
  },
  {
   "cell_type": "code",
   "execution_count": 27,
   "id": "0c4259db-02b3-4242-b68d-b74aaed346bb",
   "metadata": {},
   "outputs": [
    {
     "data": {
      "text/plain": [
       "torch.Size([14336, 1000, 2])"
      ]
     },
     "execution_count": 27,
     "metadata": {},
     "output_type": "execute_result"
    }
   ],
   "source": [
    "Ymean.shape"
   ]
  },
  {
   "cell_type": "code",
   "execution_count": 28,
   "id": "79378723",
   "metadata": {},
   "outputs": [],
   "source": [
    "Si = [[],[]]\n",
    "nMod = y_all.shape[1]\n",
    "nDim = input_masked.shape[1]\n",
    "for j in range(Ymean.shape[1]):\n",
    "    for i in range(nMod):\n",
    "        Si[i].append(sobol.analyze(problem, Ymean[:,j,i].detach().numpy(), print_to_console=False,calc_second_order=True))"
   ]
  },
  {
   "cell_type": "code",
   "execution_count": 29,
   "id": "4e7850c4-7480-45e4-aabd-084d0a80c68d",
   "metadata": {},
   "outputs": [
    {
     "data": {
      "text/plain": [
       "{'S1': array([ 2.95160398e-05, -2.37202716e-04,  3.38797417e-05,  9.28037389e-01,\n",
       "         2.40274702e-02,  3.50333647e-02]),\n",
       " 'S1_conf': array([0.00100923, 0.00081525, 0.00114899, 0.07175703, 0.01332739,\n",
       "        0.0203822 ]),\n",
       " 'ST': array([1.17696632e-04, 1.15741452e-04, 2.23821299e-04, 9.34606638e-01,\n",
       "        2.85657914e-02, 4.04038489e-02]),\n",
       " 'ST_conf': array([1.73480641e-05, 1.70187271e-05, 3.84425632e-05, 5.73405902e-02,\n",
       "        2.82920753e-03, 4.40307438e-03]),\n",
       " 'S2': array([[            nan,  1.46777559e-05, -2.43360653e-05,\n",
       "         -2.15135484e-05,  1.17215638e-04, -2.73980654e-05],\n",
       "        [            nan,             nan,  3.72483403e-04,\n",
       "          1.27911591e-04,  3.91624235e-04,  3.98059649e-04],\n",
       "        [            nan,             nan,             nan,\n",
       "          1.33703448e-04, -4.23278682e-04, -4.03518876e-04],\n",
       "        [            nan,             nan,             nan,\n",
       "                     nan,  4.24260497e-03,  4.58999094e-03],\n",
       "        [            nan,             nan,             nan,\n",
       "                     nan,             nan,  2.92885125e-04],\n",
       "        [            nan,             nan,             nan,\n",
       "                     nan,             nan,             nan]]),\n",
       " 'S2_conf': array([[       nan, 0.00133969, 0.00133763, 0.00163011, 0.00134855,\n",
       "         0.00141057],\n",
       "        [       nan,        nan, 0.00103648, 0.00132184, 0.00104096,\n",
       "         0.00103627],\n",
       "        [       nan,        nan,        nan, 0.00221703, 0.00205795,\n",
       "         0.00208215],\n",
       "        [       nan,        nan,        nan,        nan, 0.10851489,\n",
       "         0.10795966],\n",
       "        [       nan,        nan,        nan,        nan,        nan,\n",
       "         0.01917917],\n",
       "        [       nan,        nan,        nan,        nan,        nan,\n",
       "                nan]])}"
      ]
     },
     "execution_count": 29,
     "metadata": {},
     "output_type": "execute_result"
    }
   ],
   "source": [
    "Si[0][0]"
   ]
  },
  {
   "cell_type": "code",
   "execution_count": null,
   "id": "11887ebf-cf8a-4c72-b0bc-a82ae8f86b14",
   "metadata": {},
   "outputs": [],
   "source": [
    "Si[i][j].to_df()"
   ]
  },
  {
   "cell_type": "code",
   "execution_count": 21,
   "id": "be973aac",
   "metadata": {},
   "outputs": [],
   "source": [
    "Si_first=np.zeros((nDim,nMod))\n",
    "Si_total=np.zeros((nDim,nMod))\n",
    "\n",
    "for j in range(Ymean.shape[1]):\n",
    "    for i in range(nMod):\n",
    "        total_Si, first_Si = Si[i][j].to_df()\n",
    "        Si_first[:,i] +=  first_Si.iloc[:,0]/Ymean.shape[1]\n",
    "        Si_total[:,i] +=  total_Si.iloc[:,0]/Ymean.shape[1]\n"
   ]
  },
  {
   "cell_type": "code",
   "execution_count": 22,
   "id": "b6b05bcd",
   "metadata": {},
   "outputs": [
    {
     "data": {
      "text/plain": [
       "<matplotlib.colorbar.Colorbar at 0x2b16bbc90>"
      ]
     },
     "execution_count": 22,
     "metadata": {},
     "output_type": "execute_result"
    },
    {
     "data": {
      "image/png": "[encoded data removed]",
      "text/plain": [
       "<Figure size 640x480 with 2 Axes>"
      ]
     },
     "metadata": {},
     "output_type": "display_data"
    }
   ],
   "source": [
    "inputs = X_all.columns.tolist()\n",
    "outputs = y_all.columns.tolist()\n",
    "fig, ax = plt.subplots()\n",
    "im = ax.imshow(Si_first[0:28],cmap='magma_r',vmin=0,vmax=1)\n",
    "\n",
    "ax.set_xticks(np.arange(len(outputs)),labels=outputs)\n",
    "ax.set_yticks(np.arange(len(inputs)), labels=inputs)\n",
    "plt.setp(ax.get_xticklabels(), rotation=60, ha=\"right\",\n",
    "         rotation_mode=\"anchor\");\n",
    "\n",
    "plt.colorbar(im,fraction=0.015, pad=0.04)"
   ]
  },
  {
   "cell_type": "code",
   "execution_count": 15,
   "id": "1bae98e0",
   "metadata": {},
   "outputs": [
    {
     "data": {
      "text/plain": [
       "<matplotlib.colorbar.Colorbar at 0x2b00a1810>"
      ]
     },
     "execution_count": 15,
     "metadata": {},
     "output_type": "execute_result"
    },
    {
     "data": {
      "image/png": "[encoded data removed]",
      "text/plain": [
       "<Figure size 640x480 with 2 Axes>"
      ]
     },
     "metadata": {},
     "output_type": "display_data"
    }
   ],
   "source": [
    "inputs = X_all.columns.tolist()\n",
    "outputs = y_all.columns.tolist()\n",
    "fig, ax = plt.subplots()\n",
    "im = ax.imshow(Si_total.T[0:28],cmap='magma_r',vmin=0,vmax=1)\n",
    "\n",
    "ax.set_yticks(np.arange(len(outputs)),labels=outputs)\n",
    "ax.set_xticks(np.arange(len(inputs)), labels=inputs)\n",
    "plt.setp(ax.get_xticklabels(), rotation=65, ha=\"right\",\n",
    "         rotation_mode=\"anchor\");\n",
    "\n",
    "plt.colorbar(im,fraction=0.015, pad=0.04)"
   ]
  },
  {
   "cell_type": "code",
   "execution_count": 16,
   "id": "15305bfc",
   "metadata": {},
   "outputs": [],
   "source": [
    "np.savetxt(\"Si_total_EP_\"+str(mesh)+\".csv\", Si_total, delimiter=\",\")\n",
    "np.savetxt(\"Si_first_EP_\"+str(mesh)+\".csv\", Si_first, delimiter=\",\")"
   ]
  },
  {
   "cell_type": "code",
   "execution_count": null,
   "id": "5f939c54",
   "metadata": {},
   "outputs": [],
   "source": []
  },
  {
   "cell_type": "code",
   "execution_count": null,
   "id": "920962fa-1043-4d63-a6d7-cb6653267f66",
   "metadata": {},
   "outputs": [],
   "source": []
  },
  {
   "cell_type": "code",
   "execution_count": null,
   "id": "17704de1-b5c9-4c85-ba34-24062baa68b3",
   "metadata": {},
   "outputs": [],
   "source": []
  }
 ],
 "metadata": {
  "kernelspec": {
   "display_name": "Python 3 (ipykernel)",
   "language": "python",
   "name": "python3"
  },
  "language_info": {
   "codemirror_mode": {
    "name": "ipython",
    "version": 3
   },
   "file_extension": ".py",
   "mimetype": "text/x-python",
   "name": "python",
   "nbconvert_exporter": "python",
   "pygments_lexer": "ipython3",
   "version": "3.11.5"
  }
 },
 "nbformat": 4,
 "nbformat_minor": 5
}
