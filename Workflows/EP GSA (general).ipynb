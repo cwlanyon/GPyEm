{
 "cells": [
  {
   "cell_type": "code",
   "execution_count": 8,
   "id": "5ba866e8",
   "metadata": {},
   "outputs": [],
   "source": [
    "import math\n",
    "import torch\n",
    "import gpytorch\n",
    "import pandas as pd\n",
    "import numpy as np\n",
    "from matplotlib import pyplot as plt\n",
    "\n",
    "\n",
    "from GPyEm import GPE_ensemble as GPE\n",
    "\n",
    "import os\n",
    "from sklearn.linear_model import LinearRegression\n",
    "from sklearn.metrics import mean_squared_error, r2_score\n",
    "from sklearn.model_selection import train_test_split\n",
    "\n",
    "seed = 7\n",
    "#set_seed(seed)"
   ]
  },
  {
   "cell_type": "markdown",
   "id": "de88b52c",
   "metadata": {},
   "source": [
    "# User input: choose mesh"
   ]
  },
  {
   "cell_type": "code",
   "execution_count": 2,
   "id": "7c20f924",
   "metadata": {},
   "outputs": [],
   "source": [
    "mesh=13"
   ]
  },
  {
   "cell_type": "markdown",
   "id": "927ed9db",
   "metadata": {},
   "source": [
    "Load data"
   ]
  },
  {
   "cell_type": "code",
   "execution_count": 3,
   "id": "b81ecd1f",
   "metadata": {},
   "outputs": [
    {
     "name": "stdout",
     "output_type": "stream",
     "text": [
      "     CV_ventricles  k_ventricles    k_FEC  CV_atria   k_atria     k_BB\n",
      "0         0.738144      0.276378  5.71074  0.337617  0.253067  3.34120\n",
      "1         0.699821      0.289857  8.23437  0.899943  0.244791  3.36932\n",
      "2         0.419685      0.310723  1.32123  1.023790  0.208773  3.22631\n",
      "3         0.780850      0.326027  4.83990  0.621390  0.201804  3.25724\n",
      "4         0.794527      0.395183  5.83261  0.971377  0.346727  5.50506\n",
      "..             ...           ...      ...       ...       ...      ...\n",
      "995       0.639511      0.285979  6.68166  0.353444  0.207574  1.25594\n",
      "996       0.487964      0.201533  2.99732  0.441108  0.371365  4.35580\n",
      "997       0.506433      0.380463  6.07463  0.967278  0.359592  1.50839\n",
      "998       0.686527      0.255578  2.70725  0.322308  0.303793  1.98914\n",
      "999       0.745125      0.288781  6.70721  0.585251  0.369692  1.75873\n",
      "\n",
      "[1000 rows x 6 columns]\n"
     ]
    }
   ],
   "source": [
    "x_labels=pd.read_csv(r'/Users/pmzcwl/Library/CloudStorage/OneDrive-TheUniversityofNottingham/shared_simulations/EP/scenario_'+str(mesh)+'/xlabels.txt',delim_whitespace=True,header=None)\n",
    "\n",
    "\n",
    "X_all = pd.read_csv(r'/Users/pmzcwl/Library/CloudStorage/OneDrive-TheUniversityofNottingham/shared_simulations/EP/scenario_'+str(mesh)+'/X.txt',index_col=None,delim_whitespace=True,header=None)\n",
    "X_all.columns=x_labels.values.squeeze().tolist()\n",
    "print(X_all)"
   ]
  },
  {
   "cell_type": "code",
   "execution_count": 4,
   "id": "121230ab",
   "metadata": {},
   "outputs": [
    {
     "name": "stdout",
     "output_type": "stream",
     "text": [
      "        A_TAT     V_TAT\n",
      "0    315.4700   97.6231\n",
      "1    119.7940  100.6130\n",
      "2    112.3490  183.1760\n",
      "3    187.0580   86.8046\n",
      "4     90.6858   78.7504\n",
      "..        ...       ...\n",
      "175   90.0410   92.6852\n",
      "176  147.1390   99.3163\n",
      "177  143.7290  119.9870\n",
      "178  144.0190  111.9080\n",
      "179  166.9070  193.3910\n",
      "\n",
      "[180 rows x 2 columns]\n"
     ]
    }
   ],
   "source": [
    "y_labels=pd.read_csv(r'/Users/pmzcwl/Library/CloudStorage/OneDrive-TheUniversityofNottingham/shared_simulations/EP/scenario_13/ylabels.txt',delim_whitespace=True,header=None)\n",
    "\n",
    "\n",
    "y_all = pd.read_csv(r'/Users/pmzcwl/Library/CloudStorage/OneDrive-TheUniversityofNottingham/shared_simulations/EP/scenario_'+str(mesh)+'/Y.txt',index_col=None,delim_whitespace=True,header=None)\n",
    "y_all.columns=y_labels.values.squeeze().tolist()\n",
    "print(y_all)"
   ]
  },
  {
   "cell_type": "markdown",
   "id": "f1349dc8",
   "metadata": {},
   "source": [
    "# Emulator"
   ]
  },
  {
   "cell_type": "markdown",
   "id": "9046c8dd",
   "metadata": {},
   "source": [
    "Convert pandas to torch"
   ]
  },
  {
   "cell_type": "code",
   "execution_count": 5,
   "id": "50a91180",
   "metadata": {},
   "outputs": [],
   "source": [
    "y_train = torch.tensor(y_all.values)\n",
    "# Choose appropriate values from X_all (if X_all bigger than y_all)\n",
    "x_train = torch.tensor(X_all[0:y_all.shape[0]].values) "
   ]
  },
  {
   "cell_type": "code",
   "execution_count": 6,
   "id": "670120df",
   "metadata": {},
   "outputs": [
    {
     "name": "stdout",
     "output_type": "stream",
     "text": [
      "0\n",
      "1\n"
     ]
    }
   ],
   "source": [
    "emulator = GPE.ensemble(x_train,y_train,mean_func=\"linear\",training_iter=500) #Train emulator"
   ]
  },
  {
   "cell_type": "code",
   "execution_count": 7,
   "id": "0a066022",
   "metadata": {},
   "outputs": [
    {
     "ename": "NameError",
     "evalue": "name 'input_masked' is not defined",
     "output_type": "error",
     "traceback": [
      "\u001b[0;31m---------------------------------------------------------------------------\u001b[0m",
      "\u001b[0;31mNameError\u001b[0m                                 Traceback (most recent call last)",
      "Cell \u001b[0;32mIn[7], line 2\u001b[0m\n\u001b[1;32m      1\u001b[0m \u001b[38;5;66;03m# Generate max and min bounds\u001b[39;00m\n\u001b[0;32m----> 2\u001b[0m nDim \u001b[38;5;241m=\u001b[39m input_masked\u001b[38;5;241m.\u001b[39mshape[\u001b[38;5;241m1\u001b[39m]\n\u001b[1;32m      3\u001b[0m boundsMaxMin \u001b[38;5;241m=\u001b[39m []\n\u001b[1;32m      4\u001b[0m \u001b[38;5;28;01mfor\u001b[39;00m i \u001b[38;5;129;01min\u001b[39;00m \u001b[38;5;28mrange\u001b[39m(nDim):\n",
      "\u001b[0;31mNameError\u001b[0m: name 'input_masked' is not defined"
     ]
    }
   ],
   "source": [
    "# Generate max and min bounds\n",
    "nDim = input_masked.shape[1]\n",
    "boundsMaxMin = []\n",
    "for i in range(nDim):\n",
    "    boundsMaxMin.append([np.min(input_masked.iloc[:,i]),np.max(input_masked.iloc[:,i])])\n",
    "    print(boundsMaxMin[i])"
   ]
  },
  {
   "cell_type": "code",
   "execution_count": null,
   "id": "5b05f92a",
   "metadata": {},
   "outputs": [],
   "source": [
    "##### from SALib.sample import saltelli\n",
    "from SALib.sample import saltelli\n",
    "from SALib.analyze import sobol\n",
    "from SALib.test_functions import Ishigami\n",
    "import numpy as np\n",
    "\n",
    "# Define the model inputs\n",
    "problem = {\n",
    "    'num_vars': nDim,\n",
    "    'names': x_labels,\n",
    "    'bounds': boundsMaxMin\n",
    "    #'bounds': [[-1, 1],\n",
    "     #          [-1, 1],\n",
    "      #         [-1, 1],\n",
    "       #        [-1, 1],\n",
    "        #       [-1, 1],\n",
    "         #      [-1, 1],\n",
    "          #     [-1, 1],\n",
    "           #    [-1, 1],\n",
    "            #   [-1,1]]\n",
    "}\n",
    "\n",
    "# Generate samples\n",
    "param_values = saltelli.sample(problem, 1024)\n",
    "\n",
    "data1 = torch.tensor(param_values)\n",
    "#data1.columns = X_train.columns\n",
    "\n",
    "Ymean=emulator.predict(data1)"
   ]
  },
  {
   "cell_type": "code",
   "execution_count": null,
   "id": "280aaa98",
   "metadata": {},
   "outputs": [],
   "source": [
    "data1.shape"
   ]
  },
  {
   "cell_type": "code",
   "execution_count": null,
   "id": "79378723",
   "metadata": {},
   "outputs": [],
   "source": [
    "Si = []\n",
    "nMod = y_all.shape[1]\n",
    "nDim = input_masked.shape[1]\n",
    "for i in range(nMod):\n",
    "    Si.append(sobol.analyze(problem, Ymean[:,i].detach().numpy(), print_to_console=True,calc_second_order=True))"
   ]
  },
  {
   "cell_type": "code",
   "execution_count": null,
   "id": "be973aac",
   "metadata": {},
   "outputs": [],
   "source": [
    "Si_first=np.zeros((nDim,nMod))\n",
    "Si_total=np.zeros((nDim,nMod))\n",
    "for i in range(nMod):\n",
    "    total_Si, first_Si, second_Si = Si[i].to_df()\n",
    "    Si_first[:,i] =  first_Si.iloc[:,0]\n",
    "    Si_total[:,i] =  total_Si.iloc[:,0]\n"
   ]
  },
  {
   "cell_type": "code",
   "execution_count": null,
   "id": "b6b05bcd",
   "metadata": {},
   "outputs": [],
   "source": [
    "inputs = X_all.columns.tolist()\n",
    "outputs = y_all.columns.tolist()\n",
    "fig, ax = plt.subplots()\n",
    "im = ax.imshow(Si_first[0:28],cmap='magma_r',vmin=0,vmax=1)\n",
    "\n",
    "ax.set_xticks(np.arange(len(outputs)),labels=outputs)\n",
    "ax.set_yticks(np.arange(len(inputs)), labels=inputs)\n",
    "plt.setp(ax.get_xticklabels(), rotation=60, ha=\"right\",\n",
    "         rotation_mode=\"anchor\");\n",
    "\n",
    "plt.colorbar(im,fraction=0.015, pad=0.04)"
   ]
  },
  {
   "cell_type": "code",
   "execution_count": null,
   "id": "1bae98e0",
   "metadata": {
    "scrolled": false
   },
   "outputs": [],
   "source": [
    "inputs = X_all.columns.tolist()\n",
    "outputs = y_all.columns.tolist()\n",
    "fig, ax = plt.subplots()\n",
    "im = ax.imshow(Si_total.T[0:28],cmap='magma_r',vmin=0,vmax=1)\n",
    "\n",
    "ax.set_yticks(np.arange(len(outputs)),labels=outputs)\n",
    "ax.set_xticks(np.arange(len(inputs)), labels=inputs)\n",
    "plt.setp(ax.get_xticklabels(), rotation=65, ha=\"right\",\n",
    "         rotation_mode=\"anchor\");\n",
    "\n",
    "plt.colorbar(im,fraction=0.015, pad=0.04)"
   ]
  },
  {
   "cell_type": "code",
   "execution_count": null,
   "id": "15305bfc",
   "metadata": {},
   "outputs": [],
   "source": [
    "np.savetxt(\"Si_total_EP_\"+str(mesh)+\".csv\", Si_total, delimiter=\",\")\n",
    "np.savetxt(\"Si_first_EP_\"+str(mesh)+\".csv\", Si_first, delimiter=\",\")"
   ]
  },
  {
   "cell_type": "code",
   "execution_count": null,
   "id": "5f939c54",
   "metadata": {},
   "outputs": [],
   "source": []
  }
 ],
 "metadata": {
  "kernelspec": {
   "display_name": "Python 3 (ipykernel)",
   "language": "python",
   "name": "python3"
  },
  "language_info": {
   "codemirror_mode": {
    "name": "ipython",
    "version": 3
   },
   "file_extension": ".py",
   "mimetype": "text/x-python",
   "name": "python",
   "nbconvert_exporter": "python",
   "pygments_lexer": "ipython3",
   "version": "3.11.5"
  }
 },
 "nbformat": 4,
 "nbformat_minor": 5
}
