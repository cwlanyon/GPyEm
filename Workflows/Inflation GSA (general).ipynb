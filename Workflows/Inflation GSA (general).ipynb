{
 "cells": [
  {
   "cell_type": "code",
   "execution_count": 5,
   "id": "5ba866e8",
   "metadata": {},
   "outputs": [],
   "source": [
    "import math\n",
    "import torch\n",
    "import gpytorch\n",
    "import pandas as pd\n",
    "import numpy as np\n",
    "from matplotlib import pyplot as plt\n",
    "\n",
    "from GPyEm import GPE_ensemble as GPE\n",
    "\n",
    "import os\n",
    "from sklearn.linear_model import LinearRegression\n",
    "from sklearn.metrics import mean_squared_error, r2_score\n",
    "from sklearn.model_selection import train_test_split\n",
    "\n",
    "\n",
    "seed = 7\n",
    "#set_seed(seed)"
   ]
  },
  {
   "cell_type": "code",
   "execution_count": 6,
   "id": "8a0090b8",
   "metadata": {},
   "outputs": [],
   "source": [
    "mesh = 54"
   ]
  },
  {
   "cell_type": "code",
   "execution_count": 7,
   "id": "1b63379f-b497-483e-bb5a-490394372150",
   "metadata": {},
   "outputs": [],
   "source": [
    "x_labels=pd.read_csv(r'/Users/pmzcwl/Library/CloudStorage/OneDrive-TheUniversityofNottingham/shared_simulations/mechanics/scenario_12/xlabels.txt',delim_whitespace=True,header=None)"
   ]
  },
  {
   "cell_type": "code",
   "execution_count": 8,
   "id": "c519a04b",
   "metadata": {},
   "outputs": [
    {
     "name": "stdout",
     "output_type": "stream",
     "text": [
      "           0         1         2         3        4        5         6  \\\n",
      "0    2.77049   5.32910   9.17043   7.23675  5.21731  32.2885  11.74730   \n",
      "1    3.61746  12.72040  12.80220   8.35094  2.05551  39.2948  10.69220   \n",
      "2    2.38790   7.65312  14.38840  10.16880  4.06018  28.3848  17.31130   \n",
      "3    3.76219  21.59860  11.81960   3.56951  2.52663  18.8133  10.60980   \n",
      "4    0.83687  10.96490   2.71685   3.73192  3.98974  30.5635   5.18740   \n",
      "..       ...       ...       ...       ...      ...      ...       ...   \n",
      "195  1.57167  20.55250   4.34630   4.02029  4.08107  32.4084  16.89020   \n",
      "196  3.87212  31.39530   3.95767   9.41722  3.54334  16.8671  10.51070   \n",
      "197  1.90693  19.14840   7.64500   4.70468  2.66861  22.9449  19.89110   \n",
      "198  2.88270  17.37540  14.74540  10.00510  4.58641  27.4414   8.65209   \n",
      "199  1.07599   4.21971   8.84592   3.88759  2.23291  12.5012  19.51450   \n",
      "\n",
      "            7         8        9  \n",
      "0    11.25900  0.013097  1.43362  \n",
      "1    11.99220  0.004829  1.53001  \n",
      "2    14.67180  0.047211  1.40449  \n",
      "3    13.70020  0.022132  1.26135  \n",
      "4    12.78330  0.030343  1.12255  \n",
      "..        ...       ...      ...  \n",
      "195   5.07841  0.032830  1.84092  \n",
      "196   9.41181  0.049537  1.68048  \n",
      "197   9.97930  0.006445  1.81205  \n",
      "198   7.70358  0.026859  1.86874  \n",
      "199   9.69607  0.004449  1.69471  \n",
      "\n",
      "[200 rows x 10 columns]\n"
     ]
    }
   ],
   "source": [
    "x_labels=pd.read_csv(r'/Users/pmzcwl/Library/CloudStorage/OneDrive-TheUniversityofNottingham/shared_simulations/mechanics/scenario_12/xlabels.txt',delim_whitespace=True,header=None)\n",
    "\n",
    "X_all = pd.read_csv(r'/Users/pmzcwl/Library/CloudStorage/OneDrive-TheUniversityofNottingham/shared_simulations/mechanics/scenario_'+str(mesh)+'/X.txt',index_col=None,delim_whitespace=True,header=None)\n",
    "# X_all.columns=x_labels.values.squeeze().tolist()\n",
    "print(X_all)"
   ]
  },
  {
   "cell_type": "code",
   "execution_count": 9,
   "id": "302a0b25",
   "metadata": {},
   "outputs": [],
   "source": [
    "mask = pd.read_csv(r'/Users/pmzcwl/Library/CloudStorage/OneDrive-TheUniversityofNottingham/shared_simulations/mechanics/scenario_'+str(mesh)+'/output_mask.txt',index_col=None,delim_whitespace=True,header=None)"
   ]
  },
  {
   "cell_type": "code",
   "execution_count": 10,
   "id": "3e4e1daa",
   "metadata": {},
   "outputs": [
    {
     "data": {
      "text/plain": [
       "0    180\n",
       "dtype: int64"
      ]
     },
     "execution_count": 10,
     "metadata": {},
     "output_type": "execute_result"
    }
   ],
   "source": [
    "np.sum(mask)"
   ]
  },
  {
   "cell_type": "code",
   "execution_count": 11,
   "id": "2ff050cd",
   "metadata": {},
   "outputs": [
    {
     "data": {
      "text/plain": [
       "[<matplotlib.lines.Line2D at 0x2add88710>]"
      ]
     },
     "execution_count": 11,
     "metadata": {},
     "output_type": "execute_result"
    },
    {
     "data": {
      "image/png": "[encoded data removed]",
      "text/plain": [
       "<Figure size 640x480 with 1 Axes>"
      ]
     },
     "metadata": {},
     "output_type": "display_data"
    }
   ],
   "source": [
    "plt.plot(mask,'o')"
   ]
  },
  {
   "cell_type": "code",
   "execution_count": 12,
   "id": "121230ab",
   "metadata": {},
   "outputs": [
    {
     "name": "stdout",
     "output_type": "stream",
     "text": [
      "     $V^{\\mathrm{max}}_{\\mathrm{LV}}$  $V^{\\mathrm{max}}_{\\mathrm{RV}}$  \\\n",
      "0                             255.522                           193.115   \n",
      "1                             249.917                           194.597   \n",
      "2                             249.671                           189.602   \n",
      "3                             250.508                           192.337   \n",
      "4                             282.692                           195.475   \n",
      "..                                ...                               ...   \n",
      "175                           258.376                           193.021   \n",
      "176                           250.162                           192.238   \n",
      "177                           258.070                           195.385   \n",
      "178                           254.143                           195.160   \n",
      "179                           246.347                           192.433   \n",
      "\n",
      "     $V^{\\mathrm{max}}_{\\mathrm{LA}}$  $V^{\\mathrm{max}}_{\\mathrm{RA}}$  \\\n",
      "0                             107.927                           102.611   \n",
      "1                             112.574                           105.236   \n",
      "2                             107.534                           102.111   \n",
      "3                             110.144                           103.077   \n",
      "4                             107.518                           102.120   \n",
      "..                                ...                               ...   \n",
      "175                           107.145                           101.710   \n",
      "176                           108.329                           102.878   \n",
      "177                           110.460                           103.874   \n",
      "178                           108.600                           103.103   \n",
      "179                           109.296                           103.460   \n",
      "\n",
      "     $\\overline{E_{ff,\\mathrm{LV}}}$  $\\overline{E_{ff,\\mathrm{RV}}}$  \\\n",
      "0                           0.016656                         0.013599   \n",
      "1                           0.011405                         0.009085   \n",
      "2                           0.011822                         0.009936   \n",
      "3                           0.011573                         0.010788   \n",
      "4                           0.037741                         0.041172   \n",
      "..                               ...                              ...   \n",
      "175                         0.019300                         0.020590   \n",
      "176                         0.011158                         0.009954   \n",
      "177                         0.017775                         0.014113   \n",
      "178                         0.012889                         0.011248   \n",
      "179                         0.008686                         0.008431   \n",
      "\n",
      "     $\\overline{E_{ff,\\mathrm{LA}}}$  $\\overline{E_{ff,\\mathrm{RA}}}$  \\\n",
      "0                           0.009347                         0.003112   \n",
      "1                           0.019815                         0.009885   \n",
      "2                           0.009449                         0.002685   \n",
      "3                           0.017748                         0.006636   \n",
      "4                           0.010095                         0.002122   \n",
      "..                               ...                              ...   \n",
      "175                         0.008629                         0.001530   \n",
      "176                         0.011107                         0.003949   \n",
      "177                         0.015073                         0.006294   \n",
      "178                         0.012105                         0.004463   \n",
      "179                         0.011901                         0.005400   \n",
      "\n",
      "     $\\overline{E_{ff,\\mathrm{V}}}$  $\\overline{E_{ff,\\mathrm{A}}}$  \n",
      "0                          0.016096                        0.006405  \n",
      "1                          0.010961                        0.015178  \n",
      "2                          0.011491                        0.006288  \n",
      "3                          0.011428                        0.012660  \n",
      "4                          0.038265                        0.006383  \n",
      "..                              ...                             ...  \n",
      "175                        0.019516                        0.005468  \n",
      "176                        0.010922                        0.007609  \n",
      "177                        0.017098                        0.010997  \n",
      "178                        0.012561                        0.008455  \n",
      "179                        0.008608                        0.008844  \n",
      "\n",
      "[180 rows x 10 columns]\n"
     ]
    }
   ],
   "source": [
    "y_labels=pd.read_csv(r'/Users/pmzcwl/Library/CloudStorage/OneDrive-TheUniversityofNottingham/shared_simulations/mechanics/scenario_12/ylabels.txt',delim_whitespace=True,header=None)\n",
    "\n",
    "\n",
    "y_all = pd.read_csv(r'/Users/pmzcwl/Library/CloudStorage/OneDrive-TheUniversityofNottingham/shared_simulations/mechanics/scenario_'+str(mesh)+'/Y.txt',index_col=None,delim_whitespace=True,header=None)\n",
    "y_all.columns=y_labels.values.squeeze().tolist()\n",
    "print(y_all)"
   ]
  },
  {
   "cell_type": "code",
   "execution_count": 13,
   "id": "619d42f4",
   "metadata": {},
   "outputs": [],
   "source": [
    "input_masked = X_all.copy()"
   ]
  },
  {
   "cell_type": "code",
   "execution_count": 14,
   "id": "110b9938",
   "metadata": {},
   "outputs": [],
   "source": [
    "input_masked = X_all.copy().iloc[0:mask.shape[0]]\n",
    "input_masked=input_masked.iloc[np.array(mask==1),]\n",
    "y_all=y_all.iloc[np.array(mask==1),]\n",
    "input_masked.index = y_all.index"
   ]
  },
  {
   "cell_type": "code",
   "execution_count": 15,
   "id": "50a91180",
   "metadata": {},
   "outputs": [],
   "source": [
    "y_train = torch.tensor(y_all.values)\n",
    "x_train = torch.tensor(input_masked.values)"
   ]
  },
  {
   "cell_type": "code",
   "execution_count": 16,
   "id": "670120df",
   "metadata": {},
   "outputs": [
    {
     "name": "stdout",
     "output_type": "stream",
     "text": [
      "0\n",
      "1\n",
      "2\n",
      "3\n",
      "4\n",
      "5\n",
      "6\n",
      "7\n",
      "8\n",
      "9\n"
     ]
    }
   ],
   "source": [
    "emulator = GPE.ensemble(x_train,y_train,mean_func=\"linear\",training_iter=500)"
   ]
  },
  {
   "cell_type": "code",
   "execution_count": 17,
   "id": "0a066022",
   "metadata": {},
   "outputs": [
    {
     "name": "stdout",
     "output_type": "stream",
     "text": [
      "[0.503218, 4.98092]\n",
      "[2.00623, 31.9479]\n",
      "[1.06893, 15.9664]\n",
      "[0.7678, 11.9495]\n",
      "[1.50603, 5.99704]\n",
      "[10.1435, 39.8584]\n",
      "[5.04584, 19.9778]\n",
      "[3.76184, 14.9855]\n",
      "[0.000669586, 0.0499096]\n",
      "[1.00128, 1.99595]\n"
     ]
    }
   ],
   "source": [
    "nDim = input_masked.shape[1]\n",
    "boundsMaxMin = []\n",
    "for i in range(nDim):\n",
    "    boundsMaxMin.append([np.min(input_masked.iloc[:,i]),np.max(input_masked.iloc[:,i])])\n",
    "    print(boundsMaxMin[i])"
   ]
  },
  {
   "cell_type": "code",
   "execution_count": 18,
   "id": "2bd0836e",
   "metadata": {},
   "outputs": [],
   "source": [
    "x_labels=[1,2,3,4,5,6,7,8,9,10]"
   ]
  },
  {
   "cell_type": "code",
   "execution_count": 26,
   "id": "5b05f92a",
   "metadata": {},
   "outputs": [
    {
     "name": "stderr",
     "output_type": "stream",
     "text": [
      "/var/folders/_j/ptyc01811q5b1dg30hshtfzh0000gr/T/ipykernel_31843/3331121088.py:24: DeprecationWarning: `salib.sample.saltelli` will be removed in SALib 1.5. Please use `salib.sample.sobol`\n",
      "  param_values = saltelli.sample(problem, 1024)\n"
     ]
    }
   ],
   "source": [
    "##### from SALib.sample import saltelli\n",
    "from SALib.sample import saltelli\n",
    "from SALib.analyze import sobol\n",
    "from SALib.test_functions import Ishigami\n",
    "import numpy as np\n",
    "\n",
    "# Define the model inputs\n",
    "problem = {\n",
    "    'num_vars': nDim,\n",
    "    'names': x_labels,\n",
    "    'bounds': boundsMaxMin\n",
    "    #'bounds': [[-1, 1],\n",
    "     #          [-1, 1],\n",
    "      #         [-1, 1],\n",
    "       #        [-1, 1],\n",
    "        #       [-1, 1],\n",
    "         #      [-1, 1],\n",
    "          #     [-1, 1],\n",
    "           #    [-1, 1],\n",
    "            #   [-1,1]]\n",
    "}\n",
    "\n",
    "# Generate samples\n",
    "param_values = saltelli.sample(problem, 1024)\n",
    "\n",
    "data1 = torch.tensor(param_values)\n",
    "#data1.columns = X_train.columns\n",
    "\n",
    "Ymean=emulator.predict_sample(data1,n=1)"
   ]
  },
  {
   "cell_type": "code",
   "execution_count": 27,
   "id": "182d0e09-0a20-4893-a766-10771da1aade",
   "metadata": {},
   "outputs": [],
   "source": [
    "Si = [[],[],[]]\n",
    "nMod = y_all.shape[1]\n",
    "Si = [[]]*nMod"
   ]
  },
  {
   "cell_type": "code",
   "execution_count": 28,
   "id": "d2c9d70c-b1d4-44a5-b358-bdb7a6e5bd3a",
   "metadata": {},
   "outputs": [
    {
     "data": {
      "text/plain": [
       "[[], [], [], [], [], [], [], [], [], []]"
      ]
     },
     "execution_count": 28,
     "metadata": {},
     "output_type": "execute_result"
    }
   ],
   "source": [
    "Si"
   ]
  },
  {
   "cell_type": "code",
   "execution_count": 29,
   "id": "c36bd820-5eeb-4fe4-8080-2c2bb1d9fd8c",
   "metadata": {},
   "outputs": [
    {
     "data": {
      "text/plain": [
       "torch.Size([22528, 1, 10])"
      ]
     },
     "execution_count": 29,
     "metadata": {},
     "output_type": "execute_result"
    }
   ],
   "source": [
    "Ymean.shape"
   ]
  },
  {
   "cell_type": "code",
   "execution_count": 52,
   "id": "0e36c54c-d17f-43ab-89b1-fbce133c2fcb",
   "metadata": {},
   "outputs": [
    {
     "data": {
      "text/plain": [
       "tensor([[0.0291],\n",
       "        [0.0067],\n",
       "        [0.0236],\n",
       "        ...,\n",
       "        [0.0057],\n",
       "        [0.0071],\n",
       "        [0.0110]])"
      ]
     },
     "execution_count": 52,
     "metadata": {},
     "output_type": "execute_result"
    }
   ],
   "source": [
    "Ymean[:,:,5]"
   ]
  },
  {
   "cell_type": "code",
   "execution_count": 100,
   "id": "4d49afc0-d245-4bad-b53c-65aa277bd6dd",
   "metadata": {},
   "outputs": [],
   "source": [
    "Si = [[],[]]"
   ]
  },
  {
   "cell_type": "code",
   "execution_count": 101,
   "id": "6eecbe61-4b5d-4d9e-812e-757a1630ad04",
   "metadata": {},
   "outputs": [],
   "source": [
    "Si[1].append(0)"
   ]
  },
  {
   "cell_type": "code",
   "execution_count": 102,
   "id": "4bd4f193-ed8b-44c5-9270-53869fa12672",
   "metadata": {},
   "outputs": [
    {
     "data": {
      "text/plain": [
       "[[], [0]]"
      ]
     },
     "execution_count": 102,
     "metadata": {},
     "output_type": "execute_result"
    }
   ],
   "source": [
    "Si"
   ]
  },
  {
   "cell_type": "code",
   "execution_count": 104,
   "id": "79378723",
   "metadata": {
    "scrolled": true
   },
   "outputs": [
    {
     "name": "stdout",
     "output_type": "stream",
     "text": [
      "0\n",
      "0\n"
     ]
    }
   ],
   "source": [
    "nMod = y_all.shape[1]\n",
    "Si = [ [] for _ in range(nMod) ]\n",
    "nDim = input_masked.shape[1]\n",
    "print(len(Si[0]))\n",
    "for j in range(Ymean.shape[1]):\n",
    "    print(j)\n",
    "    for i in range(nMod):\n",
    "        Si[i].append(sobol.analyze(problem, Ymean[:,j,i].detach().numpy(), print_to_console=False,calc_second_order=True))\n"
   ]
  },
  {
   "cell_type": "code",
   "execution_count": 105,
   "id": "be973aac",
   "metadata": {},
   "outputs": [],
   "source": [
    "Si_first=np.zeros((nDim,nMod))\n",
    "Si_total=np.zeros((nDim,nMod))\n",
    "\n",
    "for j in range(Ymean.shape[1]):\n",
    "    for i in range(nMod):\n",
    "        total_Si, first_Si, second_Si = Si[i][j].to_df()\n",
    "        Si_first[:,i] +=  first_Si.iloc[:,0]/Ymean.shape[1]\n",
    "        Si_total[:,i] +=  total_Si.iloc[:,0]/Ymean.shape[1]\n"
   ]
  },
  {
   "cell_type": "code",
   "execution_count": 106,
   "id": "4191ee68-cf07-4b44-8a49-131fe9341b3c",
   "metadata": {},
   "outputs": [
    {
     "data": {
      "text/html": [
       "<div>\n",
       "<style scoped>\n",
       "    .dataframe tbody tr th:only-of-type {\n",
       "        vertical-align: middle;\n",
       "    }\n",
       "\n",
       "    .dataframe tbody tr th {\n",
       "        vertical-align: top;\n",
       "    }\n",
       "\n",
       "    .dataframe thead th {\n",
       "        text-align: right;\n",
       "    }\n",
       "</style>\n",
       "<table border=\"1\" class=\"dataframe\">\n",
       "  <thead>\n",
       "    <tr style=\"text-align: right;\">\n",
       "      <th></th>\n",
       "      <th>ST</th>\n",
       "      <th>ST_conf</th>\n",
       "    </tr>\n",
       "  </thead>\n",
       "  <tbody>\n",
       "    <tr>\n",
       "      <th>1</th>\n",
       "      <td>0.629311</td>\n",
       "      <td>0.066163</td>\n",
       "    </tr>\n",
       "    <tr>\n",
       "      <th>2</th>\n",
       "      <td>0.135973</td>\n",
       "      <td>0.018910</td>\n",
       "    </tr>\n",
       "    <tr>\n",
       "      <th>3</th>\n",
       "      <td>0.001918</td>\n",
       "      <td>0.000288</td>\n",
       "    </tr>\n",
       "    <tr>\n",
       "      <th>4</th>\n",
       "      <td>0.214533</td>\n",
       "      <td>0.024502</td>\n",
       "    </tr>\n",
       "    <tr>\n",
       "      <th>5</th>\n",
       "      <td>0.000857</td>\n",
       "      <td>0.000143</td>\n",
       "    </tr>\n",
       "    <tr>\n",
       "      <th>6</th>\n",
       "      <td>0.000558</td>\n",
       "      <td>0.000080</td>\n",
       "    </tr>\n",
       "    <tr>\n",
       "      <th>7</th>\n",
       "      <td>0.000521</td>\n",
       "      <td>0.000085</td>\n",
       "    </tr>\n",
       "    <tr>\n",
       "      <th>8</th>\n",
       "      <td>0.000226</td>\n",
       "      <td>0.000039</td>\n",
       "    </tr>\n",
       "    <tr>\n",
       "      <th>9</th>\n",
       "      <td>0.098913</td>\n",
       "      <td>0.018046</td>\n",
       "    </tr>\n",
       "    <tr>\n",
       "      <th>10</th>\n",
       "      <td>0.000422</td>\n",
       "      <td>0.000062</td>\n",
       "    </tr>\n",
       "  </tbody>\n",
       "</table>\n",
       "</div>"
      ],
      "text/plain": [
       "          ST   ST_conf\n",
       "1   0.629311  0.066163\n",
       "2   0.135973  0.018910\n",
       "3   0.001918  0.000288\n",
       "4   0.214533  0.024502\n",
       "5   0.000857  0.000143\n",
       "6   0.000558  0.000080\n",
       "7   0.000521  0.000085\n",
       "8   0.000226  0.000039\n",
       "9   0.098913  0.018046\n",
       "10  0.000422  0.000062"
      ]
     },
     "execution_count": 106,
     "metadata": {},
     "output_type": "execute_result"
    }
   ],
   "source": [
    "Si[4][j].to_df()[0]"
   ]
  },
  {
   "cell_type": "code",
   "execution_count": 107,
   "id": "dce4441b",
   "metadata": {},
   "outputs": [],
   "source": [
    "# x_labels.values.squeeze().tolist()"
   ]
  },
  {
   "cell_type": "code",
   "execution_count": 108,
   "id": "e263f1fa",
   "metadata": {},
   "outputs": [
    {
     "data": {
      "text/plain": [
       "['$V^{\\\\mathrm{max}}_{\\\\mathrm{LV}}$',\n",
       " '$V^{\\\\mathrm{max}}_{\\\\mathrm{RV}}$',\n",
       " '$V^{\\\\mathrm{max}}_{\\\\mathrm{LA}}$',\n",
       " '$V^{\\\\mathrm{max}}_{\\\\mathrm{RA}}$',\n",
       " '$\\\\overline{E_{ff,\\\\mathrm{LV}}}$',\n",
       " '$\\\\overline{E_{ff,\\\\mathrm{RV}}}$',\n",
       " '$\\\\overline{E_{ff,\\\\mathrm{LA}}}$',\n",
       " '$\\\\overline{E_{ff,\\\\mathrm{RA}}}$',\n",
       " '$\\\\overline{E_{ff,\\\\mathrm{V}}}$',\n",
       " '$\\\\overline{E_{ff,\\\\mathrm{A}}}$']"
      ]
     },
     "execution_count": 108,
     "metadata": {},
     "output_type": "execute_result"
    }
   ],
   "source": [
    "y_all.columns.tolist()"
   ]
  },
  {
   "cell_type": "code",
   "execution_count": 109,
   "id": "b6b05bcd",
   "metadata": {},
   "outputs": [
    {
     "data": {
      "text/plain": [
       "<matplotlib.colorbar.Colorbar at 0x428a988d0>"
      ]
     },
     "execution_count": 109,
     "metadata": {},
     "output_type": "execute_result"
    },
    {
     "data": {
      "image/png": "[encoded data removed]",
      "text/plain": [
       "<Figure size 640x480 with 2 Axes>"
      ]
     },
     "metadata": {},
     "output_type": "display_data"
    }
   ],
   "source": [
    "inputs = X_all.columns.tolist()\n",
    "outputs = y_all.columns.tolist()\n",
    "fig, ax = plt.subplots()\n",
    "im = ax.imshow(Si_first[0:28],cmap='magma_r',vmin=0,vmax=1)\n",
    "\n",
    "ax.set_xticks(np.arange(len(outputs)),labels=outputs)\n",
    "ax.set_yticks(np.arange(len(inputs)), labels=inputs)\n",
    "plt.setp(ax.get_xticklabels(), rotation=60, ha=\"right\",\n",
    "         rotation_mode=\"anchor\");\n",
    "\n",
    "plt.colorbar(im,fraction=0.015, pad=0.04)"
   ]
  },
  {
   "cell_type": "code",
   "execution_count": 111,
   "id": "1bae98e0",
   "metadata": {},
   "outputs": [
    {
     "data": {
      "text/plain": [
       "<matplotlib.colorbar.Colorbar at 0x42b73f190>"
      ]
     },
     "execution_count": 111,
     "metadata": {},
     "output_type": "execute_result"
    },
    {
     "data": {
      "image/png": "[encoded data removed]",
      "text/plain": [
       "<Figure size 640x480 with 2 Axes>"
      ]
     },
     "metadata": {},
     "output_type": "display_data"
    }
   ],
   "source": [
    "inputs = X_all.columns.tolist()\n",
    "outputs = y_all.columns.tolist()\n",
    "fig, ax = plt.subplots()\n",
    "im = ax.imshow(Si_total.T[0:28],cmap='magma_r',vmin=0,vmax=1)\n",
    "\n",
    "ax.set_yticks(np.arange(len(outputs)),labels=outputs)\n",
    "ax.set_xticks(np.arange(len(inputs)), labels=inputs)\n",
    "plt.setp(ax.get_xticklabels(), rotation=65, ha=\"right\",\n",
    "         rotation_mode=\"anchor\");\n",
    "\n",
    "plt.colorbar(im,fraction=0.015, pad=0.04)"
   ]
  },
  {
   "cell_type": "code",
   "execution_count": 26,
   "id": "42f6211d",
   "metadata": {},
   "outputs": [],
   "source": [
    "np.savetxt(\"Si_total_mech_\"+str(mesh)+\".csv\", Si_total, delimiter=\",\")\n",
    "np.savetxt(\"Si_first_mech_\"+str(mesh)+\".csv\", Si_first, delimiter=\",\")"
   ]
  },
  {
   "cell_type": "markdown",
   "id": "bb712221",
   "metadata": {},
   "source": []
  },
  {
   "cell_type": "code",
   "execution_count": null,
   "id": "d231b0b1-cad0-40b7-8131-5016c5f84a8b",
   "metadata": {},
   "outputs": [],
   "source": []
  },
  {
   "cell_type": "code",
   "execution_count": 112,
   "id": "5f72e1a9-742e-43c5-ba5b-09a25b62859d",
   "metadata": {},
   "outputs": [
    {
     "name": "stdout",
     "output_type": "stream",
     "text": [
      "           0         1         2         3        4        5         6  \\\n",
      "0    2.77049   5.32910   9.17043   7.23675  5.21731  32.2885  11.74730   \n",
      "1    3.61746  12.72040  12.80220   8.35094  2.05551  39.2948  10.69220   \n",
      "2    2.38790   7.65312  14.38840  10.16880  4.06018  28.3848  17.31130   \n",
      "3    3.76219  21.59860  11.81960   3.56951  2.52663  18.8133  10.60980   \n",
      "4    0.83687  10.96490   2.71685   3.73192  3.98974  30.5635   5.18740   \n",
      "..       ...       ...       ...       ...      ...      ...       ...   \n",
      "195  1.57167  20.55250   4.34630   4.02029  4.08107  32.4084  16.89020   \n",
      "196  3.87212  31.39530   3.95767   9.41722  3.54334  16.8671  10.51070   \n",
      "197  1.90693  19.14840   7.64500   4.70468  2.66861  22.9449  19.89110   \n",
      "198  2.88270  17.37540  14.74540  10.00510  4.58641  27.4414   8.65209   \n",
      "199  1.07599   4.21971   8.84592   3.88759  2.23291  12.5012  19.51450   \n",
      "\n",
      "            7         8        9  \n",
      "0    11.25900  0.013097  1.43362  \n",
      "1    11.99220  0.004829  1.53001  \n",
      "2    14.67180  0.047211  1.40449  \n",
      "3    13.70020  0.022132  1.26135  \n",
      "4    12.78330  0.030343  1.12255  \n",
      "..        ...       ...      ...  \n",
      "195   5.07841  0.032830  1.84092  \n",
      "196   9.41181  0.049537  1.68048  \n",
      "197   9.97930  0.006445  1.81205  \n",
      "198   7.70358  0.026859  1.86874  \n",
      "199   9.69607  0.004449  1.69471  \n",
      "\n",
      "[200 rows x 10 columns]\n",
      "     $V^{\\mathrm{max}}_{\\mathrm{LV}}$  $V^{\\mathrm{max}}_{\\mathrm{RV}}$  \\\n",
      "0                             255.522                           193.115   \n",
      "1                             249.917                           194.597   \n",
      "2                             249.671                           189.602   \n",
      "3                             250.508                           192.337   \n",
      "4                             282.692                           195.475   \n",
      "..                                ...                               ...   \n",
      "175                           258.376                           193.021   \n",
      "176                           250.162                           192.238   \n",
      "177                           258.070                           195.385   \n",
      "178                           254.143                           195.160   \n",
      "179                           246.347                           192.433   \n",
      "\n",
      "     $V^{\\mathrm{max}}_{\\mathrm{LA}}$  $V^{\\mathrm{max}}_{\\mathrm{RA}}$  \\\n",
      "0                             107.927                           102.611   \n",
      "1                             112.574                           105.236   \n",
      "2                             107.534                           102.111   \n",
      "3                             110.144                           103.077   \n",
      "4                             107.518                           102.120   \n",
      "..                                ...                               ...   \n",
      "175                           107.145                           101.710   \n",
      "176                           108.329                           102.878   \n",
      "177                           110.460                           103.874   \n",
      "178                           108.600                           103.103   \n",
      "179                           109.296                           103.460   \n",
      "\n",
      "     $\\overline{E_{ff,\\mathrm{LV}}}$  $\\overline{E_{ff,\\mathrm{RV}}}$  \\\n",
      "0                           0.016656                         0.013599   \n",
      "1                           0.011405                         0.009085   \n",
      "2                           0.011822                         0.009936   \n",
      "3                           0.011573                         0.010788   \n",
      "4                           0.037741                         0.041172   \n",
      "..                               ...                              ...   \n",
      "175                         0.019300                         0.020590   \n",
      "176                         0.011158                         0.009954   \n",
      "177                         0.017775                         0.014113   \n",
      "178                         0.012889                         0.011248   \n",
      "179                         0.008686                         0.008431   \n",
      "\n",
      "     $\\overline{E_{ff,\\mathrm{LA}}}$  $\\overline{E_{ff,\\mathrm{RA}}}$  \\\n",
      "0                           0.009347                         0.003112   \n",
      "1                           0.019815                         0.009885   \n",
      "2                           0.009449                         0.002685   \n",
      "3                           0.017748                         0.006636   \n",
      "4                           0.010095                         0.002122   \n",
      "..                               ...                              ...   \n",
      "175                         0.008629                         0.001530   \n",
      "176                         0.011107                         0.003949   \n",
      "177                         0.015073                         0.006294   \n",
      "178                         0.012105                         0.004463   \n",
      "179                         0.011901                         0.005400   \n",
      "\n",
      "     $\\overline{E_{ff,\\mathrm{V}}}$  $\\overline{E_{ff,\\mathrm{A}}}$  \n",
      "0                          0.016096                        0.006405  \n",
      "1                          0.010961                        0.015178  \n",
      "2                          0.011491                        0.006288  \n",
      "3                          0.011428                        0.012660  \n",
      "4                          0.038265                        0.006383  \n",
      "..                              ...                             ...  \n",
      "175                        0.019516                        0.005468  \n",
      "176                        0.010922                        0.007609  \n",
      "177                        0.017098                        0.010997  \n",
      "178                        0.012561                        0.008455  \n",
      "179                        0.008608                        0.008844  \n",
      "\n",
      "[180 rows x 10 columns]\n",
      "0\n",
      "1\n",
      "2\n",
      "3\n",
      "4\n",
      "5\n",
      "6\n",
      "7\n",
      "8\n",
      "9\n",
      "[0.503218, 4.98092]\n",
      "[2.00623, 31.9479]\n",
      "[1.06893, 15.9664]\n",
      "[0.7678, 11.9495]\n",
      "[1.50603, 5.99704]\n",
      "[10.1435, 39.8584]\n",
      "[5.04584, 19.9778]\n",
      "[3.76184, 14.9855]\n",
      "[0.000669586, 0.0499096]\n",
      "[1.00128, 1.99595]\n"
     ]
    },
    {
     "name": "stderr",
     "output_type": "stream",
     "text": [
      "/var/folders/_j/ptyc01811q5b1dg30hshtfzh0000gr/T/ipykernel_31843/1279011886.py:61: DeprecationWarning: `salib.sample.saltelli` will be removed in SALib 1.5. Please use `salib.sample.sobol`\n",
      "  param_values = saltelli.sample(problem, 1024)\n"
     ]
    },
    {
     "name": "stdout",
     "output_type": "stream",
     "text": [
      "           0         1         2         3        4        5         6  \\\n",
      "0    2.77049   5.32910   9.17043   7.23675  5.21731  32.2885  11.74730   \n",
      "1    3.61746  12.72040  12.80220   8.35094  2.05551  39.2948  10.69220   \n",
      "2    2.38790   7.65312  14.38840  10.16880  4.06018  28.3848  17.31130   \n",
      "3    3.76219  21.59860  11.81960   3.56951  2.52663  18.8133  10.60980   \n",
      "4    0.83687  10.96490   2.71685   3.73192  3.98974  30.5635   5.18740   \n",
      "..       ...       ...       ...       ...      ...      ...       ...   \n",
      "195  1.57167  20.55250   4.34630   4.02029  4.08107  32.4084  16.89020   \n",
      "196  3.87212  31.39530   3.95767   9.41722  3.54334  16.8671  10.51070   \n",
      "197  1.90693  19.14840   7.64500   4.70468  2.66861  22.9449  19.89110   \n",
      "198  2.88270  17.37540  14.74540  10.00510  4.58641  27.4414   8.65209   \n",
      "199  1.07599   4.21971   8.84592   3.88759  2.23291  12.5012  19.51450   \n",
      "\n",
      "            7         8        9  \n",
      "0    11.25900  0.013097  1.43362  \n",
      "1    11.99220  0.004829  1.53001  \n",
      "2    14.67180  0.047211  1.40449  \n",
      "3    13.70020  0.022132  1.26135  \n",
      "4    12.78330  0.030343  1.12255  \n",
      "..        ...       ...      ...  \n",
      "195   5.07841  0.032830  1.84092  \n",
      "196   9.41181  0.049537  1.68048  \n",
      "197   9.97930  0.006445  1.81205  \n",
      "198   7.70358  0.026859  1.86874  \n",
      "199   9.69607  0.004449  1.69471  \n",
      "\n",
      "[200 rows x 10 columns]\n",
      "     $V^{\\mathrm{max}}_{\\mathrm{LV}}$  $V^{\\mathrm{max}}_{\\mathrm{RV}}$  \\\n",
      "0                             140.894                           114.203   \n",
      "1                             137.680                           114.390   \n",
      "2                             137.855                           112.498   \n",
      "3                             138.172                           113.723   \n",
      "4                             158.765                           114.478   \n",
      "..                                ...                               ...   \n",
      "175                           142.490                           114.054   \n",
      "176                           138.082                           113.611   \n",
      "177                           142.112                           115.286   \n",
      "178                           140.060                           115.038   \n",
      "179                           136.005                           113.523   \n",
      "\n",
      "     $V^{\\mathrm{max}}_{\\mathrm{LA}}$  $V^{\\mathrm{max}}_{\\mathrm{RA}}$  \\\n",
      "0                             61.1665                           56.2549   \n",
      "1                             63.9355                           57.3555   \n",
      "2                             60.8612                           56.0045   \n",
      "3                             62.4746                           56.4773   \n",
      "4                             61.0280                           56.0388   \n",
      "..                                ...                               ...   \n",
      "175                           60.6360                           55.8553   \n",
      "176                           61.3981                           56.3845   \n",
      "177                           62.6493                           56.7812   \n",
      "178                           61.5433                           56.4675   \n",
      "179                           61.8964                           56.5755   \n",
      "\n",
      "     $\\overline{E_{ff,\\mathrm{LV}}}$  $\\overline{E_{ff,\\mathrm{RV}}}$  \\\n",
      "0                           0.013586                         0.007624   \n",
      "1                           0.009009                         0.005570   \n",
      "2                           0.009751                         0.005295   \n",
      "3                           0.009362                         0.006215   \n",
      "4                           0.034743                         0.021740   \n",
      "..                               ...                              ...   \n",
      "175                         0.015911                         0.010181   \n",
      "176                         0.009152                         0.005799   \n",
      "177                         0.014388                         0.008334   \n",
      "178                         0.010402                         0.006792   \n",
      "179                         0.006984                         0.004991   \n",
      "\n",
      "     $\\overline{E_{ff,\\mathrm{LA}}}$  $\\overline{E_{ff,\\mathrm{RA}}}$  \\\n",
      "0                           0.008085                         0.001009   \n",
      "1                           0.018031                         0.003812   \n",
      "2                           0.007833                         0.000595   \n",
      "3                           0.015488                         0.002095   \n",
      "4                           0.008252                         0.000485   \n",
      "..                               ...                              ...   \n",
      "175                         0.007198                         0.000120   \n",
      "176                         0.009463                         0.001398   \n",
      "177                         0.013350                         0.002275   \n",
      "178                         0.010730                         0.001753   \n",
      "179                         0.010337                         0.001899   \n",
      "\n",
      "     $\\overline{E_{ff,\\mathrm{V}}}$  $\\overline{E_{ff,\\mathrm{A}}}$  \n",
      "0                          0.012383                        0.003247  \n",
      "1                          0.008304                        0.008508  \n",
      "2                          0.008856                        0.002892  \n",
      "3                          0.008729                        0.006427  \n",
      "4                          0.032136                        0.002850  \n",
      "..                              ...                             ...  \n",
      "175                        0.014765                        0.002329  \n",
      "176                        0.008470                        0.003958  \n",
      "177                        0.013160                        0.005859  \n",
      "178                        0.009660                        0.004638  \n",
      "179                        0.006574                        0.004655  \n",
      "\n",
      "[180 rows x 10 columns]\n",
      "0\n",
      "1\n",
      "2\n",
      "3\n",
      "4\n",
      "5\n",
      "6\n",
      "7\n",
      "8\n",
      "9\n",
      "[0.503218, 4.98092]\n",
      "[2.00623, 31.9479]\n",
      "[1.06893, 15.9664]\n",
      "[0.7678, 11.9495]\n",
      "[1.50603, 5.99704]\n",
      "[10.1435, 39.8584]\n",
      "[5.04584, 19.9778]\n",
      "[3.76184, 14.9855]\n",
      "[0.000669586, 0.0499096]\n",
      "[1.00128, 1.99595]\n"
     ]
    },
    {
     "name": "stderr",
     "output_type": "stream",
     "text": [
      "/var/folders/_j/ptyc01811q5b1dg30hshtfzh0000gr/T/ipykernel_31843/1279011886.py:61: DeprecationWarning: `salib.sample.saltelli` will be removed in SALib 1.5. Please use `salib.sample.sobol`\n",
      "  param_values = saltelli.sample(problem, 1024)\n"
     ]
    },
    {
     "name": "stdout",
     "output_type": "stream",
     "text": [
      "           0         1         2         3        4        5         6  \\\n",
      "0    2.77049   5.32910   9.17043   7.23675  5.21731  32.2885  11.74730   \n",
      "1    3.61746  12.72040  12.80220   8.35094  2.05551  39.2948  10.69220   \n",
      "2    2.38790   7.65312  14.38840  10.16880  4.06018  28.3848  17.31130   \n",
      "3    3.76219  21.59860  11.81960   3.56951  2.52663  18.8133  10.60980   \n",
      "4    0.83687  10.96490   2.71685   3.73192  3.98974  30.5635   5.18740   \n",
      "..       ...       ...       ...       ...      ...      ...       ...   \n",
      "195  1.57167  20.55250   4.34630   4.02029  4.08107  32.4084  16.89020   \n",
      "196  3.87212  31.39530   3.95767   9.41722  3.54334  16.8671  10.51070   \n",
      "197  1.90693  19.14840   7.64500   4.70468  2.66861  22.9449  19.89110   \n",
      "198  2.88270  17.37540  14.74540  10.00510  4.58641  27.4414   8.65209   \n",
      "199  1.07599   4.21971   8.84592   3.88759  2.23291  12.5012  19.51450   \n",
      "\n",
      "            7         8        9  \n",
      "0    11.25900  0.013097  1.43362  \n",
      "1    11.99220  0.004829  1.53001  \n",
      "2    14.67180  0.047211  1.40449  \n",
      "3    13.70020  0.022132  1.26135  \n",
      "4    12.78330  0.030343  1.12255  \n",
      "..        ...       ...      ...  \n",
      "195   5.07841  0.032830  1.84092  \n",
      "196   9.41181  0.049537  1.68048  \n",
      "197   9.97930  0.006445  1.81205  \n",
      "198   7.70358  0.026859  1.86874  \n",
      "199   9.69607  0.004449  1.69471  \n",
      "\n",
      "[200 rows x 10 columns]\n",
      "     $V^{\\mathrm{max}}_{\\mathrm{LV}}$  $V^{\\mathrm{max}}_{\\mathrm{RV}}$  \\\n",
      "0                             157.011                           156.227   \n",
      "1                             153.322                           157.143   \n",
      "2                             153.189                           153.986   \n",
      "3                               0.000                             0.000   \n",
      "4                               0.000                             0.000   \n",
      "..                                ...                               ...   \n",
      "175                           158.708                           155.495   \n",
      "176                           153.523                           155.867   \n",
      "177                           158.517                           157.738   \n",
      "178                             0.000                             0.000   \n",
      "179                           151.034                           155.936   \n",
      "\n",
      "     $V^{\\mathrm{max}}_{\\mathrm{LA}}$  $V^{\\mathrm{max}}_{\\mathrm{RA}}$  \\\n",
      "0                             76.3886                           72.5668   \n",
      "1                             80.4422                           73.9293   \n",
      "2                             76.0076                           72.2287   \n",
      "3                              0.0000                            0.0000   \n",
      "4                              0.0000                            0.0000   \n",
      "..                                ...                               ...   \n",
      "175                           75.7580                           72.1169   \n",
      "176                           76.5914                           72.7585   \n",
      "177                           78.6255                           73.2122   \n",
      "178                            0.0000                            0.0000   \n",
      "179                           77.4570                           73.0242   \n",
      "\n",
      "     $\\overline{E_{ff,\\mathrm{LV}}}$  $\\overline{E_{ff,\\mathrm{RV}}}$  \\\n",
      "0                           0.020074                         0.008156   \n",
      "1                           0.013790                         0.005637   \n",
      "2                           0.014352                         0.005933   \n",
      "3                           0.000000                         0.000000   \n",
      "4                           0.000000                         0.000000   \n",
      "..                               ...                              ...   \n",
      "175                         0.023056                         0.011552   \n",
      "176                         0.013557                         0.006035   \n",
      "177                         0.021070                         0.008519   \n",
      "178                         0.000000                         0.000000   \n",
      "179                         0.010486                         0.005200   \n",
      "\n",
      "     $\\overline{E_{ff,\\mathrm{LA}}}$  $\\overline{E_{ff,\\mathrm{RA}}}$  \\\n",
      "0                           0.008538                         0.001899   \n",
      "1                           0.019098                         0.005686   \n",
      "2                           0.008794                         0.001455   \n",
      "3                           0.000000                         0.000000   \n",
      "4                           0.000000                         0.000000   \n",
      "..                               ...                              ...   \n",
      "175                         0.008473                         0.001064   \n",
      "176                         0.009618                         0.002363   \n",
      "177                         0.014291                         0.003754   \n",
      "178                         0.000000                         0.000000   \n",
      "179                         0.011034                         0.003025   \n",
      "\n",
      "     $\\overline{E_{ff,\\mathrm{V}}}$  $\\overline{E_{ff,\\mathrm{A}}}$  \n",
      "0                          0.015633                        0.004392  \n",
      "1                          0.010708                        0.010966  \n",
      "2                          0.011240                        0.004212  \n",
      "3                          0.000000                        0.000000  \n",
      "4                          0.000000                        0.000000  \n",
      "..                              ...                             ...  \n",
      "175                        0.018852                        0.003766  \n",
      "176                        0.010743                        0.005092  \n",
      "177                        0.016375                        0.007800  \n",
      "178                        0.000000                        0.000000  \n",
      "179                        0.008493                        0.006151  \n",
      "\n",
      "[180 rows x 10 columns]\n",
      "0\n",
      "1\n",
      "2\n",
      "3\n",
      "4\n",
      "5\n",
      "6\n",
      "7\n",
      "8\n",
      "9\n",
      "[0.572516, 4.98092]\n",
      "[2.35298, 31.8169]\n",
      "[1.06893, 15.9664]\n",
      "[0.838198, 11.9495]\n",
      "[1.54348, 5.99704]\n",
      "[10.1435, 39.8584]\n",
      "[5.14127, 19.9778]\n",
      "[3.76184, 14.9855]\n",
      "[0.000669586, 0.0499096]\n",
      "[1.00128, 1.98758]\n"
     ]
    },
    {
     "name": "stderr",
     "output_type": "stream",
     "text": [
      "/var/folders/_j/ptyc01811q5b1dg30hshtfzh0000gr/T/ipykernel_31843/1279011886.py:61: DeprecationWarning: `salib.sample.saltelli` will be removed in SALib 1.5. Please use `salib.sample.sobol`\n",
      "  param_values = saltelli.sample(problem, 1024)\n"
     ]
    },
    {
     "name": "stdout",
     "output_type": "stream",
     "text": [
      "           0         1         2         3        4        5         6  \\\n",
      "0    2.77049   5.32910   9.17043   7.23675  5.21731  32.2885  11.74730   \n",
      "1    3.61746  12.72040  12.80220   8.35094  2.05551  39.2948  10.69220   \n",
      "2    2.38790   7.65312  14.38840  10.16880  4.06018  28.3848  17.31130   \n",
      "3    3.76219  21.59860  11.81960   3.56951  2.52663  18.8133  10.60980   \n",
      "4    0.83687  10.96490   2.71685   3.73192  3.98974  30.5635   5.18740   \n",
      "..       ...       ...       ...       ...      ...      ...       ...   \n",
      "195  1.57167  20.55250   4.34630   4.02029  4.08107  32.4084  16.89020   \n",
      "196  3.87212  31.39530   3.95767   9.41722  3.54334  16.8671  10.51070   \n",
      "197  1.90693  19.14840   7.64500   4.70468  2.66861  22.9449  19.89110   \n",
      "198  2.88270  17.37540  14.74540  10.00510  4.58641  27.4414   8.65209   \n",
      "199  1.07599   4.21971   8.84592   3.88759  2.23291  12.5012  19.51450   \n",
      "\n",
      "            7         8        9  \n",
      "0    11.25900  0.013097  1.43362  \n",
      "1    11.99220  0.004829  1.53001  \n",
      "2    14.67180  0.047211  1.40449  \n",
      "3    13.70020  0.022132  1.26135  \n",
      "4    12.78330  0.030343  1.12255  \n",
      "..        ...       ...      ...  \n",
      "195   5.07841  0.032830  1.84092  \n",
      "196   9.41181  0.049537  1.68048  \n",
      "197   9.97930  0.006445  1.81205  \n",
      "198   7.70358  0.026859  1.86874  \n",
      "199   9.69607  0.004449  1.69471  \n",
      "\n",
      "[200 rows x 10 columns]\n",
      "     $V^{\\mathrm{max}}_{\\mathrm{LV}}$  $V^{\\mathrm{max}}_{\\mathrm{RV}}$  \\\n",
      "0                             172.979                           159.077   \n",
      "1                             168.686                           160.257   \n",
      "2                             168.445                           156.167   \n",
      "3                             168.895                           158.238   \n",
      "4                               0.000                             0.000   \n",
      "..                                ...                               ...   \n",
      "175                           175.570                           158.014   \n",
      "176                           168.614                           158.561   \n",
      "177                           174.918                           160.942   \n",
      "178                           171.678                           160.853   \n",
      "179                           165.898                           158.717   \n",
      "\n",
      "     $V^{\\mathrm{max}}_{\\mathrm{LA}}$  $V^{\\mathrm{max}}_{\\mathrm{RA}}$  \\\n",
      "0                             50.9788                           74.9687   \n",
      "1                             53.1136                           76.3100   \n",
      "2                             50.7619                           74.6201   \n",
      "3                             51.8467                           74.8101   \n",
      "4                              0.0000                            0.0000   \n",
      "..                                ...                               ...   \n",
      "175                           50.5815                           74.6075   \n",
      "176                           51.1598                           75.1441   \n",
      "177                           52.0379                           75.4976   \n",
      "178                           51.2676                           75.3607   \n",
      "179                           51.5602                           75.4853   \n",
      "\n",
      "     $\\overline{E_{ff,\\mathrm{LV}}}$  $\\overline{E_{ff,\\mathrm{RV}}}$  \\\n",
      "0                           0.021709                         0.012077   \n",
      "1                           0.014982                         0.008675   \n",
      "2                           0.015538                         0.008471   \n",
      "3                           0.015055                         0.009425   \n",
      "4                           0.000000                         0.000000   \n",
      "..                               ...                              ...   \n",
      "175                         0.025845                         0.016776   \n",
      "176                         0.014505                         0.009107   \n",
      "177                         0.023178                         0.012891   \n",
      "178                         0.016800                         0.010530   \n",
      "179                         0.011332                         0.007864   \n",
      "\n",
      "     $\\overline{E_{ff,\\mathrm{LA}}}$  $\\overline{E_{ff,\\mathrm{RA}}}$  \\\n",
      "0                           0.007269                         0.001179   \n",
      "1                           0.016464                         0.005329   \n",
      "2                           0.007089                         0.000596   \n",
      "3                           0.013558                         0.002119   \n",
      "4                           0.000000                         0.000000   \n",
      "..                               ...                              ...   \n",
      "175                         0.006320                        -0.000215   \n",
      "176                         0.008580                         0.001775   \n",
      "177                         0.011953                         0.002843   \n",
      "178                         0.009514                         0.002336   \n",
      "179                         0.009348                         0.002690   \n",
      "\n",
      "     $\\overline{E_{ff,\\mathrm{V}}}$  $\\overline{E_{ff,\\mathrm{A}}}$  \n",
      "0                          0.018979                        0.003270  \n",
      "1                          0.013158                        0.009285  \n",
      "2                          0.013556                        0.002831  \n",
      "3                          0.013468                        0.006060  \n",
      "4                          0.000000                        0.000000  \n",
      "..                              ...                             ...  \n",
      "175                        0.023320                        0.002001  \n",
      "176                        0.012960                        0.004105  \n",
      "177                        0.020251                        0.006022  \n",
      "178                        0.014990                        0.004808  \n",
      "179                        0.010316                        0.005033  \n",
      "\n",
      "[180 rows x 10 columns]\n",
      "0\n",
      "1\n",
      "2\n",
      "3\n",
      "4\n",
      "5\n",
      "6\n",
      "7\n",
      "8\n",
      "9\n",
      "[0.62439, 4.98092]\n",
      "[2.00623, 31.9479]\n",
      "[1.06893, 15.9664]\n",
      "[0.889973, 11.9495]\n",
      "[1.50603, 5.99704]\n",
      "[10.1435, 39.8584]\n",
      "[5.23618, 19.9778]\n",
      "[3.76184, 14.9855]\n",
      "[0.000669586, 0.0499096]\n",
      "[1.00128, 1.99595]\n"
     ]
    },
    {
     "name": "stderr",
     "output_type": "stream",
     "text": [
      "/var/folders/_j/ptyc01811q5b1dg30hshtfzh0000gr/T/ipykernel_31843/1279011886.py:61: DeprecationWarning: `salib.sample.saltelli` will be removed in SALib 1.5. Please use `salib.sample.sobol`\n",
      "  param_values = saltelli.sample(problem, 1024)\n"
     ]
    },
    {
     "name": "stdout",
     "output_type": "stream",
     "text": [
      "           0         1         2         3        4        5         6  \\\n",
      "0    2.77049   5.32910   9.17043   7.23675  5.21731  32.2885  11.74730   \n",
      "1    3.61746  12.72040  12.80220   8.35094  2.05551  39.2948  10.69220   \n",
      "2    2.38790   7.65312  14.38840  10.16880  4.06018  28.3848  17.31130   \n",
      "3    3.76219  21.59860  11.81960   3.56951  2.52663  18.8133  10.60980   \n",
      "4    0.83687  10.96490   2.71685   3.73192  3.98974  30.5635   5.18740   \n",
      "..       ...       ...       ...       ...      ...      ...       ...   \n",
      "195  1.57167  20.55250   4.34630   4.02029  4.08107  32.4084  16.89020   \n",
      "196  3.87212  31.39530   3.95767   9.41722  3.54334  16.8671  10.51070   \n",
      "197  1.90693  19.14840   7.64500   4.70468  2.66861  22.9449  19.89110   \n",
      "198  2.88270  17.37540  14.74540  10.00510  4.58641  27.4414   8.65209   \n",
      "199  1.07599   4.21971   8.84592   3.88759  2.23291  12.5012  19.51450   \n",
      "\n",
      "            7         8        9  \n",
      "0    11.25900  0.013097  1.43362  \n",
      "1    11.99220  0.004829  1.53001  \n",
      "2    14.67180  0.047211  1.40449  \n",
      "3    13.70020  0.022132  1.26135  \n",
      "4    12.78330  0.030343  1.12255  \n",
      "..        ...       ...      ...  \n",
      "195   5.07841  0.032830  1.84092  \n",
      "196   9.41181  0.049537  1.68048  \n",
      "197   9.97930  0.006445  1.81205  \n",
      "198   7.70358  0.026859  1.86874  \n",
      "199   9.69607  0.004449  1.69471  \n",
      "\n",
      "[200 rows x 10 columns]\n",
      "     $V^{\\mathrm{max}}_{\\mathrm{LV}}$  $V^{\\mathrm{max}}_{\\mathrm{RV}}$  \\\n",
      "0                             121.079                           104.837   \n",
      "1                             118.298                           105.021   \n",
      "2                             118.126                           103.374   \n",
      "3                             118.464                           104.345   \n",
      "4                               0.000                             0.000   \n",
      "..                                ...                               ...   \n",
      "175                           122.334                           104.487   \n",
      "176                           118.482                           104.335   \n",
      "177                           122.352                           105.675   \n",
      "178                           120.598                           105.479   \n",
      "179                           116.692                           104.353   \n",
      "\n",
      "     $V^{\\mathrm{max}}_{\\mathrm{LA}}$  $V^{\\mathrm{max}}_{\\mathrm{RA}}$  \\\n",
      "0                             52.1234                           34.7371   \n",
      "1                             54.2246                           35.2954   \n",
      "2                             51.8452                           34.5460   \n",
      "3                             52.8841                           34.6690   \n",
      "4                              0.0000                            0.0000   \n",
      "..                                ...                               ...   \n",
      "175                           51.7094                           34.4814   \n",
      "176                           52.2679                           34.8141   \n",
      "177                           53.1839                           34.9787   \n",
      "178                           52.5095                           34.8913   \n",
      "179                           52.6785                           34.9183   \n",
      "\n",
      "     $\\overline{E_{ff,\\mathrm{LV}}}$  $\\overline{E_{ff,\\mathrm{RV}}}$  \\\n",
      "0                           0.015429                         0.006066   \n",
      "1                           0.010379                         0.004381   \n",
      "2                           0.010943                         0.004131   \n",
      "3                           0.010470                         0.004828   \n",
      "4                           0.000000                         0.000000   \n",
      "..                               ...                              ...   \n",
      "175                         0.017930                         0.007798   \n",
      "176                         0.010247                         0.004540   \n",
      "177                         0.016357                         0.006598   \n",
      "178                         0.011784                         0.005363   \n",
      "179                         0.007970                         0.003942   \n",
      "\n",
      "     $\\overline{E_{ff,\\mathrm{LA}}}$  $\\overline{E_{ff,\\mathrm{RA}}}$  \\\n",
      "0                           0.007656                         0.000665   \n",
      "1                           0.017177                         0.002990   \n",
      "2                           0.007686                         0.000160   \n",
      "3                           0.015197                         0.000966   \n",
      "4                           0.000000                         0.000000   \n",
      "..                               ...                              ...   \n",
      "175                         0.007352                        -0.000317   \n",
      "176                         0.008944                         0.000982   \n",
      "177                         0.012631                         0.001620   \n",
      "178                         0.010130                         0.001443   \n",
      "179                         0.009812                         0.001479   \n",
      "\n",
      "     $\\overline{E_{ff,\\mathrm{V}}}$  $\\overline{E_{ff,\\mathrm{A}}}$  \n",
      "0                          0.012603                        0.003255  \n",
      "1                          0.008549                        0.008211  \n",
      "2                          0.008895                        0.002947  \n",
      "3                          0.008771                        0.006170  \n",
      "4                          0.000000                        0.000000  \n",
      "..                              ...                             ...  \n",
      "175                        0.014896                        0.002524  \n",
      "176                        0.008520                        0.003905  \n",
      "177                        0.013403                        0.005695  \n",
      "178                        0.009833                        0.004609  \n",
      "179                        0.006744                        0.004547  \n",
      "\n",
      "[180 rows x 10 columns]\n",
      "0\n",
      "1\n",
      "2\n",
      "3\n",
      "4\n",
      "5\n",
      "6\n",
      "7\n",
      "8\n",
      "9\n",
      "[0.572516, 4.98092]\n",
      "[2.35298, 31.9479]\n",
      "[1.06893, 15.9664]\n",
      "[0.7678, 11.9495]\n",
      "[1.50603, 5.99704]\n",
      "[10.1435, 39.8584]\n",
      "[5.04584, 19.9778]\n",
      "[3.76184, 14.9855]\n",
      "[0.000669586, 0.0499096]\n",
      "[1.00128, 1.99595]\n"
     ]
    },
    {
     "name": "stderr",
     "output_type": "stream",
     "text": [
      "/var/folders/_j/ptyc01811q5b1dg30hshtfzh0000gr/T/ipykernel_31843/1279011886.py:61: DeprecationWarning: `salib.sample.saltelli` will be removed in SALib 1.5. Please use `salib.sample.sobol`\n",
      "  param_values = saltelli.sample(problem, 1024)\n"
     ]
    }
   ],
   "source": [
    "meshes = [54, 41, 42, 43, 44]\n",
    "\n",
    "for m in meshes:\n",
    "\n",
    "    mesh=m\n",
    "\n",
    "    X_all = pd.read_csv(r'/Users/pmzcwl/Library/CloudStorage/OneDrive-TheUniversityofNottingham/shared_simulations/mechanics/scenario_'+str(mesh)+'/X.txt',index_col=None,delim_whitespace=True,header=None)\n",
    "    # X_all.columns=x_labels.values.squeeze().tolist()\n",
    "    print(X_all)\n",
    "    \n",
    "    mask = pd.read_csv(r'/Users/pmzcwl/Library/CloudStorage/OneDrive-TheUniversityofNottingham/shared_simulations/mechanics/scenario_'+str(mesh)+'/output_mask.txt',index_col=None,delim_whitespace=True,header=None)\n",
    "    \n",
    "    y_labels=pd.read_csv(r'/Users/pmzcwl/Library/CloudStorage/OneDrive-TheUniversityofNottingham/shared_simulations/mechanics/scenario_12/ylabels.txt',delim_whitespace=True,header=None)\n",
    "    \n",
    "    \n",
    "    y_all = pd.read_csv(r'/Users/pmzcwl/Library/CloudStorage/OneDrive-TheUniversityofNottingham/shared_simulations/mechanics/scenario_'+str(mesh)+'/Y.txt',index_col=None,delim_whitespace=True,header=None)\n",
    "    y_all.columns=y_labels.values.squeeze().tolist()\n",
    "    print(y_all)\n",
    "    \n",
    "    input_masked = X_all.copy().iloc[0:mask.shape[0]]\n",
    "    input_masked=input_masked.iloc[np.array(mask==1),]\n",
    "    y_all=y_all.iloc[np.array(mask==1),]\n",
    "    input_masked.index = y_all.index\n",
    "    \n",
    "    y_train = torch.tensor(y_all.values)\n",
    "    x_train = torch.tensor(input_masked.values)\n",
    "    \n",
    "    emulator = GPE.ensemble(x_train,y_train,mean_func=\"linear\",training_iter=500)\n",
    "    \n",
    "    nDim = input_masked.shape[1]\n",
    "    boundsMaxMin = []\n",
    "    for i in range(nDim):\n",
    "        boundsMaxMin.append([np.min(input_masked.iloc[:,i]),np.max(input_masked.iloc[:,i])])\n",
    "        print(boundsMaxMin[i])\n",
    "    \n",
    "    x_labels=[1,2,3,4,5,6,7,8,9,10]\n",
    "    \n",
    "    ##### from SALib.sample import saltelli\n",
    "    from SALib.sample import saltelli\n",
    "    from SALib.analyze import sobol\n",
    "    from SALib.test_functions import Ishigami\n",
    "    import numpy as np\n",
    "    \n",
    "    # Define the model inputs\n",
    "    problem = {\n",
    "        'num_vars': nDim,\n",
    "        'names': x_labels,\n",
    "        'bounds': boundsMaxMin\n",
    "        #'bounds': [[-1, 1],\n",
    "         #          [-1, 1],\n",
    "          #         [-1, 1],\n",
    "           #        [-1, 1],\n",
    "            #       [-1, 1],\n",
    "             #      [-1, 1],\n",
    "              #     [-1, 1],\n",
    "               #    [-1, 1],\n",
    "                #   [-1,1]]\n",
    "    }\n",
    "    \n",
    "    # Generate samples\n",
    "    param_values = saltelli.sample(problem, 1024)\n",
    "    \n",
    "    data1 = torch.tensor(param_values)\n",
    "    #data1.columns = X_train.columns\n",
    "    \n",
    "    Ymean=emulator.predict_sample(data1,n=1000)\n",
    "    \n",
    "    nMod = y_all.shape[1]\n",
    "    Si = [ [] for _ in range(nMod) ]\n",
    "    nDim = input_masked.shape[1]\n",
    "    for j in range(Ymean.shape[1]):\n",
    "        for i in range(nMod):\n",
    "            Si[i].append(sobol.analyze(problem, Ymean[:,j,i].detach().numpy(), print_to_console=False,calc_second_order=True))\n",
    "    \n",
    "    \n",
    "    Si_first=np.zeros((nDim,nMod))\n",
    "    Si_total=np.zeros((nDim,nMod))\n",
    "    \n",
    "    for j in range(Ymean.shape[1]):\n",
    "        for i in range(nMod):\n",
    "            total_Si, first_Si, second_Si = Si[i][j].to_df()\n",
    "            Si_first[:,i] +=  first_Si.iloc[:,0]/Ymean.shape[1]\n",
    "            Si_total[:,i] +=  total_Si.iloc[:,0]/Ymean.shape[1]\n",
    "    \n",
    "    \n",
    "    \n",
    "    np.savetxt(\"Si_total_mech_\"+str(mesh)+\".csv\", Si_total, delimiter=\",\")\n",
    "    np.savetxt(\"Si_first_mech_\"+str(mesh)+\".csv\", Si_first, delimiter=\",\")"
   ]
  },
  {
   "cell_type": "code",
   "execution_count": null,
   "id": "d0117c68-865a-45fc-afa7-a1d68aeea58c",
   "metadata": {},
   "outputs": [],
   "source": []
  }
 ],
 "metadata": {
  "kernelspec": {
   "display_name": "Python 3 (ipykernel)",
   "language": "python",
   "name": "python3"
  },
  "language_info": {
   "codemirror_mode": {
    "name": "ipython",
    "version": 3
   },
   "file_extension": ".py",
   "mimetype": "text/x-python",
   "name": "python",
   "nbconvert_exporter": "python",
   "pygments_lexer": "ipython3",
   "version": "3.11.5"
  }
 },
 "nbformat": 4,
 "nbformat_minor": 5
}
