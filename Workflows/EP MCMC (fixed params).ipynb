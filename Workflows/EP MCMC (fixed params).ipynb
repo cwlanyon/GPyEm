{
 "cells": [
  {
   "cell_type": "code",
   "execution_count": 1,
   "id": "5ba866e8",
   "metadata": {},
   "outputs": [],
   "source": [
    "import math\n",
    "import torch\n",
    "import gpytorch\n",
    "import pandas as pd\n",
    "import numpy as np\n",
    "from matplotlib import pyplot as plt\n",
    "\n",
    "from GPyEm import GPE_ensemble as GPE\n",
    "\n",
    "import os\n",
    "from sklearn.linear_model import LinearRegression\n",
    "from sklearn.metrics import mean_squared_error, r2_score\n",
    "from sklearn.model_selection import train_test_split\n",
    "\n",
    "\n",
    "seed = 7\n",
    "#set_seed(seed)"
   ]
  },
  {
   "cell_type": "code",
   "execution_count": 2,
   "id": "7c20f924",
   "metadata": {},
   "outputs": [],
   "source": [
    "mesh=40\n",
    "filename = \"MCMC_output_mesh\"+str(mesh)+\".h5\"\n",
    "# y_val= [A_TAT,V_TAT]\n",
    "y_val = torch.tensor([134,134])"
   ]
  },
  {
   "cell_type": "code",
   "execution_count": 3,
   "id": "b81ecd1f",
   "metadata": {},
   "outputs": [
    {
     "name": "stdout",
     "output_type": "stream",
     "text": [
      "     CV_ventricles  k_ventricles    k_FEC  CV_atria   k_atria     k_BB\n",
      "0         0.606444      0.442714  5.53288  0.317814  0.376440  1.35358\n",
      "1         0.518476      0.304389  6.83032  0.628421  0.237364  1.25791\n",
      "2         0.641101      0.239081  5.82181  1.020680  0.437033  5.30559\n",
      "3         0.750099      0.373713  4.49537  0.526532  0.444927  2.07317\n",
      "4         0.689263      0.388615  2.34609  0.556797  0.477035  2.36587\n",
      "..             ...           ...      ...       ...       ...      ...\n",
      "115       0.545148      0.260282  1.41140  0.982380  0.242211  2.02864\n",
      "116       0.407284      0.272427  1.55631  0.353259  0.340049  1.65963\n",
      "117       0.796166      0.465371  7.16628  0.539272  0.228129  1.68568\n",
      "118       0.752534      0.476168  3.40841  0.386740  0.264407  5.40274\n",
      "119       0.687991      0.318799  6.32706  0.767307  0.234231  4.38626\n",
      "\n",
      "[120 rows x 6 columns]\n"
     ]
    }
   ],
   "source": [
    "x_labels=pd.read_csv(r'/Users/pmzcwl/Library/CloudStorage/OneDrive-TheUniversityofNottingham/shared_simulations/EP/scenario_13/xlabels.txt',delim_whitespace=True,header=None)\n",
    "\n",
    "\n",
    "X_all = pd.read_csv(r'/Users/pmzcwl/Library/CloudStorage/OneDrive-TheUniversityofNottingham/shared_simulations/EP/scenario_'+str(mesh)+'/X.txt',index_col=None,delim_whitespace=True,header=None)\n",
    "X_all.columns=x_labels.values.squeeze().tolist()\n",
    "print(X_all)"
   ]
  },
  {
   "cell_type": "code",
   "execution_count": 4,
   "id": "121230ab",
   "metadata": {},
   "outputs": [
    {
     "name": "stdout",
     "output_type": "stream",
     "text": [
      "        A_TAT     V_TAT\n",
      "0    326.3430  100.5180\n",
      "1    183.9530  130.7160\n",
      "2     78.6365  115.3240\n",
      "3    174.7200   86.9669\n",
      "4    159.2430   95.3313\n",
      "..        ...       ...\n",
      "115  107.5570  140.7120\n",
      "116  284.2610  182.8520\n",
      "117  205.9150   73.8898\n",
      "118  239.8420   80.7692\n",
      "119  125.1910   97.1398\n",
      "\n",
      "[120 rows x 2 columns]\n"
     ]
    }
   ],
   "source": [
    "y_labels=pd.read_csv(r'/Users/pmzcwl/Library/CloudStorage/OneDrive-TheUniversityofNottingham/shared_simulations/EP/scenario_13/ylabels.txt',delim_whitespace=True,header=None)\n",
    "\n",
    "\n",
    "y_all = pd.read_csv(r'/Users/pmzcwl/Library/CloudStorage/OneDrive-TheUniversityofNottingham/shared_simulations/EP/scenario_'+str(mesh)+'/Y.txt',index_col=None,delim_whitespace=True,header=None)\n",
    "y_all.columns=y_labels.values.squeeze().tolist()\n",
    "print(y_all)"
   ]
  },
  {
   "cell_type": "markdown",
   "id": "f1349dc8",
   "metadata": {},
   "source": [
    "# Emulator"
   ]
  },
  {
   "cell_type": "code",
   "execution_count": 5,
   "id": "12ed0178",
   "metadata": {},
   "outputs": [
    {
     "data": {
      "text/plain": [
       "A_TAT    352.723\n",
       "V_TAT    200.881\n",
       "dtype: float64"
      ]
     },
     "execution_count": 5,
     "metadata": {},
     "output_type": "execute_result"
    }
   ],
   "source": [
    "y_all.max()"
   ]
  },
  {
   "cell_type": "code",
   "execution_count": 6,
   "id": "110b9938",
   "metadata": {},
   "outputs": [],
   "source": [
    "input_masked = X_all.copy()"
   ]
  },
  {
   "cell_type": "code",
   "execution_count": 7,
   "id": "7226a5aa",
   "metadata": {},
   "outputs": [
    {
     "data": {
      "text/html": [
       "<div>\n",
       "<style scoped>\n",
       "    .dataframe tbody tr th:only-of-type {\n",
       "        vertical-align: middle;\n",
       "    }\n",
       "\n",
       "    .dataframe tbody tr th {\n",
       "        vertical-align: top;\n",
       "    }\n",
       "\n",
       "    .dataframe thead th {\n",
       "        text-align: right;\n",
       "    }\n",
       "</style>\n",
       "<table border=\"1\" class=\"dataframe\">\n",
       "  <thead>\n",
       "    <tr style=\"text-align: right;\">\n",
       "      <th></th>\n",
       "      <th>A_TAT</th>\n",
       "      <th>V_TAT</th>\n",
       "    </tr>\n",
       "  </thead>\n",
       "  <tbody>\n",
       "    <tr>\n",
       "      <th>0</th>\n",
       "      <td>326.3430</td>\n",
       "      <td>100.5180</td>\n",
       "    </tr>\n",
       "    <tr>\n",
       "      <th>1</th>\n",
       "      <td>183.9530</td>\n",
       "      <td>130.7160</td>\n",
       "    </tr>\n",
       "    <tr>\n",
       "      <th>2</th>\n",
       "      <td>78.6365</td>\n",
       "      <td>115.3240</td>\n",
       "    </tr>\n",
       "    <tr>\n",
       "      <th>3</th>\n",
       "      <td>174.7200</td>\n",
       "      <td>86.9669</td>\n",
       "    </tr>\n",
       "    <tr>\n",
       "      <th>4</th>\n",
       "      <td>159.2430</td>\n",
       "      <td>95.3313</td>\n",
       "    </tr>\n",
       "    <tr>\n",
       "      <th>...</th>\n",
       "      <td>...</td>\n",
       "      <td>...</td>\n",
       "    </tr>\n",
       "    <tr>\n",
       "      <th>115</th>\n",
       "      <td>107.5570</td>\n",
       "      <td>140.7120</td>\n",
       "    </tr>\n",
       "    <tr>\n",
       "      <th>116</th>\n",
       "      <td>284.2610</td>\n",
       "      <td>182.8520</td>\n",
       "    </tr>\n",
       "    <tr>\n",
       "      <th>117</th>\n",
       "      <td>205.9150</td>\n",
       "      <td>73.8898</td>\n",
       "    </tr>\n",
       "    <tr>\n",
       "      <th>118</th>\n",
       "      <td>239.8420</td>\n",
       "      <td>80.7692</td>\n",
       "    </tr>\n",
       "    <tr>\n",
       "      <th>119</th>\n",
       "      <td>125.1910</td>\n",
       "      <td>97.1398</td>\n",
       "    </tr>\n",
       "  </tbody>\n",
       "</table>\n",
       "<p>120 rows × 2 columns</p>\n",
       "</div>"
      ],
      "text/plain": [
       "        A_TAT     V_TAT\n",
       "0    326.3430  100.5180\n",
       "1    183.9530  130.7160\n",
       "2     78.6365  115.3240\n",
       "3    174.7200   86.9669\n",
       "4    159.2430   95.3313\n",
       "..        ...       ...\n",
       "115  107.5570  140.7120\n",
       "116  284.2610  182.8520\n",
       "117  205.9150   73.8898\n",
       "118  239.8420   80.7692\n",
       "119  125.1910   97.1398\n",
       "\n",
       "[120 rows x 2 columns]"
      ]
     },
     "execution_count": 7,
     "metadata": {},
     "output_type": "execute_result"
    }
   ],
   "source": [
    "y_all"
   ]
  },
  {
   "cell_type": "code",
   "execution_count": 8,
   "id": "50a91180",
   "metadata": {},
   "outputs": [],
   "source": [
    "y_train = torch.tensor(y_all.values)\n",
    "x_train = torch.tensor(X_all[0:y_all.shape[0]].values)"
   ]
  },
  {
   "cell_type": "code",
   "execution_count": 9,
   "id": "94627afb",
   "metadata": {},
   "outputs": [
    {
     "data": {
      "text/plain": [
       "[<matplotlib.lines.Line2D at 0x2ac1f87d0>]"
      ]
     },
     "execution_count": 9,
     "metadata": {},
     "output_type": "execute_result"
    },
    {
     "data": {
      "image/png": "[encoded data removed]",
      "text/plain": [
       "<Figure size 640x480 with 1 Axes>"
      ]
     },
     "metadata": {},
     "output_type": "display_data"
    }
   ],
   "source": [
    "plt.plot(x_train[:,3],y_train[:,0],'o')"
   ]
  },
  {
   "cell_type": "code",
   "execution_count": 10,
   "id": "5b7a1c9d",
   "metadata": {},
   "outputs": [
    {
     "data": {
      "text/plain": [
       "tensor([[326.3430, 100.5180],\n",
       "        [183.9530, 130.7160],\n",
       "        [ 78.6365, 115.3240],\n",
       "        [174.7200,  86.9669],\n",
       "        [159.2430,  95.3313],\n",
       "        [159.4960,  85.7816],\n",
       "        [111.5320, 160.8760],\n",
       "        [128.2950, 126.4680],\n",
       "        [ 85.2694,  95.2810],\n",
       "        [ 96.5890, 133.9790],\n",
       "        [122.4770, 101.4700],\n",
       "        [209.7640, 123.8980],\n",
       "        [ 96.7988, 122.7850],\n",
       "        [119.8950, 164.1450],\n",
       "        [116.8980, 114.6310],\n",
       "        [192.3800,  90.0702],\n",
       "        [164.9690,  84.7386],\n",
       "        [126.4440, 105.3290],\n",
       "        [208.7870, 200.8810],\n",
       "        [110.6070,  84.1817],\n",
       "        [ 85.8296,  94.4645],\n",
       "        [ 94.2734, 133.3010],\n",
       "        [308.7260, 152.8160],\n",
       "        [185.4290, 141.9500],\n",
       "        [ 87.5541, 118.7400],\n",
       "        [292.7550, 122.8820],\n",
       "        [111.8240, 163.7690],\n",
       "        [ 79.7282, 104.8940],\n",
       "        [118.5210,  93.8477],\n",
       "        [135.1400, 150.6880],\n",
       "        [133.8990, 105.4380],\n",
       "        [213.3040, 112.7240],\n",
       "        [105.2660,  88.9114],\n",
       "        [144.9400, 118.1730],\n",
       "        [ 88.7469,  85.4569],\n",
       "        [234.9510, 109.9640],\n",
       "        [210.0670, 139.8770],\n",
       "        [154.6920, 151.1510],\n",
       "        [213.8100, 148.5080],\n",
       "        [212.0060, 144.7380],\n",
       "        [140.6160, 146.4220],\n",
       "        [178.7030, 105.9290],\n",
       "        [100.9650,  96.6333],\n",
       "        [105.9980,  93.7329],\n",
       "        [255.9120, 107.4170],\n",
       "        [155.9080, 154.9930],\n",
       "        [167.4480, 111.2210],\n",
       "        [126.5980, 150.7230],\n",
       "        [140.2750, 126.3440],\n",
       "        [ 84.9499, 120.5170],\n",
       "        [250.8060, 110.5260],\n",
       "        [136.2710, 116.0700],\n",
       "        [148.0770,  84.7427],\n",
       "        [138.0720, 133.1870],\n",
       "        [280.5290,  94.5532],\n",
       "        [256.1370, 155.4590],\n",
       "        [215.0970, 127.0170],\n",
       "        [131.8230, 174.9490],\n",
       "        [213.9740,  94.5235],\n",
       "        [157.8880, 138.7920],\n",
       "        [109.9250, 171.6110],\n",
       "        [ 98.0260, 155.7360],\n",
       "        [ 85.7153,  75.2065],\n",
       "        [113.3310,  95.9941],\n",
       "        [110.5080, 114.7180],\n",
       "        [230.9390,  83.0684],\n",
       "        [148.5140, 157.6410],\n",
       "        [116.4840, 124.7290],\n",
       "        [104.2670, 129.9960],\n",
       "        [ 95.7242, 126.4630],\n",
       "        [ 99.4381,  98.8020],\n",
       "        [ 95.8414, 112.5000],\n",
       "        [174.0590, 124.9550],\n",
       "        [187.1410, 127.0520],\n",
       "        [115.9240,  88.8389],\n",
       "        [146.2790, 190.9260],\n",
       "        [125.6380, 119.3550],\n",
       "        [113.1410,  96.3727],\n",
       "        [178.5230, 127.1050],\n",
       "        [116.2900, 130.8890],\n",
       "        [157.8190,  88.0617],\n",
       "        [262.0690,  86.2222],\n",
       "        [302.1250,  84.2213],\n",
       "        [122.3030, 135.4850],\n",
       "        [120.1040, 152.2800],\n",
       "        [274.6940,  87.2672],\n",
       "        [112.4730, 130.7550],\n",
       "        [352.7230,  99.3953],\n",
       "        [137.3270, 150.8300],\n",
       "        [199.1000, 151.0940],\n",
       "        [157.6460, 121.3450],\n",
       "        [178.2130, 109.4280],\n",
       "        [128.5020, 139.6180],\n",
       "        [113.6650, 153.4910],\n",
       "        [116.4440, 116.3340],\n",
       "        [164.5600, 128.2830],\n",
       "        [ 91.7448,  77.2508],\n",
       "        [166.3410, 120.4840],\n",
       "        [209.0770,  95.4052],\n",
       "        [127.9250,  78.5215],\n",
       "        [111.8990, 138.8330],\n",
       "        [138.8730,  91.6633],\n",
       "        [ 91.3419, 133.1940],\n",
       "        [ 92.4707, 105.0540],\n",
       "        [ 84.4095,  96.5043],\n",
       "        [146.5720, 122.8590],\n",
       "        [202.4160, 105.6560],\n",
       "        [106.1720,  92.0199],\n",
       "        [287.4240, 114.3660],\n",
       "        [215.8940, 167.7440],\n",
       "        [226.6200, 101.1260],\n",
       "        [117.6710, 133.3810],\n",
       "        [162.6550,  94.2497],\n",
       "        [178.8880, 115.2730],\n",
       "        [136.9860, 105.5230],\n",
       "        [107.5570, 140.7120],\n",
       "        [284.2610, 182.8520],\n",
       "        [205.9150,  73.8898],\n",
       "        [239.8420,  80.7692],\n",
       "        [125.1910,  97.1398]], dtype=torch.float64)"
      ]
     },
     "execution_count": 10,
     "metadata": {},
     "output_type": "execute_result"
    }
   ],
   "source": [
    "y_train"
   ]
  },
  {
   "cell_type": "code",
   "execution_count": 11,
   "id": "b1e17ce0",
   "metadata": {},
   "outputs": [
    {
     "data": {
      "text/plain": [
       "torch.Size([120, 6])"
      ]
     },
     "execution_count": 11,
     "metadata": {},
     "output_type": "execute_result"
    }
   ],
   "source": [
    "x_train.shape"
   ]
  },
  {
   "cell_type": "code",
   "execution_count": 12,
   "id": "670120df",
   "metadata": {},
   "outputs": [
    {
     "name": "stdout",
     "output_type": "stream",
     "text": [
      "0\n",
      "1\n"
     ]
    }
   ],
   "source": [
    "emulator = GPE.ensemble(x_train,y_train,mean_func=\"linear\",training_iter=500)"
   ]
  },
  {
   "cell_type": "code",
   "execution_count": 13,
   "id": "0a066022",
   "metadata": {},
   "outputs": [
    {
     "name": "stdout",
     "output_type": "stream",
     "text": [
      "[0.382351, 0.799717]\n",
      "[0.201679, 0.499831]\n",
      "[1.24091, 8.38479]\n",
      "[0.300623, 1.02851]\n",
      "[0.200837, 0.497599]\n",
      "[1.01838, 5.67135]\n"
     ]
    }
   ],
   "source": [
    "nDim = input_masked.shape[1]\n",
    "boundsMaxMin = []\n",
    "for i in range(nDim):\n",
    "    boundsMaxMin.append([np.min(input_masked.iloc[:,i]),np.max(input_masked.iloc[:,i])])\n",
    "    print(boundsMaxMin[i])"
   ]
  },
  {
   "cell_type": "code",
   "execution_count": 14,
   "id": "5b05f92a",
   "metadata": {},
   "outputs": [
    {
     "name": "stderr",
     "output_type": "stream",
     "text": [
      "/var/folders/_j/ptyc01811q5b1dg30hshtfzh0000gr/T/ipykernel_90403/2553582652.py:24: DeprecationWarning: `salib.sample.saltelli` will be removed in SALib 1.5. Please use `salib.sample.sobol`\n",
      "  param_values = saltelli.sample(problem, 1024)\n"
     ]
    }
   ],
   "source": [
    "##### from SALib.sample import saltelli\n",
    "from SALib.sample import saltelli\n",
    "from SALib.analyze import sobol\n",
    "from SALib.test_functions import Ishigami\n",
    "import numpy as np\n",
    "\n",
    "# Define the model inputs\n",
    "problem = {\n",
    "    'num_vars': nDim,\n",
    "    'names': x_labels,\n",
    "    'bounds': boundsMaxMin\n",
    "    #'bounds': [[-1, 1],\n",
    "     #          [-1, 1],\n",
    "      #         [-1, 1],\n",
    "       #        [-1, 1],\n",
    "        #       [-1, 1],\n",
    "         #      [-1, 1],\n",
    "          #     [-1, 1],\n",
    "           #    [-1, 1],\n",
    "            #   [-1,1]]\n",
    "}\n",
    "\n",
    "# Generate samples\n",
    "param_values = saltelli.sample(problem, 1024)\n",
    "\n",
    "data1 = torch.tensor(param_values)\n",
    "#data1.columns = X_train.columns\n",
    "\n",
    "Ymean=emulator.predict(data1)"
   ]
  },
  {
   "cell_type": "code",
   "execution_count": 15,
   "id": "280aaa98",
   "metadata": {},
   "outputs": [
    {
     "data": {
      "text/plain": [
       "torch.Size([14336, 6])"
      ]
     },
     "execution_count": 15,
     "metadata": {},
     "output_type": "execute_result"
    }
   ],
   "source": [
    "data1.shape"
   ]
  },
  {
   "cell_type": "code",
   "execution_count": 16,
   "id": "79378723",
   "metadata": {},
   "outputs": [
    {
     "name": "stdout",
     "output_type": "stream",
     "text": [
      "                        ST   ST_conf\n",
      "(CV_ventricles,)  0.000059  0.000010\n",
      "(k_ventricles,)   0.000084  0.000017\n",
      "(k_FEC,)          0.000281  0.000072\n",
      "(CV_atria,)       0.936521  0.065144\n",
      "(k_atria,)        0.026762  0.003187\n",
      "(k_BB,)           0.039929  0.004363\n",
      "                        S1   S1_conf\n",
      "(CV_ventricles,)  0.000009  0.000671\n",
      "(k_ventricles,)   0.000066  0.000787\n",
      "(k_FEC,)          0.000080  0.001438\n",
      "(CV_atria,)       0.930984  0.085540\n",
      "(k_atria,)        0.022708  0.013627\n",
      "(k_BB,)           0.034784  0.019288\n",
      "Empty DataFrame\n",
      "Columns: [S2, S2_conf]\n",
      "Index: []\n",
      "                        ST   ST_conf\n",
      "(CV_ventricles,)  0.857209  0.062856\n",
      "(k_ventricles,)   0.133500  0.012999\n",
      "(k_FEC,)          0.016177  0.002232\n",
      "(CV_atria,)       0.000329  0.000098\n",
      "(k_atria,)        0.000633  0.000171\n",
      "(k_BB,)           0.000090  0.000016\n",
      "                        S1   S1_conf\n",
      "(CV_ventricles,)  0.850355  0.077060\n",
      "(k_ventricles,)   0.127745  0.029459\n",
      "(k_FEC,)          0.013178  0.011611\n",
      "(CV_atria,)      -0.000266  0.001760\n",
      "(k_atria,)        0.000842  0.002116\n",
      "(k_BB,)          -0.000095  0.000977\n",
      "Empty DataFrame\n",
      "Columns: [S2, S2_conf]\n",
      "Index: []\n"
     ]
    }
   ],
   "source": [
    "Si = []\n",
    "nMod = y_all.shape[1]\n",
    "nDim = input_masked.shape[1]\n",
    "for i in range(nMod):\n",
    "    Si.append(sobol.analyze(problem, Ymean[:,i].detach().numpy(), print_to_console=True,calc_second_order=True))"
   ]
  },
  {
   "cell_type": "code",
   "execution_count": 17,
   "id": "be973aac",
   "metadata": {},
   "outputs": [],
   "source": [
    "Si_first=np.zeros((nDim,nMod))\n",
    "Si_total=np.zeros((nDim,nMod))\n",
    "for i in range(nMod):\n",
    "    total_Si, first_Si, second_Si = Si[i].to_df()\n",
    "    Si_first[:,i] =  first_Si.iloc[:,0]\n",
    "    Si_total[:,i] =  total_Si.iloc[:,0]\n"
   ]
  },
  {
   "cell_type": "code",
   "execution_count": null,
   "id": "dce4441b",
   "metadata": {},
   "outputs": [],
   "source": [
    "x_labels.values.squeeze().tolist()"
   ]
  },
  {
   "cell_type": "markdown",
   "id": "9057aa0c",
   "metadata": {},
   "source": [
    "y_all.columns.tolist()"
   ]
  },
  {
   "cell_type": "code",
   "execution_count": null,
   "id": "47ad6507",
   "metadata": {},
   "outputs": [],
   "source": [
    "['PCa_b',\n",
    " 'Tref',\n",
    " 'perm50',\n",
    " 'CV_ventricles',\n",
    " 'a_ventricles',\n",
    " 'EDP_lv',\n",
    " 'EDP_rv',\n",
    " 'Rsys',\n",
    " 'Rpulm']"
   ]
  },
  {
   "cell_type": "code",
   "execution_count": null,
   "id": "b6b05bcd",
   "metadata": {},
   "outputs": [],
   "source": [
    "inputs = X_all.columns.tolist()\n",
    "outputs = y_all.columns.tolist()\n",
    "fig, ax = plt.subplots()\n",
    "im = ax.imshow(Si_first[0:28],cmap='magma_r',vmin=0,vmax=1)\n",
    "\n",
    "ax.set_xticks(np.arange(len(outputs)),labels=outputs)\n",
    "ax.set_yticks(np.arange(len(inputs)), labels=inputs)\n",
    "plt.setp(ax.get_xticklabels(), rotation=60, ha=\"right\",\n",
    "         rotation_mode=\"anchor\");\n",
    "\n",
    "plt.colorbar(im,fraction=0.015, pad=0.04)"
   ]
  },
  {
   "cell_type": "code",
   "execution_count": null,
   "id": "1bae98e0",
   "metadata": {
    "scrolled": true
   },
   "outputs": [],
   "source": [
    "inputs = X_all.columns.tolist()\n",
    "outputs = y_all.columns.tolist()\n",
    "fig, ax = plt.subplots()\n",
    "im = ax.imshow(Si_total.T[0:28],cmap='magma_r',vmin=0,vmax=1)\n",
    "\n",
    "ax.set_yticks(np.arange(len(outputs)),labels=outputs)\n",
    "ax.set_xticks(np.arange(len(inputs)), labels=inputs)\n",
    "plt.setp(ax.get_xticklabels(), rotation=65, ha=\"right\",\n",
    "         rotation_mode=\"anchor\");\n",
    "\n",
    "plt.colorbar(im,fraction=0.015, pad=0.04)"
   ]
  },
  {
   "cell_type": "code",
   "execution_count": null,
   "id": "e70f37bf",
   "metadata": {},
   "outputs": [],
   "source": [
    "centre = (np.array(boundsMaxMin)[:,1]+np.array(boundsMaxMin)[:,0])/2"
   ]
  },
  {
   "cell_type": "code",
   "execution_count": null,
   "id": "412fae50",
   "metadata": {},
   "outputs": [],
   "source": [
    "boundsMaxMin"
   ]
  },
  {
   "cell_type": "code",
   "execution_count": null,
   "id": "4b5130bf",
   "metadata": {},
   "outputs": [],
   "source": [
    "boundsMaxMin=np.array(boundsMaxMin)"
   ]
  },
  {
   "cell_type": "code",
   "execution_count": null,
   "id": "3b32c580",
   "metadata": {},
   "outputs": [],
   "source": [
    "np.array(boundsMaxMin)[[0,3],0]"
   ]
  },
  {
   "cell_type": "code",
   "execution_count": null,
   "id": "d1755262",
   "metadata": {},
   "outputs": [],
   "source": [
    "np.array(boundsMaxMin)[[0,3],1]"
   ]
  },
  {
   "cell_type": "code",
   "execution_count": null,
   "id": "54c82c47",
   "metadata": {},
   "outputs": [],
   "source": [
    "def log_prior(theta):\n",
    "    \n",
    "    #if (np.array(boundsMaxMin)[:,0]<theta).all() and (theta<np.array(boundsMaxMin)[:,1]).all():\n",
    "        \n",
    "    if (np.array(boundsMaxMin)[[0,3],0]<theta).all() and (theta<np.array(boundsMaxMin)[[0,3],1]).all():\n",
    "\n",
    "        return 0.0\n",
    "    return -np.inf"
   ]
  },
  {
   "cell_type": "code",
   "execution_count": null,
   "id": "40a62e66",
   "metadata": {},
   "outputs": [],
   "source": [
    "def log_likelihood(x,emulator,y_val,obs_error,fix_loc):\n",
    "    #x=torch.tensor(x)[None]\n",
    "    test=fix_loc.copy()\n",
    "    test[:,0]=x[0]\n",
    "    test[:,3]=x[1]\n",
    "    \n",
    "    with gpytorch.settings.fast_pred_var(): #This line makes it fast!\n",
    "        ll =np.sum((emulator.ensemble_log_likelihood_obs_error(torch.tensor(test),y_val[None],obs_error)).detach().numpy())\n",
    "    return ll"
   ]
  },
  {
   "cell_type": "code",
   "execution_count": null,
   "id": "589ee9b5",
   "metadata": {},
   "outputs": [],
   "source": [
    "def log_prob(theta, emulator,y_val,obs_error,fix_loc):\n",
    "    \n",
    "    lp = log_prior(theta)\n",
    "    if not np.isfinite(lp):\n",
    "        return -np.inf\n",
    "    \n",
    "    return lp + log_likelihood(theta,emulator, y_val,obs_error,fix_loc)"
   ]
  },
  {
   "cell_type": "code",
   "execution_count": null,
   "id": "7d157a42",
   "metadata": {},
   "outputs": [],
   "source": [
    "import emcee"
   ]
  },
  {
   "cell_type": "code",
   "execution_count": null,
   "id": "5a18a928",
   "metadata": {},
   "outputs": [],
   "source": [
    "centre = (np.array(boundsMaxMin)[:,1]+np.array(boundsMaxMin)[:,0])/2\n",
    "ndim = 2\n",
    "nwalkers = 8\n",
    "p0 = np.random.uniform(0,1,(nwalkers,ndim))*(np.array(boundsMaxMin)[[0,3],1]-np.array(boundsMaxMin)[[0,3],0])+np.array(boundsMaxMin)[[0,3],0]\n",
    "#y_val = torch.tensor([80,134])\n",
    "obs_error=((y_val*0.05))**2"
   ]
  },
  {
   "cell_type": "code",
   "execution_count": null,
   "id": "3c578ab2",
   "metadata": {},
   "outputs": [],
   "source": [
    "y_val+2*((y_val*0.05))"
   ]
  },
  {
   "cell_type": "code",
   "execution_count": null,
   "id": "2b5440ca",
   "metadata": {},
   "outputs": [],
   "source": [
    "boundsMaxMin"
   ]
  },
  {
   "cell_type": "code",
   "execution_count": null,
   "id": "b93f3560",
   "metadata": {},
   "outputs": [],
   "source": [
    "obs_error"
   ]
  },
  {
   "cell_type": "code",
   "execution_count": null,
   "id": "8cec17c0",
   "metadata": {},
   "outputs": [],
   "source": [
    "fix_loc=centre[None]"
   ]
  },
  {
   "cell_type": "code",
   "execution_count": null,
   "id": "fc636e05",
   "metadata": {},
   "outputs": [],
   "source": [
    "# Set up the backend\n",
    "# Don't forget to clear it in case the file already exists\n",
    "\n",
    "backend = emcee.backends.HDFBackend(filename)\n",
    "backend.reset(nwalkers, ndim)\n",
    "\n",
    "sampler = emcee.EnsembleSampler(nwalkers, ndim, log_prob, args=[emulator,y_val,obs_error,fix_loc], backend=backend)\n",
    "\n"
   ]
  },
  {
   "cell_type": "code",
   "execution_count": null,
   "id": "513af79b",
   "metadata": {},
   "outputs": [],
   "source": [
    "sampler.run_mcmc(p0, 40000,progress=True)"
   ]
  },
  {
   "cell_type": "code",
   "execution_count": null,
   "id": "d0937d0d",
   "metadata": {},
   "outputs": [],
   "source": [
    "import corner\n",
    "\n",
    "tau = sampler.get_autocorr_time()\n",
    "burnin = int(2 * np.max(tau))\n",
    "thin = int(0.5 * np.min(tau))\n",
    "samples = sampler.get_chain(discard=burnin, flat=True, thin=thin)\n",
    "log_prob_samples = sampler.get_log_prob(discard=burnin, flat=True, thin=thin)\n",
    "#log_prior_samples = sampler.get_blobs(discard=burnin, flat=True, thin=thin)\n",
    "\n",
    "print(\"burn-in: {0}\".format(burnin))\n",
    "print(\"thin: {0}\".format(thin))\n",
    "print(\"flat chain shape: {0}\".format(samples.shape))"
   ]
  },
  {
   "cell_type": "code",
   "execution_count": null,
   "id": "2b7fdabb",
   "metadata": {},
   "outputs": [],
   "source": [
    "flat_samples = sampler.get_chain(discard=20000, thin=10, flat=True)\n",
    "print(flat_samples.shape)"
   ]
  },
  {
   "cell_type": "code",
   "execution_count": null,
   "id": "8386207b",
   "metadata": {},
   "outputs": [],
   "source": [
    "boundsMaxMin"
   ]
  },
  {
   "cell_type": "code",
   "execution_count": null,
   "id": "574fb7c0",
   "metadata": {},
   "outputs": [],
   "source": [
    "import corner\n",
    "\n",
    "fig = corner.corner(\n",
    "    flat_samples, labels=x_labels.values[[0,3]], label_kwargs=dict(fontsize=18)\n",
    ");"
   ]
  },
  {
   "cell_type": "code",
   "execution_count": null,
   "id": "73d8d74a",
   "metadata": {},
   "outputs": [],
   "source": [
    "fig, axes = plt.subplots(ndim, figsize=(10, 7), sharex=True)\n",
    "samples = sampler.get_chain()\n",
    "labels = x_labels.values\n",
    "for i in range(ndim):\n",
    "    ax = axes[i]\n",
    "    ax.plot(samples[:, :, i], \"k\", alpha=0.3)\n",
    "    ax.set_xlim(0, len(samples))\n",
    "    ax.set_ylabel(labels[i],rotation=0)\n",
    "    ax.yaxis.set_label_coords(-0.1, 0.5)\n",
    "\n",
    "\n",
    "axes[-1].set_xlabel(\"step number\");"
   ]
  },
  {
   "cell_type": "code",
   "execution_count": null,
   "id": "f255a6cf",
   "metadata": {},
   "outputs": [],
   "source": [
    "test=torch.tensor(centre)\n",
    "test[0]=flat_samples.mean(axis=0)[0]\n",
    "test[3]=flat_samples.mean(axis=0)[1]\n",
    "emulator.predict(test[None])"
   ]
  },
  {
   "cell_type": "code",
   "execution_count": null,
   "id": "b0e6771d",
   "metadata": {},
   "outputs": [],
   "source": [
    "flat_samples.mean(axis=0)"
   ]
  },
  {
   "cell_type": "code",
   "execution_count": null,
   "id": "e4dab19f",
   "metadata": {},
   "outputs": [],
   "source": [
    "flat_samples.std(axis=0)"
   ]
  },
  {
   "cell_type": "code",
   "execution_count": null,
   "id": "bea1ac96",
   "metadata": {},
   "outputs": [],
   "source": [
    "flat_samples.mean(axis=0)-flat_samples.std(axis=0)"
   ]
  },
  {
   "cell_type": "code",
   "execution_count": null,
   "id": "b5defc0c",
   "metadata": {},
   "outputs": [],
   "source": [
    "flat_samples.mean(axis=0)+flat_samples.std(axis=0)"
   ]
  },
  {
   "cell_type": "code",
   "execution_count": null,
   "id": "8e7760a7",
   "metadata": {},
   "outputs": [],
   "source": [
    "boundsMaxMin.T"
   ]
  },
  {
   "cell_type": "code",
   "execution_count": null,
   "id": "8304672e",
   "metadata": {},
   "outputs": [],
   "source": [
    "reader = emcee.backends.HDFBackend(filename)\n",
    "\n",
    "tau = reader.get_autocorr_time()\n",
    "burnin = int(2 * np.max(tau))\n",
    "thin = int(0.5 * np.min(tau))\n",
    "samples = reader.get_chain(discard=burnin, flat=True, thin=thin)"
   ]
  },
  {
   "cell_type": "code",
   "execution_count": null,
   "id": "6375f07d",
   "metadata": {},
   "outputs": [],
   "source": [
    "import corner\n",
    "\n",
    "fig = corner.corner(\n",
    "    samples, labels=x_labels.values[[0,3]], label_kwargs=dict(fontsize=18)\n",
    ");"
   ]
  },
  {
   "cell_type": "code",
   "execution_count": null,
   "id": "8c38a3bb",
   "metadata": {},
   "outputs": [],
   "source": []
  }
 ],
 "metadata": {
  "kernelspec": {
   "display_name": "Python 3 (ipykernel)",
   "language": "python",
   "name": "python3"
  },
  "language_info": {
   "codemirror_mode": {
    "name": "ipython",
    "version": 3
   },
   "file_extension": ".py",
   "mimetype": "text/x-python",
   "name": "python",
   "nbconvert_exporter": "python",
   "pygments_lexer": "ipython3",
   "version": "3.11.5"
  }
 },
 "nbformat": 4,
 "nbformat_minor": 5
}
